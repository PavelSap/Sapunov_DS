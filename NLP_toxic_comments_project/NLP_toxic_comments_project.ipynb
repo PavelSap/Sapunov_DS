{
  "cells": [
    {
      "cell_type": "markdown",
      "metadata": {
        "id": "2eu3DAmjMkOE"
      },
      "source": [
        "# Определение токсичных комментариев\n"
      ]
    },
    {
      "cell_type": "markdown",
      "metadata": {
        "id": "21XlQK-oMkI-"
      },
      "source": [
        "Имеется датасет с текстами-комментариями, в котором есть разметка, является ли комментарий токсичным.\n",
        "\n",
        "Моя задача заключается в том, чтобы на основе предоставленных данных обучить модель, которая в других текстах-комментариях будет искать токсичные комментарии (т.е.классифицировать комментарии). \n",
        "\n",
        "Я выполню задачу сначала с использование TFIDF в качестве признаков, а затем буду использовать BERT.\n",
        "\n",
        "Оценивать модели буду метрикой F1."
      ]
    },
    {
      "cell_type": "markdown",
      "metadata": {
        "id": "xoBwTzFPMkGa"
      },
      "source": [
        "Проведу декомпозицию задачи:\n",
        "1. Импортирую инструменты и проведу обзор данных.\n",
        "2. Использование для обучения TFIDF.\n",
        "\n",
        " Лемматизация, очистка.\n",
        "\n",
        "  Подгтовка признаков, разбиение на выборки.\n",
        "\n",
        "  Обучение двух моделей, проверка по метрике F1_score.\n",
        "\n",
        "3. Использование для обучения BERT."
      ]
    },
    {
      "cell_type": "markdown",
      "metadata": {
        "id": "a43_a5k6Mj7S"
      },
      "source": [
        "## Импорт библиотек и обзор данных"
      ]
    },
    {
      "cell_type": "code",
      "execution_count": null,
      "metadata": {
        "id": "8RrfpTnlbPKr"
      },
      "outputs": [],
      "source": [
        "!pip install torch\n",
        "!pip install transformers\n",
        "!pip install catboost\n",
        "!pip install spacy"
      ]
    },
    {
      "cell_type": "code",
      "execution_count": null,
      "metadata": {
        "id": "QwmiX6P1MTy-"
      },
      "outputs": [],
      "source": [
        "import numpy as np\n",
        "import pandas as pd\n",
        "from tqdm import notebook\n",
        "\n",
        "import torch\n",
        "import transformers\n",
        "import spacy\n",
        "\n",
        "import re\n",
        "\n",
        "import nltk\n",
        "from nltk.corpus import stopwords\n",
        "from sklearn.feature_extraction.text import CountVectorizer, TfidfVectorizer\n",
        "from transformers import AutoModel, AutoTokenizer\n",
        "\n",
        "from catboost import CatBoostRegressor, CatBoostClassifier, cv, Pool\n",
        "from sklearn.ensemble import RandomForestClassifier\n",
        "from sklearn.linear_model import LogisticRegression\n",
        "\n",
        "from sklearn.metrics import accuracy_score, f1_score, precision_recall_curve, precision_score, recall_score, roc_auc_score\n",
        "from sklearn.model_selection import cross_val_score, GridSearchCV, RandomizedSearchCV, train_test_split\n"
      ]
    },
    {
      "cell_type": "code",
      "execution_count": null,
      "metadata": {
        "id": "COJtb2CNxys_"
      },
      "outputs": [],
      "source": [
        "nlp = spacy.load(\"en_core_web_sm\") #сразу импортирую модель для лемматизации с английским языком"
      ]
    },
    {
      "cell_type": "code",
      "execution_count": null,
      "metadata": {
        "id": "iHC1kPOsMTwq"
      },
      "outputs": [],
      "source": [
        "import os\n",
        "\n",
        "pth1 = '/content/toxic_comments.csv'\n",
        "pth2 = '/datasets/toxic_comments.csv'\n",
        "\n",
        "if os.path.exists(pth1):\n",
        "  data = pd.read_csv(pth1)\n",
        "elif os.path.exists(pth2):\n",
        "  data = pd.read_csv(pth2)\n",
        "else:\n",
        "  print('Something is wrong')"
      ]
    },
    {
      "cell_type": "markdown",
      "metadata": {
        "id": "Y7vgL9DRnU9D"
      },
      "source": [
        "Возьму для TFIDF и для BERT весь датасет"
      ]
    },
    {
      "cell_type": "code",
      "execution_count": null,
      "metadata": {
        "colab": {
          "base_uri": "https://localhost:8080/",
          "height": 424
        },
        "id": "ltrz49LySFkM",
        "outputId": "b9d72c5b-4aa8-467a-c93b-9c12e6417ba7"
      },
      "outputs": [
        {
          "data": {
            "text/html": [
              "\n",
              "  <div id=\"df-e4973926-af4c-4213-b6db-d13059578daa\">\n",
              "    <div class=\"colab-df-container\">\n",
              "      <div>\n",
              "<style scoped>\n",
              "    .dataframe tbody tr th:only-of-type {\n",
              "        vertical-align: middle;\n",
              "    }\n",
              "\n",
              "    .dataframe tbody tr th {\n",
              "        vertical-align: top;\n",
              "    }\n",
              "\n",
              "    .dataframe thead th {\n",
              "        text-align: right;\n",
              "    }\n",
              "</style>\n",
              "<table border=\"1\" class=\"dataframe\">\n",
              "  <thead>\n",
              "    <tr style=\"text-align: right;\">\n",
              "      <th></th>\n",
              "      <th>text</th>\n",
              "      <th>toxic</th>\n",
              "    </tr>\n",
              "  </thead>\n",
              "  <tbody>\n",
              "    <tr>\n",
              "      <th>0</th>\n",
              "      <td>Explanation\\nWhy the edits made under my usern...</td>\n",
              "      <td>0</td>\n",
              "    </tr>\n",
              "    <tr>\n",
              "      <th>1</th>\n",
              "      <td>D'aww! He matches this background colour I'm s...</td>\n",
              "      <td>0</td>\n",
              "    </tr>\n",
              "    <tr>\n",
              "      <th>2</th>\n",
              "      <td>Hey man, I'm really not trying to edit war. It...</td>\n",
              "      <td>0</td>\n",
              "    </tr>\n",
              "    <tr>\n",
              "      <th>3</th>\n",
              "      <td>\"\\nMore\\nI can't make any real suggestions on ...</td>\n",
              "      <td>0</td>\n",
              "    </tr>\n",
              "    <tr>\n",
              "      <th>4</th>\n",
              "      <td>You, sir, are my hero. Any chance you remember...</td>\n",
              "      <td>0</td>\n",
              "    </tr>\n",
              "    <tr>\n",
              "      <th>...</th>\n",
              "      <td>...</td>\n",
              "      <td>...</td>\n",
              "    </tr>\n",
              "    <tr>\n",
              "      <th>159566</th>\n",
              "      <td>\":::::And for the second time of asking, when ...</td>\n",
              "      <td>0</td>\n",
              "    </tr>\n",
              "    <tr>\n",
              "      <th>159567</th>\n",
              "      <td>You should be ashamed of yourself \\n\\nThat is ...</td>\n",
              "      <td>0</td>\n",
              "    </tr>\n",
              "    <tr>\n",
              "      <th>159568</th>\n",
              "      <td>Spitzer \\n\\nUmm, theres no actual article for ...</td>\n",
              "      <td>0</td>\n",
              "    </tr>\n",
              "    <tr>\n",
              "      <th>159569</th>\n",
              "      <td>And it looks like it was actually you who put ...</td>\n",
              "      <td>0</td>\n",
              "    </tr>\n",
              "    <tr>\n",
              "      <th>159570</th>\n",
              "      <td>\"\\nAnd ... I really don't think you understand...</td>\n",
              "      <td>0</td>\n",
              "    </tr>\n",
              "  </tbody>\n",
              "</table>\n",
              "<p>159571 rows × 2 columns</p>\n",
              "</div>\n",
              "      <button class=\"colab-df-convert\" onclick=\"convertToInteractive('df-e4973926-af4c-4213-b6db-d13059578daa')\"\n",
              "              title=\"Convert this dataframe to an interactive table.\"\n",
              "              style=\"display:none;\">\n",
              "        \n",
              "  <svg xmlns=\"http://www.w3.org/2000/svg\" height=\"24px\"viewBox=\"0 0 24 24\"\n",
              "       width=\"24px\">\n",
              "    <path d=\"M0 0h24v24H0V0z\" fill=\"none\"/>\n",
              "    <path d=\"M18.56 5.44l.94 2.06.94-2.06 2.06-.94-2.06-.94-.94-2.06-.94 2.06-2.06.94zm-11 1L8.5 8.5l.94-2.06 2.06-.94-2.06-.94L8.5 2.5l-.94 2.06-2.06.94zm10 10l.94 2.06.94-2.06 2.06-.94-2.06-.94-.94-2.06-.94 2.06-2.06.94z\"/><path d=\"M17.41 7.96l-1.37-1.37c-.4-.4-.92-.59-1.43-.59-.52 0-1.04.2-1.43.59L10.3 9.45l-7.72 7.72c-.78.78-.78 2.05 0 2.83L4 21.41c.39.39.9.59 1.41.59.51 0 1.02-.2 1.41-.59l7.78-7.78 2.81-2.81c.8-.78.8-2.07 0-2.86zM5.41 20L4 18.59l7.72-7.72 1.47 1.35L5.41 20z\"/>\n",
              "  </svg>\n",
              "      </button>\n",
              "      \n",
              "  <style>\n",
              "    .colab-df-container {\n",
              "      display:flex;\n",
              "      flex-wrap:wrap;\n",
              "      gap: 12px;\n",
              "    }\n",
              "\n",
              "    .colab-df-convert {\n",
              "      background-color: #E8F0FE;\n",
              "      border: none;\n",
              "      border-radius: 50%;\n",
              "      cursor: pointer;\n",
              "      display: none;\n",
              "      fill: #1967D2;\n",
              "      height: 32px;\n",
              "      padding: 0 0 0 0;\n",
              "      width: 32px;\n",
              "    }\n",
              "\n",
              "    .colab-df-convert:hover {\n",
              "      background-color: #E2EBFA;\n",
              "      box-shadow: 0px 1px 2px rgba(60, 64, 67, 0.3), 0px 1px 3px 1px rgba(60, 64, 67, 0.15);\n",
              "      fill: #174EA6;\n",
              "    }\n",
              "\n",
              "    [theme=dark] .colab-df-convert {\n",
              "      background-color: #3B4455;\n",
              "      fill: #D2E3FC;\n",
              "    }\n",
              "\n",
              "    [theme=dark] .colab-df-convert:hover {\n",
              "      background-color: #434B5C;\n",
              "      box-shadow: 0px 1px 3px 1px rgba(0, 0, 0, 0.15);\n",
              "      filter: drop-shadow(0px 1px 2px rgba(0, 0, 0, 0.3));\n",
              "      fill: #FFFFFF;\n",
              "    }\n",
              "  </style>\n",
              "\n",
              "      <script>\n",
              "        const buttonEl =\n",
              "          document.querySelector('#df-e4973926-af4c-4213-b6db-d13059578daa button.colab-df-convert');\n",
              "        buttonEl.style.display =\n",
              "          google.colab.kernel.accessAllowed ? 'block' : 'none';\n",
              "\n",
              "        async function convertToInteractive(key) {\n",
              "          const element = document.querySelector('#df-e4973926-af4c-4213-b6db-d13059578daa');\n",
              "          const dataTable =\n",
              "            await google.colab.kernel.invokeFunction('convertToInteractive',\n",
              "                                                     [key], {});\n",
              "          if (!dataTable) return;\n",
              "\n",
              "          const docLinkHtml = 'Like what you see? Visit the ' +\n",
              "            '<a target=\"_blank\" href=https://colab.research.google.com/notebooks/data_table.ipynb>data table notebook</a>'\n",
              "            + ' to learn more about interactive tables.';\n",
              "          element.innerHTML = '';\n",
              "          dataTable['output_type'] = 'display_data';\n",
              "          await google.colab.output.renderOutput(dataTable, element);\n",
              "          const docLink = document.createElement('div');\n",
              "          docLink.innerHTML = docLinkHtml;\n",
              "          element.appendChild(docLink);\n",
              "        }\n",
              "      </script>\n",
              "    </div>\n",
              "  </div>\n",
              "  "
            ],
            "text/plain": [
              "                                                     text  toxic\n",
              "0       Explanation\\nWhy the edits made under my usern...      0\n",
              "1       D'aww! He matches this background colour I'm s...      0\n",
              "2       Hey man, I'm really not trying to edit war. It...      0\n",
              "3       \"\\nMore\\nI can't make any real suggestions on ...      0\n",
              "4       You, sir, are my hero. Any chance you remember...      0\n",
              "...                                                   ...    ...\n",
              "159566  \":::::And for the second time of asking, when ...      0\n",
              "159567  You should be ashamed of yourself \\n\\nThat is ...      0\n",
              "159568  Spitzer \\n\\nUmm, theres no actual article for ...      0\n",
              "159569  And it looks like it was actually you who put ...      0\n",
              "159570  \"\\nAnd ... I really don't think you understand...      0\n",
              "\n",
              "[159571 rows x 2 columns]"
            ]
          },
          "execution_count": 35,
          "metadata": {},
          "output_type": "execute_result"
        }
      ],
      "source": [
        "data"
      ]
    },
    {
      "cell_type": "code",
      "execution_count": null,
      "metadata": {
        "colab": {
          "base_uri": "https://localhost:8080/"
        },
        "id": "mOIFgvnndTeu",
        "outputId": "abb2985d-7a8a-475f-b529-95b5b95bb180"
      },
      "outputs": [
        {
          "name": "stdout",
          "output_type": "stream",
          "text": [
            "<class 'pandas.core.frame.DataFrame'>\n",
            "RangeIndex: 159571 entries, 0 to 159570\n",
            "Data columns (total 2 columns):\n",
            " #   Column  Non-Null Count   Dtype \n",
            "---  ------  --------------   ----- \n",
            " 0   text    159571 non-null  object\n",
            " 1   toxic   159571 non-null  int64 \n",
            "dtypes: int64(1), object(1)\n",
            "memory usage: 2.4+ MB\n"
          ]
        }
      ],
      "source": [
        "data.info()"
      ]
    },
    {
      "cell_type": "code",
      "execution_count": null,
      "metadata": {
        "colab": {
          "base_uri": "https://localhost:8080/"
        },
        "id": "htre-kfEMTrE",
        "outputId": "f49ec49a-184d-442c-897e-a521c08392bb"
      },
      "outputs": [
        {
          "data": {
            "text/plain": [
              "text     0\n",
              "toxic    0\n",
              "dtype: int64"
            ]
          },
          "execution_count": 37,
          "metadata": {},
          "output_type": "execute_result"
        }
      ],
      "source": [
        "data.isna().sum()"
      ]
    },
    {
      "cell_type": "code",
      "execution_count": null,
      "metadata": {
        "colab": {
          "base_uri": "https://localhost:8080/"
        },
        "id": "c2SaN3VDMToe",
        "outputId": "3408fdda-32da-4cea-ad99-4ed4eafd9296"
      },
      "outputs": [
        {
          "data": {
            "text/plain": [
              "0"
            ]
          },
          "execution_count": 38,
          "metadata": {},
          "output_type": "execute_result"
        }
      ],
      "source": [
        "data.duplicated().sum()"
      ]
    },
    {
      "cell_type": "markdown",
      "metadata": {
        "id": "lRn56WxYdF9O"
      },
      "source": [
        "Столбец text для подготовки признаков, toxic - целевой признак. Комментарии на английском языке."
      ]
    },
    {
      "cell_type": "code",
      "execution_count": null,
      "metadata": {
        "id": "BeUghac4LUuu"
      },
      "outputs": [],
      "source": [
        "data_bert = pd.read_csv('/content/toxic_comments.csv')\n",
        "data_bert = data.sample(150000).reset_index(drop=True) # Выделю в отдельную переменную данные для BERT (150000 текстов)"
      ]
    },
    {
      "cell_type": "markdown",
      "metadata": {
        "id": "bYB1_54lIZQA"
      },
      "source": [
        "## TFIDF"
      ]
    },
    {
      "cell_type": "markdown",
      "metadata": {
        "id": "fg8ZlDXQIfKu"
      },
      "source": [
        "### Лемматизация и очистка регуляризацией (SpaCy)"
      ]
    },
    {
      "cell_type": "markdown",
      "metadata": {
        "id": "iLBOLK9XBvZ0"
      },
      "source": [
        "Проведу лемматизацию с помощью SpaCY"
      ]
    },
    {
      "cell_type": "code",
      "execution_count": null,
      "metadata": {
        "colab": {
          "base_uri": "https://localhost:8080/"
        },
        "id": "dSf8gccGk0Bv",
        "outputId": "390f853a-cc98-4868-f222-fb6e45c2e6f8"
      },
      "outputs": [
        {
          "name": "stdout",
          "output_type": "stream",
          "text": [
            "CPU times: user 35min 30s, sys: 12.9 s, total: 35min 43s\n",
            "Wall time: 36min 6s\n"
          ]
        }
      ],
      "source": [
        "%%time\n",
        "data['lemm_text'] = data['text'].apply(lambda row: \" \".join([w.lemma_ for w in nlp(row)]))"
      ]
    },
    {
      "cell_type": "markdown",
      "metadata": {
        "id": "FcyxhqohUpuP"
      },
      "source": [
        "Теперь с помощью регуляризации избавлюсь от лишних слов и символов:"
      ]
    },
    {
      "cell_type": "code",
      "execution_count": null,
      "metadata": {
        "id": "syM1-_G2QLan"
      },
      "outputs": [],
      "source": [
        "def clear_text(text):\n",
        "    sub = re.sub(r'[^a-zA-Z]', ' ', text).split()\n",
        "    return ' '.join(sub)"
      ]
    },
    {
      "cell_type": "code",
      "execution_count": null,
      "metadata": {
        "id": "kkPByEUfUUNe"
      },
      "outputs": [],
      "source": [
        "data['lemm_text'] = data['lemm_text'].apply(clear_text)"
      ]
    },
    {
      "cell_type": "markdown",
      "metadata": {
        "id": "CwxlSfaiU76N"
      },
      "source": [
        "Теперь подготовлю список стопслов, чтобы использовать в дальнейшем для TFIDF:"
      ]
    },
    {
      "cell_type": "code",
      "execution_count": null,
      "metadata": {
        "colab": {
          "base_uri": "https://localhost:8080/"
        },
        "id": "hnV089ojRkjc",
        "outputId": "f45227f9-df66-43a6-d613-39ea9f30a60c"
      },
      "outputs": [
        {
          "name": "stderr",
          "output_type": "stream",
          "text": [
            "[nltk_data] Downloading package stopwords to /root/nltk_data...\n",
            "[nltk_data]   Unzipping corpora/stopwords.zip.\n"
          ]
        }
      ],
      "source": [
        "nltk.download('stopwords')\n",
        "stop_words = stopwords.words('english')"
      ]
    },
    {
      "cell_type": "markdown",
      "metadata": {
        "id": "v_HpEzcZVXoK"
      },
      "source": [
        "##### Доп. Лемматизация с помощью nltk с POS-тегами"
      ]
    },
    {
      "cell_type": "markdown",
      "source": [
        "Лемматизацию можно провести и другим способом, используя nltk c POS-тегами"
      ],
      "metadata": {
        "id": "grIkhpeARk5p"
      }
    },
    {
      "cell_type": "code",
      "execution_count": null,
      "metadata": {
        "colab": {
          "base_uri": "https://localhost:8080/"
        },
        "id": "3kVb4Z4CRkdz",
        "outputId": "2703af7c-e96b-4d82-e0b6-9955a23a878b"
      },
      "outputs": [
        {
          "name": "stderr",
          "output_type": "stream",
          "text": [
            "[nltk_data] Downloading package wordnet to /home/jovyan/nltk_data...\n",
            "[nltk_data]   Package wordnet is already up-to-date!\n",
            "[nltk_data] Downloading package averaged_perceptron_tagger to\n",
            "[nltk_data]     /home/jovyan/nltk_data...\n",
            "[nltk_data]   Unzipping taggers/averaged_perceptron_tagger.zip.\n",
            "[nltk_data] Downloading package omw-1.4 to /home/jovyan/nltk_data...\n"
          ]
        }
      ],
      "source": [
        "# from nltk.stem import WordNetLemmatizer\n",
        "# from nltk.corpus import wordnet\n",
        "# from nltk.tokenize import word_tokenize\n",
        "# nltk.download('wordnet')\n",
        "# nltk.download('averaged_perceptron_tagger')\n",
        "# nltk.download('omw-1.4')\n",
        "\n",
        "\n",
        "\n",
        "# def get_wordnet_pos(word):\n",
        "#     tag = nltk.pos_tag([word])[0][1][0].upper()\n",
        "#     tag_dict = {\"J\": wordnet.ADJ,\n",
        "#                 \"N\": wordnet.NOUN,\n",
        "#                 \"V\": wordnet.VERB,\n",
        "#                 \"R\": wordnet.ADV}\n",
        "#     return tag_dict.get(tag, wordnet.NOUN)\n",
        "\n",
        "# lemmatizer = WordNetLemmatizer()\n",
        "\n",
        "# lemm_texts_list = []\n",
        "# for text in data['text']:\n",
        "#   word_list = nltk.word_tokenize(text)\n",
        "#   for word in word_list:\n",
        "#     word_lem = lemmatizer.lemmatize(word, get_wordnet_pos(word))\n",
        "#     lemm_texts_list.append(word_lem)"
      ]
    },
    {
      "cell_type": "code",
      "execution_count": null,
      "metadata": {
        "id": "31eBibBQazT2"
      },
      "outputs": [],
      "source": [
        "#lemm_texts_list"
      ]
    },
    {
      "cell_type": "markdown",
      "metadata": {
        "id": "Eqlz_SjybPmt"
      },
      "source": [
        "### Подготовка признаков"
      ]
    },
    {
      "cell_type": "markdown",
      "metadata": {
        "id": "QbRKAAx_gB4Z"
      },
      "source": [
        "В качестве новых признаков для обучения будет TFIDF на подготовленных данных. Разделю выборки:"
      ]
    },
    {
      "cell_type": "code",
      "execution_count": null,
      "metadata": {
        "id": "eJbxAc8lgBnb"
      },
      "outputs": [],
      "source": [
        "features = data['lemm_text']\n",
        "target = data['toxic']\n",
        "features_train, features_test, target_train, target_test = train_test_split(features, target, random_state=123, test_size=0.2)"
      ]
    },
    {
      "cell_type": "markdown",
      "metadata": {
        "id": "7hgpNmT_bR3j"
      },
      "source": [
        "В качестве новых признаков для обучения будет TFIDF на подготовленных данных, поэтому создам объект TfidfVectorizer с передачей стоплслов:"
      ]
    },
    {
      "cell_type": "code",
      "execution_count": null,
      "metadata": {
        "id": "Q5PcRqoGglHP"
      },
      "outputs": [],
      "source": [
        "tf_idf = TfidfVectorizer(stop_words=stop_words)"
      ]
    },
    {
      "cell_type": "markdown",
      "metadata": {
        "id": "KDmhwEAtgzqd"
      },
      "source": [
        "Теперь создам TFIDF для тренировочной и для тестовой выборок:"
      ]
    },
    {
      "cell_type": "code",
      "execution_count": null,
      "metadata": {
        "id": "4Ujo1M-cQvzc"
      },
      "outputs": [],
      "source": [
        "tf_idf_train = tf_idf.fit_transform(features_train)\n",
        "tf_idf_test = tf_idf.transform(features_test)"
      ]
    },
    {
      "cell_type": "markdown",
      "metadata": {
        "id": "Ug484GrkhcZI"
      },
      "source": [
        "### Обучение моделей"
      ]
    },
    {
      "cell_type": "markdown",
      "metadata": {
        "id": "o-j0NbpQhgLN"
      },
      "source": [
        "#### Логистическая регрессия"
      ]
    },
    {
      "cell_type": "markdown",
      "metadata": {
        "id": "19GnbY3Bhj9g"
      },
      "source": [
        "Проверю сначала на более простой модели, передам модели созданные признаки и таргет, показывающий, токсичный ли комментарий. Метрика для оценки качества - F1."
      ]
    },
    {
      "cell_type": "code",
      "execution_count": null,
      "metadata": {
        "id": "loilDljqitTP"
      },
      "outputs": [],
      "source": [
        "param = {'C': [100000000, 1000000000, 100000000]}"
      ]
    },
    {
      "cell_type": "code",
      "execution_count": null,
      "metadata": {
        "colab": {
          "base_uri": "https://localhost:8080/"
        },
        "id": "UXnYhbH2g-cD",
        "outputId": "f4d19859-9713-4ce9-aab8-f48538dfbed1"
      },
      "outputs": [
        {
          "name": "stderr",
          "output_type": "stream",
          "text": [
            "/usr/local/lib/python3.7/dist-packages/sklearn/model_selection/_search.py:296: UserWarning: The total space of parameters 3 is smaller than n_iter=10. Running 3 iterations. For exhaustive searches, use GridSearchCV.\n",
            "  UserWarning,\n"
          ]
        },
        {
          "name": "stdout",
          "output_type": "stream",
          "text": [
            "LogisticRegression(C=1000000000, n_jobs=-1, random_state=123) {'C': 1000000000} 0.7372006492911082\n",
            "CPU times: user 770 ms, sys: 365 ms, total: 1.14 s\n",
            "Wall time: 44.5 s\n"
          ]
        }
      ],
      "source": [
        "%%time\n",
        "log_model = LogisticRegression(random_state=123, n_jobs=-1)\n",
        "random_search = RandomizedSearchCV(log_model, param_distributions=param, cv=3, random_state=123, scoring='f1')\n",
        "random_search.fit(tf_idf_train, target_train)\n",
        "\n",
        "print(random_search.best_estimator_ , \n",
        "      random_search.best_params_, \n",
        "      random_search.best_score_)"
      ]
    },
    {
      "cell_type": "code",
      "execution_count": null,
      "metadata": {
        "colab": {
          "base_uri": "https://localhost:8080/"
        },
        "id": "T_koNg9zm4pc",
        "outputId": "93072e88-6f61-47a6-dd44-3b3d14b8c071"
      },
      "outputs": [
        {
          "data": {
            "text/plain": [
              "array([0.71463103, 0.71069182, 0.7055794 ])"
            ]
          },
          "execution_count": 61,
          "metadata": {},
          "output_type": "execute_result"
        }
      ],
      "source": [
        "log_model = LogisticRegression(random_state=123, n_jobs=-1)\n",
        "cross_val_score(log_model, tf_idf_train, target_train, scoring='f1', cv=3)"
      ]
    },
    {
      "cell_type": "markdown",
      "metadata": {
        "id": "v1VHJIR4od_-"
      },
      "source": [
        "Оценка на кроссвалидации 0.737, без настройки регуляризации \"С\" метрика ниже."
      ]
    },
    {
      "cell_type": "markdown",
      "metadata": {
        "id": "Qf7S8076ozZ4"
      },
      "source": [
        "#### Catboost"
      ]
    },
    {
      "cell_type": "code",
      "execution_count": null,
      "metadata": {
        "id": "XvekSI65kups"
      },
      "outputs": [],
      "source": [
        "CB_train_data = Pool(data=tf_idf_train,\n",
        "                  label=target_train)"
      ]
    },
    {
      "cell_type": "code",
      "execution_count": null,
      "metadata": {
        "id": "YpTNORr_kuj3"
      },
      "outputs": [],
      "source": [
        "CB_test_data = Pool(data=tf_idf_test,\n",
        "                  label=target_test)"
      ]
    },
    {
      "cell_type": "code",
      "execution_count": null,
      "metadata": {
        "colab": {
          "base_uri": "https://localhost:8080/"
        },
        "id": "LkhehTt128az",
        "outputId": "6d2251cf-3133-438b-8f35-7cdfa22f99ce"
      },
      "outputs": [
        {
          "name": "stderr",
          "output_type": "stream",
          "text": [
            "Warning: less than 75% gpu memory available for training. Free: 1653.75 Total: 15109.75\n"
          ]
        }
      ],
      "source": [
        "%%time\n",
        "CB_model = CatBoostClassifier(loss_function='Logloss', eval_metric='F1', early_stopping_rounds=120, task_type='GPU')\n",
        "CB_model.fit(CB_train_data)"
      ]
    },
    {
      "cell_type": "code",
      "execution_count": null,
      "metadata": {
        "colab": {
          "base_uri": "https://localhost:8080/"
        },
        "id": "u_l4OfZJo4wS",
        "outputId": "9bb23524-86ed-4888-cc87-7797c851879d"
      },
      "outputs": [
        {
          "name": "stdout",
          "output_type": "stream",
          "text": [
            "CPU times: user 1.21 s, sys: 67 ms, total: 1.28 s\n",
            "Wall time: 1.12 s\n"
          ]
        }
      ],
      "source": [
        "%%time\n",
        "cb_test_predict = CB_model.predict(tf_idf_test)"
      ]
    },
    {
      "cell_type": "code",
      "execution_count": null,
      "metadata": {
        "colab": {
          "base_uri": "https://localhost:8080/"
        },
        "id": "XNQDGnMmpP_q",
        "outputId": "b097b4d0-a430-4456-9fd2-cf1e13d80fa4"
      },
      "outputs": [
        {
          "name": "stdout",
          "output_type": "stream",
          "text": [
            "F1_score на тестовой выброке для Catboost без подбора параметров: 0.7697068996905152\n"
          ]
        }
      ],
      "source": [
        "print('F1_score на тестовой выброке для Catboost без подбора параметров:', f1_score(target_test, cb_test_predict))"
      ]
    },
    {
      "cell_type": "markdown",
      "metadata": {
        "id": "NiwS4NH2-i-B"
      },
      "source": [
        "Без подбора гиперпараметров Catboost показывает метрику F1 = 0.769. \n",
        "Время обучения: 36 мин."
      ]
    },
    {
      "cell_type": "markdown",
      "source": [
        "*Можно также использовать подбор гиперпараметров, но как оказалось далее, с подходящей моделью BERT Catboost показывает метрику F1 намного выше.*"
      ],
      "metadata": {
        "id": "nqc5WRUcSEh6"
      }
    },
    {
      "cell_type": "code",
      "execution_count": null,
      "metadata": {
        "id": "IsSRY9kAo47K"
      },
      "outputs": [],
      "source": [
        "# %%time\n",
        "# CB_model = CatBoostClassifier(loss_function='Logloss', eval_metric='F1', early_stopping_rounds=120)\n",
        "\n",
        "# params = {'learning_rate': [0.05, 0.1],\n",
        "#            'depth': [4, 6]}\n",
        "\n",
        "# grid_result = CB_model.grid_search(params, CB_train_data, plot=True, cv=3, partition_random_seed=123, verbose=False)"
      ]
    },
    {
      "cell_type": "code",
      "execution_count": null,
      "metadata": {
        "id": "yx-G5lXV28Vd"
      },
      "outputs": [],
      "source": [
        "# print('Лучшие параметры:', grid_result.params)\n",
        "# grid_result.cv_results"
      ]
    },
    {
      "cell_type": "markdown",
      "metadata": {
        "id": "qkSBmsp0vWhT"
      },
      "source": [
        "## BERT"
      ]
    },
    {
      "cell_type": "markdown",
      "metadata": {
        "id": "n5e8fw0Qvbmf"
      },
      "source": [
        "С использованием BERT метрика F1 на наших данных должна стать выше. Я нашел модель toxic-bert, которая должна подойти для решения задачи."
      ]
    },
    {
      "cell_type": "code",
      "execution_count": null,
      "metadata": {
        "id": "QeTL9SLAp2_h"
      },
      "outputs": [],
      "source": [
        "model_name = \"unitary/toxic-bert\""
      ]
    },
    {
      "cell_type": "markdown",
      "metadata": {
        "id": "igrLJ6wNWAHN"
      },
      "source": [
        "### Токенизация и ограничение количества токенов"
      ]
    },
    {
      "cell_type": "markdown",
      "metadata": {
        "id": "q4-9KmEqKuMp"
      },
      "source": [
        "\n",
        "С помощью скачанного словаря инициализирую класс для токенизации, проведу токенизацию с добавлением токенов начала и конца.\n",
        "\n",
        "Также для корректного создания эмбеддингов ограничю количество токенов в каждом тексте (model_max_length=512)."
      ]
    },
    {
      "cell_type": "code",
      "execution_count": null,
      "metadata": {
        "id": "aY6WpJUvEkUJ"
      },
      "outputs": [],
      "source": [
        "tokenizer = AutoTokenizer.from_pretrained(model_name, model_max_length=512)\n",
        "\n",
        "tokenized = data_bert['text'].apply(\n",
        "    lambda x: tokenizer.encode(x, add_special_tokens=True, truncation=True))"
      ]
    },
    {
      "cell_type": "markdown",
      "metadata": {
        "id": "dMhtOtzoWIR8"
      },
      "source": [
        "### Padding"
      ]
    },
    {
      "cell_type": "markdown",
      "metadata": {
        "id": "lm6wrQ_5KxHN"
      },
      "source": [
        "Теперь сделаю длину текстов равными, вычислив самый длинный текст и добавив нули к другим текстам. Далее помечу такие нули как неимеющие значимости для attention_mask:"
      ]
    },
    {
      "cell_type": "code",
      "execution_count": null,
      "metadata": {
        "id": "9GwbIpQvEkRb"
      },
      "outputs": [],
      "source": [
        "max_len = 0\n",
        "for i in tokenized.values:\n",
        "    if len(i) > max_len:\n",
        "        max_len = len(i)\n",
        "\n",
        "padded = np.array([i + [0]*(max_len - len(i)) for i in tokenized.values])\n",
        "\n",
        "attention_mask = np.where(padded != 0, 1, 0)"
      ]
    },
    {
      "cell_type": "markdown",
      "metadata": {
        "id": "zWh8qlGRWWtc"
      },
      "source": [
        "### Инициализация модели BERT"
      ]
    },
    {
      "cell_type": "markdown",
      "metadata": {
        "id": "REjjshq3Lflk"
      },
      "source": [
        "Теперь инициализирую саму модель по имени:"
      ]
    },
    {
      "cell_type": "code",
      "execution_count": null,
      "metadata": {
        "colab": {
          "base_uri": "https://localhost:8080/"
        },
        "id": "fH_Vw5E4EkO1",
        "outputId": "8cbc12b6-9a43-482e-c71d-5990e1ac12ff"
      },
      "outputs": [
        {
          "name": "stderr",
          "output_type": "stream",
          "text": [
            "Some weights of the model checkpoint at unitary/toxic-bert were not used when initializing BertModel: ['classifier.bias', 'classifier.weight']\n",
            "- This IS expected if you are initializing BertModel from the checkpoint of a model trained on another task or with another architecture (e.g. initializing a BertForSequenceClassification model from a BertForPreTraining model).\n",
            "- This IS NOT expected if you are initializing BertModel from the checkpoint of a model that you expect to be exactly identical (initializing a BertForSequenceClassification model from a BertForSequenceClassification model).\n"
          ]
        }
      ],
      "source": [
        "model = AutoModel.from_pretrained(model_name)"
      ]
    },
    {
      "cell_type": "markdown",
      "metadata": {
        "id": "6M8dMxqRWsZ6"
      },
      "source": [
        "### Создание эмбеддингов"
      ]
    },
    {
      "cell_type": "markdown",
      "metadata": {
        "id": "j9Az7vb9LqCg"
      },
      "source": [
        "Создавать эмбеддинги будем по батчам, на каждом батче модель будет получать данные в виде тензоров и маску. Таким образом список эмбеддингов будет пополняться по каждому батчу с данными"
      ]
    },
    {
      "cell_type": "code",
      "execution_count": null,
      "metadata": {
        "colab": {
          "base_uri": "https://localhost:8080/",
          "height": 223,
          "referenced_widgets": [
            "d5f16a451298455bacfd08d6bd040589",
            "d552dc59e16b4da7a76820141f44a5d1",
            "54eb7d84c9b8448b8832627ed8216d26",
            "ef0aad01a8014557a8e786e5e1cfd4ee",
            "ce8476f8aef4415d8ccce43ea220a1df",
            "10bff730ed814fac9faf957742cd5fcd",
            "869bf0c03d6343fd977322bd2c77f7ec",
            "56039fa66a4f429c8f76dea0e3ce8017",
            "85665706ad364fbb81242d677c860712",
            "7634c9d09fa2456eb8ac5ab83268f1ee",
            "4674c0d8146449cdb78385eea452ddd4"
          ]
        },
        "id": "OC3VUX5OEkMG",
        "outputId": "31366794-cb35-420e-aca7-c7082c6c64fc"
      },
      "outputs": [
        {
          "data": {
            "application/vnd.jupyter.widget-view+json": {
              "model_id": "d5f16a451298455bacfd08d6bd040589",
              "version_major": 2,
              "version_minor": 0
            },
            "text/plain": [
              "  0%|          | 0/8 [00:00<?, ?it/s]"
            ]
          },
          "metadata": {},
          "output_type": "display_data"
        },
        {
          "name": "stdout",
          "output_type": "stream",
          "text": [
            "120\n",
            "120\n",
            "120\n",
            "120\n",
            "120\n",
            "120\n",
            "120\n",
            "120\n",
            "CPU times: user 28.2 s, sys: 59 ms, total: 28.3 s\n",
            "Wall time: 30.1 s\n"
          ]
        }
      ],
      "source": [
        "%%time\n",
        "batch_size = 120\n",
        "embeddings = []\n",
        "for i in notebook.tqdm(range(padded.shape[0] // batch_size)):\n",
        "        batch = torch.LongTensor(padded[batch_size*i:batch_size*(i+1)]).cuda()\n",
        "        attention_mask_batch = torch.LongTensor(attention_mask[batch_size*i:batch_size*(i+1)]).cuda()\n",
        "        \n",
        "        print(len(batch))\n",
        "        with torch.no_grad():\n",
        "          model.cuda()\n",
        "          batch_embeddings = model(batch, attention_mask=attention_mask_batch)\n",
        "        \n",
        "        embeddings.append(batch_embeddings[0][:,0,:].cpu().numpy())\n",
        "        \n",
        "        del batch\n",
        "        del attention_mask_batch\n",
        "        del batch_embeddings"
      ]
    },
    {
      "cell_type": "markdown",
      "metadata": {
        "id": "kMN048MfWxs8"
      },
      "source": [
        "### Подготовка признаков"
      ]
    },
    {
      "cell_type": "markdown",
      "metadata": {
        "id": "kNGrAkvyNGiF"
      },
      "source": [
        "Теперь у меня есть эмбеддинги-признаки, объединю их в одну матрицу признаков, далее подготовлю все выборки для обучения моделей:\n"
      ]
    },
    {
      "cell_type": "code",
      "execution_count": null,
      "metadata": {
        "id": "jKaiVfHQgtse"
      },
      "outputs": [],
      "source": [
        "embeddings"
      ]
    },
    {
      "cell_type": "code",
      "execution_count": null,
      "metadata": {
        "id": "s5jxdrgdEkJV"
      },
      "outputs": [],
      "source": [
        "features_bert = np.concatenate(embeddings)\n",
        "target_bert = data_bert['toxic']\n",
        "\n",
        "features_train_bert, features_test_bert, target_train_bert, target_test_bert = train_test_split(features_bert, target_bert, random_state = 123, test_size=.5)"
      ]
    },
    {
      "cell_type": "markdown",
      "metadata": {
        "id": "qDLBegE2W4BU"
      },
      "source": [
        "### Обучение моделей"
      ]
    },
    {
      "cell_type": "markdown",
      "metadata": {
        "id": "ktIM-k1_W7HY"
      },
      "source": [
        "### Логистическая регрессия"
      ]
    },
    {
      "cell_type": "code",
      "execution_count": null,
      "metadata": {
        "colab": {
          "base_uri": "https://localhost:8080/"
        },
        "id": "9TKrQo9uW4UA",
        "outputId": "4d32a1c9-8528-4dff-8e81-5707cc96f6aa"
      },
      "outputs": [
        {
          "data": {
            "text/plain": [
              "LogisticRegression(random_state=123)"
            ]
          },
          "execution_count": 25,
          "metadata": {},
          "output_type": "execute_result"
        }
      ],
      "source": [
        "logreg_bert = LogisticRegression(random_state=123)\n",
        "logreg_bert.fit(features_train_bert, target_train_bert)\n",
        "\n",
        "pred_bert = logreg_bert.predict(features_test_bert)\n",
        "print(f1_score(target_test_bert, pred_bert))"
      ]
    },
    {
      "cell_type": "markdown",
      "metadata": {
        "id": "TBcqYe82XAFp"
      },
      "source": [
        "#### Catboost"
      ]
    },
    {
      "cell_type": "code",
      "execution_count": null,
      "metadata": {
        "id": "ntAeNDxdEkGF"
      },
      "outputs": [],
      "source": [
        "CB_train_data_bert = Pool(data=features_train_bert,\n",
        "                  label=target_train_bert)\n",
        "\n",
        "CB_test_data_bert = Pool(data=features_test_bert,\n",
        "                  label=target_test_bert)"
      ]
    },
    {
      "cell_type": "code",
      "execution_count": null,
      "metadata": {
        "colab": {
          "base_uri": "https://localhost:8080/"
        },
        "id": "Z2GaIFY6V0-C",
        "outputId": "bb666403-006d-4245-8f82-77f5471dc5c7"
      },
      "outputs": [
        {
          "name": "stderr",
          "output_type": "stream",
          "text": [
            "Warning: less than 75% gpu memory available for training. Free: 10057.75 Total: 15109.75\n"
          ]
        },
        {
          "name": "stdout",
          "output_type": "stream",
          "text": [
            "Learning rate set to 0.035021\n",
            "0:\tlearn: 0.9541284\ttotal: 43.8ms\tremaining: 43.8s\n",
            "1:\tlearn: 0.9904762\ttotal: 141ms\tremaining: 1m 10s\n",
            "2:\tlearn: 0.9807692\ttotal: 230ms\tremaining: 1m 16s\n",
            "3:\tlearn: 0.9904762\ttotal: 322ms\tremaining: 1m 20s\n",
            "4:\tlearn: 1.0000000\ttotal: 379ms\tremaining: 1m 15s\n",
            "5:\tlearn: 1.0000000\ttotal: 441ms\tremaining: 1m 13s\n",
            "6:\tlearn: 1.0000000\ttotal: 477ms\tremaining: 1m 7s\n",
            "7:\tlearn: 1.0000000\ttotal: 533ms\tremaining: 1m 6s\n",
            "8:\tlearn: 1.0000000\ttotal: 587ms\tremaining: 1m 4s\n",
            "9:\tlearn: 1.0000000\ttotal: 636ms\tremaining: 1m 2s\n",
            "10:\tlearn: 0.9904762\ttotal: 685ms\tremaining: 1m 1s\n",
            "11:\tlearn: 0.9904762\ttotal: 737ms\tremaining: 1m\n",
            "12:\tlearn: 0.9904762\ttotal: 786ms\tremaining: 59.7s\n",
            "13:\tlearn: 1.0000000\ttotal: 838ms\tremaining: 59s\n",
            "14:\tlearn: 1.0000000\ttotal: 893ms\tremaining: 58.7s\n",
            "15:\tlearn: 1.0000000\ttotal: 951ms\tremaining: 58.5s\n",
            "16:\tlearn: 1.0000000\ttotal: 999ms\tremaining: 57.8s\n",
            "17:\tlearn: 1.0000000\ttotal: 1.05s\tremaining: 57.4s\n",
            "18:\tlearn: 1.0000000\ttotal: 1.1s\tremaining: 56.8s\n",
            "19:\tlearn: 1.0000000\ttotal: 1.15s\tremaining: 56.3s\n",
            "20:\tlearn: 1.0000000\ttotal: 1.2s\tremaining: 55.9s\n",
            "21:\tlearn: 1.0000000\ttotal: 1.25s\tremaining: 55.4s\n",
            "22:\tlearn: 1.0000000\ttotal: 1.29s\tremaining: 55s\n",
            "23:\tlearn: 1.0000000\ttotal: 1.34s\tremaining: 54.7s\n",
            "24:\tlearn: 1.0000000\ttotal: 1.4s\tremaining: 54.4s\n",
            "25:\tlearn: 1.0000000\ttotal: 1.44s\tremaining: 54.1s\n",
            "26:\tlearn: 1.0000000\ttotal: 1.49s\tremaining: 53.8s\n",
            "27:\tlearn: 1.0000000\ttotal: 1.54s\tremaining: 53.5s\n",
            "28:\tlearn: 1.0000000\ttotal: 1.59s\tremaining: 53.2s\n",
            "29:\tlearn: 1.0000000\ttotal: 1.64s\tremaining: 53.1s\n",
            "30:\tlearn: 1.0000000\ttotal: 1.7s\tremaining: 53.1s\n",
            "31:\tlearn: 1.0000000\ttotal: 1.75s\tremaining: 52.9s\n",
            "32:\tlearn: 1.0000000\ttotal: 1.8s\tremaining: 52.7s\n",
            "33:\tlearn: 1.0000000\ttotal: 1.85s\tremaining: 52.5s\n",
            "34:\tlearn: 1.0000000\ttotal: 1.9s\tremaining: 52.4s\n",
            "35:\tlearn: 1.0000000\ttotal: 1.96s\tremaining: 52.4s\n",
            "36:\tlearn: 1.0000000\ttotal: 2.02s\tremaining: 52.6s\n",
            "37:\tlearn: 1.0000000\ttotal: 2.07s\tremaining: 52.5s\n",
            "38:\tlearn: 1.0000000\ttotal: 2.12s\tremaining: 52.3s\n",
            "39:\tlearn: 1.0000000\ttotal: 2.17s\tremaining: 52.1s\n",
            "40:\tlearn: 1.0000000\ttotal: 2.22s\tremaining: 51.9s\n",
            "41:\tlearn: 1.0000000\ttotal: 2.27s\tremaining: 51.8s\n",
            "42:\tlearn: 1.0000000\ttotal: 2.33s\tremaining: 51.8s\n",
            "43:\tlearn: 1.0000000\ttotal: 2.38s\tremaining: 51.7s\n",
            "44:\tlearn: 1.0000000\ttotal: 2.43s\tremaining: 51.5s\n",
            "45:\tlearn: 1.0000000\ttotal: 2.48s\tremaining: 51.4s\n",
            "46:\tlearn: 1.0000000\ttotal: 2.54s\tremaining: 51.5s\n",
            "47:\tlearn: 1.0000000\ttotal: 2.59s\tremaining: 51.4s\n",
            "48:\tlearn: 1.0000000\ttotal: 2.64s\tremaining: 51.3s\n",
            "49:\tlearn: 1.0000000\ttotal: 2.69s\tremaining: 51.1s\n",
            "50:\tlearn: 1.0000000\ttotal: 2.75s\tremaining: 51.1s\n",
            "51:\tlearn: 1.0000000\ttotal: 2.8s\tremaining: 51s\n",
            "52:\tlearn: 1.0000000\ttotal: 2.85s\tremaining: 50.9s\n",
            "53:\tlearn: 1.0000000\ttotal: 2.9s\tremaining: 50.7s\n",
            "54:\tlearn: 1.0000000\ttotal: 2.95s\tremaining: 50.7s\n",
            "55:\tlearn: 1.0000000\ttotal: 3s\tremaining: 50.6s\n",
            "56:\tlearn: 1.0000000\ttotal: 3.05s\tremaining: 50.5s\n",
            "57:\tlearn: 1.0000000\ttotal: 3.1s\tremaining: 50.4s\n",
            "58:\tlearn: 1.0000000\ttotal: 3.15s\tremaining: 50.3s\n",
            "59:\tlearn: 1.0000000\ttotal: 3.21s\tremaining: 50.3s\n",
            "60:\tlearn: 1.0000000\ttotal: 3.26s\tremaining: 50.2s\n",
            "61:\tlearn: 1.0000000\ttotal: 3.31s\tremaining: 50.1s\n",
            "62:\tlearn: 1.0000000\ttotal: 3.36s\tremaining: 50s\n",
            "63:\tlearn: 1.0000000\ttotal: 3.41s\tremaining: 49.9s\n",
            "64:\tlearn: 1.0000000\ttotal: 3.46s\tremaining: 49.8s\n",
            "65:\tlearn: 1.0000000\ttotal: 3.52s\tremaining: 49.8s\n",
            "66:\tlearn: 1.0000000\ttotal: 3.57s\tremaining: 49.7s\n",
            "67:\tlearn: 1.0000000\ttotal: 3.62s\tremaining: 49.6s\n",
            "68:\tlearn: 1.0000000\ttotal: 3.68s\tremaining: 49.7s\n",
            "69:\tlearn: 1.0000000\ttotal: 3.73s\tremaining: 49.6s\n",
            "70:\tlearn: 1.0000000\ttotal: 3.79s\tremaining: 49.6s\n",
            "71:\tlearn: 1.0000000\ttotal: 3.84s\tremaining: 49.5s\n",
            "72:\tlearn: 1.0000000\ttotal: 3.89s\tremaining: 49.4s\n",
            "73:\tlearn: 1.0000000\ttotal: 3.95s\tremaining: 49.4s\n",
            "74:\tlearn: 1.0000000\ttotal: 4s\tremaining: 49.4s\n",
            "75:\tlearn: 1.0000000\ttotal: 4.05s\tremaining: 49.2s\n",
            "76:\tlearn: 1.0000000\ttotal: 4.1s\tremaining: 49.2s\n",
            "77:\tlearn: 1.0000000\ttotal: 4.15s\tremaining: 49.1s\n",
            "78:\tlearn: 1.0000000\ttotal: 4.21s\tremaining: 49s\n",
            "79:\tlearn: 1.0000000\ttotal: 4.26s\tremaining: 48.9s\n",
            "80:\tlearn: 1.0000000\ttotal: 4.31s\tremaining: 48.9s\n",
            "81:\tlearn: 1.0000000\ttotal: 4.36s\tremaining: 48.8s\n",
            "82:\tlearn: 1.0000000\ttotal: 4.41s\tremaining: 48.7s\n",
            "83:\tlearn: 1.0000000\ttotal: 4.46s\tremaining: 48.6s\n",
            "84:\tlearn: 1.0000000\ttotal: 4.51s\tremaining: 48.6s\n",
            "85:\tlearn: 1.0000000\ttotal: 4.57s\tremaining: 48.5s\n",
            "86:\tlearn: 1.0000000\ttotal: 4.62s\tremaining: 48.5s\n",
            "87:\tlearn: 1.0000000\ttotal: 4.67s\tremaining: 48.4s\n",
            "88:\tlearn: 1.0000000\ttotal: 4.72s\tremaining: 48.3s\n",
            "89:\tlearn: 1.0000000\ttotal: 4.77s\tremaining: 48.2s\n",
            "90:\tlearn: 1.0000000\ttotal: 4.82s\tremaining: 48.1s\n",
            "91:\tlearn: 1.0000000\ttotal: 4.87s\tremaining: 48.1s\n",
            "92:\tlearn: 1.0000000\ttotal: 4.92s\tremaining: 48s\n",
            "93:\tlearn: 1.0000000\ttotal: 4.98s\tremaining: 48s\n",
            "94:\tlearn: 1.0000000\ttotal: 5.04s\tremaining: 48s\n",
            "95:\tlearn: 1.0000000\ttotal: 5.08s\tremaining: 47.9s\n",
            "96:\tlearn: 1.0000000\ttotal: 5.13s\tremaining: 47.8s\n",
            "97:\tlearn: 1.0000000\ttotal: 5.19s\tremaining: 47.8s\n",
            "98:\tlearn: 1.0000000\ttotal: 5.25s\tremaining: 47.8s\n",
            "99:\tlearn: 1.0000000\ttotal: 5.31s\tremaining: 47.8s\n",
            "100:\tlearn: 1.0000000\ttotal: 5.36s\tremaining: 47.7s\n",
            "101:\tlearn: 1.0000000\ttotal: 5.4s\tremaining: 47.6s\n",
            "102:\tlearn: 1.0000000\ttotal: 5.46s\tremaining: 47.5s\n",
            "103:\tlearn: 1.0000000\ttotal: 5.51s\tremaining: 47.5s\n",
            "104:\tlearn: 1.0000000\ttotal: 5.56s\tremaining: 47.4s\n",
            "105:\tlearn: 1.0000000\ttotal: 5.61s\tremaining: 47.3s\n",
            "106:\tlearn: 1.0000000\ttotal: 5.66s\tremaining: 47.3s\n",
            "107:\tlearn: 1.0000000\ttotal: 5.71s\tremaining: 47.2s\n",
            "108:\tlearn: 1.0000000\ttotal: 5.76s\tremaining: 47.1s\n",
            "109:\tlearn: 1.0000000\ttotal: 5.81s\tremaining: 47s\n",
            "110:\tlearn: 1.0000000\ttotal: 5.87s\tremaining: 47s\n",
            "111:\tlearn: 1.0000000\ttotal: 5.92s\tremaining: 46.9s\n",
            "112:\tlearn: 1.0000000\ttotal: 5.98s\tremaining: 46.9s\n",
            "113:\tlearn: 1.0000000\ttotal: 6.03s\tremaining: 46.9s\n",
            "114:\tlearn: 1.0000000\ttotal: 6.08s\tremaining: 46.8s\n",
            "115:\tlearn: 1.0000000\ttotal: 6.14s\tremaining: 46.8s\n",
            "116:\tlearn: 1.0000000\ttotal: 6.2s\tremaining: 46.8s\n",
            "117:\tlearn: 1.0000000\ttotal: 6.25s\tremaining: 46.7s\n",
            "118:\tlearn: 1.0000000\ttotal: 6.3s\tremaining: 46.6s\n",
            "119:\tlearn: 1.0000000\ttotal: 6.35s\tremaining: 46.6s\n",
            "120:\tlearn: 1.0000000\ttotal: 6.4s\tremaining: 46.5s\n",
            "121:\tlearn: 1.0000000\ttotal: 6.45s\tremaining: 46.4s\n",
            "122:\tlearn: 1.0000000\ttotal: 6.51s\tremaining: 46.4s\n",
            "123:\tlearn: 1.0000000\ttotal: 6.56s\tremaining: 46.3s\n",
            "124:\tlearn: 1.0000000\ttotal: 6.61s\tremaining: 46.3s\n",
            "125:\tlearn: 1.0000000\ttotal: 6.66s\tremaining: 46.2s\n",
            "126:\tlearn: 1.0000000\ttotal: 6.72s\tremaining: 46.2s\n",
            "127:\tlearn: 1.0000000\ttotal: 6.77s\tremaining: 46.1s\n",
            "128:\tlearn: 1.0000000\ttotal: 6.82s\tremaining: 46s\n",
            "129:\tlearn: 1.0000000\ttotal: 6.87s\tremaining: 46s\n",
            "130:\tlearn: 1.0000000\ttotal: 6.92s\tremaining: 45.9s\n",
            "131:\tlearn: 1.0000000\ttotal: 6.98s\tremaining: 45.9s\n",
            "132:\tlearn: 1.0000000\ttotal: 7.04s\tremaining: 45.9s\n",
            "133:\tlearn: 1.0000000\ttotal: 7.09s\tremaining: 45.8s\n",
            "134:\tlearn: 1.0000000\ttotal: 7.14s\tremaining: 45.7s\n",
            "135:\tlearn: 1.0000000\ttotal: 7.19s\tremaining: 45.7s\n",
            "136:\tlearn: 1.0000000\ttotal: 7.24s\tremaining: 45.6s\n",
            "137:\tlearn: 1.0000000\ttotal: 7.29s\tremaining: 45.5s\n",
            "138:\tlearn: 1.0000000\ttotal: 7.35s\tremaining: 45.5s\n",
            "139:\tlearn: 1.0000000\ttotal: 7.4s\tremaining: 45.5s\n",
            "140:\tlearn: 1.0000000\ttotal: 7.45s\tremaining: 45.4s\n",
            "141:\tlearn: 1.0000000\ttotal: 7.51s\tremaining: 45.4s\n",
            "142:\tlearn: 1.0000000\ttotal: 7.57s\tremaining: 45.4s\n",
            "143:\tlearn: 1.0000000\ttotal: 7.62s\tremaining: 45.3s\n",
            "144:\tlearn: 1.0000000\ttotal: 7.67s\tremaining: 45.2s\n",
            "145:\tlearn: 1.0000000\ttotal: 7.72s\tremaining: 45.2s\n",
            "146:\tlearn: 1.0000000\ttotal: 7.77s\tremaining: 45.1s\n",
            "147:\tlearn: 1.0000000\ttotal: 7.83s\tremaining: 45.1s\n",
            "148:\tlearn: 1.0000000\ttotal: 7.88s\tremaining: 45s\n",
            "149:\tlearn: 1.0000000\ttotal: 7.92s\tremaining: 44.9s\n",
            "150:\tlearn: 1.0000000\ttotal: 7.99s\tremaining: 44.9s\n",
            "151:\tlearn: 1.0000000\ttotal: 8.04s\tremaining: 44.9s\n",
            "152:\tlearn: 1.0000000\ttotal: 8.09s\tremaining: 44.8s\n",
            "153:\tlearn: 1.0000000\ttotal: 8.14s\tremaining: 44.7s\n",
            "154:\tlearn: 1.0000000\ttotal: 8.2s\tremaining: 44.7s\n",
            "155:\tlearn: 1.0000000\ttotal: 8.26s\tremaining: 44.7s\n",
            "156:\tlearn: 1.0000000\ttotal: 8.31s\tremaining: 44.6s\n",
            "157:\tlearn: 1.0000000\ttotal: 8.37s\tremaining: 44.6s\n",
            "158:\tlearn: 1.0000000\ttotal: 8.42s\tremaining: 44.5s\n",
            "159:\tlearn: 1.0000000\ttotal: 8.48s\tremaining: 44.5s\n",
            "160:\tlearn: 1.0000000\ttotal: 8.53s\tremaining: 44.4s\n",
            "161:\tlearn: 1.0000000\ttotal: 8.58s\tremaining: 44.4s\n",
            "162:\tlearn: 1.0000000\ttotal: 8.63s\tremaining: 44.3s\n",
            "163:\tlearn: 1.0000000\ttotal: 8.69s\tremaining: 44.3s\n",
            "164:\tlearn: 1.0000000\ttotal: 8.73s\tremaining: 44.2s\n",
            "165:\tlearn: 1.0000000\ttotal: 8.79s\tremaining: 44.1s\n",
            "166:\tlearn: 1.0000000\ttotal: 8.83s\tremaining: 44.1s\n",
            "167:\tlearn: 1.0000000\ttotal: 8.89s\tremaining: 44s\n",
            "168:\tlearn: 1.0000000\ttotal: 8.94s\tremaining: 43.9s\n",
            "169:\tlearn: 1.0000000\ttotal: 9s\tremaining: 43.9s\n",
            "170:\tlearn: 1.0000000\ttotal: 9.05s\tremaining: 43.9s\n",
            "171:\tlearn: 1.0000000\ttotal: 9.1s\tremaining: 43.8s\n",
            "172:\tlearn: 1.0000000\ttotal: 9.16s\tremaining: 43.8s\n",
            "173:\tlearn: 1.0000000\ttotal: 9.21s\tremaining: 43.7s\n",
            "174:\tlearn: 1.0000000\ttotal: 9.27s\tremaining: 43.7s\n",
            "175:\tlearn: 1.0000000\ttotal: 9.32s\tremaining: 43.6s\n",
            "176:\tlearn: 1.0000000\ttotal: 9.37s\tremaining: 43.6s\n",
            "177:\tlearn: 1.0000000\ttotal: 9.42s\tremaining: 43.5s\n",
            "178:\tlearn: 1.0000000\ttotal: 9.49s\tremaining: 43.5s\n",
            "179:\tlearn: 1.0000000\ttotal: 9.55s\tremaining: 43.5s\n",
            "180:\tlearn: 1.0000000\ttotal: 9.6s\tremaining: 43.4s\n",
            "181:\tlearn: 1.0000000\ttotal: 9.65s\tremaining: 43.4s\n",
            "182:\tlearn: 1.0000000\ttotal: 9.7s\tremaining: 43.3s\n",
            "183:\tlearn: 1.0000000\ttotal: 9.76s\tremaining: 43.3s\n",
            "184:\tlearn: 1.0000000\ttotal: 9.81s\tremaining: 43.2s\n",
            "185:\tlearn: 1.0000000\ttotal: 9.86s\tremaining: 43.2s\n",
            "186:\tlearn: 1.0000000\ttotal: 9.91s\tremaining: 43.1s\n",
            "187:\tlearn: 1.0000000\ttotal: 9.97s\tremaining: 43s\n",
            "188:\tlearn: 1.0000000\ttotal: 10s\tremaining: 43s\n",
            "189:\tlearn: 1.0000000\ttotal: 10.1s\tremaining: 43s\n",
            "190:\tlearn: 1.0000000\ttotal: 10.1s\tremaining: 42.9s\n",
            "191:\tlearn: 1.0000000\ttotal: 10.2s\tremaining: 42.9s\n",
            "192:\tlearn: 1.0000000\ttotal: 10.2s\tremaining: 42.8s\n",
            "193:\tlearn: 1.0000000\ttotal: 10.3s\tremaining: 42.7s\n",
            "194:\tlearn: 1.0000000\ttotal: 10.3s\tremaining: 42.7s\n",
            "195:\tlearn: 1.0000000\ttotal: 10.4s\tremaining: 42.6s\n",
            "196:\tlearn: 1.0000000\ttotal: 10.4s\tremaining: 42.6s\n",
            "197:\tlearn: 1.0000000\ttotal: 10.5s\tremaining: 42.5s\n",
            "198:\tlearn: 1.0000000\ttotal: 10.6s\tremaining: 42.5s\n",
            "199:\tlearn: 1.0000000\ttotal: 10.6s\tremaining: 42.4s\n",
            "200:\tlearn: 1.0000000\ttotal: 10.7s\tremaining: 42.4s\n",
            "201:\tlearn: 1.0000000\ttotal: 10.7s\tremaining: 42.3s\n",
            "202:\tlearn: 1.0000000\ttotal: 10.8s\tremaining: 42.3s\n",
            "203:\tlearn: 1.0000000\ttotal: 10.8s\tremaining: 42.2s\n",
            "204:\tlearn: 1.0000000\ttotal: 10.9s\tremaining: 42.1s\n",
            "205:\tlearn: 1.0000000\ttotal: 10.9s\tremaining: 42.1s\n",
            "206:\tlearn: 1.0000000\ttotal: 11s\tremaining: 42s\n",
            "207:\tlearn: 1.0000000\ttotal: 11s\tremaining: 42s\n",
            "208:\tlearn: 1.0000000\ttotal: 11.1s\tremaining: 42s\n",
            "209:\tlearn: 1.0000000\ttotal: 11.1s\tremaining: 41.9s\n",
            "210:\tlearn: 1.0000000\ttotal: 11.2s\tremaining: 41.9s\n",
            "211:\tlearn: 1.0000000\ttotal: 11.3s\tremaining: 41.8s\n",
            "212:\tlearn: 1.0000000\ttotal: 11.3s\tremaining: 41.8s\n",
            "213:\tlearn: 1.0000000\ttotal: 11.4s\tremaining: 41.7s\n",
            "214:\tlearn: 1.0000000\ttotal: 11.4s\tremaining: 41.7s\n",
            "215:\tlearn: 1.0000000\ttotal: 11.5s\tremaining: 41.6s\n",
            "216:\tlearn: 1.0000000\ttotal: 11.5s\tremaining: 41.6s\n",
            "217:\tlearn: 1.0000000\ttotal: 11.6s\tremaining: 41.5s\n",
            "218:\tlearn: 1.0000000\ttotal: 11.6s\tremaining: 41.5s\n",
            "219:\tlearn: 1.0000000\ttotal: 11.7s\tremaining: 41.4s\n",
            "220:\tlearn: 1.0000000\ttotal: 11.7s\tremaining: 41.3s\n",
            "221:\tlearn: 1.0000000\ttotal: 11.8s\tremaining: 41.3s\n",
            "222:\tlearn: 1.0000000\ttotal: 11.8s\tremaining: 41.2s\n",
            "223:\tlearn: 1.0000000\ttotal: 11.9s\tremaining: 41.2s\n",
            "224:\tlearn: 1.0000000\ttotal: 11.9s\tremaining: 41.1s\n",
            "225:\tlearn: 1.0000000\ttotal: 12s\tremaining: 41.1s\n",
            "226:\tlearn: 1.0000000\ttotal: 12.1s\tremaining: 41s\n",
            "227:\tlearn: 1.0000000\ttotal: 12.1s\tremaining: 41s\n",
            "228:\tlearn: 1.0000000\ttotal: 12.2s\tremaining: 41s\n",
            "229:\tlearn: 1.0000000\ttotal: 12.2s\tremaining: 40.9s\n",
            "230:\tlearn: 1.0000000\ttotal: 12.3s\tremaining: 40.9s\n",
            "231:\tlearn: 1.0000000\ttotal: 12.3s\tremaining: 40.8s\n",
            "232:\tlearn: 1.0000000\ttotal: 12.4s\tremaining: 40.7s\n",
            "233:\tlearn: 1.0000000\ttotal: 12.4s\tremaining: 40.7s\n",
            "234:\tlearn: 1.0000000\ttotal: 12.5s\tremaining: 40.6s\n",
            "235:\tlearn: 1.0000000\ttotal: 12.5s\tremaining: 40.6s\n",
            "236:\tlearn: 1.0000000\ttotal: 12.6s\tremaining: 40.5s\n",
            "237:\tlearn: 1.0000000\ttotal: 12.6s\tremaining: 40.5s\n",
            "238:\tlearn: 1.0000000\ttotal: 12.7s\tremaining: 40.4s\n",
            "239:\tlearn: 1.0000000\ttotal: 12.7s\tremaining: 40.3s\n",
            "240:\tlearn: 1.0000000\ttotal: 12.8s\tremaining: 40.3s\n",
            "241:\tlearn: 1.0000000\ttotal: 12.8s\tremaining: 40.2s\n",
            "242:\tlearn: 1.0000000\ttotal: 12.9s\tremaining: 40.2s\n",
            "243:\tlearn: 1.0000000\ttotal: 13s\tremaining: 40.1s\n",
            "244:\tlearn: 1.0000000\ttotal: 13s\tremaining: 40.1s\n",
            "245:\tlearn: 1.0000000\ttotal: 13.1s\tremaining: 40.1s\n",
            "246:\tlearn: 1.0000000\ttotal: 13.1s\tremaining: 40s\n",
            "247:\tlearn: 1.0000000\ttotal: 13.2s\tremaining: 40s\n",
            "248:\tlearn: 1.0000000\ttotal: 13.2s\tremaining: 39.9s\n",
            "249:\tlearn: 1.0000000\ttotal: 13.3s\tremaining: 39.9s\n",
            "250:\tlearn: 1.0000000\ttotal: 13.3s\tremaining: 39.8s\n",
            "251:\tlearn: 1.0000000\ttotal: 13.4s\tremaining: 39.8s\n",
            "252:\tlearn: 1.0000000\ttotal: 13.4s\tremaining: 39.7s\n",
            "253:\tlearn: 1.0000000\ttotal: 13.5s\tremaining: 39.7s\n",
            "254:\tlearn: 1.0000000\ttotal: 13.6s\tremaining: 39.6s\n",
            "255:\tlearn: 1.0000000\ttotal: 13.6s\tremaining: 39.6s\n",
            "256:\tlearn: 1.0000000\ttotal: 13.7s\tremaining: 39.5s\n",
            "257:\tlearn: 1.0000000\ttotal: 13.7s\tremaining: 39.4s\n",
            "258:\tlearn: 1.0000000\ttotal: 13.8s\tremaining: 39.4s\n",
            "259:\tlearn: 1.0000000\ttotal: 13.8s\tremaining: 39.4s\n",
            "260:\tlearn: 1.0000000\ttotal: 13.9s\tremaining: 39.3s\n",
            "261:\tlearn: 1.0000000\ttotal: 13.9s\tremaining: 39.2s\n",
            "262:\tlearn: 1.0000000\ttotal: 14s\tremaining: 39.2s\n",
            "263:\tlearn: 1.0000000\ttotal: 14s\tremaining: 39.2s\n",
            "264:\tlearn: 1.0000000\ttotal: 14.1s\tremaining: 39.1s\n",
            "265:\tlearn: 1.0000000\ttotal: 14.2s\tremaining: 39.1s\n",
            "266:\tlearn: 1.0000000\ttotal: 14.2s\tremaining: 39s\n",
            "267:\tlearn: 1.0000000\ttotal: 14.3s\tremaining: 39s\n",
            "268:\tlearn: 1.0000000\ttotal: 14.3s\tremaining: 38.9s\n",
            "269:\tlearn: 1.0000000\ttotal: 14.4s\tremaining: 38.8s\n",
            "270:\tlearn: 1.0000000\ttotal: 14.4s\tremaining: 38.8s\n",
            "271:\tlearn: 1.0000000\ttotal: 14.5s\tremaining: 38.7s\n",
            "272:\tlearn: 1.0000000\ttotal: 14.5s\tremaining: 38.7s\n",
            "273:\tlearn: 1.0000000\ttotal: 14.6s\tremaining: 38.6s\n",
            "274:\tlearn: 1.0000000\ttotal: 14.6s\tremaining: 38.6s\n",
            "275:\tlearn: 1.0000000\ttotal: 14.7s\tremaining: 38.5s\n",
            "276:\tlearn: 1.0000000\ttotal: 14.7s\tremaining: 38.5s\n",
            "277:\tlearn: 1.0000000\ttotal: 14.8s\tremaining: 38.4s\n",
            "278:\tlearn: 1.0000000\ttotal: 14.8s\tremaining: 38.4s\n",
            "279:\tlearn: 1.0000000\ttotal: 14.9s\tremaining: 38.3s\n",
            "280:\tlearn: 1.0000000\ttotal: 15s\tremaining: 38.3s\n",
            "281:\tlearn: 1.0000000\ttotal: 15s\tremaining: 38.2s\n",
            "282:\tlearn: 1.0000000\ttotal: 15.1s\tremaining: 38.2s\n",
            "283:\tlearn: 1.0000000\ttotal: 15.1s\tremaining: 38.1s\n",
            "284:\tlearn: 1.0000000\ttotal: 15.2s\tremaining: 38.1s\n",
            "285:\tlearn: 1.0000000\ttotal: 15.2s\tremaining: 38s\n",
            "286:\tlearn: 1.0000000\ttotal: 15.3s\tremaining: 38s\n",
            "287:\tlearn: 1.0000000\ttotal: 15.3s\tremaining: 37.9s\n",
            "288:\tlearn: 1.0000000\ttotal: 15.4s\tremaining: 37.9s\n",
            "289:\tlearn: 1.0000000\ttotal: 15.4s\tremaining: 37.8s\n",
            "290:\tlearn: 1.0000000\ttotal: 15.5s\tremaining: 37.8s\n",
            "291:\tlearn: 1.0000000\ttotal: 15.6s\tremaining: 37.7s\n",
            "292:\tlearn: 1.0000000\ttotal: 15.6s\tremaining: 37.6s\n",
            "293:\tlearn: 1.0000000\ttotal: 15.7s\tremaining: 37.6s\n",
            "294:\tlearn: 1.0000000\ttotal: 15.7s\tremaining: 37.5s\n",
            "295:\tlearn: 1.0000000\ttotal: 15.8s\tremaining: 37.5s\n",
            "296:\tlearn: 1.0000000\ttotal: 15.8s\tremaining: 37.4s\n",
            "297:\tlearn: 1.0000000\ttotal: 15.9s\tremaining: 37.4s\n",
            "298:\tlearn: 1.0000000\ttotal: 15.9s\tremaining: 37.3s\n",
            "299:\tlearn: 1.0000000\ttotal: 16s\tremaining: 37.3s\n",
            "300:\tlearn: 1.0000000\ttotal: 16s\tremaining: 37.3s\n",
            "301:\tlearn: 1.0000000\ttotal: 16.1s\tremaining: 37.2s\n",
            "302:\tlearn: 1.0000000\ttotal: 16.2s\tremaining: 37.2s\n",
            "303:\tlearn: 1.0000000\ttotal: 16.2s\tremaining: 37.1s\n",
            "304:\tlearn: 1.0000000\ttotal: 16.3s\tremaining: 37.1s\n",
            "305:\tlearn: 1.0000000\ttotal: 16.3s\tremaining: 37s\n",
            "306:\tlearn: 1.0000000\ttotal: 16.4s\tremaining: 37s\n",
            "307:\tlearn: 1.0000000\ttotal: 16.4s\tremaining: 36.9s\n",
            "308:\tlearn: 1.0000000\ttotal: 16.5s\tremaining: 36.9s\n",
            "309:\tlearn: 1.0000000\ttotal: 16.5s\tremaining: 36.8s\n",
            "310:\tlearn: 1.0000000\ttotal: 16.6s\tremaining: 36.8s\n",
            "311:\tlearn: 1.0000000\ttotal: 16.6s\tremaining: 36.7s\n",
            "312:\tlearn: 1.0000000\ttotal: 16.7s\tremaining: 36.6s\n",
            "313:\tlearn: 1.0000000\ttotal: 16.7s\tremaining: 36.6s\n",
            "314:\tlearn: 1.0000000\ttotal: 16.8s\tremaining: 36.5s\n",
            "315:\tlearn: 1.0000000\ttotal: 16.9s\tremaining: 36.5s\n",
            "316:\tlearn: 1.0000000\ttotal: 16.9s\tremaining: 36.4s\n",
            "317:\tlearn: 1.0000000\ttotal: 17s\tremaining: 36.4s\n",
            "318:\tlearn: 1.0000000\ttotal: 17s\tremaining: 36.3s\n",
            "319:\tlearn: 1.0000000\ttotal: 17.1s\tremaining: 36.3s\n",
            "320:\tlearn: 1.0000000\ttotal: 17.1s\tremaining: 36.2s\n",
            "321:\tlearn: 1.0000000\ttotal: 17.2s\tremaining: 36.2s\n",
            "322:\tlearn: 1.0000000\ttotal: 17.2s\tremaining: 36.1s\n",
            "323:\tlearn: 1.0000000\ttotal: 17.3s\tremaining: 36.1s\n",
            "324:\tlearn: 1.0000000\ttotal: 17.3s\tremaining: 36s\n",
            "325:\tlearn: 1.0000000\ttotal: 17.4s\tremaining: 36s\n",
            "326:\tlearn: 1.0000000\ttotal: 17.4s\tremaining: 35.9s\n",
            "327:\tlearn: 1.0000000\ttotal: 17.5s\tremaining: 35.9s\n",
            "328:\tlearn: 1.0000000\ttotal: 17.6s\tremaining: 35.8s\n",
            "329:\tlearn: 1.0000000\ttotal: 17.6s\tremaining: 35.7s\n",
            "330:\tlearn: 1.0000000\ttotal: 17.7s\tremaining: 35.7s\n",
            "331:\tlearn: 1.0000000\ttotal: 17.7s\tremaining: 35.6s\n",
            "332:\tlearn: 1.0000000\ttotal: 17.8s\tremaining: 35.6s\n",
            "333:\tlearn: 1.0000000\ttotal: 17.8s\tremaining: 35.5s\n",
            "334:\tlearn: 1.0000000\ttotal: 17.9s\tremaining: 35.5s\n",
            "335:\tlearn: 1.0000000\ttotal: 17.9s\tremaining: 35.4s\n",
            "336:\tlearn: 1.0000000\ttotal: 18s\tremaining: 35.4s\n",
            "337:\tlearn: 1.0000000\ttotal: 18s\tremaining: 35.4s\n",
            "338:\tlearn: 1.0000000\ttotal: 18.1s\tremaining: 35.3s\n",
            "339:\tlearn: 1.0000000\ttotal: 18.2s\tremaining: 35.2s\n",
            "340:\tlearn: 1.0000000\ttotal: 18.2s\tremaining: 35.2s\n",
            "341:\tlearn: 1.0000000\ttotal: 18.3s\tremaining: 35.1s\n",
            "342:\tlearn: 1.0000000\ttotal: 18.3s\tremaining: 35.1s\n",
            "343:\tlearn: 1.0000000\ttotal: 18.4s\tremaining: 35s\n",
            "344:\tlearn: 1.0000000\ttotal: 18.4s\tremaining: 35s\n",
            "345:\tlearn: 1.0000000\ttotal: 18.5s\tremaining: 34.9s\n",
            "346:\tlearn: 1.0000000\ttotal: 18.5s\tremaining: 34.9s\n",
            "347:\tlearn: 1.0000000\ttotal: 18.6s\tremaining: 34.8s\n",
            "348:\tlearn: 1.0000000\ttotal: 18.6s\tremaining: 34.7s\n",
            "349:\tlearn: 1.0000000\ttotal: 18.7s\tremaining: 34.7s\n",
            "350:\tlearn: 1.0000000\ttotal: 18.7s\tremaining: 34.6s\n",
            "351:\tlearn: 1.0000000\ttotal: 18.8s\tremaining: 34.6s\n",
            "352:\tlearn: 1.0000000\ttotal: 18.8s\tremaining: 34.5s\n",
            "353:\tlearn: 1.0000000\ttotal: 18.9s\tremaining: 34.5s\n",
            "354:\tlearn: 1.0000000\ttotal: 18.9s\tremaining: 34.4s\n",
            "355:\tlearn: 1.0000000\ttotal: 19s\tremaining: 34.4s\n",
            "356:\tlearn: 1.0000000\ttotal: 19.1s\tremaining: 34.3s\n",
            "357:\tlearn: 1.0000000\ttotal: 19.1s\tremaining: 34.3s\n",
            "358:\tlearn: 1.0000000\ttotal: 19.2s\tremaining: 34.2s\n",
            "359:\tlearn: 1.0000000\ttotal: 19.2s\tremaining: 34.2s\n",
            "360:\tlearn: 1.0000000\ttotal: 19.3s\tremaining: 34.1s\n",
            "361:\tlearn: 1.0000000\ttotal: 19.3s\tremaining: 34.1s\n",
            "362:\tlearn: 1.0000000\ttotal: 19.4s\tremaining: 34s\n",
            "363:\tlearn: 1.0000000\ttotal: 19.5s\tremaining: 34s\n",
            "364:\tlearn: 1.0000000\ttotal: 19.5s\tremaining: 33.9s\n",
            "365:\tlearn: 1.0000000\ttotal: 19.6s\tremaining: 33.9s\n",
            "366:\tlearn: 1.0000000\ttotal: 19.6s\tremaining: 33.8s\n",
            "367:\tlearn: 1.0000000\ttotal: 19.7s\tremaining: 33.8s\n",
            "368:\tlearn: 1.0000000\ttotal: 19.7s\tremaining: 33.7s\n",
            "369:\tlearn: 1.0000000\ttotal: 19.8s\tremaining: 33.7s\n",
            "370:\tlearn: 1.0000000\ttotal: 19.8s\tremaining: 33.6s\n",
            "371:\tlearn: 1.0000000\ttotal: 19.9s\tremaining: 33.6s\n",
            "372:\tlearn: 1.0000000\ttotal: 19.9s\tremaining: 33.5s\n",
            "373:\tlearn: 1.0000000\ttotal: 20s\tremaining: 33.4s\n",
            "374:\tlearn: 1.0000000\ttotal: 20s\tremaining: 33.4s\n",
            "375:\tlearn: 1.0000000\ttotal: 20.1s\tremaining: 33.4s\n",
            "376:\tlearn: 1.0000000\ttotal: 20.1s\tremaining: 33.3s\n",
            "377:\tlearn: 1.0000000\ttotal: 20.2s\tremaining: 33.2s\n",
            "378:\tlearn: 1.0000000\ttotal: 20.3s\tremaining: 33.2s\n",
            "379:\tlearn: 1.0000000\ttotal: 20.3s\tremaining: 33.1s\n",
            "380:\tlearn: 1.0000000\ttotal: 20.4s\tremaining: 33.1s\n",
            "381:\tlearn: 1.0000000\ttotal: 20.4s\tremaining: 33s\n",
            "382:\tlearn: 1.0000000\ttotal: 20.5s\tremaining: 33s\n",
            "383:\tlearn: 1.0000000\ttotal: 20.5s\tremaining: 32.9s\n",
            "384:\tlearn: 1.0000000\ttotal: 20.6s\tremaining: 32.9s\n",
            "385:\tlearn: 1.0000000\ttotal: 20.6s\tremaining: 32.8s\n",
            "386:\tlearn: 1.0000000\ttotal: 20.7s\tremaining: 32.8s\n",
            "387:\tlearn: 1.0000000\ttotal: 20.7s\tremaining: 32.7s\n",
            "388:\tlearn: 1.0000000\ttotal: 20.8s\tremaining: 32.7s\n",
            "389:\tlearn: 1.0000000\ttotal: 20.8s\tremaining: 32.6s\n",
            "390:\tlearn: 1.0000000\ttotal: 20.9s\tremaining: 32.6s\n",
            "391:\tlearn: 1.0000000\ttotal: 20.9s\tremaining: 32.5s\n",
            "392:\tlearn: 1.0000000\ttotal: 21s\tremaining: 32.4s\n",
            "393:\tlearn: 1.0000000\ttotal: 21.1s\tremaining: 32.4s\n",
            "394:\tlearn: 1.0000000\ttotal: 21.1s\tremaining: 32.3s\n",
            "395:\tlearn: 1.0000000\ttotal: 21.2s\tremaining: 32.3s\n",
            "396:\tlearn: 1.0000000\ttotal: 21.2s\tremaining: 32.2s\n",
            "397:\tlearn: 1.0000000\ttotal: 21.3s\tremaining: 32.2s\n",
            "398:\tlearn: 1.0000000\ttotal: 21.3s\tremaining: 32.1s\n",
            "399:\tlearn: 1.0000000\ttotal: 21.4s\tremaining: 32.1s\n",
            "400:\tlearn: 1.0000000\ttotal: 21.4s\tremaining: 32s\n",
            "401:\tlearn: 1.0000000\ttotal: 21.5s\tremaining: 32s\n",
            "402:\tlearn: 1.0000000\ttotal: 21.5s\tremaining: 31.9s\n",
            "403:\tlearn: 1.0000000\ttotal: 21.6s\tremaining: 31.9s\n",
            "404:\tlearn: 1.0000000\ttotal: 21.6s\tremaining: 31.8s\n",
            "405:\tlearn: 1.0000000\ttotal: 21.7s\tremaining: 31.8s\n",
            "406:\tlearn: 1.0000000\ttotal: 21.8s\tremaining: 31.7s\n",
            "407:\tlearn: 1.0000000\ttotal: 21.8s\tremaining: 31.6s\n",
            "408:\tlearn: 1.0000000\ttotal: 21.9s\tremaining: 31.6s\n",
            "409:\tlearn: 1.0000000\ttotal: 21.9s\tremaining: 31.5s\n",
            "410:\tlearn: 1.0000000\ttotal: 22s\tremaining: 31.5s\n",
            "411:\tlearn: 1.0000000\ttotal: 22s\tremaining: 31.4s\n",
            "412:\tlearn: 1.0000000\ttotal: 22.1s\tremaining: 31.4s\n",
            "413:\tlearn: 1.0000000\ttotal: 22.1s\tremaining: 31.3s\n",
            "414:\tlearn: 1.0000000\ttotal: 22.2s\tremaining: 31.3s\n",
            "415:\tlearn: 1.0000000\ttotal: 22.2s\tremaining: 31.2s\n",
            "416:\tlearn: 1.0000000\ttotal: 22.3s\tremaining: 31.2s\n",
            "417:\tlearn: 1.0000000\ttotal: 22.4s\tremaining: 31.1s\n",
            "418:\tlearn: 1.0000000\ttotal: 22.4s\tremaining: 31.1s\n",
            "419:\tlearn: 1.0000000\ttotal: 22.5s\tremaining: 31s\n",
            "420:\tlearn: 1.0000000\ttotal: 22.5s\tremaining: 31s\n",
            "421:\tlearn: 1.0000000\ttotal: 22.6s\tremaining: 30.9s\n",
            "422:\tlearn: 1.0000000\ttotal: 22.6s\tremaining: 30.9s\n",
            "423:\tlearn: 1.0000000\ttotal: 22.7s\tremaining: 30.8s\n",
            "424:\tlearn: 1.0000000\ttotal: 22.7s\tremaining: 30.8s\n",
            "425:\tlearn: 1.0000000\ttotal: 22.8s\tremaining: 30.7s\n",
            "426:\tlearn: 1.0000000\ttotal: 22.8s\tremaining: 30.7s\n",
            "427:\tlearn: 1.0000000\ttotal: 22.9s\tremaining: 30.6s\n",
            "428:\tlearn: 1.0000000\ttotal: 22.9s\tremaining: 30.5s\n",
            "429:\tlearn: 1.0000000\ttotal: 23s\tremaining: 30.5s\n",
            "430:\tlearn: 1.0000000\ttotal: 23.1s\tremaining: 30.4s\n",
            "431:\tlearn: 1.0000000\ttotal: 23.1s\tremaining: 30.4s\n",
            "432:\tlearn: 1.0000000\ttotal: 23.2s\tremaining: 30.3s\n",
            "433:\tlearn: 1.0000000\ttotal: 23.2s\tremaining: 30.3s\n",
            "434:\tlearn: 1.0000000\ttotal: 23.3s\tremaining: 30.2s\n",
            "435:\tlearn: 1.0000000\ttotal: 23.3s\tremaining: 30.2s\n",
            "436:\tlearn: 1.0000000\ttotal: 23.4s\tremaining: 30.1s\n",
            "437:\tlearn: 1.0000000\ttotal: 23.4s\tremaining: 30.1s\n",
            "438:\tlearn: 1.0000000\ttotal: 23.5s\tremaining: 30s\n",
            "439:\tlearn: 1.0000000\ttotal: 23.5s\tremaining: 30s\n",
            "440:\tlearn: 1.0000000\ttotal: 23.6s\tremaining: 29.9s\n",
            "441:\tlearn: 1.0000000\ttotal: 23.7s\tremaining: 29.9s\n",
            "442:\tlearn: 1.0000000\ttotal: 23.7s\tremaining: 29.8s\n",
            "443:\tlearn: 1.0000000\ttotal: 23.8s\tremaining: 29.8s\n",
            "444:\tlearn: 1.0000000\ttotal: 23.8s\tremaining: 29.7s\n",
            "445:\tlearn: 1.0000000\ttotal: 23.9s\tremaining: 29.6s\n",
            "446:\tlearn: 1.0000000\ttotal: 23.9s\tremaining: 29.6s\n",
            "447:\tlearn: 1.0000000\ttotal: 24s\tremaining: 29.5s\n",
            "448:\tlearn: 1.0000000\ttotal: 24s\tremaining: 29.5s\n",
            "449:\tlearn: 1.0000000\ttotal: 24.1s\tremaining: 29.4s\n",
            "450:\tlearn: 1.0000000\ttotal: 24.1s\tremaining: 29.4s\n",
            "451:\tlearn: 1.0000000\ttotal: 24.2s\tremaining: 29.3s\n",
            "452:\tlearn: 1.0000000\ttotal: 24.2s\tremaining: 29.3s\n",
            "453:\tlearn: 1.0000000\ttotal: 24.3s\tremaining: 29.2s\n",
            "454:\tlearn: 1.0000000\ttotal: 24.4s\tremaining: 29.2s\n",
            "455:\tlearn: 1.0000000\ttotal: 24.4s\tremaining: 29.1s\n",
            "456:\tlearn: 1.0000000\ttotal: 24.5s\tremaining: 29.1s\n",
            "457:\tlearn: 1.0000000\ttotal: 24.5s\tremaining: 29s\n",
            "458:\tlearn: 1.0000000\ttotal: 24.6s\tremaining: 29s\n",
            "459:\tlearn: 1.0000000\ttotal: 24.6s\tremaining: 28.9s\n",
            "460:\tlearn: 1.0000000\ttotal: 24.7s\tremaining: 28.9s\n",
            "461:\tlearn: 1.0000000\ttotal: 24.7s\tremaining: 28.8s\n",
            "462:\tlearn: 1.0000000\ttotal: 24.8s\tremaining: 28.8s\n",
            "463:\tlearn: 1.0000000\ttotal: 24.8s\tremaining: 28.7s\n",
            "464:\tlearn: 1.0000000\ttotal: 24.9s\tremaining: 28.6s\n",
            "465:\tlearn: 1.0000000\ttotal: 25s\tremaining: 28.6s\n",
            "466:\tlearn: 1.0000000\ttotal: 25s\tremaining: 28.5s\n",
            "467:\tlearn: 1.0000000\ttotal: 25.1s\tremaining: 28.5s\n",
            "468:\tlearn: 1.0000000\ttotal: 25.1s\tremaining: 28.4s\n",
            "469:\tlearn: 1.0000000\ttotal: 25.2s\tremaining: 28.4s\n",
            "470:\tlearn: 1.0000000\ttotal: 25.2s\tremaining: 28.3s\n",
            "471:\tlearn: 1.0000000\ttotal: 25.3s\tremaining: 28.3s\n",
            "472:\tlearn: 1.0000000\ttotal: 25.3s\tremaining: 28.2s\n",
            "473:\tlearn: 1.0000000\ttotal: 25.4s\tremaining: 28.2s\n",
            "474:\tlearn: 1.0000000\ttotal: 25.5s\tremaining: 28.1s\n",
            "475:\tlearn: 1.0000000\ttotal: 25.5s\tremaining: 28.1s\n",
            "476:\tlearn: 1.0000000\ttotal: 25.6s\tremaining: 28s\n",
            "477:\tlearn: 1.0000000\ttotal: 25.6s\tremaining: 28s\n",
            "478:\tlearn: 1.0000000\ttotal: 25.7s\tremaining: 27.9s\n",
            "479:\tlearn: 1.0000000\ttotal: 25.7s\tremaining: 27.9s\n",
            "480:\tlearn: 1.0000000\ttotal: 25.8s\tremaining: 27.8s\n",
            "481:\tlearn: 1.0000000\ttotal: 25.8s\tremaining: 27.8s\n",
            "482:\tlearn: 1.0000000\ttotal: 25.9s\tremaining: 27.7s\n",
            "483:\tlearn: 1.0000000\ttotal: 25.9s\tremaining: 27.7s\n",
            "484:\tlearn: 1.0000000\ttotal: 26s\tremaining: 27.6s\n",
            "485:\tlearn: 1.0000000\ttotal: 26.1s\tremaining: 27.6s\n",
            "486:\tlearn: 1.0000000\ttotal: 26.1s\tremaining: 27.5s\n",
            "487:\tlearn: 1.0000000\ttotal: 26.2s\tremaining: 27.5s\n",
            "488:\tlearn: 1.0000000\ttotal: 26.2s\tremaining: 27.4s\n",
            "489:\tlearn: 1.0000000\ttotal: 26.3s\tremaining: 27.4s\n",
            "490:\tlearn: 1.0000000\ttotal: 26.3s\tremaining: 27.3s\n",
            "491:\tlearn: 1.0000000\ttotal: 26.4s\tremaining: 27.3s\n",
            "492:\tlearn: 1.0000000\ttotal: 26.4s\tremaining: 27.2s\n",
            "493:\tlearn: 1.0000000\ttotal: 26.5s\tremaining: 27.1s\n",
            "494:\tlearn: 1.0000000\ttotal: 26.6s\tremaining: 27.1s\n",
            "495:\tlearn: 1.0000000\ttotal: 26.6s\tremaining: 27s\n",
            "496:\tlearn: 1.0000000\ttotal: 26.7s\tremaining: 27s\n",
            "497:\tlearn: 1.0000000\ttotal: 26.7s\tremaining: 26.9s\n",
            "498:\tlearn: 1.0000000\ttotal: 26.8s\tremaining: 26.9s\n",
            "499:\tlearn: 1.0000000\ttotal: 26.8s\tremaining: 26.8s\n",
            "500:\tlearn: 1.0000000\ttotal: 26.9s\tremaining: 26.8s\n",
            "501:\tlearn: 1.0000000\ttotal: 26.9s\tremaining: 26.7s\n",
            "502:\tlearn: 1.0000000\ttotal: 27s\tremaining: 26.7s\n",
            "503:\tlearn: 1.0000000\ttotal: 27s\tremaining: 26.6s\n",
            "504:\tlearn: 1.0000000\ttotal: 27.1s\tremaining: 26.6s\n",
            "505:\tlearn: 1.0000000\ttotal: 27.1s\tremaining: 26.5s\n",
            "506:\tlearn: 1.0000000\ttotal: 27.2s\tremaining: 26.5s\n",
            "507:\tlearn: 1.0000000\ttotal: 27.3s\tremaining: 26.4s\n",
            "508:\tlearn: 1.0000000\ttotal: 27.3s\tremaining: 26.3s\n",
            "509:\tlearn: 1.0000000\ttotal: 27.4s\tremaining: 26.3s\n",
            "510:\tlearn: 1.0000000\ttotal: 27.4s\tremaining: 26.2s\n",
            "511:\tlearn: 1.0000000\ttotal: 27.5s\tremaining: 26.2s\n",
            "512:\tlearn: 1.0000000\ttotal: 27.5s\tremaining: 26.1s\n",
            "513:\tlearn: 1.0000000\ttotal: 27.6s\tremaining: 26.1s\n",
            "514:\tlearn: 1.0000000\ttotal: 27.6s\tremaining: 26s\n",
            "515:\tlearn: 1.0000000\ttotal: 27.7s\tremaining: 26s\n",
            "516:\tlearn: 1.0000000\ttotal: 27.7s\tremaining: 25.9s\n",
            "517:\tlearn: 1.0000000\ttotal: 27.8s\tremaining: 25.9s\n",
            "518:\tlearn: 1.0000000\ttotal: 27.8s\tremaining: 25.8s\n",
            "519:\tlearn: 1.0000000\ttotal: 27.9s\tremaining: 25.7s\n",
            "520:\tlearn: 1.0000000\ttotal: 28s\tremaining: 25.7s\n",
            "521:\tlearn: 1.0000000\ttotal: 28s\tremaining: 25.6s\n",
            "522:\tlearn: 1.0000000\ttotal: 28.1s\tremaining: 25.6s\n",
            "523:\tlearn: 1.0000000\ttotal: 28.1s\tremaining: 25.5s\n",
            "524:\tlearn: 1.0000000\ttotal: 28.2s\tremaining: 25.5s\n",
            "525:\tlearn: 1.0000000\ttotal: 28.2s\tremaining: 25.4s\n",
            "526:\tlearn: 1.0000000\ttotal: 28.3s\tremaining: 25.4s\n",
            "527:\tlearn: 1.0000000\ttotal: 28.3s\tremaining: 25.3s\n",
            "528:\tlearn: 1.0000000\ttotal: 28.4s\tremaining: 25.3s\n",
            "529:\tlearn: 1.0000000\ttotal: 28.4s\tremaining: 25.2s\n",
            "530:\tlearn: 1.0000000\ttotal: 28.5s\tremaining: 25.2s\n",
            "531:\tlearn: 1.0000000\ttotal: 28.5s\tremaining: 25.1s\n",
            "532:\tlearn: 1.0000000\ttotal: 28.6s\tremaining: 25s\n",
            "533:\tlearn: 1.0000000\ttotal: 28.7s\tremaining: 25s\n",
            "534:\tlearn: 1.0000000\ttotal: 28.7s\tremaining: 24.9s\n",
            "535:\tlearn: 1.0000000\ttotal: 28.8s\tremaining: 24.9s\n",
            "536:\tlearn: 1.0000000\ttotal: 28.8s\tremaining: 24.8s\n",
            "537:\tlearn: 1.0000000\ttotal: 28.9s\tremaining: 24.8s\n",
            "538:\tlearn: 1.0000000\ttotal: 28.9s\tremaining: 24.7s\n",
            "539:\tlearn: 1.0000000\ttotal: 29s\tremaining: 24.7s\n",
            "540:\tlearn: 1.0000000\ttotal: 29s\tremaining: 24.6s\n",
            "541:\tlearn: 1.0000000\ttotal: 29.1s\tremaining: 24.6s\n",
            "542:\tlearn: 1.0000000\ttotal: 29.1s\tremaining: 24.5s\n",
            "543:\tlearn: 1.0000000\ttotal: 29.2s\tremaining: 24.5s\n",
            "544:\tlearn: 1.0000000\ttotal: 29.2s\tremaining: 24.4s\n",
            "545:\tlearn: 1.0000000\ttotal: 29.3s\tremaining: 24.4s\n",
            "546:\tlearn: 1.0000000\ttotal: 29.3s\tremaining: 24.3s\n",
            "547:\tlearn: 1.0000000\ttotal: 29.4s\tremaining: 24.2s\n",
            "548:\tlearn: 1.0000000\ttotal: 29.4s\tremaining: 24.2s\n",
            "549:\tlearn: 1.0000000\ttotal: 29.5s\tremaining: 24.1s\n",
            "550:\tlearn: 1.0000000\ttotal: 29.6s\tremaining: 24.1s\n",
            "551:\tlearn: 1.0000000\ttotal: 29.6s\tremaining: 24s\n",
            "552:\tlearn: 1.0000000\ttotal: 29.7s\tremaining: 24s\n",
            "553:\tlearn: 1.0000000\ttotal: 29.7s\tremaining: 23.9s\n",
            "554:\tlearn: 1.0000000\ttotal: 29.8s\tremaining: 23.9s\n",
            "555:\tlearn: 1.0000000\ttotal: 29.8s\tremaining: 23.8s\n",
            "556:\tlearn: 1.0000000\ttotal: 29.9s\tremaining: 23.8s\n",
            "557:\tlearn: 1.0000000\ttotal: 29.9s\tremaining: 23.7s\n",
            "558:\tlearn: 1.0000000\ttotal: 30s\tremaining: 23.6s\n",
            "559:\tlearn: 1.0000000\ttotal: 30s\tremaining: 23.6s\n",
            "560:\tlearn: 1.0000000\ttotal: 30.1s\tremaining: 23.6s\n",
            "561:\tlearn: 1.0000000\ttotal: 30.2s\tremaining: 23.5s\n",
            "562:\tlearn: 1.0000000\ttotal: 30.2s\tremaining: 23.4s\n",
            "563:\tlearn: 1.0000000\ttotal: 30.3s\tremaining: 23.4s\n",
            "564:\tlearn: 1.0000000\ttotal: 30.3s\tremaining: 23.3s\n",
            "565:\tlearn: 1.0000000\ttotal: 30.4s\tremaining: 23.3s\n",
            "566:\tlearn: 1.0000000\ttotal: 30.4s\tremaining: 23.2s\n",
            "567:\tlearn: 1.0000000\ttotal: 30.5s\tremaining: 23.2s\n",
            "568:\tlearn: 1.0000000\ttotal: 30.5s\tremaining: 23.1s\n",
            "569:\tlearn: 1.0000000\ttotal: 30.6s\tremaining: 23.1s\n",
            "570:\tlearn: 1.0000000\ttotal: 30.6s\tremaining: 23s\n",
            "571:\tlearn: 1.0000000\ttotal: 30.7s\tremaining: 23s\n",
            "572:\tlearn: 1.0000000\ttotal: 30.7s\tremaining: 22.9s\n",
            "573:\tlearn: 1.0000000\ttotal: 30.8s\tremaining: 22.9s\n",
            "574:\tlearn: 1.0000000\ttotal: 30.9s\tremaining: 22.8s\n",
            "575:\tlearn: 1.0000000\ttotal: 30.9s\tremaining: 22.8s\n",
            "576:\tlearn: 1.0000000\ttotal: 31s\tremaining: 22.7s\n",
            "577:\tlearn: 1.0000000\ttotal: 31s\tremaining: 22.6s\n",
            "578:\tlearn: 1.0000000\ttotal: 31.1s\tremaining: 22.6s\n",
            "579:\tlearn: 1.0000000\ttotal: 31.1s\tremaining: 22.5s\n",
            "580:\tlearn: 1.0000000\ttotal: 31.2s\tremaining: 22.5s\n",
            "581:\tlearn: 1.0000000\ttotal: 31.2s\tremaining: 22.4s\n",
            "582:\tlearn: 1.0000000\ttotal: 31.3s\tremaining: 22.4s\n",
            "583:\tlearn: 1.0000000\ttotal: 31.3s\tremaining: 22.3s\n",
            "584:\tlearn: 1.0000000\ttotal: 31.4s\tremaining: 22.3s\n",
            "585:\tlearn: 1.0000000\ttotal: 31.5s\tremaining: 22.2s\n",
            "586:\tlearn: 1.0000000\ttotal: 31.5s\tremaining: 22.2s\n",
            "587:\tlearn: 1.0000000\ttotal: 31.6s\tremaining: 22.1s\n",
            "588:\tlearn: 1.0000000\ttotal: 31.6s\tremaining: 22.1s\n",
            "589:\tlearn: 1.0000000\ttotal: 31.7s\tremaining: 22s\n",
            "590:\tlearn: 1.0000000\ttotal: 31.7s\tremaining: 21.9s\n",
            "591:\tlearn: 1.0000000\ttotal: 31.8s\tremaining: 21.9s\n",
            "592:\tlearn: 1.0000000\ttotal: 31.8s\tremaining: 21.8s\n",
            "593:\tlearn: 1.0000000\ttotal: 31.9s\tremaining: 21.8s\n",
            "594:\tlearn: 1.0000000\ttotal: 31.9s\tremaining: 21.7s\n",
            "595:\tlearn: 1.0000000\ttotal: 32s\tremaining: 21.7s\n",
            "596:\tlearn: 1.0000000\ttotal: 32s\tremaining: 21.6s\n",
            "597:\tlearn: 1.0000000\ttotal: 32.1s\tremaining: 21.6s\n",
            "598:\tlearn: 1.0000000\ttotal: 32.1s\tremaining: 21.5s\n",
            "599:\tlearn: 1.0000000\ttotal: 32.2s\tremaining: 21.5s\n",
            "600:\tlearn: 1.0000000\ttotal: 32.3s\tremaining: 21.4s\n",
            "601:\tlearn: 1.0000000\ttotal: 32.3s\tremaining: 21.4s\n",
            "602:\tlearn: 1.0000000\ttotal: 32.4s\tremaining: 21.3s\n",
            "603:\tlearn: 1.0000000\ttotal: 32.4s\tremaining: 21.3s\n",
            "604:\tlearn: 1.0000000\ttotal: 32.5s\tremaining: 21.2s\n",
            "605:\tlearn: 1.0000000\ttotal: 32.5s\tremaining: 21.1s\n",
            "606:\tlearn: 1.0000000\ttotal: 32.6s\tremaining: 21.1s\n",
            "607:\tlearn: 1.0000000\ttotal: 32.6s\tremaining: 21s\n",
            "608:\tlearn: 1.0000000\ttotal: 32.7s\tremaining: 21s\n",
            "609:\tlearn: 1.0000000\ttotal: 32.7s\tremaining: 20.9s\n",
            "610:\tlearn: 1.0000000\ttotal: 32.8s\tremaining: 20.9s\n",
            "611:\tlearn: 1.0000000\ttotal: 32.8s\tremaining: 20.8s\n",
            "612:\tlearn: 1.0000000\ttotal: 32.9s\tremaining: 20.8s\n",
            "613:\tlearn: 1.0000000\ttotal: 32.9s\tremaining: 20.7s\n",
            "614:\tlearn: 1.0000000\ttotal: 33s\tremaining: 20.7s\n",
            "615:\tlearn: 1.0000000\ttotal: 33.1s\tremaining: 20.6s\n",
            "616:\tlearn: 1.0000000\ttotal: 33.1s\tremaining: 20.6s\n",
            "617:\tlearn: 1.0000000\ttotal: 33.2s\tremaining: 20.5s\n",
            "618:\tlearn: 1.0000000\ttotal: 33.2s\tremaining: 20.5s\n",
            "619:\tlearn: 1.0000000\ttotal: 33.3s\tremaining: 20.4s\n",
            "620:\tlearn: 1.0000000\ttotal: 33.3s\tremaining: 20.3s\n",
            "621:\tlearn: 1.0000000\ttotal: 33.4s\tremaining: 20.3s\n",
            "622:\tlearn: 1.0000000\ttotal: 33.4s\tremaining: 20.2s\n",
            "623:\tlearn: 1.0000000\ttotal: 33.5s\tremaining: 20.2s\n",
            "624:\tlearn: 1.0000000\ttotal: 33.6s\tremaining: 20.1s\n",
            "625:\tlearn: 1.0000000\ttotal: 33.6s\tremaining: 20.1s\n",
            "626:\tlearn: 1.0000000\ttotal: 33.7s\tremaining: 20s\n",
            "627:\tlearn: 1.0000000\ttotal: 33.7s\tremaining: 20s\n",
            "628:\tlearn: 1.0000000\ttotal: 33.8s\tremaining: 19.9s\n",
            "629:\tlearn: 1.0000000\ttotal: 33.8s\tremaining: 19.9s\n",
            "630:\tlearn: 1.0000000\ttotal: 33.9s\tremaining: 19.8s\n",
            "631:\tlearn: 1.0000000\ttotal: 33.9s\tremaining: 19.8s\n",
            "632:\tlearn: 1.0000000\ttotal: 34s\tremaining: 19.7s\n",
            "633:\tlearn: 1.0000000\ttotal: 34s\tremaining: 19.6s\n",
            "634:\tlearn: 1.0000000\ttotal: 34.1s\tremaining: 19.6s\n",
            "635:\tlearn: 1.0000000\ttotal: 34.1s\tremaining: 19.5s\n",
            "636:\tlearn: 1.0000000\ttotal: 34.2s\tremaining: 19.5s\n",
            "637:\tlearn: 1.0000000\ttotal: 34.3s\tremaining: 19.4s\n",
            "638:\tlearn: 1.0000000\ttotal: 34.3s\tremaining: 19.4s\n",
            "639:\tlearn: 1.0000000\ttotal: 34.4s\tremaining: 19.3s\n",
            "640:\tlearn: 1.0000000\ttotal: 34.4s\tremaining: 19.3s\n",
            "641:\tlearn: 1.0000000\ttotal: 34.5s\tremaining: 19.2s\n",
            "642:\tlearn: 1.0000000\ttotal: 34.5s\tremaining: 19.2s\n",
            "643:\tlearn: 1.0000000\ttotal: 34.6s\tremaining: 19.1s\n",
            "644:\tlearn: 1.0000000\ttotal: 34.6s\tremaining: 19.1s\n",
            "645:\tlearn: 1.0000000\ttotal: 34.7s\tremaining: 19s\n",
            "646:\tlearn: 1.0000000\ttotal: 34.7s\tremaining: 19s\n",
            "647:\tlearn: 1.0000000\ttotal: 34.8s\tremaining: 18.9s\n",
            "648:\tlearn: 1.0000000\ttotal: 34.8s\tremaining: 18.8s\n",
            "649:\tlearn: 1.0000000\ttotal: 34.9s\tremaining: 18.8s\n",
            "650:\tlearn: 1.0000000\ttotal: 35s\tremaining: 18.7s\n",
            "651:\tlearn: 1.0000000\ttotal: 35s\tremaining: 18.7s\n",
            "652:\tlearn: 1.0000000\ttotal: 35.1s\tremaining: 18.6s\n",
            "653:\tlearn: 1.0000000\ttotal: 35.1s\tremaining: 18.6s\n",
            "654:\tlearn: 1.0000000\ttotal: 35.2s\tremaining: 18.5s\n",
            "655:\tlearn: 1.0000000\ttotal: 35.2s\tremaining: 18.5s\n",
            "656:\tlearn: 1.0000000\ttotal: 35.3s\tremaining: 18.4s\n",
            "657:\tlearn: 1.0000000\ttotal: 35.3s\tremaining: 18.4s\n",
            "658:\tlearn: 1.0000000\ttotal: 35.4s\tremaining: 18.3s\n",
            "659:\tlearn: 1.0000000\ttotal: 35.4s\tremaining: 18.3s\n",
            "660:\tlearn: 1.0000000\ttotal: 35.5s\tremaining: 18.2s\n",
            "661:\tlearn: 1.0000000\ttotal: 35.5s\tremaining: 18.1s\n",
            "662:\tlearn: 1.0000000\ttotal: 35.6s\tremaining: 18.1s\n",
            "663:\tlearn: 1.0000000\ttotal: 35.6s\tremaining: 18s\n",
            "664:\tlearn: 1.0000000\ttotal: 35.7s\tremaining: 18s\n",
            "665:\tlearn: 1.0000000\ttotal: 35.8s\tremaining: 17.9s\n",
            "666:\tlearn: 1.0000000\ttotal: 35.8s\tremaining: 17.9s\n",
            "667:\tlearn: 1.0000000\ttotal: 35.9s\tremaining: 17.8s\n",
            "668:\tlearn: 1.0000000\ttotal: 35.9s\tremaining: 17.8s\n",
            "669:\tlearn: 1.0000000\ttotal: 36s\tremaining: 17.7s\n",
            "670:\tlearn: 1.0000000\ttotal: 36s\tremaining: 17.7s\n",
            "671:\tlearn: 1.0000000\ttotal: 36.1s\tremaining: 17.6s\n",
            "672:\tlearn: 1.0000000\ttotal: 36.1s\tremaining: 17.6s\n",
            "673:\tlearn: 1.0000000\ttotal: 36.2s\tremaining: 17.5s\n",
            "674:\tlearn: 1.0000000\ttotal: 36.3s\tremaining: 17.5s\n",
            "675:\tlearn: 1.0000000\ttotal: 36.3s\tremaining: 17.4s\n",
            "676:\tlearn: 1.0000000\ttotal: 36.4s\tremaining: 17.4s\n",
            "677:\tlearn: 1.0000000\ttotal: 36.4s\tremaining: 17.3s\n",
            "678:\tlearn: 1.0000000\ttotal: 36.5s\tremaining: 17.2s\n",
            "679:\tlearn: 1.0000000\ttotal: 36.5s\tremaining: 17.2s\n",
            "680:\tlearn: 1.0000000\ttotal: 36.6s\tremaining: 17.1s\n",
            "681:\tlearn: 1.0000000\ttotal: 36.6s\tremaining: 17.1s\n",
            "682:\tlearn: 1.0000000\ttotal: 36.7s\tremaining: 17s\n",
            "683:\tlearn: 1.0000000\ttotal: 36.7s\tremaining: 17s\n",
            "684:\tlearn: 1.0000000\ttotal: 36.8s\tremaining: 16.9s\n",
            "685:\tlearn: 1.0000000\ttotal: 36.8s\tremaining: 16.9s\n",
            "686:\tlearn: 1.0000000\ttotal: 36.9s\tremaining: 16.8s\n",
            "687:\tlearn: 1.0000000\ttotal: 37s\tremaining: 16.8s\n",
            "688:\tlearn: 1.0000000\ttotal: 37s\tremaining: 16.7s\n",
            "689:\tlearn: 1.0000000\ttotal: 37.1s\tremaining: 16.6s\n",
            "690:\tlearn: 1.0000000\ttotal: 37.1s\tremaining: 16.6s\n",
            "691:\tlearn: 1.0000000\ttotal: 37.2s\tremaining: 16.5s\n",
            "692:\tlearn: 1.0000000\ttotal: 37.2s\tremaining: 16.5s\n",
            "693:\tlearn: 1.0000000\ttotal: 37.3s\tremaining: 16.4s\n",
            "694:\tlearn: 1.0000000\ttotal: 37.3s\tremaining: 16.4s\n",
            "695:\tlearn: 1.0000000\ttotal: 37.4s\tremaining: 16.3s\n",
            "696:\tlearn: 1.0000000\ttotal: 37.4s\tremaining: 16.3s\n",
            "697:\tlearn: 1.0000000\ttotal: 37.5s\tremaining: 16.2s\n",
            "698:\tlearn: 1.0000000\ttotal: 37.6s\tremaining: 16.2s\n",
            "699:\tlearn: 1.0000000\ttotal: 37.6s\tremaining: 16.1s\n",
            "700:\tlearn: 1.0000000\ttotal: 37.7s\tremaining: 16.1s\n",
            "701:\tlearn: 1.0000000\ttotal: 37.7s\tremaining: 16s\n",
            "702:\tlearn: 1.0000000\ttotal: 37.8s\tremaining: 16s\n",
            "703:\tlearn: 1.0000000\ttotal: 37.8s\tremaining: 15.9s\n",
            "704:\tlearn: 1.0000000\ttotal: 37.9s\tremaining: 15.8s\n",
            "705:\tlearn: 1.0000000\ttotal: 37.9s\tremaining: 15.8s\n",
            "706:\tlearn: 1.0000000\ttotal: 38s\tremaining: 15.7s\n",
            "707:\tlearn: 1.0000000\ttotal: 38s\tremaining: 15.7s\n",
            "708:\tlearn: 1.0000000\ttotal: 38.1s\tremaining: 15.6s\n",
            "709:\tlearn: 1.0000000\ttotal: 38.1s\tremaining: 15.6s\n",
            "710:\tlearn: 1.0000000\ttotal: 38.2s\tremaining: 15.5s\n",
            "711:\tlearn: 1.0000000\ttotal: 38.3s\tremaining: 15.5s\n",
            "712:\tlearn: 1.0000000\ttotal: 38.3s\tremaining: 15.4s\n",
            "713:\tlearn: 1.0000000\ttotal: 38.4s\tremaining: 15.4s\n",
            "714:\tlearn: 1.0000000\ttotal: 38.4s\tremaining: 15.3s\n",
            "715:\tlearn: 1.0000000\ttotal: 38.5s\tremaining: 15.3s\n",
            "716:\tlearn: 1.0000000\ttotal: 38.5s\tremaining: 15.2s\n",
            "717:\tlearn: 1.0000000\ttotal: 38.6s\tremaining: 15.2s\n",
            "718:\tlearn: 1.0000000\ttotal: 38.6s\tremaining: 15.1s\n",
            "719:\tlearn: 1.0000000\ttotal: 38.7s\tremaining: 15s\n",
            "720:\tlearn: 1.0000000\ttotal: 38.7s\tremaining: 15s\n",
            "721:\tlearn: 1.0000000\ttotal: 38.8s\tremaining: 14.9s\n",
            "722:\tlearn: 1.0000000\ttotal: 38.8s\tremaining: 14.9s\n",
            "723:\tlearn: 1.0000000\ttotal: 38.9s\tremaining: 14.8s\n",
            "724:\tlearn: 1.0000000\ttotal: 39s\tremaining: 14.8s\n",
            "725:\tlearn: 1.0000000\ttotal: 39s\tremaining: 14.7s\n",
            "726:\tlearn: 1.0000000\ttotal: 39.1s\tremaining: 14.7s\n",
            "727:\tlearn: 1.0000000\ttotal: 39.1s\tremaining: 14.6s\n",
            "728:\tlearn: 1.0000000\ttotal: 39.2s\tremaining: 14.6s\n",
            "729:\tlearn: 1.0000000\ttotal: 39.2s\tremaining: 14.5s\n",
            "730:\tlearn: 1.0000000\ttotal: 39.3s\tremaining: 14.5s\n",
            "731:\tlearn: 1.0000000\ttotal: 39.3s\tremaining: 14.4s\n",
            "732:\tlearn: 1.0000000\ttotal: 39.4s\tremaining: 14.3s\n",
            "733:\tlearn: 1.0000000\ttotal: 39.4s\tremaining: 14.3s\n",
            "734:\tlearn: 1.0000000\ttotal: 39.5s\tremaining: 14.2s\n",
            "735:\tlearn: 1.0000000\ttotal: 39.5s\tremaining: 14.2s\n",
            "736:\tlearn: 1.0000000\ttotal: 39.6s\tremaining: 14.1s\n",
            "737:\tlearn: 1.0000000\ttotal: 39.6s\tremaining: 14.1s\n",
            "738:\tlearn: 1.0000000\ttotal: 39.7s\tremaining: 14s\n",
            "739:\tlearn: 1.0000000\ttotal: 39.8s\tremaining: 14s\n",
            "740:\tlearn: 1.0000000\ttotal: 39.8s\tremaining: 13.9s\n",
            "741:\tlearn: 1.0000000\ttotal: 39.9s\tremaining: 13.9s\n",
            "742:\tlearn: 1.0000000\ttotal: 39.9s\tremaining: 13.8s\n",
            "743:\tlearn: 1.0000000\ttotal: 40s\tremaining: 13.8s\n",
            "744:\tlearn: 1.0000000\ttotal: 40s\tremaining: 13.7s\n",
            "745:\tlearn: 1.0000000\ttotal: 40.1s\tremaining: 13.6s\n",
            "746:\tlearn: 1.0000000\ttotal: 40.1s\tremaining: 13.6s\n",
            "747:\tlearn: 1.0000000\ttotal: 40.2s\tremaining: 13.5s\n",
            "748:\tlearn: 1.0000000\ttotal: 40.2s\tremaining: 13.5s\n",
            "749:\tlearn: 1.0000000\ttotal: 40.3s\tremaining: 13.4s\n",
            "750:\tlearn: 1.0000000\ttotal: 40.4s\tremaining: 13.4s\n",
            "751:\tlearn: 1.0000000\ttotal: 40.4s\tremaining: 13.3s\n",
            "752:\tlearn: 1.0000000\ttotal: 40.5s\tremaining: 13.3s\n",
            "753:\tlearn: 1.0000000\ttotal: 40.5s\tremaining: 13.2s\n",
            "754:\tlearn: 1.0000000\ttotal: 40.6s\tremaining: 13.2s\n",
            "755:\tlearn: 1.0000000\ttotal: 40.6s\tremaining: 13.1s\n",
            "756:\tlearn: 1.0000000\ttotal: 40.7s\tremaining: 13.1s\n",
            "757:\tlearn: 1.0000000\ttotal: 40.7s\tremaining: 13s\n",
            "758:\tlearn: 1.0000000\ttotal: 40.8s\tremaining: 13s\n",
            "759:\tlearn: 1.0000000\ttotal: 40.8s\tremaining: 12.9s\n",
            "760:\tlearn: 1.0000000\ttotal: 40.9s\tremaining: 12.8s\n",
            "761:\tlearn: 1.0000000\ttotal: 40.9s\tremaining: 12.8s\n",
            "762:\tlearn: 1.0000000\ttotal: 41s\tremaining: 12.7s\n",
            "763:\tlearn: 1.0000000\ttotal: 41.1s\tremaining: 12.7s\n",
            "764:\tlearn: 1.0000000\ttotal: 41.1s\tremaining: 12.6s\n",
            "765:\tlearn: 1.0000000\ttotal: 41.2s\tremaining: 12.6s\n",
            "766:\tlearn: 1.0000000\ttotal: 41.2s\tremaining: 12.5s\n",
            "767:\tlearn: 1.0000000\ttotal: 41.3s\tremaining: 12.5s\n",
            "768:\tlearn: 1.0000000\ttotal: 41.3s\tremaining: 12.4s\n",
            "769:\tlearn: 1.0000000\ttotal: 41.4s\tremaining: 12.4s\n",
            "770:\tlearn: 1.0000000\ttotal: 41.4s\tremaining: 12.3s\n",
            "771:\tlearn: 1.0000000\ttotal: 41.5s\tremaining: 12.3s\n",
            "772:\tlearn: 1.0000000\ttotal: 41.5s\tremaining: 12.2s\n",
            "773:\tlearn: 1.0000000\ttotal: 41.6s\tremaining: 12.1s\n",
            "774:\tlearn: 1.0000000\ttotal: 41.6s\tremaining: 12.1s\n",
            "775:\tlearn: 1.0000000\ttotal: 41.7s\tremaining: 12s\n",
            "776:\tlearn: 1.0000000\ttotal: 41.7s\tremaining: 12s\n",
            "777:\tlearn: 1.0000000\ttotal: 41.8s\tremaining: 11.9s\n",
            "778:\tlearn: 1.0000000\ttotal: 41.9s\tremaining: 11.9s\n",
            "779:\tlearn: 1.0000000\ttotal: 41.9s\tremaining: 11.8s\n",
            "780:\tlearn: 1.0000000\ttotal: 42s\tremaining: 11.8s\n",
            "781:\tlearn: 1.0000000\ttotal: 42s\tremaining: 11.7s\n",
            "782:\tlearn: 1.0000000\ttotal: 42.1s\tremaining: 11.7s\n",
            "783:\tlearn: 1.0000000\ttotal: 42.1s\tremaining: 11.6s\n",
            "784:\tlearn: 1.0000000\ttotal: 42.2s\tremaining: 11.6s\n",
            "785:\tlearn: 1.0000000\ttotal: 42.2s\tremaining: 11.5s\n",
            "786:\tlearn: 1.0000000\ttotal: 42.3s\tremaining: 11.4s\n",
            "787:\tlearn: 1.0000000\ttotal: 42.3s\tremaining: 11.4s\n",
            "788:\tlearn: 1.0000000\ttotal: 42.4s\tremaining: 11.3s\n",
            "789:\tlearn: 1.0000000\ttotal: 42.4s\tremaining: 11.3s\n",
            "790:\tlearn: 1.0000000\ttotal: 42.5s\tremaining: 11.2s\n",
            "791:\tlearn: 1.0000000\ttotal: 42.6s\tremaining: 11.2s\n",
            "792:\tlearn: 1.0000000\ttotal: 42.6s\tremaining: 11.1s\n",
            "793:\tlearn: 1.0000000\ttotal: 42.7s\tremaining: 11.1s\n",
            "794:\tlearn: 1.0000000\ttotal: 42.7s\tremaining: 11s\n",
            "795:\tlearn: 1.0000000\ttotal: 42.8s\tremaining: 11s\n",
            "796:\tlearn: 1.0000000\ttotal: 42.8s\tremaining: 10.9s\n",
            "797:\tlearn: 1.0000000\ttotal: 42.9s\tremaining: 10.9s\n",
            "798:\tlearn: 1.0000000\ttotal: 42.9s\tremaining: 10.8s\n",
            "799:\tlearn: 1.0000000\ttotal: 43s\tremaining: 10.7s\n",
            "800:\tlearn: 1.0000000\ttotal: 43s\tremaining: 10.7s\n",
            "801:\tlearn: 1.0000000\ttotal: 43.1s\tremaining: 10.6s\n",
            "802:\tlearn: 1.0000000\ttotal: 43.1s\tremaining: 10.6s\n",
            "803:\tlearn: 1.0000000\ttotal: 43.2s\tremaining: 10.5s\n",
            "804:\tlearn: 1.0000000\ttotal: 43.3s\tremaining: 10.5s\n",
            "805:\tlearn: 1.0000000\ttotal: 43.3s\tremaining: 10.4s\n",
            "806:\tlearn: 1.0000000\ttotal: 43.4s\tremaining: 10.4s\n",
            "807:\tlearn: 1.0000000\ttotal: 43.4s\tremaining: 10.3s\n",
            "808:\tlearn: 1.0000000\ttotal: 43.5s\tremaining: 10.3s\n",
            "809:\tlearn: 1.0000000\ttotal: 43.5s\tremaining: 10.2s\n",
            "810:\tlearn: 1.0000000\ttotal: 43.6s\tremaining: 10.2s\n",
            "811:\tlearn: 1.0000000\ttotal: 43.6s\tremaining: 10.1s\n",
            "812:\tlearn: 1.0000000\ttotal: 43.7s\tremaining: 10.1s\n",
            "813:\tlearn: 1.0000000\ttotal: 43.7s\tremaining: 9.99s\n",
            "814:\tlearn: 1.0000000\ttotal: 43.8s\tremaining: 9.94s\n",
            "815:\tlearn: 1.0000000\ttotal: 43.9s\tremaining: 9.89s\n",
            "816:\tlearn: 1.0000000\ttotal: 43.9s\tremaining: 9.83s\n",
            "817:\tlearn: 1.0000000\ttotal: 44s\tremaining: 9.78s\n",
            "818:\tlearn: 1.0000000\ttotal: 44s\tremaining: 9.73s\n",
            "819:\tlearn: 1.0000000\ttotal: 44.1s\tremaining: 9.67s\n",
            "820:\tlearn: 1.0000000\ttotal: 44.1s\tremaining: 9.62s\n",
            "821:\tlearn: 1.0000000\ttotal: 44.2s\tremaining: 9.56s\n",
            "822:\tlearn: 1.0000000\ttotal: 44.2s\tremaining: 9.51s\n",
            "823:\tlearn: 1.0000000\ttotal: 44.3s\tremaining: 9.46s\n",
            "824:\tlearn: 1.0000000\ttotal: 44.3s\tremaining: 9.4s\n",
            "825:\tlearn: 1.0000000\ttotal: 44.4s\tremaining: 9.35s\n",
            "826:\tlearn: 1.0000000\ttotal: 44.4s\tremaining: 9.3s\n",
            "827:\tlearn: 1.0000000\ttotal: 44.5s\tremaining: 9.24s\n",
            "828:\tlearn: 1.0000000\ttotal: 44.5s\tremaining: 9.19s\n",
            "829:\tlearn: 1.0000000\ttotal: 44.6s\tremaining: 9.13s\n",
            "830:\tlearn: 1.0000000\ttotal: 44.7s\tremaining: 9.08s\n",
            "831:\tlearn: 1.0000000\ttotal: 44.7s\tremaining: 9.03s\n",
            "832:\tlearn: 1.0000000\ttotal: 44.8s\tremaining: 8.97s\n",
            "833:\tlearn: 1.0000000\ttotal: 44.8s\tremaining: 8.92s\n",
            "834:\tlearn: 1.0000000\ttotal: 44.9s\tremaining: 8.87s\n",
            "835:\tlearn: 1.0000000\ttotal: 44.9s\tremaining: 8.81s\n",
            "836:\tlearn: 1.0000000\ttotal: 45s\tremaining: 8.76s\n",
            "837:\tlearn: 1.0000000\ttotal: 45s\tremaining: 8.7s\n",
            "838:\tlearn: 1.0000000\ttotal: 45.1s\tremaining: 8.65s\n",
            "839:\tlearn: 1.0000000\ttotal: 45.1s\tremaining: 8.6s\n",
            "840:\tlearn: 1.0000000\ttotal: 45.2s\tremaining: 8.54s\n",
            "841:\tlearn: 1.0000000\ttotal: 45.2s\tremaining: 8.49s\n",
            "842:\tlearn: 1.0000000\ttotal: 45.3s\tremaining: 8.44s\n",
            "843:\tlearn: 1.0000000\ttotal: 45.4s\tremaining: 8.38s\n",
            "844:\tlearn: 1.0000000\ttotal: 45.4s\tremaining: 8.33s\n",
            "845:\tlearn: 1.0000000\ttotal: 45.5s\tremaining: 8.28s\n",
            "846:\tlearn: 1.0000000\ttotal: 45.5s\tremaining: 8.22s\n",
            "847:\tlearn: 1.0000000\ttotal: 45.6s\tremaining: 8.17s\n",
            "848:\tlearn: 1.0000000\ttotal: 45.6s\tremaining: 8.11s\n",
            "849:\tlearn: 1.0000000\ttotal: 45.7s\tremaining: 8.06s\n",
            "850:\tlearn: 1.0000000\ttotal: 45.7s\tremaining: 8s\n",
            "851:\tlearn: 1.0000000\ttotal: 45.8s\tremaining: 7.95s\n",
            "852:\tlearn: 1.0000000\ttotal: 45.8s\tremaining: 7.9s\n",
            "853:\tlearn: 1.0000000\ttotal: 45.9s\tremaining: 7.84s\n",
            "854:\tlearn: 1.0000000\ttotal: 45.9s\tremaining: 7.79s\n",
            "855:\tlearn: 1.0000000\ttotal: 46s\tremaining: 7.74s\n",
            "856:\tlearn: 1.0000000\ttotal: 46s\tremaining: 7.68s\n",
            "857:\tlearn: 1.0000000\ttotal: 46.1s\tremaining: 7.63s\n",
            "858:\tlearn: 1.0000000\ttotal: 46.2s\tremaining: 7.58s\n",
            "859:\tlearn: 1.0000000\ttotal: 46.2s\tremaining: 7.52s\n",
            "860:\tlearn: 1.0000000\ttotal: 46.3s\tremaining: 7.47s\n",
            "861:\tlearn: 1.0000000\ttotal: 46.3s\tremaining: 7.42s\n",
            "862:\tlearn: 1.0000000\ttotal: 46.4s\tremaining: 7.36s\n",
            "863:\tlearn: 1.0000000\ttotal: 46.4s\tremaining: 7.31s\n",
            "864:\tlearn: 1.0000000\ttotal: 46.5s\tremaining: 7.26s\n",
            "865:\tlearn: 1.0000000\ttotal: 46.5s\tremaining: 7.2s\n",
            "866:\tlearn: 1.0000000\ttotal: 46.6s\tremaining: 7.15s\n",
            "867:\tlearn: 1.0000000\ttotal: 46.7s\tremaining: 7.09s\n",
            "868:\tlearn: 1.0000000\ttotal: 46.7s\tremaining: 7.04s\n",
            "869:\tlearn: 1.0000000\ttotal: 46.8s\tremaining: 6.99s\n",
            "870:\tlearn: 1.0000000\ttotal: 46.8s\tremaining: 6.93s\n",
            "871:\tlearn: 1.0000000\ttotal: 46.9s\tremaining: 6.88s\n",
            "872:\tlearn: 1.0000000\ttotal: 46.9s\tremaining: 6.83s\n",
            "873:\tlearn: 1.0000000\ttotal: 47s\tremaining: 6.77s\n",
            "874:\tlearn: 1.0000000\ttotal: 47s\tremaining: 6.72s\n",
            "875:\tlearn: 1.0000000\ttotal: 47.1s\tremaining: 6.66s\n",
            "876:\tlearn: 1.0000000\ttotal: 47.1s\tremaining: 6.61s\n",
            "877:\tlearn: 1.0000000\ttotal: 47.2s\tremaining: 6.56s\n",
            "878:\tlearn: 1.0000000\ttotal: 47.2s\tremaining: 6.5s\n",
            "879:\tlearn: 1.0000000\ttotal: 47.3s\tremaining: 6.45s\n",
            "880:\tlearn: 1.0000000\ttotal: 47.4s\tremaining: 6.4s\n",
            "881:\tlearn: 1.0000000\ttotal: 47.4s\tremaining: 6.34s\n",
            "882:\tlearn: 1.0000000\ttotal: 47.5s\tremaining: 6.29s\n",
            "883:\tlearn: 1.0000000\ttotal: 47.5s\tremaining: 6.24s\n",
            "884:\tlearn: 1.0000000\ttotal: 47.6s\tremaining: 6.18s\n",
            "885:\tlearn: 1.0000000\ttotal: 47.6s\tremaining: 6.13s\n",
            "886:\tlearn: 1.0000000\ttotal: 47.7s\tremaining: 6.07s\n",
            "887:\tlearn: 1.0000000\ttotal: 47.7s\tremaining: 6.02s\n",
            "888:\tlearn: 1.0000000\ttotal: 47.8s\tremaining: 5.97s\n",
            "889:\tlearn: 1.0000000\ttotal: 47.8s\tremaining: 5.91s\n",
            "890:\tlearn: 1.0000000\ttotal: 47.9s\tremaining: 5.86s\n",
            "891:\tlearn: 1.0000000\ttotal: 48s\tremaining: 5.81s\n",
            "892:\tlearn: 1.0000000\ttotal: 48s\tremaining: 5.75s\n",
            "893:\tlearn: 1.0000000\ttotal: 48.1s\tremaining: 5.7s\n",
            "894:\tlearn: 1.0000000\ttotal: 48.1s\tremaining: 5.64s\n",
            "895:\tlearn: 1.0000000\ttotal: 48.2s\tremaining: 5.59s\n",
            "896:\tlearn: 1.0000000\ttotal: 48.2s\tremaining: 5.54s\n",
            "897:\tlearn: 1.0000000\ttotal: 48.3s\tremaining: 5.48s\n",
            "898:\tlearn: 1.0000000\ttotal: 48.3s\tremaining: 5.43s\n",
            "899:\tlearn: 1.0000000\ttotal: 48.4s\tremaining: 5.38s\n",
            "900:\tlearn: 1.0000000\ttotal: 48.4s\tremaining: 5.32s\n",
            "901:\tlearn: 1.0000000\ttotal: 48.5s\tremaining: 5.27s\n",
            "902:\tlearn: 1.0000000\ttotal: 48.5s\tremaining: 5.21s\n",
            "903:\tlearn: 1.0000000\ttotal: 48.6s\tremaining: 5.16s\n",
            "904:\tlearn: 1.0000000\ttotal: 48.7s\tremaining: 5.11s\n",
            "905:\tlearn: 1.0000000\ttotal: 48.7s\tremaining: 5.05s\n",
            "906:\tlearn: 1.0000000\ttotal: 48.8s\tremaining: 5s\n",
            "907:\tlearn: 1.0000000\ttotal: 48.8s\tremaining: 4.95s\n",
            "908:\tlearn: 1.0000000\ttotal: 48.9s\tremaining: 4.89s\n",
            "909:\tlearn: 1.0000000\ttotal: 48.9s\tremaining: 4.84s\n",
            "910:\tlearn: 1.0000000\ttotal: 49s\tremaining: 4.79s\n",
            "911:\tlearn: 1.0000000\ttotal: 49s\tremaining: 4.73s\n",
            "912:\tlearn: 1.0000000\ttotal: 49.1s\tremaining: 4.68s\n",
            "913:\tlearn: 1.0000000\ttotal: 49.1s\tremaining: 4.62s\n",
            "914:\tlearn: 1.0000000\ttotal: 49.2s\tremaining: 4.57s\n",
            "915:\tlearn: 1.0000000\ttotal: 49.2s\tremaining: 4.52s\n",
            "916:\tlearn: 1.0000000\ttotal: 49.3s\tremaining: 4.46s\n",
            "917:\tlearn: 1.0000000\ttotal: 49.4s\tremaining: 4.41s\n",
            "918:\tlearn: 1.0000000\ttotal: 49.4s\tremaining: 4.36s\n",
            "919:\tlearn: 1.0000000\ttotal: 49.5s\tremaining: 4.3s\n",
            "920:\tlearn: 1.0000000\ttotal: 49.5s\tremaining: 4.25s\n",
            "921:\tlearn: 1.0000000\ttotal: 49.6s\tremaining: 4.19s\n",
            "922:\tlearn: 1.0000000\ttotal: 49.6s\tremaining: 4.14s\n",
            "923:\tlearn: 1.0000000\ttotal: 49.7s\tremaining: 4.09s\n",
            "924:\tlearn: 1.0000000\ttotal: 49.7s\tremaining: 4.03s\n",
            "925:\tlearn: 1.0000000\ttotal: 49.8s\tremaining: 3.98s\n",
            "926:\tlearn: 1.0000000\ttotal: 49.8s\tremaining: 3.92s\n",
            "927:\tlearn: 1.0000000\ttotal: 49.9s\tremaining: 3.87s\n",
            "928:\tlearn: 1.0000000\ttotal: 50s\tremaining: 3.82s\n",
            "929:\tlearn: 1.0000000\ttotal: 50s\tremaining: 3.76s\n",
            "930:\tlearn: 1.0000000\ttotal: 50.1s\tremaining: 3.71s\n",
            "931:\tlearn: 1.0000000\ttotal: 50.1s\tremaining: 3.66s\n",
            "932:\tlearn: 1.0000000\ttotal: 50.2s\tremaining: 3.6s\n",
            "933:\tlearn: 1.0000000\ttotal: 50.2s\tremaining: 3.55s\n",
            "934:\tlearn: 1.0000000\ttotal: 50.3s\tremaining: 3.5s\n",
            "935:\tlearn: 1.0000000\ttotal: 50.3s\tremaining: 3.44s\n",
            "936:\tlearn: 1.0000000\ttotal: 50.4s\tremaining: 3.39s\n",
            "937:\tlearn: 1.0000000\ttotal: 50.4s\tremaining: 3.33s\n",
            "938:\tlearn: 1.0000000\ttotal: 50.5s\tremaining: 3.28s\n",
            "939:\tlearn: 1.0000000\ttotal: 50.6s\tremaining: 3.23s\n",
            "940:\tlearn: 1.0000000\ttotal: 50.6s\tremaining: 3.17s\n",
            "941:\tlearn: 1.0000000\ttotal: 50.7s\tremaining: 3.12s\n",
            "942:\tlearn: 1.0000000\ttotal: 50.7s\tremaining: 3.06s\n",
            "943:\tlearn: 1.0000000\ttotal: 50.8s\tremaining: 3.01s\n",
            "944:\tlearn: 1.0000000\ttotal: 50.8s\tremaining: 2.96s\n",
            "945:\tlearn: 1.0000000\ttotal: 50.9s\tremaining: 2.9s\n",
            "946:\tlearn: 1.0000000\ttotal: 50.9s\tremaining: 2.85s\n",
            "947:\tlearn: 1.0000000\ttotal: 51s\tremaining: 2.8s\n",
            "948:\tlearn: 1.0000000\ttotal: 51s\tremaining: 2.74s\n",
            "949:\tlearn: 1.0000000\ttotal: 51.1s\tremaining: 2.69s\n",
            "950:\tlearn: 1.0000000\ttotal: 51.2s\tremaining: 2.63s\n",
            "951:\tlearn: 1.0000000\ttotal: 51.2s\tremaining: 2.58s\n",
            "952:\tlearn: 1.0000000\ttotal: 51.3s\tremaining: 2.53s\n",
            "953:\tlearn: 1.0000000\ttotal: 51.3s\tremaining: 2.47s\n",
            "954:\tlearn: 1.0000000\ttotal: 51.4s\tremaining: 2.42s\n",
            "955:\tlearn: 1.0000000\ttotal: 51.4s\tremaining: 2.37s\n",
            "956:\tlearn: 1.0000000\ttotal: 51.5s\tremaining: 2.31s\n",
            "957:\tlearn: 1.0000000\ttotal: 51.5s\tremaining: 2.26s\n",
            "958:\tlearn: 1.0000000\ttotal: 51.6s\tremaining: 2.21s\n",
            "959:\tlearn: 1.0000000\ttotal: 51.6s\tremaining: 2.15s\n",
            "960:\tlearn: 1.0000000\ttotal: 51.7s\tremaining: 2.1s\n",
            "961:\tlearn: 1.0000000\ttotal: 51.7s\tremaining: 2.04s\n",
            "962:\tlearn: 1.0000000\ttotal: 51.8s\tremaining: 1.99s\n",
            "963:\tlearn: 1.0000000\ttotal: 51.9s\tremaining: 1.94s\n",
            "964:\tlearn: 1.0000000\ttotal: 51.9s\tremaining: 1.88s\n",
            "965:\tlearn: 1.0000000\ttotal: 52s\tremaining: 1.83s\n",
            "966:\tlearn: 1.0000000\ttotal: 52s\tremaining: 1.77s\n",
            "967:\tlearn: 1.0000000\ttotal: 52.1s\tremaining: 1.72s\n",
            "968:\tlearn: 1.0000000\ttotal: 52.1s\tremaining: 1.67s\n",
            "969:\tlearn: 1.0000000\ttotal: 52.2s\tremaining: 1.61s\n",
            "970:\tlearn: 1.0000000\ttotal: 52.2s\tremaining: 1.56s\n",
            "971:\tlearn: 1.0000000\ttotal: 52.3s\tremaining: 1.5s\n",
            "972:\tlearn: 1.0000000\ttotal: 52.3s\tremaining: 1.45s\n",
            "973:\tlearn: 1.0000000\ttotal: 52.4s\tremaining: 1.4s\n",
            "974:\tlearn: 1.0000000\ttotal: 52.4s\tremaining: 1.34s\n",
            "975:\tlearn: 1.0000000\ttotal: 52.5s\tremaining: 1.29s\n",
            "976:\tlearn: 1.0000000\ttotal: 52.5s\tremaining: 1.24s\n",
            "977:\tlearn: 1.0000000\ttotal: 52.6s\tremaining: 1.18s\n",
            "978:\tlearn: 1.0000000\ttotal: 52.7s\tremaining: 1.13s\n",
            "979:\tlearn: 1.0000000\ttotal: 52.7s\tremaining: 1.07s\n",
            "980:\tlearn: 1.0000000\ttotal: 52.8s\tremaining: 1.02s\n",
            "981:\tlearn: 1.0000000\ttotal: 52.8s\tremaining: 968ms\n",
            "982:\tlearn: 1.0000000\ttotal: 52.9s\tremaining: 915ms\n",
            "983:\tlearn: 1.0000000\ttotal: 52.9s\tremaining: 861ms\n",
            "984:\tlearn: 1.0000000\ttotal: 53s\tremaining: 807ms\n",
            "985:\tlearn: 1.0000000\ttotal: 53s\tremaining: 753ms\n",
            "986:\tlearn: 1.0000000\ttotal: 53.1s\tremaining: 699ms\n",
            "987:\tlearn: 1.0000000\ttotal: 53.2s\tremaining: 646ms\n",
            "988:\tlearn: 1.0000000\ttotal: 53.2s\tremaining: 592ms\n",
            "989:\tlearn: 1.0000000\ttotal: 53.3s\tremaining: 538ms\n",
            "990:\tlearn: 1.0000000\ttotal: 53.3s\tremaining: 484ms\n",
            "991:\tlearn: 1.0000000\ttotal: 53.4s\tremaining: 430ms\n",
            "992:\tlearn: 1.0000000\ttotal: 53.4s\tremaining: 377ms\n",
            "993:\tlearn: 1.0000000\ttotal: 53.5s\tremaining: 323ms\n",
            "994:\tlearn: 1.0000000\ttotal: 53.5s\tremaining: 269ms\n",
            "995:\tlearn: 1.0000000\ttotal: 53.6s\tremaining: 215ms\n",
            "996:\tlearn: 1.0000000\ttotal: 53.6s\tremaining: 161ms\n",
            "997:\tlearn: 1.0000000\ttotal: 53.7s\tremaining: 108ms\n",
            "998:\tlearn: 1.0000000\ttotal: 53.7s\tremaining: 53.8ms\n",
            "999:\tlearn: 1.0000000\ttotal: 53.8s\tremaining: 0us\n",
            "CPU times: user 58 s, sys: 3.77 s, total: 1min 1s\n",
            "Wall time: 54.9 s\n"
          ]
        }
      ],
      "source": [
        "%%time\n",
        "CB_model_bert = CatBoostClassifier(loss_function='Logloss', eval_metric='F1', early_stopping_rounds=120, auto_class_weights='Balanced', task_type='GPU')\n",
        "CB_model_bert.fit(CB_train_data_bert)"
      ]
    },
    {
      "cell_type": "code",
      "execution_count": null,
      "metadata": {
        "colab": {
          "base_uri": "https://localhost:8080/"
        },
        "id": "asYRUs8rV07p",
        "outputId": "e725fd0b-b5a0-47cb-ed6f-4e5d760a9326"
      },
      "outputs": [
        {
          "name": "stdout",
          "output_type": "stream",
          "text": [
            "CPU times: user 23.1 ms, sys: 3.97 ms, total: 27.1 ms\n",
            "Wall time: 23.6 ms\n"
          ]
        }
      ],
      "source": [
        "%%time\n",
        "cb_test_predict_bert = CB_model_bert.predict(features_test_bert)"
      ]
    },
    {
      "cell_type": "code",
      "execution_count": null,
      "metadata": {
        "colab": {
          "base_uri": "https://localhost:8080/"
        },
        "id": "-T4ySsLsV04-",
        "outputId": "99f3048a-07d7-4110-b57b-85ca0fd7d0c9"
      },
      "outputs": [
        {
          "name": "stdout",
          "output_type": "stream",
          "text": [
            "F1_score на тестовой выброке для Catboost с BERT: 0.9583333333333334\n"
          ]
        }
      ],
      "source": [
        "print('F1_score на тестовой выброке для Catboost с BERT:', f1_score(target_test_bert, cb_test_predict_bert))"
      ]
    },
    {
      "cell_type": "markdown",
      "metadata": {
        "id": "na1c1lVJj4iA"
      },
      "source": [
        "## Выводы"
      ]
    },
    {
      "cell_type": "markdown",
      "metadata": {
        "id": "_5WzojgZj9ad"
      },
      "source": [
        "Для TFIDF при обучении с помощью Catboost на всем датафрейме удалось добиться требуемого показателя метрики (F1 = 0.769).\n",
        "\n",
        "При использовании малой выборки для создания эмбеддингов и дальнейшего обучения модели, удалось получить метрику F1 > 0.9, думаю во многом это связано с хорошо подходящей моделью BERT."
      ]
    }
  ],
  "metadata": {
    "ExecuteTimeLog": [
      {
        "duration": 3268,
        "start_time": "2022-07-17T13:39:11.348Z"
      },
      {
        "duration": 3369,
        "start_time": "2022-07-17T13:39:14.618Z"
      },
      {
        "duration": 2924,
        "start_time": "2022-07-17T13:39:17.989Z"
      },
      {
        "duration": 2920,
        "start_time": "2022-07-17T13:39:20.916Z"
      },
      {
        "duration": 105844,
        "start_time": "2022-07-17T13:39:23.839Z"
      },
      {
        "duration": 571,
        "start_time": "2022-07-17T13:41:09.685Z"
      },
      {
        "duration": 356,
        "start_time": "2022-07-17T13:41:10.258Z"
      },
      {
        "duration": 0,
        "start_time": "2022-07-17T13:41:10.616Z"
      },
      {
        "duration": 0,
        "start_time": "2022-07-17T13:41:10.617Z"
      },
      {
        "duration": 0,
        "start_time": "2022-07-17T13:41:10.618Z"
      },
      {
        "duration": 0,
        "start_time": "2022-07-17T13:41:10.624Z"
      },
      {
        "duration": 0,
        "start_time": "2022-07-17T13:41:10.625Z"
      },
      {
        "duration": 0,
        "start_time": "2022-07-17T13:41:10.626Z"
      },
      {
        "duration": 0,
        "start_time": "2022-07-17T13:41:10.627Z"
      },
      {
        "duration": 0,
        "start_time": "2022-07-17T13:41:10.628Z"
      },
      {
        "duration": 0,
        "start_time": "2022-07-17T13:41:10.629Z"
      },
      {
        "duration": 0,
        "start_time": "2022-07-17T13:41:10.631Z"
      },
      {
        "duration": 2989,
        "start_time": "2022-07-17T13:44:49.358Z"
      },
      {
        "duration": 22,
        "start_time": "2022-07-17T13:44:55.050Z"
      },
      {
        "duration": 26,
        "start_time": "2022-07-17T13:44:56.411Z"
      },
      {
        "duration": 14,
        "start_time": "2022-07-17T13:44:56.560Z"
      },
      {
        "duration": 13,
        "start_time": "2022-07-17T13:44:56.720Z"
      },
      {
        "duration": 38,
        "start_time": "2022-07-17T13:44:58.311Z"
      },
      {
        "duration": 179921,
        "start_time": "2022-07-17T13:45:01.587Z"
      },
      {
        "duration": 3,
        "start_time": "2022-07-17T13:48:01.510Z"
      },
      {
        "duration": 351,
        "start_time": "2022-07-17T13:48:01.515Z"
      },
      {
        "duration": 347,
        "start_time": "2022-07-17T13:48:01.869Z"
      },
      {
        "duration": 40,
        "start_time": "2022-07-17T13:48:02.221Z"
      },
      {
        "duration": 4,
        "start_time": "2022-07-17T13:50:01.854Z"
      },
      {
        "duration": 3331,
        "start_time": "2022-07-17T13:50:48.267Z"
      },
      {
        "duration": 1787,
        "start_time": "2022-07-17T13:50:55.754Z"
      },
      {
        "duration": 6,
        "start_time": "2022-07-17T13:51:07.308Z"
      },
      {
        "duration": 7,
        "start_time": "2022-07-17T13:51:29.037Z"
      },
      {
        "duration": 24,
        "start_time": "2022-07-17T13:51:51.730Z"
      },
      {
        "duration": 13,
        "start_time": "2022-07-17T13:52:01.685Z"
      },
      {
        "duration": 33,
        "start_time": "2022-07-17T13:52:11.603Z"
      },
      {
        "duration": 37,
        "start_time": "2022-07-17T13:52:14.920Z"
      },
      {
        "duration": 13,
        "start_time": "2022-07-17T13:52:29.752Z"
      },
      {
        "duration": 10,
        "start_time": "2022-07-17T13:52:34.052Z"
      },
      {
        "duration": 11,
        "start_time": "2022-07-17T13:52:50.662Z"
      },
      {
        "duration": 6,
        "start_time": "2022-07-17T13:55:30.253Z"
      },
      {
        "duration": 7,
        "start_time": "2022-07-17T13:55:50.342Z"
      },
      {
        "duration": 3,
        "start_time": "2022-07-17T13:55:51.446Z"
      },
      {
        "duration": 499,
        "start_time": "2022-07-17T13:55:52.207Z"
      },
      {
        "duration": 4,
        "start_time": "2022-07-17T13:56:01.374Z"
      },
      {
        "duration": 9,
        "start_time": "2022-07-17T13:56:12.180Z"
      },
      {
        "duration": 7,
        "start_time": "2022-07-17T13:56:16.080Z"
      },
      {
        "duration": 7,
        "start_time": "2022-07-17T13:56:34.240Z"
      },
      {
        "duration": 463,
        "start_time": "2022-07-17T13:56:35.241Z"
      },
      {
        "duration": 5,
        "start_time": "2022-07-17T13:56:41.877Z"
      },
      {
        "duration": 499,
        "start_time": "2022-07-17T13:56:42.719Z"
      },
      {
        "duration": 11,
        "start_time": "2022-07-17T13:57:35.650Z"
      },
      {
        "duration": 608,
        "start_time": "2022-07-17T13:57:36.878Z"
      },
      {
        "duration": 6,
        "start_time": "2022-07-17T13:58:22.690Z"
      },
      {
        "duration": 640,
        "start_time": "2022-07-17T13:58:23.343Z"
      },
      {
        "duration": 4,
        "start_time": "2022-07-17T13:58:26.185Z"
      },
      {
        "duration": 798,
        "start_time": "2022-07-17T13:58:27.198Z"
      },
      {
        "duration": 72,
        "start_time": "2022-07-17T14:00:30.209Z"
      },
      {
        "duration": 36,
        "start_time": "2022-07-17T14:00:30.696Z"
      },
      {
        "duration": 4,
        "start_time": "2022-07-17T14:00:37.946Z"
      },
      {
        "duration": 127,
        "start_time": "2022-07-17T14:00:43.347Z"
      },
      {
        "duration": 14569,
        "start_time": "2022-07-19T14:28:51.252Z"
      },
      {
        "duration": 116024,
        "start_time": "2022-07-19T14:29:05.823Z"
      },
      {
        "duration": 901,
        "start_time": "2022-07-19T14:31:01.848Z"
      },
      {
        "duration": 1406,
        "start_time": "2022-07-19T14:31:02.802Z"
      },
      {
        "duration": 8,
        "start_time": "2022-07-19T14:31:04.210Z"
      },
      {
        "duration": 10,
        "start_time": "2022-07-19T14:31:04.219Z"
      },
      {
        "duration": 714,
        "start_time": "2022-07-19T14:31:04.230Z"
      },
      {
        "duration": 31,
        "start_time": "2022-07-19T14:34:23.573Z"
      },
      {
        "duration": 50,
        "start_time": "2022-07-20T23:17:34.710Z"
      },
      {
        "duration": 2,
        "start_time": "2022-07-20T23:17:37.771Z"
      }
    ],
    "accelerator": "GPU",
    "colab": {
      "collapsed_sections": [],
      "name": "BERT.ipynb",
      "provenance": []
    },
    "gpuClass": "standard",
    "kernelspec": {
      "display_name": "Python 3 (ipykernel)",
      "language": "python",
      "name": "python3"
    },
    "language_info": {
      "codemirror_mode": {
        "name": "ipython",
        "version": 3
      },
      "file_extension": ".py",
      "mimetype": "text/x-python",
      "name": "python",
      "nbconvert_exporter": "python",
      "pygments_lexer": "ipython3",
      "version": "3.9.5"
    },
    "toc": {
      "base_numbering": 1,
      "nav_menu": {},
      "number_sections": true,
      "sideBar": true,
      "skip_h1_title": true,
      "title_cell": "Table of Contents",
      "title_sidebar": "Contents",
      "toc_cell": false,
      "toc_position": {},
      "toc_section_display": true,
      "toc_window_display": false
    },
    "widgets": {
      "application/vnd.jupyter.widget-state+json": {
        "10bff730ed814fac9faf957742cd5fcd": {
          "model_module": "@jupyter-widgets/base",
          "model_module_version": "1.2.0",
          "model_name": "LayoutModel",
          "state": {
            "_model_module": "@jupyter-widgets/base",
            "_model_module_version": "1.2.0",
            "_model_name": "LayoutModel",
            "_view_count": null,
            "_view_module": "@jupyter-widgets/base",
            "_view_module_version": "1.2.0",
            "_view_name": "LayoutView",
            "align_content": null,
            "align_items": null,
            "align_self": null,
            "border": null,
            "bottom": null,
            "display": null,
            "flex": null,
            "flex_flow": null,
            "grid_area": null,
            "grid_auto_columns": null,
            "grid_auto_flow": null,
            "grid_auto_rows": null,
            "grid_column": null,
            "grid_gap": null,
            "grid_row": null,
            "grid_template_areas": null,
            "grid_template_columns": null,
            "grid_template_rows": null,
            "height": null,
            "justify_content": null,
            "justify_items": null,
            "left": null,
            "margin": null,
            "max_height": null,
            "max_width": null,
            "min_height": null,
            "min_width": null,
            "object_fit": null,
            "object_position": null,
            "order": null,
            "overflow": null,
            "overflow_x": null,
            "overflow_y": null,
            "padding": null,
            "right": null,
            "top": null,
            "visibility": null,
            "width": null
          }
        },
        "4674c0d8146449cdb78385eea452ddd4": {
          "model_module": "@jupyter-widgets/controls",
          "model_module_version": "1.5.0",
          "model_name": "DescriptionStyleModel",
          "state": {
            "_model_module": "@jupyter-widgets/controls",
            "_model_module_version": "1.5.0",
            "_model_name": "DescriptionStyleModel",
            "_view_count": null,
            "_view_module": "@jupyter-widgets/base",
            "_view_module_version": "1.2.0",
            "_view_name": "StyleView",
            "description_width": ""
          }
        },
        "54eb7d84c9b8448b8832627ed8216d26": {
          "model_module": "@jupyter-widgets/controls",
          "model_module_version": "1.5.0",
          "model_name": "FloatProgressModel",
          "state": {
            "_dom_classes": [],
            "_model_module": "@jupyter-widgets/controls",
            "_model_module_version": "1.5.0",
            "_model_name": "FloatProgressModel",
            "_view_count": null,
            "_view_module": "@jupyter-widgets/controls",
            "_view_module_version": "1.5.0",
            "_view_name": "ProgressView",
            "bar_style": "success",
            "description": "",
            "description_tooltip": null,
            "layout": "IPY_MODEL_56039fa66a4f429c8f76dea0e3ce8017",
            "max": 8,
            "min": 0,
            "orientation": "horizontal",
            "style": "IPY_MODEL_85665706ad364fbb81242d677c860712",
            "value": 8
          }
        },
        "56039fa66a4f429c8f76dea0e3ce8017": {
          "model_module": "@jupyter-widgets/base",
          "model_module_version": "1.2.0",
          "model_name": "LayoutModel",
          "state": {
            "_model_module": "@jupyter-widgets/base",
            "_model_module_version": "1.2.0",
            "_model_name": "LayoutModel",
            "_view_count": null,
            "_view_module": "@jupyter-widgets/base",
            "_view_module_version": "1.2.0",
            "_view_name": "LayoutView",
            "align_content": null,
            "align_items": null,
            "align_self": null,
            "border": null,
            "bottom": null,
            "display": null,
            "flex": null,
            "flex_flow": null,
            "grid_area": null,
            "grid_auto_columns": null,
            "grid_auto_flow": null,
            "grid_auto_rows": null,
            "grid_column": null,
            "grid_gap": null,
            "grid_row": null,
            "grid_template_areas": null,
            "grid_template_columns": null,
            "grid_template_rows": null,
            "height": null,
            "justify_content": null,
            "justify_items": null,
            "left": null,
            "margin": null,
            "max_height": null,
            "max_width": null,
            "min_height": null,
            "min_width": null,
            "object_fit": null,
            "object_position": null,
            "order": null,
            "overflow": null,
            "overflow_x": null,
            "overflow_y": null,
            "padding": null,
            "right": null,
            "top": null,
            "visibility": null,
            "width": null
          }
        },
        "7634c9d09fa2456eb8ac5ab83268f1ee": {
          "model_module": "@jupyter-widgets/base",
          "model_module_version": "1.2.0",
          "model_name": "LayoutModel",
          "state": {
            "_model_module": "@jupyter-widgets/base",
            "_model_module_version": "1.2.0",
            "_model_name": "LayoutModel",
            "_view_count": null,
            "_view_module": "@jupyter-widgets/base",
            "_view_module_version": "1.2.0",
            "_view_name": "LayoutView",
            "align_content": null,
            "align_items": null,
            "align_self": null,
            "border": null,
            "bottom": null,
            "display": null,
            "flex": null,
            "flex_flow": null,
            "grid_area": null,
            "grid_auto_columns": null,
            "grid_auto_flow": null,
            "grid_auto_rows": null,
            "grid_column": null,
            "grid_gap": null,
            "grid_row": null,
            "grid_template_areas": null,
            "grid_template_columns": null,
            "grid_template_rows": null,
            "height": null,
            "justify_content": null,
            "justify_items": null,
            "left": null,
            "margin": null,
            "max_height": null,
            "max_width": null,
            "min_height": null,
            "min_width": null,
            "object_fit": null,
            "object_position": null,
            "order": null,
            "overflow": null,
            "overflow_x": null,
            "overflow_y": null,
            "padding": null,
            "right": null,
            "top": null,
            "visibility": null,
            "width": null
          }
        },
        "85665706ad364fbb81242d677c860712": {
          "model_module": "@jupyter-widgets/controls",
          "model_module_version": "1.5.0",
          "model_name": "ProgressStyleModel",
          "state": {
            "_model_module": "@jupyter-widgets/controls",
            "_model_module_version": "1.5.0",
            "_model_name": "ProgressStyleModel",
            "_view_count": null,
            "_view_module": "@jupyter-widgets/base",
            "_view_module_version": "1.2.0",
            "_view_name": "StyleView",
            "bar_color": null,
            "description_width": ""
          }
        },
        "869bf0c03d6343fd977322bd2c77f7ec": {
          "model_module": "@jupyter-widgets/controls",
          "model_module_version": "1.5.0",
          "model_name": "DescriptionStyleModel",
          "state": {
            "_model_module": "@jupyter-widgets/controls",
            "_model_module_version": "1.5.0",
            "_model_name": "DescriptionStyleModel",
            "_view_count": null,
            "_view_module": "@jupyter-widgets/base",
            "_view_module_version": "1.2.0",
            "_view_name": "StyleView",
            "description_width": ""
          }
        },
        "ce8476f8aef4415d8ccce43ea220a1df": {
          "model_module": "@jupyter-widgets/base",
          "model_module_version": "1.2.0",
          "model_name": "LayoutModel",
          "state": {
            "_model_module": "@jupyter-widgets/base",
            "_model_module_version": "1.2.0",
            "_model_name": "LayoutModel",
            "_view_count": null,
            "_view_module": "@jupyter-widgets/base",
            "_view_module_version": "1.2.0",
            "_view_name": "LayoutView",
            "align_content": null,
            "align_items": null,
            "align_self": null,
            "border": null,
            "bottom": null,
            "display": null,
            "flex": null,
            "flex_flow": null,
            "grid_area": null,
            "grid_auto_columns": null,
            "grid_auto_flow": null,
            "grid_auto_rows": null,
            "grid_column": null,
            "grid_gap": null,
            "grid_row": null,
            "grid_template_areas": null,
            "grid_template_columns": null,
            "grid_template_rows": null,
            "height": null,
            "justify_content": null,
            "justify_items": null,
            "left": null,
            "margin": null,
            "max_height": null,
            "max_width": null,
            "min_height": null,
            "min_width": null,
            "object_fit": null,
            "object_position": null,
            "order": null,
            "overflow": null,
            "overflow_x": null,
            "overflow_y": null,
            "padding": null,
            "right": null,
            "top": null,
            "visibility": null,
            "width": null
          }
        },
        "d552dc59e16b4da7a76820141f44a5d1": {
          "model_module": "@jupyter-widgets/controls",
          "model_module_version": "1.5.0",
          "model_name": "HTMLModel",
          "state": {
            "_dom_classes": [],
            "_model_module": "@jupyter-widgets/controls",
            "_model_module_version": "1.5.0",
            "_model_name": "HTMLModel",
            "_view_count": null,
            "_view_module": "@jupyter-widgets/controls",
            "_view_module_version": "1.5.0",
            "_view_name": "HTMLView",
            "description": "",
            "description_tooltip": null,
            "layout": "IPY_MODEL_10bff730ed814fac9faf957742cd5fcd",
            "placeholder": "​",
            "style": "IPY_MODEL_869bf0c03d6343fd977322bd2c77f7ec",
            "value": "100%"
          }
        },
        "d5f16a451298455bacfd08d6bd040589": {
          "model_module": "@jupyter-widgets/controls",
          "model_module_version": "1.5.0",
          "model_name": "HBoxModel",
          "state": {
            "_dom_classes": [],
            "_model_module": "@jupyter-widgets/controls",
            "_model_module_version": "1.5.0",
            "_model_name": "HBoxModel",
            "_view_count": null,
            "_view_module": "@jupyter-widgets/controls",
            "_view_module_version": "1.5.0",
            "_view_name": "HBoxView",
            "box_style": "",
            "children": [
              "IPY_MODEL_d552dc59e16b4da7a76820141f44a5d1",
              "IPY_MODEL_54eb7d84c9b8448b8832627ed8216d26",
              "IPY_MODEL_ef0aad01a8014557a8e786e5e1cfd4ee"
            ],
            "layout": "IPY_MODEL_ce8476f8aef4415d8ccce43ea220a1df"
          }
        },
        "ef0aad01a8014557a8e786e5e1cfd4ee": {
          "model_module": "@jupyter-widgets/controls",
          "model_module_version": "1.5.0",
          "model_name": "HTMLModel",
          "state": {
            "_dom_classes": [],
            "_model_module": "@jupyter-widgets/controls",
            "_model_module_version": "1.5.0",
            "_model_name": "HTMLModel",
            "_view_count": null,
            "_view_module": "@jupyter-widgets/controls",
            "_view_module_version": "1.5.0",
            "_view_name": "HTMLView",
            "description": "",
            "description_tooltip": null,
            "layout": "IPY_MODEL_7634c9d09fa2456eb8ac5ab83268f1ee",
            "placeholder": "​",
            "style": "IPY_MODEL_4674c0d8146449cdb78385eea452ddd4",
            "value": " 8/8 [00:30&lt;00:00,  3.78s/it]"
          }
        }
      }
    }
  },
  "nbformat": 4,
  "nbformat_minor": 0
}