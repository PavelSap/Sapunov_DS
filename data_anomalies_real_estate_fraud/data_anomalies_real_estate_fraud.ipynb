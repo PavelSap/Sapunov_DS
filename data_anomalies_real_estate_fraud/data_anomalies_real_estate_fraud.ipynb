{
  "cells": [
    {
      "cell_type": "markdown",
      "source": [
        "# Определение аномалий в данных для противодействия мошеничеству (сервис недвижимости)"
      ],
      "metadata": {
        "id": "YNeQNvu20sZ7"
      }
    },
    {
      "cell_type": "markdown",
      "source": [
        "Исходные данные содержат архив объявлений о продаже объектов недвижимости, доступна информация о площади, числе комнат, ближайших объектах и прочих характеристиках объекта.\n",
        "\n",
        "**Задачей** является выявление аномалий в данных, что поможет в деятельности по противодействию мошеничеству. Также необходимо установить основные факторы ценообразования.\n",
        "\n",
        "Начну с обзора, предобработки данных, затем введу новые данные, а также выявлю и визуализирую закономерности в датафрейме."
      ],
      "metadata": {
        "id": "s97SvYA3z_UM"
      }
    },
    {
      "cell_type": "markdown",
      "metadata": {
        "id": "IB62TJ2GzboL"
      },
      "source": [
        "## Изучение данных из файла и предобработка"
      ]
    },
    {
      "cell_type": "markdown",
      "metadata": {
        "id": "Kd6bnez5zboL"
      },
      "source": [
        "Импортирую библиотеки, изучу данные, сделаю обзор."
      ]
    },
    {
      "cell_type": "code",
      "execution_count": null,
      "metadata": {
        "id": "J6O9fwaAzboM"
      },
      "outputs": [],
      "source": [
        "import pandas as pd\n",
        "import matplotlib.pyplot as plt"
      ]
    },
    {
      "cell_type": "code",
      "execution_count": null,
      "metadata": {
        "id": "5JLhTFrwzboN"
      },
      "outputs": [],
      "source": [
        "data = pd.read_csv('/datasets/real_estate_data.csv')"
      ]
    },
    {
      "cell_type": "code",
      "execution_count": null,
      "metadata": {
        "id": "Px6hOxnuzboN",
        "outputId": "0fb19cfd-2530-4775-f3aa-b4ac572b1c3e"
      },
      "outputs": [
        {
          "data": {
            "text/html": [
              "<div>\n",
              "<style scoped>\n",
              "    .dataframe tbody tr th:only-of-type {\n",
              "        vertical-align: middle;\n",
              "    }\n",
              "\n",
              "    .dataframe tbody tr th {\n",
              "        vertical-align: top;\n",
              "    }\n",
              "\n",
              "    .dataframe thead th {\n",
              "        text-align: right;\n",
              "    }\n",
              "</style>\n",
              "<table border=\"1\" class=\"dataframe\">\n",
              "  <thead>\n",
              "    <tr style=\"text-align: right;\">\n",
              "      <th></th>\n",
              "      <th>total_images\\tlast_price\\ttotal_area\\tfirst_day_exposition\\trooms\\tceiling_height\\tfloors_total\\tliving_area\\tfloor\\tis_apartment\\tstudio\\topen_plan\\tkitchen_area\\tbalcony\\tlocality_name\\tairports_nearest\\tcityCenters_nearest\\tparks_around3000\\tparks_nearest\\tponds_around3000\\tponds_nearest\\tdays_exposition</th>\n",
              "    </tr>\n",
              "  </thead>\n",
              "  <tbody>\n",
              "    <tr>\n",
              "      <th>0</th>\n",
              "      <td>20\\t13000000.0\\t108.0\\t2019-03-07T00:00:00\\t3\\...</td>\n",
              "    </tr>\n",
              "    <tr>\n",
              "      <th>1</th>\n",
              "      <td>7\\t3350000.0\\t40.4\\t2018-12-04T00:00:00\\t1\\t\\t...</td>\n",
              "    </tr>\n",
              "    <tr>\n",
              "      <th>2</th>\n",
              "      <td>10\\t5196000.0\\t56.0\\t2015-08-20T00:00:00\\t2\\t\\...</td>\n",
              "    </tr>\n",
              "    <tr>\n",
              "      <th>3</th>\n",
              "      <td>0\\t64900000.0\\t159.0\\t2015-07-24T00:00:00\\t3\\t...</td>\n",
              "    </tr>\n",
              "    <tr>\n",
              "      <th>4</th>\n",
              "      <td>2\\t10000000.0\\t100.0\\t2018-06-19T00:00:00\\t2\\t...</td>\n",
              "    </tr>\n",
              "    <tr>\n",
              "      <th>...</th>\n",
              "      <td>...</td>\n",
              "    </tr>\n",
              "    <tr>\n",
              "      <th>23694</th>\n",
              "      <td>9\\t9700000.0\\t133.81\\t2017-03-21T00:00:00\\t3\\t...</td>\n",
              "    </tr>\n",
              "    <tr>\n",
              "      <th>23695</th>\n",
              "      <td>14\\t3100000.0\\t59.0\\t2018-01-15T00:00:00\\t3\\t\\...</td>\n",
              "    </tr>\n",
              "    <tr>\n",
              "      <th>23696</th>\n",
              "      <td>18\\t2500000.0\\t56.7\\t2018-02-11T00:00:00\\t2\\t\\...</td>\n",
              "    </tr>\n",
              "    <tr>\n",
              "      <th>23697</th>\n",
              "      <td>13\\t11475000.0\\t76.75\\t2017-03-28T00:00:00\\t2\\...</td>\n",
              "    </tr>\n",
              "    <tr>\n",
              "      <th>23698</th>\n",
              "      <td>4\\t1350000.0\\t32.3\\t2017-07-21T00:00:00\\t1\\t2....</td>\n",
              "    </tr>\n",
              "  </tbody>\n",
              "</table>\n",
              "<p>23699 rows × 1 columns</p>\n",
              "</div>"
            ],
            "text/plain": [
              "      total_images\\tlast_price\\ttotal_area\\tfirst_day_exposition\\trooms\\tceiling_height\\tfloors_total\\tliving_area\\tfloor\\tis_apartment\\tstudio\\topen_plan\\tkitchen_area\\tbalcony\\tlocality_name\\tairports_nearest\\tcityCenters_nearest\\tparks_around3000\\tparks_nearest\\tponds_around3000\\tponds_nearest\\tdays_exposition\n",
              "0      20\\t13000000.0\\t108.0\\t2019-03-07T00:00:00\\t3\\...                                                                                                                                                                                                                                                                  \n",
              "1      7\\t3350000.0\\t40.4\\t2018-12-04T00:00:00\\t1\\t\\t...                                                                                                                                                                                                                                                                  \n",
              "2      10\\t5196000.0\\t56.0\\t2015-08-20T00:00:00\\t2\\t\\...                                                                                                                                                                                                                                                                  \n",
              "3      0\\t64900000.0\\t159.0\\t2015-07-24T00:00:00\\t3\\t...                                                                                                                                                                                                                                                                  \n",
              "4      2\\t10000000.0\\t100.0\\t2018-06-19T00:00:00\\t2\\t...                                                                                                                                                                                                                                                                  \n",
              "...                                                  ...                                                                                                                                                                                                                                                                  \n",
              "23694  9\\t9700000.0\\t133.81\\t2017-03-21T00:00:00\\t3\\t...                                                                                                                                                                                                                                                                  \n",
              "23695  14\\t3100000.0\\t59.0\\t2018-01-15T00:00:00\\t3\\t\\...                                                                                                                                                                                                                                                                  \n",
              "23696  18\\t2500000.0\\t56.7\\t2018-02-11T00:00:00\\t2\\t\\...                                                                                                                                                                                                                                                                  \n",
              "23697  13\\t11475000.0\\t76.75\\t2017-03-28T00:00:00\\t2\\...                                                                                                                                                                                                                                                                  \n",
              "23698  4\\t1350000.0\\t32.3\\t2017-07-21T00:00:00\\t1\\t2....                                                                                                                                                                                                                                                                  \n",
              "\n",
              "[23699 rows x 1 columns]"
            ]
          },
          "metadata": {},
          "output_type": "display_data"
        },
        {
          "name": "stdout",
          "output_type": "stream",
          "text": [
            "<class 'pandas.core.frame.DataFrame'>\n",
            "RangeIndex: 23699 entries, 0 to 23698\n",
            "Data columns (total 1 columns):\n",
            " #   Column                                                                                                                                                                                                                                                                                           Non-Null Count  Dtype \n",
            "---  ------                                                                                                                                                                                                                                                                                           --------------  ----- \n",
            " 0   total_images\tlast_price\ttotal_area\tfirst_day_exposition\trooms\tceiling_height\tfloors_total\tliving_area\tfloor\tis_apartment\tstudio\topen_plan\tkitchen_area\tbalcony\tlocality_name\tairports_nearest\tcityCenters_nearest\tparks_around3000\tparks_nearest\tponds_around3000\tponds_nearest\tdays_exposition  23699 non-null  object\n",
            "dtypes: object(1)\n",
            "memory usage: 185.3+ KB\n"
          ]
        }
      ],
      "source": [
        "display(data)\n",
        "data.info()"
      ]
    },
    {
      "cell_type": "markdown",
      "metadata": {
        "id": "WYuY4rbdzboP"
      },
      "source": [
        "Данные нужно разделить, сейчас они в некорректном виде."
      ]
    },
    {
      "cell_type": "code",
      "execution_count": null,
      "metadata": {
        "scrolled": false,
        "id": "IpIrM0byzboP"
      },
      "outputs": [],
      "source": [
        "data = pd.read_csv('/datasets/real_estate_data.csv', sep = '\\t')"
      ]
    },
    {
      "cell_type": "code",
      "execution_count": null,
      "metadata": {
        "id": "3nuA_VSszboQ",
        "outputId": "96034857-0ddf-46a4-aa51-1bd494fe15fd"
      },
      "outputs": [
        {
          "data": {
            "text/html": [
              "<div>\n",
              "<style scoped>\n",
              "    .dataframe tbody tr th:only-of-type {\n",
              "        vertical-align: middle;\n",
              "    }\n",
              "\n",
              "    .dataframe tbody tr th {\n",
              "        vertical-align: top;\n",
              "    }\n",
              "\n",
              "    .dataframe thead th {\n",
              "        text-align: right;\n",
              "    }\n",
              "</style>\n",
              "<table border=\"1\" class=\"dataframe\">\n",
              "  <thead>\n",
              "    <tr style=\"text-align: right;\">\n",
              "      <th></th>\n",
              "      <th>total_images</th>\n",
              "      <th>last_price</th>\n",
              "      <th>total_area</th>\n",
              "      <th>first_day_exposition</th>\n",
              "      <th>rooms</th>\n",
              "      <th>ceiling_height</th>\n",
              "      <th>floors_total</th>\n",
              "      <th>living_area</th>\n",
              "      <th>floor</th>\n",
              "      <th>is_apartment</th>\n",
              "      <th>...</th>\n",
              "      <th>kitchen_area</th>\n",
              "      <th>balcony</th>\n",
              "      <th>locality_name</th>\n",
              "      <th>airports_nearest</th>\n",
              "      <th>cityCenters_nearest</th>\n",
              "      <th>parks_around3000</th>\n",
              "      <th>parks_nearest</th>\n",
              "      <th>ponds_around3000</th>\n",
              "      <th>ponds_nearest</th>\n",
              "      <th>days_exposition</th>\n",
              "    </tr>\n",
              "  </thead>\n",
              "  <tbody>\n",
              "    <tr>\n",
              "      <th>0</th>\n",
              "      <td>20</td>\n",
              "      <td>13000000.0</td>\n",
              "      <td>108.00</td>\n",
              "      <td>2019-03-07T00:00:00</td>\n",
              "      <td>3</td>\n",
              "      <td>2.70</td>\n",
              "      <td>16.0</td>\n",
              "      <td>51.0</td>\n",
              "      <td>8</td>\n",
              "      <td>NaN</td>\n",
              "      <td>...</td>\n",
              "      <td>25.00</td>\n",
              "      <td>NaN</td>\n",
              "      <td>Санкт-Петербург</td>\n",
              "      <td>18863.0</td>\n",
              "      <td>16028.0</td>\n",
              "      <td>1.0</td>\n",
              "      <td>482.0</td>\n",
              "      <td>2.0</td>\n",
              "      <td>755.0</td>\n",
              "      <td>NaN</td>\n",
              "    </tr>\n",
              "    <tr>\n",
              "      <th>1</th>\n",
              "      <td>7</td>\n",
              "      <td>3350000.0</td>\n",
              "      <td>40.40</td>\n",
              "      <td>2018-12-04T00:00:00</td>\n",
              "      <td>1</td>\n",
              "      <td>NaN</td>\n",
              "      <td>11.0</td>\n",
              "      <td>18.6</td>\n",
              "      <td>1</td>\n",
              "      <td>NaN</td>\n",
              "      <td>...</td>\n",
              "      <td>11.00</td>\n",
              "      <td>2.0</td>\n",
              "      <td>посёлок Шушары</td>\n",
              "      <td>12817.0</td>\n",
              "      <td>18603.0</td>\n",
              "      <td>0.0</td>\n",
              "      <td>NaN</td>\n",
              "      <td>0.0</td>\n",
              "      <td>NaN</td>\n",
              "      <td>81.0</td>\n",
              "    </tr>\n",
              "    <tr>\n",
              "      <th>2</th>\n",
              "      <td>10</td>\n",
              "      <td>5196000.0</td>\n",
              "      <td>56.00</td>\n",
              "      <td>2015-08-20T00:00:00</td>\n",
              "      <td>2</td>\n",
              "      <td>NaN</td>\n",
              "      <td>5.0</td>\n",
              "      <td>34.3</td>\n",
              "      <td>4</td>\n",
              "      <td>NaN</td>\n",
              "      <td>...</td>\n",
              "      <td>8.30</td>\n",
              "      <td>0.0</td>\n",
              "      <td>Санкт-Петербург</td>\n",
              "      <td>21741.0</td>\n",
              "      <td>13933.0</td>\n",
              "      <td>1.0</td>\n",
              "      <td>90.0</td>\n",
              "      <td>2.0</td>\n",
              "      <td>574.0</td>\n",
              "      <td>558.0</td>\n",
              "    </tr>\n",
              "    <tr>\n",
              "      <th>3</th>\n",
              "      <td>0</td>\n",
              "      <td>64900000.0</td>\n",
              "      <td>159.00</td>\n",
              "      <td>2015-07-24T00:00:00</td>\n",
              "      <td>3</td>\n",
              "      <td>NaN</td>\n",
              "      <td>14.0</td>\n",
              "      <td>NaN</td>\n",
              "      <td>9</td>\n",
              "      <td>NaN</td>\n",
              "      <td>...</td>\n",
              "      <td>NaN</td>\n",
              "      <td>0.0</td>\n",
              "      <td>Санкт-Петербург</td>\n",
              "      <td>28098.0</td>\n",
              "      <td>6800.0</td>\n",
              "      <td>2.0</td>\n",
              "      <td>84.0</td>\n",
              "      <td>3.0</td>\n",
              "      <td>234.0</td>\n",
              "      <td>424.0</td>\n",
              "    </tr>\n",
              "    <tr>\n",
              "      <th>4</th>\n",
              "      <td>2</td>\n",
              "      <td>10000000.0</td>\n",
              "      <td>100.00</td>\n",
              "      <td>2018-06-19T00:00:00</td>\n",
              "      <td>2</td>\n",
              "      <td>3.03</td>\n",
              "      <td>14.0</td>\n",
              "      <td>32.0</td>\n",
              "      <td>13</td>\n",
              "      <td>NaN</td>\n",
              "      <td>...</td>\n",
              "      <td>41.00</td>\n",
              "      <td>NaN</td>\n",
              "      <td>Санкт-Петербург</td>\n",
              "      <td>31856.0</td>\n",
              "      <td>8098.0</td>\n",
              "      <td>2.0</td>\n",
              "      <td>112.0</td>\n",
              "      <td>1.0</td>\n",
              "      <td>48.0</td>\n",
              "      <td>121.0</td>\n",
              "    </tr>\n",
              "    <tr>\n",
              "      <th>...</th>\n",
              "      <td>...</td>\n",
              "      <td>...</td>\n",
              "      <td>...</td>\n",
              "      <td>...</td>\n",
              "      <td>...</td>\n",
              "      <td>...</td>\n",
              "      <td>...</td>\n",
              "      <td>...</td>\n",
              "      <td>...</td>\n",
              "      <td>...</td>\n",
              "      <td>...</td>\n",
              "      <td>...</td>\n",
              "      <td>...</td>\n",
              "      <td>...</td>\n",
              "      <td>...</td>\n",
              "      <td>...</td>\n",
              "      <td>...</td>\n",
              "      <td>...</td>\n",
              "      <td>...</td>\n",
              "      <td>...</td>\n",
              "      <td>...</td>\n",
              "    </tr>\n",
              "    <tr>\n",
              "      <th>23694</th>\n",
              "      <td>9</td>\n",
              "      <td>9700000.0</td>\n",
              "      <td>133.81</td>\n",
              "      <td>2017-03-21T00:00:00</td>\n",
              "      <td>3</td>\n",
              "      <td>3.70</td>\n",
              "      <td>5.0</td>\n",
              "      <td>73.3</td>\n",
              "      <td>3</td>\n",
              "      <td>NaN</td>\n",
              "      <td>...</td>\n",
              "      <td>13.83</td>\n",
              "      <td>NaN</td>\n",
              "      <td>Санкт-Петербург</td>\n",
              "      <td>24665.0</td>\n",
              "      <td>4232.0</td>\n",
              "      <td>1.0</td>\n",
              "      <td>796.0</td>\n",
              "      <td>3.0</td>\n",
              "      <td>381.0</td>\n",
              "      <td>NaN</td>\n",
              "    </tr>\n",
              "    <tr>\n",
              "      <th>23695</th>\n",
              "      <td>14</td>\n",
              "      <td>3100000.0</td>\n",
              "      <td>59.00</td>\n",
              "      <td>2018-01-15T00:00:00</td>\n",
              "      <td>3</td>\n",
              "      <td>NaN</td>\n",
              "      <td>5.0</td>\n",
              "      <td>38.0</td>\n",
              "      <td>4</td>\n",
              "      <td>NaN</td>\n",
              "      <td>...</td>\n",
              "      <td>8.50</td>\n",
              "      <td>NaN</td>\n",
              "      <td>Тосно</td>\n",
              "      <td>NaN</td>\n",
              "      <td>NaN</td>\n",
              "      <td>NaN</td>\n",
              "      <td>NaN</td>\n",
              "      <td>NaN</td>\n",
              "      <td>NaN</td>\n",
              "      <td>45.0</td>\n",
              "    </tr>\n",
              "    <tr>\n",
              "      <th>23696</th>\n",
              "      <td>18</td>\n",
              "      <td>2500000.0</td>\n",
              "      <td>56.70</td>\n",
              "      <td>2018-02-11T00:00:00</td>\n",
              "      <td>2</td>\n",
              "      <td>NaN</td>\n",
              "      <td>3.0</td>\n",
              "      <td>29.7</td>\n",
              "      <td>1</td>\n",
              "      <td>NaN</td>\n",
              "      <td>...</td>\n",
              "      <td>NaN</td>\n",
              "      <td>NaN</td>\n",
              "      <td>село Рождествено</td>\n",
              "      <td>NaN</td>\n",
              "      <td>NaN</td>\n",
              "      <td>NaN</td>\n",
              "      <td>NaN</td>\n",
              "      <td>NaN</td>\n",
              "      <td>NaN</td>\n",
              "      <td>NaN</td>\n",
              "    </tr>\n",
              "    <tr>\n",
              "      <th>23697</th>\n",
              "      <td>13</td>\n",
              "      <td>11475000.0</td>\n",
              "      <td>76.75</td>\n",
              "      <td>2017-03-28T00:00:00</td>\n",
              "      <td>2</td>\n",
              "      <td>3.00</td>\n",
              "      <td>17.0</td>\n",
              "      <td>NaN</td>\n",
              "      <td>12</td>\n",
              "      <td>NaN</td>\n",
              "      <td>...</td>\n",
              "      <td>23.30</td>\n",
              "      <td>2.0</td>\n",
              "      <td>Санкт-Петербург</td>\n",
              "      <td>39140.0</td>\n",
              "      <td>10364.0</td>\n",
              "      <td>2.0</td>\n",
              "      <td>173.0</td>\n",
              "      <td>3.0</td>\n",
              "      <td>196.0</td>\n",
              "      <td>602.0</td>\n",
              "    </tr>\n",
              "    <tr>\n",
              "      <th>23698</th>\n",
              "      <td>4</td>\n",
              "      <td>1350000.0</td>\n",
              "      <td>32.30</td>\n",
              "      <td>2017-07-21T00:00:00</td>\n",
              "      <td>1</td>\n",
              "      <td>2.50</td>\n",
              "      <td>5.0</td>\n",
              "      <td>12.3</td>\n",
              "      <td>1</td>\n",
              "      <td>NaN</td>\n",
              "      <td>...</td>\n",
              "      <td>9.00</td>\n",
              "      <td>NaN</td>\n",
              "      <td>поселок Новый Учхоз</td>\n",
              "      <td>NaN</td>\n",
              "      <td>NaN</td>\n",
              "      <td>NaN</td>\n",
              "      <td>NaN</td>\n",
              "      <td>NaN</td>\n",
              "      <td>NaN</td>\n",
              "      <td>NaN</td>\n",
              "    </tr>\n",
              "  </tbody>\n",
              "</table>\n",
              "<p>23699 rows × 22 columns</p>\n",
              "</div>"
            ],
            "text/plain": [
              "       total_images  last_price  total_area first_day_exposition  rooms  \\\n",
              "0                20  13000000.0      108.00  2019-03-07T00:00:00      3   \n",
              "1                 7   3350000.0       40.40  2018-12-04T00:00:00      1   \n",
              "2                10   5196000.0       56.00  2015-08-20T00:00:00      2   \n",
              "3                 0  64900000.0      159.00  2015-07-24T00:00:00      3   \n",
              "4                 2  10000000.0      100.00  2018-06-19T00:00:00      2   \n",
              "...             ...         ...         ...                  ...    ...   \n",
              "23694             9   9700000.0      133.81  2017-03-21T00:00:00      3   \n",
              "23695            14   3100000.0       59.00  2018-01-15T00:00:00      3   \n",
              "23696            18   2500000.0       56.70  2018-02-11T00:00:00      2   \n",
              "23697            13  11475000.0       76.75  2017-03-28T00:00:00      2   \n",
              "23698             4   1350000.0       32.30  2017-07-21T00:00:00      1   \n",
              "\n",
              "       ceiling_height  floors_total  living_area  floor is_apartment  ...  \\\n",
              "0                2.70          16.0         51.0      8          NaN  ...   \n",
              "1                 NaN          11.0         18.6      1          NaN  ...   \n",
              "2                 NaN           5.0         34.3      4          NaN  ...   \n",
              "3                 NaN          14.0          NaN      9          NaN  ...   \n",
              "4                3.03          14.0         32.0     13          NaN  ...   \n",
              "...               ...           ...          ...    ...          ...  ...   \n",
              "23694            3.70           5.0         73.3      3          NaN  ...   \n",
              "23695             NaN           5.0         38.0      4          NaN  ...   \n",
              "23696             NaN           3.0         29.7      1          NaN  ...   \n",
              "23697            3.00          17.0          NaN     12          NaN  ...   \n",
              "23698            2.50           5.0         12.3      1          NaN  ...   \n",
              "\n",
              "       kitchen_area  balcony        locality_name  airports_nearest  \\\n",
              "0             25.00      NaN      Санкт-Петербург           18863.0   \n",
              "1             11.00      2.0       посёлок Шушары           12817.0   \n",
              "2              8.30      0.0      Санкт-Петербург           21741.0   \n",
              "3               NaN      0.0      Санкт-Петербург           28098.0   \n",
              "4             41.00      NaN      Санкт-Петербург           31856.0   \n",
              "...             ...      ...                  ...               ...   \n",
              "23694         13.83      NaN      Санкт-Петербург           24665.0   \n",
              "23695          8.50      NaN                Тосно               NaN   \n",
              "23696           NaN      NaN     село Рождествено               NaN   \n",
              "23697         23.30      2.0      Санкт-Петербург           39140.0   \n",
              "23698          9.00      NaN  поселок Новый Учхоз               NaN   \n",
              "\n",
              "      cityCenters_nearest  parks_around3000  parks_nearest  ponds_around3000  \\\n",
              "0                 16028.0               1.0          482.0               2.0   \n",
              "1                 18603.0               0.0            NaN               0.0   \n",
              "2                 13933.0               1.0           90.0               2.0   \n",
              "3                  6800.0               2.0           84.0               3.0   \n",
              "4                  8098.0               2.0          112.0               1.0   \n",
              "...                   ...               ...            ...               ...   \n",
              "23694              4232.0               1.0          796.0               3.0   \n",
              "23695                 NaN               NaN            NaN               NaN   \n",
              "23696                 NaN               NaN            NaN               NaN   \n",
              "23697             10364.0               2.0          173.0               3.0   \n",
              "23698                 NaN               NaN            NaN               NaN   \n",
              "\n",
              "       ponds_nearest  days_exposition  \n",
              "0              755.0              NaN  \n",
              "1                NaN             81.0  \n",
              "2              574.0            558.0  \n",
              "3              234.0            424.0  \n",
              "4               48.0            121.0  \n",
              "...              ...              ...  \n",
              "23694          381.0              NaN  \n",
              "23695            NaN             45.0  \n",
              "23696            NaN              NaN  \n",
              "23697          196.0            602.0  \n",
              "23698            NaN              NaN  \n",
              "\n",
              "[23699 rows x 22 columns]"
            ]
          },
          "metadata": {},
          "output_type": "display_data"
        },
        {
          "name": "stdout",
          "output_type": "stream",
          "text": [
            "<class 'pandas.core.frame.DataFrame'>\n",
            "RangeIndex: 23699 entries, 0 to 23698\n",
            "Data columns (total 22 columns):\n",
            " #   Column                Non-Null Count  Dtype  \n",
            "---  ------                --------------  -----  \n",
            " 0   total_images          23699 non-null  int64  \n",
            " 1   last_price            23699 non-null  float64\n",
            " 2   total_area            23699 non-null  float64\n",
            " 3   first_day_exposition  23699 non-null  object \n",
            " 4   rooms                 23699 non-null  int64  \n",
            " 5   ceiling_height        14504 non-null  float64\n",
            " 6   floors_total          23613 non-null  float64\n",
            " 7   living_area           21796 non-null  float64\n",
            " 8   floor                 23699 non-null  int64  \n",
            " 9   is_apartment          2775 non-null   object \n",
            " 10  studio                23699 non-null  bool   \n",
            " 11  open_plan             23699 non-null  bool   \n",
            " 12  kitchen_area          21421 non-null  float64\n",
            " 13  balcony               12180 non-null  float64\n",
            " 14  locality_name         23650 non-null  object \n",
            " 15  airports_nearest      18157 non-null  float64\n",
            " 16  cityCenters_nearest   18180 non-null  float64\n",
            " 17  parks_around3000      18181 non-null  float64\n",
            " 18  parks_nearest         8079 non-null   float64\n",
            " 19  ponds_around3000      18181 non-null  float64\n",
            " 20  ponds_nearest         9110 non-null   float64\n",
            " 21  days_exposition       20518 non-null  float64\n",
            "dtypes: bool(2), float64(14), int64(3), object(3)\n",
            "memory usage: 3.7+ MB\n",
            "Index(['total_images', 'last_price', 'total_area', 'first_day_exposition',\n",
            "       'rooms', 'ceiling_height', 'floors_total', 'living_area', 'floor',\n",
            "       'is_apartment', 'studio', 'open_plan', 'kitchen_area', 'balcony',\n",
            "       'locality_name', 'airports_nearest', 'cityCenters_nearest',\n",
            "       'parks_around3000', 'parks_nearest', 'ponds_around3000',\n",
            "       'ponds_nearest', 'days_exposition'],\n",
            "      dtype='object')\n"
          ]
        }
      ],
      "source": [
        "display(data)\n",
        "data.info()\n",
        "print(data.columns)"
      ]
    },
    {
      "cell_type": "markdown",
      "metadata": {
        "id": "0zMaLyGkzboQ"
      },
      "source": [
        "Посчитаю пропуски"
      ]
    },
    {
      "cell_type": "code",
      "execution_count": null,
      "metadata": {
        "id": "Aop1RfiWzboQ",
        "outputId": "f8924e97-8616-4d12-e1f6-7f53c6553833"
      },
      "outputs": [
        {
          "name": "stdout",
          "output_type": "stream",
          "text": [
            "total_images                0\n",
            "last_price                  0\n",
            "total_area                  0\n",
            "first_day_exposition        0\n",
            "rooms                       0\n",
            "ceiling_height           9195\n",
            "floors_total               86\n",
            "living_area              1903\n",
            "floor                       0\n",
            "is_apartment            20924\n",
            "studio                      0\n",
            "open_plan                   0\n",
            "kitchen_area             2278\n",
            "balcony                 11519\n",
            "locality_name              49\n",
            "airports_nearest         5542\n",
            "cityCenters_nearest      5519\n",
            "parks_around3000         5518\n",
            "parks_nearest           15620\n",
            "ponds_around3000         5518\n",
            "ponds_nearest           14589\n",
            "days_exposition          3181\n",
            "dtype: int64\n"
          ]
        }
      ],
      "source": [
        "print(data.isna().sum())"
      ]
    },
    {
      "cell_type": "markdown",
      "metadata": {
        "id": "IIn01ZF5zboQ"
      },
      "source": [
        "В ceiling_height и floors_total оставлю пропуски, заполнить по взаимосвязи с другим столбцом невозможно. Если удалить строки, много данных будет потеряно."
      ]
    },
    {
      "cell_type": "code",
      "execution_count": null,
      "metadata": {
        "id": "eq49cA8zzboR",
        "outputId": "ddb7a6bc-15cb-4099-8613-2cb940f7622b"
      },
      "outputs": [
        {
          "name": "stdout",
          "output_type": "stream",
          "text": [
            "[nan False True]\n"
          ]
        }
      ],
      "source": [
        "print(data['is_apartment'].unique())"
      ]
    },
    {
      "cell_type": "markdown",
      "metadata": {
        "id": "YOjHSivzzboR"
      },
      "source": [
        "is_apartment содержит булевы значения True и False, а также NaN.\n",
        "Точно не знаю, может ли пропуск означать False, но это выглядит логично (если представить, как происходило заполнение).\n",
        "Заменю пропуски на False."
      ]
    },
    {
      "cell_type": "code",
      "execution_count": null,
      "metadata": {
        "id": "8XUHSwfIzboR"
      },
      "outputs": [],
      "source": [
        "data['is_apartment'] = data['is_apartment'].fillna(value=False)"
      ]
    },
    {
      "cell_type": "markdown",
      "metadata": {
        "id": "Cz1946InzboR"
      },
      "source": [
        "Пропуски в living_area, kitchen_area есть соблазн заменить медианной, но все же так я внесу недостовеннрую информацию в данные. В locality_name, days_exposition сложно заменить значение, если оно пропущено, потому что нет прямой зависимости от других значений в том же столбце. \n",
        "Схожее расстояние от аэропорта не будет достаточным основанием для заполнения пропусков в названии населенного пункта. Причины пропусков могут заключаться в том, что люди просто не указали данные, возможно, не посчитали важным для описания недвижимости. Без адреса объекты почти теряют свою значимость в таблице. Поэтому сначала  удалю пропуски в locality_name (их немного)."
      ]
    },
    {
      "cell_type": "code",
      "execution_count": null,
      "metadata": {
        "id": "uWS7JI5xzboS"
      },
      "outputs": [],
      "source": [
        "data.dropna(subset=['locality_name'], inplace=True)"
      ]
    },
    {
      "cell_type": "markdown",
      "metadata": {
        "id": "WeeArRFezboS"
      },
      "source": [
        "В столбце balcony заменю пропуски на 0 (то есть балконов нет)."
      ]
    },
    {
      "cell_type": "code",
      "execution_count": null,
      "metadata": {
        "id": "90YzFBpPzboS"
      },
      "outputs": [],
      "source": [
        "data['balcony'] = data['balcony'].fillna(value=0)"
      ]
    },
    {
      "cell_type": "markdown",
      "metadata": {
        "id": "0sRNDGg7zboS"
      },
      "source": [
        "Заменять пропуски в столбце ceiling_height не буду, потому что средняя (или медианная) высота потолка, например, по населенному пункту, или просто нулевое значение, будет не самым корректным значением. Скорее всего размещающий объявление просто не указал такую информацию об объекте."
      ]
    },
    {
      "cell_type": "markdown",
      "metadata": {
        "id": "LpiH1DabzboT"
      },
      "source": [
        "Также есть пропуски в численных столбцах airports_nearest, cityCenters_nearest, parks_nearest, ponds_nearest попробую заменить пропуски в зависимости от местопложения объекта(locality_name), это могут быть неточные данные, но например, разница в несколько метров фактического расстояния от парка не будет серьезным искажением данных."
      ]
    },
    {
      "cell_type": "code",
      "execution_count": null,
      "metadata": {
        "id": "q-ThaFG3zboT",
        "outputId": "52d25a3b-f716-4f4d-9508-e87937eac976"
      },
      "outputs": [
        {
          "name": "stdout",
          "output_type": "stream",
          "text": [
            "total_images               0\n",
            "last_price                 0\n",
            "total_area                 0\n",
            "first_day_exposition       0\n",
            "rooms                      0\n",
            "ceiling_height          9160\n",
            "floors_total              85\n",
            "living_area             1898\n",
            "floor                      0\n",
            "is_apartment               0\n",
            "studio                     0\n",
            "open_plan                  0\n",
            "kitchen_area            2269\n",
            "balcony                    0\n",
            "locality_name              0\n",
            "airports_nearest        5386\n",
            "cityCenters_nearest     5386\n",
            "parks_around3000        5510\n",
            "parks_nearest           5998\n",
            "ponds_around3000        5510\n",
            "ponds_nearest           5494\n",
            "days_exposition         3180\n",
            "dtype: int64\n"
          ]
        },
        {
          "data": {
            "text/html": [
              "<div>\n",
              "<style scoped>\n",
              "    .dataframe tbody tr th:only-of-type {\n",
              "        vertical-align: middle;\n",
              "    }\n",
              "\n",
              "    .dataframe tbody tr th {\n",
              "        vertical-align: top;\n",
              "    }\n",
              "\n",
              "    .dataframe thead th {\n",
              "        text-align: right;\n",
              "    }\n",
              "</style>\n",
              "<table border=\"1\" class=\"dataframe\">\n",
              "  <thead>\n",
              "    <tr style=\"text-align: right;\">\n",
              "      <th></th>\n",
              "      <th>total_images</th>\n",
              "      <th>last_price</th>\n",
              "      <th>total_area</th>\n",
              "      <th>first_day_exposition</th>\n",
              "      <th>rooms</th>\n",
              "      <th>ceiling_height</th>\n",
              "      <th>floors_total</th>\n",
              "      <th>living_area</th>\n",
              "      <th>floor</th>\n",
              "      <th>is_apartment</th>\n",
              "      <th>...</th>\n",
              "      <th>kitchen_area</th>\n",
              "      <th>balcony</th>\n",
              "      <th>locality_name</th>\n",
              "      <th>airports_nearest</th>\n",
              "      <th>cityCenters_nearest</th>\n",
              "      <th>parks_around3000</th>\n",
              "      <th>parks_nearest</th>\n",
              "      <th>ponds_around3000</th>\n",
              "      <th>ponds_nearest</th>\n",
              "      <th>days_exposition</th>\n",
              "    </tr>\n",
              "  </thead>\n",
              "  <tbody>\n",
              "    <tr>\n",
              "      <th>0</th>\n",
              "      <td>20</td>\n",
              "      <td>13000000.0</td>\n",
              "      <td>108.00</td>\n",
              "      <td>2019-03-07T00:00:00</td>\n",
              "      <td>3</td>\n",
              "      <td>2.70</td>\n",
              "      <td>16.0</td>\n",
              "      <td>51.0</td>\n",
              "      <td>8</td>\n",
              "      <td>False</td>\n",
              "      <td>...</td>\n",
              "      <td>25.00</td>\n",
              "      <td>0.0</td>\n",
              "      <td>Санкт-Петербург</td>\n",
              "      <td>18863.0</td>\n",
              "      <td>16028.0</td>\n",
              "      <td>1.0</td>\n",
              "      <td>482.0</td>\n",
              "      <td>2.0</td>\n",
              "      <td>755.0</td>\n",
              "      <td>NaN</td>\n",
              "    </tr>\n",
              "    <tr>\n",
              "      <th>1</th>\n",
              "      <td>7</td>\n",
              "      <td>3350000.0</td>\n",
              "      <td>40.40</td>\n",
              "      <td>2018-12-04T00:00:00</td>\n",
              "      <td>1</td>\n",
              "      <td>NaN</td>\n",
              "      <td>11.0</td>\n",
              "      <td>18.6</td>\n",
              "      <td>1</td>\n",
              "      <td>False</td>\n",
              "      <td>...</td>\n",
              "      <td>11.00</td>\n",
              "      <td>2.0</td>\n",
              "      <td>посёлок Шушары</td>\n",
              "      <td>12817.0</td>\n",
              "      <td>18603.0</td>\n",
              "      <td>0.0</td>\n",
              "      <td>NaN</td>\n",
              "      <td>0.0</td>\n",
              "      <td>584.5</td>\n",
              "      <td>81.0</td>\n",
              "    </tr>\n",
              "    <tr>\n",
              "      <th>2</th>\n",
              "      <td>10</td>\n",
              "      <td>5196000.0</td>\n",
              "      <td>56.00</td>\n",
              "      <td>2015-08-20T00:00:00</td>\n",
              "      <td>2</td>\n",
              "      <td>NaN</td>\n",
              "      <td>5.0</td>\n",
              "      <td>34.3</td>\n",
              "      <td>4</td>\n",
              "      <td>False</td>\n",
              "      <td>...</td>\n",
              "      <td>8.30</td>\n",
              "      <td>0.0</td>\n",
              "      <td>Санкт-Петербург</td>\n",
              "      <td>21741.0</td>\n",
              "      <td>13933.0</td>\n",
              "      <td>1.0</td>\n",
              "      <td>90.0</td>\n",
              "      <td>2.0</td>\n",
              "      <td>574.0</td>\n",
              "      <td>558.0</td>\n",
              "    </tr>\n",
              "    <tr>\n",
              "      <th>3</th>\n",
              "      <td>0</td>\n",
              "      <td>64900000.0</td>\n",
              "      <td>159.00</td>\n",
              "      <td>2015-07-24T00:00:00</td>\n",
              "      <td>3</td>\n",
              "      <td>NaN</td>\n",
              "      <td>14.0</td>\n",
              "      <td>NaN</td>\n",
              "      <td>9</td>\n",
              "      <td>False</td>\n",
              "      <td>...</td>\n",
              "      <td>NaN</td>\n",
              "      <td>0.0</td>\n",
              "      <td>Санкт-Петербург</td>\n",
              "      <td>28098.0</td>\n",
              "      <td>6800.0</td>\n",
              "      <td>2.0</td>\n",
              "      <td>84.0</td>\n",
              "      <td>3.0</td>\n",
              "      <td>234.0</td>\n",
              "      <td>424.0</td>\n",
              "    </tr>\n",
              "    <tr>\n",
              "      <th>4</th>\n",
              "      <td>2</td>\n",
              "      <td>10000000.0</td>\n",
              "      <td>100.00</td>\n",
              "      <td>2018-06-19T00:00:00</td>\n",
              "      <td>2</td>\n",
              "      <td>3.03</td>\n",
              "      <td>14.0</td>\n",
              "      <td>32.0</td>\n",
              "      <td>13</td>\n",
              "      <td>False</td>\n",
              "      <td>...</td>\n",
              "      <td>41.00</td>\n",
              "      <td>0.0</td>\n",
              "      <td>Санкт-Петербург</td>\n",
              "      <td>31856.0</td>\n",
              "      <td>8098.0</td>\n",
              "      <td>2.0</td>\n",
              "      <td>112.0</td>\n",
              "      <td>1.0</td>\n",
              "      <td>48.0</td>\n",
              "      <td>121.0</td>\n",
              "    </tr>\n",
              "    <tr>\n",
              "      <th>...</th>\n",
              "      <td>...</td>\n",
              "      <td>...</td>\n",
              "      <td>...</td>\n",
              "      <td>...</td>\n",
              "      <td>...</td>\n",
              "      <td>...</td>\n",
              "      <td>...</td>\n",
              "      <td>...</td>\n",
              "      <td>...</td>\n",
              "      <td>...</td>\n",
              "      <td>...</td>\n",
              "      <td>...</td>\n",
              "      <td>...</td>\n",
              "      <td>...</td>\n",
              "      <td>...</td>\n",
              "      <td>...</td>\n",
              "      <td>...</td>\n",
              "      <td>...</td>\n",
              "      <td>...</td>\n",
              "      <td>...</td>\n",
              "      <td>...</td>\n",
              "    </tr>\n",
              "    <tr>\n",
              "      <th>23694</th>\n",
              "      <td>9</td>\n",
              "      <td>9700000.0</td>\n",
              "      <td>133.81</td>\n",
              "      <td>2017-03-21T00:00:00</td>\n",
              "      <td>3</td>\n",
              "      <td>3.70</td>\n",
              "      <td>5.0</td>\n",
              "      <td>73.3</td>\n",
              "      <td>3</td>\n",
              "      <td>False</td>\n",
              "      <td>...</td>\n",
              "      <td>13.83</td>\n",
              "      <td>0.0</td>\n",
              "      <td>Санкт-Петербург</td>\n",
              "      <td>24665.0</td>\n",
              "      <td>4232.0</td>\n",
              "      <td>1.0</td>\n",
              "      <td>796.0</td>\n",
              "      <td>3.0</td>\n",
              "      <td>381.0</td>\n",
              "      <td>NaN</td>\n",
              "    </tr>\n",
              "    <tr>\n",
              "      <th>23695</th>\n",
              "      <td>14</td>\n",
              "      <td>3100000.0</td>\n",
              "      <td>59.00</td>\n",
              "      <td>2018-01-15T00:00:00</td>\n",
              "      <td>3</td>\n",
              "      <td>NaN</td>\n",
              "      <td>5.0</td>\n",
              "      <td>38.0</td>\n",
              "      <td>4</td>\n",
              "      <td>False</td>\n",
              "      <td>...</td>\n",
              "      <td>8.50</td>\n",
              "      <td>0.0</td>\n",
              "      <td>Тосно</td>\n",
              "      <td>NaN</td>\n",
              "      <td>NaN</td>\n",
              "      <td>NaN</td>\n",
              "      <td>NaN</td>\n",
              "      <td>NaN</td>\n",
              "      <td>NaN</td>\n",
              "      <td>45.0</td>\n",
              "    </tr>\n",
              "    <tr>\n",
              "      <th>23696</th>\n",
              "      <td>18</td>\n",
              "      <td>2500000.0</td>\n",
              "      <td>56.70</td>\n",
              "      <td>2018-02-11T00:00:00</td>\n",
              "      <td>2</td>\n",
              "      <td>NaN</td>\n",
              "      <td>3.0</td>\n",
              "      <td>29.7</td>\n",
              "      <td>1</td>\n",
              "      <td>False</td>\n",
              "      <td>...</td>\n",
              "      <td>NaN</td>\n",
              "      <td>0.0</td>\n",
              "      <td>село Рождествено</td>\n",
              "      <td>NaN</td>\n",
              "      <td>NaN</td>\n",
              "      <td>NaN</td>\n",
              "      <td>NaN</td>\n",
              "      <td>NaN</td>\n",
              "      <td>NaN</td>\n",
              "      <td>NaN</td>\n",
              "    </tr>\n",
              "    <tr>\n",
              "      <th>23697</th>\n",
              "      <td>13</td>\n",
              "      <td>11475000.0</td>\n",
              "      <td>76.75</td>\n",
              "      <td>2017-03-28T00:00:00</td>\n",
              "      <td>2</td>\n",
              "      <td>3.00</td>\n",
              "      <td>17.0</td>\n",
              "      <td>NaN</td>\n",
              "      <td>12</td>\n",
              "      <td>False</td>\n",
              "      <td>...</td>\n",
              "      <td>23.30</td>\n",
              "      <td>2.0</td>\n",
              "      <td>Санкт-Петербург</td>\n",
              "      <td>39140.0</td>\n",
              "      <td>10364.0</td>\n",
              "      <td>2.0</td>\n",
              "      <td>173.0</td>\n",
              "      <td>3.0</td>\n",
              "      <td>196.0</td>\n",
              "      <td>602.0</td>\n",
              "    </tr>\n",
              "    <tr>\n",
              "      <th>23698</th>\n",
              "      <td>4</td>\n",
              "      <td>1350000.0</td>\n",
              "      <td>32.30</td>\n",
              "      <td>2017-07-21T00:00:00</td>\n",
              "      <td>1</td>\n",
              "      <td>2.50</td>\n",
              "      <td>5.0</td>\n",
              "      <td>12.3</td>\n",
              "      <td>1</td>\n",
              "      <td>False</td>\n",
              "      <td>...</td>\n",
              "      <td>9.00</td>\n",
              "      <td>0.0</td>\n",
              "      <td>поселок Новый Учхоз</td>\n",
              "      <td>NaN</td>\n",
              "      <td>NaN</td>\n",
              "      <td>NaN</td>\n",
              "      <td>NaN</td>\n",
              "      <td>NaN</td>\n",
              "      <td>NaN</td>\n",
              "      <td>NaN</td>\n",
              "    </tr>\n",
              "  </tbody>\n",
              "</table>\n",
              "<p>23650 rows × 22 columns</p>\n",
              "</div>"
            ],
            "text/plain": [
              "       total_images  last_price  total_area first_day_exposition  rooms  \\\n",
              "0                20  13000000.0      108.00  2019-03-07T00:00:00      3   \n",
              "1                 7   3350000.0       40.40  2018-12-04T00:00:00      1   \n",
              "2                10   5196000.0       56.00  2015-08-20T00:00:00      2   \n",
              "3                 0  64900000.0      159.00  2015-07-24T00:00:00      3   \n",
              "4                 2  10000000.0      100.00  2018-06-19T00:00:00      2   \n",
              "...             ...         ...         ...                  ...    ...   \n",
              "23694             9   9700000.0      133.81  2017-03-21T00:00:00      3   \n",
              "23695            14   3100000.0       59.00  2018-01-15T00:00:00      3   \n",
              "23696            18   2500000.0       56.70  2018-02-11T00:00:00      2   \n",
              "23697            13  11475000.0       76.75  2017-03-28T00:00:00      2   \n",
              "23698             4   1350000.0       32.30  2017-07-21T00:00:00      1   \n",
              "\n",
              "       ceiling_height  floors_total  living_area  floor  is_apartment  ...  \\\n",
              "0                2.70          16.0         51.0      8         False  ...   \n",
              "1                 NaN          11.0         18.6      1         False  ...   \n",
              "2                 NaN           5.0         34.3      4         False  ...   \n",
              "3                 NaN          14.0          NaN      9         False  ...   \n",
              "4                3.03          14.0         32.0     13         False  ...   \n",
              "...               ...           ...          ...    ...           ...  ...   \n",
              "23694            3.70           5.0         73.3      3         False  ...   \n",
              "23695             NaN           5.0         38.0      4         False  ...   \n",
              "23696             NaN           3.0         29.7      1         False  ...   \n",
              "23697            3.00          17.0          NaN     12         False  ...   \n",
              "23698            2.50           5.0         12.3      1         False  ...   \n",
              "\n",
              "       kitchen_area  balcony        locality_name  airports_nearest  \\\n",
              "0             25.00      0.0      Санкт-Петербург           18863.0   \n",
              "1             11.00      2.0       посёлок Шушары           12817.0   \n",
              "2              8.30      0.0      Санкт-Петербург           21741.0   \n",
              "3               NaN      0.0      Санкт-Петербург           28098.0   \n",
              "4             41.00      0.0      Санкт-Петербург           31856.0   \n",
              "...             ...      ...                  ...               ...   \n",
              "23694         13.83      0.0      Санкт-Петербург           24665.0   \n",
              "23695          8.50      0.0                Тосно               NaN   \n",
              "23696           NaN      0.0     село Рождествено               NaN   \n",
              "23697         23.30      2.0      Санкт-Петербург           39140.0   \n",
              "23698          9.00      0.0  поселок Новый Учхоз               NaN   \n",
              "\n",
              "      cityCenters_nearest  parks_around3000  parks_nearest  ponds_around3000  \\\n",
              "0                 16028.0               1.0          482.0               2.0   \n",
              "1                 18603.0               0.0            NaN               0.0   \n",
              "2                 13933.0               1.0           90.0               2.0   \n",
              "3                  6800.0               2.0           84.0               3.0   \n",
              "4                  8098.0               2.0          112.0               1.0   \n",
              "...                   ...               ...            ...               ...   \n",
              "23694              4232.0               1.0          796.0               3.0   \n",
              "23695                 NaN               NaN            NaN               NaN   \n",
              "23696                 NaN               NaN            NaN               NaN   \n",
              "23697             10364.0               2.0          173.0               3.0   \n",
              "23698                 NaN               NaN            NaN               NaN   \n",
              "\n",
              "       ponds_nearest  days_exposition  \n",
              "0              755.0              NaN  \n",
              "1              584.5             81.0  \n",
              "2              574.0            558.0  \n",
              "3              234.0            424.0  \n",
              "4               48.0            121.0  \n",
              "...              ...              ...  \n",
              "23694          381.0              NaN  \n",
              "23695            NaN             45.0  \n",
              "23696            NaN              NaN  \n",
              "23697          196.0            602.0  \n",
              "23698            NaN              NaN  \n",
              "\n",
              "[23650 rows x 22 columns]"
            ]
          },
          "metadata": {},
          "output_type": "display_data"
        }
      ],
      "source": [
        "data['airports_nearest'] = data['airports_nearest'].fillna(data.groupby('locality_name')['airports_nearest'].transform('median'))\n",
        "data['cityCenters_nearest'] = data['cityCenters_nearest'].fillna(data.groupby('locality_name')['cityCenters_nearest'].transform('median'))\n",
        "data['parks_nearest'] = data['parks_nearest'].fillna(data.groupby('locality_name')['parks_nearest'].transform('median'))\n",
        "data['ponds_nearest'] = data['ponds_nearest'].fillna(data.groupby('locality_name')['ponds_nearest'].transform('median'))\n",
        "print(data.isna().sum())\n",
        "display(data)"
      ]
    },
    {
      "cell_type": "markdown",
      "metadata": {
        "id": "IzToCeetzboU"
      },
      "source": [
        "Некоторое количество пропусков в этих данных осталось, потому что не везде можно заполнить по причине отсутствия значения для расчета медианы."
      ]
    },
    {
      "cell_type": "markdown",
      "metadata": {
        "id": "Mssp-P7BzboV"
      },
      "source": [
        "В столбцах parks_around3000, ponds_around3000, пропуски возможно связаны с тем, что этих объектов рядом нет. Если мы заполним медианным значением по локации, это будет не совсем корректно, потому что протяженность нескольких населеных пунктов значительно больше 3 километров. Но данных по размеру населенного пункта у нас нет в датафрейме.\n",
        "В то же время мы не можем сказать, что если данные в этих столбцах не указаны, значит парков и водоемов в 3 километрах от объекта не имеется."
      ]
    },
    {
      "cell_type": "markdown",
      "metadata": {
        "id": "fQzZub3HzboV"
      },
      "source": [
        "Проверим датафрейм на наличие дубликатов"
      ]
    },
    {
      "cell_type": "code",
      "execution_count": null,
      "metadata": {
        "id": "IIH-63NezboV",
        "outputId": "161e2728-1eb8-44ce-f441-98b49cf0be4c"
      },
      "outputs": [
        {
          "name": "stdout",
          "output_type": "stream",
          "text": [
            "0\n"
          ]
        },
        {
          "data": {
            "text/html": [
              "<div>\n",
              "<style scoped>\n",
              "    .dataframe tbody tr th:only-of-type {\n",
              "        vertical-align: middle;\n",
              "    }\n",
              "\n",
              "    .dataframe tbody tr th {\n",
              "        vertical-align: top;\n",
              "    }\n",
              "\n",
              "    .dataframe thead th {\n",
              "        text-align: right;\n",
              "    }\n",
              "</style>\n",
              "<table border=\"1\" class=\"dataframe\">\n",
              "  <thead>\n",
              "    <tr style=\"text-align: right;\">\n",
              "      <th></th>\n",
              "      <th>total_images</th>\n",
              "      <th>last_price</th>\n",
              "      <th>total_area</th>\n",
              "      <th>first_day_exposition</th>\n",
              "      <th>rooms</th>\n",
              "      <th>ceiling_height</th>\n",
              "      <th>floors_total</th>\n",
              "      <th>living_area</th>\n",
              "      <th>floor</th>\n",
              "      <th>is_apartment</th>\n",
              "      <th>...</th>\n",
              "      <th>kitchen_area</th>\n",
              "      <th>balcony</th>\n",
              "      <th>locality_name</th>\n",
              "      <th>airports_nearest</th>\n",
              "      <th>cityCenters_nearest</th>\n",
              "      <th>parks_around3000</th>\n",
              "      <th>parks_nearest</th>\n",
              "      <th>ponds_around3000</th>\n",
              "      <th>ponds_nearest</th>\n",
              "      <th>days_exposition</th>\n",
              "    </tr>\n",
              "  </thead>\n",
              "  <tbody>\n",
              "  </tbody>\n",
              "</table>\n",
              "<p>0 rows × 22 columns</p>\n",
              "</div>"
            ],
            "text/plain": [
              "Empty DataFrame\n",
              "Columns: [total_images, last_price, total_area, first_day_exposition, rooms, ceiling_height, floors_total, living_area, floor, is_apartment, studio, open_plan, kitchen_area, balcony, locality_name, airports_nearest, cityCenters_nearest, parks_around3000, parks_nearest, ponds_around3000, ponds_nearest, days_exposition]\n",
              "Index: []\n",
              "\n",
              "[0 rows x 22 columns]"
            ]
          },
          "metadata": {},
          "output_type": "display_data"
        }
      ],
      "source": [
        "print(data.duplicated().sum())\n",
        "display(data[data.duplicated()])"
      ]
    },
    {
      "cell_type": "markdown",
      "metadata": {
        "id": "07yoX9o1zboV"
      },
      "source": [
        "Проверю неявные дубликаты в колонке с нечисловыми значениями"
      ]
    },
    {
      "cell_type": "code",
      "execution_count": null,
      "metadata": {
        "id": "CUUyXUmyzboV",
        "outputId": "55fe99c0-b9a6-4d06-c0f6-9e63b89366c7"
      },
      "outputs": [
        {
          "data": {
            "text/plain": [
              "Санкт-Петербург       15721\n",
              "посёлок Мурино          522\n",
              "посёлок Шушары          440\n",
              "Всеволожск              398\n",
              "Пушкин                  369\n",
              "                      ...  \n",
              "деревня Лаврики           1\n",
              "посёлок Белоостров        1\n",
              "посёлок Коробицыно        1\n",
              "деревня Тихковицы         1\n",
              "деревня Зимитицы          1\n",
              "Name: locality_name, Length: 364, dtype: int64"
            ]
          },
          "metadata": {},
          "output_type": "display_data"
        }
      ],
      "source": [
        "display(data['locality_name'].value_counts())\n",
        "pd.set_option('display.max_rows', 400)"
      ]
    },
    {
      "cell_type": "markdown",
      "metadata": {
        "id": "mQiX1dHTzboW"
      },
      "source": [
        "Населенных пунктов много, но можно отметить из неявных дубликатов \"посёлок\" и \"поселок\"."
      ]
    },
    {
      "cell_type": "code",
      "execution_count": null,
      "metadata": {
        "id": "1ndmGCaOzboW"
      },
      "outputs": [],
      "source": [
        "data['locality_name'] = data['locality_name'].str.replace('ё', 'е')"
      ]
    },
    {
      "cell_type": "markdown",
      "metadata": {
        "id": "y3IKlPv8zboX"
      },
      "source": [
        "## Расчеты и добавление данных в датафрейм"
      ]
    },
    {
      "cell_type": "markdown",
      "metadata": {
        "id": "kExtb27DzboX"
      },
      "source": [
        "Для добавления цены квадратного метра, разделим актуальную стоимость на количество квдаратных метров."
      ]
    },
    {
      "cell_type": "code",
      "execution_count": null,
      "metadata": {
        "id": "oVfPq98BzboX"
      },
      "outputs": [],
      "source": [
        "data['square_metre_price'] = data['last_price'] / data['total_area']"
      ]
    },
    {
      "cell_type": "markdown",
      "metadata": {
        "id": "Kxp0PivszboY"
      },
      "source": [
        "Для указания дня недели, месяца и год публикации объявления нужно разбить столбец first_day_exposition. Затем создам отдельные столбцы с показателями."
      ]
    },
    {
      "cell_type": "code",
      "execution_count": null,
      "metadata": {
        "scrolled": true,
        "id": "xiQQHMC5zboY",
        "outputId": "b82a3499-b8c5-4de4-9f54-b524d3e893b3"
      },
      "outputs": [
        {
          "data": {
            "text/html": [
              "<div>\n",
              "<style scoped>\n",
              "    .dataframe tbody tr th:only-of-type {\n",
              "        vertical-align: middle;\n",
              "    }\n",
              "\n",
              "    .dataframe tbody tr th {\n",
              "        vertical-align: top;\n",
              "    }\n",
              "\n",
              "    .dataframe thead th {\n",
              "        text-align: right;\n",
              "    }\n",
              "</style>\n",
              "<table border=\"1\" class=\"dataframe\">\n",
              "  <thead>\n",
              "    <tr style=\"text-align: right;\">\n",
              "      <th></th>\n",
              "      <th>total_images</th>\n",
              "      <th>last_price</th>\n",
              "      <th>total_area</th>\n",
              "      <th>first_day_exposition</th>\n",
              "      <th>rooms</th>\n",
              "      <th>ceiling_height</th>\n",
              "      <th>floors_total</th>\n",
              "      <th>living_area</th>\n",
              "      <th>floor</th>\n",
              "      <th>is_apartment</th>\n",
              "      <th>...</th>\n",
              "      <th>cityCenters_nearest</th>\n",
              "      <th>parks_around3000</th>\n",
              "      <th>parks_nearest</th>\n",
              "      <th>ponds_around3000</th>\n",
              "      <th>ponds_nearest</th>\n",
              "      <th>days_exposition</th>\n",
              "      <th>square_metre_price</th>\n",
              "      <th>weekday_exposition</th>\n",
              "      <th>month_exposition</th>\n",
              "      <th>year_exposition</th>\n",
              "    </tr>\n",
              "  </thead>\n",
              "  <tbody>\n",
              "    <tr>\n",
              "      <th>0</th>\n",
              "      <td>20</td>\n",
              "      <td>13000000.0</td>\n",
              "      <td>108.00</td>\n",
              "      <td>2019-03-07</td>\n",
              "      <td>3</td>\n",
              "      <td>2.70</td>\n",
              "      <td>16.0</td>\n",
              "      <td>51.0</td>\n",
              "      <td>8</td>\n",
              "      <td>False</td>\n",
              "      <td>...</td>\n",
              "      <td>16028.0</td>\n",
              "      <td>1.0</td>\n",
              "      <td>482.0</td>\n",
              "      <td>2.0</td>\n",
              "      <td>755.0</td>\n",
              "      <td>NaN</td>\n",
              "      <td>120370.370370</td>\n",
              "      <td>3</td>\n",
              "      <td>3</td>\n",
              "      <td>2019</td>\n",
              "    </tr>\n",
              "    <tr>\n",
              "      <th>1</th>\n",
              "      <td>7</td>\n",
              "      <td>3350000.0</td>\n",
              "      <td>40.40</td>\n",
              "      <td>2018-12-04</td>\n",
              "      <td>1</td>\n",
              "      <td>NaN</td>\n",
              "      <td>11.0</td>\n",
              "      <td>18.6</td>\n",
              "      <td>1</td>\n",
              "      <td>False</td>\n",
              "      <td>...</td>\n",
              "      <td>18603.0</td>\n",
              "      <td>0.0</td>\n",
              "      <td>NaN</td>\n",
              "      <td>0.0</td>\n",
              "      <td>584.5</td>\n",
              "      <td>81.0</td>\n",
              "      <td>82920.792079</td>\n",
              "      <td>1</td>\n",
              "      <td>12</td>\n",
              "      <td>2018</td>\n",
              "    </tr>\n",
              "    <tr>\n",
              "      <th>2</th>\n",
              "      <td>10</td>\n",
              "      <td>5196000.0</td>\n",
              "      <td>56.00</td>\n",
              "      <td>2015-08-20</td>\n",
              "      <td>2</td>\n",
              "      <td>NaN</td>\n",
              "      <td>5.0</td>\n",
              "      <td>34.3</td>\n",
              "      <td>4</td>\n",
              "      <td>False</td>\n",
              "      <td>...</td>\n",
              "      <td>13933.0</td>\n",
              "      <td>1.0</td>\n",
              "      <td>90.0</td>\n",
              "      <td>2.0</td>\n",
              "      <td>574.0</td>\n",
              "      <td>558.0</td>\n",
              "      <td>92785.714286</td>\n",
              "      <td>3</td>\n",
              "      <td>8</td>\n",
              "      <td>2015</td>\n",
              "    </tr>\n",
              "    <tr>\n",
              "      <th>3</th>\n",
              "      <td>0</td>\n",
              "      <td>64900000.0</td>\n",
              "      <td>159.00</td>\n",
              "      <td>2015-07-24</td>\n",
              "      <td>3</td>\n",
              "      <td>NaN</td>\n",
              "      <td>14.0</td>\n",
              "      <td>NaN</td>\n",
              "      <td>9</td>\n",
              "      <td>False</td>\n",
              "      <td>...</td>\n",
              "      <td>6800.0</td>\n",
              "      <td>2.0</td>\n",
              "      <td>84.0</td>\n",
              "      <td>3.0</td>\n",
              "      <td>234.0</td>\n",
              "      <td>424.0</td>\n",
              "      <td>408176.100629</td>\n",
              "      <td>4</td>\n",
              "      <td>7</td>\n",
              "      <td>2015</td>\n",
              "    </tr>\n",
              "    <tr>\n",
              "      <th>4</th>\n",
              "      <td>2</td>\n",
              "      <td>10000000.0</td>\n",
              "      <td>100.00</td>\n",
              "      <td>2018-06-19</td>\n",
              "      <td>2</td>\n",
              "      <td>3.03</td>\n",
              "      <td>14.0</td>\n",
              "      <td>32.0</td>\n",
              "      <td>13</td>\n",
              "      <td>False</td>\n",
              "      <td>...</td>\n",
              "      <td>8098.0</td>\n",
              "      <td>2.0</td>\n",
              "      <td>112.0</td>\n",
              "      <td>1.0</td>\n",
              "      <td>48.0</td>\n",
              "      <td>121.0</td>\n",
              "      <td>100000.000000</td>\n",
              "      <td>1</td>\n",
              "      <td>6</td>\n",
              "      <td>2018</td>\n",
              "    </tr>\n",
              "    <tr>\n",
              "      <th>...</th>\n",
              "      <td>...</td>\n",
              "      <td>...</td>\n",
              "      <td>...</td>\n",
              "      <td>...</td>\n",
              "      <td>...</td>\n",
              "      <td>...</td>\n",
              "      <td>...</td>\n",
              "      <td>...</td>\n",
              "      <td>...</td>\n",
              "      <td>...</td>\n",
              "      <td>...</td>\n",
              "      <td>...</td>\n",
              "      <td>...</td>\n",
              "      <td>...</td>\n",
              "      <td>...</td>\n",
              "      <td>...</td>\n",
              "      <td>...</td>\n",
              "      <td>...</td>\n",
              "      <td>...</td>\n",
              "      <td>...</td>\n",
              "      <td>...</td>\n",
              "    </tr>\n",
              "    <tr>\n",
              "      <th>23694</th>\n",
              "      <td>9</td>\n",
              "      <td>9700000.0</td>\n",
              "      <td>133.81</td>\n",
              "      <td>2017-03-21</td>\n",
              "      <td>3</td>\n",
              "      <td>3.70</td>\n",
              "      <td>5.0</td>\n",
              "      <td>73.3</td>\n",
              "      <td>3</td>\n",
              "      <td>False</td>\n",
              "      <td>...</td>\n",
              "      <td>4232.0</td>\n",
              "      <td>1.0</td>\n",
              "      <td>796.0</td>\n",
              "      <td>3.0</td>\n",
              "      <td>381.0</td>\n",
              "      <td>NaN</td>\n",
              "      <td>72490.845228</td>\n",
              "      <td>1</td>\n",
              "      <td>3</td>\n",
              "      <td>2017</td>\n",
              "    </tr>\n",
              "    <tr>\n",
              "      <th>23695</th>\n",
              "      <td>14</td>\n",
              "      <td>3100000.0</td>\n",
              "      <td>59.00</td>\n",
              "      <td>2018-01-15</td>\n",
              "      <td>3</td>\n",
              "      <td>NaN</td>\n",
              "      <td>5.0</td>\n",
              "      <td>38.0</td>\n",
              "      <td>4</td>\n",
              "      <td>False</td>\n",
              "      <td>...</td>\n",
              "      <td>NaN</td>\n",
              "      <td>NaN</td>\n",
              "      <td>NaN</td>\n",
              "      <td>NaN</td>\n",
              "      <td>NaN</td>\n",
              "      <td>45.0</td>\n",
              "      <td>52542.372881</td>\n",
              "      <td>0</td>\n",
              "      <td>1</td>\n",
              "      <td>2018</td>\n",
              "    </tr>\n",
              "    <tr>\n",
              "      <th>23696</th>\n",
              "      <td>18</td>\n",
              "      <td>2500000.0</td>\n",
              "      <td>56.70</td>\n",
              "      <td>2018-02-11</td>\n",
              "      <td>2</td>\n",
              "      <td>NaN</td>\n",
              "      <td>3.0</td>\n",
              "      <td>29.7</td>\n",
              "      <td>1</td>\n",
              "      <td>False</td>\n",
              "      <td>...</td>\n",
              "      <td>NaN</td>\n",
              "      <td>NaN</td>\n",
              "      <td>NaN</td>\n",
              "      <td>NaN</td>\n",
              "      <td>NaN</td>\n",
              "      <td>NaN</td>\n",
              "      <td>44091.710758</td>\n",
              "      <td>6</td>\n",
              "      <td>2</td>\n",
              "      <td>2018</td>\n",
              "    </tr>\n",
              "    <tr>\n",
              "      <th>23697</th>\n",
              "      <td>13</td>\n",
              "      <td>11475000.0</td>\n",
              "      <td>76.75</td>\n",
              "      <td>2017-03-28</td>\n",
              "      <td>2</td>\n",
              "      <td>3.00</td>\n",
              "      <td>17.0</td>\n",
              "      <td>NaN</td>\n",
              "      <td>12</td>\n",
              "      <td>False</td>\n",
              "      <td>...</td>\n",
              "      <td>10364.0</td>\n",
              "      <td>2.0</td>\n",
              "      <td>173.0</td>\n",
              "      <td>3.0</td>\n",
              "      <td>196.0</td>\n",
              "      <td>602.0</td>\n",
              "      <td>149511.400651</td>\n",
              "      <td>1</td>\n",
              "      <td>3</td>\n",
              "      <td>2017</td>\n",
              "    </tr>\n",
              "    <tr>\n",
              "      <th>23698</th>\n",
              "      <td>4</td>\n",
              "      <td>1350000.0</td>\n",
              "      <td>32.30</td>\n",
              "      <td>2017-07-21</td>\n",
              "      <td>1</td>\n",
              "      <td>2.50</td>\n",
              "      <td>5.0</td>\n",
              "      <td>12.3</td>\n",
              "      <td>1</td>\n",
              "      <td>False</td>\n",
              "      <td>...</td>\n",
              "      <td>NaN</td>\n",
              "      <td>NaN</td>\n",
              "      <td>NaN</td>\n",
              "      <td>NaN</td>\n",
              "      <td>NaN</td>\n",
              "      <td>NaN</td>\n",
              "      <td>41795.665635</td>\n",
              "      <td>4</td>\n",
              "      <td>7</td>\n",
              "      <td>2017</td>\n",
              "    </tr>\n",
              "  </tbody>\n",
              "</table>\n",
              "<p>23650 rows × 26 columns</p>\n",
              "</div>"
            ],
            "text/plain": [
              "       total_images  last_price  total_area first_day_exposition  rooms  \\\n",
              "0                20  13000000.0      108.00           2019-03-07      3   \n",
              "1                 7   3350000.0       40.40           2018-12-04      1   \n",
              "2                10   5196000.0       56.00           2015-08-20      2   \n",
              "3                 0  64900000.0      159.00           2015-07-24      3   \n",
              "4                 2  10000000.0      100.00           2018-06-19      2   \n",
              "...             ...         ...         ...                  ...    ...   \n",
              "23694             9   9700000.0      133.81           2017-03-21      3   \n",
              "23695            14   3100000.0       59.00           2018-01-15      3   \n",
              "23696            18   2500000.0       56.70           2018-02-11      2   \n",
              "23697            13  11475000.0       76.75           2017-03-28      2   \n",
              "23698             4   1350000.0       32.30           2017-07-21      1   \n",
              "\n",
              "       ceiling_height  floors_total  living_area  floor  is_apartment  ...  \\\n",
              "0                2.70          16.0         51.0      8         False  ...   \n",
              "1                 NaN          11.0         18.6      1         False  ...   \n",
              "2                 NaN           5.0         34.3      4         False  ...   \n",
              "3                 NaN          14.0          NaN      9         False  ...   \n",
              "4                3.03          14.0         32.0     13         False  ...   \n",
              "...               ...           ...          ...    ...           ...  ...   \n",
              "23694            3.70           5.0         73.3      3         False  ...   \n",
              "23695             NaN           5.0         38.0      4         False  ...   \n",
              "23696             NaN           3.0         29.7      1         False  ...   \n",
              "23697            3.00          17.0          NaN     12         False  ...   \n",
              "23698            2.50           5.0         12.3      1         False  ...   \n",
              "\n",
              "       cityCenters_nearest  parks_around3000  parks_nearest  ponds_around3000  \\\n",
              "0                  16028.0               1.0          482.0               2.0   \n",
              "1                  18603.0               0.0            NaN               0.0   \n",
              "2                  13933.0               1.0           90.0               2.0   \n",
              "3                   6800.0               2.0           84.0               3.0   \n",
              "4                   8098.0               2.0          112.0               1.0   \n",
              "...                    ...               ...            ...               ...   \n",
              "23694               4232.0               1.0          796.0               3.0   \n",
              "23695                  NaN               NaN            NaN               NaN   \n",
              "23696                  NaN               NaN            NaN               NaN   \n",
              "23697              10364.0               2.0          173.0               3.0   \n",
              "23698                  NaN               NaN            NaN               NaN   \n",
              "\n",
              "      ponds_nearest  days_exposition  square_metre_price  weekday_exposition  \\\n",
              "0             755.0              NaN       120370.370370                   3   \n",
              "1             584.5             81.0        82920.792079                   1   \n",
              "2             574.0            558.0        92785.714286                   3   \n",
              "3             234.0            424.0       408176.100629                   4   \n",
              "4              48.0            121.0       100000.000000                   1   \n",
              "...             ...              ...                 ...                 ...   \n",
              "23694         381.0              NaN        72490.845228                   1   \n",
              "23695           NaN             45.0        52542.372881                   0   \n",
              "23696           NaN              NaN        44091.710758                   6   \n",
              "23697         196.0            602.0       149511.400651                   1   \n",
              "23698           NaN              NaN        41795.665635                   4   \n",
              "\n",
              "       month_exposition  year_exposition  \n",
              "0                     3             2019  \n",
              "1                    12             2018  \n",
              "2                     8             2015  \n",
              "3                     7             2015  \n",
              "4                     6             2018  \n",
              "...                 ...              ...  \n",
              "23694                 3             2017  \n",
              "23695                 1             2018  \n",
              "23696                 2             2018  \n",
              "23697                 3             2017  \n",
              "23698                 7             2017  \n",
              "\n",
              "[23650 rows x 26 columns]"
            ]
          },
          "metadata": {},
          "output_type": "display_data"
        }
      ],
      "source": [
        "data['first_day_exposition'] = pd.to_datetime(data['first_day_exposition'], format='%Y-%m-%dT%H:%M:%S')\n",
        "data['weekday_exposition'] = data['first_day_exposition'].dt.weekday\n",
        "data['month_exposition'] = data['first_day_exposition'].dt.month\n",
        "data['year_exposition'] = data['first_day_exposition'].dt.year\n",
        "display(data)"
      ]
    },
    {
      "cell_type": "code",
      "execution_count": null,
      "metadata": {
        "id": "cKzD-5-2zboY",
        "outputId": "b4ea2dd5-fd23-4056-ac39-47f657143c92"
      },
      "outputs": [
        {
          "name": "stdout",
          "output_type": "stream",
          "text": [
            "<class 'pandas.core.frame.DataFrame'>\n",
            "Int64Index: 23650 entries, 0 to 23698\n",
            "Data columns (total 26 columns):\n",
            " #   Column                Non-Null Count  Dtype         \n",
            "---  ------                --------------  -----         \n",
            " 0   total_images          23650 non-null  int64         \n",
            " 1   last_price            23650 non-null  float64       \n",
            " 2   total_area            23650 non-null  float64       \n",
            " 3   first_day_exposition  23650 non-null  datetime64[ns]\n",
            " 4   rooms                 23650 non-null  int64         \n",
            " 5   ceiling_height        14490 non-null  float64       \n",
            " 6   floors_total          23565 non-null  float64       \n",
            " 7   living_area           21752 non-null  float64       \n",
            " 8   floor                 23650 non-null  int64         \n",
            " 9   is_apartment          23650 non-null  bool          \n",
            " 10  studio                23650 non-null  bool          \n",
            " 11  open_plan             23650 non-null  bool          \n",
            " 12  kitchen_area          21381 non-null  float64       \n",
            " 13  balcony               23650 non-null  float64       \n",
            " 14  locality_name         23650 non-null  object        \n",
            " 15  airports_nearest      18264 non-null  float64       \n",
            " 16  cityCenters_nearest   18264 non-null  float64       \n",
            " 17  parks_around3000      18140 non-null  float64       \n",
            " 18  parks_nearest         17652 non-null  float64       \n",
            " 19  ponds_around3000      18140 non-null  float64       \n",
            " 20  ponds_nearest         18156 non-null  float64       \n",
            " 21  days_exposition       20470 non-null  float64       \n",
            " 22  square_metre_price    23650 non-null  float64       \n",
            " 23  weekday_exposition    23650 non-null  int64         \n",
            " 24  month_exposition      23650 non-null  int64         \n",
            " 25  year_exposition       23650 non-null  int64         \n",
            "dtypes: bool(3), datetime64[ns](1), float64(15), int64(6), object(1)\n",
            "memory usage: 4.4+ MB\n"
          ]
        }
      ],
      "source": [
        "data.info()"
      ]
    },
    {
      "cell_type": "markdown",
      "metadata": {
        "id": "llxf3fB8zboY"
      },
      "source": [
        "Добавлю в таблицу ранжирование по этажу объекта в виде трех категорий: первый, последний, другой."
      ]
    },
    {
      "cell_type": "code",
      "execution_count": null,
      "metadata": {
        "id": "AeRz0-xjzboY",
        "outputId": "06fa9306-539b-47d9-c90c-c8b44a360c3c"
      },
      "outputs": [
        {
          "data": {
            "text/html": [
              "<div>\n",
              "<style scoped>\n",
              "    .dataframe tbody tr th:only-of-type {\n",
              "        vertical-align: middle;\n",
              "    }\n",
              "\n",
              "    .dataframe tbody tr th {\n",
              "        vertical-align: top;\n",
              "    }\n",
              "\n",
              "    .dataframe thead th {\n",
              "        text-align: right;\n",
              "    }\n",
              "</style>\n",
              "<table border=\"1\" class=\"dataframe\">\n",
              "  <thead>\n",
              "    <tr style=\"text-align: right;\">\n",
              "      <th></th>\n",
              "      <th>total_images</th>\n",
              "      <th>last_price</th>\n",
              "      <th>total_area</th>\n",
              "      <th>first_day_exposition</th>\n",
              "      <th>rooms</th>\n",
              "      <th>ceiling_height</th>\n",
              "      <th>floors_total</th>\n",
              "      <th>living_area</th>\n",
              "      <th>floor</th>\n",
              "      <th>is_apartment</th>\n",
              "      <th>...</th>\n",
              "      <th>parks_around3000</th>\n",
              "      <th>parks_nearest</th>\n",
              "      <th>ponds_around3000</th>\n",
              "      <th>ponds_nearest</th>\n",
              "      <th>days_exposition</th>\n",
              "      <th>square_metre_price</th>\n",
              "      <th>weekday_exposition</th>\n",
              "      <th>month_exposition</th>\n",
              "      <th>year_exposition</th>\n",
              "      <th>floor_category</th>\n",
              "    </tr>\n",
              "  </thead>\n",
              "  <tbody>\n",
              "    <tr>\n",
              "      <th>0</th>\n",
              "      <td>20</td>\n",
              "      <td>13000000.0</td>\n",
              "      <td>108.00</td>\n",
              "      <td>2019-03-07</td>\n",
              "      <td>3</td>\n",
              "      <td>2.70</td>\n",
              "      <td>16.0</td>\n",
              "      <td>51.0</td>\n",
              "      <td>8</td>\n",
              "      <td>False</td>\n",
              "      <td>...</td>\n",
              "      <td>1.0</td>\n",
              "      <td>482.0</td>\n",
              "      <td>2.0</td>\n",
              "      <td>755.0</td>\n",
              "      <td>NaN</td>\n",
              "      <td>120370.370370</td>\n",
              "      <td>3</td>\n",
              "      <td>3</td>\n",
              "      <td>2019</td>\n",
              "      <td>другой</td>\n",
              "    </tr>\n",
              "    <tr>\n",
              "      <th>1</th>\n",
              "      <td>7</td>\n",
              "      <td>3350000.0</td>\n",
              "      <td>40.40</td>\n",
              "      <td>2018-12-04</td>\n",
              "      <td>1</td>\n",
              "      <td>NaN</td>\n",
              "      <td>11.0</td>\n",
              "      <td>18.6</td>\n",
              "      <td>1</td>\n",
              "      <td>False</td>\n",
              "      <td>...</td>\n",
              "      <td>0.0</td>\n",
              "      <td>NaN</td>\n",
              "      <td>0.0</td>\n",
              "      <td>584.5</td>\n",
              "      <td>81.0</td>\n",
              "      <td>82920.792079</td>\n",
              "      <td>1</td>\n",
              "      <td>12</td>\n",
              "      <td>2018</td>\n",
              "      <td>первый</td>\n",
              "    </tr>\n",
              "    <tr>\n",
              "      <th>2</th>\n",
              "      <td>10</td>\n",
              "      <td>5196000.0</td>\n",
              "      <td>56.00</td>\n",
              "      <td>2015-08-20</td>\n",
              "      <td>2</td>\n",
              "      <td>NaN</td>\n",
              "      <td>5.0</td>\n",
              "      <td>34.3</td>\n",
              "      <td>4</td>\n",
              "      <td>False</td>\n",
              "      <td>...</td>\n",
              "      <td>1.0</td>\n",
              "      <td>90.0</td>\n",
              "      <td>2.0</td>\n",
              "      <td>574.0</td>\n",
              "      <td>558.0</td>\n",
              "      <td>92785.714286</td>\n",
              "      <td>3</td>\n",
              "      <td>8</td>\n",
              "      <td>2015</td>\n",
              "      <td>другой</td>\n",
              "    </tr>\n",
              "    <tr>\n",
              "      <th>3</th>\n",
              "      <td>0</td>\n",
              "      <td>64900000.0</td>\n",
              "      <td>159.00</td>\n",
              "      <td>2015-07-24</td>\n",
              "      <td>3</td>\n",
              "      <td>NaN</td>\n",
              "      <td>14.0</td>\n",
              "      <td>NaN</td>\n",
              "      <td>9</td>\n",
              "      <td>False</td>\n",
              "      <td>...</td>\n",
              "      <td>2.0</td>\n",
              "      <td>84.0</td>\n",
              "      <td>3.0</td>\n",
              "      <td>234.0</td>\n",
              "      <td>424.0</td>\n",
              "      <td>408176.100629</td>\n",
              "      <td>4</td>\n",
              "      <td>7</td>\n",
              "      <td>2015</td>\n",
              "      <td>другой</td>\n",
              "    </tr>\n",
              "    <tr>\n",
              "      <th>4</th>\n",
              "      <td>2</td>\n",
              "      <td>10000000.0</td>\n",
              "      <td>100.00</td>\n",
              "      <td>2018-06-19</td>\n",
              "      <td>2</td>\n",
              "      <td>3.03</td>\n",
              "      <td>14.0</td>\n",
              "      <td>32.0</td>\n",
              "      <td>13</td>\n",
              "      <td>False</td>\n",
              "      <td>...</td>\n",
              "      <td>2.0</td>\n",
              "      <td>112.0</td>\n",
              "      <td>1.0</td>\n",
              "      <td>48.0</td>\n",
              "      <td>121.0</td>\n",
              "      <td>100000.000000</td>\n",
              "      <td>1</td>\n",
              "      <td>6</td>\n",
              "      <td>2018</td>\n",
              "      <td>другой</td>\n",
              "    </tr>\n",
              "    <tr>\n",
              "      <th>...</th>\n",
              "      <td>...</td>\n",
              "      <td>...</td>\n",
              "      <td>...</td>\n",
              "      <td>...</td>\n",
              "      <td>...</td>\n",
              "      <td>...</td>\n",
              "      <td>...</td>\n",
              "      <td>...</td>\n",
              "      <td>...</td>\n",
              "      <td>...</td>\n",
              "      <td>...</td>\n",
              "      <td>...</td>\n",
              "      <td>...</td>\n",
              "      <td>...</td>\n",
              "      <td>...</td>\n",
              "      <td>...</td>\n",
              "      <td>...</td>\n",
              "      <td>...</td>\n",
              "      <td>...</td>\n",
              "      <td>...</td>\n",
              "      <td>...</td>\n",
              "    </tr>\n",
              "    <tr>\n",
              "      <th>23694</th>\n",
              "      <td>9</td>\n",
              "      <td>9700000.0</td>\n",
              "      <td>133.81</td>\n",
              "      <td>2017-03-21</td>\n",
              "      <td>3</td>\n",
              "      <td>3.70</td>\n",
              "      <td>5.0</td>\n",
              "      <td>73.3</td>\n",
              "      <td>3</td>\n",
              "      <td>False</td>\n",
              "      <td>...</td>\n",
              "      <td>1.0</td>\n",
              "      <td>796.0</td>\n",
              "      <td>3.0</td>\n",
              "      <td>381.0</td>\n",
              "      <td>NaN</td>\n",
              "      <td>72490.845228</td>\n",
              "      <td>1</td>\n",
              "      <td>3</td>\n",
              "      <td>2017</td>\n",
              "      <td>другой</td>\n",
              "    </tr>\n",
              "    <tr>\n",
              "      <th>23695</th>\n",
              "      <td>14</td>\n",
              "      <td>3100000.0</td>\n",
              "      <td>59.00</td>\n",
              "      <td>2018-01-15</td>\n",
              "      <td>3</td>\n",
              "      <td>NaN</td>\n",
              "      <td>5.0</td>\n",
              "      <td>38.0</td>\n",
              "      <td>4</td>\n",
              "      <td>False</td>\n",
              "      <td>...</td>\n",
              "      <td>NaN</td>\n",
              "      <td>NaN</td>\n",
              "      <td>NaN</td>\n",
              "      <td>NaN</td>\n",
              "      <td>45.0</td>\n",
              "      <td>52542.372881</td>\n",
              "      <td>0</td>\n",
              "      <td>1</td>\n",
              "      <td>2018</td>\n",
              "      <td>другой</td>\n",
              "    </tr>\n",
              "    <tr>\n",
              "      <th>23696</th>\n",
              "      <td>18</td>\n",
              "      <td>2500000.0</td>\n",
              "      <td>56.70</td>\n",
              "      <td>2018-02-11</td>\n",
              "      <td>2</td>\n",
              "      <td>NaN</td>\n",
              "      <td>3.0</td>\n",
              "      <td>29.7</td>\n",
              "      <td>1</td>\n",
              "      <td>False</td>\n",
              "      <td>...</td>\n",
              "      <td>NaN</td>\n",
              "      <td>NaN</td>\n",
              "      <td>NaN</td>\n",
              "      <td>NaN</td>\n",
              "      <td>NaN</td>\n",
              "      <td>44091.710758</td>\n",
              "      <td>6</td>\n",
              "      <td>2</td>\n",
              "      <td>2018</td>\n",
              "      <td>первый</td>\n",
              "    </tr>\n",
              "    <tr>\n",
              "      <th>23697</th>\n",
              "      <td>13</td>\n",
              "      <td>11475000.0</td>\n",
              "      <td>76.75</td>\n",
              "      <td>2017-03-28</td>\n",
              "      <td>2</td>\n",
              "      <td>3.00</td>\n",
              "      <td>17.0</td>\n",
              "      <td>NaN</td>\n",
              "      <td>12</td>\n",
              "      <td>False</td>\n",
              "      <td>...</td>\n",
              "      <td>2.0</td>\n",
              "      <td>173.0</td>\n",
              "      <td>3.0</td>\n",
              "      <td>196.0</td>\n",
              "      <td>602.0</td>\n",
              "      <td>149511.400651</td>\n",
              "      <td>1</td>\n",
              "      <td>3</td>\n",
              "      <td>2017</td>\n",
              "      <td>другой</td>\n",
              "    </tr>\n",
              "    <tr>\n",
              "      <th>23698</th>\n",
              "      <td>4</td>\n",
              "      <td>1350000.0</td>\n",
              "      <td>32.30</td>\n",
              "      <td>2017-07-21</td>\n",
              "      <td>1</td>\n",
              "      <td>2.50</td>\n",
              "      <td>5.0</td>\n",
              "      <td>12.3</td>\n",
              "      <td>1</td>\n",
              "      <td>False</td>\n",
              "      <td>...</td>\n",
              "      <td>NaN</td>\n",
              "      <td>NaN</td>\n",
              "      <td>NaN</td>\n",
              "      <td>NaN</td>\n",
              "      <td>NaN</td>\n",
              "      <td>41795.665635</td>\n",
              "      <td>4</td>\n",
              "      <td>7</td>\n",
              "      <td>2017</td>\n",
              "      <td>первый</td>\n",
              "    </tr>\n",
              "  </tbody>\n",
              "</table>\n",
              "<p>23650 rows × 27 columns</p>\n",
              "</div>"
            ],
            "text/plain": [
              "       total_images  last_price  total_area first_day_exposition  rooms  \\\n",
              "0                20  13000000.0      108.00           2019-03-07      3   \n",
              "1                 7   3350000.0       40.40           2018-12-04      1   \n",
              "2                10   5196000.0       56.00           2015-08-20      2   \n",
              "3                 0  64900000.0      159.00           2015-07-24      3   \n",
              "4                 2  10000000.0      100.00           2018-06-19      2   \n",
              "...             ...         ...         ...                  ...    ...   \n",
              "23694             9   9700000.0      133.81           2017-03-21      3   \n",
              "23695            14   3100000.0       59.00           2018-01-15      3   \n",
              "23696            18   2500000.0       56.70           2018-02-11      2   \n",
              "23697            13  11475000.0       76.75           2017-03-28      2   \n",
              "23698             4   1350000.0       32.30           2017-07-21      1   \n",
              "\n",
              "       ceiling_height  floors_total  living_area  floor  is_apartment  ...  \\\n",
              "0                2.70          16.0         51.0      8         False  ...   \n",
              "1                 NaN          11.0         18.6      1         False  ...   \n",
              "2                 NaN           5.0         34.3      4         False  ...   \n",
              "3                 NaN          14.0          NaN      9         False  ...   \n",
              "4                3.03          14.0         32.0     13         False  ...   \n",
              "...               ...           ...          ...    ...           ...  ...   \n",
              "23694            3.70           5.0         73.3      3         False  ...   \n",
              "23695             NaN           5.0         38.0      4         False  ...   \n",
              "23696             NaN           3.0         29.7      1         False  ...   \n",
              "23697            3.00          17.0          NaN     12         False  ...   \n",
              "23698            2.50           5.0         12.3      1         False  ...   \n",
              "\n",
              "       parks_around3000  parks_nearest  ponds_around3000  ponds_nearest  \\\n",
              "0                   1.0          482.0               2.0          755.0   \n",
              "1                   0.0            NaN               0.0          584.5   \n",
              "2                   1.0           90.0               2.0          574.0   \n",
              "3                   2.0           84.0               3.0          234.0   \n",
              "4                   2.0          112.0               1.0           48.0   \n",
              "...                 ...            ...               ...            ...   \n",
              "23694               1.0          796.0               3.0          381.0   \n",
              "23695               NaN            NaN               NaN            NaN   \n",
              "23696               NaN            NaN               NaN            NaN   \n",
              "23697               2.0          173.0               3.0          196.0   \n",
              "23698               NaN            NaN               NaN            NaN   \n",
              "\n",
              "      days_exposition  square_metre_price  weekday_exposition  \\\n",
              "0                 NaN       120370.370370                   3   \n",
              "1                81.0        82920.792079                   1   \n",
              "2               558.0        92785.714286                   3   \n",
              "3               424.0       408176.100629                   4   \n",
              "4               121.0       100000.000000                   1   \n",
              "...               ...                 ...                 ...   \n",
              "23694             NaN        72490.845228                   1   \n",
              "23695            45.0        52542.372881                   0   \n",
              "23696             NaN        44091.710758                   6   \n",
              "23697           602.0       149511.400651                   1   \n",
              "23698             NaN        41795.665635                   4   \n",
              "\n",
              "       month_exposition  year_exposition  floor_category  \n",
              "0                     3             2019          другой  \n",
              "1                    12             2018          первый  \n",
              "2                     8             2015          другой  \n",
              "3                     7             2015          другой  \n",
              "4                     6             2018          другой  \n",
              "...                 ...              ...             ...  \n",
              "23694                 3             2017          другой  \n",
              "23695                 1             2018          другой  \n",
              "23696                 2             2018          первый  \n",
              "23697                 3             2017          другой  \n",
              "23698                 7             2017          первый  \n",
              "\n",
              "[23650 rows x 27 columns]"
            ]
          },
          "metadata": {},
          "output_type": "display_data"
        }
      ],
      "source": [
        "def category(row):\n",
        "    floor = row['floor']\n",
        "    floor_total = row['floors_total']\n",
        "    if floor == 1:\n",
        "         return 'первый'\n",
        "    elif floor == floor_total:\n",
        "         return 'последний'\n",
        "    else:\n",
        "          return 'другой'\n",
        "data['floor_category'] = data.apply(category, axis=1)\n",
        "display(data)"
      ]
    },
    {
      "cell_type": "markdown",
      "metadata": {
        "id": "slhVTqw_zboZ"
      },
      "source": [
        "Добавлю соотношение жилой и общей площади, а также отношение площади кухни к общей."
      ]
    },
    {
      "cell_type": "code",
      "execution_count": null,
      "metadata": {
        "id": "_Q7Z48EOzboZ",
        "outputId": "2177d31c-9610-4d8a-ee01-5b1e997dd343"
      },
      "outputs": [
        {
          "data": {
            "text/html": [
              "<div>\n",
              "<style scoped>\n",
              "    .dataframe tbody tr th:only-of-type {\n",
              "        vertical-align: middle;\n",
              "    }\n",
              "\n",
              "    .dataframe tbody tr th {\n",
              "        vertical-align: top;\n",
              "    }\n",
              "\n",
              "    .dataframe thead th {\n",
              "        text-align: right;\n",
              "    }\n",
              "</style>\n",
              "<table border=\"1\" class=\"dataframe\">\n",
              "  <thead>\n",
              "    <tr style=\"text-align: right;\">\n",
              "      <th></th>\n",
              "      <th>total_images</th>\n",
              "      <th>last_price</th>\n",
              "      <th>total_area</th>\n",
              "      <th>first_day_exposition</th>\n",
              "      <th>rooms</th>\n",
              "      <th>ceiling_height</th>\n",
              "      <th>floors_total</th>\n",
              "      <th>living_area</th>\n",
              "      <th>floor</th>\n",
              "      <th>is_apartment</th>\n",
              "      <th>...</th>\n",
              "      <th>ponds_around3000</th>\n",
              "      <th>ponds_nearest</th>\n",
              "      <th>days_exposition</th>\n",
              "      <th>square_metre_price</th>\n",
              "      <th>weekday_exposition</th>\n",
              "      <th>month_exposition</th>\n",
              "      <th>year_exposition</th>\n",
              "      <th>floor_category</th>\n",
              "      <th>living_and_total_ratio</th>\n",
              "      <th>kitchen_and_total_ratio</th>\n",
              "    </tr>\n",
              "  </thead>\n",
              "  <tbody>\n",
              "    <tr>\n",
              "      <th>0</th>\n",
              "      <td>20</td>\n",
              "      <td>13000000.0</td>\n",
              "      <td>108.00</td>\n",
              "      <td>2019-03-07</td>\n",
              "      <td>3</td>\n",
              "      <td>2.70</td>\n",
              "      <td>16.0</td>\n",
              "      <td>51.0</td>\n",
              "      <td>8</td>\n",
              "      <td>False</td>\n",
              "      <td>...</td>\n",
              "      <td>2.0</td>\n",
              "      <td>755.0</td>\n",
              "      <td>NaN</td>\n",
              "      <td>120370.370370</td>\n",
              "      <td>3</td>\n",
              "      <td>3</td>\n",
              "      <td>2019</td>\n",
              "      <td>другой</td>\n",
              "      <td>0.472222</td>\n",
              "      <td>0.231481</td>\n",
              "    </tr>\n",
              "    <tr>\n",
              "      <th>1</th>\n",
              "      <td>7</td>\n",
              "      <td>3350000.0</td>\n",
              "      <td>40.40</td>\n",
              "      <td>2018-12-04</td>\n",
              "      <td>1</td>\n",
              "      <td>NaN</td>\n",
              "      <td>11.0</td>\n",
              "      <td>18.6</td>\n",
              "      <td>1</td>\n",
              "      <td>False</td>\n",
              "      <td>...</td>\n",
              "      <td>0.0</td>\n",
              "      <td>584.5</td>\n",
              "      <td>81.0</td>\n",
              "      <td>82920.792079</td>\n",
              "      <td>1</td>\n",
              "      <td>12</td>\n",
              "      <td>2018</td>\n",
              "      <td>первый</td>\n",
              "      <td>0.460396</td>\n",
              "      <td>0.272277</td>\n",
              "    </tr>\n",
              "    <tr>\n",
              "      <th>2</th>\n",
              "      <td>10</td>\n",
              "      <td>5196000.0</td>\n",
              "      <td>56.00</td>\n",
              "      <td>2015-08-20</td>\n",
              "      <td>2</td>\n",
              "      <td>NaN</td>\n",
              "      <td>5.0</td>\n",
              "      <td>34.3</td>\n",
              "      <td>4</td>\n",
              "      <td>False</td>\n",
              "      <td>...</td>\n",
              "      <td>2.0</td>\n",
              "      <td>574.0</td>\n",
              "      <td>558.0</td>\n",
              "      <td>92785.714286</td>\n",
              "      <td>3</td>\n",
              "      <td>8</td>\n",
              "      <td>2015</td>\n",
              "      <td>другой</td>\n",
              "      <td>0.612500</td>\n",
              "      <td>0.148214</td>\n",
              "    </tr>\n",
              "    <tr>\n",
              "      <th>3</th>\n",
              "      <td>0</td>\n",
              "      <td>64900000.0</td>\n",
              "      <td>159.00</td>\n",
              "      <td>2015-07-24</td>\n",
              "      <td>3</td>\n",
              "      <td>NaN</td>\n",
              "      <td>14.0</td>\n",
              "      <td>NaN</td>\n",
              "      <td>9</td>\n",
              "      <td>False</td>\n",
              "      <td>...</td>\n",
              "      <td>3.0</td>\n",
              "      <td>234.0</td>\n",
              "      <td>424.0</td>\n",
              "      <td>408176.100629</td>\n",
              "      <td>4</td>\n",
              "      <td>7</td>\n",
              "      <td>2015</td>\n",
              "      <td>другой</td>\n",
              "      <td>NaN</td>\n",
              "      <td>NaN</td>\n",
              "    </tr>\n",
              "    <tr>\n",
              "      <th>4</th>\n",
              "      <td>2</td>\n",
              "      <td>10000000.0</td>\n",
              "      <td>100.00</td>\n",
              "      <td>2018-06-19</td>\n",
              "      <td>2</td>\n",
              "      <td>3.03</td>\n",
              "      <td>14.0</td>\n",
              "      <td>32.0</td>\n",
              "      <td>13</td>\n",
              "      <td>False</td>\n",
              "      <td>...</td>\n",
              "      <td>1.0</td>\n",
              "      <td>48.0</td>\n",
              "      <td>121.0</td>\n",
              "      <td>100000.000000</td>\n",
              "      <td>1</td>\n",
              "      <td>6</td>\n",
              "      <td>2018</td>\n",
              "      <td>другой</td>\n",
              "      <td>0.320000</td>\n",
              "      <td>0.410000</td>\n",
              "    </tr>\n",
              "    <tr>\n",
              "      <th>...</th>\n",
              "      <td>...</td>\n",
              "      <td>...</td>\n",
              "      <td>...</td>\n",
              "      <td>...</td>\n",
              "      <td>...</td>\n",
              "      <td>...</td>\n",
              "      <td>...</td>\n",
              "      <td>...</td>\n",
              "      <td>...</td>\n",
              "      <td>...</td>\n",
              "      <td>...</td>\n",
              "      <td>...</td>\n",
              "      <td>...</td>\n",
              "      <td>...</td>\n",
              "      <td>...</td>\n",
              "      <td>...</td>\n",
              "      <td>...</td>\n",
              "      <td>...</td>\n",
              "      <td>...</td>\n",
              "      <td>...</td>\n",
              "      <td>...</td>\n",
              "    </tr>\n",
              "    <tr>\n",
              "      <th>23694</th>\n",
              "      <td>9</td>\n",
              "      <td>9700000.0</td>\n",
              "      <td>133.81</td>\n",
              "      <td>2017-03-21</td>\n",
              "      <td>3</td>\n",
              "      <td>3.70</td>\n",
              "      <td>5.0</td>\n",
              "      <td>73.3</td>\n",
              "      <td>3</td>\n",
              "      <td>False</td>\n",
              "      <td>...</td>\n",
              "      <td>3.0</td>\n",
              "      <td>381.0</td>\n",
              "      <td>NaN</td>\n",
              "      <td>72490.845228</td>\n",
              "      <td>1</td>\n",
              "      <td>3</td>\n",
              "      <td>2017</td>\n",
              "      <td>другой</td>\n",
              "      <td>0.547792</td>\n",
              "      <td>0.103356</td>\n",
              "    </tr>\n",
              "    <tr>\n",
              "      <th>23695</th>\n",
              "      <td>14</td>\n",
              "      <td>3100000.0</td>\n",
              "      <td>59.00</td>\n",
              "      <td>2018-01-15</td>\n",
              "      <td>3</td>\n",
              "      <td>NaN</td>\n",
              "      <td>5.0</td>\n",
              "      <td>38.0</td>\n",
              "      <td>4</td>\n",
              "      <td>False</td>\n",
              "      <td>...</td>\n",
              "      <td>NaN</td>\n",
              "      <td>NaN</td>\n",
              "      <td>45.0</td>\n",
              "      <td>52542.372881</td>\n",
              "      <td>0</td>\n",
              "      <td>1</td>\n",
              "      <td>2018</td>\n",
              "      <td>другой</td>\n",
              "      <td>0.644068</td>\n",
              "      <td>0.144068</td>\n",
              "    </tr>\n",
              "    <tr>\n",
              "      <th>23696</th>\n",
              "      <td>18</td>\n",
              "      <td>2500000.0</td>\n",
              "      <td>56.70</td>\n",
              "      <td>2018-02-11</td>\n",
              "      <td>2</td>\n",
              "      <td>NaN</td>\n",
              "      <td>3.0</td>\n",
              "      <td>29.7</td>\n",
              "      <td>1</td>\n",
              "      <td>False</td>\n",
              "      <td>...</td>\n",
              "      <td>NaN</td>\n",
              "      <td>NaN</td>\n",
              "      <td>NaN</td>\n",
              "      <td>44091.710758</td>\n",
              "      <td>6</td>\n",
              "      <td>2</td>\n",
              "      <td>2018</td>\n",
              "      <td>первый</td>\n",
              "      <td>0.523810</td>\n",
              "      <td>NaN</td>\n",
              "    </tr>\n",
              "    <tr>\n",
              "      <th>23697</th>\n",
              "      <td>13</td>\n",
              "      <td>11475000.0</td>\n",
              "      <td>76.75</td>\n",
              "      <td>2017-03-28</td>\n",
              "      <td>2</td>\n",
              "      <td>3.00</td>\n",
              "      <td>17.0</td>\n",
              "      <td>NaN</td>\n",
              "      <td>12</td>\n",
              "      <td>False</td>\n",
              "      <td>...</td>\n",
              "      <td>3.0</td>\n",
              "      <td>196.0</td>\n",
              "      <td>602.0</td>\n",
              "      <td>149511.400651</td>\n",
              "      <td>1</td>\n",
              "      <td>3</td>\n",
              "      <td>2017</td>\n",
              "      <td>другой</td>\n",
              "      <td>NaN</td>\n",
              "      <td>0.303583</td>\n",
              "    </tr>\n",
              "    <tr>\n",
              "      <th>23698</th>\n",
              "      <td>4</td>\n",
              "      <td>1350000.0</td>\n",
              "      <td>32.30</td>\n",
              "      <td>2017-07-21</td>\n",
              "      <td>1</td>\n",
              "      <td>2.50</td>\n",
              "      <td>5.0</td>\n",
              "      <td>12.3</td>\n",
              "      <td>1</td>\n",
              "      <td>False</td>\n",
              "      <td>...</td>\n",
              "      <td>NaN</td>\n",
              "      <td>NaN</td>\n",
              "      <td>NaN</td>\n",
              "      <td>41795.665635</td>\n",
              "      <td>4</td>\n",
              "      <td>7</td>\n",
              "      <td>2017</td>\n",
              "      <td>первый</td>\n",
              "      <td>0.380805</td>\n",
              "      <td>0.278638</td>\n",
              "    </tr>\n",
              "  </tbody>\n",
              "</table>\n",
              "<p>23650 rows × 29 columns</p>\n",
              "</div>"
            ],
            "text/plain": [
              "       total_images  last_price  total_area first_day_exposition  rooms  \\\n",
              "0                20  13000000.0      108.00           2019-03-07      3   \n",
              "1                 7   3350000.0       40.40           2018-12-04      1   \n",
              "2                10   5196000.0       56.00           2015-08-20      2   \n",
              "3                 0  64900000.0      159.00           2015-07-24      3   \n",
              "4                 2  10000000.0      100.00           2018-06-19      2   \n",
              "...             ...         ...         ...                  ...    ...   \n",
              "23694             9   9700000.0      133.81           2017-03-21      3   \n",
              "23695            14   3100000.0       59.00           2018-01-15      3   \n",
              "23696            18   2500000.0       56.70           2018-02-11      2   \n",
              "23697            13  11475000.0       76.75           2017-03-28      2   \n",
              "23698             4   1350000.0       32.30           2017-07-21      1   \n",
              "\n",
              "       ceiling_height  floors_total  living_area  floor  is_apartment  ...  \\\n",
              "0                2.70          16.0         51.0      8         False  ...   \n",
              "1                 NaN          11.0         18.6      1         False  ...   \n",
              "2                 NaN           5.0         34.3      4         False  ...   \n",
              "3                 NaN          14.0          NaN      9         False  ...   \n",
              "4                3.03          14.0         32.0     13         False  ...   \n",
              "...               ...           ...          ...    ...           ...  ...   \n",
              "23694            3.70           5.0         73.3      3         False  ...   \n",
              "23695             NaN           5.0         38.0      4         False  ...   \n",
              "23696             NaN           3.0         29.7      1         False  ...   \n",
              "23697            3.00          17.0          NaN     12         False  ...   \n",
              "23698            2.50           5.0         12.3      1         False  ...   \n",
              "\n",
              "       ponds_around3000  ponds_nearest  days_exposition  square_metre_price  \\\n",
              "0                   2.0          755.0              NaN       120370.370370   \n",
              "1                   0.0          584.5             81.0        82920.792079   \n",
              "2                   2.0          574.0            558.0        92785.714286   \n",
              "3                   3.0          234.0            424.0       408176.100629   \n",
              "4                   1.0           48.0            121.0       100000.000000   \n",
              "...                 ...            ...              ...                 ...   \n",
              "23694               3.0          381.0              NaN        72490.845228   \n",
              "23695               NaN            NaN             45.0        52542.372881   \n",
              "23696               NaN            NaN              NaN        44091.710758   \n",
              "23697               3.0          196.0            602.0       149511.400651   \n",
              "23698               NaN            NaN              NaN        41795.665635   \n",
              "\n",
              "      weekday_exposition  month_exposition  year_exposition  floor_category  \\\n",
              "0                      3                 3             2019          другой   \n",
              "1                      1                12             2018          первый   \n",
              "2                      3                 8             2015          другой   \n",
              "3                      4                 7             2015          другой   \n",
              "4                      1                 6             2018          другой   \n",
              "...                  ...               ...              ...             ...   \n",
              "23694                  1                 3             2017          другой   \n",
              "23695                  0                 1             2018          другой   \n",
              "23696                  6                 2             2018          первый   \n",
              "23697                  1                 3             2017          другой   \n",
              "23698                  4                 7             2017          первый   \n",
              "\n",
              "       living_and_total_ratio  kitchen_and_total_ratio  \n",
              "0                    0.472222                 0.231481  \n",
              "1                    0.460396                 0.272277  \n",
              "2                    0.612500                 0.148214  \n",
              "3                         NaN                      NaN  \n",
              "4                    0.320000                 0.410000  \n",
              "...                       ...                      ...  \n",
              "23694                0.547792                 0.103356  \n",
              "23695                0.644068                 0.144068  \n",
              "23696                0.523810                      NaN  \n",
              "23697                     NaN                 0.303583  \n",
              "23698                0.380805                 0.278638  \n",
              "\n",
              "[23650 rows x 29 columns]"
            ]
          },
          "metadata": {},
          "output_type": "display_data"
        }
      ],
      "source": [
        "data['living_and_total_ratio'] = data['living_area'] / data['total_area']\n",
        "data['kitchen_and_total_ratio'] = data['kitchen_area'] / data['total_area']\n",
        "display(data)"
      ]
    },
    {
      "cell_type": "markdown",
      "metadata": {
        "id": "67yG8At-zboZ"
      },
      "source": [
        "В столбцах last_price, floors_total, airports_nearest, cityCenters_nearest, parks_around3000, parks_nearest, ponds_around3000, ponds_nearest, days_exposition, square_metre_price хотелось бы заменить вещественные цифры на целочисленные для удобства.\n",
        "Проблема в том, что в некоторых стоблбцах сохраняются NaN, которые я намеренно не стал заполнять, чтобы не искажать данные. \n",
        "Но методы to_numeric и astype так не срабатывают, можно заменить оставшиеся пропуски на специальное значение  '-1', но тогда пострадает качество дальнейших расчетов, например среднего и медианы.\n",
        "Оставлю NaN, но далее выборочно удалю пропуски, когда это не повлияет на корректность данных."
      ]
    },
    {
      "cell_type": "markdown",
      "metadata": {
        "id": "rOqpl570zboa"
      },
      "source": [
        "## Исследовательский анализ данных: построение гистограмм по параметрам"
      ]
    },
    {
      "cell_type": "markdown",
      "metadata": {
        "id": "p4DEorICzboa"
      },
      "source": [
        "Построю гистограммы для следующих показателей: площадь, цена, число комнат, высота потолков. Также подберу оптимальное количетсво корзин и диапазон для наглядного отображения."
      ]
    },
    {
      "cell_type": "code",
      "execution_count": null,
      "metadata": {
        "id": "WiT2UiRszboa",
        "outputId": "a93965ba-e4d4-459b-ec80-6c51cf1d952b"
      },
      "outputs": [
        {
          "data": {
            "text/plain": [
              "<AxesSubplot:>"
            ]
          },
          "execution_count": 23,
          "metadata": {},
          "output_type": "execute_result"
        },
        {
          "data": {
            "image/png": "[encoded data removed]",
            "text/plain": [
              "<Figure size 432x288 with 1 Axes>"
            ]
          },
          "metadata": {
            "needs_background": "light"
          },
          "output_type": "display_data"
        }
      ],
      "source": [
        "data['total_area'].hist(bins=40, range=(0, 200))"
      ]
    },
    {
      "cell_type": "code",
      "execution_count": null,
      "metadata": {
        "id": "k6QU4Ua4zboa",
        "outputId": "a2673b4b-a8fb-4650-d889-e9e82c57db02"
      },
      "outputs": [
        {
          "data": {
            "text/plain": [
              "763000000.0"
            ]
          },
          "execution_count": 24,
          "metadata": {},
          "output_type": "execute_result"
        },
        {
          "data": {
            "image/png": "[encoded data removed]",
            "text/plain": [
              "<Figure size 432x288 with 1 Axes>"
            ]
          },
          "metadata": {
            "needs_background": "light"
          },
          "output_type": "display_data"
        }
      ],
      "source": [
        "data['last_price'].hist(bins=200, range=(0,76300000))\n",
        "data['last_price'].max()"
      ]
    },
    {
      "cell_type": "code",
      "execution_count": null,
      "metadata": {
        "id": "feyk3_Mvzboa",
        "outputId": "9b8538f1-5728-4c9a-b342-8b0711300317"
      },
      "outputs": [
        {
          "data": {
            "text/plain": [
              "19"
            ]
          },
          "execution_count": 25,
          "metadata": {},
          "output_type": "execute_result"
        },
        {
          "data": {
            "image/png": "[encoded data removed]",
            "text/plain": [
              "<Figure size 432x288 with 1 Axes>"
            ]
          },
          "metadata": {
            "needs_background": "light"
          },
          "output_type": "display_data"
        }
      ],
      "source": [
        "data['rooms'].hist(bins=40, range=(1, 16))\n",
        "data['rooms'].max()"
      ]
    },
    {
      "cell_type": "code",
      "execution_count": null,
      "metadata": {
        "id": "hKRJG8FFzboa",
        "outputId": "ea505ffd-06ee-443d-9e66-318b17844192"
      },
      "outputs": [
        {
          "data": {
            "text/html": [
              "<div>\n",
              "<style scoped>\n",
              "    .dataframe tbody tr th:only-of-type {\n",
              "        vertical-align: middle;\n",
              "    }\n",
              "\n",
              "    .dataframe tbody tr th {\n",
              "        vertical-align: top;\n",
              "    }\n",
              "\n",
              "    .dataframe thead th {\n",
              "        text-align: right;\n",
              "    }\n",
              "</style>\n",
              "<table border=\"1\" class=\"dataframe\">\n",
              "  <thead>\n",
              "    <tr style=\"text-align: right;\">\n",
              "      <th></th>\n",
              "      <th>total_images</th>\n",
              "      <th>last_price</th>\n",
              "      <th>total_area</th>\n",
              "      <th>first_day_exposition</th>\n",
              "      <th>rooms</th>\n",
              "      <th>ceiling_height</th>\n",
              "      <th>floors_total</th>\n",
              "      <th>living_area</th>\n",
              "      <th>floor</th>\n",
              "      <th>is_apartment</th>\n",
              "      <th>...</th>\n",
              "      <th>ponds_around3000</th>\n",
              "      <th>ponds_nearest</th>\n",
              "      <th>days_exposition</th>\n",
              "      <th>square_metre_price</th>\n",
              "      <th>weekday_exposition</th>\n",
              "      <th>month_exposition</th>\n",
              "      <th>year_exposition</th>\n",
              "      <th>floor_category</th>\n",
              "      <th>living_and_total_ratio</th>\n",
              "      <th>kitchen_and_total_ratio</th>\n",
              "    </tr>\n",
              "  </thead>\n",
              "  <tbody>\n",
              "    <tr>\n",
              "      <th>355</th>\n",
              "      <td>17</td>\n",
              "      <td>3600000.0</td>\n",
              "      <td>55.2</td>\n",
              "      <td>2018-07-12</td>\n",
              "      <td>2</td>\n",
              "      <td>25.0</td>\n",
              "      <td>5.0</td>\n",
              "      <td>32.0</td>\n",
              "      <td>2</td>\n",
              "      <td>False</td>\n",
              "      <td>...</td>\n",
              "      <td>NaN</td>\n",
              "      <td>NaN</td>\n",
              "      <td>259.0</td>\n",
              "      <td>65217.391304</td>\n",
              "      <td>3</td>\n",
              "      <td>7</td>\n",
              "      <td>2018</td>\n",
              "      <td>другой</td>\n",
              "      <td>0.579710</td>\n",
              "      <td>NaN</td>\n",
              "    </tr>\n",
              "    <tr>\n",
              "      <th>3148</th>\n",
              "      <td>14</td>\n",
              "      <td>2900000.0</td>\n",
              "      <td>75.0</td>\n",
              "      <td>2018-11-12</td>\n",
              "      <td>3</td>\n",
              "      <td>32.0</td>\n",
              "      <td>3.0</td>\n",
              "      <td>53.0</td>\n",
              "      <td>2</td>\n",
              "      <td>False</td>\n",
              "      <td>...</td>\n",
              "      <td>NaN</td>\n",
              "      <td>NaN</td>\n",
              "      <td>NaN</td>\n",
              "      <td>38666.666667</td>\n",
              "      <td>0</td>\n",
              "      <td>11</td>\n",
              "      <td>2018</td>\n",
              "      <td>другой</td>\n",
              "      <td>0.706667</td>\n",
              "      <td>0.106667</td>\n",
              "    </tr>\n",
              "    <tr>\n",
              "      <th>4643</th>\n",
              "      <td>0</td>\n",
              "      <td>4300000.0</td>\n",
              "      <td>45.0</td>\n",
              "      <td>2018-02-01</td>\n",
              "      <td>2</td>\n",
              "      <td>25.0</td>\n",
              "      <td>9.0</td>\n",
              "      <td>30.0</td>\n",
              "      <td>2</td>\n",
              "      <td>False</td>\n",
              "      <td>...</td>\n",
              "      <td>1.0</td>\n",
              "      <td>331.0</td>\n",
              "      <td>181.0</td>\n",
              "      <td>95555.555556</td>\n",
              "      <td>3</td>\n",
              "      <td>2</td>\n",
              "      <td>2018</td>\n",
              "      <td>другой</td>\n",
              "      <td>0.666667</td>\n",
              "      <td>0.155556</td>\n",
              "    </tr>\n",
              "    <tr>\n",
              "      <th>4876</th>\n",
              "      <td>7</td>\n",
              "      <td>3000000.0</td>\n",
              "      <td>25.0</td>\n",
              "      <td>2017-09-27</td>\n",
              "      <td>0</td>\n",
              "      <td>27.0</td>\n",
              "      <td>25.0</td>\n",
              "      <td>17.0</td>\n",
              "      <td>17</td>\n",
              "      <td>False</td>\n",
              "      <td>...</td>\n",
              "      <td>NaN</td>\n",
              "      <td>NaN</td>\n",
              "      <td>28.0</td>\n",
              "      <td>120000.000000</td>\n",
              "      <td>2</td>\n",
              "      <td>9</td>\n",
              "      <td>2017</td>\n",
              "      <td>другой</td>\n",
              "      <td>0.680000</td>\n",
              "      <td>NaN</td>\n",
              "    </tr>\n",
              "    <tr>\n",
              "      <th>5076</th>\n",
              "      <td>0</td>\n",
              "      <td>3850000.0</td>\n",
              "      <td>30.5</td>\n",
              "      <td>2018-10-03</td>\n",
              "      <td>1</td>\n",
              "      <td>24.0</td>\n",
              "      <td>5.0</td>\n",
              "      <td>19.5</td>\n",
              "      <td>1</td>\n",
              "      <td>True</td>\n",
              "      <td>...</td>\n",
              "      <td>1.0</td>\n",
              "      <td>578.0</td>\n",
              "      <td>7.0</td>\n",
              "      <td>126229.508197</td>\n",
              "      <td>2</td>\n",
              "      <td>10</td>\n",
              "      <td>2018</td>\n",
              "      <td>первый</td>\n",
              "      <td>0.639344</td>\n",
              "      <td>0.180328</td>\n",
              "    </tr>\n",
              "    <tr>\n",
              "      <th>5246</th>\n",
              "      <td>0</td>\n",
              "      <td>2500000.0</td>\n",
              "      <td>54.0</td>\n",
              "      <td>2017-10-13</td>\n",
              "      <td>2</td>\n",
              "      <td>27.0</td>\n",
              "      <td>5.0</td>\n",
              "      <td>30.0</td>\n",
              "      <td>3</td>\n",
              "      <td>False</td>\n",
              "      <td>...</td>\n",
              "      <td>NaN</td>\n",
              "      <td>NaN</td>\n",
              "      <td>540.0</td>\n",
              "      <td>46296.296296</td>\n",
              "      <td>4</td>\n",
              "      <td>10</td>\n",
              "      <td>2017</td>\n",
              "      <td>другой</td>\n",
              "      <td>0.555556</td>\n",
              "      <td>0.166667</td>\n",
              "    </tr>\n",
              "    <tr>\n",
              "      <th>5669</th>\n",
              "      <td>4</td>\n",
              "      <td>4400000.0</td>\n",
              "      <td>50.0</td>\n",
              "      <td>2017-08-08</td>\n",
              "      <td>2</td>\n",
              "      <td>26.0</td>\n",
              "      <td>9.0</td>\n",
              "      <td>21.3</td>\n",
              "      <td>3</td>\n",
              "      <td>False</td>\n",
              "      <td>...</td>\n",
              "      <td>0.0</td>\n",
              "      <td>503.0</td>\n",
              "      <td>267.0</td>\n",
              "      <td>88000.000000</td>\n",
              "      <td>1</td>\n",
              "      <td>8</td>\n",
              "      <td>2017</td>\n",
              "      <td>другой</td>\n",
              "      <td>0.426000</td>\n",
              "      <td>0.140000</td>\n",
              "    </tr>\n",
              "    <tr>\n",
              "      <th>5807</th>\n",
              "      <td>17</td>\n",
              "      <td>8150000.0</td>\n",
              "      <td>80.0</td>\n",
              "      <td>2019-01-09</td>\n",
              "      <td>2</td>\n",
              "      <td>27.0</td>\n",
              "      <td>36.0</td>\n",
              "      <td>41.0</td>\n",
              "      <td>13</td>\n",
              "      <td>False</td>\n",
              "      <td>...</td>\n",
              "      <td>3.0</td>\n",
              "      <td>80.0</td>\n",
              "      <td>38.0</td>\n",
              "      <td>101875.000000</td>\n",
              "      <td>2</td>\n",
              "      <td>1</td>\n",
              "      <td>2019</td>\n",
              "      <td>другой</td>\n",
              "      <td>0.512500</td>\n",
              "      <td>0.150000</td>\n",
              "    </tr>\n",
              "    <tr>\n",
              "      <th>6246</th>\n",
              "      <td>6</td>\n",
              "      <td>3300000.0</td>\n",
              "      <td>44.4</td>\n",
              "      <td>2019-03-25</td>\n",
              "      <td>2</td>\n",
              "      <td>25.0</td>\n",
              "      <td>5.0</td>\n",
              "      <td>31.3</td>\n",
              "      <td>5</td>\n",
              "      <td>False</td>\n",
              "      <td>...</td>\n",
              "      <td>2.0</td>\n",
              "      <td>73.0</td>\n",
              "      <td>NaN</td>\n",
              "      <td>74324.324324</td>\n",
              "      <td>0</td>\n",
              "      <td>3</td>\n",
              "      <td>2019</td>\n",
              "      <td>последний</td>\n",
              "      <td>0.704955</td>\n",
              "      <td>0.128378</td>\n",
              "    </tr>\n",
              "    <tr>\n",
              "      <th>9379</th>\n",
              "      <td>5</td>\n",
              "      <td>3950000.0</td>\n",
              "      <td>42.0</td>\n",
              "      <td>2017-03-26</td>\n",
              "      <td>3</td>\n",
              "      <td>25.0</td>\n",
              "      <td>5.0</td>\n",
              "      <td>30.0</td>\n",
              "      <td>2</td>\n",
              "      <td>False</td>\n",
              "      <td>...</td>\n",
              "      <td>0.0</td>\n",
              "      <td>503.0</td>\n",
              "      <td>NaN</td>\n",
              "      <td>94047.619048</td>\n",
              "      <td>6</td>\n",
              "      <td>3</td>\n",
              "      <td>2017</td>\n",
              "      <td>другой</td>\n",
              "      <td>0.714286</td>\n",
              "      <td>0.123810</td>\n",
              "    </tr>\n",
              "    <tr>\n",
              "      <th>10773</th>\n",
              "      <td>8</td>\n",
              "      <td>3800000.0</td>\n",
              "      <td>58.0</td>\n",
              "      <td>2017-10-13</td>\n",
              "      <td>2</td>\n",
              "      <td>27.0</td>\n",
              "      <td>10.0</td>\n",
              "      <td>30.1</td>\n",
              "      <td>3</td>\n",
              "      <td>False</td>\n",
              "      <td>...</td>\n",
              "      <td>NaN</td>\n",
              "      <td>NaN</td>\n",
              "      <td>71.0</td>\n",
              "      <td>65517.241379</td>\n",
              "      <td>4</td>\n",
              "      <td>10</td>\n",
              "      <td>2017</td>\n",
              "      <td>другой</td>\n",
              "      <td>0.518966</td>\n",
              "      <td>0.139655</td>\n",
              "    </tr>\n",
              "    <tr>\n",
              "      <th>11285</th>\n",
              "      <td>0</td>\n",
              "      <td>1950000.0</td>\n",
              "      <td>37.0</td>\n",
              "      <td>2019-03-20</td>\n",
              "      <td>1</td>\n",
              "      <td>25.0</td>\n",
              "      <td>5.0</td>\n",
              "      <td>17.0</td>\n",
              "      <td>4</td>\n",
              "      <td>False</td>\n",
              "      <td>...</td>\n",
              "      <td>NaN</td>\n",
              "      <td>NaN</td>\n",
              "      <td>18.0</td>\n",
              "      <td>52702.702703</td>\n",
              "      <td>2</td>\n",
              "      <td>3</td>\n",
              "      <td>2019</td>\n",
              "      <td>другой</td>\n",
              "      <td>0.459459</td>\n",
              "      <td>0.243243</td>\n",
              "    </tr>\n",
              "    <tr>\n",
              "      <th>14382</th>\n",
              "      <td>9</td>\n",
              "      <td>1700000.0</td>\n",
              "      <td>35.0</td>\n",
              "      <td>2015-12-04</td>\n",
              "      <td>1</td>\n",
              "      <td>25.0</td>\n",
              "      <td>5.0</td>\n",
              "      <td>20.0</td>\n",
              "      <td>2</td>\n",
              "      <td>False</td>\n",
              "      <td>...</td>\n",
              "      <td>NaN</td>\n",
              "      <td>NaN</td>\n",
              "      <td>206.0</td>\n",
              "      <td>48571.428571</td>\n",
              "      <td>4</td>\n",
              "      <td>12</td>\n",
              "      <td>2015</td>\n",
              "      <td>другой</td>\n",
              "      <td>0.571429</td>\n",
              "      <td>0.228571</td>\n",
              "    </tr>\n",
              "    <tr>\n",
              "      <th>15061</th>\n",
              "      <td>19</td>\n",
              "      <td>5600000.0</td>\n",
              "      <td>56.4</td>\n",
              "      <td>2018-05-11</td>\n",
              "      <td>2</td>\n",
              "      <td>14.0</td>\n",
              "      <td>14.0</td>\n",
              "      <td>32.4</td>\n",
              "      <td>5</td>\n",
              "      <td>False</td>\n",
              "      <td>...</td>\n",
              "      <td>0.0</td>\n",
              "      <td>503.0</td>\n",
              "      <td>315.0</td>\n",
              "      <td>99290.780142</td>\n",
              "      <td>4</td>\n",
              "      <td>5</td>\n",
              "      <td>2018</td>\n",
              "      <td>другой</td>\n",
              "      <td>0.574468</td>\n",
              "      <td>0.161348</td>\n",
              "    </tr>\n",
              "    <tr>\n",
              "      <th>17496</th>\n",
              "      <td>15</td>\n",
              "      <td>6700000.0</td>\n",
              "      <td>92.9</td>\n",
              "      <td>2019-02-19</td>\n",
              "      <td>3</td>\n",
              "      <td>20.0</td>\n",
              "      <td>17.0</td>\n",
              "      <td>53.2</td>\n",
              "      <td>14</td>\n",
              "      <td>False</td>\n",
              "      <td>...</td>\n",
              "      <td>0.0</td>\n",
              "      <td>503.0</td>\n",
              "      <td>NaN</td>\n",
              "      <td>72120.559742</td>\n",
              "      <td>1</td>\n",
              "      <td>2</td>\n",
              "      <td>2019</td>\n",
              "      <td>другой</td>\n",
              "      <td>0.572659</td>\n",
              "      <td>0.129171</td>\n",
              "    </tr>\n",
              "    <tr>\n",
              "      <th>17857</th>\n",
              "      <td>1</td>\n",
              "      <td>3900000.0</td>\n",
              "      <td>56.0</td>\n",
              "      <td>2017-12-22</td>\n",
              "      <td>3</td>\n",
              "      <td>27.0</td>\n",
              "      <td>5.0</td>\n",
              "      <td>33.0</td>\n",
              "      <td>4</td>\n",
              "      <td>False</td>\n",
              "      <td>...</td>\n",
              "      <td>0.0</td>\n",
              "      <td>503.0</td>\n",
              "      <td>73.0</td>\n",
              "      <td>69642.857143</td>\n",
              "      <td>4</td>\n",
              "      <td>12</td>\n",
              "      <td>2017</td>\n",
              "      <td>другой</td>\n",
              "      <td>0.589286</td>\n",
              "      <td>NaN</td>\n",
              "    </tr>\n",
              "    <tr>\n",
              "      <th>18545</th>\n",
              "      <td>6</td>\n",
              "      <td>3750000.0</td>\n",
              "      <td>43.0</td>\n",
              "      <td>2019-03-18</td>\n",
              "      <td>2</td>\n",
              "      <td>25.0</td>\n",
              "      <td>5.0</td>\n",
              "      <td>29.0</td>\n",
              "      <td>3</td>\n",
              "      <td>False</td>\n",
              "      <td>...</td>\n",
              "      <td>0.0</td>\n",
              "      <td>503.0</td>\n",
              "      <td>12.0</td>\n",
              "      <td>87209.302326</td>\n",
              "      <td>0</td>\n",
              "      <td>3</td>\n",
              "      <td>2019</td>\n",
              "      <td>другой</td>\n",
              "      <td>0.674419</td>\n",
              "      <td>NaN</td>\n",
              "    </tr>\n",
              "    <tr>\n",
              "      <th>20478</th>\n",
              "      <td>11</td>\n",
              "      <td>8000000.0</td>\n",
              "      <td>45.0</td>\n",
              "      <td>2017-07-18</td>\n",
              "      <td>1</td>\n",
              "      <td>27.0</td>\n",
              "      <td>4.0</td>\n",
              "      <td>22.0</td>\n",
              "      <td>2</td>\n",
              "      <td>False</td>\n",
              "      <td>...</td>\n",
              "      <td>3.0</td>\n",
              "      <td>449.0</td>\n",
              "      <td>429.0</td>\n",
              "      <td>177777.777778</td>\n",
              "      <td>1</td>\n",
              "      <td>7</td>\n",
              "      <td>2017</td>\n",
              "      <td>другой</td>\n",
              "      <td>0.488889</td>\n",
              "      <td>0.222222</td>\n",
              "    </tr>\n",
              "    <tr>\n",
              "      <th>20507</th>\n",
              "      <td>12</td>\n",
              "      <td>5950000.0</td>\n",
              "      <td>60.0</td>\n",
              "      <td>2018-02-19</td>\n",
              "      <td>2</td>\n",
              "      <td>22.6</td>\n",
              "      <td>14.0</td>\n",
              "      <td>35.0</td>\n",
              "      <td>11</td>\n",
              "      <td>False</td>\n",
              "      <td>...</td>\n",
              "      <td>0.0</td>\n",
              "      <td>503.0</td>\n",
              "      <td>40.0</td>\n",
              "      <td>99166.666667</td>\n",
              "      <td>0</td>\n",
              "      <td>2</td>\n",
              "      <td>2018</td>\n",
              "      <td>другой</td>\n",
              "      <td>0.583333</td>\n",
              "      <td>0.216667</td>\n",
              "    </tr>\n",
              "    <tr>\n",
              "      <th>21377</th>\n",
              "      <td>19</td>\n",
              "      <td>4900000.0</td>\n",
              "      <td>42.0</td>\n",
              "      <td>2017-04-18</td>\n",
              "      <td>1</td>\n",
              "      <td>27.5</td>\n",
              "      <td>24.0</td>\n",
              "      <td>37.7</td>\n",
              "      <td>19</td>\n",
              "      <td>False</td>\n",
              "      <td>...</td>\n",
              "      <td>0.0</td>\n",
              "      <td>503.0</td>\n",
              "      <td>61.0</td>\n",
              "      <td>116666.666667</td>\n",
              "      <td>1</td>\n",
              "      <td>4</td>\n",
              "      <td>2017</td>\n",
              "      <td>другой</td>\n",
              "      <td>0.897619</td>\n",
              "      <td>0.261905</td>\n",
              "    </tr>\n",
              "    <tr>\n",
              "      <th>21824</th>\n",
              "      <td>20</td>\n",
              "      <td>2450000.0</td>\n",
              "      <td>44.0</td>\n",
              "      <td>2019-02-12</td>\n",
              "      <td>2</td>\n",
              "      <td>27.0</td>\n",
              "      <td>2.0</td>\n",
              "      <td>38.0</td>\n",
              "      <td>2</td>\n",
              "      <td>False</td>\n",
              "      <td>...</td>\n",
              "      <td>NaN</td>\n",
              "      <td>NaN</td>\n",
              "      <td>NaN</td>\n",
              "      <td>55681.818182</td>\n",
              "      <td>1</td>\n",
              "      <td>2</td>\n",
              "      <td>2019</td>\n",
              "      <td>последний</td>\n",
              "      <td>0.863636</td>\n",
              "      <td>0.195455</td>\n",
              "    </tr>\n",
              "    <tr>\n",
              "      <th>22309</th>\n",
              "      <td>20</td>\n",
              "      <td>5300000.0</td>\n",
              "      <td>45.0</td>\n",
              "      <td>2017-09-30</td>\n",
              "      <td>1</td>\n",
              "      <td>10.3</td>\n",
              "      <td>16.0</td>\n",
              "      <td>15.5</td>\n",
              "      <td>15</td>\n",
              "      <td>False</td>\n",
              "      <td>...</td>\n",
              "      <td>2.0</td>\n",
              "      <td>450.0</td>\n",
              "      <td>136.0</td>\n",
              "      <td>117777.777778</td>\n",
              "      <td>5</td>\n",
              "      <td>9</td>\n",
              "      <td>2017</td>\n",
              "      <td>другой</td>\n",
              "      <td>0.344444</td>\n",
              "      <td>NaN</td>\n",
              "    </tr>\n",
              "    <tr>\n",
              "      <th>22336</th>\n",
              "      <td>19</td>\n",
              "      <td>9999000.0</td>\n",
              "      <td>92.4</td>\n",
              "      <td>2019-04-05</td>\n",
              "      <td>2</td>\n",
              "      <td>32.0</td>\n",
              "      <td>6.0</td>\n",
              "      <td>55.5</td>\n",
              "      <td>5</td>\n",
              "      <td>False</td>\n",
              "      <td>...</td>\n",
              "      <td>3.0</td>\n",
              "      <td>511.0</td>\n",
              "      <td>NaN</td>\n",
              "      <td>108214.285714</td>\n",
              "      <td>4</td>\n",
              "      <td>4</td>\n",
              "      <td>2019</td>\n",
              "      <td>другой</td>\n",
              "      <td>0.600649</td>\n",
              "      <td>0.178571</td>\n",
              "    </tr>\n",
              "    <tr>\n",
              "      <th>22869</th>\n",
              "      <td>0</td>\n",
              "      <td>15000000.0</td>\n",
              "      <td>25.0</td>\n",
              "      <td>2018-07-25</td>\n",
              "      <td>1</td>\n",
              "      <td>100.0</td>\n",
              "      <td>5.0</td>\n",
              "      <td>14.0</td>\n",
              "      <td>5</td>\n",
              "      <td>True</td>\n",
              "      <td>...</td>\n",
              "      <td>3.0</td>\n",
              "      <td>30.0</td>\n",
              "      <td>19.0</td>\n",
              "      <td>600000.000000</td>\n",
              "      <td>2</td>\n",
              "      <td>7</td>\n",
              "      <td>2018</td>\n",
              "      <td>последний</td>\n",
              "      <td>0.560000</td>\n",
              "      <td>0.440000</td>\n",
              "    </tr>\n",
              "    <tr>\n",
              "      <th>22938</th>\n",
              "      <td>14</td>\n",
              "      <td>4000000.0</td>\n",
              "      <td>98.0</td>\n",
              "      <td>2018-03-15</td>\n",
              "      <td>4</td>\n",
              "      <td>27.0</td>\n",
              "      <td>2.0</td>\n",
              "      <td>73.0</td>\n",
              "      <td>2</td>\n",
              "      <td>True</td>\n",
              "      <td>...</td>\n",
              "      <td>NaN</td>\n",
              "      <td>NaN</td>\n",
              "      <td>27.0</td>\n",
              "      <td>40816.326531</td>\n",
              "      <td>3</td>\n",
              "      <td>3</td>\n",
              "      <td>2018</td>\n",
              "      <td>последний</td>\n",
              "      <td>0.744898</td>\n",
              "      <td>0.091837</td>\n",
              "    </tr>\n",
              "  </tbody>\n",
              "</table>\n",
              "<p>25 rows × 29 columns</p>\n",
              "</div>"
            ],
            "text/plain": [
              "       total_images  last_price  total_area first_day_exposition  rooms  \\\n",
              "355              17   3600000.0        55.2           2018-07-12      2   \n",
              "3148             14   2900000.0        75.0           2018-11-12      3   \n",
              "4643              0   4300000.0        45.0           2018-02-01      2   \n",
              "4876              7   3000000.0        25.0           2017-09-27      0   \n",
              "5076              0   3850000.0        30.5           2018-10-03      1   \n",
              "5246              0   2500000.0        54.0           2017-10-13      2   \n",
              "5669              4   4400000.0        50.0           2017-08-08      2   \n",
              "5807             17   8150000.0        80.0           2019-01-09      2   \n",
              "6246              6   3300000.0        44.4           2019-03-25      2   \n",
              "9379              5   3950000.0        42.0           2017-03-26      3   \n",
              "10773             8   3800000.0        58.0           2017-10-13      2   \n",
              "11285             0   1950000.0        37.0           2019-03-20      1   \n",
              "14382             9   1700000.0        35.0           2015-12-04      1   \n",
              "15061            19   5600000.0        56.4           2018-05-11      2   \n",
              "17496            15   6700000.0        92.9           2019-02-19      3   \n",
              "17857             1   3900000.0        56.0           2017-12-22      3   \n",
              "18545             6   3750000.0        43.0           2019-03-18      2   \n",
              "20478            11   8000000.0        45.0           2017-07-18      1   \n",
              "20507            12   5950000.0        60.0           2018-02-19      2   \n",
              "21377            19   4900000.0        42.0           2017-04-18      1   \n",
              "21824            20   2450000.0        44.0           2019-02-12      2   \n",
              "22309            20   5300000.0        45.0           2017-09-30      1   \n",
              "22336            19   9999000.0        92.4           2019-04-05      2   \n",
              "22869             0  15000000.0        25.0           2018-07-25      1   \n",
              "22938            14   4000000.0        98.0           2018-03-15      4   \n",
              "\n",
              "       ceiling_height  floors_total  living_area  floor  is_apartment  ...  \\\n",
              "355              25.0           5.0         32.0      2         False  ...   \n",
              "3148             32.0           3.0         53.0      2         False  ...   \n",
              "4643             25.0           9.0         30.0      2         False  ...   \n",
              "4876             27.0          25.0         17.0     17         False  ...   \n",
              "5076             24.0           5.0         19.5      1          True  ...   \n",
              "5246             27.0           5.0         30.0      3         False  ...   \n",
              "5669             26.0           9.0         21.3      3         False  ...   \n",
              "5807             27.0          36.0         41.0     13         False  ...   \n",
              "6246             25.0           5.0         31.3      5         False  ...   \n",
              "9379             25.0           5.0         30.0      2         False  ...   \n",
              "10773            27.0          10.0         30.1      3         False  ...   \n",
              "11285            25.0           5.0         17.0      4         False  ...   \n",
              "14382            25.0           5.0         20.0      2         False  ...   \n",
              "15061            14.0          14.0         32.4      5         False  ...   \n",
              "17496            20.0          17.0         53.2     14         False  ...   \n",
              "17857            27.0           5.0         33.0      4         False  ...   \n",
              "18545            25.0           5.0         29.0      3         False  ...   \n",
              "20478            27.0           4.0         22.0      2         False  ...   \n",
              "20507            22.6          14.0         35.0     11         False  ...   \n",
              "21377            27.5          24.0         37.7     19         False  ...   \n",
              "21824            27.0           2.0         38.0      2         False  ...   \n",
              "22309            10.3          16.0         15.5     15         False  ...   \n",
              "22336            32.0           6.0         55.5      5         False  ...   \n",
              "22869           100.0           5.0         14.0      5          True  ...   \n",
              "22938            27.0           2.0         73.0      2          True  ...   \n",
              "\n",
              "       ponds_around3000  ponds_nearest  days_exposition  square_metre_price  \\\n",
              "355                 NaN            NaN            259.0        65217.391304   \n",
              "3148                NaN            NaN              NaN        38666.666667   \n",
              "4643                1.0          331.0            181.0        95555.555556   \n",
              "4876                NaN            NaN             28.0       120000.000000   \n",
              "5076                1.0          578.0              7.0       126229.508197   \n",
              "5246                NaN            NaN            540.0        46296.296296   \n",
              "5669                0.0          503.0            267.0        88000.000000   \n",
              "5807                3.0           80.0             38.0       101875.000000   \n",
              "6246                2.0           73.0              NaN        74324.324324   \n",
              "9379                0.0          503.0              NaN        94047.619048   \n",
              "10773               NaN            NaN             71.0        65517.241379   \n",
              "11285               NaN            NaN             18.0        52702.702703   \n",
              "14382               NaN            NaN            206.0        48571.428571   \n",
              "15061               0.0          503.0            315.0        99290.780142   \n",
              "17496               0.0          503.0              NaN        72120.559742   \n",
              "17857               0.0          503.0             73.0        69642.857143   \n",
              "18545               0.0          503.0             12.0        87209.302326   \n",
              "20478               3.0          449.0            429.0       177777.777778   \n",
              "20507               0.0          503.0             40.0        99166.666667   \n",
              "21377               0.0          503.0             61.0       116666.666667   \n",
              "21824               NaN            NaN              NaN        55681.818182   \n",
              "22309               2.0          450.0            136.0       117777.777778   \n",
              "22336               3.0          511.0              NaN       108214.285714   \n",
              "22869               3.0           30.0             19.0       600000.000000   \n",
              "22938               NaN            NaN             27.0        40816.326531   \n",
              "\n",
              "      weekday_exposition  month_exposition  year_exposition  floor_category  \\\n",
              "355                    3                 7             2018          другой   \n",
              "3148                   0                11             2018          другой   \n",
              "4643                   3                 2             2018          другой   \n",
              "4876                   2                 9             2017          другой   \n",
              "5076                   2                10             2018          первый   \n",
              "5246                   4                10             2017          другой   \n",
              "5669                   1                 8             2017          другой   \n",
              "5807                   2                 1             2019          другой   \n",
              "6246                   0                 3             2019       последний   \n",
              "9379                   6                 3             2017          другой   \n",
              "10773                  4                10             2017          другой   \n",
              "11285                  2                 3             2019          другой   \n",
              "14382                  4                12             2015          другой   \n",
              "15061                  4                 5             2018          другой   \n",
              "17496                  1                 2             2019          другой   \n",
              "17857                  4                12             2017          другой   \n",
              "18545                  0                 3             2019          другой   \n",
              "20478                  1                 7             2017          другой   \n",
              "20507                  0                 2             2018          другой   \n",
              "21377                  1                 4             2017          другой   \n",
              "21824                  1                 2             2019       последний   \n",
              "22309                  5                 9             2017          другой   \n",
              "22336                  4                 4             2019          другой   \n",
              "22869                  2                 7             2018       последний   \n",
              "22938                  3                 3             2018       последний   \n",
              "\n",
              "       living_and_total_ratio  kitchen_and_total_ratio  \n",
              "355                  0.579710                      NaN  \n",
              "3148                 0.706667                 0.106667  \n",
              "4643                 0.666667                 0.155556  \n",
              "4876                 0.680000                      NaN  \n",
              "5076                 0.639344                 0.180328  \n",
              "5246                 0.555556                 0.166667  \n",
              "5669                 0.426000                 0.140000  \n",
              "5807                 0.512500                 0.150000  \n",
              "6246                 0.704955                 0.128378  \n",
              "9379                 0.714286                 0.123810  \n",
              "10773                0.518966                 0.139655  \n",
              "11285                0.459459                 0.243243  \n",
              "14382                0.571429                 0.228571  \n",
              "15061                0.574468                 0.161348  \n",
              "17496                0.572659                 0.129171  \n",
              "17857                0.589286                      NaN  \n",
              "18545                0.674419                      NaN  \n",
              "20478                0.488889                 0.222222  \n",
              "20507                0.583333                 0.216667  \n",
              "21377                0.897619                 0.261905  \n",
              "21824                0.863636                 0.195455  \n",
              "22309                0.344444                      NaN  \n",
              "22336                0.600649                 0.178571  \n",
              "22869                0.560000                 0.440000  \n",
              "22938                0.744898                 0.091837  \n",
              "\n",
              "[25 rows x 29 columns]"
            ]
          },
          "metadata": {},
          "output_type": "display_data"
        },
        {
          "data": {
            "image/png": "[encoded data removed]",
            "text/plain": [
              "<Figure size 432x288 with 1 Axes>"
            ]
          },
          "metadata": {
            "needs_background": "light"
          },
          "output_type": "display_data"
        }
      ],
      "source": [
        "data['ceiling_height'].hist(bins=100, range=(2, 5))\n",
        "data['ceiling_height'].max()\n",
        "display(data.query('ceiling_height > 10'))"
      ]
    },
    {
      "cell_type": "code",
      "execution_count": null,
      "metadata": {
        "id": "hiDe3ZKizbob",
        "outputId": "2d122573-6153-44b8-c955-8972289ef5b8"
      },
      "outputs": [
        {
          "data": {
            "text/html": [
              "<div>\n",
              "<style scoped>\n",
              "    .dataframe tbody tr th:only-of-type {\n",
              "        vertical-align: middle;\n",
              "    }\n",
              "\n",
              "    .dataframe tbody tr th {\n",
              "        vertical-align: top;\n",
              "    }\n",
              "\n",
              "    .dataframe thead th {\n",
              "        text-align: right;\n",
              "    }\n",
              "</style>\n",
              "<table border=\"1\" class=\"dataframe\">\n",
              "  <thead>\n",
              "    <tr style=\"text-align: right;\">\n",
              "      <th></th>\n",
              "      <th>total_images</th>\n",
              "      <th>last_price</th>\n",
              "      <th>total_area</th>\n",
              "      <th>first_day_exposition</th>\n",
              "      <th>rooms</th>\n",
              "      <th>ceiling_height</th>\n",
              "      <th>floors_total</th>\n",
              "      <th>living_area</th>\n",
              "      <th>floor</th>\n",
              "      <th>is_apartment</th>\n",
              "      <th>...</th>\n",
              "      <th>ponds_around3000</th>\n",
              "      <th>ponds_nearest</th>\n",
              "      <th>days_exposition</th>\n",
              "      <th>square_metre_price</th>\n",
              "      <th>weekday_exposition</th>\n",
              "      <th>month_exposition</th>\n",
              "      <th>year_exposition</th>\n",
              "      <th>floor_category</th>\n",
              "      <th>living_and_total_ratio</th>\n",
              "      <th>kitchen_and_total_ratio</th>\n",
              "    </tr>\n",
              "  </thead>\n",
              "  <tbody>\n",
              "    <tr>\n",
              "      <th>0</th>\n",
              "      <td>20</td>\n",
              "      <td>13000000.0</td>\n",
              "      <td>108.00</td>\n",
              "      <td>2019-03-07</td>\n",
              "      <td>3</td>\n",
              "      <td>2.70</td>\n",
              "      <td>16.0</td>\n",
              "      <td>51.0</td>\n",
              "      <td>8</td>\n",
              "      <td>False</td>\n",
              "      <td>...</td>\n",
              "      <td>2.0</td>\n",
              "      <td>755.0</td>\n",
              "      <td>NaN</td>\n",
              "      <td>120370.370370</td>\n",
              "      <td>3</td>\n",
              "      <td>3</td>\n",
              "      <td>2019</td>\n",
              "      <td>другой</td>\n",
              "      <td>0.472222</td>\n",
              "      <td>0.231481</td>\n",
              "    </tr>\n",
              "    <tr>\n",
              "      <th>4</th>\n",
              "      <td>2</td>\n",
              "      <td>10000000.0</td>\n",
              "      <td>100.00</td>\n",
              "      <td>2018-06-19</td>\n",
              "      <td>2</td>\n",
              "      <td>3.03</td>\n",
              "      <td>14.0</td>\n",
              "      <td>32.0</td>\n",
              "      <td>13</td>\n",
              "      <td>False</td>\n",
              "      <td>...</td>\n",
              "      <td>1.0</td>\n",
              "      <td>48.0</td>\n",
              "      <td>121.0</td>\n",
              "      <td>100000.000000</td>\n",
              "      <td>1</td>\n",
              "      <td>6</td>\n",
              "      <td>2018</td>\n",
              "      <td>другой</td>\n",
              "      <td>0.320000</td>\n",
              "      <td>0.410000</td>\n",
              "    </tr>\n",
              "    <tr>\n",
              "      <th>9</th>\n",
              "      <td>18</td>\n",
              "      <td>5400000.0</td>\n",
              "      <td>61.00</td>\n",
              "      <td>2017-02-26</td>\n",
              "      <td>3</td>\n",
              "      <td>2.50</td>\n",
              "      <td>9.0</td>\n",
              "      <td>43.6</td>\n",
              "      <td>7</td>\n",
              "      <td>False</td>\n",
              "      <td>...</td>\n",
              "      <td>0.0</td>\n",
              "      <td>503.0</td>\n",
              "      <td>289.0</td>\n",
              "      <td>88524.590164</td>\n",
              "      <td>6</td>\n",
              "      <td>2</td>\n",
              "      <td>2017</td>\n",
              "      <td>другой</td>\n",
              "      <td>0.714754</td>\n",
              "      <td>0.106557</td>\n",
              "    </tr>\n",
              "    <tr>\n",
              "      <th>10</th>\n",
              "      <td>5</td>\n",
              "      <td>5050000.0</td>\n",
              "      <td>39.60</td>\n",
              "      <td>2017-11-16</td>\n",
              "      <td>1</td>\n",
              "      <td>2.67</td>\n",
              "      <td>12.0</td>\n",
              "      <td>20.3</td>\n",
              "      <td>3</td>\n",
              "      <td>False</td>\n",
              "      <td>...</td>\n",
              "      <td>2.0</td>\n",
              "      <td>553.0</td>\n",
              "      <td>137.0</td>\n",
              "      <td>127525.252525</td>\n",
              "      <td>3</td>\n",
              "      <td>11</td>\n",
              "      <td>2017</td>\n",
              "      <td>другой</td>\n",
              "      <td>0.512626</td>\n",
              "      <td>0.214646</td>\n",
              "    </tr>\n",
              "    <tr>\n",
              "      <th>13</th>\n",
              "      <td>20</td>\n",
              "      <td>3550000.0</td>\n",
              "      <td>42.80</td>\n",
              "      <td>2017-07-01</td>\n",
              "      <td>2</td>\n",
              "      <td>2.56</td>\n",
              "      <td>5.0</td>\n",
              "      <td>27.0</td>\n",
              "      <td>5</td>\n",
              "      <td>False</td>\n",
              "      <td>...</td>\n",
              "      <td>3.0</td>\n",
              "      <td>298.0</td>\n",
              "      <td>366.0</td>\n",
              "      <td>82943.925234</td>\n",
              "      <td>5</td>\n",
              "      <td>7</td>\n",
              "      <td>2017</td>\n",
              "      <td>последний</td>\n",
              "      <td>0.630841</td>\n",
              "      <td>0.121495</td>\n",
              "    </tr>\n",
              "    <tr>\n",
              "      <th>...</th>\n",
              "      <td>...</td>\n",
              "      <td>...</td>\n",
              "      <td>...</td>\n",
              "      <td>...</td>\n",
              "      <td>...</td>\n",
              "      <td>...</td>\n",
              "      <td>...</td>\n",
              "      <td>...</td>\n",
              "      <td>...</td>\n",
              "      <td>...</td>\n",
              "      <td>...</td>\n",
              "      <td>...</td>\n",
              "      <td>...</td>\n",
              "      <td>...</td>\n",
              "      <td>...</td>\n",
              "      <td>...</td>\n",
              "      <td>...</td>\n",
              "      <td>...</td>\n",
              "      <td>...</td>\n",
              "      <td>...</td>\n",
              "      <td>...</td>\n",
              "    </tr>\n",
              "    <tr>\n",
              "      <th>23691</th>\n",
              "      <td>11</td>\n",
              "      <td>9470000.0</td>\n",
              "      <td>72.90</td>\n",
              "      <td>2016-10-13</td>\n",
              "      <td>2</td>\n",
              "      <td>2.75</td>\n",
              "      <td>25.0</td>\n",
              "      <td>40.3</td>\n",
              "      <td>7</td>\n",
              "      <td>False</td>\n",
              "      <td>...</td>\n",
              "      <td>1.0</td>\n",
              "      <td>806.0</td>\n",
              "      <td>519.0</td>\n",
              "      <td>129903.978052</td>\n",
              "      <td>3</td>\n",
              "      <td>10</td>\n",
              "      <td>2016</td>\n",
              "      <td>другой</td>\n",
              "      <td>0.552812</td>\n",
              "      <td>0.145405</td>\n",
              "    </tr>\n",
              "    <tr>\n",
              "      <th>23693</th>\n",
              "      <td>9</td>\n",
              "      <td>4600000.0</td>\n",
              "      <td>62.40</td>\n",
              "      <td>2016-08-05</td>\n",
              "      <td>3</td>\n",
              "      <td>2.60</td>\n",
              "      <td>9.0</td>\n",
              "      <td>40.0</td>\n",
              "      <td>8</td>\n",
              "      <td>False</td>\n",
              "      <td>...</td>\n",
              "      <td>1.0</td>\n",
              "      <td>675.0</td>\n",
              "      <td>239.0</td>\n",
              "      <td>73717.948718</td>\n",
              "      <td>4</td>\n",
              "      <td>8</td>\n",
              "      <td>2016</td>\n",
              "      <td>другой</td>\n",
              "      <td>0.641026</td>\n",
              "      <td>0.128205</td>\n",
              "    </tr>\n",
              "    <tr>\n",
              "      <th>23694</th>\n",
              "      <td>9</td>\n",
              "      <td>9700000.0</td>\n",
              "      <td>133.81</td>\n",
              "      <td>2017-03-21</td>\n",
              "      <td>3</td>\n",
              "      <td>3.70</td>\n",
              "      <td>5.0</td>\n",
              "      <td>73.3</td>\n",
              "      <td>3</td>\n",
              "      <td>False</td>\n",
              "      <td>...</td>\n",
              "      <td>3.0</td>\n",
              "      <td>381.0</td>\n",
              "      <td>NaN</td>\n",
              "      <td>72490.845228</td>\n",
              "      <td>1</td>\n",
              "      <td>3</td>\n",
              "      <td>2017</td>\n",
              "      <td>другой</td>\n",
              "      <td>0.547792</td>\n",
              "      <td>0.103356</td>\n",
              "    </tr>\n",
              "    <tr>\n",
              "      <th>23697</th>\n",
              "      <td>13</td>\n",
              "      <td>11475000.0</td>\n",
              "      <td>76.75</td>\n",
              "      <td>2017-03-28</td>\n",
              "      <td>2</td>\n",
              "      <td>3.00</td>\n",
              "      <td>17.0</td>\n",
              "      <td>NaN</td>\n",
              "      <td>12</td>\n",
              "      <td>False</td>\n",
              "      <td>...</td>\n",
              "      <td>3.0</td>\n",
              "      <td>196.0</td>\n",
              "      <td>602.0</td>\n",
              "      <td>149511.400651</td>\n",
              "      <td>1</td>\n",
              "      <td>3</td>\n",
              "      <td>2017</td>\n",
              "      <td>другой</td>\n",
              "      <td>NaN</td>\n",
              "      <td>0.303583</td>\n",
              "    </tr>\n",
              "    <tr>\n",
              "      <th>23698</th>\n",
              "      <td>4</td>\n",
              "      <td>1350000.0</td>\n",
              "      <td>32.30</td>\n",
              "      <td>2017-07-21</td>\n",
              "      <td>1</td>\n",
              "      <td>2.50</td>\n",
              "      <td>5.0</td>\n",
              "      <td>12.3</td>\n",
              "      <td>1</td>\n",
              "      <td>False</td>\n",
              "      <td>...</td>\n",
              "      <td>NaN</td>\n",
              "      <td>NaN</td>\n",
              "      <td>NaN</td>\n",
              "      <td>41795.665635</td>\n",
              "      <td>4</td>\n",
              "      <td>7</td>\n",
              "      <td>2017</td>\n",
              "      <td>первый</td>\n",
              "      <td>0.380805</td>\n",
              "      <td>0.278638</td>\n",
              "    </tr>\n",
              "  </tbody>\n",
              "</table>\n",
              "<p>14465 rows × 29 columns</p>\n",
              "</div>"
            ],
            "text/plain": [
              "       total_images  last_price  total_area first_day_exposition  rooms  \\\n",
              "0                20  13000000.0      108.00           2019-03-07      3   \n",
              "4                 2  10000000.0      100.00           2018-06-19      2   \n",
              "9                18   5400000.0       61.00           2017-02-26      3   \n",
              "10                5   5050000.0       39.60           2017-11-16      1   \n",
              "13               20   3550000.0       42.80           2017-07-01      2   \n",
              "...             ...         ...         ...                  ...    ...   \n",
              "23691            11   9470000.0       72.90           2016-10-13      2   \n",
              "23693             9   4600000.0       62.40           2016-08-05      3   \n",
              "23694             9   9700000.0      133.81           2017-03-21      3   \n",
              "23697            13  11475000.0       76.75           2017-03-28      2   \n",
              "23698             4   1350000.0       32.30           2017-07-21      1   \n",
              "\n",
              "       ceiling_height  floors_total  living_area  floor  is_apartment  ...  \\\n",
              "0                2.70          16.0         51.0      8         False  ...   \n",
              "4                3.03          14.0         32.0     13         False  ...   \n",
              "9                2.50           9.0         43.6      7         False  ...   \n",
              "10               2.67          12.0         20.3      3         False  ...   \n",
              "13               2.56           5.0         27.0      5         False  ...   \n",
              "...               ...           ...          ...    ...           ...  ...   \n",
              "23691            2.75          25.0         40.3      7         False  ...   \n",
              "23693            2.60           9.0         40.0      8         False  ...   \n",
              "23694            3.70           5.0         73.3      3         False  ...   \n",
              "23697            3.00          17.0          NaN     12         False  ...   \n",
              "23698            2.50           5.0         12.3      1         False  ...   \n",
              "\n",
              "       ponds_around3000  ponds_nearest  days_exposition  square_metre_price  \\\n",
              "0                   2.0          755.0              NaN       120370.370370   \n",
              "4                   1.0           48.0            121.0       100000.000000   \n",
              "9                   0.0          503.0            289.0        88524.590164   \n",
              "10                  2.0          553.0            137.0       127525.252525   \n",
              "13                  3.0          298.0            366.0        82943.925234   \n",
              "...                 ...            ...              ...                 ...   \n",
              "23691               1.0          806.0            519.0       129903.978052   \n",
              "23693               1.0          675.0            239.0        73717.948718   \n",
              "23694               3.0          381.0              NaN        72490.845228   \n",
              "23697               3.0          196.0            602.0       149511.400651   \n",
              "23698               NaN            NaN              NaN        41795.665635   \n",
              "\n",
              "      weekday_exposition  month_exposition  year_exposition  floor_category  \\\n",
              "0                      3                 3             2019          другой   \n",
              "4                      1                 6             2018          другой   \n",
              "9                      6                 2             2017          другой   \n",
              "10                     3                11             2017          другой   \n",
              "13                     5                 7             2017       последний   \n",
              "...                  ...               ...              ...             ...   \n",
              "23691                  3                10             2016          другой   \n",
              "23693                  4                 8             2016          другой   \n",
              "23694                  1                 3             2017          другой   \n",
              "23697                  1                 3             2017          другой   \n",
              "23698                  4                 7             2017          первый   \n",
              "\n",
              "       living_and_total_ratio  kitchen_and_total_ratio  \n",
              "0                    0.472222                 0.231481  \n",
              "4                    0.320000                 0.410000  \n",
              "9                    0.714754                 0.106557  \n",
              "10                   0.512626                 0.214646  \n",
              "13                   0.630841                 0.121495  \n",
              "...                       ...                      ...  \n",
              "23691                0.552812                 0.145405  \n",
              "23693                0.641026                 0.128205  \n",
              "23694                0.547792                 0.103356  \n",
              "23697                     NaN                 0.303583  \n",
              "23698                0.380805                 0.278638  \n",
              "\n",
              "[14465 rows x 29 columns]"
            ]
          },
          "metadata": {},
          "output_type": "display_data"
        }
      ],
      "source": [
        "data = data.query('ceiling_height <= 10')\n",
        "display(data)"
      ]
    },
    {
      "cell_type": "markdown",
      "metadata": {
        "id": "epZVkSK2zbob"
      },
      "source": [
        "Здесь можно увидеть, что высота полотолка в некоторых объектах доходит до 30 метров, в двухуровненвых лофт-аппартаментах наверно теоретически можно представить высоту в 10 метров, но больше 10 метров потолок по логике быть не может. Удалю строки с потолком больше 10 метров. Графики в целом имеют нормальное распределение."
      ]
    },
    {
      "cell_type": "markdown",
      "metadata": {
        "id": "J5uMNeVJzbob"
      },
      "source": [
        "Изучу время продажи объекта недвижимости, количество дней периода с размещения объявления до продажи содержится в столбце \"days_exposition\". Построю гистограмму и посчитаю среднее и медиану."
      ]
    },
    {
      "cell_type": "code",
      "execution_count": null,
      "metadata": {
        "id": "DC9nSCLwzbob",
        "outputId": "deb7d160-3b17-4a65-e2ca-975de3ed49d4"
      },
      "outputs": [
        {
          "data": {
            "text/plain": [
              "<AxesSubplot:>"
            ]
          },
          "execution_count": 28,
          "metadata": {},
          "output_type": "execute_result"
        },
        {
          "data": {
            "image/png": "[encoded data removed]",
            "text/plain": [
              "<Figure size 432x288 with 1 Axes>"
            ]
          },
          "metadata": {
            "needs_background": "light"
          },
          "output_type": "display_data"
        }
      ],
      "source": [
        "data['days_exposition'].hist(bins=200, range=(0,1580))"
      ]
    },
    {
      "cell_type": "code",
      "execution_count": null,
      "metadata": {
        "id": "IdGtzTGfzboc",
        "outputId": "6dabad38-7995-4a73-caec-67f64d89a3b9"
      },
      "outputs": [
        {
          "data": {
            "text/plain": [
              "<AxesSubplot:>"
            ]
          },
          "execution_count": 29,
          "metadata": {},
          "output_type": "execute_result"
        },
        {
          "data": {
            "image/png": "[encoded data removed]",
            "text/plain": [
              "<Figure size 432x288 with 1 Axes>"
            ]
          },
          "metadata": {
            "needs_background": "light"
          },
          "output_type": "display_data"
        }
      ],
      "source": [
        "data['days_exposition'].hist(bins=200, range=(0,200))"
      ]
    },
    {
      "cell_type": "code",
      "execution_count": null,
      "metadata": {
        "id": "nNNc2IDhzboc",
        "outputId": "98213f43-6489-40b6-d04e-6104f15f4e65"
      },
      "outputs": [
        {
          "data": {
            "text/plain": [
              "count    12018.000000\n",
              "mean       190.412714\n",
              "std        228.775527\n",
              "min          1.000000\n",
              "25%         45.000000\n",
              "50%        103.000000\n",
              "75%        247.000000\n",
              "max       1580.000000\n",
              "Name: days_exposition, dtype: float64"
            ]
          },
          "execution_count": 30,
          "metadata": {},
          "output_type": "execute_result"
        }
      ],
      "source": [
        "data['days_exposition'].describe()"
      ]
    },
    {
      "cell_type": "markdown",
      "metadata": {
        "id": "oF6kelspzbod"
      },
      "source": [
        "Как мы видим среднее не очень помогает нам определить, что считать быстрой продажей или долгой, но медиана 103 и межквартильный размах с 45 по 237 показывают это более выраженно. Половина продаж происходит в течение 103 дней, при этом 25% процентов продаж происходит в первые 45 дней, что соответевнно можно назвать быстрой продажей. \n",
        "На гисторграмме мы видим даже пик продаж на 45-ый и 60-ый день, могу предположить, что это связано с тем, что в эти дни продавцу приходит уведомление с запросом о текущей актуальности объявления, и продавец соответсвенно снимает объявление в этот день, даже если фактически объект был продан раньше.\n",
        "Также мы видим 25% объявлений снимаются только спустя 247 дней, они относятся к долгим продажам. Продажи после 600-го дня я бы назвал необычно долгими."
      ]
    },
    {
      "cell_type": "markdown",
      "metadata": {
        "id": "7TcTvubizbod"
      },
      "source": [
        "Посмотрю на редкие и выбивающиеся значения в других количественных столбцах.\n",
        "В столбцах площади объекта мы видим, что вне межквартильного размаха находится некоторое количество объектов большой и очень большой площади, но я не вижу смысла их удалять, так как 500 метров это правдоподобная цифра площади.\n",
        "В столбце с расстоянием до водоемов значения тоже реальные, а до парков расстояние доходит до 3км. Даже для маркетинга девелопмента это считается не совсем адекватным расстоянием. Но убирать строки с такими значениями я не буду, 3км от парка это все равно корректная информация, хоть она и говорит о том, что парк не рядом."
      ]
    },
    {
      "cell_type": "code",
      "execution_count": null,
      "metadata": {
        "id": "07DQm4Ybzboe",
        "outputId": "ed591f71-9593-4e6d-93a9-3d62d7fc3a09"
      },
      "outputs": [
        {
          "data": {
            "text/plain": [
              "<AxesSubplot:>"
            ]
          },
          "execution_count": 31,
          "metadata": {},
          "output_type": "execute_result"
        },
        {
          "data": {
            "image/png": "[encoded data removed]",
            "text/plain": [
              "<Figure size 432x288 with 1 Axes>"
            ]
          },
          "metadata": {
            "needs_background": "light"
          },
          "output_type": "display_data"
        }
      ],
      "source": [
        "data.boxplot(column=['parks_nearest', 'ponds_nearest', 'living_area', 'total_area'])"
      ]
    },
    {
      "cell_type": "code",
      "execution_count": null,
      "metadata": {
        "scrolled": false,
        "id": "Qy2OWvqHzboe",
        "outputId": "221cb58d-ed79-4ef4-dcaa-a7ac0cca3e13"
      },
      "outputs": [
        {
          "data": {
            "text/html": [
              "<div>\n",
              "<style scoped>\n",
              "    .dataframe tbody tr th:only-of-type {\n",
              "        vertical-align: middle;\n",
              "    }\n",
              "\n",
              "    .dataframe tbody tr th {\n",
              "        vertical-align: top;\n",
              "    }\n",
              "\n",
              "    .dataframe thead th {\n",
              "        text-align: right;\n",
              "    }\n",
              "</style>\n",
              "<table border=\"1\" class=\"dataframe\">\n",
              "  <thead>\n",
              "    <tr style=\"text-align: right;\">\n",
              "      <th></th>\n",
              "      <th>last_price</th>\n",
              "      <th>ceiling_height</th>\n",
              "      <th>rooms</th>\n",
              "      <th>total_area</th>\n",
              "    </tr>\n",
              "  </thead>\n",
              "  <tbody>\n",
              "    <tr>\n",
              "      <th>count</th>\n",
              "      <td>1.446500e+04</td>\n",
              "      <td>14465.000000</td>\n",
              "      <td>14465.000000</td>\n",
              "      <td>14465.000000</td>\n",
              "    </tr>\n",
              "    <tr>\n",
              "      <th>mean</th>\n",
              "      <td>6.837611e+06</td>\n",
              "      <td>2.727726</td>\n",
              "      <td>2.137366</td>\n",
              "      <td>61.895618</td>\n",
              "    </tr>\n",
              "    <tr>\n",
              "      <th>std</th>\n",
              "      <td>1.019287e+07</td>\n",
              "      <td>0.293018</td>\n",
              "      <td>1.099328</td>\n",
              "      <td>37.015379</td>\n",
              "    </tr>\n",
              "    <tr>\n",
              "      <th>min</th>\n",
              "      <td>1.219000e+04</td>\n",
              "      <td>1.000000</td>\n",
              "      <td>0.000000</td>\n",
              "      <td>12.000000</td>\n",
              "    </tr>\n",
              "    <tr>\n",
              "      <th>25%</th>\n",
              "      <td>3.570000e+06</td>\n",
              "      <td>2.510000</td>\n",
              "      <td>1.000000</td>\n",
              "      <td>41.000000</td>\n",
              "    </tr>\n",
              "    <tr>\n",
              "      <th>50%</th>\n",
              "      <td>4.850000e+06</td>\n",
              "      <td>2.650000</td>\n",
              "      <td>2.000000</td>\n",
              "      <td>53.400000</td>\n",
              "    </tr>\n",
              "    <tr>\n",
              "      <th>75%</th>\n",
              "      <td>7.000000e+06</td>\n",
              "      <td>2.800000</td>\n",
              "      <td>3.000000</td>\n",
              "      <td>71.300000</td>\n",
              "    </tr>\n",
              "    <tr>\n",
              "      <th>max</th>\n",
              "      <td>4.200000e+08</td>\n",
              "      <td>8.300000</td>\n",
              "      <td>16.000000</td>\n",
              "      <td>900.000000</td>\n",
              "    </tr>\n",
              "  </tbody>\n",
              "</table>\n",
              "</div>"
            ],
            "text/plain": [
              "         last_price  ceiling_height         rooms    total_area\n",
              "count  1.446500e+04    14465.000000  14465.000000  14465.000000\n",
              "mean   6.837611e+06        2.727726      2.137366     61.895618\n",
              "std    1.019287e+07        0.293018      1.099328     37.015379\n",
              "min    1.219000e+04        1.000000      0.000000     12.000000\n",
              "25%    3.570000e+06        2.510000      1.000000     41.000000\n",
              "50%    4.850000e+06        2.650000      2.000000     53.400000\n",
              "75%    7.000000e+06        2.800000      3.000000     71.300000\n",
              "max    4.200000e+08        8.300000     16.000000    900.000000"
            ]
          },
          "execution_count": 32,
          "metadata": {},
          "output_type": "execute_result"
        }
      ],
      "source": [
        "data[['last_price', 'ceiling_height', 'rooms', 'total_area']].describe()"
      ]
    },
    {
      "cell_type": "code",
      "execution_count": null,
      "metadata": {
        "scrolled": false,
        "id": "D4uF-tN3zboe"
      },
      "outputs": [],
      "source": [
        "data = data.query('ceiling_height > 1.5')"
      ]
    },
    {
      "cell_type": "markdown",
      "metadata": {
        "id": "OCRSPbZXzbof"
      },
      "source": [
        "Посмотрю, зависит ли цена от площади, числа комнат, удалённости от центра. "
      ]
    },
    {
      "cell_type": "code",
      "execution_count": null,
      "metadata": {
        "id": "IJaKzkDHzbof",
        "outputId": "3c8b454b-3b8e-4579-cd72-dbbb4c28e66e"
      },
      "outputs": [
        {
          "data": {
            "text/plain": [
              "0.713075281332447"
            ]
          },
          "execution_count": 34,
          "metadata": {},
          "output_type": "execute_result"
        }
      ],
      "source": [
        "data['last_price'].corr(data['total_area'])"
      ]
    },
    {
      "cell_type": "code",
      "execution_count": null,
      "metadata": {
        "id": "RvJDhw82zbof",
        "outputId": "3006f3f3-6e90-4f7d-efde-c8000978a2c3"
      },
      "outputs": [
        {
          "data": {
            "text/plain": [
              "0.40165064595317324"
            ]
          },
          "execution_count": 35,
          "metadata": {},
          "output_type": "execute_result"
        }
      ],
      "source": [
        "data['last_price'].corr(data['rooms'])\n"
      ]
    },
    {
      "cell_type": "code",
      "execution_count": null,
      "metadata": {
        "id": "kZEsaDthzbof",
        "outputId": "e0720d72-ae90-444e-9f28-620305b6e571"
      },
      "outputs": [
        {
          "data": {
            "text/plain": [
              "-0.22629138038992075"
            ]
          },
          "execution_count": 36,
          "metadata": {},
          "output_type": "execute_result"
        }
      ],
      "source": [
        "data['last_price'].corr(data['cityCenters_nearest'])"
      ]
    },
    {
      "cell_type": "markdown",
      "metadata": {
        "id": "kq3tFwVAzbof"
      },
      "source": [
        "Ожидаемо большая корреляция с площадью, также положительная корреляция цены с количеством комнат. Приближенность к центру города в меньшей степени влияет на цену."
      ]
    },
    {
      "cell_type": "markdown",
      "metadata": {
        "id": "Ismf6muJzbog"
      },
      "source": [
        "Посмотрю зависимость цены от этажа(первый, последний или другой) и даты размещения: дня недели, месяца и года.\n",
        "В столбце с категориями этажей данные категориальные, составлю график."
      ]
    },
    {
      "cell_type": "code",
      "execution_count": null,
      "metadata": {
        "id": "QLX5XPVozbog",
        "outputId": "875846e3-9c92-4134-a19d-27e4b051660d"
      },
      "outputs": [
        {
          "data": {
            "text/plain": [
              "<AxesSubplot:xlabel='weekday_exposition'>"
            ]
          },
          "execution_count": 37,
          "metadata": {},
          "output_type": "execute_result"
        },
        {
          "data": {
            "image/png": "[encoded data removed]",
            "text/plain": [
              "<Figure size 360x360 with 1 Axes>"
            ]
          },
          "metadata": {
            "needs_background": "light"
          },
          "output_type": "display_data"
        },
        {
          "data": {
            "image/png": "[encoded data removed]",
            "text/plain": [
              "<Figure size 360x360 with 1 Axes>"
            ]
          },
          "metadata": {
            "needs_background": "light"
          },
          "output_type": "display_data"
        },
        {
          "data": {
            "image/png": "[encoded data removed]",
            "text/plain": [
              "<Figure size 360x360 with 1 Axes>"
            ]
          },
          "metadata": {
            "needs_background": "light"
          },
          "output_type": "display_data"
        },
        {
          "data": {
            "image/png": "[encoded data removed]",
            "text/plain": [
              "<Figure size 360x360 with 1 Axes>"
            ]
          },
          "metadata": {
            "needs_background": "light"
          },
          "output_type": "display_data"
        }
      ],
      "source": [
        "data.pivot_table(index='floor_category', values='last_price', aggfunc='median').plot(grid=True, style='o-', figsize=(5, 5))\n",
        "data.pivot_table(index='month_exposition', values='last_price', aggfunc='median').plot(grid=True, style='o-', figsize=(5, 5))\n",
        "data.pivot_table(index='year_exposition', values='last_price', aggfunc='median').plot(grid=True, style='o-', figsize=(5, 5))\n",
        "data.pivot_table(index='weekday_exposition', values='last_price', aggfunc='median').plot(grid=True, style='o-', figsize=(5, 5))"
      ]
    },
    {
      "cell_type": "markdown",
      "metadata": {
        "id": "s_NSpP5uzbog"
      },
      "source": [
        "Как мы видим, медианная цена на объект недвижимости на последнем этаже выше, чем на первом этаже, но все же в общем объект на другом этаже добавляет ценности объекту.\n",
        "Согласно построенным графикам, медианная цена значительно выыше в объявлениях, размещаемых в декабре. Цена снижалась с пика в 2014 году и в 2019 снова начала расти. В объявлениях, размещаемых на выходных, медианная цена немного ниже."
      ]
    },
    {
      "cell_type": "markdown",
      "metadata": {
        "id": "IXeeySKPzbog"
      },
      "source": [
        "## Исследовательский анализ данных: местоположение объектов недвижимости как фактор ценообразования"
      ]
    },
    {
      "cell_type": "markdown",
      "metadata": {
        "id": "T2TTN5GYzbog"
      },
      "source": [
        "Выделю 10 населённых пунктов с наибольшим числом объявлений и посчитаю среднюю цену квадратного метра в этих населённых пунктах."
      ]
    },
    {
      "cell_type": "code",
      "execution_count": null,
      "metadata": {
        "scrolled": false,
        "id": "GM1sFABnzboh",
        "outputId": "fe80cc5a-8002-4540-d623-02705083f0f1"
      },
      "outputs": [
        {
          "data": {
            "text/plain": [
              "Санкт-Петербург      10088\n",
              "Всеволожск             272\n",
              "Пушкин                 234\n",
              "поселок Шушары         217\n",
              "поселок Мурино         212\n",
              "Колпино                203\n",
              "Гатчина                148\n",
              "Петергоф               145\n",
              "поселок Парголово      137\n",
              "Сестрорецк             129\n",
              "Name: locality_name, dtype: int64"
            ]
          },
          "metadata": {},
          "output_type": "display_data"
        }
      ],
      "source": [
        "display(data['locality_name'].value_counts().head(10))"
      ]
    },
    {
      "cell_type": "code",
      "execution_count": null,
      "metadata": {
        "id": "iOC5E_0ezboh",
        "outputId": "8a92d3e9-cabb-4cee-9019-bf3a3e96436e"
      },
      "outputs": [
        {
          "data": {
            "text/html": [
              "<div>\n",
              "<style scoped>\n",
              "    .dataframe tbody tr th:only-of-type {\n",
              "        vertical-align: middle;\n",
              "    }\n",
              "\n",
              "    .dataframe tbody tr th {\n",
              "        vertical-align: top;\n",
              "    }\n",
              "\n",
              "    .dataframe thead th {\n",
              "        text-align: right;\n",
              "    }\n",
              "</style>\n",
              "<table border=\"1\" class=\"dataframe\">\n",
              "  <thead>\n",
              "    <tr style=\"text-align: right;\">\n",
              "      <th></th>\n",
              "      <th>square_metre_price</th>\n",
              "    </tr>\n",
              "    <tr>\n",
              "      <th>locality_name</th>\n",
              "      <th></th>\n",
              "    </tr>\n",
              "  </thead>\n",
              "  <tbody>\n",
              "    <tr>\n",
              "      <th>Санкт-Петербург</th>\n",
              "      <td>115691.973577</td>\n",
              "    </tr>\n",
              "    <tr>\n",
              "      <th>Пушкин</th>\n",
              "      <td>103920.487928</td>\n",
              "    </tr>\n",
              "    <tr>\n",
              "      <th>Сестрорецк</th>\n",
              "      <td>102267.327328</td>\n",
              "    </tr>\n",
              "    <tr>\n",
              "      <th>поселок Стрельна</th>\n",
              "      <td>91005.781473</td>\n",
              "    </tr>\n",
              "    <tr>\n",
              "      <th>поселок Парголово</th>\n",
              "      <td>90901.351145</td>\n",
              "    </tr>\n",
              "    <tr>\n",
              "      <th>Петергоф</th>\n",
              "      <td>85554.144673</td>\n",
              "    </tr>\n",
              "    <tr>\n",
              "      <th>Кронштадт</th>\n",
              "      <td>80362.596865</td>\n",
              "    </tr>\n",
              "    <tr>\n",
              "      <th>Колпино</th>\n",
              "      <td>75938.525561</td>\n",
              "    </tr>\n",
              "    <tr>\n",
              "      <th>Ломоносов</th>\n",
              "      <td>73953.869391</td>\n",
              "    </tr>\n",
              "    <tr>\n",
              "      <th>Красное Село</th>\n",
              "      <td>73195.659587</td>\n",
              "    </tr>\n",
              "  </tbody>\n",
              "</table>\n",
              "</div>"
            ],
            "text/plain": [
              "                   square_metre_price\n",
              "locality_name                        \n",
              "Санкт-Петербург         115691.973577\n",
              "Пушкин                  103920.487928\n",
              "Сестрорецк              102267.327328\n",
              "поселок Стрельна         91005.781473\n",
              "поселок Парголово        90901.351145\n",
              "Петергоф                 85554.144673\n",
              "Кронштадт                80362.596865\n",
              "Колпино                  75938.525561\n",
              "Ломоносов                73953.869391\n",
              "Красное Село             73195.659587"
            ]
          },
          "execution_count": 39,
          "metadata": {},
          "output_type": "execute_result"
        }
      ],
      "source": [
        "top_cities = ['Санкт-Петербург',\n",
        "          'Пушкин',\n",
        "          'Колпино',\n",
        "          'Петергоф',\n",
        "          'поселок Парголово',\n",
        "          'Сестрорецк',\n",
        "          'Красное Село',\n",
        "          'Ломоносов',\n",
        "          'Кронштадт',\n",
        "          'поселок Стрельна'\n",
        "         ]\n",
        "(\n",
        "    data.query('locality_name in @top_cities')\n",
        "    .pivot_table(index='locality_name', values='square_metre_price', aggfunc='mean')\n",
        "    .sort_values(by='square_metre_price', ascending=False)\n",
        ")"
      ]
    },
    {
      "cell_type": "markdown",
      "metadata": {
        "id": "e14QxyYKzboh"
      },
      "source": [
        "Ожидаемо самая высокая стоимость жилья в Санкт-Петербурге, из топ-10 самых популярных локаций в среднем самое дешевое жилье в Красном Селе."
      ]
    },
    {
      "cell_type": "markdown",
      "metadata": {
        "id": "22JRcKuKzboh"
      },
      "source": [
        "Изучу, как местоположение объекта недвижимости в Санкт-Петербурге относительно центра города влияет на среднюю цену. Создам столбец cityCenters_nearest_km, отражающий близость объекта к центру в километрах. Затем построю график средней цены в зависимости от местоположения."
      ]
    },
    {
      "cell_type": "code",
      "execution_count": null,
      "metadata": {
        "scrolled": false,
        "id": "Z7mK-jXxzboi",
        "outputId": "30576bd2-8a68-44b0-bc64-580d4caa5eed"
      },
      "outputs": [
        {
          "data": {
            "text/plain": [
              "<AxesSubplot:xlabel='cityCenters_nearest_km'>"
            ]
          },
          "execution_count": 40,
          "metadata": {},
          "output_type": "execute_result"
        },
        {
          "data": {
            "image/png": "[encoded data removed]",
            "text/plain": [
              "<Figure size 864x720 with 1 Axes>"
            ]
          },
          "metadata": {
            "needs_background": "light"
          },
          "output_type": "display_data"
        }
      ],
      "source": [
        "data['cityCenters_nearest_km'] = data['cityCenters_nearest'] / 1000\n",
        "data['cityCenters_nearest_km'] = data['cityCenters_nearest_km'].round(0)\n",
        "(\n",
        "    data.query('locality_name == \"Санкт-Петербург\"')\n",
        "    .pivot_table(index='cityCenters_nearest_km', values='last_price', aggfunc='mean')\n",
        "    .plot(grid=True, style='o-', figsize=(12, 10), ylim=(0, 40000000))\n",
        ")"
      ]
    },
    {
      "cell_type": "markdown",
      "metadata": {
        "id": "pWiT0TSwzboi"
      },
      "source": [
        "Цена на объекты недвижимости, которые расположены в девяти километрах от центра значительно повышаются, особенно резкий скачок средней цены мы наблюдаем на объекты в 3 км от центра. Таким образом я бы выделил 2 зоны: \"близко к центру\" (диапазон 2.5-9км) и \"в самом центре\" (0-2.5км). Рассмотрю их более подробно."
      ]
    },
    {
      "cell_type": "code",
      "execution_count": null,
      "metadata": {
        "scrolled": true,
        "id": "dmPv4b5czboi"
      },
      "outputs": [],
      "source": [
        "spb_near_center_flats = data.query('locality_name == \"Санкт-Петербург\" and 2.5 < cityCenters_nearest_km <= 9')\n",
        "spb_city_heart_flats = data.query('locality_name == \"Санкт-Петербург\" and cityCenters_nearest_km <= 2.5')"
      ]
    },
    {
      "cell_type": "code",
      "execution_count": null,
      "metadata": {
        "scrolled": true,
        "id": "qvcGDSAszboj",
        "outputId": "a942bad4-ce93-4b48-d728-e1e674cfe706"
      },
      "outputs": [
        {
          "data": {
            "text/html": [
              "<div>\n",
              "<style scoped>\n",
              "    .dataframe tbody tr th:only-of-type {\n",
              "        vertical-align: middle;\n",
              "    }\n",
              "\n",
              "    .dataframe tbody tr th {\n",
              "        vertical-align: top;\n",
              "    }\n",
              "\n",
              "    .dataframe thead tr th {\n",
              "        text-align: left;\n",
              "    }\n",
              "\n",
              "    .dataframe thead tr:last-of-type th {\n",
              "        text-align: right;\n",
              "    }\n",
              "</style>\n",
              "<table border=\"1\" class=\"dataframe\">\n",
              "  <thead>\n",
              "    <tr>\n",
              "      <th></th>\n",
              "      <th colspan=\"4\" halign=\"left\">mean</th>\n",
              "      <th colspan=\"4\" halign=\"left\">median</th>\n",
              "    </tr>\n",
              "    <tr>\n",
              "      <th></th>\n",
              "      <th>ceiling_height</th>\n",
              "      <th>floors_total</th>\n",
              "      <th>rooms</th>\n",
              "      <th>total_area</th>\n",
              "      <th>ceiling_height</th>\n",
              "      <th>floors_total</th>\n",
              "      <th>rooms</th>\n",
              "      <th>total_area</th>\n",
              "    </tr>\n",
              "    <tr>\n",
              "      <th>locality_name</th>\n",
              "      <th></th>\n",
              "      <th></th>\n",
              "      <th></th>\n",
              "      <th></th>\n",
              "      <th></th>\n",
              "      <th></th>\n",
              "      <th></th>\n",
              "      <th></th>\n",
              "    </tr>\n",
              "  </thead>\n",
              "  <tbody>\n",
              "    <tr>\n",
              "      <th>Санкт-Петербург</th>\n",
              "      <td>3.24172</td>\n",
              "      <td>4.88172</td>\n",
              "      <td>3.206989</td>\n",
              "      <td>104.569435</td>\n",
              "      <td>3.2</td>\n",
              "      <td>5.0</td>\n",
              "      <td>3</td>\n",
              "      <td>92.0</td>\n",
              "    </tr>\n",
              "  </tbody>\n",
              "</table>\n",
              "</div>"
            ],
            "text/plain": [
              "                          mean                                     \\\n",
              "                ceiling_height floors_total     rooms  total_area   \n",
              "locality_name                                                       \n",
              "Санкт-Петербург        3.24172      4.88172  3.206989  104.569435   \n",
              "\n",
              "                        median                                \n",
              "                ceiling_height floors_total rooms total_area  \n",
              "locality_name                                                 \n",
              "Санкт-Петербург            3.2          5.0     3       92.0  "
            ]
          },
          "execution_count": 42,
          "metadata": {},
          "output_type": "execute_result"
        }
      ],
      "source": [
        "spb_city_heart_flats.pivot_table(index='locality_name', values=['total_area', 'rooms', 'ceiling_height', 'floors_total'], aggfunc=['mean', 'median'])"
      ]
    },
    {
      "cell_type": "code",
      "execution_count": null,
      "metadata": {
        "id": "TIpeAsunzboj",
        "outputId": "7a21586b-6ddd-4b49-cc03-98637239a1dc"
      },
      "outputs": [
        {
          "data": {
            "text/html": [
              "<div>\n",
              "<style scoped>\n",
              "    .dataframe tbody tr th:only-of-type {\n",
              "        vertical-align: middle;\n",
              "    }\n",
              "\n",
              "    .dataframe tbody tr th {\n",
              "        vertical-align: top;\n",
              "    }\n",
              "\n",
              "    .dataframe thead tr th {\n",
              "        text-align: left;\n",
              "    }\n",
              "\n",
              "    .dataframe thead tr:last-of-type th {\n",
              "        text-align: right;\n",
              "    }\n",
              "</style>\n",
              "<table border=\"1\" class=\"dataframe\">\n",
              "  <thead>\n",
              "    <tr>\n",
              "      <th></th>\n",
              "      <th colspan=\"4\" halign=\"left\">mean</th>\n",
              "      <th colspan=\"4\" halign=\"left\">median</th>\n",
              "    </tr>\n",
              "    <tr>\n",
              "      <th></th>\n",
              "      <th>ceiling_height</th>\n",
              "      <th>floors_total</th>\n",
              "      <th>rooms</th>\n",
              "      <th>total_area</th>\n",
              "      <th>ceiling_height</th>\n",
              "      <th>floors_total</th>\n",
              "      <th>rooms</th>\n",
              "      <th>total_area</th>\n",
              "    </tr>\n",
              "    <tr>\n",
              "      <th>locality_name</th>\n",
              "      <th></th>\n",
              "      <th></th>\n",
              "      <th></th>\n",
              "      <th></th>\n",
              "      <th></th>\n",
              "      <th></th>\n",
              "      <th></th>\n",
              "      <th></th>\n",
              "    </tr>\n",
              "  </thead>\n",
              "  <tbody>\n",
              "    <tr>\n",
              "      <th>Санкт-Петербург</th>\n",
              "      <td>2.993151</td>\n",
              "      <td>8.042238</td>\n",
              "      <td>2.678638</td>\n",
              "      <td>86.176187</td>\n",
              "      <td>3.0</td>\n",
              "      <td>6.0</td>\n",
              "      <td>3</td>\n",
              "      <td>72.5</td>\n",
              "    </tr>\n",
              "  </tbody>\n",
              "</table>\n",
              "</div>"
            ],
            "text/plain": [
              "                          mean                                    \\\n",
              "                ceiling_height floors_total     rooms total_area   \n",
              "locality_name                                                      \n",
              "Санкт-Петербург       2.993151     8.042238  2.678638  86.176187   \n",
              "\n",
              "                        median                                \n",
              "                ceiling_height floors_total rooms total_area  \n",
              "locality_name                                                 \n",
              "Санкт-Петербург            3.0          6.0     3       72.5  "
            ]
          },
          "execution_count": 43,
          "metadata": {},
          "output_type": "execute_result"
        }
      ],
      "source": [
        "spb_near_center_flats.pivot_table(index='locality_name', values=['total_area', 'rooms', 'ceiling_height', 'floors_total'], aggfunc=['mean', 'median'])"
      ]
    },
    {
      "cell_type": "code",
      "execution_count": null,
      "metadata": {
        "id": "UmFw27Afzboj",
        "outputId": "b4602422-e660-4f2f-fd5f-30672043031a"
      },
      "outputs": [
        {
          "data": {
            "text/html": [
              "<div>\n",
              "<style scoped>\n",
              "    .dataframe tbody tr th:only-of-type {\n",
              "        vertical-align: middle;\n",
              "    }\n",
              "\n",
              "    .dataframe tbody tr th {\n",
              "        vertical-align: top;\n",
              "    }\n",
              "\n",
              "    .dataframe thead tr th {\n",
              "        text-align: left;\n",
              "    }\n",
              "\n",
              "    .dataframe thead tr:last-of-type th {\n",
              "        text-align: right;\n",
              "    }\n",
              "</style>\n",
              "<table border=\"1\" class=\"dataframe\">\n",
              "  <thead>\n",
              "    <tr>\n",
              "      <th></th>\n",
              "      <th colspan=\"4\" halign=\"left\">mean</th>\n",
              "      <th colspan=\"4\" halign=\"left\">median</th>\n",
              "    </tr>\n",
              "    <tr>\n",
              "      <th></th>\n",
              "      <th>ceiling_height</th>\n",
              "      <th>floors_total</th>\n",
              "      <th>rooms</th>\n",
              "      <th>total_area</th>\n",
              "      <th>ceiling_height</th>\n",
              "      <th>floors_total</th>\n",
              "      <th>rooms</th>\n",
              "      <th>total_area</th>\n",
              "    </tr>\n",
              "    <tr>\n",
              "      <th>locality_name</th>\n",
              "      <th></th>\n",
              "      <th></th>\n",
              "      <th></th>\n",
              "      <th></th>\n",
              "      <th></th>\n",
              "      <th></th>\n",
              "      <th></th>\n",
              "      <th></th>\n",
              "    </tr>\n",
              "  </thead>\n",
              "  <tbody>\n",
              "    <tr>\n",
              "      <th>Санкт-Петербург</th>\n",
              "      <td>2.658825</td>\n",
              "      <td>12.255676</td>\n",
              "      <td>2.009992</td>\n",
              "      <td>56.399787</td>\n",
              "      <td>2.6</td>\n",
              "      <td>10.0</td>\n",
              "      <td>2</td>\n",
              "      <td>50.455</td>\n",
              "    </tr>\n",
              "  </tbody>\n",
              "</table>\n",
              "</div>"
            ],
            "text/plain": [
              "                          mean                                    \\\n",
              "                ceiling_height floors_total     rooms total_area   \n",
              "locality_name                                                      \n",
              "Санкт-Петербург       2.658825    12.255676  2.009992  56.399787   \n",
              "\n",
              "                        median                                \n",
              "                ceiling_height floors_total rooms total_area  \n",
              "locality_name                                                 \n",
              "Санкт-Петербург            2.6         10.0     2     50.455  "
            ]
          },
          "execution_count": 44,
          "metadata": {},
          "output_type": "execute_result"
        }
      ],
      "source": [
        "data.query('locality_name == \"Санкт-Петербург\" and cityCenters_nearest_km >= 9').pivot_table(index='locality_name', values=['total_area', 'rooms', 'ceiling_height', 'floors_total'], aggfunc=['mean', 'median'])"
      ]
    },
    {
      "cell_type": "markdown",
      "metadata": {
        "id": "3OMnOHMIzboj"
      },
      "source": [
        "Мы видим, что чем ближе к центру, тем ниже этажность домов, выше потолки и больше количество комнат. Повышается и средняя площадь объекта. То есть по основным показателям объект в центре лучше, соответсвенно в среднем объекты дальше от центра не компенсируют удаленность другими характеристиками.\n",
        "\n",
        "Далее построю графики зависимости цены категорий \"близко к центру\" и \"в самом центре\" от следующих показателей: число комнат, этаж, удалённость от центра, дата размещения объявления."
      ]
    },
    {
      "cell_type": "code",
      "execution_count": null,
      "metadata": {
        "scrolled": true,
        "id": "joT90VCpzboj",
        "outputId": "8516652b-dc7d-4e8e-87b9-de080a417c65"
      },
      "outputs": [
        {
          "data": {
            "text/plain": [
              "<AxesSubplot:title={'center':'В самом центре: зависимость цены от этажа'}, xlabel='floor'>"
            ]
          },
          "execution_count": 45,
          "metadata": {},
          "output_type": "execute_result"
        },
        {
          "data": {
            "image/png": "[encoded data removed]",
            "text/plain": [
              "<Figure size 720x216 with 1 Axes>"
            ]
          },
          "metadata": {
            "needs_background": "light"
          },
          "output_type": "display_data"
        }
      ],
      "source": [
        "(\n",
        "    spb_city_heart_flats.query('last_price < 100000000')\n",
        "    .pivot_table(index='floor', values='last_price', aggfunc='median')\n",
        "    .plot(grid=True, figsize=(10, 3), title='В самом центре: зависимость цены от этажа')\n",
        "         )"
      ]
    },
    {
      "cell_type": "code",
      "execution_count": null,
      "metadata": {
        "id": "o9-A_q2Wzbol",
        "outputId": "da8076ab-03e3-4775-dfa5-d12f2e485639"
      },
      "outputs": [
        {
          "data": {
            "text/plain": [
              "<AxesSubplot:title={'center':'Близко к центру: зависимость цены от этажа'}, xlabel='floor'>"
            ]
          },
          "execution_count": 46,
          "metadata": {},
          "output_type": "execute_result"
        },
        {
          "data": {
            "image/png": "[encoded data removed]",
            "text/plain": [
              "<Figure size 720x216 with 1 Axes>"
            ]
          },
          "metadata": {
            "needs_background": "light"
          },
          "output_type": "display_data"
        }
      ],
      "source": [
        "(\n",
        "    spb_near_center_flats\n",
        "    .pivot_table(index='floor', values='last_price', aggfunc='median')\n",
        "    .plot(grid=True, figsize=(10, 3), title='Близко к центру: зависимость цены от этажа')\n",
        "         )"
      ]
    },
    {
      "cell_type": "code",
      "execution_count": null,
      "metadata": {
        "scrolled": true,
        "id": "ePi6x_Vfzbol",
        "outputId": "024402f0-3de3-4f08-9862-58cbe6740055"
      },
      "outputs": [
        {
          "data": {
            "text/plain": [
              "<AxesSubplot:title={'center':'В самом центре: зависимость цены от близости к центру'}, xlabel='cityCenters_nearest_km'>"
            ]
          },
          "execution_count": 47,
          "metadata": {},
          "output_type": "execute_result"
        },
        {
          "data": {
            "image/png": "[encoded data removed]",
            "text/plain": [
              "<Figure size 720x216 with 1 Axes>"
            ]
          },
          "metadata": {
            "needs_background": "light"
          },
          "output_type": "display_data"
        }
      ],
      "source": [
        "(\n",
        "    spb_city_heart_flats\n",
        "    .pivot_table(index='cityCenters_nearest_km', values='last_price', aggfunc='median')\n",
        "    .plot(grid=True, figsize=(10, 3),  title='В самом центре: зависимость цены от близости к центру')\n",
        "         )"
      ]
    },
    {
      "cell_type": "code",
      "execution_count": null,
      "metadata": {
        "id": "7d8MU6bLzbol",
        "outputId": "beef195d-08fb-45a8-e6f3-ffc9bb145b17"
      },
      "outputs": [
        {
          "data": {
            "text/plain": [
              "<AxesSubplot:title={'center':'Близко к центру: зависимость цены от близости к центру'}, xlabel='cityCenters_nearest_km'>"
            ]
          },
          "execution_count": 48,
          "metadata": {},
          "output_type": "execute_result"
        },
        {
          "data": {
            "image/png": "[encoded data removed]",
            "text/plain": [
              "<Figure size 720x216 with 1 Axes>"
            ]
          },
          "metadata": {
            "needs_background": "light"
          },
          "output_type": "display_data"
        }
      ],
      "source": [
        "(\n",
        "    spb_near_center_flats\n",
        "    .pivot_table(index='cityCenters_nearest_km', values='last_price', aggfunc='median')\n",
        "    .plot(grid=True, figsize=(10, 3),  title='Близко к центру: зависимость цены от близости к центру')\n",
        "         )"
      ]
    },
    {
      "cell_type": "code",
      "execution_count": null,
      "metadata": {
        "id": "GP50dGQnzbol",
        "outputId": "7f32ca99-2606-446a-d63b-acf439ea17aa"
      },
      "outputs": [
        {
          "data": {
            "text/plain": [
              "<AxesSubplot:title={'center':'В самом центре: зависимость цены от срока размещения объявления'}, xlabel='days_exposition'>"
            ]
          },
          "execution_count": 49,
          "metadata": {},
          "output_type": "execute_result"
        },
        {
          "data": {
            "image/png": "[encoded data removed]",
            "text/plain": [
              "<Figure size 720x216 with 1 Axes>"
            ]
          },
          "metadata": {
            "needs_background": "light"
          },
          "output_type": "display_data"
        }
      ],
      "source": [
        "(\n",
        "    spb_city_heart_flats\n",
        "    .pivot_table(index='days_exposition', values='last_price', aggfunc='median')\n",
        "    .plot(grid=True, figsize=(10, 3), title='В самом центре: зависимость цены от срока размещения объявления')\n",
        "         )"
      ]
    },
    {
      "cell_type": "code",
      "execution_count": null,
      "metadata": {
        "id": "MxtgOgsRzbol",
        "outputId": "b907b535-fe7a-4b28-f306-dcf583ec3ac3"
      },
      "outputs": [
        {
          "data": {
            "text/plain": [
              "<AxesSubplot:title={'center':'Близко к центру: зависимость цены от срока размещения объявления'}, xlabel='days_exposition'>"
            ]
          },
          "execution_count": 50,
          "metadata": {},
          "output_type": "execute_result"
        },
        {
          "data": {
            "image/png": "[encoded data removed]",
            "text/plain": [
              "<Figure size 720x216 with 1 Axes>"
            ]
          },
          "metadata": {
            "needs_background": "light"
          },
          "output_type": "display_data"
        }
      ],
      "source": [
        "(\n",
        "    spb_near_center_flats\n",
        "    .pivot_table(index='days_exposition', values='last_price', aggfunc='median')\n",
        "    .plot(grid=True, figsize=(10, 3), title='Близко к центру: зависимость цены от срока размещения объявления')\n",
        "         )"
      ]
    },
    {
      "cell_type": "code",
      "execution_count": null,
      "metadata": {
        "id": "ZD7FXDaBzbom",
        "outputId": "239cd026-cee8-4492-ef1e-f3cac34ec72c"
      },
      "outputs": [
        {
          "name": "stdout",
          "output_type": "stream",
          "text": [
            "0.040614438366652746\n",
            "0.09803698367455486\n"
          ]
        }
      ],
      "source": [
        "print(spb_city_heart_flats['days_exposition'].corr(spb_city_heart_flats['last_price']))\n",
        "print(spb_near_center_flats['days_exposition'].corr(spb_near_center_flats['last_price']))"
      ]
    },
    {
      "cell_type": "code",
      "execution_count": null,
      "metadata": {
        "id": "vd_xThBjzbom",
        "outputId": "b335e9f1-ddda-41a6-fe3c-1107aaa69e4d"
      },
      "outputs": [
        {
          "data": {
            "text/plain": [
              "<AxesSubplot:title={'center':'В самом центре: зависимость цены от кол. комнат'}, xlabel='rooms'>"
            ]
          },
          "execution_count": 52,
          "metadata": {},
          "output_type": "execute_result"
        },
        {
          "data": {
            "image/png": "[encoded data removed]",
            "text/plain": [
              "<Figure size 720x216 with 1 Axes>"
            ]
          },
          "metadata": {
            "needs_background": "light"
          },
          "output_type": "display_data"
        }
      ],
      "source": [
        "(\n",
        "    spb_city_heart_flats\n",
        "    .pivot_table(index='rooms', values='last_price', aggfunc='median')\n",
        "    .plot(grid=True, figsize=(10, 3), title='В самом центре: зависимость цены от кол. комнат')\n",
        "         )"
      ]
    },
    {
      "cell_type": "code",
      "execution_count": null,
      "metadata": {
        "id": "7n_X5NPHzbom",
        "outputId": "6c3dec6f-ad1c-48da-d3be-998a99469eca"
      },
      "outputs": [
        {
          "data": {
            "text/plain": [
              "<AxesSubplot:title={'center':'Близко к центру: зависимость цены от кол. комнат'}, xlabel='rooms'>"
            ]
          },
          "execution_count": 53,
          "metadata": {},
          "output_type": "execute_result"
        },
        {
          "data": {
            "image/png": "[encoded data removed]",
            "text/plain": [
              "<Figure size 720x216 with 1 Axes>"
            ]
          },
          "metadata": {
            "needs_background": "light"
          },
          "output_type": "display_data"
        }
      ],
      "source": [
        "(\n",
        "    spb_near_center_flats\n",
        "    .pivot_table(index='rooms', values='last_price', aggfunc='median')\n",
        "    .plot(grid=True, figsize=(10, 3), title='Близко к центру: зависимость цены от кол. комнат')\n",
        "         )"
      ]
    },
    {
      "cell_type": "markdown",
      "metadata": {
        "id": "33jz1IMCzbom"
      },
      "source": [
        "Здесь сразу хочется отметить, что данный график по количеству комнат не очень наглядный, с одним сильно выбивающимся пиком. Это вызвано тем, что здесь есть объекты дороже 400 миллионов и даже 763 миллиона. Это реальные цифры, удалять их не имеет смысла, но для большей информативности графика, удалю из него показатели трех объектов."
      ]
    },
    {
      "cell_type": "code",
      "execution_count": null,
      "metadata": {
        "id": "C0ua9uu5zbom",
        "outputId": "54f893ee-8a84-450c-b68e-e2b7594e23d7"
      },
      "outputs": [
        {
          "data": {
            "text/plain": [
              "<AxesSubplot:title={'center':'Близко к центру: зависимость цены от кол. комнат'}, xlabel='rooms'>"
            ]
          },
          "execution_count": 54,
          "metadata": {},
          "output_type": "execute_result"
        },
        {
          "data": {
            "image/png": "[encoded data removed]",
            "text/plain": [
              "<Figure size 720x216 with 1 Axes>"
            ]
          },
          "metadata": {
            "needs_background": "light"
          },
          "output_type": "display_data"
        }
      ],
      "source": [
        "(\n",
        "    spb_near_center_flats\n",
        "    .query('last_price < 400000000')\n",
        "    .pivot_table(index='rooms', values='last_price', aggfunc='median')\n",
        "    .plot(grid=True, figsize=(10, 3), title='Близко к центру: зависимость цены от кол. комнат')\n",
        "         )"
      ]
    },
    {
      "cell_type": "markdown",
      "metadata": {
        "id": "SZRLz9JIzbom"
      },
      "source": [
        "Итак, из построенных графиков двух центральных категорий можно сделать следующие выводы:\n",
        "1. \"В самом центре\" с 6 этажа наблюдается резкий скачок цен, но самих объектов стоимостью более 30 миллионов в данной категории не так много, у основной части объектов недвижимости этаж не так сильно влияет на стоимость. В категории \"близко к центру\" скачок цены на графике заметен в районе 15 этажей.\n",
        "2. В отношении отдаленность от центра сохраняется тенденция, что цена повышается, чем меньше расстояние от центра, особенно сильно на графиках прослеживается рост цены начиная с расстояния в 1км от центра.\n",
        "3. Количество дней, прошедших с момента публикации объявления, имеют очень малую корреляцию со стоимостью объекта, могу предположить, что пики на графике связаны с внешними факторами.\n",
        "4. Логично, чем больше комнат, тем выше стоимость, цена повышается равномерно, скачок на графике в районе 10 комнат связан только небольшого количества чем с 10 комнатами (8 объектов \"близко к центру\", 2 объекта \"в самом центре\")"
      ]
    },
    {
      "cell_type": "markdown",
      "metadata": {
        "id": "oJWxO9zVzbon"
      },
      "source": [
        "## Общий вывод"
      ]
    },
    {
      "cell_type": "markdown",
      "metadata": {
        "id": "PVEBLbZSzbon"
      },
      "source": [
        "Данные были изучены и преобразованы, удалена часть пропусков, но часть оставлена, для корректности данных. Также я добавил новые столбцы в датафрейм, которые могут быть полезны оценки недвижимости, при этом отдельно продавцу их заполнять не надо. Визуализация данных на графиках позволила более наглядно рассмотреть средние показатели и выбивающиеся значения, часть аномалий было удалено, другая часть оставлена, так как некоторые дорогие объекты недвижимости сильно отличаются по многим показателям от средних.\n",
        "Было отмечено, что некоторые данные (например расстояние до ближайшего парка) можно было бы ограничить другим диапазоном, иначе вводимая продавцом информация не совсем релевантна. Была выявлена и визуализирована корреляция различных показателей объекта к его стоимости, в целом по датафрейму, а также отдельно для двух центральных категорий по местоположению.\n",
        "\n",
        "Здесь можно выделить параметры для определения аномальных или мошеннических объявлений. В столбце с высотой потолка используются нереалистичные значения, это может быть использовано например для того, чтобы объявление было выше в поиске. Также стоило бы для большей корректности объявлений оставлять в строке с ближайшей рекреационной зоной (близость парка, водоема) только объекты с рассточнием до 1.5 км, а если показатель больше  - пусть там будет пропуск. Также стоит не допускать объявления, в которых указана цена, например, 100000 рублей."
      ]
    }
  ],
  "metadata": {
    "ExecuteTimeLog": [
      {
        "duration": 607,
        "start_time": "2022-03-12T16:18:21.783Z"
      },
      {
        "duration": 57,
        "start_time": "2022-03-12T16:24:06.473Z"
      },
      {
        "duration": 63,
        "start_time": "2022-03-12T16:24:45.381Z"
      },
      {
        "duration": 56,
        "start_time": "2022-03-12T16:24:52.197Z"
      },
      {
        "duration": 51,
        "start_time": "2022-03-12T16:24:57.071Z"
      },
      {
        "duration": 107,
        "start_time": "2022-03-12T16:25:18.988Z"
      },
      {
        "duration": 54,
        "start_time": "2022-03-12T16:25:28.423Z"
      },
      {
        "duration": 65,
        "start_time": "2022-03-12T16:28:00.334Z"
      },
      {
        "duration": 78,
        "start_time": "2022-03-12T16:28:15.006Z"
      },
      {
        "duration": 142,
        "start_time": "2022-03-12T16:29:06.174Z"
      },
      {
        "duration": 66,
        "start_time": "2022-03-12T16:29:10.952Z"
      },
      {
        "duration": 58,
        "start_time": "2022-03-12T16:29:24.046Z"
      },
      {
        "duration": 57,
        "start_time": "2022-03-12T16:29:53.399Z"
      },
      {
        "duration": 67,
        "start_time": "2022-03-12T16:30:03.890Z"
      },
      {
        "duration": 56,
        "start_time": "2022-03-12T16:30:33.023Z"
      },
      {
        "duration": 58,
        "start_time": "2022-03-12T16:32:35.768Z"
      },
      {
        "duration": 309,
        "start_time": "2022-03-12T16:32:41.113Z"
      },
      {
        "duration": 53,
        "start_time": "2022-03-12T16:32:56.260Z"
      },
      {
        "duration": 61,
        "start_time": "2022-03-12T16:33:32.265Z"
      },
      {
        "duration": 71,
        "start_time": "2022-03-12T16:33:45.281Z"
      },
      {
        "duration": 104,
        "start_time": "2022-03-12T16:33:57.064Z"
      },
      {
        "duration": 98,
        "start_time": "2022-03-12T16:34:45.867Z"
      },
      {
        "duration": 9,
        "start_time": "2022-03-12T16:38:21.596Z"
      },
      {
        "duration": 5,
        "start_time": "2022-03-12T18:32:47.649Z"
      },
      {
        "duration": 8,
        "start_time": "2022-03-12T18:33:14.402Z"
      },
      {
        "duration": 5,
        "start_time": "2022-03-12T18:33:41.961Z"
      },
      {
        "duration": 205,
        "start_time": "2022-03-12T19:18:01.496Z"
      },
      {
        "duration": 6,
        "start_time": "2022-03-12T19:18:31.378Z"
      },
      {
        "duration": 185,
        "start_time": "2022-03-12T19:19:42.564Z"
      },
      {
        "duration": 21,
        "start_time": "2022-03-12T19:20:06.347Z"
      },
      {
        "duration": 169,
        "start_time": "2022-03-12T19:21:09.677Z"
      },
      {
        "duration": 167,
        "start_time": "2022-03-12T19:21:21.372Z"
      },
      {
        "duration": 196,
        "start_time": "2022-03-12T19:21:26.835Z"
      },
      {
        "duration": 165,
        "start_time": "2022-03-12T19:21:37.344Z"
      },
      {
        "duration": 7,
        "start_time": "2022-03-12T19:23:16.518Z"
      },
      {
        "duration": 2138,
        "start_time": "2022-03-12T19:23:31.644Z"
      },
      {
        "duration": 5,
        "start_time": "2022-03-12T19:25:38.999Z"
      },
      {
        "duration": 6,
        "start_time": "2022-03-12T19:26:25.671Z"
      },
      {
        "duration": 5,
        "start_time": "2022-03-12T19:26:33.118Z"
      },
      {
        "duration": 43,
        "start_time": "2022-03-12T19:27:05.097Z"
      },
      {
        "duration": 4,
        "start_time": "2022-03-12T19:36:49.599Z"
      },
      {
        "duration": 6,
        "start_time": "2022-03-12T19:37:12.208Z"
      },
      {
        "duration": 4278,
        "start_time": "2022-03-12T19:40:55.224Z"
      },
      {
        "duration": 4290,
        "start_time": "2022-03-12T19:41:02.044Z"
      },
      {
        "duration": 6,
        "start_time": "2022-03-12T19:41:16.131Z"
      },
      {
        "duration": 6,
        "start_time": "2022-03-12T19:41:26.891Z"
      },
      {
        "duration": 6,
        "start_time": "2022-03-12T19:41:31.268Z"
      },
      {
        "duration": 7,
        "start_time": "2022-03-12T19:42:14.052Z"
      },
      {
        "duration": 21,
        "start_time": "2022-03-12T20:15:08.467Z"
      },
      {
        "duration": 8,
        "start_time": "2022-03-12T20:15:39.827Z"
      },
      {
        "duration": 602,
        "start_time": "2022-03-13T10:03:56.395Z"
      },
      {
        "duration": 107,
        "start_time": "2022-03-13T10:03:56.998Z"
      },
      {
        "duration": 67,
        "start_time": "2022-03-13T10:03:57.108Z"
      },
      {
        "duration": -421,
        "start_time": "2022-03-13T10:03:57.598Z"
      },
      {
        "duration": -421,
        "start_time": "2022-03-13T10:03:57.599Z"
      },
      {
        "duration": -422,
        "start_time": "2022-03-13T10:03:57.601Z"
      },
      {
        "duration": 15,
        "start_time": "2022-03-13T10:04:14.105Z"
      },
      {
        "duration": 64,
        "start_time": "2022-03-13T10:04:37.276Z"
      },
      {
        "duration": 103,
        "start_time": "2022-03-13T10:04:37.342Z"
      },
      {
        "duration": 11,
        "start_time": "2022-03-13T10:04:37.447Z"
      },
      {
        "duration": 2,
        "start_time": "2022-03-13T10:04:37.460Z"
      },
      {
        "duration": 57,
        "start_time": "2022-03-13T10:04:37.464Z"
      },
      {
        "duration": -438,
        "start_time": "2022-03-13T10:04:37.960Z"
      },
      {
        "duration": 9,
        "start_time": "2022-03-13T10:04:55.043Z"
      },
      {
        "duration": 10,
        "start_time": "2022-03-13T10:43:12.170Z"
      },
      {
        "duration": 8,
        "start_time": "2022-03-13T10:45:03.326Z"
      },
      {
        "duration": 9,
        "start_time": "2022-03-13T10:45:04.503Z"
      },
      {
        "duration": 8,
        "start_time": "2022-03-13T10:45:06.774Z"
      },
      {
        "duration": 9,
        "start_time": "2022-03-13T10:45:22.847Z"
      },
      {
        "duration": 7,
        "start_time": "2022-03-13T10:48:26.114Z"
      },
      {
        "duration": 15,
        "start_time": "2022-03-13T10:48:33.192Z"
      },
      {
        "duration": 11,
        "start_time": "2022-03-13T10:52:20.701Z"
      },
      {
        "duration": 18,
        "start_time": "2022-03-13T10:52:30.926Z"
      },
      {
        "duration": 596,
        "start_time": "2022-03-13T10:58:10.395Z"
      },
      {
        "duration": 296,
        "start_time": "2022-03-13T11:01:03.890Z"
      },
      {
        "duration": 7,
        "start_time": "2022-03-13T11:01:20.891Z"
      },
      {
        "duration": 537,
        "start_time": "2022-03-13T11:01:36.643Z"
      },
      {
        "duration": 554,
        "start_time": "2022-03-13T11:29:52.156Z"
      },
      {
        "duration": 755,
        "start_time": "2022-03-13T11:30:09.253Z"
      },
      {
        "duration": 62,
        "start_time": "2022-03-13T11:30:39.312Z"
      },
      {
        "duration": 121,
        "start_time": "2022-03-13T11:30:39.375Z"
      },
      {
        "duration": 7,
        "start_time": "2022-03-13T11:30:39.499Z"
      },
      {
        "duration": 172,
        "start_time": "2022-03-13T11:30:39.507Z"
      },
      {
        "duration": -891,
        "start_time": "2022-03-13T11:30:40.572Z"
      },
      {
        "duration": 641,
        "start_time": "2022-03-13T11:30:51.932Z"
      },
      {
        "duration": -402,
        "start_time": "2022-03-13T11:30:52.977Z"
      },
      {
        "duration": -402,
        "start_time": "2022-03-13T11:30:52.979Z"
      },
      {
        "duration": -409,
        "start_time": "2022-03-13T11:30:52.987Z"
      },
      {
        "duration": -410,
        "start_time": "2022-03-13T11:30:52.988Z"
      },
      {
        "duration": 194,
        "start_time": "2022-03-13T11:32:03.613Z"
      },
      {
        "duration": 183,
        "start_time": "2022-03-13T11:33:17.399Z"
      },
      {
        "duration": 173,
        "start_time": "2022-03-13T11:33:28.808Z"
      },
      {
        "duration": 189,
        "start_time": "2022-03-13T11:35:03.111Z"
      },
      {
        "duration": 814,
        "start_time": "2022-03-13T11:35:10.553Z"
      },
      {
        "duration": 7,
        "start_time": "2022-03-13T11:35:23.748Z"
      },
      {
        "duration": 67,
        "start_time": "2022-03-13T12:24:00.281Z"
      },
      {
        "duration": 67,
        "start_time": "2022-03-13T12:24:15.912Z"
      },
      {
        "duration": 8,
        "start_time": "2022-03-13T12:24:30.384Z"
      },
      {
        "duration": 8,
        "start_time": "2022-03-13T12:24:42.729Z"
      },
      {
        "duration": 12,
        "start_time": "2022-03-13T12:42:54.962Z"
      },
      {
        "duration": 175,
        "start_time": "2022-03-13T12:59:49.426Z"
      },
      {
        "duration": 10,
        "start_time": "2022-03-13T13:00:18.517Z"
      },
      {
        "duration": 13,
        "start_time": "2022-03-13T13:00:21.544Z"
      },
      {
        "duration": 38,
        "start_time": "2022-03-13T13:04:35.960Z"
      },
      {
        "duration": 9,
        "start_time": "2022-03-13T13:06:22.905Z"
      },
      {
        "duration": 8,
        "start_time": "2022-03-13T13:06:35.401Z"
      },
      {
        "duration": 8,
        "start_time": "2022-03-13T13:18:12.940Z"
      },
      {
        "duration": 8,
        "start_time": "2022-03-13T13:18:17.009Z"
      },
      {
        "duration": 58,
        "start_time": "2022-03-13T13:18:33.815Z"
      },
      {
        "duration": 109,
        "start_time": "2022-03-13T13:18:33.875Z"
      },
      {
        "duration": 7,
        "start_time": "2022-03-13T13:18:33.986Z"
      },
      {
        "duration": 4,
        "start_time": "2022-03-13T13:18:33.995Z"
      },
      {
        "duration": 6,
        "start_time": "2022-03-13T13:18:34.001Z"
      },
      {
        "duration": 32,
        "start_time": "2022-03-13T13:18:34.008Z"
      },
      {
        "duration": 3,
        "start_time": "2022-03-13T13:18:34.042Z"
      },
      {
        "duration": 10,
        "start_time": "2022-03-13T13:18:34.047Z"
      },
      {
        "duration": 4373,
        "start_time": "2022-03-13T13:18:34.059Z"
      },
      {
        "duration": 58,
        "start_time": "2022-03-13T13:18:38.435Z"
      },
      {
        "duration": -233,
        "start_time": "2022-03-13T13:18:38.729Z"
      },
      {
        "duration": -235,
        "start_time": "2022-03-13T13:18:38.732Z"
      },
      {
        "duration": 3258,
        "start_time": "2022-03-13T13:19:11.407Z"
      },
      {
        "duration": 3553,
        "start_time": "2022-03-13T13:20:38.160Z"
      },
      {
        "duration": 5637,
        "start_time": "2022-03-13T13:23:35.475Z"
      },
      {
        "duration": 5,
        "start_time": "2022-03-13T13:29:52.007Z"
      },
      {
        "duration": 71,
        "start_time": "2022-03-13T13:30:09.067Z"
      },
      {
        "duration": 115,
        "start_time": "2022-03-13T13:30:09.141Z"
      },
      {
        "duration": 9,
        "start_time": "2022-03-13T13:30:09.258Z"
      },
      {
        "duration": 8,
        "start_time": "2022-03-13T13:30:09.269Z"
      },
      {
        "duration": 13,
        "start_time": "2022-03-13T13:30:09.279Z"
      },
      {
        "duration": 17,
        "start_time": "2022-03-13T13:30:09.294Z"
      },
      {
        "duration": 3,
        "start_time": "2022-03-13T13:30:09.313Z"
      },
      {
        "duration": 29,
        "start_time": "2022-03-13T13:30:09.333Z"
      },
      {
        "duration": 3,
        "start_time": "2022-03-13T13:30:09.364Z"
      },
      {
        "duration": 11,
        "start_time": "2022-03-13T13:30:09.369Z"
      },
      {
        "duration": 173,
        "start_time": "2022-03-13T13:38:56.306Z"
      },
      {
        "duration": 4,
        "start_time": "2022-03-13T13:44:04.190Z"
      },
      {
        "duration": 35,
        "start_time": "2022-03-13T13:44:34.064Z"
      },
      {
        "duration": 216,
        "start_time": "2022-03-13T13:44:40.999Z"
      },
      {
        "duration": 253,
        "start_time": "2022-03-13T13:49:04.854Z"
      },
      {
        "duration": 39,
        "start_time": "2022-03-13T13:49:19.220Z"
      },
      {
        "duration": 38,
        "start_time": "2022-03-13T13:49:36.963Z"
      },
      {
        "duration": 50,
        "start_time": "2022-03-13T13:57:54.180Z"
      },
      {
        "duration": 4370,
        "start_time": "2022-03-13T14:00:22.785Z"
      },
      {
        "duration": 6,
        "start_time": "2022-03-13T14:00:38.421Z"
      },
      {
        "duration": 37,
        "start_time": "2022-03-13T14:06:13.079Z"
      },
      {
        "duration": 228,
        "start_time": "2022-03-13T16:27:18.061Z"
      },
      {
        "duration": 672,
        "start_time": "2022-03-13T16:27:25.043Z"
      },
      {
        "duration": 102,
        "start_time": "2022-03-13T16:27:25.717Z"
      },
      {
        "duration": 7,
        "start_time": "2022-03-13T16:27:25.821Z"
      },
      {
        "duration": 5,
        "start_time": "2022-03-13T16:27:25.830Z"
      },
      {
        "duration": 26,
        "start_time": "2022-03-13T16:27:25.836Z"
      },
      {
        "duration": 9,
        "start_time": "2022-03-13T16:27:25.863Z"
      },
      {
        "duration": 6,
        "start_time": "2022-03-13T16:27:25.874Z"
      },
      {
        "duration": 29,
        "start_time": "2022-03-13T16:27:25.881Z"
      },
      {
        "duration": 2,
        "start_time": "2022-03-13T16:27:25.913Z"
      },
      {
        "duration": 5,
        "start_time": "2022-03-13T16:27:25.917Z"
      },
      {
        "duration": 93,
        "start_time": "2022-03-13T16:27:25.923Z"
      },
      {
        "duration": 6,
        "start_time": "2022-03-13T16:27:26.018Z"
      },
      {
        "duration": 205,
        "start_time": "2022-03-13T16:27:26.026Z"
      },
      {
        "duration": 193,
        "start_time": "2022-03-13T16:27:45.287Z"
      },
      {
        "duration": 48,
        "start_time": "2022-03-13T16:28:08.015Z"
      },
      {
        "duration": 47,
        "start_time": "2022-03-13T16:29:25.062Z"
      },
      {
        "duration": 201,
        "start_time": "2022-03-13T16:30:03.825Z"
      },
      {
        "duration": 73,
        "start_time": "2022-03-13T16:30:08.617Z"
      },
      {
        "duration": 8,
        "start_time": "2022-03-13T17:57:40.784Z"
      },
      {
        "duration": 13,
        "start_time": "2022-03-13T18:00:02.096Z"
      },
      {
        "duration": 13,
        "start_time": "2022-03-13T18:01:34.475Z"
      },
      {
        "duration": 12,
        "start_time": "2022-03-13T18:01:41.003Z"
      },
      {
        "duration": 15,
        "start_time": "2022-03-13T18:01:47.173Z"
      },
      {
        "duration": 12,
        "start_time": "2022-03-13T18:01:51.988Z"
      },
      {
        "duration": 8,
        "start_time": "2022-03-13T18:01:56.625Z"
      },
      {
        "duration": 8,
        "start_time": "2022-03-13T18:02:00.565Z"
      },
      {
        "duration": 14,
        "start_time": "2022-03-13T18:03:24.044Z"
      },
      {
        "duration": 12,
        "start_time": "2022-03-13T18:03:35.332Z"
      },
      {
        "duration": 335,
        "start_time": "2022-03-13T18:06:12.797Z"
      },
      {
        "duration": 23,
        "start_time": "2022-03-13T18:06:29.289Z"
      },
      {
        "duration": 32,
        "start_time": "2022-03-13T18:06:51.745Z"
      },
      {
        "duration": 177,
        "start_time": "2022-03-13T18:33:38.234Z"
      },
      {
        "duration": 521,
        "start_time": "2022-03-13T18:33:45.634Z"
      },
      {
        "duration": 1755,
        "start_time": "2022-03-13T18:35:38.024Z"
      },
      {
        "duration": 10848,
        "start_time": "2022-03-13T18:35:39.782Z"
      },
      {
        "duration": 30,
        "start_time": "2022-03-13T18:35:50.632Z"
      },
      {
        "duration": 5,
        "start_time": "2022-03-13T18:35:50.664Z"
      },
      {
        "duration": 12,
        "start_time": "2022-03-13T18:35:50.671Z"
      },
      {
        "duration": 12,
        "start_time": "2022-03-13T18:35:50.685Z"
      },
      {
        "duration": 3,
        "start_time": "2022-03-13T18:35:50.760Z"
      },
      {
        "duration": 28,
        "start_time": "2022-03-13T18:35:50.766Z"
      },
      {
        "duration": 3,
        "start_time": "2022-03-13T18:35:50.797Z"
      },
      {
        "duration": 59,
        "start_time": "2022-03-13T18:35:50.801Z"
      },
      {
        "duration": 131,
        "start_time": "2022-03-13T18:35:50.862Z"
      },
      {
        "duration": 70,
        "start_time": "2022-03-13T18:35:50.995Z"
      },
      {
        "duration": 20,
        "start_time": "2022-03-13T18:35:51.068Z"
      },
      {
        "duration": 4,
        "start_time": "2022-03-13T18:35:51.091Z"
      },
      {
        "duration": 11333,
        "start_time": "2022-03-13T18:35:51.097Z"
      },
      {
        "duration": 787,
        "start_time": "2022-03-13T18:36:02.432Z"
      },
      {
        "duration": 10650,
        "start_time": "2022-03-13T18:37:23.058Z"
      },
      {
        "duration": 10790,
        "start_time": "2022-03-13T18:37:39.694Z"
      },
      {
        "duration": 1719,
        "start_time": "2022-03-13T18:42:30.442Z"
      },
      {
        "duration": 10462,
        "start_time": "2022-03-13T18:42:32.163Z"
      },
      {
        "duration": 36,
        "start_time": "2022-03-13T18:42:42.628Z"
      },
      {
        "duration": 4,
        "start_time": "2022-03-13T18:42:42.666Z"
      },
      {
        "duration": 13,
        "start_time": "2022-03-13T18:42:42.672Z"
      },
      {
        "duration": 12,
        "start_time": "2022-03-13T18:42:42.687Z"
      },
      {
        "duration": 4,
        "start_time": "2022-03-13T18:42:42.700Z"
      },
      {
        "duration": 39,
        "start_time": "2022-03-13T18:42:42.761Z"
      },
      {
        "duration": 2,
        "start_time": "2022-03-13T18:42:42.803Z"
      },
      {
        "duration": 2,
        "start_time": "2022-03-13T18:42:42.860Z"
      },
      {
        "duration": 132,
        "start_time": "2022-03-13T18:42:42.864Z"
      },
      {
        "duration": 70,
        "start_time": "2022-03-13T18:42:42.997Z"
      },
      {
        "duration": 22,
        "start_time": "2022-03-13T18:42:43.069Z"
      },
      {
        "duration": 5,
        "start_time": "2022-03-13T18:42:43.093Z"
      },
      {
        "duration": 10990,
        "start_time": "2022-03-13T18:42:43.100Z"
      },
      {
        "duration": 11350,
        "start_time": "2022-03-13T18:42:54.092Z"
      },
      {
        "duration": 12,
        "start_time": "2022-03-13T18:48:04.532Z"
      },
      {
        "duration": 62,
        "start_time": "2022-03-13T18:48:37.356Z"
      },
      {
        "duration": 105,
        "start_time": "2022-03-13T18:48:38.437Z"
      },
      {
        "duration": 17,
        "start_time": "2022-03-13T18:48:38.544Z"
      },
      {
        "duration": 11,
        "start_time": "2022-03-13T18:48:38.563Z"
      },
      {
        "duration": 6,
        "start_time": "2022-03-13T18:48:38.594Z"
      },
      {
        "duration": 12,
        "start_time": "2022-03-13T18:48:38.646Z"
      },
      {
        "duration": 4,
        "start_time": "2022-03-13T18:48:38.698Z"
      },
      {
        "duration": 29,
        "start_time": "2022-03-13T18:48:38.750Z"
      },
      {
        "duration": 2,
        "start_time": "2022-03-13T18:48:38.802Z"
      },
      {
        "duration": 865,
        "start_time": "2022-03-13T18:48:38.875Z"
      },
      {
        "duration": -1942,
        "start_time": "2022-03-13T18:48:41.684Z"
      },
      {
        "duration": -1944,
        "start_time": "2022-03-13T18:48:41.686Z"
      },
      {
        "duration": -1944,
        "start_time": "2022-03-13T18:48:41.687Z"
      },
      {
        "duration": -1943,
        "start_time": "2022-03-13T18:48:41.688Z"
      },
      {
        "duration": 51,
        "start_time": "2022-03-13T18:48:40.094Z"
      },
      {
        "duration": 571,
        "start_time": "2022-03-13T18:48:40.976Z"
      },
      {
        "duration": 2,
        "start_time": "2022-03-13T18:49:36.618Z"
      },
      {
        "duration": 58,
        "start_time": "2022-03-13T18:49:38.453Z"
      },
      {
        "duration": 84,
        "start_time": "2022-03-13T18:50:28.098Z"
      },
      {
        "duration": 109,
        "start_time": "2022-03-13T18:50:28.184Z"
      },
      {
        "duration": 12,
        "start_time": "2022-03-13T18:50:28.295Z"
      },
      {
        "duration": 4,
        "start_time": "2022-03-13T18:50:28.309Z"
      },
      {
        "duration": 8,
        "start_time": "2022-03-13T18:50:28.315Z"
      },
      {
        "duration": 41,
        "start_time": "2022-03-13T18:50:28.324Z"
      },
      {
        "duration": 3,
        "start_time": "2022-03-13T18:50:28.367Z"
      },
      {
        "duration": 31,
        "start_time": "2022-03-13T18:50:28.372Z"
      },
      {
        "duration": 2,
        "start_time": "2022-03-13T18:50:28.405Z"
      },
      {
        "duration": 4,
        "start_time": "2022-03-13T18:50:28.409Z"
      },
      {
        "duration": 90,
        "start_time": "2022-03-13T18:50:28.416Z"
      },
      {
        "duration": 11,
        "start_time": "2022-03-13T18:50:28.508Z"
      },
      {
        "duration": 58,
        "start_time": "2022-03-13T18:50:28.521Z"
      },
      {
        "duration": 4,
        "start_time": "2022-03-13T18:50:28.581Z"
      },
      {
        "duration": 73,
        "start_time": "2022-03-13T18:50:28.587Z"
      },
      {
        "duration": 550,
        "start_time": "2022-03-13T18:50:28.662Z"
      },
      {
        "duration": 698,
        "start_time": "2022-03-14T17:35:38.280Z"
      },
      {
        "duration": 710,
        "start_time": "2022-03-14T17:36:02.829Z"
      },
      {
        "duration": 638,
        "start_time": "2022-03-14T17:36:03.541Z"
      },
      {
        "duration": 923,
        "start_time": "2022-03-14T17:36:04.181Z"
      },
      {
        "duration": 1290,
        "start_time": "2022-03-14T17:36:05.106Z"
      },
      {
        "duration": 901,
        "start_time": "2022-03-14T17:36:06.397Z"
      },
      {
        "duration": 490,
        "start_time": "2022-03-14T17:36:07.299Z"
      },
      {
        "duration": 290,
        "start_time": "2022-03-14T17:36:07.791Z"
      },
      {
        "duration": 404,
        "start_time": "2022-03-14T17:36:08.084Z"
      },
      {
        "duration": 504,
        "start_time": "2022-03-14T17:36:08.490Z"
      },
      {
        "duration": 292,
        "start_time": "2022-03-14T17:36:08.996Z"
      },
      {
        "duration": 282,
        "start_time": "2022-03-14T17:36:09.289Z"
      },
      {
        "duration": 601,
        "start_time": "2022-03-14T17:36:09.573Z"
      },
      {
        "duration": 312,
        "start_time": "2022-03-14T17:36:10.176Z"
      },
      {
        "duration": 553,
        "start_time": "2022-03-14T17:36:10.489Z"
      },
      {
        "duration": 417,
        "start_time": "2022-03-14T17:36:11.044Z"
      },
      {
        "duration": 957,
        "start_time": "2022-03-14T17:36:11.462Z"
      },
      {
        "duration": 860,
        "start_time": "2022-03-14T17:36:12.421Z"
      },
      {
        "duration": 32,
        "start_time": "2022-03-14T17:36:35.242Z"
      },
      {
        "duration": 35,
        "start_time": "2022-03-14T17:37:47.183Z"
      },
      {
        "duration": 32,
        "start_time": "2022-03-14T17:38:59.228Z"
      },
      {
        "duration": 38,
        "start_time": "2022-03-14T17:40:01.599Z"
      },
      {
        "duration": 48,
        "start_time": "2022-03-14T17:40:23.285Z"
      },
      {
        "duration": 32,
        "start_time": "2022-03-14T17:40:34.109Z"
      },
      {
        "duration": 34,
        "start_time": "2022-03-14T17:41:35.349Z"
      },
      {
        "duration": 39,
        "start_time": "2022-03-14T17:41:56.154Z"
      },
      {
        "duration": 45,
        "start_time": "2022-03-14T17:42:28.093Z"
      },
      {
        "duration": 52,
        "start_time": "2022-03-14T17:42:39.877Z"
      },
      {
        "duration": 41,
        "start_time": "2022-03-14T17:43:14.192Z"
      },
      {
        "duration": 69,
        "start_time": "2022-03-14T17:43:20.955Z"
      },
      {
        "duration": 680,
        "start_time": "2022-03-14T17:43:21.025Z"
      },
      {
        "duration": 497,
        "start_time": "2022-03-14T17:43:21.707Z"
      },
      {
        "duration": 1310,
        "start_time": "2022-03-14T17:43:22.206Z"
      },
      {
        "duration": 1314,
        "start_time": "2022-03-14T17:43:23.518Z"
      },
      {
        "duration": 581,
        "start_time": "2022-03-14T17:43:24.834Z"
      },
      {
        "duration": 810,
        "start_time": "2022-03-14T17:43:25.417Z"
      },
      {
        "duration": 538,
        "start_time": "2022-03-14T17:43:26.230Z"
      },
      {
        "duration": 754,
        "start_time": "2022-03-14T17:43:26.770Z"
      },
      {
        "duration": 779,
        "start_time": "2022-03-14T17:43:27.526Z"
      },
      {
        "duration": 305,
        "start_time": "2022-03-14T17:43:28.306Z"
      },
      {
        "duration": 161,
        "start_time": "2022-03-14T17:43:28.612Z"
      },
      {
        "duration": 268,
        "start_time": "2022-03-14T17:43:28.774Z"
      },
      {
        "duration": 103,
        "start_time": "2022-03-14T17:43:29.044Z"
      },
      {
        "duration": 380,
        "start_time": "2022-03-14T17:43:29.149Z"
      },
      {
        "duration": 224,
        "start_time": "2022-03-14T17:43:29.530Z"
      },
      {
        "duration": 482,
        "start_time": "2022-03-14T17:43:29.755Z"
      },
      {
        "duration": 1101,
        "start_time": "2022-03-14T17:43:30.238Z"
      },
      {
        "duration": 41,
        "start_time": "2022-03-14T17:44:09.647Z"
      },
      {
        "duration": 38,
        "start_time": "2022-03-14T17:45:21.421Z"
      },
      {
        "duration": 38,
        "start_time": "2022-03-14T17:45:34.221Z"
      },
      {
        "duration": 31,
        "start_time": "2022-03-14T17:46:42.163Z"
      },
      {
        "duration": 63,
        "start_time": "2022-03-14T17:46:55.958Z"
      },
      {
        "duration": 559,
        "start_time": "2022-03-14T17:46:56.023Z"
      },
      {
        "duration": 299,
        "start_time": "2022-03-14T17:46:56.583Z"
      },
      {
        "duration": 201,
        "start_time": "2022-03-14T17:46:56.883Z"
      },
      {
        "duration": 583,
        "start_time": "2022-03-14T17:46:57.086Z"
      },
      {
        "duration": 395,
        "start_time": "2022-03-14T17:46:57.671Z"
      },
      {
        "duration": 760,
        "start_time": "2022-03-14T17:46:58.068Z"
      },
      {
        "duration": 325,
        "start_time": "2022-03-14T17:46:58.830Z"
      },
      {
        "duration": 128,
        "start_time": "2022-03-14T17:46:59.157Z"
      },
      {
        "duration": 241,
        "start_time": "2022-03-14T17:46:59.287Z"
      },
      {
        "duration": 252,
        "start_time": "2022-03-14T17:46:59.529Z"
      },
      {
        "duration": 1198,
        "start_time": "2022-03-14T17:46:59.782Z"
      },
      {
        "duration": 427,
        "start_time": "2022-03-14T17:47:00.982Z"
      },
      {
        "duration": 243,
        "start_time": "2022-03-14T17:47:01.411Z"
      },
      {
        "duration": 354,
        "start_time": "2022-03-14T17:47:01.655Z"
      },
      {
        "duration": 459,
        "start_time": "2022-03-14T17:47:02.011Z"
      },
      {
        "duration": 451,
        "start_time": "2022-03-14T17:47:02.472Z"
      },
      {
        "duration": 1482,
        "start_time": "2022-03-14T17:47:02.925Z"
      },
      {
        "duration": 40,
        "start_time": "2022-03-14T17:47:43.298Z"
      },
      {
        "duration": 315,
        "start_time": "2022-03-14T17:48:22.812Z"
      },
      {
        "duration": 40,
        "start_time": "2022-03-14T17:52:13.110Z"
      },
      {
        "duration": 42,
        "start_time": "2022-03-14T17:55:35.965Z"
      },
      {
        "duration": 36,
        "start_time": "2022-03-14T17:55:47.903Z"
      },
      {
        "duration": 60,
        "start_time": "2022-03-14T17:55:59.854Z"
      },
      {
        "duration": 90,
        "start_time": "2022-03-14T17:55:59.915Z"
      },
      {
        "duration": 8,
        "start_time": "2022-03-14T17:56:00.008Z"
      },
      {
        "duration": 12,
        "start_time": "2022-03-14T17:56:00.018Z"
      },
      {
        "duration": 7,
        "start_time": "2022-03-14T17:56:00.032Z"
      },
      {
        "duration": 9,
        "start_time": "2022-03-14T17:56:00.041Z"
      },
      {
        "duration": 8,
        "start_time": "2022-03-14T17:56:00.052Z"
      },
      {
        "duration": 50,
        "start_time": "2022-03-14T17:56:00.062Z"
      },
      {
        "duration": 2,
        "start_time": "2022-03-14T17:56:00.114Z"
      },
      {
        "duration": 47,
        "start_time": "2022-03-14T17:56:00.118Z"
      },
      {
        "duration": 45,
        "start_time": "2022-03-14T17:56:00.167Z"
      },
      {
        "duration": 2,
        "start_time": "2022-03-14T17:56:00.213Z"
      },
      {
        "duration": 49,
        "start_time": "2022-03-14T17:56:00.217Z"
      },
      {
        "duration": 23,
        "start_time": "2022-03-14T17:56:00.267Z"
      },
      {
        "duration": 21,
        "start_time": "2022-03-14T17:56:00.291Z"
      },
      {
        "duration": 8,
        "start_time": "2022-03-14T17:56:00.314Z"
      },
      {
        "duration": 45,
        "start_time": "2022-03-14T17:56:00.323Z"
      },
      {
        "duration": 492,
        "start_time": "2022-03-14T17:56:00.381Z"
      },
      {
        "duration": 3,
        "start_time": "2022-03-14T18:01:52.918Z"
      },
      {
        "duration": 44,
        "start_time": "2022-03-14T18:03:43.116Z"
      },
      {
        "duration": 46,
        "start_time": "2022-03-14T18:04:20.436Z"
      },
      {
        "duration": 9,
        "start_time": "2022-03-14T18:09:03.840Z"
      },
      {
        "duration": 36,
        "start_time": "2022-03-14T18:09:19.077Z"
      },
      {
        "duration": 10,
        "start_time": "2022-03-14T18:14:14.383Z"
      },
      {
        "duration": 45,
        "start_time": "2022-03-14T18:15:38.280Z"
      },
      {
        "duration": 34,
        "start_time": "2022-03-14T18:22:26.281Z"
      },
      {
        "duration": 33,
        "start_time": "2022-03-14T18:24:13.266Z"
      },
      {
        "duration": 286,
        "start_time": "2022-03-15T07:11:59.923Z"
      },
      {
        "duration": 688,
        "start_time": "2022-03-15T07:12:10.426Z"
      },
      {
        "duration": 131,
        "start_time": "2022-03-15T07:12:11.116Z"
      },
      {
        "duration": 9,
        "start_time": "2022-03-15T07:12:11.249Z"
      },
      {
        "duration": 7,
        "start_time": "2022-03-15T07:12:11.260Z"
      },
      {
        "duration": 12,
        "start_time": "2022-03-15T07:12:11.269Z"
      },
      {
        "duration": 10,
        "start_time": "2022-03-15T07:12:11.301Z"
      },
      {
        "duration": 9,
        "start_time": "2022-03-15T07:12:11.313Z"
      },
      {
        "duration": 40,
        "start_time": "2022-03-15T07:12:11.326Z"
      },
      {
        "duration": 3,
        "start_time": "2022-03-15T07:12:11.369Z"
      },
      {
        "duration": 6317,
        "start_time": "2022-03-15T07:12:11.374Z"
      },
      {
        "duration": 3311,
        "start_time": "2022-03-15T07:12:14.382Z"
      },
      {
        "duration": 3310,
        "start_time": "2022-03-15T07:12:14.384Z"
      },
      {
        "duration": 3310,
        "start_time": "2022-03-15T07:12:14.385Z"
      },
      {
        "duration": 3310,
        "start_time": "2022-03-15T07:12:14.386Z"
      },
      {
        "duration": 3309,
        "start_time": "2022-03-15T07:12:14.388Z"
      },
      {
        "duration": 3307,
        "start_time": "2022-03-15T07:12:14.391Z"
      },
      {
        "duration": 3305,
        "start_time": "2022-03-15T07:12:14.393Z"
      },
      {
        "duration": 3305,
        "start_time": "2022-03-15T07:12:14.394Z"
      },
      {
        "duration": 72,
        "start_time": "2022-03-15T07:15:10.367Z"
      },
      {
        "duration": 134,
        "start_time": "2022-03-15T07:15:10.442Z"
      },
      {
        "duration": 26,
        "start_time": "2022-03-15T07:15:10.579Z"
      },
      {
        "duration": 5,
        "start_time": "2022-03-15T07:15:10.607Z"
      },
      {
        "duration": 19,
        "start_time": "2022-03-15T07:15:10.613Z"
      },
      {
        "duration": 17,
        "start_time": "2022-03-15T07:15:10.634Z"
      },
      {
        "duration": 3,
        "start_time": "2022-03-15T07:15:10.654Z"
      },
      {
        "duration": 42,
        "start_time": "2022-03-15T07:15:10.660Z"
      },
      {
        "duration": 3,
        "start_time": "2022-03-15T07:15:10.704Z"
      },
      {
        "duration": 71,
        "start_time": "2022-03-15T07:15:10.708Z"
      },
      {
        "duration": 19,
        "start_time": "2022-03-15T07:15:10.781Z"
      },
      {
        "duration": 23,
        "start_time": "2022-03-15T07:15:10.802Z"
      },
      {
        "duration": 12,
        "start_time": "2022-03-15T07:15:10.828Z"
      },
      {
        "duration": 69,
        "start_time": "2022-03-15T07:15:10.842Z"
      },
      {
        "duration": 573,
        "start_time": "2022-03-15T07:15:10.913Z"
      },
      {
        "duration": 51,
        "start_time": "2022-03-15T07:15:11.487Z"
      },
      {
        "duration": 81,
        "start_time": "2022-03-15T07:15:11.540Z"
      },
      {
        "duration": 300,
        "start_time": "2022-03-15T07:15:11.623Z"
      },
      {
        "duration": 273,
        "start_time": "2022-03-15T07:16:10.137Z"
      },
      {
        "duration": 216,
        "start_time": "2022-03-15T07:16:49.415Z"
      },
      {
        "duration": 253,
        "start_time": "2022-03-15T07:17:03.462Z"
      },
      {
        "duration": 470,
        "start_time": "2022-03-15T07:22:58.859Z"
      },
      {
        "duration": 246,
        "start_time": "2022-03-15T07:25:20.938Z"
      },
      {
        "duration": 244,
        "start_time": "2022-03-15T07:25:23.228Z"
      },
      {
        "duration": 249,
        "start_time": "2022-03-15T07:25:40.288Z"
      },
      {
        "duration": 198,
        "start_time": "2022-03-15T07:25:48.540Z"
      },
      {
        "duration": 181,
        "start_time": "2022-03-15T07:26:37.470Z"
      },
      {
        "duration": 317,
        "start_time": "2022-03-15T07:26:44.526Z"
      },
      {
        "duration": 261,
        "start_time": "2022-03-15T07:26:47.097Z"
      },
      {
        "duration": 250,
        "start_time": "2022-03-15T07:34:34.090Z"
      },
      {
        "duration": 247,
        "start_time": "2022-03-15T07:34:51.879Z"
      },
      {
        "duration": 261,
        "start_time": "2022-03-15T07:35:01.429Z"
      },
      {
        "duration": 253,
        "start_time": "2022-03-15T07:35:07.175Z"
      },
      {
        "duration": 181,
        "start_time": "2022-03-15T07:35:29.456Z"
      },
      {
        "duration": 179,
        "start_time": "2022-03-15T07:35:35.237Z"
      },
      {
        "duration": 193,
        "start_time": "2022-03-15T07:35:43.650Z"
      },
      {
        "duration": 434,
        "start_time": "2022-03-15T07:37:16.190Z"
      },
      {
        "duration": 195,
        "start_time": "2022-03-15T08:16:24.868Z"
      },
      {
        "duration": 260,
        "start_time": "2022-03-15T08:16:58.874Z"
      },
      {
        "duration": 332,
        "start_time": "2022-03-15T08:17:15.111Z"
      },
      {
        "duration": 343,
        "start_time": "2022-03-15T08:17:23.760Z"
      },
      {
        "duration": 351,
        "start_time": "2022-03-15T08:17:34.937Z"
      },
      {
        "duration": 371,
        "start_time": "2022-03-15T08:17:38.955Z"
      },
      {
        "duration": 379,
        "start_time": "2022-03-15T08:18:07.274Z"
      },
      {
        "duration": 455,
        "start_time": "2022-03-15T08:18:13.936Z"
      },
      {
        "duration": 356,
        "start_time": "2022-03-15T08:18:19.686Z"
      },
      {
        "duration": 357,
        "start_time": "2022-03-15T08:18:26.875Z"
      },
      {
        "duration": 347,
        "start_time": "2022-03-15T08:18:32.849Z"
      },
      {
        "duration": 342,
        "start_time": "2022-03-15T08:18:37.863Z"
      },
      {
        "duration": 480,
        "start_time": "2022-03-15T08:18:44.075Z"
      },
      {
        "duration": 346,
        "start_time": "2022-03-15T08:18:57.117Z"
      },
      {
        "duration": 351,
        "start_time": "2022-03-15T08:19:18.638Z"
      },
      {
        "duration": 273,
        "start_time": "2022-03-15T08:19:29.582Z"
      },
      {
        "duration": 520,
        "start_time": "2022-03-15T08:19:35.198Z"
      },
      {
        "duration": 315,
        "start_time": "2022-03-15T08:19:40.448Z"
      },
      {
        "duration": 284,
        "start_time": "2022-03-15T08:19:46.230Z"
      },
      {
        "duration": 539,
        "start_time": "2022-03-15T08:19:50.612Z"
      },
      {
        "duration": 301,
        "start_time": "2022-03-15T08:19:59.345Z"
      },
      {
        "duration": 2092,
        "start_time": "2022-03-15T08:20:04.462Z"
      },
      {
        "duration": 1026,
        "start_time": "2022-03-15T08:20:12.811Z"
      },
      {
        "duration": 799,
        "start_time": "2022-03-15T08:20:20.136Z"
      },
      {
        "duration": 256,
        "start_time": "2022-03-15T10:32:24.527Z"
      },
      {
        "duration": 267,
        "start_time": "2022-03-15T10:32:34.495Z"
      },
      {
        "duration": 353,
        "start_time": "2022-03-15T10:32:42.566Z"
      },
      {
        "duration": 278,
        "start_time": "2022-03-15T10:33:17.800Z"
      },
      {
        "duration": 242,
        "start_time": "2022-03-15T10:33:35.379Z"
      },
      {
        "duration": 235,
        "start_time": "2022-03-15T10:33:46.208Z"
      },
      {
        "duration": 245,
        "start_time": "2022-03-15T10:33:50.736Z"
      },
      {
        "duration": 279,
        "start_time": "2022-03-15T10:33:57.402Z"
      },
      {
        "duration": 238,
        "start_time": "2022-03-15T10:34:19.577Z"
      },
      {
        "duration": 255,
        "start_time": "2022-03-15T10:34:31.786Z"
      },
      {
        "duration": 247,
        "start_time": "2022-03-15T10:34:49.900Z"
      },
      {
        "duration": 250,
        "start_time": "2022-03-15T10:35:02.353Z"
      },
      {
        "duration": 82,
        "start_time": "2022-03-15T10:35:39.358Z"
      },
      {
        "duration": 260,
        "start_time": "2022-03-15T10:35:50.244Z"
      },
      {
        "duration": 515,
        "start_time": "2022-03-15T10:36:07.391Z"
      },
      {
        "duration": 363,
        "start_time": "2022-03-15T10:36:18.023Z"
      },
      {
        "duration": 270,
        "start_time": "2022-03-15T10:36:22.267Z"
      },
      {
        "duration": 267,
        "start_time": "2022-03-15T10:36:31.837Z"
      },
      {
        "duration": 362,
        "start_time": "2022-03-15T10:37:36.813Z"
      },
      {
        "duration": 264,
        "start_time": "2022-03-15T10:37:51.357Z"
      },
      {
        "duration": 282,
        "start_time": "2022-03-15T10:39:54.122Z"
      },
      {
        "duration": 270,
        "start_time": "2022-03-15T10:40:11.263Z"
      },
      {
        "duration": 283,
        "start_time": "2022-03-15T10:40:56.694Z"
      },
      {
        "duration": 275,
        "start_time": "2022-03-15T10:41:06.505Z"
      },
      {
        "duration": 274,
        "start_time": "2022-03-15T10:41:16.323Z"
      },
      {
        "duration": 266,
        "start_time": "2022-03-15T10:41:28.378Z"
      },
      {
        "duration": 281,
        "start_time": "2022-03-15T10:41:38.873Z"
      },
      {
        "duration": 6298,
        "start_time": "2022-03-15T10:46:08.474Z"
      },
      {
        "duration": 8233,
        "start_time": "2022-03-15T10:46:31.510Z"
      },
      {
        "duration": 6566,
        "start_time": "2022-03-15T10:48:24.621Z"
      },
      {
        "duration": 7854,
        "start_time": "2022-03-15T10:48:46.882Z"
      },
      {
        "duration": 280,
        "start_time": "2022-03-15T10:49:18.439Z"
      },
      {
        "duration": 272,
        "start_time": "2022-03-15T10:49:27.921Z"
      },
      {
        "duration": 274,
        "start_time": "2022-03-15T10:49:35.383Z"
      },
      {
        "duration": 662,
        "start_time": "2022-03-15T10:51:41.552Z"
      },
      {
        "duration": 685,
        "start_time": "2022-03-15T10:52:46.323Z"
      },
      {
        "duration": 617,
        "start_time": "2022-03-15T10:55:10.373Z"
      },
      {
        "duration": 4702,
        "start_time": "2022-03-15T10:56:52.913Z"
      },
      {
        "duration": 102,
        "start_time": "2022-03-15T10:58:00.314Z"
      },
      {
        "duration": 4827,
        "start_time": "2022-03-15T10:58:07.484Z"
      },
      {
        "duration": 93,
        "start_time": "2022-03-15T10:58:33.936Z"
      },
      {
        "duration": 4816,
        "start_time": "2022-03-15T10:58:40.914Z"
      },
      {
        "duration": 86,
        "start_time": "2022-03-15T10:58:59.583Z"
      },
      {
        "duration": 95,
        "start_time": "2022-03-15T10:59:58.733Z"
      },
      {
        "duration": 83,
        "start_time": "2022-03-15T11:00:03.792Z"
      },
      {
        "duration": 497,
        "start_time": "2022-03-15T11:00:06.762Z"
      },
      {
        "duration": 505,
        "start_time": "2022-03-15T11:01:05.883Z"
      },
      {
        "duration": 278,
        "start_time": "2022-03-15T11:04:36.029Z"
      },
      {
        "duration": 497,
        "start_time": "2022-03-15T11:04:49.488Z"
      },
      {
        "duration": 502,
        "start_time": "2022-03-15T11:05:09.030Z"
      },
      {
        "duration": 76,
        "start_time": "2022-03-15T11:05:35.015Z"
      },
      {
        "duration": 127,
        "start_time": "2022-03-15T11:05:35.093Z"
      },
      {
        "duration": 9,
        "start_time": "2022-03-15T11:05:35.223Z"
      },
      {
        "duration": 12,
        "start_time": "2022-03-15T11:05:35.234Z"
      },
      {
        "duration": 8,
        "start_time": "2022-03-15T11:05:35.248Z"
      },
      {
        "duration": 12,
        "start_time": "2022-03-15T11:05:35.258Z"
      },
      {
        "duration": 30,
        "start_time": "2022-03-15T11:05:35.272Z"
      },
      {
        "duration": 36,
        "start_time": "2022-03-15T11:05:35.304Z"
      },
      {
        "duration": 3,
        "start_time": "2022-03-15T11:05:35.344Z"
      },
      {
        "duration": 85,
        "start_time": "2022-03-15T11:05:35.349Z"
      },
      {
        "duration": 13,
        "start_time": "2022-03-15T11:05:35.436Z"
      },
      {
        "duration": 25,
        "start_time": "2022-03-15T11:05:35.450Z"
      },
      {
        "duration": 28,
        "start_time": "2022-03-15T11:05:35.477Z"
      },
      {
        "duration": 69,
        "start_time": "2022-03-15T11:05:35.507Z"
      },
      {
        "duration": 574,
        "start_time": "2022-03-15T11:05:35.578Z"
      },
      {
        "duration": 62,
        "start_time": "2022-03-15T11:05:36.153Z"
      },
      {
        "duration": 63,
        "start_time": "2022-03-15T11:05:36.218Z"
      },
      {
        "duration": 279,
        "start_time": "2022-03-15T11:05:36.282Z"
      },
      {
        "duration": 568,
        "start_time": "2022-03-15T11:05:36.562Z"
      },
      {
        "duration": 290,
        "start_time": "2022-03-15T11:05:37.132Z"
      },
      {
        "duration": 264,
        "start_time": "2022-03-15T11:05:37.424Z"
      },
      {
        "duration": 277,
        "start_time": "2022-03-15T11:06:15.377Z"
      },
      {
        "duration": 266,
        "start_time": "2022-03-15T11:07:40.514Z"
      },
      {
        "duration": 251,
        "start_time": "2022-03-15T11:19:50.658Z"
      },
      {
        "duration": 431,
        "start_time": "2022-03-15T11:19:53.673Z"
      },
      {
        "duration": 5264,
        "start_time": "2022-03-15T11:20:08.309Z"
      },
      {
        "duration": 5017,
        "start_time": "2022-03-15T11:21:08.459Z"
      },
      {
        "duration": 273,
        "start_time": "2022-03-15T11:22:30.473Z"
      },
      {
        "duration": 248,
        "start_time": "2022-03-15T11:22:46.641Z"
      },
      {
        "duration": 979,
        "start_time": "2022-03-15T11:22:53.346Z"
      },
      {
        "duration": 518,
        "start_time": "2022-03-15T11:23:11.124Z"
      },
      {
        "duration": 287,
        "start_time": "2022-03-15T11:23:16.851Z"
      },
      {
        "duration": 294,
        "start_time": "2022-03-15T11:28:52.415Z"
      },
      {
        "duration": 6493,
        "start_time": "2022-03-15T11:29:31.977Z"
      },
      {
        "duration": 13162,
        "start_time": "2022-03-15T11:29:55.354Z"
      },
      {
        "duration": 9968,
        "start_time": "2022-03-15T11:31:06.997Z"
      },
      {
        "duration": 287,
        "start_time": "2022-03-15T11:31:27.673Z"
      },
      {
        "duration": 319,
        "start_time": "2022-03-15T11:31:40.217Z"
      },
      {
        "duration": 10260,
        "start_time": "2022-03-15T11:31:46.866Z"
      },
      {
        "duration": 9256,
        "start_time": "2022-03-15T11:32:47.007Z"
      },
      {
        "duration": 548,
        "start_time": "2022-03-15T11:33:03.425Z"
      },
      {
        "duration": 313,
        "start_time": "2022-03-15T11:33:47.645Z"
      },
      {
        "duration": 10627,
        "start_time": "2022-03-15T11:33:51.116Z"
      },
      {
        "duration": 313,
        "start_time": "2022-03-15T11:35:05.030Z"
      },
      {
        "duration": 330,
        "start_time": "2022-03-15T11:35:48.219Z"
      },
      {
        "duration": 91,
        "start_time": "2022-03-15T11:36:13.095Z"
      },
      {
        "duration": 138,
        "start_time": "2022-03-15T11:36:13.188Z"
      },
      {
        "duration": 10,
        "start_time": "2022-03-15T11:36:13.329Z"
      },
      {
        "duration": 22,
        "start_time": "2022-03-15T11:36:13.342Z"
      },
      {
        "duration": 13,
        "start_time": "2022-03-15T11:36:13.366Z"
      },
      {
        "duration": 31,
        "start_time": "2022-03-15T11:36:13.381Z"
      },
      {
        "duration": 32,
        "start_time": "2022-03-15T11:36:13.414Z"
      },
      {
        "duration": 53,
        "start_time": "2022-03-15T11:36:13.448Z"
      },
      {
        "duration": 3,
        "start_time": "2022-03-15T11:36:13.504Z"
      },
      {
        "duration": 84,
        "start_time": "2022-03-15T11:36:13.509Z"
      },
      {
        "duration": 23,
        "start_time": "2022-03-15T11:36:13.595Z"
      },
      {
        "duration": 54,
        "start_time": "2022-03-15T11:36:13.621Z"
      },
      {
        "duration": 13,
        "start_time": "2022-03-15T11:36:13.677Z"
      },
      {
        "duration": 73,
        "start_time": "2022-03-15T11:36:13.692Z"
      },
      {
        "duration": 642,
        "start_time": "2022-03-15T11:36:13.767Z"
      },
      {
        "duration": 68,
        "start_time": "2022-03-15T11:36:14.411Z"
      },
      {
        "duration": 88,
        "start_time": "2022-03-15T11:36:14.482Z"
      },
      {
        "duration": 317,
        "start_time": "2022-03-15T11:36:14.573Z"
      },
      {
        "duration": 686,
        "start_time": "2022-03-15T11:36:14.892Z"
      },
      {
        "duration": 325,
        "start_time": "2022-03-15T11:36:15.580Z"
      },
      {
        "duration": 375,
        "start_time": "2022-03-15T11:36:15.907Z"
      },
      {
        "duration": 323,
        "start_time": "2022-03-15T11:36:16.284Z"
      },
      {
        "duration": 2977,
        "start_time": "2022-03-15T11:36:13.632Z"
      },
      {
        "duration": 110,
        "start_time": "2022-03-15T11:37:56.963Z"
      },
      {
        "duration": 36,
        "start_time": "2022-03-15T11:38:00.370Z"
      },
      {
        "duration": 225,
        "start_time": "2022-03-15T11:38:24.339Z"
      },
      {
        "duration": 75,
        "start_time": "2022-03-15T11:39:34.180Z"
      },
      {
        "duration": 121,
        "start_time": "2022-03-15T11:39:34.257Z"
      },
      {
        "duration": 22,
        "start_time": "2022-03-15T11:39:34.381Z"
      },
      {
        "duration": 7,
        "start_time": "2022-03-15T11:39:34.407Z"
      },
      {
        "duration": 12,
        "start_time": "2022-03-15T11:39:34.416Z"
      },
      {
        "duration": 18,
        "start_time": "2022-03-15T11:39:34.430Z"
      },
      {
        "duration": 4,
        "start_time": "2022-03-15T11:39:34.450Z"
      },
      {
        "duration": 87,
        "start_time": "2022-03-15T11:39:34.456Z"
      },
      {
        "duration": 3,
        "start_time": "2022-03-15T11:39:34.546Z"
      },
      {
        "duration": 80,
        "start_time": "2022-03-15T11:39:34.550Z"
      },
      {
        "duration": 11,
        "start_time": "2022-03-15T11:39:34.632Z"
      },
      {
        "duration": 27,
        "start_time": "2022-03-15T11:39:34.645Z"
      },
      {
        "duration": 10,
        "start_time": "2022-03-15T11:39:34.674Z"
      },
      {
        "duration": 67,
        "start_time": "2022-03-15T11:39:34.686Z"
      },
      {
        "duration": 589,
        "start_time": "2022-03-15T11:39:34.754Z"
      },
      {
        "duration": 44,
        "start_time": "2022-03-15T11:39:35.345Z"
      },
      {
        "duration": 73,
        "start_time": "2022-03-15T11:39:35.402Z"
      },
      {
        "duration": 290,
        "start_time": "2022-03-15T11:39:35.477Z"
      },
      {
        "duration": 577,
        "start_time": "2022-03-15T11:39:35.769Z"
      },
      {
        "duration": 292,
        "start_time": "2022-03-15T11:39:36.349Z"
      },
      {
        "duration": 277,
        "start_time": "2022-03-15T11:39:36.643Z"
      },
      {
        "duration": 40,
        "start_time": "2022-03-15T11:39:36.922Z"
      },
      {
        "duration": 113,
        "start_time": "2022-03-15T11:39:36.964Z"
      },
      {
        "duration": 365,
        "start_time": "2022-03-15T17:32:22.795Z"
      },
      {
        "duration": 685,
        "start_time": "2022-03-15T17:32:32.540Z"
      },
      {
        "duration": 88,
        "start_time": "2022-03-15T17:32:33.227Z"
      },
      {
        "duration": 6,
        "start_time": "2022-03-15T17:32:33.317Z"
      },
      {
        "duration": 5,
        "start_time": "2022-03-15T17:32:33.325Z"
      },
      {
        "duration": 9,
        "start_time": "2022-03-15T17:32:33.331Z"
      },
      {
        "duration": 8,
        "start_time": "2022-03-15T17:32:33.341Z"
      },
      {
        "duration": 2,
        "start_time": "2022-03-15T17:32:33.351Z"
      },
      {
        "duration": 72,
        "start_time": "2022-03-15T17:32:33.355Z"
      },
      {
        "duration": 2,
        "start_time": "2022-03-15T17:32:33.429Z"
      },
      {
        "duration": 59,
        "start_time": "2022-03-15T17:32:33.432Z"
      },
      {
        "duration": 6,
        "start_time": "2022-03-15T17:32:33.492Z"
      },
      {
        "duration": 17,
        "start_time": "2022-03-15T17:32:33.500Z"
      },
      {
        "duration": 4,
        "start_time": "2022-03-15T17:32:33.519Z"
      },
      {
        "duration": 61,
        "start_time": "2022-03-15T17:32:33.524Z"
      },
      {
        "duration": 462,
        "start_time": "2022-03-15T17:32:33.587Z"
      },
      {
        "duration": 46,
        "start_time": "2022-03-15T17:32:34.051Z"
      },
      {
        "duration": 46,
        "start_time": "2022-03-15T17:32:34.099Z"
      },
      {
        "duration": 245,
        "start_time": "2022-03-15T17:32:34.146Z"
      },
      {
        "duration": 457,
        "start_time": "2022-03-15T17:32:34.392Z"
      },
      {
        "duration": 215,
        "start_time": "2022-03-15T17:32:34.851Z"
      },
      {
        "duration": 193,
        "start_time": "2022-03-15T17:32:35.068Z"
      },
      {
        "duration": 162,
        "start_time": "2022-03-15T17:32:56.535Z"
      },
      {
        "duration": 168,
        "start_time": "2022-03-15T17:33:08.702Z"
      },
      {
        "duration": 183,
        "start_time": "2022-03-15T17:33:12.893Z"
      },
      {
        "duration": 177,
        "start_time": "2022-03-15T17:33:23.667Z"
      },
      {
        "duration": 202,
        "start_time": "2022-03-15T17:33:29.562Z"
      },
      {
        "duration": 854,
        "start_time": "2022-03-17T07:15:26.536Z"
      },
      {
        "duration": 113,
        "start_time": "2022-03-17T07:15:27.392Z"
      },
      {
        "duration": 8,
        "start_time": "2022-03-17T07:15:27.507Z"
      },
      {
        "duration": 18,
        "start_time": "2022-03-17T07:15:27.516Z"
      },
      {
        "duration": 6,
        "start_time": "2022-03-17T07:15:27.536Z"
      },
      {
        "duration": 11,
        "start_time": "2022-03-17T07:15:27.544Z"
      },
      {
        "duration": 3,
        "start_time": "2022-03-17T07:15:27.557Z"
      },
      {
        "duration": 81,
        "start_time": "2022-03-17T07:15:27.562Z"
      },
      {
        "duration": 2,
        "start_time": "2022-03-17T07:15:27.645Z"
      },
      {
        "duration": 54,
        "start_time": "2022-03-17T07:15:27.648Z"
      },
      {
        "duration": 8,
        "start_time": "2022-03-17T07:15:27.704Z"
      },
      {
        "duration": 23,
        "start_time": "2022-03-17T07:15:27.733Z"
      },
      {
        "duration": 4,
        "start_time": "2022-03-17T07:15:27.758Z"
      },
      {
        "duration": 55,
        "start_time": "2022-03-17T07:15:27.765Z"
      },
      {
        "duration": 300,
        "start_time": "2022-03-17T07:15:27.833Z"
      },
      {
        "duration": 35,
        "start_time": "2022-03-17T07:15:28.135Z"
      },
      {
        "duration": 62,
        "start_time": "2022-03-17T07:15:28.172Z"
      },
      {
        "duration": 175,
        "start_time": "2022-03-17T07:15:28.235Z"
      },
      {
        "duration": 383,
        "start_time": "2022-03-17T07:15:28.411Z"
      },
      {
        "duration": 173,
        "start_time": "2022-03-17T07:15:28.795Z"
      },
      {
        "duration": 170,
        "start_time": "2022-03-17T07:15:28.970Z"
      },
      {
        "duration": 136,
        "start_time": "2022-03-17T07:40:53.983Z"
      },
      {
        "duration": 160,
        "start_time": "2022-03-17T07:41:06.483Z"
      },
      {
        "duration": 71,
        "start_time": "2022-03-17T07:42:02.507Z"
      },
      {
        "duration": 144,
        "start_time": "2022-03-17T07:42:37.785Z"
      },
      {
        "duration": 151,
        "start_time": "2022-03-17T07:42:42.367Z"
      },
      {
        "duration": 168,
        "start_time": "2022-03-17T07:42:51.822Z"
      },
      {
        "duration": 144,
        "start_time": "2022-03-17T07:43:15.772Z"
      },
      {
        "duration": 283,
        "start_time": "2022-03-17T07:43:22.564Z"
      },
      {
        "duration": 308,
        "start_time": "2022-03-17T07:44:27.547Z"
      },
      {
        "duration": 270,
        "start_time": "2022-03-17T07:44:35.504Z"
      },
      {
        "duration": 341,
        "start_time": "2022-03-17T07:46:04.448Z"
      },
      {
        "duration": 8,
        "start_time": "2022-03-17T07:47:39.527Z"
      },
      {
        "duration": 38,
        "start_time": "2022-03-17T07:49:26.072Z"
      },
      {
        "duration": 89,
        "start_time": "2022-03-17T07:49:40.582Z"
      },
      {
        "duration": 127,
        "start_time": "2022-03-17T07:49:40.674Z"
      },
      {
        "duration": 7,
        "start_time": "2022-03-17T07:49:40.803Z"
      },
      {
        "duration": 21,
        "start_time": "2022-03-17T07:49:40.812Z"
      },
      {
        "duration": 7,
        "start_time": "2022-03-17T07:49:40.834Z"
      },
      {
        "duration": 13,
        "start_time": "2022-03-17T07:49:40.843Z"
      },
      {
        "duration": 5,
        "start_time": "2022-03-17T07:49:40.858Z"
      },
      {
        "duration": 78,
        "start_time": "2022-03-17T07:49:40.865Z"
      },
      {
        "duration": 3,
        "start_time": "2022-03-17T07:49:40.946Z"
      },
      {
        "duration": 51,
        "start_time": "2022-03-17T07:49:40.952Z"
      },
      {
        "duration": 30,
        "start_time": "2022-03-17T07:49:41.005Z"
      },
      {
        "duration": 25,
        "start_time": "2022-03-17T07:49:41.037Z"
      },
      {
        "duration": 5,
        "start_time": "2022-03-17T07:49:41.064Z"
      },
      {
        "duration": 74,
        "start_time": "2022-03-17T07:49:41.070Z"
      },
      {
        "duration": 427,
        "start_time": "2022-03-17T07:49:41.146Z"
      },
      {
        "duration": 37,
        "start_time": "2022-03-17T07:49:41.575Z"
      },
      {
        "duration": 37,
        "start_time": "2022-03-17T07:49:41.614Z"
      },
      {
        "duration": 0,
        "start_time": "2022-03-17T07:49:41.654Z"
      },
      {
        "duration": 0,
        "start_time": "2022-03-17T07:49:41.655Z"
      },
      {
        "duration": 0,
        "start_time": "2022-03-17T07:49:41.657Z"
      },
      {
        "duration": 0,
        "start_time": "2022-03-17T07:49:41.658Z"
      },
      {
        "duration": 0,
        "start_time": "2022-03-17T07:49:41.659Z"
      },
      {
        "duration": 0,
        "start_time": "2022-03-17T07:49:41.661Z"
      },
      {
        "duration": 13,
        "start_time": "2022-03-17T07:51:09.806Z"
      },
      {
        "duration": 12,
        "start_time": "2022-03-17T07:51:12.028Z"
      },
      {
        "duration": 12,
        "start_time": "2022-03-17T07:51:16.764Z"
      },
      {
        "duration": 12,
        "start_time": "2022-03-17T07:51:25.070Z"
      },
      {
        "duration": 16,
        "start_time": "2022-03-17T07:51:33.511Z"
      },
      {
        "duration": 48,
        "start_time": "2022-03-17T07:53:35.847Z"
      },
      {
        "duration": 7,
        "start_time": "2022-03-17T07:53:41.199Z"
      },
      {
        "duration": 4,
        "start_time": "2022-03-17T07:55:04.746Z"
      },
      {
        "duration": 10,
        "start_time": "2022-03-17T07:55:08.432Z"
      },
      {
        "duration": 80,
        "start_time": "2022-03-17T07:55:14.794Z"
      },
      {
        "duration": 120,
        "start_time": "2022-03-17T07:55:14.876Z"
      },
      {
        "duration": 9,
        "start_time": "2022-03-17T07:55:14.998Z"
      },
      {
        "duration": 24,
        "start_time": "2022-03-17T07:55:15.009Z"
      },
      {
        "duration": 20,
        "start_time": "2022-03-17T07:55:15.036Z"
      },
      {
        "duration": 14,
        "start_time": "2022-03-17T07:55:15.057Z"
      },
      {
        "duration": 5,
        "start_time": "2022-03-17T07:55:15.073Z"
      },
      {
        "duration": 58,
        "start_time": "2022-03-17T07:55:15.079Z"
      },
      {
        "duration": 2,
        "start_time": "2022-03-17T07:55:15.139Z"
      },
      {
        "duration": 54,
        "start_time": "2022-03-17T07:55:15.143Z"
      },
      {
        "duration": 10,
        "start_time": "2022-03-17T07:55:15.199Z"
      },
      {
        "duration": 35,
        "start_time": "2022-03-17T07:55:15.211Z"
      },
      {
        "duration": 4,
        "start_time": "2022-03-17T07:55:15.248Z"
      },
      {
        "duration": 46,
        "start_time": "2022-03-17T07:55:15.255Z"
      },
      {
        "duration": 331,
        "start_time": "2022-03-17T07:55:15.302Z"
      },
      {
        "duration": 36,
        "start_time": "2022-03-17T07:55:15.634Z"
      },
      {
        "duration": 47,
        "start_time": "2022-03-17T07:55:15.671Z"
      },
      {
        "duration": 167,
        "start_time": "2022-03-17T07:55:15.733Z"
      },
      {
        "duration": 344,
        "start_time": "2022-03-17T07:55:15.902Z"
      },
      {
        "duration": 176,
        "start_time": "2022-03-17T07:55:16.248Z"
      },
      {
        "duration": 167,
        "start_time": "2022-03-17T07:55:16.426Z"
      },
      {
        "duration": 320,
        "start_time": "2022-03-17T07:55:16.595Z"
      },
      {
        "duration": 18,
        "start_time": "2022-03-17T07:55:16.916Z"
      },
      {
        "duration": 11,
        "start_time": "2022-03-17T07:56:43.562Z"
      },
      {
        "duration": 11,
        "start_time": "2022-03-17T07:57:07.200Z"
      },
      {
        "duration": 9,
        "start_time": "2022-03-17T07:57:27.634Z"
      },
      {
        "duration": 84,
        "start_time": "2022-03-17T07:57:35.392Z"
      },
      {
        "duration": 121,
        "start_time": "2022-03-17T07:57:35.478Z"
      },
      {
        "duration": 8,
        "start_time": "2022-03-17T07:57:35.601Z"
      },
      {
        "duration": 6,
        "start_time": "2022-03-17T07:57:35.610Z"
      },
      {
        "duration": 5,
        "start_time": "2022-03-17T07:57:35.632Z"
      },
      {
        "duration": 11,
        "start_time": "2022-03-17T07:57:35.638Z"
      },
      {
        "duration": 3,
        "start_time": "2022-03-17T07:57:35.650Z"
      },
      {
        "duration": 55,
        "start_time": "2022-03-17T07:57:35.655Z"
      },
      {
        "duration": 21,
        "start_time": "2022-03-17T07:57:35.712Z"
      },
      {
        "duration": 47,
        "start_time": "2022-03-17T07:57:35.734Z"
      },
      {
        "duration": 10,
        "start_time": "2022-03-17T07:57:35.783Z"
      },
      {
        "duration": 40,
        "start_time": "2022-03-17T07:57:35.794Z"
      },
      {
        "duration": 5,
        "start_time": "2022-03-17T07:57:35.835Z"
      },
      {
        "duration": 45,
        "start_time": "2022-03-17T07:57:35.842Z"
      },
      {
        "duration": 303,
        "start_time": "2022-03-17T07:57:35.889Z"
      },
      {
        "duration": 45,
        "start_time": "2022-03-17T07:57:36.194Z"
      },
      {
        "duration": 47,
        "start_time": "2022-03-17T07:57:36.241Z"
      },
      {
        "duration": 182,
        "start_time": "2022-03-17T07:57:36.290Z"
      },
      {
        "duration": 331,
        "start_time": "2022-03-17T07:57:36.475Z"
      },
      {
        "duration": 175,
        "start_time": "2022-03-17T07:57:36.807Z"
      },
      {
        "duration": 173,
        "start_time": "2022-03-17T07:57:36.984Z"
      },
      {
        "duration": 311,
        "start_time": "2022-03-17T07:57:37.158Z"
      },
      {
        "duration": 8,
        "start_time": "2022-03-17T07:57:37.471Z"
      },
      {
        "duration": 8,
        "start_time": "2022-03-17T08:06:13.302Z"
      },
      {
        "duration": 9,
        "start_time": "2022-03-17T08:07:11.154Z"
      },
      {
        "duration": 8,
        "start_time": "2022-03-17T08:07:33.398Z"
      },
      {
        "duration": 78,
        "start_time": "2022-03-17T08:15:28.060Z"
      },
      {
        "duration": 124,
        "start_time": "2022-03-17T08:15:28.140Z"
      },
      {
        "duration": 9,
        "start_time": "2022-03-17T08:15:28.266Z"
      },
      {
        "duration": 5,
        "start_time": "2022-03-17T08:15:28.277Z"
      },
      {
        "duration": 7,
        "start_time": "2022-03-17T08:15:28.284Z"
      },
      {
        "duration": 11,
        "start_time": "2022-03-17T08:15:28.292Z"
      },
      {
        "duration": 30,
        "start_time": "2022-03-17T08:15:28.304Z"
      },
      {
        "duration": 63,
        "start_time": "2022-03-17T08:15:28.336Z"
      },
      {
        "duration": 5,
        "start_time": "2022-03-17T08:15:28.401Z"
      },
      {
        "duration": 63,
        "start_time": "2022-03-17T08:15:28.408Z"
      },
      {
        "duration": 11,
        "start_time": "2022-03-17T08:15:28.472Z"
      },
      {
        "duration": 20,
        "start_time": "2022-03-17T08:15:28.484Z"
      },
      {
        "duration": 4,
        "start_time": "2022-03-17T08:15:28.505Z"
      },
      {
        "duration": 64,
        "start_time": "2022-03-17T08:15:28.511Z"
      },
      {
        "duration": 307,
        "start_time": "2022-03-17T08:15:28.577Z"
      },
      {
        "duration": 37,
        "start_time": "2022-03-17T08:15:28.886Z"
      },
      {
        "duration": 36,
        "start_time": "2022-03-17T08:15:28.933Z"
      },
      {
        "duration": 172,
        "start_time": "2022-03-17T08:15:28.970Z"
      },
      {
        "duration": 339,
        "start_time": "2022-03-17T08:15:29.144Z"
      },
      {
        "duration": 172,
        "start_time": "2022-03-17T08:15:29.485Z"
      },
      {
        "duration": 176,
        "start_time": "2022-03-17T08:15:29.658Z"
      },
      {
        "duration": 350,
        "start_time": "2022-03-17T08:15:29.836Z"
      },
      {
        "duration": 8,
        "start_time": "2022-03-17T08:15:30.188Z"
      },
      {
        "duration": 157,
        "start_time": "2022-03-17T08:16:09.759Z"
      },
      {
        "duration": 138,
        "start_time": "2022-03-17T08:16:28.888Z"
      },
      {
        "duration": 152,
        "start_time": "2022-03-17T08:17:18.973Z"
      },
      {
        "duration": 146,
        "start_time": "2022-03-17T08:17:26.147Z"
      },
      {
        "duration": 320,
        "start_time": "2022-03-17T08:24:47.590Z"
      },
      {
        "duration": 319,
        "start_time": "2022-03-17T08:25:08.531Z"
      },
      {
        "duration": 440,
        "start_time": "2022-03-17T08:25:39.088Z"
      },
      {
        "duration": 318,
        "start_time": "2022-03-17T08:25:50.493Z"
      },
      {
        "duration": 317,
        "start_time": "2022-03-17T08:25:58.978Z"
      },
      {
        "duration": 227,
        "start_time": "2022-03-17T08:26:06.263Z"
      },
      {
        "duration": 464,
        "start_time": "2022-03-17T08:26:13.791Z"
      },
      {
        "duration": 7,
        "start_time": "2022-03-17T08:28:23.548Z"
      },
      {
        "duration": 323,
        "start_time": "2022-03-17T08:32:26.612Z"
      },
      {
        "duration": 334,
        "start_time": "2022-03-17T08:32:33.935Z"
      },
      {
        "duration": 323,
        "start_time": "2022-03-17T08:32:51.941Z"
      },
      {
        "duration": 482,
        "start_time": "2022-03-17T08:37:24.450Z"
      },
      {
        "duration": 553,
        "start_time": "2022-03-17T08:55:17.179Z"
      },
      {
        "duration": 185,
        "start_time": "2022-03-17T09:01:02.807Z"
      },
      {
        "duration": 160,
        "start_time": "2022-03-17T09:01:41.131Z"
      },
      {
        "duration": 138,
        "start_time": "2022-03-17T09:01:52.265Z"
      },
      {
        "duration": 207,
        "start_time": "2022-03-17T09:01:59.068Z"
      },
      {
        "duration": 230,
        "start_time": "2022-03-17T09:02:09.231Z"
      },
      {
        "duration": 223,
        "start_time": "2022-03-17T09:03:07.918Z"
      },
      {
        "duration": 419,
        "start_time": "2022-03-17T09:03:39.784Z"
      },
      {
        "duration": 222,
        "start_time": "2022-03-17T09:04:21.948Z"
      },
      {
        "duration": 228,
        "start_time": "2022-03-17T09:04:39.062Z"
      },
      {
        "duration": 228,
        "start_time": "2022-03-17T09:04:49.674Z"
      },
      {
        "duration": 261,
        "start_time": "2022-03-17T09:05:33.537Z"
      },
      {
        "duration": 179,
        "start_time": "2022-03-17T09:06:25.429Z"
      },
      {
        "duration": 173,
        "start_time": "2022-03-17T09:08:07.065Z"
      },
      {
        "duration": 165,
        "start_time": "2022-03-17T09:15:28.230Z"
      },
      {
        "duration": 239,
        "start_time": "2022-03-17T09:15:35.446Z"
      },
      {
        "duration": 163,
        "start_time": "2022-03-17T09:15:42.342Z"
      },
      {
        "duration": 109,
        "start_time": "2022-03-17T09:50:45.847Z"
      },
      {
        "duration": 12,
        "start_time": "2022-03-17T09:50:52.718Z"
      },
      {
        "duration": 10,
        "start_time": "2022-03-17T09:51:05.517Z"
      },
      {
        "duration": 4,
        "start_time": "2022-03-17T09:51:50.068Z"
      },
      {
        "duration": 851,
        "start_time": "2022-03-17T09:51:53.067Z"
      },
      {
        "duration": 4,
        "start_time": "2022-03-17T10:01:39.550Z"
      },
      {
        "duration": 146,
        "start_time": "2022-03-17T10:04:20.871Z"
      },
      {
        "duration": 7,
        "start_time": "2022-03-17T10:07:26.570Z"
      },
      {
        "duration": 6,
        "start_time": "2022-03-17T10:07:31.917Z"
      },
      {
        "duration": 4,
        "start_time": "2022-03-17T10:07:54.412Z"
      },
      {
        "duration": 5,
        "start_time": "2022-03-17T10:07:56.345Z"
      },
      {
        "duration": 6,
        "start_time": "2022-03-17T10:08:01.576Z"
      },
      {
        "duration": 5,
        "start_time": "2022-03-17T10:08:04.060Z"
      },
      {
        "duration": 6,
        "start_time": "2022-03-17T10:08:05.515Z"
      },
      {
        "duration": 11,
        "start_time": "2022-03-17T10:30:09.894Z"
      },
      {
        "duration": 2208,
        "start_time": "2022-03-17T10:30:13.534Z"
      },
      {
        "duration": 142,
        "start_time": "2022-03-17T10:30:24.148Z"
      },
      {
        "duration": 16,
        "start_time": "2022-03-17T10:30:36.020Z"
      },
      {
        "duration": 2021,
        "start_time": "2022-03-17T10:31:07.322Z"
      },
      {
        "duration": 5,
        "start_time": "2022-03-17T10:31:25.547Z"
      },
      {
        "duration": 181,
        "start_time": "2022-03-17T10:31:35.599Z"
      },
      {
        "duration": 9,
        "start_time": "2022-03-17T10:31:46.009Z"
      },
      {
        "duration": 196,
        "start_time": "2022-03-17T10:31:51.145Z"
      },
      {
        "duration": 4,
        "start_time": "2022-03-17T10:31:58.205Z"
      },
      {
        "duration": 2081,
        "start_time": "2022-03-17T10:32:01.696Z"
      },
      {
        "duration": 9,
        "start_time": "2022-03-17T10:33:01.772Z"
      },
      {
        "duration": 18,
        "start_time": "2022-03-17T10:36:31.725Z"
      },
      {
        "duration": 110,
        "start_time": "2022-03-17T10:37:33.914Z"
      },
      {
        "duration": 526,
        "start_time": "2022-03-17T10:37:57.028Z"
      },
      {
        "duration": 12,
        "start_time": "2022-03-17T10:38:11.620Z"
      },
      {
        "duration": 16,
        "start_time": "2022-03-17T10:38:23.514Z"
      },
      {
        "duration": 17,
        "start_time": "2022-03-17T10:38:29.522Z"
      },
      {
        "duration": 1605,
        "start_time": "2022-03-17T10:39:05.231Z"
      },
      {
        "duration": 518,
        "start_time": "2022-03-17T10:39:28.105Z"
      },
      {
        "duration": 107,
        "start_time": "2022-03-17T10:41:24.947Z"
      },
      {
        "duration": 13,
        "start_time": "2022-03-17T10:43:16.793Z"
      },
      {
        "duration": 326,
        "start_time": "2022-03-17T10:43:26.041Z"
      },
      {
        "duration": 11,
        "start_time": "2022-03-17T10:43:45.311Z"
      },
      {
        "duration": 13,
        "start_time": "2022-03-17T10:44:11.110Z"
      },
      {
        "duration": 151,
        "start_time": "2022-03-17T10:46:50.684Z"
      },
      {
        "duration": 377,
        "start_time": "2022-03-17T10:47:02.716Z"
      },
      {
        "duration": 154,
        "start_time": "2022-03-17T10:47:11.652Z"
      },
      {
        "duration": 156,
        "start_time": "2022-03-17T10:48:22.121Z"
      },
      {
        "duration": 164,
        "start_time": "2022-03-17T10:49:37.016Z"
      },
      {
        "duration": 169,
        "start_time": "2022-03-17T10:55:56.011Z"
      },
      {
        "duration": 162,
        "start_time": "2022-03-17T10:56:01.547Z"
      },
      {
        "duration": 984,
        "start_time": "2022-03-17T10:59:33.964Z"
      },
      {
        "duration": 1055,
        "start_time": "2022-03-17T11:01:27.876Z"
      },
      {
        "duration": 933,
        "start_time": "2022-03-17T11:01:38.484Z"
      },
      {
        "duration": 1075,
        "start_time": "2022-03-17T11:02:20.484Z"
      },
      {
        "duration": 9,
        "start_time": "2022-03-17T11:04:08.446Z"
      },
      {
        "duration": 10,
        "start_time": "2022-03-17T11:04:32.759Z"
      },
      {
        "duration": 6,
        "start_time": "2022-03-17T11:04:38.416Z"
      },
      {
        "duration": 37,
        "start_time": "2022-03-17T11:04:55.239Z"
      },
      {
        "duration": 36,
        "start_time": "2022-03-17T11:05:48.848Z"
      },
      {
        "duration": 493,
        "start_time": "2022-03-17T11:06:56.740Z"
      },
      {
        "duration": 630,
        "start_time": "2022-03-17T11:09:38.138Z"
      },
      {
        "duration": 613,
        "start_time": "2022-03-17T11:09:53.994Z"
      },
      {
        "duration": 585,
        "start_time": "2022-03-17T11:10:06.442Z"
      },
      {
        "duration": 566,
        "start_time": "2022-03-17T11:10:15.715Z"
      },
      {
        "duration": 4,
        "start_time": "2022-03-18T15:47:42.391Z"
      },
      {
        "duration": 53,
        "start_time": "2022-03-18T15:49:24.322Z"
      },
      {
        "duration": 6,
        "start_time": "2022-03-18T15:49:28.007Z"
      },
      {
        "duration": 1361,
        "start_time": "2022-03-18T15:49:33.719Z"
      },
      {
        "duration": 156,
        "start_time": "2022-03-18T15:49:35.083Z"
      },
      {
        "duration": 10,
        "start_time": "2022-03-18T15:49:35.241Z"
      },
      {
        "duration": 21,
        "start_time": "2022-03-18T15:49:35.253Z"
      },
      {
        "duration": 32,
        "start_time": "2022-03-18T15:49:35.276Z"
      },
      {
        "duration": 39,
        "start_time": "2022-03-18T15:49:35.310Z"
      },
      {
        "duration": 22,
        "start_time": "2022-03-18T15:49:35.351Z"
      },
      {
        "duration": 91,
        "start_time": "2022-03-18T15:49:35.375Z"
      },
      {
        "duration": 3,
        "start_time": "2022-03-18T15:49:35.468Z"
      },
      {
        "duration": 81,
        "start_time": "2022-03-18T15:49:35.474Z"
      },
      {
        "duration": 9,
        "start_time": "2022-03-18T15:49:35.557Z"
      },
      {
        "duration": 39,
        "start_time": "2022-03-18T15:49:35.567Z"
      },
      {
        "duration": 31,
        "start_time": "2022-03-18T15:49:35.608Z"
      },
      {
        "duration": 88,
        "start_time": "2022-03-18T15:49:35.641Z"
      },
      {
        "duration": 79,
        "start_time": "2022-03-18T15:49:35.731Z"
      },
      {
        "duration": 359,
        "start_time": "2022-03-18T15:49:35.812Z"
      },
      {
        "duration": 61,
        "start_time": "2022-03-18T15:49:36.173Z"
      },
      {
        "duration": 42,
        "start_time": "2022-03-18T15:49:36.236Z"
      },
      {
        "duration": 224,
        "start_time": "2022-03-18T15:49:36.279Z"
      },
      {
        "duration": 449,
        "start_time": "2022-03-18T15:49:36.506Z"
      },
      {
        "duration": 205,
        "start_time": "2022-03-18T15:49:36.957Z"
      },
      {
        "duration": 281,
        "start_time": "2022-03-18T15:49:37.165Z"
      },
      {
        "duration": 382,
        "start_time": "2022-03-18T15:49:37.447Z"
      },
      {
        "duration": 486,
        "start_time": "2022-03-18T15:49:37.831Z"
      },
      {
        "duration": 10,
        "start_time": "2022-03-18T15:49:38.320Z"
      },
      {
        "duration": 311,
        "start_time": "2022-03-18T15:49:38.332Z"
      },
      {
        "duration": 8,
        "start_time": "2022-03-18T15:49:38.645Z"
      },
      {
        "duration": 7,
        "start_time": "2022-03-18T15:49:38.658Z"
      },
      {
        "duration": 40,
        "start_time": "2022-03-18T15:49:38.668Z"
      },
      {
        "duration": 1009,
        "start_time": "2022-03-18T15:49:38.711Z"
      },
      {
        "duration": 18,
        "start_time": "2022-03-18T15:49:39.723Z"
      },
      {
        "duration": 11,
        "start_time": "2022-03-18T15:49:55.578Z"
      },
      {
        "duration": 46,
        "start_time": "2022-03-18T15:57:59.965Z"
      },
      {
        "duration": 9,
        "start_time": "2022-03-18T15:58:05.581Z"
      },
      {
        "duration": 23,
        "start_time": "2022-03-18T15:58:20.180Z"
      },
      {
        "duration": 11,
        "start_time": "2022-03-18T15:59:01.449Z"
      },
      {
        "duration": 22,
        "start_time": "2022-03-18T15:59:09.028Z"
      },
      {
        "duration": 145,
        "start_time": "2022-03-18T16:01:02.702Z"
      },
      {
        "duration": 7,
        "start_time": "2022-03-18T16:01:28.314Z"
      },
      {
        "duration": 4,
        "start_time": "2022-03-18T16:01:49.569Z"
      },
      {
        "duration": 7,
        "start_time": "2022-03-18T16:02:04.653Z"
      },
      {
        "duration": 17,
        "start_time": "2022-03-18T16:02:41.639Z"
      },
      {
        "duration": 6,
        "start_time": "2022-03-18T16:02:51.327Z"
      },
      {
        "duration": 10,
        "start_time": "2022-03-18T16:02:57.793Z"
      },
      {
        "duration": 4,
        "start_time": "2022-03-18T16:03:16.264Z"
      },
      {
        "duration": 15,
        "start_time": "2022-03-18T16:05:24.045Z"
      },
      {
        "duration": 15,
        "start_time": "2022-03-18T16:05:36.558Z"
      },
      {
        "duration": 21,
        "start_time": "2022-03-18T16:05:54.627Z"
      },
      {
        "duration": 19,
        "start_time": "2022-03-18T16:06:20.187Z"
      },
      {
        "duration": 18,
        "start_time": "2022-03-18T16:07:27.074Z"
      },
      {
        "duration": 17,
        "start_time": "2022-03-18T16:07:47.615Z"
      },
      {
        "duration": 17,
        "start_time": "2022-03-18T16:07:55.763Z"
      },
      {
        "duration": 306,
        "start_time": "2022-03-18T16:09:18.186Z"
      },
      {
        "duration": 21,
        "start_time": "2022-03-18T16:09:28.084Z"
      },
      {
        "duration": 17,
        "start_time": "2022-03-18T16:09:44.948Z"
      },
      {
        "duration": 17,
        "start_time": "2022-03-18T16:20:18.548Z"
      },
      {
        "duration": 19,
        "start_time": "2022-03-18T16:23:17.912Z"
      },
      {
        "duration": 41,
        "start_time": "2022-03-18T16:24:49.956Z"
      },
      {
        "duration": 46,
        "start_time": "2022-03-18T16:26:26.472Z"
      },
      {
        "duration": 84,
        "start_time": "2022-03-18T16:27:14.064Z"
      },
      {
        "duration": 77,
        "start_time": "2022-03-18T16:27:37.674Z"
      },
      {
        "duration": 92,
        "start_time": "2022-03-18T16:27:50.478Z"
      },
      {
        "duration": 157,
        "start_time": "2022-03-18T16:27:50.572Z"
      },
      {
        "duration": 9,
        "start_time": "2022-03-18T16:27:50.731Z"
      },
      {
        "duration": 9,
        "start_time": "2022-03-18T16:27:50.742Z"
      },
      {
        "duration": 16,
        "start_time": "2022-03-18T16:27:50.754Z"
      },
      {
        "duration": 29,
        "start_time": "2022-03-18T16:27:50.772Z"
      },
      {
        "duration": 4,
        "start_time": "2022-03-18T16:27:50.803Z"
      },
      {
        "duration": 71,
        "start_time": "2022-03-18T16:27:50.809Z"
      },
      {
        "duration": 3,
        "start_time": "2022-03-18T16:27:50.881Z"
      },
      {
        "duration": 55,
        "start_time": "2022-03-18T16:27:50.902Z"
      },
      {
        "duration": 13,
        "start_time": "2022-03-18T16:27:50.959Z"
      },
      {
        "duration": 27,
        "start_time": "2022-03-18T16:27:51.001Z"
      },
      {
        "duration": 6,
        "start_time": "2022-03-18T16:27:51.030Z"
      },
      {
        "duration": 77,
        "start_time": "2022-03-18T16:27:51.040Z"
      },
      {
        "duration": 47,
        "start_time": "2022-03-18T16:27:51.120Z"
      },
      {
        "duration": 361,
        "start_time": "2022-03-18T16:27:51.169Z"
      },
      {
        "duration": 75,
        "start_time": "2022-03-18T16:27:51.533Z"
      },
      {
        "duration": 60,
        "start_time": "2022-03-18T16:27:51.610Z"
      },
      {
        "duration": 198,
        "start_time": "2022-03-18T16:27:51.673Z"
      },
      {
        "duration": 475,
        "start_time": "2022-03-18T16:27:51.874Z"
      },
      {
        "duration": 200,
        "start_time": "2022-03-18T16:27:52.351Z"
      },
      {
        "duration": 263,
        "start_time": "2022-03-18T16:27:52.553Z"
      },
      {
        "duration": 385,
        "start_time": "2022-03-18T16:27:52.818Z"
      },
      {
        "duration": 399,
        "start_time": "2022-03-18T16:27:53.205Z"
      },
      {
        "duration": 11,
        "start_time": "2022-03-18T16:27:53.605Z"
      },
      {
        "duration": 306,
        "start_time": "2022-03-18T16:27:53.618Z"
      },
      {
        "duration": 7,
        "start_time": "2022-03-18T16:27:53.926Z"
      },
      {
        "duration": 8,
        "start_time": "2022-03-18T16:27:53.935Z"
      },
      {
        "duration": 7,
        "start_time": "2022-03-18T16:27:53.945Z"
      },
      {
        "duration": 660,
        "start_time": "2022-03-18T16:27:53.954Z"
      },
      {
        "duration": 92,
        "start_time": "2022-03-18T16:27:54.616Z"
      },
      {
        "duration": 4,
        "start_time": "2022-03-18T16:27:54.711Z"
      },
      {
        "duration": 144,
        "start_time": "2022-03-18T16:27:54.717Z"
      },
      {
        "duration": 40,
        "start_time": "2022-03-18T16:28:26.573Z"
      },
      {
        "duration": 94,
        "start_time": "2022-03-18T16:28:29.645Z"
      },
      {
        "duration": 141,
        "start_time": "2022-03-18T16:28:29.741Z"
      },
      {
        "duration": 17,
        "start_time": "2022-03-18T16:28:29.884Z"
      },
      {
        "duration": 15,
        "start_time": "2022-03-18T16:28:29.903Z"
      },
      {
        "duration": 23,
        "start_time": "2022-03-18T16:28:29.920Z"
      },
      {
        "duration": 11,
        "start_time": "2022-03-18T16:28:29.945Z"
      },
      {
        "duration": 4,
        "start_time": "2022-03-18T16:28:29.958Z"
      },
      {
        "duration": 75,
        "start_time": "2022-03-18T16:28:29.965Z"
      },
      {
        "duration": 3,
        "start_time": "2022-03-18T16:28:30.042Z"
      },
      {
        "duration": 79,
        "start_time": "2022-03-18T16:28:30.048Z"
      },
      {
        "duration": 13,
        "start_time": "2022-03-18T16:28:30.130Z"
      },
      {
        "duration": 28,
        "start_time": "2022-03-18T16:28:30.145Z"
      },
      {
        "duration": 5,
        "start_time": "2022-03-18T16:28:30.175Z"
      },
      {
        "duration": 88,
        "start_time": "2022-03-18T16:28:30.182Z"
      },
      {
        "duration": 47,
        "start_time": "2022-03-18T16:28:30.272Z"
      },
      {
        "duration": 381,
        "start_time": "2022-03-18T16:28:30.321Z"
      },
      {
        "duration": 44,
        "start_time": "2022-03-18T16:28:30.704Z"
      },
      {
        "duration": 70,
        "start_time": "2022-03-18T16:28:30.750Z"
      },
      {
        "duration": 197,
        "start_time": "2022-03-18T16:28:30.822Z"
      },
      {
        "duration": 440,
        "start_time": "2022-03-18T16:28:31.021Z"
      },
      {
        "duration": 330,
        "start_time": "2022-03-18T16:28:31.463Z"
      },
      {
        "duration": 298,
        "start_time": "2022-03-18T16:28:31.801Z"
      },
      {
        "duration": 646,
        "start_time": "2022-03-18T16:28:32.101Z"
      },
      {
        "duration": 647,
        "start_time": "2022-03-18T16:28:32.749Z"
      },
      {
        "duration": 12,
        "start_time": "2022-03-18T16:28:33.402Z"
      },
      {
        "duration": 623,
        "start_time": "2022-03-18T16:28:33.417Z"
      },
      {
        "duration": 7,
        "start_time": "2022-03-18T16:28:34.042Z"
      },
      {
        "duration": 8,
        "start_time": "2022-03-18T16:28:34.054Z"
      },
      {
        "duration": 63,
        "start_time": "2022-03-18T16:28:34.065Z"
      },
      {
        "duration": 806,
        "start_time": "2022-03-18T16:28:34.130Z"
      },
      {
        "duration": 96,
        "start_time": "2022-03-18T16:28:34.938Z"
      },
      {
        "duration": 5,
        "start_time": "2022-03-18T16:28:35.035Z"
      },
      {
        "duration": 140,
        "start_time": "2022-03-18T16:28:35.044Z"
      },
      {
        "duration": 279,
        "start_time": "2022-03-18T16:30:04.751Z"
      },
      {
        "duration": 172,
        "start_time": "2022-03-18T16:32:03.468Z"
      },
      {
        "duration": 328,
        "start_time": "2022-03-18T16:32:07.839Z"
      },
      {
        "duration": 139,
        "start_time": "2022-03-18T16:32:27.010Z"
      },
      {
        "duration": 212,
        "start_time": "2022-03-18T16:32:27.152Z"
      },
      {
        "duration": 14,
        "start_time": "2022-03-18T16:32:27.366Z"
      },
      {
        "duration": 7,
        "start_time": "2022-03-18T16:32:27.400Z"
      },
      {
        "duration": 13,
        "start_time": "2022-03-18T16:32:27.412Z"
      },
      {
        "duration": 17,
        "start_time": "2022-03-18T16:32:27.427Z"
      },
      {
        "duration": 5,
        "start_time": "2022-03-18T16:32:27.446Z"
      },
      {
        "duration": 88,
        "start_time": "2022-03-18T16:32:27.453Z"
      },
      {
        "duration": 3,
        "start_time": "2022-03-18T16:32:27.543Z"
      },
      {
        "duration": 74,
        "start_time": "2022-03-18T16:32:27.548Z"
      },
      {
        "duration": 14,
        "start_time": "2022-03-18T16:32:27.624Z"
      },
      {
        "duration": 24,
        "start_time": "2022-03-18T16:32:27.640Z"
      },
      {
        "duration": 6,
        "start_time": "2022-03-18T16:32:27.667Z"
      },
      {
        "duration": 103,
        "start_time": "2022-03-18T16:32:27.677Z"
      },
      {
        "duration": 65,
        "start_time": "2022-03-18T16:32:27.782Z"
      },
      {
        "duration": 447,
        "start_time": "2022-03-18T16:32:27.849Z"
      },
      {
        "duration": 43,
        "start_time": "2022-03-18T16:32:28.297Z"
      },
      {
        "duration": 62,
        "start_time": "2022-03-18T16:32:28.342Z"
      },
      {
        "duration": 200,
        "start_time": "2022-03-18T16:32:28.406Z"
      },
      {
        "duration": 405,
        "start_time": "2022-03-18T16:32:28.607Z"
      },
      {
        "duration": 389,
        "start_time": "2022-03-18T16:32:29.014Z"
      },
      {
        "duration": 303,
        "start_time": "2022-03-18T16:32:29.405Z"
      },
      {
        "duration": 404,
        "start_time": "2022-03-18T16:32:29.711Z"
      },
      {
        "duration": 409,
        "start_time": "2022-03-18T16:32:30.119Z"
      },
      {
        "duration": 10,
        "start_time": "2022-03-18T16:32:30.530Z"
      },
      {
        "duration": 369,
        "start_time": "2022-03-18T16:32:30.542Z"
      },
      {
        "duration": 6,
        "start_time": "2022-03-18T16:32:30.913Z"
      },
      {
        "duration": 18,
        "start_time": "2022-03-18T16:32:30.920Z"
      },
      {
        "duration": 45,
        "start_time": "2022-03-18T16:32:30.940Z"
      },
      {
        "duration": 804,
        "start_time": "2022-03-18T16:32:30.987Z"
      },
      {
        "duration": 88,
        "start_time": "2022-03-18T16:32:31.793Z"
      },
      {
        "duration": 18,
        "start_time": "2022-03-18T16:32:31.883Z"
      },
      {
        "duration": 148,
        "start_time": "2022-03-18T16:32:31.904Z"
      },
      {
        "duration": 189,
        "start_time": "2022-03-18T16:33:54.512Z"
      },
      {
        "duration": 88,
        "start_time": "2022-03-18T16:34:05.463Z"
      },
      {
        "duration": 159,
        "start_time": "2022-03-18T16:34:05.554Z"
      },
      {
        "duration": 9,
        "start_time": "2022-03-18T16:34:05.715Z"
      },
      {
        "duration": 6,
        "start_time": "2022-03-18T16:34:05.727Z"
      },
      {
        "duration": 12,
        "start_time": "2022-03-18T16:34:05.734Z"
      },
      {
        "duration": 17,
        "start_time": "2022-03-18T16:34:05.747Z"
      },
      {
        "duration": 5,
        "start_time": "2022-03-18T16:34:05.766Z"
      },
      {
        "duration": 92,
        "start_time": "2022-03-18T16:34:05.773Z"
      },
      {
        "duration": 3,
        "start_time": "2022-03-18T16:34:05.867Z"
      },
      {
        "duration": 76,
        "start_time": "2022-03-18T16:34:05.873Z"
      },
      {
        "duration": 13,
        "start_time": "2022-03-18T16:34:05.951Z"
      },
      {
        "duration": 44,
        "start_time": "2022-03-18T16:34:05.966Z"
      },
      {
        "duration": 13,
        "start_time": "2022-03-18T16:34:06.012Z"
      },
      {
        "duration": 63,
        "start_time": "2022-03-18T16:34:06.027Z"
      },
      {
        "duration": 51,
        "start_time": "2022-03-18T16:34:06.093Z"
      },
      {
        "duration": 338,
        "start_time": "2022-03-18T16:34:06.146Z"
      },
      {
        "duration": 57,
        "start_time": "2022-03-18T16:34:06.486Z"
      },
      {
        "duration": 57,
        "start_time": "2022-03-18T16:34:06.545Z"
      },
      {
        "duration": 202,
        "start_time": "2022-03-18T16:34:06.605Z"
      },
      {
        "duration": 393,
        "start_time": "2022-03-18T16:34:06.808Z"
      },
      {
        "duration": 238,
        "start_time": "2022-03-18T16:34:07.202Z"
      },
      {
        "duration": 466,
        "start_time": "2022-03-18T16:34:07.442Z"
      },
      {
        "duration": 403,
        "start_time": "2022-03-18T16:34:07.910Z"
      },
      {
        "duration": 393,
        "start_time": "2022-03-18T16:34:08.315Z"
      },
      {
        "duration": 10,
        "start_time": "2022-03-18T16:34:08.710Z"
      },
      {
        "duration": 273,
        "start_time": "2022-03-18T16:34:08.721Z"
      },
      {
        "duration": 7,
        "start_time": "2022-03-18T16:34:09.002Z"
      },
      {
        "duration": 7,
        "start_time": "2022-03-18T16:34:09.013Z"
      },
      {
        "duration": 81,
        "start_time": "2022-03-18T16:34:09.022Z"
      },
      {
        "duration": 843,
        "start_time": "2022-03-18T16:34:09.106Z"
      },
      {
        "duration": 134,
        "start_time": "2022-03-18T16:34:09.951Z"
      },
      {
        "duration": 4,
        "start_time": "2022-03-18T16:34:10.088Z"
      },
      {
        "duration": 143,
        "start_time": "2022-03-18T16:34:10.103Z"
      },
      {
        "duration": 95,
        "start_time": "2022-03-18T16:35:04.033Z"
      },
      {
        "duration": 157,
        "start_time": "2022-03-18T16:35:04.131Z"
      },
      {
        "duration": 20,
        "start_time": "2022-03-18T16:35:04.291Z"
      },
      {
        "duration": 6,
        "start_time": "2022-03-18T16:35:04.313Z"
      },
      {
        "duration": 12,
        "start_time": "2022-03-18T16:35:04.322Z"
      },
      {
        "duration": 17,
        "start_time": "2022-03-18T16:35:04.336Z"
      },
      {
        "duration": 4,
        "start_time": "2022-03-18T16:35:04.355Z"
      },
      {
        "duration": 104,
        "start_time": "2022-03-18T16:35:04.361Z"
      },
      {
        "duration": 3,
        "start_time": "2022-03-18T16:35:04.467Z"
      },
      {
        "duration": 72,
        "start_time": "2022-03-18T16:35:04.471Z"
      },
      {
        "duration": 13,
        "start_time": "2022-03-18T16:35:04.545Z"
      },
      {
        "duration": 48,
        "start_time": "2022-03-18T16:35:04.560Z"
      },
      {
        "duration": 12,
        "start_time": "2022-03-18T16:35:04.609Z"
      },
      {
        "duration": 56,
        "start_time": "2022-03-18T16:35:04.625Z"
      },
      {
        "duration": 48,
        "start_time": "2022-03-18T16:35:04.700Z"
      },
      {
        "duration": 530,
        "start_time": "2022-03-18T16:35:04.750Z"
      },
      {
        "duration": 55,
        "start_time": "2022-03-18T16:35:05.282Z"
      },
      {
        "duration": 42,
        "start_time": "2022-03-18T16:35:05.339Z"
      },
      {
        "duration": 215,
        "start_time": "2022-03-18T16:35:05.382Z"
      },
      {
        "duration": 402,
        "start_time": "2022-03-18T16:35:05.602Z"
      },
      {
        "duration": 243,
        "start_time": "2022-03-18T16:35:06.008Z"
      },
      {
        "duration": 302,
        "start_time": "2022-03-18T16:35:06.253Z"
      },
      {
        "duration": 394,
        "start_time": "2022-03-18T16:35:06.558Z"
      },
      {
        "duration": 568,
        "start_time": "2022-03-18T16:35:06.954Z"
      },
      {
        "duration": 10,
        "start_time": "2022-03-18T16:35:07.524Z"
      },
      {
        "duration": 353,
        "start_time": "2022-03-18T16:35:07.536Z"
      },
      {
        "duration": 15,
        "start_time": "2022-03-18T16:35:07.891Z"
      },
      {
        "duration": 10,
        "start_time": "2022-03-18T16:35:07.908Z"
      },
      {
        "duration": 42,
        "start_time": "2022-03-18T16:35:07.921Z"
      },
      {
        "duration": 668,
        "start_time": "2022-03-18T16:35:07.966Z"
      },
      {
        "duration": 99,
        "start_time": "2022-03-18T16:35:08.635Z"
      },
      {
        "duration": 4,
        "start_time": "2022-03-18T16:35:08.736Z"
      },
      {
        "duration": 142,
        "start_time": "2022-03-18T16:35:08.742Z"
      },
      {
        "duration": 281,
        "start_time": "2022-03-18T16:35:45.884Z"
      },
      {
        "duration": 91,
        "start_time": "2022-03-18T16:36:53.130Z"
      },
      {
        "duration": 155,
        "start_time": "2022-03-18T16:36:53.223Z"
      },
      {
        "duration": 23,
        "start_time": "2022-03-18T16:36:53.380Z"
      },
      {
        "duration": 23,
        "start_time": "2022-03-18T16:36:53.405Z"
      },
      {
        "duration": 39,
        "start_time": "2022-03-18T16:36:53.431Z"
      },
      {
        "duration": 48,
        "start_time": "2022-03-18T16:36:53.471Z"
      },
      {
        "duration": 39,
        "start_time": "2022-03-18T16:36:53.521Z"
      },
      {
        "duration": 88,
        "start_time": "2022-03-18T16:36:53.562Z"
      },
      {
        "duration": 3,
        "start_time": "2022-03-18T16:36:53.652Z"
      },
      {
        "duration": 79,
        "start_time": "2022-03-18T16:36:53.657Z"
      },
      {
        "duration": 13,
        "start_time": "2022-03-18T16:36:53.738Z"
      },
      {
        "duration": 63,
        "start_time": "2022-03-18T16:36:53.753Z"
      },
      {
        "duration": 36,
        "start_time": "2022-03-18T16:36:53.818Z"
      },
      {
        "duration": 76,
        "start_time": "2022-03-18T16:36:53.858Z"
      },
      {
        "duration": 44,
        "start_time": "2022-03-18T16:36:53.936Z"
      },
      {
        "duration": 357,
        "start_time": "2022-03-18T16:36:53.982Z"
      },
      {
        "duration": 41,
        "start_time": "2022-03-18T16:36:54.341Z"
      },
      {
        "duration": 52,
        "start_time": "2022-03-18T16:36:54.384Z"
      },
      {
        "duration": 285,
        "start_time": "2022-03-18T16:36:54.438Z"
      },
      {
        "duration": 566,
        "start_time": "2022-03-18T16:36:54.725Z"
      },
      {
        "duration": 677,
        "start_time": "2022-03-18T16:36:55.300Z"
      },
      {
        "duration": 305,
        "start_time": "2022-03-18T16:36:55.979Z"
      },
      {
        "duration": 388,
        "start_time": "2022-03-18T16:36:56.286Z"
      },
      {
        "duration": 393,
        "start_time": "2022-03-18T16:36:56.677Z"
      },
      {
        "duration": 10,
        "start_time": "2022-03-18T16:36:57.072Z"
      },
      {
        "duration": 290,
        "start_time": "2022-03-18T16:36:57.084Z"
      },
      {
        "duration": 6,
        "start_time": "2022-03-18T16:36:57.377Z"
      },
      {
        "duration": 20,
        "start_time": "2022-03-18T16:36:57.386Z"
      },
      {
        "duration": 57,
        "start_time": "2022-03-18T16:36:57.408Z"
      },
      {
        "duration": 644,
        "start_time": "2022-03-18T16:36:57.467Z"
      },
      {
        "duration": 97,
        "start_time": "2022-03-18T16:36:58.113Z"
      },
      {
        "duration": 4,
        "start_time": "2022-03-18T16:36:58.212Z"
      },
      {
        "duration": 150,
        "start_time": "2022-03-18T16:36:58.218Z"
      },
      {
        "duration": 91,
        "start_time": "2022-03-18T16:43:43.964Z"
      },
      {
        "duration": 256,
        "start_time": "2022-03-18T16:43:44.057Z"
      },
      {
        "duration": 13,
        "start_time": "2022-03-18T16:43:44.315Z"
      },
      {
        "duration": 12,
        "start_time": "2022-03-18T16:43:44.331Z"
      },
      {
        "duration": 10,
        "start_time": "2022-03-18T16:43:44.345Z"
      },
      {
        "duration": 18,
        "start_time": "2022-03-18T16:43:44.358Z"
      },
      {
        "duration": 26,
        "start_time": "2022-03-18T16:43:44.378Z"
      },
      {
        "duration": 7,
        "start_time": "2022-03-18T16:43:44.406Z"
      },
      {
        "duration": 115,
        "start_time": "2022-03-18T16:43:44.416Z"
      },
      {
        "duration": 4,
        "start_time": "2022-03-18T16:43:44.534Z"
      },
      {
        "duration": 74,
        "start_time": "2022-03-18T16:43:44.540Z"
      },
      {
        "duration": 14,
        "start_time": "2022-03-18T16:43:44.616Z"
      },
      {
        "duration": 48,
        "start_time": "2022-03-18T16:43:44.632Z"
      },
      {
        "duration": 20,
        "start_time": "2022-03-18T16:43:44.682Z"
      },
      {
        "duration": 75,
        "start_time": "2022-03-18T16:43:44.705Z"
      },
      {
        "duration": 49,
        "start_time": "2022-03-18T16:43:44.783Z"
      },
      {
        "duration": 591,
        "start_time": "2022-03-18T16:43:44.834Z"
      },
      {
        "duration": 51,
        "start_time": "2022-03-18T16:43:45.427Z"
      },
      {
        "duration": 61,
        "start_time": "2022-03-18T16:43:45.481Z"
      },
      {
        "duration": 295,
        "start_time": "2022-03-18T16:43:45.544Z"
      },
      {
        "duration": 650,
        "start_time": "2022-03-18T16:43:45.842Z"
      },
      {
        "duration": 495,
        "start_time": "2022-03-18T16:43:46.500Z"
      },
      {
        "duration": 470,
        "start_time": "2022-03-18T16:43:47.002Z"
      },
      {
        "duration": 414,
        "start_time": "2022-03-18T16:43:47.475Z"
      },
      {
        "duration": 389,
        "start_time": "2022-03-18T16:43:47.891Z"
      },
      {
        "duration": 20,
        "start_time": "2022-03-18T16:43:48.282Z"
      },
      {
        "duration": 561,
        "start_time": "2022-03-18T16:43:48.304Z"
      },
      {
        "duration": 6,
        "start_time": "2022-03-18T16:43:48.870Z"
      },
      {
        "duration": 24,
        "start_time": "2022-03-18T16:43:48.878Z"
      },
      {
        "duration": 44,
        "start_time": "2022-03-18T16:43:48.904Z"
      },
      {
        "duration": 788,
        "start_time": "2022-03-18T16:43:48.950Z"
      },
      {
        "duration": 95,
        "start_time": "2022-03-18T16:43:49.740Z"
      },
      {
        "duration": 5,
        "start_time": "2022-03-18T16:43:49.837Z"
      },
      {
        "duration": 153,
        "start_time": "2022-03-18T16:43:49.844Z"
      },
      {
        "duration": 589,
        "start_time": "2022-03-18T16:44:14.988Z"
      },
      {
        "duration": 301,
        "start_time": "2022-03-18T16:44:37.403Z"
      },
      {
        "duration": 309,
        "start_time": "2022-03-18T16:45:08.506Z"
      },
      {
        "duration": 91,
        "start_time": "2022-03-18T16:48:35.344Z"
      },
      {
        "duration": 173,
        "start_time": "2022-03-18T16:48:35.437Z"
      },
      {
        "duration": 9,
        "start_time": "2022-03-18T16:48:35.613Z"
      },
      {
        "duration": 8,
        "start_time": "2022-03-18T16:48:35.624Z"
      },
      {
        "duration": 13,
        "start_time": "2022-03-18T16:48:35.635Z"
      },
      {
        "duration": 12,
        "start_time": "2022-03-18T16:48:35.650Z"
      },
      {
        "duration": 37,
        "start_time": "2022-03-18T16:48:35.664Z"
      },
      {
        "duration": 5,
        "start_time": "2022-03-18T16:48:35.703Z"
      },
      {
        "duration": 79,
        "start_time": "2022-03-18T16:48:35.710Z"
      },
      {
        "duration": 4,
        "start_time": "2022-03-18T16:48:35.802Z"
      },
      {
        "duration": 110,
        "start_time": "2022-03-18T16:48:35.810Z"
      },
      {
        "duration": 19,
        "start_time": "2022-03-18T16:48:35.923Z"
      },
      {
        "duration": 39,
        "start_time": "2022-03-18T16:48:35.944Z"
      },
      {
        "duration": 7,
        "start_time": "2022-03-18T16:48:36.004Z"
      },
      {
        "duration": 56,
        "start_time": "2022-03-18T16:48:36.013Z"
      },
      {
        "duration": 68,
        "start_time": "2022-03-18T16:48:36.071Z"
      },
      {
        "duration": 365,
        "start_time": "2022-03-18T16:48:36.141Z"
      },
      {
        "duration": 45,
        "start_time": "2022-03-18T16:48:36.509Z"
      },
      {
        "duration": 79,
        "start_time": "2022-03-18T16:48:36.556Z"
      },
      {
        "duration": 321,
        "start_time": "2022-03-18T16:48:36.637Z"
      },
      {
        "duration": 416,
        "start_time": "2022-03-18T16:48:36.960Z"
      },
      {
        "duration": 284,
        "start_time": "2022-03-18T16:48:37.379Z"
      },
      {
        "duration": 459,
        "start_time": "2022-03-18T16:48:37.666Z"
      },
      {
        "duration": 1040,
        "start_time": "2022-03-18T16:48:38.128Z"
      },
      {
        "duration": 437,
        "start_time": "2022-03-18T16:48:39.171Z"
      },
      {
        "duration": 10,
        "start_time": "2022-03-18T16:48:39.610Z"
      },
      {
        "duration": 234,
        "start_time": "2022-03-18T16:48:39.622Z"
      },
      {
        "duration": 6,
        "start_time": "2022-03-18T16:48:39.859Z"
      },
      {
        "duration": 11,
        "start_time": "2022-03-18T16:48:39.867Z"
      },
      {
        "duration": 59,
        "start_time": "2022-03-18T16:48:39.880Z"
      },
      {
        "duration": 773,
        "start_time": "2022-03-18T16:48:39.942Z"
      },
      {
        "duration": 138,
        "start_time": "2022-03-18T16:48:40.718Z"
      },
      {
        "duration": 5,
        "start_time": "2022-03-18T16:48:40.859Z"
      },
      {
        "duration": 157,
        "start_time": "2022-03-18T16:48:40.867Z"
      },
      {
        "duration": 98,
        "start_time": "2022-03-18T16:49:59.466Z"
      },
      {
        "duration": 142,
        "start_time": "2022-03-18T16:50:36.565Z"
      },
      {
        "duration": 99,
        "start_time": "2022-03-18T16:51:00.635Z"
      },
      {
        "duration": 114,
        "start_time": "2022-03-18T16:51:13.005Z"
      },
      {
        "duration": 83,
        "start_time": "2022-03-18T16:51:26.440Z"
      },
      {
        "duration": 84,
        "start_time": "2022-03-18T16:51:42.497Z"
      },
      {
        "duration": 84,
        "start_time": "2022-03-18T16:51:52.169Z"
      },
      {
        "duration": 81,
        "start_time": "2022-03-18T16:51:59.595Z"
      },
      {
        "duration": 94,
        "start_time": "2022-03-18T16:52:43.128Z"
      },
      {
        "duration": 85,
        "start_time": "2022-03-18T16:53:39.265Z"
      },
      {
        "duration": 260,
        "start_time": "2022-03-18T16:56:52.802Z"
      },
      {
        "duration": 25,
        "start_time": "2022-03-18T16:57:10.917Z"
      },
      {
        "duration": 36,
        "start_time": "2022-03-18T16:57:24.243Z"
      },
      {
        "duration": 40,
        "start_time": "2022-03-18T16:57:53.714Z"
      },
      {
        "duration": 39,
        "start_time": "2022-03-18T16:58:13.191Z"
      },
      {
        "duration": 26,
        "start_time": "2022-03-18T16:58:27.223Z"
      },
      {
        "duration": 34,
        "start_time": "2022-03-18T16:58:33.418Z"
      },
      {
        "duration": 142,
        "start_time": "2022-03-18T16:58:43.233Z"
      },
      {
        "duration": 156,
        "start_time": "2022-03-18T16:58:51.177Z"
      },
      {
        "duration": 27,
        "start_time": "2022-03-18T16:58:54.495Z"
      },
      {
        "duration": 27,
        "start_time": "2022-03-18T16:59:05.764Z"
      },
      {
        "duration": 59,
        "start_time": "2022-03-18T17:43:18.197Z"
      },
      {
        "duration": 8,
        "start_time": "2022-03-18T17:45:23.196Z"
      },
      {
        "duration": 150,
        "start_time": "2022-03-18T17:50:20.102Z"
      },
      {
        "duration": 9,
        "start_time": "2022-03-18T17:50:24.810Z"
      },
      {
        "duration": 32,
        "start_time": "2022-03-18T17:50:29.814Z"
      },
      {
        "duration": 32,
        "start_time": "2022-03-18T17:50:43.920Z"
      },
      {
        "duration": 52,
        "start_time": "2022-03-18T17:50:50.957Z"
      },
      {
        "duration": 49,
        "start_time": "2022-03-18T17:51:10.090Z"
      },
      {
        "duration": 33,
        "start_time": "2022-03-18T17:51:23.721Z"
      },
      {
        "duration": 51,
        "start_time": "2022-03-18T17:51:55.487Z"
      },
      {
        "duration": 139,
        "start_time": "2022-03-18T17:52:02.863Z"
      },
      {
        "duration": 243,
        "start_time": "2022-03-18T17:52:03.005Z"
      },
      {
        "duration": 13,
        "start_time": "2022-03-18T17:52:03.251Z"
      },
      {
        "duration": 34,
        "start_time": "2022-03-18T17:52:03.268Z"
      },
      {
        "duration": 9,
        "start_time": "2022-03-18T17:52:03.305Z"
      },
      {
        "duration": 26,
        "start_time": "2022-03-18T17:52:03.316Z"
      },
      {
        "duration": 7,
        "start_time": "2022-03-18T17:52:03.344Z"
      },
      {
        "duration": 16,
        "start_time": "2022-03-18T17:52:03.354Z"
      },
      {
        "duration": 86,
        "start_time": "2022-03-18T17:52:03.372Z"
      },
      {
        "duration": 3,
        "start_time": "2022-03-18T17:52:03.461Z"
      },
      {
        "duration": 77,
        "start_time": "2022-03-18T17:52:03.466Z"
      },
      {
        "duration": 15,
        "start_time": "2022-03-18T17:52:03.545Z"
      },
      {
        "duration": 45,
        "start_time": "2022-03-18T17:52:03.563Z"
      },
      {
        "duration": 6,
        "start_time": "2022-03-18T17:52:03.610Z"
      },
      {
        "duration": 98,
        "start_time": "2022-03-18T17:52:03.619Z"
      },
      {
        "duration": 67,
        "start_time": "2022-03-18T17:52:03.719Z"
      },
      {
        "duration": 534,
        "start_time": "2022-03-18T17:52:03.800Z"
      },
      {
        "duration": 71,
        "start_time": "2022-03-18T17:52:04.336Z"
      },
      {
        "duration": 64,
        "start_time": "2022-03-18T17:52:04.409Z"
      },
      {
        "duration": 329,
        "start_time": "2022-03-18T17:52:04.475Z"
      },
      {
        "duration": 667,
        "start_time": "2022-03-18T17:52:04.806Z"
      },
      {
        "duration": 229,
        "start_time": "2022-03-18T17:52:05.475Z"
      },
      {
        "duration": 330,
        "start_time": "2022-03-18T17:52:05.706Z"
      },
      {
        "duration": 758,
        "start_time": "2022-03-18T17:52:06.039Z"
      },
      {
        "duration": 379,
        "start_time": "2022-03-18T17:52:06.801Z"
      },
      {
        "duration": 20,
        "start_time": "2022-03-18T17:52:07.183Z"
      },
      {
        "duration": 235,
        "start_time": "2022-03-18T17:52:07.206Z"
      },
      {
        "duration": 9,
        "start_time": "2022-03-18T17:52:07.445Z"
      },
      {
        "duration": 8,
        "start_time": "2022-03-18T17:52:07.456Z"
      },
      {
        "duration": 66,
        "start_time": "2022-03-18T17:52:07.466Z"
      },
      {
        "duration": 672,
        "start_time": "2022-03-18T17:52:07.534Z"
      },
      {
        "duration": 38,
        "start_time": "2022-03-18T17:52:08.208Z"
      },
      {
        "duration": 144,
        "start_time": "2022-03-18T17:52:08.248Z"
      },
      {
        "duration": 1,
        "start_time": "2022-03-18T17:52:08.394Z"
      },
      {
        "duration": 0,
        "start_time": "2022-03-18T17:52:08.396Z"
      },
      {
        "duration": 0,
        "start_time": "2022-03-18T17:52:08.397Z"
      },
      {
        "duration": 35,
        "start_time": "2022-03-18T17:52:18.810Z"
      },
      {
        "duration": 31,
        "start_time": "2022-03-18T17:52:47.664Z"
      },
      {
        "duration": 33,
        "start_time": "2022-03-18T17:52:52.895Z"
      },
      {
        "duration": 34,
        "start_time": "2022-03-18T17:53:11.142Z"
      },
      {
        "duration": 19,
        "start_time": "2022-03-18T17:53:33.331Z"
      },
      {
        "duration": 35,
        "start_time": "2022-03-18T17:53:36.472Z"
      },
      {
        "duration": 33,
        "start_time": "2022-03-18T17:53:57.118Z"
      },
      {
        "duration": 4,
        "start_time": "2022-03-18T17:54:04.645Z"
      },
      {
        "duration": 33,
        "start_time": "2022-03-18T17:54:07.616Z"
      },
      {
        "duration": 4,
        "start_time": "2022-03-18T17:54:34.669Z"
      },
      {
        "duration": 5,
        "start_time": "2022-03-18T17:54:44.092Z"
      },
      {
        "duration": 2253,
        "start_time": "2022-03-18T17:54:50.876Z"
      },
      {
        "duration": 8,
        "start_time": "2022-03-18T17:55:20.070Z"
      },
      {
        "duration": 32,
        "start_time": "2022-03-18T17:55:48.632Z"
      },
      {
        "duration": 32,
        "start_time": "2022-03-18T17:56:34.399Z"
      },
      {
        "duration": 9,
        "start_time": "2022-03-18T17:57:03.846Z"
      },
      {
        "duration": 47,
        "start_time": "2022-03-18T17:57:11.666Z"
      },
      {
        "duration": 32,
        "start_time": "2022-03-18T17:58:01.673Z"
      },
      {
        "duration": 172,
        "start_time": "2022-03-18T17:58:53.197Z"
      },
      {
        "duration": 146,
        "start_time": "2022-03-18T17:59:47.860Z"
      },
      {
        "duration": 131,
        "start_time": "2022-03-18T17:59:52.298Z"
      },
      {
        "duration": 5,
        "start_time": "2022-03-18T18:00:03.049Z"
      },
      {
        "duration": 44,
        "start_time": "2022-03-18T18:00:05.060Z"
      },
      {
        "duration": 14,
        "start_time": "2022-03-18T18:08:26.208Z"
      },
      {
        "duration": 9,
        "start_time": "2022-03-18T18:08:37.007Z"
      },
      {
        "duration": 49,
        "start_time": "2022-03-18T18:08:47.891Z"
      },
      {
        "duration": 46,
        "start_time": "2022-03-18T18:09:51.166Z"
      },
      {
        "duration": 45,
        "start_time": "2022-03-18T18:10:02.112Z"
      },
      {
        "duration": 46,
        "start_time": "2022-03-18T18:10:10.808Z"
      },
      {
        "duration": 49,
        "start_time": "2022-03-18T18:10:22.234Z"
      },
      {
        "duration": 47,
        "start_time": "2022-03-18T18:10:28.214Z"
      },
      {
        "duration": 46,
        "start_time": "2022-03-18T18:11:43.220Z"
      },
      {
        "duration": 54,
        "start_time": "2022-03-18T18:11:53.993Z"
      },
      {
        "duration": 48,
        "start_time": "2022-03-18T18:12:28.082Z"
      },
      {
        "duration": 73,
        "start_time": "2022-03-18T18:12:45.546Z"
      },
      {
        "duration": 49,
        "start_time": "2022-03-18T18:12:50.401Z"
      },
      {
        "duration": 52,
        "start_time": "2022-03-18T18:13:09.794Z"
      },
      {
        "duration": 169,
        "start_time": "2022-03-18T18:16:25.748Z"
      },
      {
        "duration": 9,
        "start_time": "2022-03-18T18:17:59.393Z"
      },
      {
        "duration": 44,
        "start_time": "2022-03-18T18:18:10.359Z"
      },
      {
        "duration": 203,
        "start_time": "2022-03-18T18:18:32.829Z"
      },
      {
        "duration": 175,
        "start_time": "2022-03-18T18:19:47.317Z"
      },
      {
        "duration": 191,
        "start_time": "2022-03-18T18:19:55.620Z"
      },
      {
        "duration": 47,
        "start_time": "2022-03-18T18:20:35.175Z"
      },
      {
        "duration": 205,
        "start_time": "2022-03-18T18:20:55.887Z"
      },
      {
        "duration": 187,
        "start_time": "2022-03-18T18:21:24.906Z"
      },
      {
        "duration": 191,
        "start_time": "2022-03-18T18:21:29.166Z"
      },
      {
        "duration": 189,
        "start_time": "2022-03-18T18:24:43.702Z"
      },
      {
        "duration": 176,
        "start_time": "2022-03-18T18:24:56.252Z"
      },
      {
        "duration": 197,
        "start_time": "2022-03-18T18:25:04.593Z"
      },
      {
        "duration": 147,
        "start_time": "2022-03-18T18:25:28.768Z"
      },
      {
        "duration": 191,
        "start_time": "2022-03-18T18:25:38.421Z"
      },
      {
        "duration": 182,
        "start_time": "2022-03-18T18:25:42.170Z"
      },
      {
        "duration": 185,
        "start_time": "2022-03-18T18:25:45.141Z"
      },
      {
        "duration": 175,
        "start_time": "2022-03-18T18:25:50.530Z"
      },
      {
        "duration": 184,
        "start_time": "2022-03-18T18:25:54.624Z"
      },
      {
        "duration": 193,
        "start_time": "2022-03-18T18:25:58.378Z"
      },
      {
        "duration": 203,
        "start_time": "2022-03-18T18:26:20.317Z"
      },
      {
        "duration": 142,
        "start_time": "2022-03-18T18:26:57.238Z"
      },
      {
        "duration": 57,
        "start_time": "2022-03-18T18:27:01.232Z"
      },
      {
        "duration": 198,
        "start_time": "2022-03-18T18:28:43.285Z"
      },
      {
        "duration": 204,
        "start_time": "2022-03-18T18:28:58.777Z"
      },
      {
        "duration": 155,
        "start_time": "2022-03-18T18:51:34.079Z"
      },
      {
        "duration": 203,
        "start_time": "2022-03-18T18:51:51.722Z"
      },
      {
        "duration": 10,
        "start_time": "2022-03-18T18:51:57.424Z"
      },
      {
        "duration": 40,
        "start_time": "2022-03-18T18:52:08.243Z"
      },
      {
        "duration": 45,
        "start_time": "2022-03-18T18:52:45.504Z"
      },
      {
        "duration": 60,
        "start_time": "2022-03-18T18:53:03.846Z"
      },
      {
        "duration": 43,
        "start_time": "2022-03-18T18:53:07.180Z"
      },
      {
        "duration": 44,
        "start_time": "2022-03-18T18:53:17.024Z"
      },
      {
        "duration": 24,
        "start_time": "2022-03-18T19:06:00.157Z"
      },
      {
        "duration": 28,
        "start_time": "2022-03-18T19:06:28.786Z"
      },
      {
        "duration": 30,
        "start_time": "2022-03-18T19:06:53.878Z"
      },
      {
        "duration": 29,
        "start_time": "2022-03-18T19:07:02.986Z"
      },
      {
        "duration": 29,
        "start_time": "2022-03-18T19:07:40.872Z"
      },
      {
        "duration": 28,
        "start_time": "2022-03-18T19:07:55.137Z"
      },
      {
        "duration": 31,
        "start_time": "2022-03-18T19:08:11.115Z"
      },
      {
        "duration": 34,
        "start_time": "2022-03-18T19:09:04.483Z"
      },
      {
        "duration": 32,
        "start_time": "2022-03-18T19:10:26.607Z"
      },
      {
        "duration": 32,
        "start_time": "2022-03-18T19:10:47.091Z"
      },
      {
        "duration": 236,
        "start_time": "2022-03-18T19:11:13.101Z"
      },
      {
        "duration": 219,
        "start_time": "2022-03-18T19:11:20.532Z"
      },
      {
        "duration": 30,
        "start_time": "2022-03-18T19:11:53.195Z"
      },
      {
        "duration": 212,
        "start_time": "2022-03-18T19:11:56.883Z"
      },
      {
        "duration": 36,
        "start_time": "2022-03-18T19:12:47.053Z"
      },
      {
        "duration": 38370,
        "start_time": "2022-03-18T19:14:07.435Z"
      },
      {
        "duration": 49,
        "start_time": "2022-03-18T19:15:52.180Z"
      },
      {
        "duration": 32,
        "start_time": "2022-03-18T19:15:56.352Z"
      },
      {
        "duration": 33,
        "start_time": "2022-03-18T19:16:16.019Z"
      },
      {
        "duration": 44,
        "start_time": "2022-03-18T19:16:30.592Z"
      },
      {
        "duration": 148,
        "start_time": "2022-03-18T19:16:44.115Z"
      },
      {
        "duration": 186,
        "start_time": "2022-03-18T19:29:26.509Z"
      },
      {
        "duration": 38,
        "start_time": "2022-03-18T19:29:45.721Z"
      },
      {
        "duration": 176,
        "start_time": "2022-03-18T19:30:12.805Z"
      },
      {
        "duration": 201,
        "start_time": "2022-03-18T19:30:39.892Z"
      },
      {
        "duration": 951,
        "start_time": "2022-03-18T19:30:46.775Z"
      },
      {
        "duration": 7,
        "start_time": "2022-03-18T19:31:20.870Z"
      },
      {
        "duration": 12,
        "start_time": "2022-03-18T19:32:26.671Z"
      },
      {
        "duration": 102,
        "start_time": "2022-03-18T19:32:52.182Z"
      },
      {
        "duration": 107,
        "start_time": "2022-03-18T19:32:55.917Z"
      },
      {
        "duration": 117,
        "start_time": "2022-03-18T19:33:08.605Z"
      },
      {
        "duration": 143,
        "start_time": "2022-03-18T19:33:53.545Z"
      },
      {
        "duration": 42,
        "start_time": "2022-03-18T19:34:10.610Z"
      },
      {
        "duration": 240,
        "start_time": "2022-03-18T19:34:21.903Z"
      },
      {
        "duration": 743,
        "start_time": "2022-03-18T19:34:32.009Z"
      },
      {
        "duration": 40,
        "start_time": "2022-03-18T19:34:37.490Z"
      },
      {
        "duration": 32,
        "start_time": "2022-03-18T19:36:28.860Z"
      },
      {
        "duration": 5,
        "start_time": "2022-03-18T19:37:02.422Z"
      },
      {
        "duration": 5,
        "start_time": "2022-03-18T19:37:10.134Z"
      },
      {
        "duration": 71,
        "start_time": "2022-03-19T10:02:05.860Z"
      },
      {
        "duration": 1173,
        "start_time": "2022-03-19T10:02:11.997Z"
      },
      {
        "duration": 189,
        "start_time": "2022-03-19T10:02:13.174Z"
      },
      {
        "duration": 16,
        "start_time": "2022-03-19T10:02:13.366Z"
      },
      {
        "duration": 6,
        "start_time": "2022-03-19T10:02:13.385Z"
      },
      {
        "duration": 9,
        "start_time": "2022-03-19T10:02:13.392Z"
      },
      {
        "duration": 13,
        "start_time": "2022-03-19T10:02:13.403Z"
      },
      {
        "duration": 5,
        "start_time": "2022-03-19T10:02:13.418Z"
      },
      {
        "duration": 49,
        "start_time": "2022-03-19T10:02:13.425Z"
      },
      {
        "duration": 106,
        "start_time": "2022-03-19T10:02:13.476Z"
      },
      {
        "duration": 3,
        "start_time": "2022-03-19T10:02:13.586Z"
      },
      {
        "duration": 96,
        "start_time": "2022-03-19T10:02:13.591Z"
      },
      {
        "duration": 10,
        "start_time": "2022-03-19T10:02:13.690Z"
      },
      {
        "duration": 32,
        "start_time": "2022-03-19T10:02:13.702Z"
      },
      {
        "duration": 6,
        "start_time": "2022-03-19T10:02:13.737Z"
      },
      {
        "duration": 108,
        "start_time": "2022-03-19T10:02:13.745Z"
      },
      {
        "duration": 125,
        "start_time": "2022-03-19T10:02:13.856Z"
      },
      {
        "duration": 962,
        "start_time": "2022-03-19T10:02:13.985Z"
      },
      {
        "duration": 108,
        "start_time": "2022-03-19T10:02:14.950Z"
      },
      {
        "duration": 91,
        "start_time": "2022-03-19T10:02:15.061Z"
      },
      {
        "duration": 351,
        "start_time": "2022-03-19T10:02:15.154Z"
      },
      {
        "duration": 721,
        "start_time": "2022-03-19T10:02:15.509Z"
      },
      {
        "duration": 318,
        "start_time": "2022-03-19T10:02:16.232Z"
      },
      {
        "duration": 492,
        "start_time": "2022-03-19T10:02:16.553Z"
      },
      {
        "duration": 650,
        "start_time": "2022-03-19T10:02:17.048Z"
      },
      {
        "duration": 1118,
        "start_time": "2022-03-19T10:02:17.701Z"
      },
      {
        "duration": 16,
        "start_time": "2022-03-19T10:02:18.822Z"
      },
      {
        "duration": 432,
        "start_time": "2022-03-19T10:02:18.841Z"
      },
      {
        "duration": 8,
        "start_time": "2022-03-19T10:02:19.282Z"
      },
      {
        "duration": 18,
        "start_time": "2022-03-19T10:02:19.293Z"
      },
      {
        "duration": 86,
        "start_time": "2022-03-19T10:02:19.314Z"
      },
      {
        "duration": 1387,
        "start_time": "2022-03-19T10:02:19.402Z"
      },
      {
        "duration": 44,
        "start_time": "2022-03-19T10:02:20.791Z"
      },
      {
        "duration": 378,
        "start_time": "2022-03-19T10:02:20.838Z"
      },
      {
        "duration": 76,
        "start_time": "2022-03-19T10:02:21.219Z"
      },
      {
        "duration": 42,
        "start_time": "2022-03-19T10:02:21.297Z"
      },
      {
        "duration": 90,
        "start_time": "2022-03-19T10:02:21.341Z"
      },
      {
        "duration": 0,
        "start_time": "2022-03-19T10:02:21.433Z"
      },
      {
        "duration": 0,
        "start_time": "2022-03-19T10:02:21.435Z"
      },
      {
        "duration": 0,
        "start_time": "2022-03-19T10:02:21.437Z"
      },
      {
        "duration": 0,
        "start_time": "2022-03-19T10:02:21.439Z"
      },
      {
        "duration": 0,
        "start_time": "2022-03-19T10:02:21.441Z"
      },
      {
        "duration": 0,
        "start_time": "2022-03-19T10:02:21.442Z"
      },
      {
        "duration": 0,
        "start_time": "2022-03-19T10:02:21.443Z"
      },
      {
        "duration": 3,
        "start_time": "2022-03-19T10:02:38.408Z"
      },
      {
        "duration": 51,
        "start_time": "2022-03-19T10:02:40.787Z"
      },
      {
        "duration": 16,
        "start_time": "2022-03-19T10:04:31.652Z"
      },
      {
        "duration": 41,
        "start_time": "2022-03-19T10:04:33.267Z"
      },
      {
        "duration": 48,
        "start_time": "2022-03-19T10:04:34.982Z"
      },
      {
        "duration": 58,
        "start_time": "2022-03-19T10:04:36.908Z"
      },
      {
        "duration": 88,
        "start_time": "2022-03-19T10:11:51.721Z"
      },
      {
        "duration": 188,
        "start_time": "2022-03-19T10:11:59.841Z"
      },
      {
        "duration": 65,
        "start_time": "2022-03-19T10:14:30.646Z"
      },
      {
        "duration": 11,
        "start_time": "2022-03-19T10:14:35.007Z"
      },
      {
        "duration": 6,
        "start_time": "2022-03-19T10:14:42.675Z"
      },
      {
        "duration": 229,
        "start_time": "2022-03-19T10:15:09.332Z"
      },
      {
        "duration": 363,
        "start_time": "2022-03-19T10:16:16.472Z"
      },
      {
        "duration": 338,
        "start_time": "2022-03-19T10:16:26.335Z"
      },
      {
        "duration": 305,
        "start_time": "2022-03-19T10:16:32.831Z"
      },
      {
        "duration": 413,
        "start_time": "2022-03-19T10:16:42.071Z"
      },
      {
        "duration": 361,
        "start_time": "2022-03-19T10:17:14.419Z"
      },
      {
        "duration": 322,
        "start_time": "2022-03-19T10:17:53.054Z"
      },
      {
        "duration": 347,
        "start_time": "2022-03-19T10:18:21.391Z"
      },
      {
        "duration": 1617,
        "start_time": "2022-03-19T10:18:37.794Z"
      },
      {
        "duration": 391,
        "start_time": "2022-03-19T10:18:58.367Z"
      },
      {
        "duration": 28,
        "start_time": "2022-03-19T10:19:47.795Z"
      },
      {
        "duration": 326,
        "start_time": "2022-03-19T10:19:53.750Z"
      },
      {
        "duration": 295,
        "start_time": "2022-03-19T10:21:05.023Z"
      },
      {
        "duration": 367,
        "start_time": "2022-03-19T10:22:11.772Z"
      },
      {
        "duration": 378,
        "start_time": "2022-03-19T10:22:20.884Z"
      },
      {
        "duration": 0,
        "start_time": "2022-03-19T10:24:10.317Z"
      },
      {
        "duration": 0,
        "start_time": "2022-03-19T10:25:34.774Z"
      },
      {
        "duration": 0,
        "start_time": "2022-03-19T10:25:34.777Z"
      },
      {
        "duration": 111,
        "start_time": "2022-03-19T10:25:42.418Z"
      },
      {
        "duration": 211,
        "start_time": "2022-03-19T10:25:42.532Z"
      },
      {
        "duration": 12,
        "start_time": "2022-03-19T10:25:42.745Z"
      },
      {
        "duration": 9,
        "start_time": "2022-03-19T10:25:42.776Z"
      },
      {
        "duration": 25,
        "start_time": "2022-03-19T10:25:42.787Z"
      },
      {
        "duration": 28,
        "start_time": "2022-03-19T10:25:42.814Z"
      },
      {
        "duration": 5,
        "start_time": "2022-03-19T10:25:42.845Z"
      },
      {
        "duration": 13,
        "start_time": "2022-03-19T10:25:42.852Z"
      },
      {
        "duration": 121,
        "start_time": "2022-03-19T10:25:42.867Z"
      },
      {
        "duration": 4,
        "start_time": "2022-03-19T10:25:42.993Z"
      },
      {
        "duration": 103,
        "start_time": "2022-03-19T10:25:42.999Z"
      },
      {
        "duration": 24,
        "start_time": "2022-03-19T10:25:43.105Z"
      },
      {
        "duration": 63,
        "start_time": "2022-03-19T10:25:43.133Z"
      },
      {
        "duration": 6,
        "start_time": "2022-03-19T10:25:43.199Z"
      },
      {
        "duration": 94,
        "start_time": "2022-03-19T10:25:43.207Z"
      },
      {
        "duration": 86,
        "start_time": "2022-03-19T10:25:43.303Z"
      },
      {
        "duration": 565,
        "start_time": "2022-03-19T10:25:43.394Z"
      },
      {
        "duration": 71,
        "start_time": "2022-03-19T10:25:43.961Z"
      },
      {
        "duration": 76,
        "start_time": "2022-03-19T10:25:44.034Z"
      },
      {
        "duration": 501,
        "start_time": "2022-03-19T10:25:44.112Z"
      },
      {
        "duration": 1797,
        "start_time": "2022-03-19T10:25:44.615Z"
      },
      {
        "duration": 323,
        "start_time": "2022-03-19T10:25:46.415Z"
      },
      {
        "duration": 495,
        "start_time": "2022-03-19T10:25:46.740Z"
      },
      {
        "duration": 655,
        "start_time": "2022-03-19T10:25:47.238Z"
      },
      {
        "duration": 635,
        "start_time": "2022-03-19T10:25:47.896Z"
      },
      {
        "duration": 12,
        "start_time": "2022-03-19T10:25:48.533Z"
      },
      {
        "duration": 349,
        "start_time": "2022-03-19T10:25:48.548Z"
      },
      {
        "duration": 8,
        "start_time": "2022-03-19T10:25:48.902Z"
      },
      {
        "duration": 9,
        "start_time": "2022-03-19T10:25:48.912Z"
      },
      {
        "duration": 87,
        "start_time": "2022-03-19T10:25:48.923Z"
      },
      {
        "duration": 1024,
        "start_time": "2022-03-19T10:25:49.012Z"
      },
      {
        "duration": 58,
        "start_time": "2022-03-19T10:25:50.039Z"
      },
      {
        "duration": 377,
        "start_time": "2022-03-19T10:25:50.101Z"
      },
      {
        "duration": 23,
        "start_time": "2022-03-19T10:25:50.481Z"
      },
      {
        "duration": 45,
        "start_time": "2022-03-19T10:25:50.506Z"
      },
      {
        "duration": 45,
        "start_time": "2022-03-19T10:25:50.581Z"
      },
      {
        "duration": 71,
        "start_time": "2022-03-19T10:25:50.628Z"
      },
      {
        "duration": 312,
        "start_time": "2022-03-19T10:25:50.701Z"
      },
      {
        "duration": 6,
        "start_time": "2022-03-19T10:25:51.015Z"
      },
      {
        "duration": 247,
        "start_time": "2022-03-19T10:25:51.023Z"
      },
      {
        "duration": 0,
        "start_time": "2022-03-19T10:25:51.274Z"
      },
      {
        "duration": 0,
        "start_time": "2022-03-19T10:25:51.281Z"
      },
      {
        "duration": 0,
        "start_time": "2022-03-19T10:25:51.283Z"
      },
      {
        "duration": 0,
        "start_time": "2022-03-19T10:25:51.284Z"
      },
      {
        "duration": 0,
        "start_time": "2022-03-19T10:25:51.289Z"
      },
      {
        "duration": 0,
        "start_time": "2022-03-19T10:25:51.291Z"
      },
      {
        "duration": 0,
        "start_time": "2022-03-19T10:25:51.293Z"
      },
      {
        "duration": 0,
        "start_time": "2022-03-19T10:25:51.295Z"
      },
      {
        "duration": 293,
        "start_time": "2022-03-19T10:26:04.470Z"
      },
      {
        "duration": 283,
        "start_time": "2022-03-19T10:26:38.359Z"
      },
      {
        "duration": 307,
        "start_time": "2022-03-19T10:27:23.262Z"
      },
      {
        "duration": 242,
        "start_time": "2022-03-19T10:28:27.781Z"
      },
      {
        "duration": 280,
        "start_time": "2022-03-19T10:28:51.687Z"
      },
      {
        "duration": 255,
        "start_time": "2022-03-19T10:29:10.630Z"
      },
      {
        "duration": 270,
        "start_time": "2022-03-19T10:29:31.631Z"
      },
      {
        "duration": 290,
        "start_time": "2022-03-19T10:29:38.962Z"
      },
      {
        "duration": 288,
        "start_time": "2022-03-19T10:29:43.170Z"
      },
      {
        "duration": 276,
        "start_time": "2022-03-19T10:30:25.975Z"
      },
      {
        "duration": 263,
        "start_time": "2022-03-19T10:30:28.591Z"
      },
      {
        "duration": 370,
        "start_time": "2022-03-19T10:30:54.360Z"
      },
      {
        "duration": 293,
        "start_time": "2022-03-19T10:31:00.937Z"
      },
      {
        "duration": 301,
        "start_time": "2022-03-19T10:31:09.856Z"
      },
      {
        "duration": 252,
        "start_time": "2022-03-19T10:31:13.183Z"
      },
      {
        "duration": 244,
        "start_time": "2022-03-19T10:31:20.791Z"
      },
      {
        "duration": 248,
        "start_time": "2022-03-19T10:31:30.607Z"
      },
      {
        "duration": 278,
        "start_time": "2022-03-19T10:32:18.058Z"
      },
      {
        "duration": 278,
        "start_time": "2022-03-19T10:32:58.752Z"
      },
      {
        "duration": 107,
        "start_time": "2022-03-19T10:33:32.002Z"
      },
      {
        "duration": 301,
        "start_time": "2022-03-19T10:33:43.371Z"
      },
      {
        "duration": 284,
        "start_time": "2022-03-19T10:33:54.029Z"
      },
      {
        "duration": 248,
        "start_time": "2022-03-19T10:34:00.226Z"
      },
      {
        "duration": 283,
        "start_time": "2022-03-19T10:34:45.935Z"
      },
      {
        "duration": 310,
        "start_time": "2022-03-19T10:35:04.104Z"
      },
      {
        "duration": 327,
        "start_time": "2022-03-19T10:36:05.532Z"
      },
      {
        "duration": 56369,
        "start_time": "2022-03-19T10:36:45.187Z"
      },
      {
        "duration": 0,
        "start_time": "2022-03-19T10:37:41.562Z"
      },
      {
        "duration": 0,
        "start_time": "2022-03-19T10:37:41.579Z"
      },
      {
        "duration": 0,
        "start_time": "2022-03-19T10:37:41.580Z"
      },
      {
        "duration": 0,
        "start_time": "2022-03-19T10:37:41.585Z"
      },
      {
        "duration": 0,
        "start_time": "2022-03-19T10:37:41.587Z"
      },
      {
        "duration": 0,
        "start_time": "2022-03-19T10:37:41.589Z"
      },
      {
        "duration": 0,
        "start_time": "2022-03-19T10:37:41.591Z"
      },
      {
        "duration": 0,
        "start_time": "2022-03-19T10:37:41.592Z"
      },
      {
        "duration": 0,
        "start_time": "2022-03-19T10:37:41.594Z"
      },
      {
        "duration": 0,
        "start_time": "2022-03-19T10:37:41.596Z"
      },
      {
        "duration": 0,
        "start_time": "2022-03-19T10:37:41.597Z"
      },
      {
        "duration": 0,
        "start_time": "2022-03-19T10:37:41.598Z"
      },
      {
        "duration": 0,
        "start_time": "2022-03-19T10:37:41.600Z"
      },
      {
        "duration": 0,
        "start_time": "2022-03-19T10:37:41.601Z"
      },
      {
        "duration": 0,
        "start_time": "2022-03-19T10:37:41.603Z"
      },
      {
        "duration": 0,
        "start_time": "2022-03-19T10:37:41.604Z"
      },
      {
        "duration": 0,
        "start_time": "2022-03-19T10:37:41.605Z"
      },
      {
        "duration": 0,
        "start_time": "2022-03-19T10:37:41.606Z"
      },
      {
        "duration": 0,
        "start_time": "2022-03-19T10:37:41.608Z"
      },
      {
        "duration": 0,
        "start_time": "2022-03-19T10:37:41.610Z"
      },
      {
        "duration": 0,
        "start_time": "2022-03-19T10:37:41.612Z"
      },
      {
        "duration": 0,
        "start_time": "2022-03-19T10:37:41.613Z"
      },
      {
        "duration": 0,
        "start_time": "2022-03-19T10:37:41.615Z"
      },
      {
        "duration": 0,
        "start_time": "2022-03-19T10:37:41.676Z"
      },
      {
        "duration": 0,
        "start_time": "2022-03-19T10:37:41.678Z"
      },
      {
        "duration": 0,
        "start_time": "2022-03-19T10:37:41.682Z"
      },
      {
        "duration": 1,
        "start_time": "2022-03-19T10:37:41.683Z"
      },
      {
        "duration": 0,
        "start_time": "2022-03-19T10:37:41.685Z"
      },
      {
        "duration": 0,
        "start_time": "2022-03-19T10:37:41.687Z"
      },
      {
        "duration": 0,
        "start_time": "2022-03-19T10:37:41.688Z"
      },
      {
        "duration": 0,
        "start_time": "2022-03-19T10:37:41.689Z"
      },
      {
        "duration": 0,
        "start_time": "2022-03-19T10:37:41.693Z"
      },
      {
        "duration": 0,
        "start_time": "2022-03-19T10:37:41.694Z"
      },
      {
        "duration": 0,
        "start_time": "2022-03-19T10:37:41.696Z"
      },
      {
        "duration": 0,
        "start_time": "2022-03-19T10:37:41.698Z"
      },
      {
        "duration": 0,
        "start_time": "2022-03-19T10:37:41.699Z"
      },
      {
        "duration": 0,
        "start_time": "2022-03-19T10:37:41.700Z"
      },
      {
        "duration": 1,
        "start_time": "2022-03-19T10:37:41.701Z"
      },
      {
        "duration": 0,
        "start_time": "2022-03-19T10:37:41.703Z"
      },
      {
        "duration": 0,
        "start_time": "2022-03-19T10:37:41.704Z"
      },
      {
        "duration": 0,
        "start_time": "2022-03-19T10:37:41.705Z"
      },
      {
        "duration": 0,
        "start_time": "2022-03-19T10:37:41.707Z"
      },
      {
        "duration": 0,
        "start_time": "2022-03-19T10:37:41.709Z"
      },
      {
        "duration": 0,
        "start_time": "2022-03-19T10:37:41.710Z"
      },
      {
        "duration": 1,
        "start_time": "2022-03-19T10:37:41.711Z"
      },
      {
        "duration": 102,
        "start_time": "2022-03-19T10:38:32.713Z"
      },
      {
        "duration": 181,
        "start_time": "2022-03-19T10:38:32.818Z"
      },
      {
        "duration": 12,
        "start_time": "2022-03-19T10:38:33.001Z"
      },
      {
        "duration": 7,
        "start_time": "2022-03-19T10:38:33.015Z"
      },
      {
        "duration": 8,
        "start_time": "2022-03-19T10:38:33.026Z"
      },
      {
        "duration": 47,
        "start_time": "2022-03-19T10:38:33.036Z"
      },
      {
        "duration": 5,
        "start_time": "2022-03-19T10:38:33.086Z"
      },
      {
        "duration": 8,
        "start_time": "2022-03-19T10:38:33.093Z"
      },
      {
        "duration": 120,
        "start_time": "2022-03-19T10:38:33.103Z"
      },
      {
        "duration": 4,
        "start_time": "2022-03-19T10:38:33.225Z"
      },
      {
        "duration": 99,
        "start_time": "2022-03-19T10:38:33.231Z"
      },
      {
        "duration": 16,
        "start_time": "2022-03-19T10:38:33.332Z"
      },
      {
        "duration": 49,
        "start_time": "2022-03-19T10:38:33.350Z"
      },
      {
        "duration": 5,
        "start_time": "2022-03-19T10:38:33.404Z"
      },
      {
        "duration": 96,
        "start_time": "2022-03-19T10:38:33.412Z"
      },
      {
        "duration": 79,
        "start_time": "2022-03-19T10:38:33.511Z"
      },
      {
        "duration": 1183,
        "start_time": "2022-03-19T10:38:33.593Z"
      },
      {
        "duration": 65,
        "start_time": "2022-03-19T10:38:34.778Z"
      },
      {
        "duration": 82,
        "start_time": "2022-03-19T10:38:34.846Z"
      },
      {
        "duration": 326,
        "start_time": "2022-03-19T10:38:34.931Z"
      },
      {
        "duration": 661,
        "start_time": "2022-03-19T10:38:35.260Z"
      },
      {
        "duration": 310,
        "start_time": "2022-03-19T10:38:35.924Z"
      },
      {
        "duration": 537,
        "start_time": "2022-03-19T10:38:36.236Z"
      },
      {
        "duration": 620,
        "start_time": "2022-03-19T10:38:36.776Z"
      },
      {
        "duration": 608,
        "start_time": "2022-03-19T10:38:37.399Z"
      },
      {
        "duration": 12,
        "start_time": "2022-03-19T10:38:38.009Z"
      },
      {
        "duration": 344,
        "start_time": "2022-03-19T10:38:38.024Z"
      },
      {
        "duration": 7,
        "start_time": "2022-03-19T10:38:38.373Z"
      },
      {
        "duration": 23,
        "start_time": "2022-03-19T10:38:38.382Z"
      },
      {
        "duration": 66,
        "start_time": "2022-03-19T10:38:38.407Z"
      },
      {
        "duration": 961,
        "start_time": "2022-03-19T10:38:38.476Z"
      },
      {
        "duration": 50,
        "start_time": "2022-03-19T10:38:39.439Z"
      },
      {
        "duration": 356,
        "start_time": "2022-03-19T10:38:39.491Z"
      },
      {
        "duration": 34,
        "start_time": "2022-03-19T10:38:39.849Z"
      },
      {
        "duration": 43,
        "start_time": "2022-03-19T10:38:39.886Z"
      },
      {
        "duration": 68,
        "start_time": "2022-03-19T10:38:39.932Z"
      },
      {
        "duration": 50,
        "start_time": "2022-03-19T10:38:40.003Z"
      },
      {
        "duration": 278,
        "start_time": "2022-03-19T10:38:40.073Z"
      },
      {
        "duration": 275,
        "start_time": "2022-03-19T10:38:40.354Z"
      },
      {
        "duration": 293,
        "start_time": "2022-03-19T10:38:40.631Z"
      },
      {
        "duration": 325,
        "start_time": "2022-03-19T10:38:40.930Z"
      },
      {
        "duration": 18,
        "start_time": "2022-03-19T10:38:41.257Z"
      },
      {
        "duration": 0,
        "start_time": "2022-03-19T10:38:41.277Z"
      },
      {
        "duration": 0,
        "start_time": "2022-03-19T10:38:41.279Z"
      },
      {
        "duration": 277,
        "start_time": "2022-03-19T10:38:54.230Z"
      },
      {
        "duration": 261,
        "start_time": "2022-03-19T10:41:22.412Z"
      },
      {
        "duration": 277,
        "start_time": "2022-03-19T10:41:24.676Z"
      },
      {
        "duration": 262,
        "start_time": "2022-03-19T10:41:27.021Z"
      },
      {
        "duration": 304,
        "start_time": "2022-03-19T10:41:28.630Z"
      },
      {
        "duration": 53,
        "start_time": "2022-03-19T10:44:33.656Z"
      },
      {
        "duration": 60,
        "start_time": "2022-03-19T10:45:45.059Z"
      },
      {
        "duration": 23,
        "start_time": "2022-03-19T10:46:28.893Z"
      },
      {
        "duration": 250,
        "start_time": "2022-03-19T10:46:42.236Z"
      },
      {
        "duration": 130,
        "start_time": "2022-03-19T10:47:04.447Z"
      },
      {
        "duration": 25,
        "start_time": "2022-03-19T10:47:11.641Z"
      },
      {
        "duration": 318,
        "start_time": "2022-03-19T10:48:04.377Z"
      },
      {
        "duration": 78,
        "start_time": "2022-03-19T10:49:44.341Z"
      },
      {
        "duration": 39,
        "start_time": "2022-03-19T10:50:14.879Z"
      },
      {
        "duration": 19,
        "start_time": "2022-03-19T10:51:06.269Z"
      },
      {
        "duration": 311,
        "start_time": "2022-03-19T10:51:09.465Z"
      },
      {
        "duration": 391,
        "start_time": "2022-03-19T10:51:45.145Z"
      },
      {
        "duration": 311,
        "start_time": "2022-03-19T10:54:28.807Z"
      },
      {
        "duration": 258,
        "start_time": "2022-03-19T10:56:21.509Z"
      },
      {
        "duration": 260,
        "start_time": "2022-03-19T10:57:31.874Z"
      },
      {
        "duration": 258,
        "start_time": "2022-03-19T10:57:45.798Z"
      },
      {
        "duration": 304,
        "start_time": "2022-03-19T10:58:15.041Z"
      },
      {
        "duration": 332,
        "start_time": "2022-03-19T10:58:51.276Z"
      },
      {
        "duration": 269,
        "start_time": "2022-03-19T10:59:22.681Z"
      },
      {
        "duration": 263,
        "start_time": "2022-03-19T10:59:25.602Z"
      },
      {
        "duration": 276,
        "start_time": "2022-03-19T10:59:29.126Z"
      },
      {
        "duration": 254,
        "start_time": "2022-03-19T10:59:31.139Z"
      },
      {
        "duration": 272,
        "start_time": "2022-03-19T10:59:35.405Z"
      },
      {
        "duration": 279,
        "start_time": "2022-03-19T10:59:49.204Z"
      },
      {
        "duration": 252,
        "start_time": "2022-03-19T11:01:03.430Z"
      },
      {
        "duration": 288,
        "start_time": "2022-03-19T11:02:35.766Z"
      },
      {
        "duration": 278,
        "start_time": "2022-03-19T11:02:48.230Z"
      },
      {
        "duration": 260,
        "start_time": "2022-03-19T11:02:52.612Z"
      },
      {
        "duration": 257,
        "start_time": "2022-03-19T11:02:58.032Z"
      },
      {
        "duration": 146,
        "start_time": "2022-03-19T11:03:56.856Z"
      },
      {
        "duration": 149,
        "start_time": "2022-03-19T11:04:00.470Z"
      },
      {
        "duration": 20,
        "start_time": "2022-03-19T11:04:03.218Z"
      },
      {
        "duration": 254,
        "start_time": "2022-03-19T11:04:27.688Z"
      },
      {
        "duration": 269,
        "start_time": "2022-03-19T11:04:32.663Z"
      },
      {
        "duration": 259,
        "start_time": "2022-03-19T11:06:13.796Z"
      },
      {
        "duration": 348,
        "start_time": "2022-03-19T11:06:34.709Z"
      },
      {
        "duration": 260,
        "start_time": "2022-03-19T11:06:47.497Z"
      },
      {
        "duration": 53,
        "start_time": "2022-03-19T11:07:17.958Z"
      },
      {
        "duration": 87,
        "start_time": "2022-03-19T11:07:47.750Z"
      },
      {
        "duration": 89,
        "start_time": "2022-03-19T11:07:50.343Z"
      },
      {
        "duration": 4,
        "start_time": "2022-03-19T11:07:54.833Z"
      },
      {
        "duration": 58,
        "start_time": "2022-03-19T11:07:56.521Z"
      },
      {
        "duration": 59,
        "start_time": "2022-03-19T11:08:03.836Z"
      },
      {
        "duration": 57,
        "start_time": "2022-03-19T11:08:06.045Z"
      },
      {
        "duration": 36,
        "start_time": "2022-03-19T11:08:15.064Z"
      },
      {
        "duration": 34,
        "start_time": "2022-03-19T11:08:24.760Z"
      },
      {
        "duration": 37,
        "start_time": "2022-03-19T11:08:39.924Z"
      },
      {
        "duration": 283,
        "start_time": "2022-03-19T11:09:13.255Z"
      },
      {
        "duration": 249,
        "start_time": "2022-03-19T11:09:31.622Z"
      },
      {
        "duration": 57,
        "start_time": "2022-03-19T11:09:45.060Z"
      },
      {
        "duration": 261,
        "start_time": "2022-03-19T11:11:53.877Z"
      },
      {
        "duration": 303,
        "start_time": "2022-03-19T11:11:59.235Z"
      },
      {
        "duration": 77,
        "start_time": "2022-03-19T11:12:15.880Z"
      },
      {
        "duration": 82,
        "start_time": "2022-03-19T11:12:30.514Z"
      },
      {
        "duration": 91,
        "start_time": "2022-03-19T11:12:37.953Z"
      },
      {
        "duration": 73,
        "start_time": "2022-03-19T11:12:41.672Z"
      },
      {
        "duration": 57,
        "start_time": "2022-03-19T11:12:52.397Z"
      },
      {
        "duration": 57,
        "start_time": "2022-03-19T11:13:04.129Z"
      },
      {
        "duration": 85,
        "start_time": "2022-03-19T11:13:15.623Z"
      },
      {
        "duration": 55,
        "start_time": "2022-03-19T11:13:25.176Z"
      },
      {
        "duration": 57,
        "start_time": "2022-03-19T11:13:43.299Z"
      },
      {
        "duration": 61,
        "start_time": "2022-03-19T11:13:49.076Z"
      },
      {
        "duration": 285,
        "start_time": "2022-03-19T11:13:53.389Z"
      },
      {
        "duration": 285,
        "start_time": "2022-03-19T11:14:19.602Z"
      },
      {
        "duration": 332,
        "start_time": "2022-03-19T11:14:23.100Z"
      },
      {
        "duration": 429,
        "start_time": "2022-03-19T11:14:50.761Z"
      },
      {
        "duration": 393,
        "start_time": "2022-03-19T11:15:06.122Z"
      },
      {
        "duration": 388,
        "start_time": "2022-03-19T11:15:12.603Z"
      },
      {
        "duration": 269,
        "start_time": "2022-03-19T11:15:28.400Z"
      },
      {
        "duration": 6,
        "start_time": "2022-03-19T11:23:52.215Z"
      },
      {
        "duration": 6,
        "start_time": "2022-03-19T11:24:09.618Z"
      },
      {
        "duration": 6,
        "start_time": "2022-03-19T11:24:22.384Z"
      },
      {
        "duration": 7,
        "start_time": "2022-03-19T11:24:28.299Z"
      },
      {
        "duration": 6,
        "start_time": "2022-03-19T11:24:33.489Z"
      },
      {
        "duration": 7,
        "start_time": "2022-03-19T11:24:43.951Z"
      },
      {
        "duration": 8,
        "start_time": "2022-03-19T11:25:10.344Z"
      },
      {
        "duration": 7,
        "start_time": "2022-03-19T11:25:30.762Z"
      },
      {
        "duration": 7,
        "start_time": "2022-03-19T11:25:52.314Z"
      },
      {
        "duration": 67,
        "start_time": "2022-03-19T11:34:58.799Z"
      },
      {
        "duration": 43,
        "start_time": "2022-03-19T11:35:18.666Z"
      },
      {
        "duration": 36,
        "start_time": "2022-03-19T11:37:13.636Z"
      },
      {
        "duration": 84,
        "start_time": "2022-03-19T12:21:26.893Z"
      },
      {
        "duration": 59,
        "start_time": "2022-03-19T12:32:02.260Z"
      },
      {
        "duration": 7,
        "start_time": "2022-03-19T12:32:10.671Z"
      },
      {
        "duration": 62,
        "start_time": "2022-03-19T12:34:33.453Z"
      },
      {
        "duration": 36,
        "start_time": "2022-03-19T12:34:51.978Z"
      },
      {
        "duration": 8,
        "start_time": "2022-03-19T12:35:03.840Z"
      },
      {
        "duration": 9,
        "start_time": "2022-03-19T12:35:06.237Z"
      },
      {
        "duration": 12,
        "start_time": "2022-03-19T12:35:14.717Z"
      },
      {
        "duration": 30,
        "start_time": "2022-03-19T12:35:23.209Z"
      },
      {
        "duration": 110,
        "start_time": "2022-03-19T12:37:22.603Z"
      },
      {
        "duration": 207,
        "start_time": "2022-03-19T12:37:22.717Z"
      },
      {
        "duration": 12,
        "start_time": "2022-03-19T12:37:22.926Z"
      },
      {
        "duration": 36,
        "start_time": "2022-03-19T12:37:22.941Z"
      },
      {
        "duration": 23,
        "start_time": "2022-03-19T12:37:22.979Z"
      },
      {
        "duration": 14,
        "start_time": "2022-03-19T12:37:23.005Z"
      },
      {
        "duration": 6,
        "start_time": "2022-03-19T12:37:23.021Z"
      },
      {
        "duration": 13,
        "start_time": "2022-03-19T12:37:23.029Z"
      },
      {
        "duration": 120,
        "start_time": "2022-03-19T12:37:23.044Z"
      },
      {
        "duration": 8,
        "start_time": "2022-03-19T12:37:23.168Z"
      },
      {
        "duration": 98,
        "start_time": "2022-03-19T12:37:23.179Z"
      },
      {
        "duration": 16,
        "start_time": "2022-03-19T12:37:23.280Z"
      },
      {
        "duration": 21,
        "start_time": "2022-03-19T12:37:23.298Z"
      },
      {
        "duration": 6,
        "start_time": "2022-03-19T12:37:23.321Z"
      },
      {
        "duration": 127,
        "start_time": "2022-03-19T12:37:23.330Z"
      },
      {
        "duration": 880,
        "start_time": "2022-03-19T12:37:23.459Z"
      },
      {
        "duration": 106,
        "start_time": "2022-03-19T12:37:24.342Z"
      },
      {
        "duration": 458,
        "start_time": "2022-03-19T12:37:24.450Z"
      },
      {
        "duration": 1003,
        "start_time": "2022-03-19T12:37:24.911Z"
      },
      {
        "duration": 464,
        "start_time": "2022-03-19T12:37:25.918Z"
      },
      {
        "duration": 732,
        "start_time": "2022-03-19T12:37:26.384Z"
      },
      {
        "duration": 852,
        "start_time": "2022-03-19T12:37:27.119Z"
      },
      {
        "duration": 1502,
        "start_time": "2022-03-19T12:37:27.975Z"
      },
      {
        "duration": 21,
        "start_time": "2022-03-19T12:37:29.479Z"
      },
      {
        "duration": 409,
        "start_time": "2022-03-19T12:37:29.503Z"
      },
      {
        "duration": 7,
        "start_time": "2022-03-19T12:37:29.915Z"
      },
      {
        "duration": 7,
        "start_time": "2022-03-19T12:37:29.924Z"
      },
      {
        "duration": 50,
        "start_time": "2022-03-19T12:37:29.936Z"
      },
      {
        "duration": 985,
        "start_time": "2022-03-19T12:37:29.989Z"
      },
      {
        "duration": 15,
        "start_time": "2022-03-19T12:37:30.977Z"
      },
      {
        "duration": 57,
        "start_time": "2022-03-19T12:37:30.995Z"
      },
      {
        "duration": 385,
        "start_time": "2022-03-19T12:37:31.055Z"
      },
      {
        "duration": 34,
        "start_time": "2022-03-19T12:37:31.443Z"
      },
      {
        "duration": 45,
        "start_time": "2022-03-19T12:37:31.480Z"
      },
      {
        "duration": 68,
        "start_time": "2022-03-19T12:37:31.527Z"
      },
      {
        "duration": 54,
        "start_time": "2022-03-19T12:37:31.597Z"
      },
      {
        "duration": 313,
        "start_time": "2022-03-19T12:37:31.653Z"
      },
      {
        "duration": 280,
        "start_time": "2022-03-19T12:37:31.969Z"
      },
      {
        "duration": 285,
        "start_time": "2022-03-19T12:37:32.251Z"
      },
      {
        "duration": 275,
        "start_time": "2022-03-19T12:37:32.538Z"
      },
      {
        "duration": 303,
        "start_time": "2022-03-19T12:37:32.816Z"
      },
      {
        "duration": 315,
        "start_time": "2022-03-19T12:37:33.121Z"
      },
      {
        "duration": 7,
        "start_time": "2022-03-19T12:37:33.438Z"
      },
      {
        "duration": 292,
        "start_time": "2022-03-19T12:37:33.448Z"
      },
      {
        "duration": 276,
        "start_time": "2022-03-19T12:37:33.743Z"
      },
      {
        "duration": 289,
        "start_time": "2022-03-19T12:37:34.021Z"
      },
      {
        "duration": 1419,
        "start_time": "2022-03-30T04:39:56.035Z"
      },
      {
        "duration": 186,
        "start_time": "2022-03-30T04:39:57.457Z"
      },
      {
        "duration": 11,
        "start_time": "2022-03-30T04:39:57.645Z"
      },
      {
        "duration": 7,
        "start_time": "2022-03-30T04:39:57.658Z"
      },
      {
        "duration": 11,
        "start_time": "2022-03-30T04:39:57.667Z"
      },
      {
        "duration": 12,
        "start_time": "2022-03-30T04:39:57.680Z"
      },
      {
        "duration": 4,
        "start_time": "2022-03-30T04:39:57.694Z"
      },
      {
        "duration": 45,
        "start_time": "2022-03-30T04:39:57.700Z"
      },
      {
        "duration": 106,
        "start_time": "2022-03-30T04:39:57.747Z"
      },
      {
        "duration": 3,
        "start_time": "2022-03-30T04:39:57.857Z"
      },
      {
        "duration": 95,
        "start_time": "2022-03-30T04:39:57.862Z"
      },
      {
        "duration": 10,
        "start_time": "2022-03-30T04:39:57.959Z"
      },
      {
        "duration": 25,
        "start_time": "2022-03-30T04:39:57.971Z"
      },
      {
        "duration": 12,
        "start_time": "2022-03-30T04:39:57.998Z"
      },
      {
        "duration": 101,
        "start_time": "2022-03-30T04:39:58.013Z"
      },
      {
        "duration": 527,
        "start_time": "2022-03-30T04:39:58.117Z"
      },
      {
        "duration": 58,
        "start_time": "2022-03-30T04:39:58.647Z"
      },
      {
        "duration": 313,
        "start_time": "2022-03-30T04:39:58.707Z"
      },
      {
        "duration": 639,
        "start_time": "2022-03-30T04:39:59.022Z"
      },
      {
        "duration": 288,
        "start_time": "2022-03-30T04:39:59.664Z"
      },
      {
        "duration": 448,
        "start_time": "2022-03-30T04:39:59.954Z"
      },
      {
        "duration": 594,
        "start_time": "2022-03-30T04:40:00.404Z"
      },
      {
        "duration": 687,
        "start_time": "2022-03-30T04:40:01.001Z"
      },
      {
        "duration": 12,
        "start_time": "2022-03-30T04:40:01.691Z"
      },
      {
        "duration": 441,
        "start_time": "2022-03-30T04:40:01.705Z"
      },
      {
        "duration": 8,
        "start_time": "2022-03-30T04:40:02.148Z"
      },
      {
        "duration": 10,
        "start_time": "2022-03-30T04:40:02.158Z"
      },
      {
        "duration": 16,
        "start_time": "2022-03-30T04:40:02.172Z"
      },
      {
        "duration": 959,
        "start_time": "2022-03-30T04:40:02.190Z"
      },
      {
        "duration": 12,
        "start_time": "2022-03-30T04:40:03.151Z"
      },
      {
        "duration": 35,
        "start_time": "2022-03-30T04:40:03.165Z"
      },
      {
        "duration": 373,
        "start_time": "2022-03-30T04:40:03.202Z"
      },
      {
        "duration": 20,
        "start_time": "2022-03-30T04:40:03.578Z"
      },
      {
        "duration": 71,
        "start_time": "2022-03-30T04:40:03.600Z"
      },
      {
        "duration": 44,
        "start_time": "2022-03-30T04:40:03.674Z"
      },
      {
        "duration": 71,
        "start_time": "2022-03-30T04:40:03.721Z"
      },
      {
        "duration": 261,
        "start_time": "2022-03-30T04:40:03.794Z"
      },
      {
        "duration": 264,
        "start_time": "2022-03-30T04:40:04.058Z"
      },
      {
        "duration": 264,
        "start_time": "2022-03-30T04:40:04.325Z"
      },
      {
        "duration": 251,
        "start_time": "2022-03-30T04:40:04.592Z"
      },
      {
        "duration": 261,
        "start_time": "2022-03-30T04:40:04.846Z"
      },
      {
        "duration": 352,
        "start_time": "2022-03-30T04:40:05.109Z"
      },
      {
        "duration": 8,
        "start_time": "2022-03-30T04:40:05.463Z"
      },
      {
        "duration": 270,
        "start_time": "2022-03-30T04:40:05.473Z"
      },
      {
        "duration": 249,
        "start_time": "2022-03-30T04:40:05.745Z"
      },
      {
        "duration": 269,
        "start_time": "2022-03-30T04:40:05.997Z"
      },
      {
        "duration": 1075,
        "start_time": "2022-03-30T04:52:13.327Z"
      },
      {
        "duration": 181,
        "start_time": "2022-03-30T04:52:14.404Z"
      },
      {
        "duration": 11,
        "start_time": "2022-03-30T04:52:14.588Z"
      },
      {
        "duration": 6,
        "start_time": "2022-03-30T04:52:14.602Z"
      },
      {
        "duration": 39,
        "start_time": "2022-03-30T04:52:14.610Z"
      },
      {
        "duration": 14,
        "start_time": "2022-03-30T04:52:14.652Z"
      },
      {
        "duration": 5,
        "start_time": "2022-03-30T04:52:14.668Z"
      },
      {
        "duration": 7,
        "start_time": "2022-03-30T04:52:19.652Z"
      },
      {
        "duration": 5,
        "start_time": "2022-03-30T04:52:21.163Z"
      },
      {
        "duration": 6,
        "start_time": "2022-03-30T04:52:26.786Z"
      },
      {
        "duration": 1078,
        "start_time": "2022-03-30T04:52:44.153Z"
      },
      {
        "duration": 211,
        "start_time": "2022-03-30T04:52:45.234Z"
      },
      {
        "duration": 17,
        "start_time": "2022-03-30T04:52:45.448Z"
      },
      {
        "duration": 9,
        "start_time": "2022-03-30T04:52:45.470Z"
      },
      {
        "duration": 11,
        "start_time": "2022-03-30T04:52:45.482Z"
      },
      {
        "duration": 53,
        "start_time": "2022-03-30T04:52:45.495Z"
      },
      {
        "duration": 5,
        "start_time": "2022-03-30T04:52:45.550Z"
      },
      {
        "duration": 5,
        "start_time": "2022-03-30T04:52:45.558Z"
      },
      {
        "duration": 124,
        "start_time": "2022-03-30T04:52:45.566Z"
      },
      {
        "duration": 4,
        "start_time": "2022-03-30T04:52:45.693Z"
      },
      {
        "duration": 177,
        "start_time": "2022-03-30T04:52:45.700Z"
      },
      {
        "duration": 68,
        "start_time": "2022-03-30T04:52:45.879Z"
      },
      {
        "duration": 16,
        "start_time": "2022-03-30T04:52:45.949Z"
      },
      {
        "duration": 5,
        "start_time": "2022-03-30T04:52:45.967Z"
      },
      {
        "duration": 184,
        "start_time": "2022-03-30T04:52:45.974Z"
      },
      {
        "duration": 1023,
        "start_time": "2022-03-30T04:52:46.160Z"
      },
      {
        "duration": 173,
        "start_time": "2022-03-30T04:52:47.185Z"
      },
      {
        "duration": 712,
        "start_time": "2022-03-30T04:52:47.361Z"
      },
      {
        "duration": 837,
        "start_time": "2022-03-30T04:52:48.076Z"
      },
      {
        "duration": 294,
        "start_time": "2022-03-30T04:52:48.915Z"
      },
      {
        "duration": 472,
        "start_time": "2022-03-30T04:52:49.212Z"
      },
      {
        "duration": 576,
        "start_time": "2022-03-30T04:52:49.687Z"
      },
      {
        "duration": 681,
        "start_time": "2022-03-30T04:52:50.265Z"
      },
      {
        "duration": 12,
        "start_time": "2022-03-30T04:52:50.948Z"
      },
      {
        "duration": 317,
        "start_time": "2022-03-30T04:52:50.962Z"
      },
      {
        "duration": 8,
        "start_time": "2022-03-30T04:52:51.281Z"
      },
      {
        "duration": 6,
        "start_time": "2022-03-30T04:52:51.291Z"
      },
      {
        "duration": 6,
        "start_time": "2022-03-30T04:52:51.303Z"
      },
      {
        "duration": 901,
        "start_time": "2022-03-30T04:52:51.342Z"
      },
      {
        "duration": 12,
        "start_time": "2022-03-30T04:52:52.246Z"
      },
      {
        "duration": 35,
        "start_time": "2022-03-30T04:52:52.261Z"
      },
      {
        "duration": 372,
        "start_time": "2022-03-30T04:52:52.298Z"
      },
      {
        "duration": 19,
        "start_time": "2022-03-30T04:52:52.673Z"
      },
      {
        "duration": 66,
        "start_time": "2022-03-30T04:52:52.695Z"
      },
      {
        "duration": 42,
        "start_time": "2022-03-30T04:52:52.763Z"
      },
      {
        "duration": 72,
        "start_time": "2022-03-30T04:52:52.807Z"
      },
      {
        "duration": 255,
        "start_time": "2022-03-30T04:52:52.882Z"
      },
      {
        "duration": 256,
        "start_time": "2022-03-30T04:52:53.142Z"
      },
      {
        "duration": 277,
        "start_time": "2022-03-30T04:52:53.400Z"
      },
      {
        "duration": 265,
        "start_time": "2022-03-30T04:52:53.680Z"
      },
      {
        "duration": 278,
        "start_time": "2022-03-30T04:52:53.947Z"
      },
      {
        "duration": 363,
        "start_time": "2022-03-30T04:52:54.227Z"
      },
      {
        "duration": 8,
        "start_time": "2022-03-30T04:52:54.594Z"
      },
      {
        "duration": 380,
        "start_time": "2022-03-30T04:52:54.606Z"
      },
      {
        "duration": 356,
        "start_time": "2022-03-30T04:52:54.989Z"
      },
      {
        "duration": 261,
        "start_time": "2022-03-30T04:52:55.348Z"
      },
      {
        "duration": 9,
        "start_time": "2022-03-30T04:55:12.666Z"
      },
      {
        "duration": 893,
        "start_time": "2022-03-30T17:58:16.974Z"
      },
      {
        "duration": 78,
        "start_time": "2022-03-30T17:58:17.869Z"
      },
      {
        "duration": 24,
        "start_time": "2022-03-30T17:58:17.950Z"
      },
      {
        "duration": 97,
        "start_time": "2022-03-30T17:58:17.976Z"
      },
      {
        "duration": 69,
        "start_time": "2022-03-30T17:58:18.074Z"
      },
      {
        "duration": 8,
        "start_time": "2022-03-30T17:58:18.145Z"
      },
      {
        "duration": 5,
        "start_time": "2022-03-30T17:58:18.155Z"
      },
      {
        "duration": 9,
        "start_time": "2022-03-30T17:58:18.162Z"
      },
      {
        "duration": 12,
        "start_time": "2022-03-30T17:58:18.173Z"
      },
      {
        "duration": 4,
        "start_time": "2022-03-30T17:58:18.188Z"
      },
      {
        "duration": 5,
        "start_time": "2022-03-30T17:58:18.193Z"
      },
      {
        "duration": 98,
        "start_time": "2022-03-30T17:58:18.200Z"
      },
      {
        "duration": 2,
        "start_time": "2022-03-30T17:58:18.300Z"
      },
      {
        "duration": 74,
        "start_time": "2022-03-30T17:58:18.304Z"
      },
      {
        "duration": 8,
        "start_time": "2022-03-30T17:58:18.379Z"
      },
      {
        "duration": 13,
        "start_time": "2022-03-30T17:58:18.389Z"
      },
      {
        "duration": 9,
        "start_time": "2022-03-30T17:58:18.404Z"
      },
      {
        "duration": 79,
        "start_time": "2022-03-30T17:58:18.415Z"
      },
      {
        "duration": 379,
        "start_time": "2022-03-30T17:58:18.496Z"
      },
      {
        "duration": 41,
        "start_time": "2022-03-30T17:58:18.877Z"
      },
      {
        "duration": 200,
        "start_time": "2022-03-30T17:58:18.920Z"
      },
      {
        "duration": 462,
        "start_time": "2022-03-30T17:58:19.121Z"
      },
      {
        "duration": 249,
        "start_time": "2022-03-30T17:58:19.585Z"
      },
      {
        "duration": 382,
        "start_time": "2022-03-30T17:58:19.836Z"
      },
      {
        "duration": 405,
        "start_time": "2022-03-30T17:58:20.220Z"
      },
      {
        "duration": 486,
        "start_time": "2022-03-30T17:58:20.632Z"
      },
      {
        "duration": 14,
        "start_time": "2022-03-30T17:58:21.120Z"
      },
      {
        "duration": 203,
        "start_time": "2022-03-30T17:58:21.138Z"
      },
      {
        "duration": 6,
        "start_time": "2022-03-30T17:58:21.343Z"
      },
      {
        "duration": 7,
        "start_time": "2022-03-30T17:58:21.351Z"
      },
      {
        "duration": 9,
        "start_time": "2022-03-30T17:58:21.360Z"
      },
      {
        "duration": 628,
        "start_time": "2022-03-30T17:58:21.370Z"
      },
      {
        "duration": 8,
        "start_time": "2022-03-30T17:58:22.000Z"
      },
      {
        "duration": 39,
        "start_time": "2022-03-30T17:58:22.010Z"
      },
      {
        "duration": 234,
        "start_time": "2022-03-30T17:58:22.051Z"
      },
      {
        "duration": 14,
        "start_time": "2022-03-30T17:58:22.287Z"
      },
      {
        "duration": 43,
        "start_time": "2022-03-30T17:58:22.303Z"
      },
      {
        "duration": 32,
        "start_time": "2022-03-30T17:58:22.347Z"
      },
      {
        "duration": 53,
        "start_time": "2022-03-30T17:58:22.380Z"
      },
      {
        "duration": 173,
        "start_time": "2022-03-30T17:58:22.434Z"
      },
      {
        "duration": 176,
        "start_time": "2022-03-30T17:58:22.609Z"
      },
      {
        "duration": 197,
        "start_time": "2022-03-30T17:58:22.787Z"
      },
      {
        "duration": 160,
        "start_time": "2022-03-30T17:58:22.986Z"
      },
      {
        "duration": 196,
        "start_time": "2022-03-30T17:58:23.147Z"
      },
      {
        "duration": 270,
        "start_time": "2022-03-30T17:58:23.345Z"
      },
      {
        "duration": 15,
        "start_time": "2022-03-30T17:58:23.617Z"
      },
      {
        "duration": 170,
        "start_time": "2022-03-30T17:58:23.635Z"
      },
      {
        "duration": 180,
        "start_time": "2022-03-30T17:58:23.806Z"
      },
      {
        "duration": 188,
        "start_time": "2022-03-30T17:58:23.988Z"
      },
      {
        "duration": 244,
        "start_time": "2022-03-30T17:59:27.188Z"
      },
      {
        "duration": 41,
        "start_time": "2022-03-30T17:59:34.888Z"
      },
      {
        "duration": 2,
        "start_time": "2022-03-30T17:59:41.116Z"
      },
      {
        "duration": 86,
        "start_time": "2022-03-30T17:59:41.121Z"
      },
      {
        "duration": 31,
        "start_time": "2022-03-30T17:59:41.208Z"
      },
      {
        "duration": 74,
        "start_time": "2022-03-30T17:59:41.241Z"
      },
      {
        "duration": 56,
        "start_time": "2022-03-30T17:59:41.332Z"
      },
      {
        "duration": 8,
        "start_time": "2022-03-30T17:59:41.389Z"
      },
      {
        "duration": 20,
        "start_time": "2022-03-30T17:59:41.399Z"
      },
      {
        "duration": 14,
        "start_time": "2022-03-30T17:59:41.432Z"
      },
      {
        "duration": 21,
        "start_time": "2022-03-30T17:59:41.449Z"
      },
      {
        "duration": 10,
        "start_time": "2022-03-30T17:59:41.472Z"
      },
      {
        "duration": 8,
        "start_time": "2022-03-30T17:59:41.483Z"
      },
      {
        "duration": 71,
        "start_time": "2022-03-30T17:59:41.492Z"
      },
      {
        "duration": 3,
        "start_time": "2022-03-30T17:59:41.565Z"
      },
      {
        "duration": 61,
        "start_time": "2022-03-30T17:59:41.569Z"
      },
      {
        "duration": 10,
        "start_time": "2022-03-30T17:59:41.632Z"
      },
      {
        "duration": 26,
        "start_time": "2022-03-30T17:59:41.644Z"
      },
      {
        "duration": 14,
        "start_time": "2022-03-30T17:59:41.673Z"
      },
      {
        "duration": 76,
        "start_time": "2022-03-30T17:59:41.689Z"
      },
      {
        "duration": 323,
        "start_time": "2022-03-30T17:59:41.767Z"
      },
      {
        "duration": 51,
        "start_time": "2022-03-30T17:59:42.091Z"
      },
      {
        "duration": 190,
        "start_time": "2022-03-30T17:59:42.143Z"
      },
      {
        "duration": 469,
        "start_time": "2022-03-30T17:59:42.335Z"
      },
      {
        "duration": 199,
        "start_time": "2022-03-30T17:59:42.805Z"
      },
      {
        "duration": 263,
        "start_time": "2022-03-30T17:59:43.008Z"
      },
      {
        "duration": 42,
        "start_time": "2022-03-30T17:59:43.272Z"
      },
      {
        "duration": 393,
        "start_time": "2022-03-30T17:59:43.315Z"
      },
      {
        "duration": 396,
        "start_time": "2022-03-30T17:59:43.710Z"
      },
      {
        "duration": 8,
        "start_time": "2022-03-30T17:59:44.108Z"
      },
      {
        "duration": 316,
        "start_time": "2022-03-30T17:59:44.117Z"
      },
      {
        "duration": 5,
        "start_time": "2022-03-30T17:59:44.435Z"
      },
      {
        "duration": 8,
        "start_time": "2022-03-30T17:59:44.442Z"
      },
      {
        "duration": 7,
        "start_time": "2022-03-30T17:59:44.451Z"
      },
      {
        "duration": 655,
        "start_time": "2022-03-30T17:59:44.460Z"
      },
      {
        "duration": 8,
        "start_time": "2022-03-30T17:59:45.116Z"
      },
      {
        "duration": 19,
        "start_time": "2022-03-30T17:59:45.132Z"
      },
      {
        "duration": 219,
        "start_time": "2022-03-30T17:59:45.153Z"
      },
      {
        "duration": 12,
        "start_time": "2022-03-30T17:59:45.374Z"
      },
      {
        "duration": 45,
        "start_time": "2022-03-30T17:59:45.388Z"
      },
      {
        "duration": 30,
        "start_time": "2022-03-30T17:59:45.434Z"
      },
      {
        "duration": 34,
        "start_time": "2022-03-30T17:59:45.466Z"
      },
      {
        "duration": 184,
        "start_time": "2022-03-30T17:59:45.501Z"
      },
      {
        "duration": 187,
        "start_time": "2022-03-30T17:59:45.686Z"
      },
      {
        "duration": 198,
        "start_time": "2022-03-30T17:59:45.875Z"
      },
      {
        "duration": 165,
        "start_time": "2022-03-30T17:59:46.074Z"
      },
      {
        "duration": 199,
        "start_time": "2022-03-30T17:59:46.241Z"
      },
      {
        "duration": 197,
        "start_time": "2022-03-30T17:59:46.441Z"
      },
      {
        "duration": 6,
        "start_time": "2022-03-30T17:59:46.639Z"
      },
      {
        "duration": 173,
        "start_time": "2022-03-30T17:59:46.646Z"
      },
      {
        "duration": 188,
        "start_time": "2022-03-30T17:59:46.821Z"
      },
      {
        "duration": 184,
        "start_time": "2022-03-30T17:59:47.011Z"
      },
      {
        "duration": 165,
        "start_time": "2022-03-30T18:00:49.383Z"
      },
      {
        "duration": 176,
        "start_time": "2022-03-30T18:00:52.912Z"
      },
      {
        "duration": 374,
        "start_time": "2022-03-30T18:00:57.825Z"
      },
      {
        "duration": 3,
        "start_time": "2022-03-30T18:01:14.429Z"
      },
      {
        "duration": 117,
        "start_time": "2022-03-30T18:01:14.434Z"
      },
      {
        "duration": 17,
        "start_time": "2022-03-30T18:01:14.553Z"
      },
      {
        "duration": 93,
        "start_time": "2022-03-30T18:01:14.572Z"
      },
      {
        "duration": 67,
        "start_time": "2022-03-30T18:01:14.667Z"
      },
      {
        "duration": 9,
        "start_time": "2022-03-30T18:01:14.736Z"
      },
      {
        "duration": 25,
        "start_time": "2022-03-30T18:01:14.747Z"
      },
      {
        "duration": 13,
        "start_time": "2022-03-30T18:01:14.773Z"
      },
      {
        "duration": 16,
        "start_time": "2022-03-30T18:01:14.789Z"
      },
      {
        "duration": 3,
        "start_time": "2022-03-30T18:01:14.807Z"
      },
      {
        "duration": 7,
        "start_time": "2022-03-30T18:01:14.812Z"
      },
      {
        "duration": 73,
        "start_time": "2022-03-30T18:01:14.821Z"
      },
      {
        "duration": 3,
        "start_time": "2022-03-30T18:01:14.895Z"
      },
      {
        "duration": 63,
        "start_time": "2022-03-30T18:01:14.899Z"
      },
      {
        "duration": 10,
        "start_time": "2022-03-30T18:01:14.964Z"
      },
      {
        "duration": 15,
        "start_time": "2022-03-30T18:01:14.976Z"
      },
      {
        "duration": 8,
        "start_time": "2022-03-30T18:01:14.993Z"
      },
      {
        "duration": 78,
        "start_time": "2022-03-30T18:01:15.003Z"
      },
      {
        "duration": 336,
        "start_time": "2022-03-30T18:01:15.083Z"
      },
      {
        "duration": 44,
        "start_time": "2022-03-30T18:01:15.420Z"
      },
      {
        "duration": 208,
        "start_time": "2022-03-30T18:01:15.466Z"
      },
      {
        "duration": 404,
        "start_time": "2022-03-30T18:01:15.676Z"
      },
      {
        "duration": 201,
        "start_time": "2022-03-30T18:01:16.081Z"
      },
      {
        "duration": 293,
        "start_time": "2022-03-30T18:01:16.285Z"
      },
      {
        "duration": 53,
        "start_time": "2022-03-30T18:01:16.579Z"
      },
      {
        "duration": 519,
        "start_time": "2022-03-30T18:01:16.634Z"
      },
      {
        "duration": 394,
        "start_time": "2022-03-30T18:01:17.154Z"
      },
      {
        "duration": 10,
        "start_time": "2022-03-30T18:01:17.549Z"
      },
      {
        "duration": 200,
        "start_time": "2022-03-30T18:01:17.561Z"
      },
      {
        "duration": 7,
        "start_time": "2022-03-30T18:01:17.763Z"
      },
      {
        "duration": 7,
        "start_time": "2022-03-30T18:01:17.771Z"
      },
      {
        "duration": 5,
        "start_time": "2022-03-30T18:01:17.780Z"
      },
      {
        "duration": 639,
        "start_time": "2022-03-30T18:01:17.787Z"
      },
      {
        "duration": 8,
        "start_time": "2022-03-30T18:01:18.432Z"
      },
      {
        "duration": 24,
        "start_time": "2022-03-30T18:01:18.442Z"
      },
      {
        "duration": 231,
        "start_time": "2022-03-30T18:01:18.468Z"
      },
      {
        "duration": 13,
        "start_time": "2022-03-30T18:01:18.702Z"
      },
      {
        "duration": 29,
        "start_time": "2022-03-30T18:01:18.731Z"
      },
      {
        "duration": 31,
        "start_time": "2022-03-30T18:01:18.762Z"
      },
      {
        "duration": 60,
        "start_time": "2022-03-30T18:01:18.795Z"
      },
      {
        "duration": 175,
        "start_time": "2022-03-30T18:01:18.857Z"
      },
      {
        "duration": 310,
        "start_time": "2022-03-30T18:01:19.034Z"
      },
      {
        "duration": 184,
        "start_time": "2022-03-30T18:01:19.345Z"
      },
      {
        "duration": 155,
        "start_time": "2022-03-30T18:01:19.532Z"
      },
      {
        "duration": 187,
        "start_time": "2022-03-30T18:01:19.689Z"
      },
      {
        "duration": 195,
        "start_time": "2022-03-30T18:01:19.877Z"
      },
      {
        "duration": 6,
        "start_time": "2022-03-30T18:01:20.073Z"
      },
      {
        "duration": 175,
        "start_time": "2022-03-30T18:01:20.081Z"
      },
      {
        "duration": 188,
        "start_time": "2022-03-30T18:01:20.258Z"
      },
      {
        "duration": 187,
        "start_time": "2022-03-30T18:01:20.447Z"
      },
      {
        "duration": 25,
        "start_time": "2022-03-30T18:13:14.113Z"
      },
      {
        "duration": 168,
        "start_time": "2022-03-30T18:15:26.293Z"
      },
      {
        "duration": 35,
        "start_time": "2022-03-30T18:15:29.792Z"
      },
      {
        "duration": 25,
        "start_time": "2022-03-30T18:18:12.488Z"
      },
      {
        "duration": 36,
        "start_time": "2022-03-30T18:21:48.876Z"
      },
      {
        "duration": 175,
        "start_time": "2022-03-30T18:22:27.642Z"
      },
      {
        "duration": 35,
        "start_time": "2022-03-30T18:22:31.775Z"
      },
      {
        "duration": 27,
        "start_time": "2022-03-30T18:23:08.789Z"
      },
      {
        "duration": 112,
        "start_time": "2022-03-30T18:23:52.295Z"
      },
      {
        "duration": 28,
        "start_time": "2022-03-30T18:24:47.458Z"
      },
      {
        "duration": 12,
        "start_time": "2022-03-30T18:28:58.571Z"
      },
      {
        "duration": 72,
        "start_time": "2022-03-30T19:01:16.908Z"
      },
      {
        "duration": 1060,
        "start_time": "2022-03-30T19:01:22.902Z"
      },
      {
        "duration": 97,
        "start_time": "2022-03-30T19:01:23.965Z"
      },
      {
        "duration": 31,
        "start_time": "2022-03-30T19:01:24.064Z"
      },
      {
        "duration": 112,
        "start_time": "2022-03-30T19:01:24.097Z"
      },
      {
        "duration": 93,
        "start_time": "2022-03-30T19:01:24.212Z"
      },
      {
        "duration": 11,
        "start_time": "2022-03-30T19:01:24.307Z"
      },
      {
        "duration": 18,
        "start_time": "2022-03-30T19:01:24.320Z"
      },
      {
        "duration": 33,
        "start_time": "2022-03-30T19:01:24.341Z"
      },
      {
        "duration": 14,
        "start_time": "2022-03-30T19:01:24.376Z"
      },
      {
        "duration": 12,
        "start_time": "2022-03-30T19:01:24.394Z"
      },
      {
        "duration": 18,
        "start_time": "2022-03-30T19:01:24.407Z"
      },
      {
        "duration": 107,
        "start_time": "2022-03-30T19:01:24.428Z"
      },
      {
        "duration": 4,
        "start_time": "2022-03-30T19:01:24.537Z"
      },
      {
        "duration": 100,
        "start_time": "2022-03-30T19:01:24.543Z"
      },
      {
        "duration": 11,
        "start_time": "2022-03-30T19:01:24.645Z"
      },
      {
        "duration": 16,
        "start_time": "2022-03-30T19:01:24.674Z"
      },
      {
        "duration": 29,
        "start_time": "2022-03-30T19:01:24.692Z"
      },
      {
        "duration": 103,
        "start_time": "2022-03-30T19:01:24.723Z"
      },
      {
        "duration": 534,
        "start_time": "2022-03-30T19:01:24.829Z"
      },
      {
        "duration": 63,
        "start_time": "2022-03-30T19:01:25.365Z"
      },
      {
        "duration": 317,
        "start_time": "2022-03-30T19:01:25.431Z"
      },
      {
        "duration": 660,
        "start_time": "2022-03-30T19:01:25.751Z"
      },
      {
        "duration": 292,
        "start_time": "2022-03-30T19:01:26.414Z"
      },
      {
        "duration": 464,
        "start_time": "2022-03-30T19:01:26.709Z"
      },
      {
        "duration": 59,
        "start_time": "2022-03-30T19:01:27.175Z"
      },
      {
        "duration": 688,
        "start_time": "2022-03-30T19:01:27.236Z"
      },
      {
        "duration": 710,
        "start_time": "2022-03-30T19:01:27.927Z"
      },
      {
        "duration": 13,
        "start_time": "2022-03-30T19:01:28.644Z"
      },
      {
        "duration": 291,
        "start_time": "2022-03-30T19:01:28.674Z"
      },
      {
        "duration": 32,
        "start_time": "2022-03-30T19:01:28.967Z"
      },
      {
        "duration": 12,
        "start_time": "2022-03-30T19:01:29.001Z"
      },
      {
        "duration": 21,
        "start_time": "2022-03-30T19:01:29.015Z"
      },
      {
        "duration": 17,
        "start_time": "2022-03-30T19:01:29.038Z"
      },
      {
        "duration": 35,
        "start_time": "2022-03-30T19:01:29.057Z"
      },
      {
        "duration": 890,
        "start_time": "2022-03-30T19:01:29.094Z"
      },
      {
        "duration": 10,
        "start_time": "2022-03-30T19:01:29.986Z"
      },
      {
        "duration": 31,
        "start_time": "2022-03-30T19:01:29.998Z"
      },
      {
        "duration": 359,
        "start_time": "2022-03-30T19:01:30.031Z"
      },
      {
        "duration": 18,
        "start_time": "2022-03-30T19:01:30.392Z"
      },
      {
        "duration": 63,
        "start_time": "2022-03-30T19:01:30.412Z"
      },
      {
        "duration": 42,
        "start_time": "2022-03-30T19:01:30.477Z"
      },
      {
        "duration": 73,
        "start_time": "2022-03-30T19:01:30.521Z"
      },
      {
        "duration": 246,
        "start_time": "2022-03-30T19:01:30.597Z"
      },
      {
        "duration": 271,
        "start_time": "2022-03-30T19:01:30.846Z"
      },
      {
        "duration": 395,
        "start_time": "2022-03-30T19:01:31.119Z"
      },
      {
        "duration": 258,
        "start_time": "2022-03-30T19:01:31.517Z"
      },
      {
        "duration": 281,
        "start_time": "2022-03-30T19:01:31.777Z"
      },
      {
        "duration": 359,
        "start_time": "2022-03-30T19:01:32.060Z"
      },
      {
        "duration": 8,
        "start_time": "2022-03-30T19:01:32.421Z"
      },
      {
        "duration": 253,
        "start_time": "2022-03-30T19:01:32.432Z"
      },
      {
        "duration": 251,
        "start_time": "2022-03-30T19:01:32.687Z"
      },
      {
        "duration": 277,
        "start_time": "2022-03-30T19:01:32.941Z"
      },
      {
        "duration": 5,
        "start_time": "2022-03-30T19:01:33.220Z"
      },
      {
        "duration": 34,
        "start_time": "2022-03-30T19:02:47.884Z"
      },
      {
        "duration": 138,
        "start_time": "2022-03-30T19:02:59.788Z"
      },
      {
        "duration": 814,
        "start_time": "2022-03-31T06:08:26.445Z"
      },
      {
        "duration": 69,
        "start_time": "2022-03-31T06:08:27.260Z"
      },
      {
        "duration": 19,
        "start_time": "2022-03-31T06:08:27.331Z"
      },
      {
        "duration": 71,
        "start_time": "2022-03-31T06:08:27.351Z"
      },
      {
        "duration": 60,
        "start_time": "2022-03-31T06:08:27.424Z"
      },
      {
        "duration": 7,
        "start_time": "2022-03-31T06:08:27.486Z"
      },
      {
        "duration": 4,
        "start_time": "2022-03-31T06:08:27.495Z"
      },
      {
        "duration": 9,
        "start_time": "2022-03-31T06:08:27.500Z"
      },
      {
        "duration": 14,
        "start_time": "2022-03-31T06:08:27.510Z"
      },
      {
        "duration": 3,
        "start_time": "2022-03-31T06:08:27.526Z"
      },
      {
        "duration": 6,
        "start_time": "2022-03-31T06:08:27.530Z"
      },
      {
        "duration": 83,
        "start_time": "2022-03-31T06:08:27.537Z"
      },
      {
        "duration": 2,
        "start_time": "2022-03-31T06:08:27.621Z"
      },
      {
        "duration": 66,
        "start_time": "2022-03-31T06:08:27.626Z"
      },
      {
        "duration": 7,
        "start_time": "2022-03-31T06:08:27.693Z"
      },
      {
        "duration": 12,
        "start_time": "2022-03-31T06:08:27.701Z"
      },
      {
        "duration": 3,
        "start_time": "2022-03-31T06:08:27.715Z"
      },
      {
        "duration": 67,
        "start_time": "2022-03-31T06:08:27.719Z"
      },
      {
        "duration": 294,
        "start_time": "2022-03-31T06:08:27.787Z"
      },
      {
        "duration": 32,
        "start_time": "2022-03-31T06:08:28.082Z"
      },
      {
        "duration": 173,
        "start_time": "2022-03-31T06:08:28.116Z"
      },
      {
        "duration": 371,
        "start_time": "2022-03-31T06:08:28.291Z"
      },
      {
        "duration": 212,
        "start_time": "2022-03-31T06:08:28.664Z"
      },
      {
        "duration": 811,
        "start_time": "2022-03-31T06:08:28.878Z"
      },
      {
        "duration": 108,
        "start_time": "2022-03-31T06:08:29.691Z"
      },
      {
        "duration": 1072,
        "start_time": "2022-03-31T06:08:29.800Z"
      },
      {
        "duration": 766,
        "start_time": "2022-03-31T06:08:30.874Z"
      },
      {
        "duration": 8,
        "start_time": "2022-03-31T06:08:31.642Z"
      },
      {
        "duration": 162,
        "start_time": "2022-03-31T06:08:31.652Z"
      },
      {
        "duration": 20,
        "start_time": "2022-03-31T06:08:31.816Z"
      },
      {
        "duration": 7,
        "start_time": "2022-03-31T06:08:31.837Z"
      },
      {
        "duration": 26,
        "start_time": "2022-03-31T06:08:31.845Z"
      },
      {
        "duration": 12,
        "start_time": "2022-03-31T06:08:31.872Z"
      },
      {
        "duration": 10,
        "start_time": "2022-03-31T06:08:31.885Z"
      },
      {
        "duration": 484,
        "start_time": "2022-03-31T06:08:31.897Z"
      },
      {
        "duration": 6,
        "start_time": "2022-03-31T06:08:32.383Z"
      },
      {
        "duration": 20,
        "start_time": "2022-03-31T06:08:32.391Z"
      },
      {
        "duration": 186,
        "start_time": "2022-03-31T06:08:32.412Z"
      },
      {
        "duration": 11,
        "start_time": "2022-03-31T06:08:32.600Z"
      },
      {
        "duration": 23,
        "start_time": "2022-03-31T06:08:32.612Z"
      },
      {
        "duration": 41,
        "start_time": "2022-03-31T06:08:32.639Z"
      },
      {
        "duration": 28,
        "start_time": "2022-03-31T06:08:32.681Z"
      },
      {
        "duration": 146,
        "start_time": "2022-03-31T06:08:32.711Z"
      },
      {
        "duration": 148,
        "start_time": "2022-03-31T06:08:32.862Z"
      },
      {
        "duration": 158,
        "start_time": "2022-03-31T06:08:33.011Z"
      },
      {
        "duration": 139,
        "start_time": "2022-03-31T06:08:33.171Z"
      },
      {
        "duration": 165,
        "start_time": "2022-03-31T06:08:33.311Z"
      },
      {
        "duration": 262,
        "start_time": "2022-03-31T06:08:33.478Z"
      },
      {
        "duration": 6,
        "start_time": "2022-03-31T06:08:33.741Z"
      },
      {
        "duration": 138,
        "start_time": "2022-03-31T06:08:33.749Z"
      },
      {
        "duration": 138,
        "start_time": "2022-03-31T06:08:33.889Z"
      },
      {
        "duration": 160,
        "start_time": "2022-03-31T06:08:34.029Z"
      },
      {
        "duration": 51,
        "start_time": "2022-04-02T12:52:29.174Z"
      },
      {
        "duration": 814,
        "start_time": "2022-04-02T12:52:40.677Z"
      },
      {
        "duration": 69,
        "start_time": "2022-04-02T12:52:41.493Z"
      },
      {
        "duration": 18,
        "start_time": "2022-04-02T12:52:41.564Z"
      },
      {
        "duration": 65,
        "start_time": "2022-04-02T12:52:41.585Z"
      },
      {
        "duration": 61,
        "start_time": "2022-04-02T12:52:41.651Z"
      },
      {
        "duration": 7,
        "start_time": "2022-04-02T12:52:41.714Z"
      },
      {
        "duration": 6,
        "start_time": "2022-04-02T12:52:41.723Z"
      },
      {
        "duration": 10,
        "start_time": "2022-04-02T12:52:41.731Z"
      },
      {
        "duration": 38,
        "start_time": "2022-04-02T12:52:41.743Z"
      },
      {
        "duration": 3,
        "start_time": "2022-04-02T12:52:41.784Z"
      },
      {
        "duration": 8,
        "start_time": "2022-04-02T12:52:41.789Z"
      },
      {
        "duration": 61,
        "start_time": "2022-04-02T12:52:41.798Z"
      },
      {
        "duration": 2,
        "start_time": "2022-04-02T12:52:41.861Z"
      },
      {
        "duration": 49,
        "start_time": "2022-04-02T12:52:41.880Z"
      },
      {
        "duration": 6,
        "start_time": "2022-04-02T12:52:41.931Z"
      },
      {
        "duration": 11,
        "start_time": "2022-04-02T12:52:41.939Z"
      },
      {
        "duration": 5,
        "start_time": "2022-04-02T12:52:41.951Z"
      },
      {
        "duration": 68,
        "start_time": "2022-04-02T12:52:41.958Z"
      },
      {
        "duration": 12,
        "start_time": "2022-04-02T12:52:42.028Z"
      },
      {
        "duration": 325,
        "start_time": "2022-04-02T12:52:42.041Z"
      },
      {
        "duration": 45,
        "start_time": "2022-04-02T12:52:42.367Z"
      },
      {
        "duration": 169,
        "start_time": "2022-04-02T12:52:42.414Z"
      },
      {
        "duration": 371,
        "start_time": "2022-04-02T12:52:42.585Z"
      },
      {
        "duration": 168,
        "start_time": "2022-04-02T12:52:42.957Z"
      },
      {
        "duration": 240,
        "start_time": "2022-04-02T12:52:43.127Z"
      },
      {
        "duration": 37,
        "start_time": "2022-04-02T12:52:43.369Z"
      },
      {
        "duration": 303,
        "start_time": "2022-04-02T12:52:43.408Z"
      },
      {
        "duration": 381,
        "start_time": "2022-04-02T12:52:43.714Z"
      },
      {
        "duration": 8,
        "start_time": "2022-04-02T12:52:44.097Z"
      },
      {
        "duration": 156,
        "start_time": "2022-04-02T12:52:44.107Z"
      },
      {
        "duration": 28,
        "start_time": "2022-04-02T12:52:44.264Z"
      },
      {
        "duration": 7,
        "start_time": "2022-04-02T12:52:44.294Z"
      },
      {
        "duration": 6,
        "start_time": "2022-04-02T12:52:44.302Z"
      },
      {
        "duration": 6,
        "start_time": "2022-04-02T12:52:44.309Z"
      },
      {
        "duration": 4,
        "start_time": "2022-04-02T12:52:44.316Z"
      },
      {
        "duration": 508,
        "start_time": "2022-04-02T12:52:44.321Z"
      },
      {
        "duration": 6,
        "start_time": "2022-04-02T12:52:44.831Z"
      },
      {
        "duration": 20,
        "start_time": "2022-04-02T12:52:44.838Z"
      },
      {
        "duration": 187,
        "start_time": "2022-04-02T12:52:44.860Z"
      },
      {
        "duration": 12,
        "start_time": "2022-04-02T12:52:45.049Z"
      },
      {
        "duration": 38,
        "start_time": "2022-04-02T12:52:45.062Z"
      },
      {
        "duration": 24,
        "start_time": "2022-04-02T12:52:45.101Z"
      },
      {
        "duration": 29,
        "start_time": "2022-04-02T12:52:45.126Z"
      },
      {
        "duration": 156,
        "start_time": "2022-04-02T12:52:45.157Z"
      },
      {
        "duration": 139,
        "start_time": "2022-04-02T12:52:45.314Z"
      },
      {
        "duration": 159,
        "start_time": "2022-04-02T12:52:45.454Z"
      },
      {
        "duration": 140,
        "start_time": "2022-04-02T12:52:45.615Z"
      },
      {
        "duration": 169,
        "start_time": "2022-04-02T12:52:45.757Z"
      },
      {
        "duration": 240,
        "start_time": "2022-04-02T12:52:45.928Z"
      },
      {
        "duration": 13,
        "start_time": "2022-04-02T12:52:46.170Z"
      },
      {
        "duration": 147,
        "start_time": "2022-04-02T12:52:46.186Z"
      },
      {
        "duration": 148,
        "start_time": "2022-04-02T12:52:46.335Z"
      },
      {
        "duration": 150,
        "start_time": "2022-04-02T12:52:46.484Z"
      }
    ],
    "kernelspec": {
      "display_name": "Python 3 (ipykernel)",
      "language": "python",
      "name": "python3"
    },
    "language_info": {
      "codemirror_mode": {
        "name": "ipython",
        "version": 3
      },
      "file_extension": ".py",
      "mimetype": "text/x-python",
      "name": "python",
      "nbconvert_exporter": "python",
      "pygments_lexer": "ipython3",
      "version": "3.9.5"
    },
    "toc": {
      "base_numbering": 1,
      "nav_menu": {},
      "number_sections": true,
      "sideBar": true,
      "skip_h1_title": true,
      "title_cell": "Содержание",
      "title_sidebar": "Contents",
      "toc_cell": true,
      "toc_position": {
        "height": "757px",
        "left": "25px",
        "top": "111.125px",
        "width": "289.391px"
      },
      "toc_section_display": true,
      "toc_window_display": true
    },
    "colab": {
      "provenance": [],
      "collapsed_sections": [],
      "toc_visible": true
    }
  },
  "nbformat": 4,
  "nbformat_minor": 0
}