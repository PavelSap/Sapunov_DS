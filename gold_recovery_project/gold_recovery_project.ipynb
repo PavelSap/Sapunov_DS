{
  "cells": [
    {
      "cell_type": "markdown",
      "id": "ef88a886",
      "metadata": {
        "id": "ef88a886"
      },
      "source": [
        "# Построение модели предсказания коэффициента восстановления золота из руды"
      ]
    },
    {
      "cell_type": "markdown",
      "id": "1e32964c",
      "metadata": {
        "id": "1e32964c"
      },
      "source": [
        "Моя задача состоит в том, чтобы на основе данных с параметрами добычи и очистки золота создать модель, которая будет предсказывать коэффициент восстановления золота из золотосодержащей руды. \n",
        "\n",
        "Для удобства определю предварительную декомпозицию задачи:\n",
        "1. Изучу данные и проведу анализ признаков.\n",
        "\n",
        "Импортирую библиотеки,настрою опции ячеек, затем изучу признаки в датафрейме, проверю часть формул, и определю, какую часть данных нужно удалить для корректной работы модели.\n",
        "    \n",
        "2. Проведу предобработку данных.\n",
        "\n",
        "Проверю датафреймы на наличие пропусков, дубликатов, неподходящих типов файлов. Решу, как избавиться от пропусков.\n",
        "\n",
        "3. Исследую конкретные данные: концентрацию, распределния размеров гранул и тд.\n",
        "\n",
        "В датафреймах представлены специфичные данные в области золотодобывающей промышленности. Моей задачей будет исследовать характеристики сырья и продукта на этапах очистки, сравнить их и проанализировать результаты вычислений.\n",
        "    \n",
        "4. Составлю функцию для вычисления главной метрики - sMAPE.\n",
        "\n",
        "Специфичным данным - специфичная метрика. Модель предсказания коэффициент восстановления золота из золотосодержащей руды будет оцениваться на основе метрики sMAPE (Symmetric Mean Absolute Percentage Error). На основе представленной в условии формулы составлю формулу для расчета в Phyton, проверю, какая наименьшая средняя ошибка будет у моделей\n",
        "    \n",
        "5. Построю модели, проведу кросс-валидацию.\n",
        "\n",
        "Формуле я буду передавать предсказания модели, ошибка будет зависеть в том числе от подобранных гиперпараметров, правильности подготовки выборок. Для большей уверенности будет использоваться кросс-валидация.\n",
        "    \n",
        "6. Проверка на тестовой выборке.\n",
        "\n",
        "Оценив модель и выбрав наилушчий вариант по sMAPE перейду к предсказанию на тестовой выборке, она содержится изначально в отдельном датафрейме.\n",
        "    \n",
        "7. Выводы\n",
        "\n",
        "Получив результат на тестовой выборке подведу итог исследования и создания модели, рассмотрю приемлемость использования модели для повышения эффективности работы золотодобывающих предприятий."
      ]
    },
    {
      "cell_type": "markdown",
      "id": "1351724d",
      "metadata": {
        "id": "1351724d"
      },
      "source": [
        "## Подготовка данных"
      ]
    },
    {
      "cell_type": "markdown",
      "id": "e5d5e4c8",
      "metadata": {
        "id": "e5d5e4c8"
      },
      "source": [
        "### Импорт инструментов, обзор данных"
      ]
    },
    {
      "cell_type": "markdown",
      "id": "8edf63da",
      "metadata": {
        "id": "8edf63da"
      },
      "source": [
        "Импортирую библиотеки, открою файлы, изучу данные"
      ]
    },
    {
      "cell_type": "code",
      "execution_count": null,
      "id": "5bfb0965",
      "metadata": {
        "id": "5bfb0965"
      },
      "outputs": [],
      "source": [
        "import matplotlib.pyplot as plt\n",
        "import math\n",
        "import numpy as np\n",
        "import pandas as pd\n",
        "import seaborn as sns\n",
        "import warnings\n",
        "\n",
        "from sklearn.ensemble import RandomForestRegressor, RandomForestClassifier\n",
        "from sklearn.linear_model import LinearRegression, LogisticRegression\n",
        "from sklearn.tree import DecisionTreeRegressor, DecisionTreeClassifier\n",
        "\n",
        "from sklearn.metrics import fbeta_score, make_scorer, mean_absolute_error\n",
        "from sklearn.metrics import accuracy_score, f1_score, precision_recall_curve, precision_score, recall_score, roc_auc_score\n",
        "from sklearn.model_selection import cross_val_score, GridSearchCV, train_test_split\n",
        "\n",
        "from sklearn.preprocessing import StandardScaler\n",
        "\n",
        "from sklearn.utils import shuffle"
      ]
    },
    {
      "cell_type": "code",
      "execution_count": null,
      "id": "c26ada15",
      "metadata": {
        "id": "c26ada15"
      },
      "outputs": [],
      "source": [
        "pd.set_option('display.max_columns', 87)"
      ]
    },
    {
      "cell_type": "code",
      "execution_count": null,
      "id": "bff13d48",
      "metadata": {
        "id": "bff13d48"
      },
      "outputs": [],
      "source": [
        "warnings.filterwarnings('ignore')"
      ]
    },
    {
      "cell_type": "code",
      "execution_count": null,
      "id": "723c644b",
      "metadata": {
        "id": "723c644b"
      },
      "outputs": [],
      "source": [
        "data_test = pd.read_csv('/datasets/gold_recovery_test_new.csv')\n",
        "data_train = pd.read_csv('/datasets/gold_recovery_train_new.csv')\n",
        "data_full = pd.read_csv('/datasets/gold_recovery_full_new.csv')"
      ]
    },
    {
      "cell_type": "code",
      "execution_count": null,
      "id": "5af64616",
      "metadata": {
        "scrolled": true,
        "id": "5af64616",
        "outputId": "254df820-ae95-4a3d-ecd7-3e9a7a6e19e2"
      },
      "outputs": [
        {
          "name": "stdout",
          "output_type": "stream",
          "text": [
            "<class 'pandas.core.frame.DataFrame'>\n",
            "RangeIndex: 5290 entries, 0 to 5289\n",
            "Data columns (total 53 columns):\n",
            " #   Column                                      Non-Null Count  Dtype  \n",
            "---  ------                                      --------------  -----  \n",
            " 0   date                                        5290 non-null   object \n",
            " 1   primary_cleaner.input.sulfate               5286 non-null   float64\n",
            " 2   primary_cleaner.input.depressant            5285 non-null   float64\n",
            " 3   primary_cleaner.input.feed_size             5290 non-null   float64\n",
            " 4   primary_cleaner.input.xanthate              5286 non-null   float64\n",
            " 5   primary_cleaner.state.floatbank8_a_air      5290 non-null   float64\n",
            " 6   primary_cleaner.state.floatbank8_a_level    5290 non-null   float64\n",
            " 7   primary_cleaner.state.floatbank8_b_air      5290 non-null   float64\n",
            " 8   primary_cleaner.state.floatbank8_b_level    5290 non-null   float64\n",
            " 9   primary_cleaner.state.floatbank8_c_air      5290 non-null   float64\n",
            " 10  primary_cleaner.state.floatbank8_c_level    5290 non-null   float64\n",
            " 11  primary_cleaner.state.floatbank8_d_air      5290 non-null   float64\n",
            " 12  primary_cleaner.state.floatbank8_d_level    5290 non-null   float64\n",
            " 13  rougher.input.feed_ag                       5290 non-null   float64\n",
            " 14  rougher.input.feed_pb                       5290 non-null   float64\n",
            " 15  rougher.input.feed_rate                     5287 non-null   float64\n",
            " 16  rougher.input.feed_size                     5289 non-null   float64\n",
            " 17  rougher.input.feed_sol                      5269 non-null   float64\n",
            " 18  rougher.input.feed_au                       5290 non-null   float64\n",
            " 19  rougher.input.floatbank10_sulfate           5285 non-null   float64\n",
            " 20  rougher.input.floatbank10_xanthate          5290 non-null   float64\n",
            " 21  rougher.input.floatbank11_sulfate           5282 non-null   float64\n",
            " 22  rougher.input.floatbank11_xanthate          5265 non-null   float64\n",
            " 23  rougher.state.floatbank10_a_air             5290 non-null   float64\n",
            " 24  rougher.state.floatbank10_a_level           5290 non-null   float64\n",
            " 25  rougher.state.floatbank10_b_air             5290 non-null   float64\n",
            " 26  rougher.state.floatbank10_b_level           5290 non-null   float64\n",
            " 27  rougher.state.floatbank10_c_air             5290 non-null   float64\n",
            " 28  rougher.state.floatbank10_c_level           5290 non-null   float64\n",
            " 29  rougher.state.floatbank10_d_air             5290 non-null   float64\n",
            " 30  rougher.state.floatbank10_d_level           5290 non-null   float64\n",
            " 31  rougher.state.floatbank10_e_air             5290 non-null   float64\n",
            " 32  rougher.state.floatbank10_e_level           5290 non-null   float64\n",
            " 33  rougher.state.floatbank10_f_air             5290 non-null   float64\n",
            " 34  rougher.state.floatbank10_f_level           5290 non-null   float64\n",
            " 35  secondary_cleaner.state.floatbank2_a_air    5287 non-null   float64\n",
            " 36  secondary_cleaner.state.floatbank2_a_level  5290 non-null   float64\n",
            " 37  secondary_cleaner.state.floatbank2_b_air    5288 non-null   float64\n",
            " 38  secondary_cleaner.state.floatbank2_b_level  5290 non-null   float64\n",
            " 39  secondary_cleaner.state.floatbank3_a_air    5281 non-null   float64\n",
            " 40  secondary_cleaner.state.floatbank3_a_level  5290 non-null   float64\n",
            " 41  secondary_cleaner.state.floatbank3_b_air    5290 non-null   float64\n",
            " 42  secondary_cleaner.state.floatbank3_b_level  5290 non-null   float64\n",
            " 43  secondary_cleaner.state.floatbank4_a_air    5290 non-null   float64\n",
            " 44  secondary_cleaner.state.floatbank4_a_level  5290 non-null   float64\n",
            " 45  secondary_cleaner.state.floatbank4_b_air    5290 non-null   float64\n",
            " 46  secondary_cleaner.state.floatbank4_b_level  5290 non-null   float64\n",
            " 47  secondary_cleaner.state.floatbank5_a_air    5290 non-null   float64\n",
            " 48  secondary_cleaner.state.floatbank5_a_level  5290 non-null   float64\n",
            " 49  secondary_cleaner.state.floatbank5_b_air    5290 non-null   float64\n",
            " 50  secondary_cleaner.state.floatbank5_b_level  5290 non-null   float64\n",
            " 51  secondary_cleaner.state.floatbank6_a_air    5290 non-null   float64\n",
            " 52  secondary_cleaner.state.floatbank6_a_level  5290 non-null   float64\n",
            "dtypes: float64(52), object(1)\n",
            "memory usage: 2.1+ MB\n",
            "<class 'pandas.core.frame.DataFrame'>\n",
            "RangeIndex: 14149 entries, 0 to 14148\n",
            "Data columns (total 87 columns):\n",
            " #   Column                                              Non-Null Count  Dtype  \n",
            "---  ------                                              --------------  -----  \n",
            " 0   date                                                14149 non-null  object \n",
            " 1   final.output.concentrate_ag                         14148 non-null  float64\n",
            " 2   final.output.concentrate_pb                         14148 non-null  float64\n",
            " 3   final.output.concentrate_sol                        13938 non-null  float64\n",
            " 4   final.output.concentrate_au                         14149 non-null  float64\n",
            " 5   final.output.recovery                               14149 non-null  float64\n",
            " 6   final.output.tail_ag                                14149 non-null  float64\n",
            " 7   final.output.tail_pb                                14049 non-null  float64\n",
            " 8   final.output.tail_sol                               14144 non-null  float64\n",
            " 9   final.output.tail_au                                14149 non-null  float64\n",
            " 10  primary_cleaner.input.sulfate                       14129 non-null  float64\n",
            " 11  primary_cleaner.input.depressant                    14117 non-null  float64\n",
            " 12  primary_cleaner.input.feed_size                     14149 non-null  float64\n",
            " 13  primary_cleaner.input.xanthate                      14049 non-null  float64\n",
            " 14  primary_cleaner.output.concentrate_ag               14149 non-null  float64\n",
            " 15  primary_cleaner.output.concentrate_pb               14063 non-null  float64\n",
            " 16  primary_cleaner.output.concentrate_sol              13863 non-null  float64\n",
            " 17  primary_cleaner.output.concentrate_au               14149 non-null  float64\n",
            " 18  primary_cleaner.output.tail_ag                      14148 non-null  float64\n",
            " 19  primary_cleaner.output.tail_pb                      14134 non-null  float64\n",
            " 20  primary_cleaner.output.tail_sol                     14103 non-null  float64\n",
            " 21  primary_cleaner.output.tail_au                      14149 non-null  float64\n",
            " 22  primary_cleaner.state.floatbank8_a_air              14145 non-null  float64\n",
            " 23  primary_cleaner.state.floatbank8_a_level            14148 non-null  float64\n",
            " 24  primary_cleaner.state.floatbank8_b_air              14145 non-null  float64\n",
            " 25  primary_cleaner.state.floatbank8_b_level            14148 non-null  float64\n",
            " 26  primary_cleaner.state.floatbank8_c_air              14147 non-null  float64\n",
            " 27  primary_cleaner.state.floatbank8_c_level            14148 non-null  float64\n",
            " 28  primary_cleaner.state.floatbank8_d_air              14146 non-null  float64\n",
            " 29  primary_cleaner.state.floatbank8_d_level            14148 non-null  float64\n",
            " 30  rougher.calculation.sulfate_to_au_concentrate       14148 non-null  float64\n",
            " 31  rougher.calculation.floatbank10_sulfate_to_au_feed  14148 non-null  float64\n",
            " 32  rougher.calculation.floatbank11_sulfate_to_au_feed  14148 non-null  float64\n",
            " 33  rougher.calculation.au_pb_ratio                     14149 non-null  float64\n",
            " 34  rougher.input.feed_ag                               14149 non-null  float64\n",
            " 35  rougher.input.feed_pb                               14049 non-null  float64\n",
            " 36  rougher.input.feed_rate                             14141 non-null  float64\n",
            " 37  rougher.input.feed_size                             14005 non-null  float64\n",
            " 38  rougher.input.feed_sol                              14071 non-null  float64\n",
            " 39  rougher.input.feed_au                               14149 non-null  float64\n",
            " 40  rougher.input.floatbank10_sulfate                   14120 non-null  float64\n",
            " 41  rougher.input.floatbank10_xanthate                  14141 non-null  float64\n",
            " 42  rougher.input.floatbank11_sulfate                   14113 non-null  float64\n",
            " 43  rougher.input.floatbank11_xanthate                  13721 non-null  float64\n",
            " 44  rougher.output.concentrate_ag                       14149 non-null  float64\n",
            " 45  rougher.output.concentrate_pb                       14149 non-null  float64\n",
            " 46  rougher.output.concentrate_sol                      14127 non-null  float64\n",
            " 47  rougher.output.concentrate_au                       14149 non-null  float64\n",
            " 48  rougher.output.recovery                             14149 non-null  float64\n",
            " 49  rougher.output.tail_ag                              14148 non-null  float64\n",
            " 50  rougher.output.tail_pb                              14149 non-null  float64\n",
            " 51  rougher.output.tail_sol                             14149 non-null  float64\n",
            " 52  rougher.output.tail_au                              14149 non-null  float64\n",
            " 53  rougher.state.floatbank10_a_air                     14148 non-null  float64\n",
            " 54  rougher.state.floatbank10_a_level                   14148 non-null  float64\n",
            " 55  rougher.state.floatbank10_b_air                     14148 non-null  float64\n",
            " 56  rougher.state.floatbank10_b_level                   14148 non-null  float64\n",
            " 57  rougher.state.floatbank10_c_air                     14148 non-null  float64\n",
            " 58  rougher.state.floatbank10_c_level                   14148 non-null  float64\n",
            " 59  rougher.state.floatbank10_d_air                     14149 non-null  float64\n",
            " 60  rougher.state.floatbank10_d_level                   14149 non-null  float64\n",
            " 61  rougher.state.floatbank10_e_air                     13713 non-null  float64\n",
            " 62  rougher.state.floatbank10_e_level                   14149 non-null  float64\n",
            " 63  rougher.state.floatbank10_f_air                     14149 non-null  float64\n",
            " 64  rougher.state.floatbank10_f_level                   14149 non-null  float64\n",
            " 65  secondary_cleaner.output.tail_ag                    14147 non-null  float64\n",
            " 66  secondary_cleaner.output.tail_pb                    14139 non-null  float64\n",
            " 67  secondary_cleaner.output.tail_sol                   12544 non-null  float64\n",
            " 68  secondary_cleaner.output.tail_au                    14149 non-null  float64\n",
            " 69  secondary_cleaner.state.floatbank2_a_air            13932 non-null  float64\n",
            " 70  secondary_cleaner.state.floatbank2_a_level          14148 non-null  float64\n",
            " 71  secondary_cleaner.state.floatbank2_b_air            14128 non-null  float64\n",
            " 72  secondary_cleaner.state.floatbank2_b_level          14148 non-null  float64\n",
            " 73  secondary_cleaner.state.floatbank3_a_air            14145 non-null  float64\n",
            " 74  secondary_cleaner.state.floatbank3_a_level          14148 non-null  float64\n",
            " 75  secondary_cleaner.state.floatbank3_b_air            14148 non-null  float64\n",
            " 76  secondary_cleaner.state.floatbank3_b_level          14148 non-null  float64\n",
            " 77  secondary_cleaner.state.floatbank4_a_air            14143 non-null  float64\n",
            " 78  secondary_cleaner.state.floatbank4_a_level          14148 non-null  float64\n",
            " 79  secondary_cleaner.state.floatbank4_b_air            14148 non-null  float64\n",
            " 80  secondary_cleaner.state.floatbank4_b_level          14148 non-null  float64\n",
            " 81  secondary_cleaner.state.floatbank5_a_air            14148 non-null  float64\n",
            " 82  secondary_cleaner.state.floatbank5_a_level          14148 non-null  float64\n",
            " 83  secondary_cleaner.state.floatbank5_b_air            14148 non-null  float64\n",
            " 84  secondary_cleaner.state.floatbank5_b_level          14148 non-null  float64\n",
            " 85  secondary_cleaner.state.floatbank6_a_air            14147 non-null  float64\n",
            " 86  secondary_cleaner.state.floatbank6_a_level          14148 non-null  float64\n",
            "dtypes: float64(86), object(1)\n",
            "memory usage: 9.4+ MB\n",
            "<class 'pandas.core.frame.DataFrame'>\n",
            "RangeIndex: 19439 entries, 0 to 19438\n",
            "Data columns (total 87 columns):\n",
            " #   Column                                              Non-Null Count  Dtype  \n",
            "---  ------                                              --------------  -----  \n",
            " 0   date                                                19439 non-null  object \n",
            " 1   final.output.concentrate_ag                         19438 non-null  float64\n",
            " 2   final.output.concentrate_pb                         19438 non-null  float64\n",
            " 3   final.output.concentrate_sol                        19228 non-null  float64\n",
            " 4   final.output.concentrate_au                         19439 non-null  float64\n",
            " 5   final.output.recovery                               19439 non-null  float64\n",
            " 6   final.output.tail_ag                                19438 non-null  float64\n",
            " 7   final.output.tail_pb                                19338 non-null  float64\n",
            " 8   final.output.tail_sol                               19433 non-null  float64\n",
            " 9   final.output.tail_au                                19439 non-null  float64\n",
            " 10  primary_cleaner.input.sulfate                       19415 non-null  float64\n",
            " 11  primary_cleaner.input.depressant                    19402 non-null  float64\n",
            " 12  primary_cleaner.input.feed_size                     19439 non-null  float64\n",
            " 13  primary_cleaner.input.xanthate                      19335 non-null  float64\n",
            " 14  primary_cleaner.output.concentrate_ag               19439 non-null  float64\n",
            " 15  primary_cleaner.output.concentrate_pb               19323 non-null  float64\n",
            " 16  primary_cleaner.output.concentrate_sol              19069 non-null  float64\n",
            " 17  primary_cleaner.output.concentrate_au               19439 non-null  float64\n",
            " 18  primary_cleaner.output.tail_ag                      19435 non-null  float64\n",
            " 19  primary_cleaner.output.tail_pb                      19418 non-null  float64\n",
            " 20  primary_cleaner.output.tail_sol                     19377 non-null  float64\n",
            " 21  primary_cleaner.output.tail_au                      19439 non-null  float64\n",
            " 22  primary_cleaner.state.floatbank8_a_air              19435 non-null  float64\n",
            " 23  primary_cleaner.state.floatbank8_a_level            19438 non-null  float64\n",
            " 24  primary_cleaner.state.floatbank8_b_air              19435 non-null  float64\n",
            " 25  primary_cleaner.state.floatbank8_b_level            19438 non-null  float64\n",
            " 26  primary_cleaner.state.floatbank8_c_air              19437 non-null  float64\n",
            " 27  primary_cleaner.state.floatbank8_c_level            19438 non-null  float64\n",
            " 28  primary_cleaner.state.floatbank8_d_air              19436 non-null  float64\n",
            " 29  primary_cleaner.state.floatbank8_d_level            19438 non-null  float64\n",
            " 30  rougher.calculation.sulfate_to_au_concentrate       19437 non-null  float64\n",
            " 31  rougher.calculation.floatbank10_sulfate_to_au_feed  19437 non-null  float64\n",
            " 32  rougher.calculation.floatbank11_sulfate_to_au_feed  19437 non-null  float64\n",
            " 33  rougher.calculation.au_pb_ratio                     19439 non-null  float64\n",
            " 34  rougher.input.feed_ag                               19439 non-null  float64\n",
            " 35  rougher.input.feed_pb                               19339 non-null  float64\n",
            " 36  rougher.input.feed_rate                             19428 non-null  float64\n",
            " 37  rougher.input.feed_size                             19294 non-null  float64\n",
            " 38  rougher.input.feed_sol                              19340 non-null  float64\n",
            " 39  rougher.input.feed_au                               19439 non-null  float64\n",
            " 40  rougher.input.floatbank10_sulfate                   19405 non-null  float64\n",
            " 41  rougher.input.floatbank10_xanthate                  19431 non-null  float64\n",
            " 42  rougher.input.floatbank11_sulfate                   19395 non-null  float64\n",
            " 43  rougher.input.floatbank11_xanthate                  18986 non-null  float64\n",
            " 44  rougher.output.concentrate_ag                       19439 non-null  float64\n",
            " 45  rougher.output.concentrate_pb                       19439 non-null  float64\n",
            " 46  rougher.output.concentrate_sol                      19416 non-null  float64\n",
            " 47  rougher.output.concentrate_au                       19439 non-null  float64\n",
            " 48  rougher.output.recovery                             19439 non-null  float64\n",
            " 49  rougher.output.tail_ag                              19438 non-null  float64\n",
            " 50  rougher.output.tail_pb                              19439 non-null  float64\n",
            " 51  rougher.output.tail_sol                             19439 non-null  float64\n",
            " 52  rougher.output.tail_au                              19439 non-null  float64\n",
            " 53  rougher.state.floatbank10_a_air                     19438 non-null  float64\n",
            " 54  rougher.state.floatbank10_a_level                   19438 non-null  float64\n",
            " 55  rougher.state.floatbank10_b_air                     19438 non-null  float64\n",
            " 56  rougher.state.floatbank10_b_level                   19438 non-null  float64\n",
            " 57  rougher.state.floatbank10_c_air                     19438 non-null  float64\n",
            " 58  rougher.state.floatbank10_c_level                   19438 non-null  float64\n",
            " 59  rougher.state.floatbank10_d_air                     19439 non-null  float64\n",
            " 60  rougher.state.floatbank10_d_level                   19439 non-null  float64\n",
            " 61  rougher.state.floatbank10_e_air                     19003 non-null  float64\n",
            " 62  rougher.state.floatbank10_e_level                   19439 non-null  float64\n",
            " 63  rougher.state.floatbank10_f_air                     19439 non-null  float64\n",
            " 64  rougher.state.floatbank10_f_level                   19439 non-null  float64\n",
            " 65  secondary_cleaner.output.tail_ag                    19437 non-null  float64\n",
            " 66  secondary_cleaner.output.tail_pb                    19427 non-null  float64\n",
            " 67  secondary_cleaner.output.tail_sol                   17691 non-null  float64\n",
            " 68  secondary_cleaner.output.tail_au                    19439 non-null  float64\n",
            " 69  secondary_cleaner.state.floatbank2_a_air            19219 non-null  float64\n",
            " 70  secondary_cleaner.state.floatbank2_a_level          19438 non-null  float64\n",
            " 71  secondary_cleaner.state.floatbank2_b_air            19416 non-null  float64\n",
            " 72  secondary_cleaner.state.floatbank2_b_level          19438 non-null  float64\n",
            " 73  secondary_cleaner.state.floatbank3_a_air            19426 non-null  float64\n",
            " 74  secondary_cleaner.state.floatbank3_a_level          19438 non-null  float64\n",
            " 75  secondary_cleaner.state.floatbank3_b_air            19438 non-null  float64\n",
            " 76  secondary_cleaner.state.floatbank3_b_level          19438 non-null  float64\n",
            " 77  secondary_cleaner.state.floatbank4_a_air            19433 non-null  float64\n",
            " 78  secondary_cleaner.state.floatbank4_a_level          19438 non-null  float64\n",
            " 79  secondary_cleaner.state.floatbank4_b_air            19438 non-null  float64\n",
            " 80  secondary_cleaner.state.floatbank4_b_level          19438 non-null  float64\n",
            " 81  secondary_cleaner.state.floatbank5_a_air            19438 non-null  float64\n",
            " 82  secondary_cleaner.state.floatbank5_a_level          19438 non-null  float64\n",
            " 83  secondary_cleaner.state.floatbank5_b_air            19438 non-null  float64\n",
            " 84  secondary_cleaner.state.floatbank5_b_level          19438 non-null  float64\n",
            " 85  secondary_cleaner.state.floatbank6_a_air            19437 non-null  float64\n",
            " 86  secondary_cleaner.state.floatbank6_a_level          19438 non-null  float64\n",
            "dtypes: float64(86), object(1)\n",
            "memory usage: 12.9+ MB\n"
          ]
        }
      ],
      "source": [
        "data_test.info()\n",
        "data_train.info()\n",
        "data_full.info()"
      ]
    },
    {
      "cell_type": "code",
      "execution_count": null,
      "id": "519ce6ea",
      "metadata": {
        "scrolled": false,
        "id": "519ce6ea",
        "outputId": "2d0c4f5f-3e4b-447c-ebac-d7f79de0fd58"
      },
      "outputs": [
        {
          "data": {
            "text/html": [
              "<div>\n",
              "<style scoped>\n",
              "    .dataframe tbody tr th:only-of-type {\n",
              "        vertical-align: middle;\n",
              "    }\n",
              "\n",
              "    .dataframe tbody tr th {\n",
              "        vertical-align: top;\n",
              "    }\n",
              "\n",
              "    .dataframe thead th {\n",
              "        text-align: right;\n",
              "    }\n",
              "</style>\n",
              "<table border=\"1\" class=\"dataframe\">\n",
              "  <thead>\n",
              "    <tr style=\"text-align: right;\">\n",
              "      <th></th>\n",
              "      <th>date</th>\n",
              "      <th>primary_cleaner.input.sulfate</th>\n",
              "      <th>primary_cleaner.input.depressant</th>\n",
              "      <th>primary_cleaner.input.feed_size</th>\n",
              "      <th>primary_cleaner.input.xanthate</th>\n",
              "      <th>primary_cleaner.state.floatbank8_a_air</th>\n",
              "      <th>primary_cleaner.state.floatbank8_a_level</th>\n",
              "      <th>primary_cleaner.state.floatbank8_b_air</th>\n",
              "      <th>primary_cleaner.state.floatbank8_b_level</th>\n",
              "      <th>primary_cleaner.state.floatbank8_c_air</th>\n",
              "      <th>primary_cleaner.state.floatbank8_c_level</th>\n",
              "      <th>primary_cleaner.state.floatbank8_d_air</th>\n",
              "      <th>primary_cleaner.state.floatbank8_d_level</th>\n",
              "      <th>rougher.input.feed_ag</th>\n",
              "      <th>rougher.input.feed_pb</th>\n",
              "      <th>rougher.input.feed_rate</th>\n",
              "      <th>rougher.input.feed_size</th>\n",
              "      <th>rougher.input.feed_sol</th>\n",
              "      <th>rougher.input.feed_au</th>\n",
              "      <th>rougher.input.floatbank10_sulfate</th>\n",
              "      <th>rougher.input.floatbank10_xanthate</th>\n",
              "      <th>rougher.input.floatbank11_sulfate</th>\n",
              "      <th>rougher.input.floatbank11_xanthate</th>\n",
              "      <th>rougher.state.floatbank10_a_air</th>\n",
              "      <th>rougher.state.floatbank10_a_level</th>\n",
              "      <th>rougher.state.floatbank10_b_air</th>\n",
              "      <th>rougher.state.floatbank10_b_level</th>\n",
              "      <th>rougher.state.floatbank10_c_air</th>\n",
              "      <th>rougher.state.floatbank10_c_level</th>\n",
              "      <th>rougher.state.floatbank10_d_air</th>\n",
              "      <th>rougher.state.floatbank10_d_level</th>\n",
              "      <th>rougher.state.floatbank10_e_air</th>\n",
              "      <th>rougher.state.floatbank10_e_level</th>\n",
              "      <th>rougher.state.floatbank10_f_air</th>\n",
              "      <th>rougher.state.floatbank10_f_level</th>\n",
              "      <th>secondary_cleaner.state.floatbank2_a_air</th>\n",
              "      <th>secondary_cleaner.state.floatbank2_a_level</th>\n",
              "      <th>secondary_cleaner.state.floatbank2_b_air</th>\n",
              "      <th>secondary_cleaner.state.floatbank2_b_level</th>\n",
              "      <th>secondary_cleaner.state.floatbank3_a_air</th>\n",
              "      <th>secondary_cleaner.state.floatbank3_a_level</th>\n",
              "      <th>secondary_cleaner.state.floatbank3_b_air</th>\n",
              "      <th>secondary_cleaner.state.floatbank3_b_level</th>\n",
              "      <th>secondary_cleaner.state.floatbank4_a_air</th>\n",
              "      <th>secondary_cleaner.state.floatbank4_a_level</th>\n",
              "      <th>secondary_cleaner.state.floatbank4_b_air</th>\n",
              "      <th>secondary_cleaner.state.floatbank4_b_level</th>\n",
              "      <th>secondary_cleaner.state.floatbank5_a_air</th>\n",
              "      <th>secondary_cleaner.state.floatbank5_a_level</th>\n",
              "      <th>secondary_cleaner.state.floatbank5_b_air</th>\n",
              "      <th>secondary_cleaner.state.floatbank5_b_level</th>\n",
              "      <th>secondary_cleaner.state.floatbank6_a_air</th>\n",
              "      <th>secondary_cleaner.state.floatbank6_a_level</th>\n",
              "    </tr>\n",
              "  </thead>\n",
              "  <tbody>\n",
              "    <tr>\n",
              "      <th>0</th>\n",
              "      <td>2016-09-01 00:59:59</td>\n",
              "      <td>210.800909</td>\n",
              "      <td>14.993118</td>\n",
              "      <td>8.080000</td>\n",
              "      <td>1.005021</td>\n",
              "      <td>1398.981301</td>\n",
              "      <td>-500.225577</td>\n",
              "      <td>1399.144926</td>\n",
              "      <td>-499.919735</td>\n",
              "      <td>1400.102998</td>\n",
              "      <td>-500.704369</td>\n",
              "      <td>1399.001695</td>\n",
              "      <td>-499.485144</td>\n",
              "      <td>13.128569</td>\n",
              "      <td>5.636710</td>\n",
              "      <td>489.793655</td>\n",
              "      <td>62.710452</td>\n",
              "      <td>42.022440</td>\n",
              "      <td>12.084103</td>\n",
              "      <td>16.922877</td>\n",
              "      <td>6.153479</td>\n",
              "      <td>16.867518</td>\n",
              "      <td>6.150709</td>\n",
              "      <td>1001.849317</td>\n",
              "      <td>-350.301265</td>\n",
              "      <td>1249.738612</td>\n",
              "      <td>-399.107531</td>\n",
              "      <td>1249.750520</td>\n",
              "      <td>-399.396730</td>\n",
              "      <td>1198.287855</td>\n",
              "      <td>-399.488594</td>\n",
              "      <td>999.472250</td>\n",
              "      <td>-399.530962</td>\n",
              "      <td>949.566189</td>\n",
              "      <td>-398.180807</td>\n",
              "      <td>24.938200</td>\n",
              "      <td>-500.490963</td>\n",
              "      <td>14.947607</td>\n",
              "      <td>-500.013837</td>\n",
              "      <td>20.018166</td>\n",
              "      <td>-450.395995</td>\n",
              "      <td>13.987058</td>\n",
              "      <td>-449.831513</td>\n",
              "      <td>12.023554</td>\n",
              "      <td>-497.795834</td>\n",
              "      <td>8.016656</td>\n",
              "      <td>-501.289139</td>\n",
              "      <td>7.946562</td>\n",
              "      <td>-432.317850</td>\n",
              "      <td>4.872511</td>\n",
              "      <td>-500.037437</td>\n",
              "      <td>26.705889</td>\n",
              "      <td>-499.709414</td>\n",
              "    </tr>\n",
              "    <tr>\n",
              "      <th>1</th>\n",
              "      <td>2016-09-01 01:59:59</td>\n",
              "      <td>215.392455</td>\n",
              "      <td>14.987471</td>\n",
              "      <td>8.080000</td>\n",
              "      <td>0.990469</td>\n",
              "      <td>1398.777912</td>\n",
              "      <td>-500.057435</td>\n",
              "      <td>1398.055362</td>\n",
              "      <td>-499.778182</td>\n",
              "      <td>1396.151033</td>\n",
              "      <td>-499.240168</td>\n",
              "      <td>1399.508091</td>\n",
              "      <td>-500.416324</td>\n",
              "      <td>13.036280</td>\n",
              "      <td>5.526065</td>\n",
              "      <td>490.104534</td>\n",
              "      <td>61.961163</td>\n",
              "      <td>41.187903</td>\n",
              "      <td>11.918977</td>\n",
              "      <td>17.002532</td>\n",
              "      <td>5.999043</td>\n",
              "      <td>16.996063</td>\n",
              "      <td>6.002315</td>\n",
              "      <td>998.690785</td>\n",
              "      <td>-350.425704</td>\n",
              "      <td>1248.395457</td>\n",
              "      <td>-399.946025</td>\n",
              "      <td>1249.514451</td>\n",
              "      <td>-399.630810</td>\n",
              "      <td>1200.506459</td>\n",
              "      <td>-399.942434</td>\n",
              "      <td>1000.002114</td>\n",
              "      <td>-399.491528</td>\n",
              "      <td>950.200009</td>\n",
              "      <td>-405.787514</td>\n",
              "      <td>24.923466</td>\n",
              "      <td>-499.813963</td>\n",
              "      <td>14.930873</td>\n",
              "      <td>-500.764452</td>\n",
              "      <td>19.988503</td>\n",
              "      <td>-450.114024</td>\n",
              "      <td>14.092981</td>\n",
              "      <td>-450.059163</td>\n",
              "      <td>12.058140</td>\n",
              "      <td>-498.695773</td>\n",
              "      <td>8.130979</td>\n",
              "      <td>-499.634209</td>\n",
              "      <td>7.958270</td>\n",
              "      <td>-525.839648</td>\n",
              "      <td>4.878850</td>\n",
              "      <td>-500.162375</td>\n",
              "      <td>25.019940</td>\n",
              "      <td>-499.819438</td>\n",
              "    </tr>\n",
              "    <tr>\n",
              "      <th>2</th>\n",
              "      <td>2016-09-01 02:59:59</td>\n",
              "      <td>215.259946</td>\n",
              "      <td>12.884934</td>\n",
              "      <td>7.786667</td>\n",
              "      <td>0.996043</td>\n",
              "      <td>1398.493666</td>\n",
              "      <td>-500.868360</td>\n",
              "      <td>1398.860436</td>\n",
              "      <td>-499.764529</td>\n",
              "      <td>1398.075709</td>\n",
              "      <td>-502.151509</td>\n",
              "      <td>1399.497088</td>\n",
              "      <td>-499.715479</td>\n",
              "      <td>13.138412</td>\n",
              "      <td>5.426561</td>\n",
              "      <td>489.617969</td>\n",
              "      <td>66.903807</td>\n",
              "      <td>42.546294</td>\n",
              "      <td>12.091332</td>\n",
              "      <td>16.992520</td>\n",
              "      <td>5.850632</td>\n",
              "      <td>16.982096</td>\n",
              "      <td>5.853594</td>\n",
              "      <td>998.516720</td>\n",
              "      <td>-349.783538</td>\n",
              "      <td>1247.440748</td>\n",
              "      <td>-400.264330</td>\n",
              "      <td>1248.207204</td>\n",
              "      <td>-401.074405</td>\n",
              "      <td>1199.770026</td>\n",
              "      <td>-400.790582</td>\n",
              "      <td>999.925519</td>\n",
              "      <td>-399.236999</td>\n",
              "      <td>950.320481</td>\n",
              "      <td>-400.864340</td>\n",
              "      <td>24.908732</td>\n",
              "      <td>-500.304035</td>\n",
              "      <td>14.996511</td>\n",
              "      <td>-500.993821</td>\n",
              "      <td>20.039689</td>\n",
              "      <td>-450.263164</td>\n",
              "      <td>14.077881</td>\n",
              "      <td>-449.660997</td>\n",
              "      <td>11.962366</td>\n",
              "      <td>-498.767484</td>\n",
              "      <td>8.096893</td>\n",
              "      <td>-500.827423</td>\n",
              "      <td>8.071056</td>\n",
              "      <td>-500.801673</td>\n",
              "      <td>4.905125</td>\n",
              "      <td>-499.828510</td>\n",
              "      <td>24.994862</td>\n",
              "      <td>-500.622559</td>\n",
              "    </tr>\n",
              "    <tr>\n",
              "      <th>3</th>\n",
              "      <td>2016-09-01 03:59:59</td>\n",
              "      <td>215.336236</td>\n",
              "      <td>12.006805</td>\n",
              "      <td>7.640000</td>\n",
              "      <td>0.863514</td>\n",
              "      <td>1399.618111</td>\n",
              "      <td>-498.863574</td>\n",
              "      <td>1397.440120</td>\n",
              "      <td>-499.211024</td>\n",
              "      <td>1400.129303</td>\n",
              "      <td>-498.355873</td>\n",
              "      <td>1401.065165</td>\n",
              "      <td>-501.038738</td>\n",
              "      <td>12.400507</td>\n",
              "      <td>5.114758</td>\n",
              "      <td>476.618130</td>\n",
              "      <td>59.865919</td>\n",
              "      <td>41.060195</td>\n",
              "      <td>12.181597</td>\n",
              "      <td>16.532144</td>\n",
              "      <td>5.801935</td>\n",
              "      <td>16.515277</td>\n",
              "      <td>5.803657</td>\n",
              "      <td>1000.276604</td>\n",
              "      <td>-350.172597</td>\n",
              "      <td>1251.322675</td>\n",
              "      <td>-398.655289</td>\n",
              "      <td>1250.493702</td>\n",
              "      <td>-399.746728</td>\n",
              "      <td>1199.398691</td>\n",
              "      <td>-397.503052</td>\n",
              "      <td>1001.930679</td>\n",
              "      <td>-400.437573</td>\n",
              "      <td>950.735324</td>\n",
              "      <td>-399.802986</td>\n",
              "      <td>24.893998</td>\n",
              "      <td>-499.382374</td>\n",
              "      <td>14.916674</td>\n",
              "      <td>-499.862299</td>\n",
              "      <td>20.031100</td>\n",
              "      <td>-449.372570</td>\n",
              "      <td>14.013968</td>\n",
              "      <td>-449.526900</td>\n",
              "      <td>12.033091</td>\n",
              "      <td>-498.350935</td>\n",
              "      <td>8.074946</td>\n",
              "      <td>-499.474407</td>\n",
              "      <td>7.897085</td>\n",
              "      <td>-500.868509</td>\n",
              "      <td>4.931400</td>\n",
              "      <td>-499.963623</td>\n",
              "      <td>24.948919</td>\n",
              "      <td>-498.709987</td>\n",
              "    </tr>\n",
              "    <tr>\n",
              "      <th>4</th>\n",
              "      <td>2016-09-01 04:59:59</td>\n",
              "      <td>199.099327</td>\n",
              "      <td>10.682530</td>\n",
              "      <td>7.530000</td>\n",
              "      <td>0.805575</td>\n",
              "      <td>1401.268123</td>\n",
              "      <td>-500.808305</td>\n",
              "      <td>1398.128818</td>\n",
              "      <td>-499.504543</td>\n",
              "      <td>1402.172226</td>\n",
              "      <td>-500.810606</td>\n",
              "      <td>1399.480508</td>\n",
              "      <td>-499.374053</td>\n",
              "      <td>11.327427</td>\n",
              "      <td>4.767383</td>\n",
              "      <td>488.248117</td>\n",
              "      <td>63.315324</td>\n",
              "      <td>41.269161</td>\n",
              "      <td>11.290425</td>\n",
              "      <td>13.607257</td>\n",
              "      <td>5.738081</td>\n",
              "      <td>13.650053</td>\n",
              "      <td>5.739634</td>\n",
              "      <td>996.541302</td>\n",
              "      <td>-350.562517</td>\n",
              "      <td>1304.658848</td>\n",
              "      <td>-399.511519</td>\n",
              "      <td>1306.455515</td>\n",
              "      <td>-399.050685</td>\n",
              "      <td>1248.699349</td>\n",
              "      <td>-400.876894</td>\n",
              "      <td>1058.839106</td>\n",
              "      <td>-398.988239</td>\n",
              "      <td>949.645313</td>\n",
              "      <td>-399.277632</td>\n",
              "      <td>24.886905</td>\n",
              "      <td>-499.357375</td>\n",
              "      <td>14.979233</td>\n",
              "      <td>-500.186804</td>\n",
              "      <td>19.962364</td>\n",
              "      <td>-450.638828</td>\n",
              "      <td>14.009245</td>\n",
              "      <td>-450.022259</td>\n",
              "      <td>12.025367</td>\n",
              "      <td>-500.786497</td>\n",
              "      <td>8.054678</td>\n",
              "      <td>-500.397500</td>\n",
              "      <td>8.107890</td>\n",
              "      <td>-509.526725</td>\n",
              "      <td>4.957674</td>\n",
              "      <td>-500.360026</td>\n",
              "      <td>25.003331</td>\n",
              "      <td>-500.856333</td>\n",
              "    </tr>\n",
              "    <tr>\n",
              "      <th>...</th>\n",
              "      <td>...</td>\n",
              "      <td>...</td>\n",
              "      <td>...</td>\n",
              "      <td>...</td>\n",
              "      <td>...</td>\n",
              "      <td>...</td>\n",
              "      <td>...</td>\n",
              "      <td>...</td>\n",
              "      <td>...</td>\n",
              "      <td>...</td>\n",
              "      <td>...</td>\n",
              "      <td>...</td>\n",
              "      <td>...</td>\n",
              "      <td>...</td>\n",
              "      <td>...</td>\n",
              "      <td>...</td>\n",
              "      <td>...</td>\n",
              "      <td>...</td>\n",
              "      <td>...</td>\n",
              "      <td>...</td>\n",
              "      <td>...</td>\n",
              "      <td>...</td>\n",
              "      <td>...</td>\n",
              "      <td>...</td>\n",
              "      <td>...</td>\n",
              "      <td>...</td>\n",
              "      <td>...</td>\n",
              "      <td>...</td>\n",
              "      <td>...</td>\n",
              "      <td>...</td>\n",
              "      <td>...</td>\n",
              "      <td>...</td>\n",
              "      <td>...</td>\n",
              "      <td>...</td>\n",
              "      <td>...</td>\n",
              "      <td>...</td>\n",
              "      <td>...</td>\n",
              "      <td>...</td>\n",
              "      <td>...</td>\n",
              "      <td>...</td>\n",
              "      <td>...</td>\n",
              "      <td>...</td>\n",
              "      <td>...</td>\n",
              "      <td>...</td>\n",
              "      <td>...</td>\n",
              "      <td>...</td>\n",
              "      <td>...</td>\n",
              "      <td>...</td>\n",
              "      <td>...</td>\n",
              "      <td>...</td>\n",
              "      <td>...</td>\n",
              "      <td>...</td>\n",
              "      <td>...</td>\n",
              "    </tr>\n",
              "    <tr>\n",
              "      <th>5285</th>\n",
              "      <td>2017-12-31 19:59:59</td>\n",
              "      <td>173.957757</td>\n",
              "      <td>15.963399</td>\n",
              "      <td>8.070000</td>\n",
              "      <td>0.896701</td>\n",
              "      <td>1401.930554</td>\n",
              "      <td>-499.728848</td>\n",
              "      <td>1401.441445</td>\n",
              "      <td>-499.193423</td>\n",
              "      <td>1399.810313</td>\n",
              "      <td>-499.599127</td>\n",
              "      <td>1400.334792</td>\n",
              "      <td>-499.243459</td>\n",
              "      <td>11.638973</td>\n",
              "      <td>4.695306</td>\n",
              "      <td>521.685155</td>\n",
              "      <td>66.758479</td>\n",
              "      <td>42.022027</td>\n",
              "      <td>10.554544</td>\n",
              "      <td>10.109194</td>\n",
              "      <td>7.203935</td>\n",
              "      <td>10.110793</td>\n",
              "      <td>7.198171</td>\n",
              "      <td>1399.935264</td>\n",
              "      <td>-299.999637</td>\n",
              "      <td>1049.641991</td>\n",
              "      <td>-500.074887</td>\n",
              "      <td>951.923857</td>\n",
              "      <td>-499.648793</td>\n",
              "      <td>852.337438</td>\n",
              "      <td>-498.464443</td>\n",
              "      <td>851.436769</td>\n",
              "      <td>-500.285584</td>\n",
              "      <td>851.461345</td>\n",
              "      <td>-499.735650</td>\n",
              "      <td>21.912132</td>\n",
              "      <td>-499.915179</td>\n",
              "      <td>19.909080</td>\n",
              "      <td>-499.734909</td>\n",
              "      <td>24.939573</td>\n",
              "      <td>-500.098479</td>\n",
              "      <td>12.968448</td>\n",
              "      <td>-499.952023</td>\n",
              "      <td>13.995957</td>\n",
              "      <td>-500.157454</td>\n",
              "      <td>12.069155</td>\n",
              "      <td>-499.673279</td>\n",
              "      <td>7.977259</td>\n",
              "      <td>-499.516126</td>\n",
              "      <td>5.933319</td>\n",
              "      <td>-499.965973</td>\n",
              "      <td>8.987171</td>\n",
              "      <td>-499.755909</td>\n",
              "    </tr>\n",
              "    <tr>\n",
              "      <th>5286</th>\n",
              "      <td>2017-12-31 20:59:59</td>\n",
              "      <td>172.910270</td>\n",
              "      <td>16.002605</td>\n",
              "      <td>8.070000</td>\n",
              "      <td>0.896519</td>\n",
              "      <td>1447.075722</td>\n",
              "      <td>-494.716823</td>\n",
              "      <td>1448.851892</td>\n",
              "      <td>-465.963026</td>\n",
              "      <td>1443.890424</td>\n",
              "      <td>-503.587739</td>\n",
              "      <td>1447.653388</td>\n",
              "      <td>-480.403849</td>\n",
              "      <td>11.338091</td>\n",
              "      <td>4.478381</td>\n",
              "      <td>530.195798</td>\n",
              "      <td>62.560684</td>\n",
              "      <td>41.096377</td>\n",
              "      <td>10.254051</td>\n",
              "      <td>9.979495</td>\n",
              "      <td>7.200895</td>\n",
              "      <td>9.978855</td>\n",
              "      <td>7.201957</td>\n",
              "      <td>1406.122319</td>\n",
              "      <td>-299.057200</td>\n",
              "      <td>1055.715243</td>\n",
              "      <td>-498.250207</td>\n",
              "      <td>956.850266</td>\n",
              "      <td>-497.403941</td>\n",
              "      <td>855.386714</td>\n",
              "      <td>-495.702676</td>\n",
              "      <td>852.071335</td>\n",
              "      <td>-499.442753</td>\n",
              "      <td>851.328986</td>\n",
              "      <td>-496.579809</td>\n",
              "      <td>25.322301</td>\n",
              "      <td>-497.034975</td>\n",
              "      <td>23.310568</td>\n",
              "      <td>-498.892647</td>\n",
              "      <td>26.369171</td>\n",
              "      <td>-499.222375</td>\n",
              "      <td>17.704862</td>\n",
              "      <td>-499.545681</td>\n",
              "      <td>16.749781</td>\n",
              "      <td>-496.031539</td>\n",
              "      <td>13.365371</td>\n",
              "      <td>-499.122723</td>\n",
              "      <td>9.288553</td>\n",
              "      <td>-496.892967</td>\n",
              "      <td>7.372897</td>\n",
              "      <td>-499.942956</td>\n",
              "      <td>8.986832</td>\n",
              "      <td>-499.903761</td>\n",
              "    </tr>\n",
              "    <tr>\n",
              "      <th>5287</th>\n",
              "      <td>2017-12-31 21:59:59</td>\n",
              "      <td>171.135718</td>\n",
              "      <td>15.993669</td>\n",
              "      <td>8.070000</td>\n",
              "      <td>1.165996</td>\n",
              "      <td>1498.836182</td>\n",
              "      <td>-501.770403</td>\n",
              "      <td>1499.572353</td>\n",
              "      <td>-495.516347</td>\n",
              "      <td>1502.749213</td>\n",
              "      <td>-520.667442</td>\n",
              "      <td>1502.585343</td>\n",
              "      <td>-498.260225</td>\n",
              "      <td>11.285908</td>\n",
              "      <td>4.405327</td>\n",
              "      <td>546.306868</td>\n",
              "      <td>73.647513</td>\n",
              "      <td>41.095485</td>\n",
              "      <td>10.169094</td>\n",
              "      <td>10.182219</td>\n",
              "      <td>7.196255</td>\n",
              "      <td>10.185461</td>\n",
              "      <td>7.198676</td>\n",
              "      <td>1396.203070</td>\n",
              "      <td>-300.210722</td>\n",
              "      <td>1047.879742</td>\n",
              "      <td>-499.604248</td>\n",
              "      <td>948.963429</td>\n",
              "      <td>-499.549567</td>\n",
              "      <td>856.325597</td>\n",
              "      <td>-500.095616</td>\n",
              "      <td>850.614597</td>\n",
              "      <td>-499.473713</td>\n",
              "      <td>850.279578</td>\n",
              "      <td>-498.508374</td>\n",
              "      <td>29.075948</td>\n",
              "      <td>-500.528402</td>\n",
              "      <td>26.888005</td>\n",
              "      <td>-500.975799</td>\n",
              "      <td>28.000224</td>\n",
              "      <td>-500.565876</td>\n",
              "      <td>22.996528</td>\n",
              "      <td>-500.477583</td>\n",
              "      <td>19.994130</td>\n",
              "      <td>-499.791312</td>\n",
              "      <td>15.101425</td>\n",
              "      <td>-499.936252</td>\n",
              "      <td>10.989181</td>\n",
              "      <td>-498.347898</td>\n",
              "      <td>9.020944</td>\n",
              "      <td>-500.040448</td>\n",
              "      <td>8.982038</td>\n",
              "      <td>-497.789882</td>\n",
              "    </tr>\n",
              "    <tr>\n",
              "      <th>5288</th>\n",
              "      <td>2017-12-31 22:59:59</td>\n",
              "      <td>179.697158</td>\n",
              "      <td>15.438979</td>\n",
              "      <td>8.070000</td>\n",
              "      <td>1.501068</td>\n",
              "      <td>1498.466243</td>\n",
              "      <td>-500.483984</td>\n",
              "      <td>1497.986986</td>\n",
              "      <td>-519.200340</td>\n",
              "      <td>1496.569047</td>\n",
              "      <td>-487.479567</td>\n",
              "      <td>1502.688918</td>\n",
              "      <td>-501.569723</td>\n",
              "      <td>11.289710</td>\n",
              "      <td>4.343488</td>\n",
              "      <td>547.331405</td>\n",
              "      <td>78.066446</td>\n",
              "      <td>41.715740</td>\n",
              "      <td>10.071156</td>\n",
              "      <td>10.730915</td>\n",
              "      <td>7.200058</td>\n",
              "      <td>10.726349</td>\n",
              "      <td>7.200834</td>\n",
              "      <td>1403.942288</td>\n",
              "      <td>-300.030119</td>\n",
              "      <td>1049.802289</td>\n",
              "      <td>-499.795576</td>\n",
              "      <td>950.769390</td>\n",
              "      <td>-500.374645</td>\n",
              "      <td>847.647198</td>\n",
              "      <td>-499.920332</td>\n",
              "      <td>849.413040</td>\n",
              "      <td>-500.380529</td>\n",
              "      <td>850.075026</td>\n",
              "      <td>-500.478250</td>\n",
              "      <td>29.103185</td>\n",
              "      <td>-499.692672</td>\n",
              "      <td>27.051742</td>\n",
              "      <td>-499.858337</td>\n",
              "      <td>27.980387</td>\n",
              "      <td>-499.907225</td>\n",
              "      <td>23.046562</td>\n",
              "      <td>-499.744914</td>\n",
              "      <td>19.958760</td>\n",
              "      <td>-499.958750</td>\n",
              "      <td>15.026853</td>\n",
              "      <td>-499.723143</td>\n",
              "      <td>11.011607</td>\n",
              "      <td>-499.985046</td>\n",
              "      <td>9.009783</td>\n",
              "      <td>-499.937902</td>\n",
              "      <td>9.012660</td>\n",
              "      <td>-500.154284</td>\n",
              "    </tr>\n",
              "    <tr>\n",
              "      <th>5289</th>\n",
              "      <td>2017-12-31 23:59:59</td>\n",
              "      <td>181.556856</td>\n",
              "      <td>14.995850</td>\n",
              "      <td>8.070000</td>\n",
              "      <td>1.623454</td>\n",
              "      <td>1498.096303</td>\n",
              "      <td>-499.796922</td>\n",
              "      <td>1501.743791</td>\n",
              "      <td>-505.146931</td>\n",
              "      <td>1499.535978</td>\n",
              "      <td>-492.428226</td>\n",
              "      <td>1499.674340</td>\n",
              "      <td>-499.766717</td>\n",
              "      <td>10.904646</td>\n",
              "      <td>4.090591</td>\n",
              "      <td>564.540376</td>\n",
              "      <td>77.678700</td>\n",
              "      <td>40.891121</td>\n",
              "      <td>9.697259</td>\n",
              "      <td>10.789493</td>\n",
              "      <td>7.195776</td>\n",
              "      <td>10.792881</td>\n",
              "      <td>7.201037</td>\n",
              "      <td>1400.611544</td>\n",
              "      <td>-299.989405</td>\n",
              "      <td>1052.782756</td>\n",
              "      <td>-499.762966</td>\n",
              "      <td>950.793740</td>\n",
              "      <td>-499.357170</td>\n",
              "      <td>850.639537</td>\n",
              "      <td>-500.433782</td>\n",
              "      <td>850.370801</td>\n",
              "      <td>-500.819351</td>\n",
              "      <td>850.680188</td>\n",
              "      <td>-498.539198</td>\n",
              "      <td>29.098116</td>\n",
              "      <td>-500.429872</td>\n",
              "      <td>26.892401</td>\n",
              "      <td>-500.087131</td>\n",
              "      <td>28.023491</td>\n",
              "      <td>-500.170406</td>\n",
              "      <td>23.013559</td>\n",
              "      <td>-500.218801</td>\n",
              "      <td>20.034715</td>\n",
              "      <td>-500.728588</td>\n",
              "      <td>14.914199</td>\n",
              "      <td>-499.948518</td>\n",
              "      <td>10.986607</td>\n",
              "      <td>-500.658027</td>\n",
              "      <td>8.989497</td>\n",
              "      <td>-500.337588</td>\n",
              "      <td>8.988632</td>\n",
              "      <td>-500.764937</td>\n",
              "    </tr>\n",
              "  </tbody>\n",
              "</table>\n",
              "<p>5290 rows × 53 columns</p>\n",
              "</div>"
            ],
            "text/plain": [
              "                     date  primary_cleaner.input.sulfate  \\\n",
              "0     2016-09-01 00:59:59                     210.800909   \n",
              "1     2016-09-01 01:59:59                     215.392455   \n",
              "2     2016-09-01 02:59:59                     215.259946   \n",
              "3     2016-09-01 03:59:59                     215.336236   \n",
              "4     2016-09-01 04:59:59                     199.099327   \n",
              "...                   ...                            ...   \n",
              "5285  2017-12-31 19:59:59                     173.957757   \n",
              "5286  2017-12-31 20:59:59                     172.910270   \n",
              "5287  2017-12-31 21:59:59                     171.135718   \n",
              "5288  2017-12-31 22:59:59                     179.697158   \n",
              "5289  2017-12-31 23:59:59                     181.556856   \n",
              "\n",
              "      primary_cleaner.input.depressant  primary_cleaner.input.feed_size  \\\n",
              "0                            14.993118                         8.080000   \n",
              "1                            14.987471                         8.080000   \n",
              "2                            12.884934                         7.786667   \n",
              "3                            12.006805                         7.640000   \n",
              "4                            10.682530                         7.530000   \n",
              "...                                ...                              ...   \n",
              "5285                         15.963399                         8.070000   \n",
              "5286                         16.002605                         8.070000   \n",
              "5287                         15.993669                         8.070000   \n",
              "5288                         15.438979                         8.070000   \n",
              "5289                         14.995850                         8.070000   \n",
              "\n",
              "      primary_cleaner.input.xanthate  primary_cleaner.state.floatbank8_a_air  \\\n",
              "0                           1.005021                             1398.981301   \n",
              "1                           0.990469                             1398.777912   \n",
              "2                           0.996043                             1398.493666   \n",
              "3                           0.863514                             1399.618111   \n",
              "4                           0.805575                             1401.268123   \n",
              "...                              ...                                     ...   \n",
              "5285                        0.896701                             1401.930554   \n",
              "5286                        0.896519                             1447.075722   \n",
              "5287                        1.165996                             1498.836182   \n",
              "5288                        1.501068                             1498.466243   \n",
              "5289                        1.623454                             1498.096303   \n",
              "\n",
              "      primary_cleaner.state.floatbank8_a_level  \\\n",
              "0                                  -500.225577   \n",
              "1                                  -500.057435   \n",
              "2                                  -500.868360   \n",
              "3                                  -498.863574   \n",
              "4                                  -500.808305   \n",
              "...                                        ...   \n",
              "5285                               -499.728848   \n",
              "5286                               -494.716823   \n",
              "5287                               -501.770403   \n",
              "5288                               -500.483984   \n",
              "5289                               -499.796922   \n",
              "\n",
              "      primary_cleaner.state.floatbank8_b_air  \\\n",
              "0                                1399.144926   \n",
              "1                                1398.055362   \n",
              "2                                1398.860436   \n",
              "3                                1397.440120   \n",
              "4                                1398.128818   \n",
              "...                                      ...   \n",
              "5285                             1401.441445   \n",
              "5286                             1448.851892   \n",
              "5287                             1499.572353   \n",
              "5288                             1497.986986   \n",
              "5289                             1501.743791   \n",
              "\n",
              "      primary_cleaner.state.floatbank8_b_level  \\\n",
              "0                                  -499.919735   \n",
              "1                                  -499.778182   \n",
              "2                                  -499.764529   \n",
              "3                                  -499.211024   \n",
              "4                                  -499.504543   \n",
              "...                                        ...   \n",
              "5285                               -499.193423   \n",
              "5286                               -465.963026   \n",
              "5287                               -495.516347   \n",
              "5288                               -519.200340   \n",
              "5289                               -505.146931   \n",
              "\n",
              "      primary_cleaner.state.floatbank8_c_air  \\\n",
              "0                                1400.102998   \n",
              "1                                1396.151033   \n",
              "2                                1398.075709   \n",
              "3                                1400.129303   \n",
              "4                                1402.172226   \n",
              "...                                      ...   \n",
              "5285                             1399.810313   \n",
              "5286                             1443.890424   \n",
              "5287                             1502.749213   \n",
              "5288                             1496.569047   \n",
              "5289                             1499.535978   \n",
              "\n",
              "      primary_cleaner.state.floatbank8_c_level  \\\n",
              "0                                  -500.704369   \n",
              "1                                  -499.240168   \n",
              "2                                  -502.151509   \n",
              "3                                  -498.355873   \n",
              "4                                  -500.810606   \n",
              "...                                        ...   \n",
              "5285                               -499.599127   \n",
              "5286                               -503.587739   \n",
              "5287                               -520.667442   \n",
              "5288                               -487.479567   \n",
              "5289                               -492.428226   \n",
              "\n",
              "      primary_cleaner.state.floatbank8_d_air  \\\n",
              "0                                1399.001695   \n",
              "1                                1399.508091   \n",
              "2                                1399.497088   \n",
              "3                                1401.065165   \n",
              "4                                1399.480508   \n",
              "...                                      ...   \n",
              "5285                             1400.334792   \n",
              "5286                             1447.653388   \n",
              "5287                             1502.585343   \n",
              "5288                             1502.688918   \n",
              "5289                             1499.674340   \n",
              "\n",
              "      primary_cleaner.state.floatbank8_d_level  rougher.input.feed_ag  \\\n",
              "0                                  -499.485144              13.128569   \n",
              "1                                  -500.416324              13.036280   \n",
              "2                                  -499.715479              13.138412   \n",
              "3                                  -501.038738              12.400507   \n",
              "4                                  -499.374053              11.327427   \n",
              "...                                        ...                    ...   \n",
              "5285                               -499.243459              11.638973   \n",
              "5286                               -480.403849              11.338091   \n",
              "5287                               -498.260225              11.285908   \n",
              "5288                               -501.569723              11.289710   \n",
              "5289                               -499.766717              10.904646   \n",
              "\n",
              "      rougher.input.feed_pb  rougher.input.feed_rate  rougher.input.feed_size  \\\n",
              "0                  5.636710               489.793655                62.710452   \n",
              "1                  5.526065               490.104534                61.961163   \n",
              "2                  5.426561               489.617969                66.903807   \n",
              "3                  5.114758               476.618130                59.865919   \n",
              "4                  4.767383               488.248117                63.315324   \n",
              "...                     ...                      ...                      ...   \n",
              "5285               4.695306               521.685155                66.758479   \n",
              "5286               4.478381               530.195798                62.560684   \n",
              "5287               4.405327               546.306868                73.647513   \n",
              "5288               4.343488               547.331405                78.066446   \n",
              "5289               4.090591               564.540376                77.678700   \n",
              "\n",
              "      rougher.input.feed_sol  rougher.input.feed_au  \\\n",
              "0                  42.022440              12.084103   \n",
              "1                  41.187903              11.918977   \n",
              "2                  42.546294              12.091332   \n",
              "3                  41.060195              12.181597   \n",
              "4                  41.269161              11.290425   \n",
              "...                      ...                    ...   \n",
              "5285               42.022027              10.554544   \n",
              "5286               41.096377              10.254051   \n",
              "5287               41.095485              10.169094   \n",
              "5288               41.715740              10.071156   \n",
              "5289               40.891121               9.697259   \n",
              "\n",
              "      rougher.input.floatbank10_sulfate  rougher.input.floatbank10_xanthate  \\\n",
              "0                             16.922877                            6.153479   \n",
              "1                             17.002532                            5.999043   \n",
              "2                             16.992520                            5.850632   \n",
              "3                             16.532144                            5.801935   \n",
              "4                             13.607257                            5.738081   \n",
              "...                                 ...                                 ...   \n",
              "5285                          10.109194                            7.203935   \n",
              "5286                           9.979495                            7.200895   \n",
              "5287                          10.182219                            7.196255   \n",
              "5288                          10.730915                            7.200058   \n",
              "5289                          10.789493                            7.195776   \n",
              "\n",
              "      rougher.input.floatbank11_sulfate  rougher.input.floatbank11_xanthate  \\\n",
              "0                             16.867518                            6.150709   \n",
              "1                             16.996063                            6.002315   \n",
              "2                             16.982096                            5.853594   \n",
              "3                             16.515277                            5.803657   \n",
              "4                             13.650053                            5.739634   \n",
              "...                                 ...                                 ...   \n",
              "5285                          10.110793                            7.198171   \n",
              "5286                           9.978855                            7.201957   \n",
              "5287                          10.185461                            7.198676   \n",
              "5288                          10.726349                            7.200834   \n",
              "5289                          10.792881                            7.201037   \n",
              "\n",
              "      rougher.state.floatbank10_a_air  rougher.state.floatbank10_a_level  \\\n",
              "0                         1001.849317                        -350.301265   \n",
              "1                          998.690785                        -350.425704   \n",
              "2                          998.516720                        -349.783538   \n",
              "3                         1000.276604                        -350.172597   \n",
              "4                          996.541302                        -350.562517   \n",
              "...                               ...                                ...   \n",
              "5285                      1399.935264                        -299.999637   \n",
              "5286                      1406.122319                        -299.057200   \n",
              "5287                      1396.203070                        -300.210722   \n",
              "5288                      1403.942288                        -300.030119   \n",
              "5289                      1400.611544                        -299.989405   \n",
              "\n",
              "      rougher.state.floatbank10_b_air  rougher.state.floatbank10_b_level  \\\n",
              "0                         1249.738612                        -399.107531   \n",
              "1                         1248.395457                        -399.946025   \n",
              "2                         1247.440748                        -400.264330   \n",
              "3                         1251.322675                        -398.655289   \n",
              "4                         1304.658848                        -399.511519   \n",
              "...                               ...                                ...   \n",
              "5285                      1049.641991                        -500.074887   \n",
              "5286                      1055.715243                        -498.250207   \n",
              "5287                      1047.879742                        -499.604248   \n",
              "5288                      1049.802289                        -499.795576   \n",
              "5289                      1052.782756                        -499.762966   \n",
              "\n",
              "      rougher.state.floatbank10_c_air  rougher.state.floatbank10_c_level  \\\n",
              "0                         1249.750520                        -399.396730   \n",
              "1                         1249.514451                        -399.630810   \n",
              "2                         1248.207204                        -401.074405   \n",
              "3                         1250.493702                        -399.746728   \n",
              "4                         1306.455515                        -399.050685   \n",
              "...                               ...                                ...   \n",
              "5285                       951.923857                        -499.648793   \n",
              "5286                       956.850266                        -497.403941   \n",
              "5287                       948.963429                        -499.549567   \n",
              "5288                       950.769390                        -500.374645   \n",
              "5289                       950.793740                        -499.357170   \n",
              "\n",
              "      rougher.state.floatbank10_d_air  rougher.state.floatbank10_d_level  \\\n",
              "0                         1198.287855                        -399.488594   \n",
              "1                         1200.506459                        -399.942434   \n",
              "2                         1199.770026                        -400.790582   \n",
              "3                         1199.398691                        -397.503052   \n",
              "4                         1248.699349                        -400.876894   \n",
              "...                               ...                                ...   \n",
              "5285                       852.337438                        -498.464443   \n",
              "5286                       855.386714                        -495.702676   \n",
              "5287                       856.325597                        -500.095616   \n",
              "5288                       847.647198                        -499.920332   \n",
              "5289                       850.639537                        -500.433782   \n",
              "\n",
              "      rougher.state.floatbank10_e_air  rougher.state.floatbank10_e_level  \\\n",
              "0                          999.472250                        -399.530962   \n",
              "1                         1000.002114                        -399.491528   \n",
              "2                          999.925519                        -399.236999   \n",
              "3                         1001.930679                        -400.437573   \n",
              "4                         1058.839106                        -398.988239   \n",
              "...                               ...                                ...   \n",
              "5285                       851.436769                        -500.285584   \n",
              "5286                       852.071335                        -499.442753   \n",
              "5287                       850.614597                        -499.473713   \n",
              "5288                       849.413040                        -500.380529   \n",
              "5289                       850.370801                        -500.819351   \n",
              "\n",
              "      rougher.state.floatbank10_f_air  rougher.state.floatbank10_f_level  \\\n",
              "0                          949.566189                        -398.180807   \n",
              "1                          950.200009                        -405.787514   \n",
              "2                          950.320481                        -400.864340   \n",
              "3                          950.735324                        -399.802986   \n",
              "4                          949.645313                        -399.277632   \n",
              "...                               ...                                ...   \n",
              "5285                       851.461345                        -499.735650   \n",
              "5286                       851.328986                        -496.579809   \n",
              "5287                       850.279578                        -498.508374   \n",
              "5288                       850.075026                        -500.478250   \n",
              "5289                       850.680188                        -498.539198   \n",
              "\n",
              "      secondary_cleaner.state.floatbank2_a_air  \\\n",
              "0                                    24.938200   \n",
              "1                                    24.923466   \n",
              "2                                    24.908732   \n",
              "3                                    24.893998   \n",
              "4                                    24.886905   \n",
              "...                                        ...   \n",
              "5285                                 21.912132   \n",
              "5286                                 25.322301   \n",
              "5287                                 29.075948   \n",
              "5288                                 29.103185   \n",
              "5289                                 29.098116   \n",
              "\n",
              "      secondary_cleaner.state.floatbank2_a_level  \\\n",
              "0                                    -500.490963   \n",
              "1                                    -499.813963   \n",
              "2                                    -500.304035   \n",
              "3                                    -499.382374   \n",
              "4                                    -499.357375   \n",
              "...                                          ...   \n",
              "5285                                 -499.915179   \n",
              "5286                                 -497.034975   \n",
              "5287                                 -500.528402   \n",
              "5288                                 -499.692672   \n",
              "5289                                 -500.429872   \n",
              "\n",
              "      secondary_cleaner.state.floatbank2_b_air  \\\n",
              "0                                    14.947607   \n",
              "1                                    14.930873   \n",
              "2                                    14.996511   \n",
              "3                                    14.916674   \n",
              "4                                    14.979233   \n",
              "...                                        ...   \n",
              "5285                                 19.909080   \n",
              "5286                                 23.310568   \n",
              "5287                                 26.888005   \n",
              "5288                                 27.051742   \n",
              "5289                                 26.892401   \n",
              "\n",
              "      secondary_cleaner.state.floatbank2_b_level  \\\n",
              "0                                    -500.013837   \n",
              "1                                    -500.764452   \n",
              "2                                    -500.993821   \n",
              "3                                    -499.862299   \n",
              "4                                    -500.186804   \n",
              "...                                          ...   \n",
              "5285                                 -499.734909   \n",
              "5286                                 -498.892647   \n",
              "5287                                 -500.975799   \n",
              "5288                                 -499.858337   \n",
              "5289                                 -500.087131   \n",
              "\n",
              "      secondary_cleaner.state.floatbank3_a_air  \\\n",
              "0                                    20.018166   \n",
              "1                                    19.988503   \n",
              "2                                    20.039689   \n",
              "3                                    20.031100   \n",
              "4                                    19.962364   \n",
              "...                                        ...   \n",
              "5285                                 24.939573   \n",
              "5286                                 26.369171   \n",
              "5287                                 28.000224   \n",
              "5288                                 27.980387   \n",
              "5289                                 28.023491   \n",
              "\n",
              "      secondary_cleaner.state.floatbank3_a_level  \\\n",
              "0                                    -450.395995   \n",
              "1                                    -450.114024   \n",
              "2                                    -450.263164   \n",
              "3                                    -449.372570   \n",
              "4                                    -450.638828   \n",
              "...                                          ...   \n",
              "5285                                 -500.098479   \n",
              "5286                                 -499.222375   \n",
              "5287                                 -500.565876   \n",
              "5288                                 -499.907225   \n",
              "5289                                 -500.170406   \n",
              "\n",
              "      secondary_cleaner.state.floatbank3_b_air  \\\n",
              "0                                    13.987058   \n",
              "1                                    14.092981   \n",
              "2                                    14.077881   \n",
              "3                                    14.013968   \n",
              "4                                    14.009245   \n",
              "...                                        ...   \n",
              "5285                                 12.968448   \n",
              "5286                                 17.704862   \n",
              "5287                                 22.996528   \n",
              "5288                                 23.046562   \n",
              "5289                                 23.013559   \n",
              "\n",
              "      secondary_cleaner.state.floatbank3_b_level  \\\n",
              "0                                    -449.831513   \n",
              "1                                    -450.059163   \n",
              "2                                    -449.660997   \n",
              "3                                    -449.526900   \n",
              "4                                    -450.022259   \n",
              "...                                          ...   \n",
              "5285                                 -499.952023   \n",
              "5286                                 -499.545681   \n",
              "5287                                 -500.477583   \n",
              "5288                                 -499.744914   \n",
              "5289                                 -500.218801   \n",
              "\n",
              "      secondary_cleaner.state.floatbank4_a_air  \\\n",
              "0                                    12.023554   \n",
              "1                                    12.058140   \n",
              "2                                    11.962366   \n",
              "3                                    12.033091   \n",
              "4                                    12.025367   \n",
              "...                                        ...   \n",
              "5285                                 13.995957   \n",
              "5286                                 16.749781   \n",
              "5287                                 19.994130   \n",
              "5288                                 19.958760   \n",
              "5289                                 20.034715   \n",
              "\n",
              "      secondary_cleaner.state.floatbank4_a_level  \\\n",
              "0                                    -497.795834   \n",
              "1                                    -498.695773   \n",
              "2                                    -498.767484   \n",
              "3                                    -498.350935   \n",
              "4                                    -500.786497   \n",
              "...                                          ...   \n",
              "5285                                 -500.157454   \n",
              "5286                                 -496.031539   \n",
              "5287                                 -499.791312   \n",
              "5288                                 -499.958750   \n",
              "5289                                 -500.728588   \n",
              "\n",
              "      secondary_cleaner.state.floatbank4_b_air  \\\n",
              "0                                     8.016656   \n",
              "1                                     8.130979   \n",
              "2                                     8.096893   \n",
              "3                                     8.074946   \n",
              "4                                     8.054678   \n",
              "...                                        ...   \n",
              "5285                                 12.069155   \n",
              "5286                                 13.365371   \n",
              "5287                                 15.101425   \n",
              "5288                                 15.026853   \n",
              "5289                                 14.914199   \n",
              "\n",
              "      secondary_cleaner.state.floatbank4_b_level  \\\n",
              "0                                    -501.289139   \n",
              "1                                    -499.634209   \n",
              "2                                    -500.827423   \n",
              "3                                    -499.474407   \n",
              "4                                    -500.397500   \n",
              "...                                          ...   \n",
              "5285                                 -499.673279   \n",
              "5286                                 -499.122723   \n",
              "5287                                 -499.936252   \n",
              "5288                                 -499.723143   \n",
              "5289                                 -499.948518   \n",
              "\n",
              "      secondary_cleaner.state.floatbank5_a_air  \\\n",
              "0                                     7.946562   \n",
              "1                                     7.958270   \n",
              "2                                     8.071056   \n",
              "3                                     7.897085   \n",
              "4                                     8.107890   \n",
              "...                                        ...   \n",
              "5285                                  7.977259   \n",
              "5286                                  9.288553   \n",
              "5287                                 10.989181   \n",
              "5288                                 11.011607   \n",
              "5289                                 10.986607   \n",
              "\n",
              "      secondary_cleaner.state.floatbank5_a_level  \\\n",
              "0                                    -432.317850   \n",
              "1                                    -525.839648   \n",
              "2                                    -500.801673   \n",
              "3                                    -500.868509   \n",
              "4                                    -509.526725   \n",
              "...                                          ...   \n",
              "5285                                 -499.516126   \n",
              "5286                                 -496.892967   \n",
              "5287                                 -498.347898   \n",
              "5288                                 -499.985046   \n",
              "5289                                 -500.658027   \n",
              "\n",
              "      secondary_cleaner.state.floatbank5_b_air  \\\n",
              "0                                     4.872511   \n",
              "1                                     4.878850   \n",
              "2                                     4.905125   \n",
              "3                                     4.931400   \n",
              "4                                     4.957674   \n",
              "...                                        ...   \n",
              "5285                                  5.933319   \n",
              "5286                                  7.372897   \n",
              "5287                                  9.020944   \n",
              "5288                                  9.009783   \n",
              "5289                                  8.989497   \n",
              "\n",
              "      secondary_cleaner.state.floatbank5_b_level  \\\n",
              "0                                    -500.037437   \n",
              "1                                    -500.162375   \n",
              "2                                    -499.828510   \n",
              "3                                    -499.963623   \n",
              "4                                    -500.360026   \n",
              "...                                          ...   \n",
              "5285                                 -499.965973   \n",
              "5286                                 -499.942956   \n",
              "5287                                 -500.040448   \n",
              "5288                                 -499.937902   \n",
              "5289                                 -500.337588   \n",
              "\n",
              "      secondary_cleaner.state.floatbank6_a_air  \\\n",
              "0                                    26.705889   \n",
              "1                                    25.019940   \n",
              "2                                    24.994862   \n",
              "3                                    24.948919   \n",
              "4                                    25.003331   \n",
              "...                                        ...   \n",
              "5285                                  8.987171   \n",
              "5286                                  8.986832   \n",
              "5287                                  8.982038   \n",
              "5288                                  9.012660   \n",
              "5289                                  8.988632   \n",
              "\n",
              "      secondary_cleaner.state.floatbank6_a_level  \n",
              "0                                    -499.709414  \n",
              "1                                    -499.819438  \n",
              "2                                    -500.622559  \n",
              "3                                    -498.709987  \n",
              "4                                    -500.856333  \n",
              "...                                          ...  \n",
              "5285                                 -499.755909  \n",
              "5286                                 -499.903761  \n",
              "5287                                 -497.789882  \n",
              "5288                                 -500.154284  \n",
              "5289                                 -500.764937  \n",
              "\n",
              "[5290 rows x 53 columns]"
            ]
          },
          "execution_count": 6,
          "metadata": {},
          "output_type": "execute_result"
        }
      ],
      "source": [
        "data_test"
      ]
    },
    {
      "cell_type": "code",
      "execution_count": null,
      "id": "f032d524",
      "metadata": {
        "id": "f032d524",
        "outputId": "10681ca3-cd15-491f-e4d5-361ba5b5000e"
      },
      "outputs": [
        {
          "data": {
            "text/html": [
              "<div>\n",
              "<style scoped>\n",
              "    .dataframe tbody tr th:only-of-type {\n",
              "        vertical-align: middle;\n",
              "    }\n",
              "\n",
              "    .dataframe tbody tr th {\n",
              "        vertical-align: top;\n",
              "    }\n",
              "\n",
              "    .dataframe thead th {\n",
              "        text-align: right;\n",
              "    }\n",
              "</style>\n",
              "<table border=\"1\" class=\"dataframe\">\n",
              "  <thead>\n",
              "    <tr style=\"text-align: right;\">\n",
              "      <th></th>\n",
              "      <th>date</th>\n",
              "      <th>final.output.concentrate_ag</th>\n",
              "      <th>final.output.concentrate_pb</th>\n",
              "      <th>final.output.concentrate_sol</th>\n",
              "      <th>final.output.concentrate_au</th>\n",
              "      <th>final.output.recovery</th>\n",
              "      <th>final.output.tail_ag</th>\n",
              "      <th>final.output.tail_pb</th>\n",
              "      <th>final.output.tail_sol</th>\n",
              "      <th>final.output.tail_au</th>\n",
              "      <th>primary_cleaner.input.sulfate</th>\n",
              "      <th>primary_cleaner.input.depressant</th>\n",
              "      <th>primary_cleaner.input.feed_size</th>\n",
              "      <th>primary_cleaner.input.xanthate</th>\n",
              "      <th>primary_cleaner.output.concentrate_ag</th>\n",
              "      <th>primary_cleaner.output.concentrate_pb</th>\n",
              "      <th>primary_cleaner.output.concentrate_sol</th>\n",
              "      <th>primary_cleaner.output.concentrate_au</th>\n",
              "      <th>primary_cleaner.output.tail_ag</th>\n",
              "      <th>primary_cleaner.output.tail_pb</th>\n",
              "      <th>primary_cleaner.output.tail_sol</th>\n",
              "      <th>primary_cleaner.output.tail_au</th>\n",
              "      <th>primary_cleaner.state.floatbank8_a_air</th>\n",
              "      <th>primary_cleaner.state.floatbank8_a_level</th>\n",
              "      <th>primary_cleaner.state.floatbank8_b_air</th>\n",
              "      <th>primary_cleaner.state.floatbank8_b_level</th>\n",
              "      <th>primary_cleaner.state.floatbank8_c_air</th>\n",
              "      <th>primary_cleaner.state.floatbank8_c_level</th>\n",
              "      <th>primary_cleaner.state.floatbank8_d_air</th>\n",
              "      <th>primary_cleaner.state.floatbank8_d_level</th>\n",
              "      <th>rougher.calculation.sulfate_to_au_concentrate</th>\n",
              "      <th>rougher.calculation.floatbank10_sulfate_to_au_feed</th>\n",
              "      <th>rougher.calculation.floatbank11_sulfate_to_au_feed</th>\n",
              "      <th>rougher.calculation.au_pb_ratio</th>\n",
              "      <th>rougher.input.feed_ag</th>\n",
              "      <th>rougher.input.feed_pb</th>\n",
              "      <th>rougher.input.feed_rate</th>\n",
              "      <th>rougher.input.feed_size</th>\n",
              "      <th>rougher.input.feed_sol</th>\n",
              "      <th>rougher.input.feed_au</th>\n",
              "      <th>rougher.input.floatbank10_sulfate</th>\n",
              "      <th>rougher.input.floatbank10_xanthate</th>\n",
              "      <th>rougher.input.floatbank11_sulfate</th>\n",
              "      <th>rougher.input.floatbank11_xanthate</th>\n",
              "      <th>rougher.output.concentrate_ag</th>\n",
              "      <th>rougher.output.concentrate_pb</th>\n",
              "      <th>rougher.output.concentrate_sol</th>\n",
              "      <th>rougher.output.concentrate_au</th>\n",
              "      <th>rougher.output.recovery</th>\n",
              "      <th>rougher.output.tail_ag</th>\n",
              "      <th>rougher.output.tail_pb</th>\n",
              "      <th>rougher.output.tail_sol</th>\n",
              "      <th>rougher.output.tail_au</th>\n",
              "      <th>rougher.state.floatbank10_a_air</th>\n",
              "      <th>rougher.state.floatbank10_a_level</th>\n",
              "      <th>rougher.state.floatbank10_b_air</th>\n",
              "      <th>rougher.state.floatbank10_b_level</th>\n",
              "      <th>rougher.state.floatbank10_c_air</th>\n",
              "      <th>rougher.state.floatbank10_c_level</th>\n",
              "      <th>rougher.state.floatbank10_d_air</th>\n",
              "      <th>rougher.state.floatbank10_d_level</th>\n",
              "      <th>rougher.state.floatbank10_e_air</th>\n",
              "      <th>rougher.state.floatbank10_e_level</th>\n",
              "      <th>rougher.state.floatbank10_f_air</th>\n",
              "      <th>rougher.state.floatbank10_f_level</th>\n",
              "      <th>secondary_cleaner.output.tail_ag</th>\n",
              "      <th>secondary_cleaner.output.tail_pb</th>\n",
              "      <th>secondary_cleaner.output.tail_sol</th>\n",
              "      <th>secondary_cleaner.output.tail_au</th>\n",
              "      <th>secondary_cleaner.state.floatbank2_a_air</th>\n",
              "      <th>secondary_cleaner.state.floatbank2_a_level</th>\n",
              "      <th>secondary_cleaner.state.floatbank2_b_air</th>\n",
              "      <th>secondary_cleaner.state.floatbank2_b_level</th>\n",
              "      <th>secondary_cleaner.state.floatbank3_a_air</th>\n",
              "      <th>secondary_cleaner.state.floatbank3_a_level</th>\n",
              "      <th>secondary_cleaner.state.floatbank3_b_air</th>\n",
              "      <th>secondary_cleaner.state.floatbank3_b_level</th>\n",
              "      <th>secondary_cleaner.state.floatbank4_a_air</th>\n",
              "      <th>secondary_cleaner.state.floatbank4_a_level</th>\n",
              "      <th>secondary_cleaner.state.floatbank4_b_air</th>\n",
              "      <th>secondary_cleaner.state.floatbank4_b_level</th>\n",
              "      <th>secondary_cleaner.state.floatbank5_a_air</th>\n",
              "      <th>secondary_cleaner.state.floatbank5_a_level</th>\n",
              "      <th>secondary_cleaner.state.floatbank5_b_air</th>\n",
              "      <th>secondary_cleaner.state.floatbank5_b_level</th>\n",
              "      <th>secondary_cleaner.state.floatbank6_a_air</th>\n",
              "      <th>secondary_cleaner.state.floatbank6_a_level</th>\n",
              "    </tr>\n",
              "  </thead>\n",
              "  <tbody>\n",
              "    <tr>\n",
              "      <th>0</th>\n",
              "      <td>2016-01-15 00:00:00</td>\n",
              "      <td>6.055403</td>\n",
              "      <td>9.889648</td>\n",
              "      <td>5.507324</td>\n",
              "      <td>42.192020</td>\n",
              "      <td>70.541216</td>\n",
              "      <td>10.411962</td>\n",
              "      <td>0.895447</td>\n",
              "      <td>16.904297</td>\n",
              "      <td>2.143149</td>\n",
              "      <td>127.092003</td>\n",
              "      <td>10.128295</td>\n",
              "      <td>7.25</td>\n",
              "      <td>0.988759</td>\n",
              "      <td>8.547551</td>\n",
              "      <td>10.389648</td>\n",
              "      <td>19.529297</td>\n",
              "      <td>34.174427</td>\n",
              "      <td>14.936526</td>\n",
              "      <td>2.534912</td>\n",
              "      <td>7.476074</td>\n",
              "      <td>2.106679</td>\n",
              "      <td>1549.775757</td>\n",
              "      <td>-498.912140</td>\n",
              "      <td>1551.434204</td>\n",
              "      <td>-516.403442</td>\n",
              "      <td>1549.873901</td>\n",
              "      <td>-498.666595</td>\n",
              "      <td>1554.367432</td>\n",
              "      <td>-493.428131</td>\n",
              "      <td>41885.707031</td>\n",
              "      <td>3481.779053</td>\n",
              "      <td>3520.337158</td>\n",
              "      <td>2.838687</td>\n",
              "      <td>6.100378</td>\n",
              "      <td>2.284912</td>\n",
              "      <td>523.546326</td>\n",
              "      <td>55.486599</td>\n",
              "      <td>36.808594</td>\n",
              "      <td>6.486150</td>\n",
              "      <td>11.986616</td>\n",
              "      <td>6.007990</td>\n",
              "      <td>11.836743</td>\n",
              "      <td>6.005818</td>\n",
              "      <td>11.500771</td>\n",
              "      <td>7.101074</td>\n",
              "      <td>28.029297</td>\n",
              "      <td>19.793808</td>\n",
              "      <td>87.107763</td>\n",
              "      <td>5.008018</td>\n",
              "      <td>0.508728</td>\n",
              "      <td>19.154297</td>\n",
              "      <td>1.170244</td>\n",
              "      <td>999.706909</td>\n",
              "      <td>-404.066986</td>\n",
              "      <td>1603.011353</td>\n",
              "      <td>-434.715027</td>\n",
              "      <td>1602.375000</td>\n",
              "      <td>-442.204468</td>\n",
              "      <td>1598.937256</td>\n",
              "      <td>-451.294128</td>\n",
              "      <td>1404.472046</td>\n",
              "      <td>-455.462982</td>\n",
              "      <td>1416.354980</td>\n",
              "      <td>-451.939636</td>\n",
              "      <td>14.500184</td>\n",
              "      <td>4.694824</td>\n",
              "      <td>8.764648</td>\n",
              "      <td>2.606185</td>\n",
              "      <td>25.853109</td>\n",
              "      <td>-498.526489</td>\n",
              "      <td>23.893660</td>\n",
              "      <td>-501.406281</td>\n",
              "      <td>23.961798</td>\n",
              "      <td>-495.262817</td>\n",
              "      <td>21.940409</td>\n",
              "      <td>-499.340973</td>\n",
              "      <td>14.016835</td>\n",
              "      <td>-502.488007</td>\n",
              "      <td>12.099931</td>\n",
              "      <td>-504.715942</td>\n",
              "      <td>9.925633</td>\n",
              "      <td>-498.310211</td>\n",
              "      <td>8.079666</td>\n",
              "      <td>-500.470978</td>\n",
              "      <td>14.151341</td>\n",
              "      <td>-605.841980</td>\n",
              "    </tr>\n",
              "    <tr>\n",
              "      <th>1</th>\n",
              "      <td>2016-01-15 01:00:00</td>\n",
              "      <td>6.029369</td>\n",
              "      <td>9.968944</td>\n",
              "      <td>5.257781</td>\n",
              "      <td>42.701629</td>\n",
              "      <td>69.266198</td>\n",
              "      <td>10.462676</td>\n",
              "      <td>0.927452</td>\n",
              "      <td>16.634514</td>\n",
              "      <td>2.224930</td>\n",
              "      <td>125.629232</td>\n",
              "      <td>10.296251</td>\n",
              "      <td>7.25</td>\n",
              "      <td>1.002663</td>\n",
              "      <td>8.558743</td>\n",
              "      <td>10.497069</td>\n",
              "      <td>19.369147</td>\n",
              "      <td>34.118526</td>\n",
              "      <td>16.250511</td>\n",
              "      <td>3.049646</td>\n",
              "      <td>6.733907</td>\n",
              "      <td>2.353017</td>\n",
              "      <td>1576.166671</td>\n",
              "      <td>-500.904965</td>\n",
              "      <td>1575.950626</td>\n",
              "      <td>-499.865889</td>\n",
              "      <td>1575.994189</td>\n",
              "      <td>-499.315107</td>\n",
              "      <td>1574.479259</td>\n",
              "      <td>-498.931665</td>\n",
              "      <td>42050.861809</td>\n",
              "      <td>3498.370979</td>\n",
              "      <td>3489.981857</td>\n",
              "      <td>2.858998</td>\n",
              "      <td>6.161113</td>\n",
              "      <td>2.266033</td>\n",
              "      <td>525.290581</td>\n",
              "      <td>57.278666</td>\n",
              "      <td>35.753385</td>\n",
              "      <td>6.478583</td>\n",
              "      <td>11.971193</td>\n",
              "      <td>6.005766</td>\n",
              "      <td>11.996163</td>\n",
              "      <td>6.012594</td>\n",
              "      <td>11.615865</td>\n",
              "      <td>7.278807</td>\n",
              "      <td>28.067063</td>\n",
              "      <td>20.050975</td>\n",
              "      <td>86.843261</td>\n",
              "      <td>4.955378</td>\n",
              "      <td>0.536689</td>\n",
              "      <td>18.965234</td>\n",
              "      <td>1.184827</td>\n",
              "      <td>1000.286398</td>\n",
              "      <td>-400.065196</td>\n",
              "      <td>1600.754587</td>\n",
              "      <td>-449.953435</td>\n",
              "      <td>1600.479580</td>\n",
              "      <td>-449.830646</td>\n",
              "      <td>1600.527589</td>\n",
              "      <td>-449.953649</td>\n",
              "      <td>1399.227084</td>\n",
              "      <td>-450.869848</td>\n",
              "      <td>1399.719514</td>\n",
              "      <td>-450.119001</td>\n",
              "      <td>14.265474</td>\n",
              "      <td>4.592547</td>\n",
              "      <td>9.001494</td>\n",
              "      <td>2.488248</td>\n",
              "      <td>25.880539</td>\n",
              "      <td>-499.989656</td>\n",
              "      <td>23.889530</td>\n",
              "      <td>-500.372428</td>\n",
              "      <td>23.970550</td>\n",
              "      <td>-500.085473</td>\n",
              "      <td>22.085714</td>\n",
              "      <td>-499.446897</td>\n",
              "      <td>13.992281</td>\n",
              "      <td>-505.503262</td>\n",
              "      <td>11.950531</td>\n",
              "      <td>-501.331529</td>\n",
              "      <td>10.039245</td>\n",
              "      <td>-500.169983</td>\n",
              "      <td>7.984757</td>\n",
              "      <td>-500.582168</td>\n",
              "      <td>13.998353</td>\n",
              "      <td>-599.787184</td>\n",
              "    </tr>\n",
              "    <tr>\n",
              "      <th>2</th>\n",
              "      <td>2016-01-15 02:00:00</td>\n",
              "      <td>6.055926</td>\n",
              "      <td>10.213995</td>\n",
              "      <td>5.383759</td>\n",
              "      <td>42.657501</td>\n",
              "      <td>68.116445</td>\n",
              "      <td>10.507046</td>\n",
              "      <td>0.953716</td>\n",
              "      <td>16.208849</td>\n",
              "      <td>2.257889</td>\n",
              "      <td>123.819808</td>\n",
              "      <td>11.316280</td>\n",
              "      <td>7.25</td>\n",
              "      <td>0.991265</td>\n",
              "      <td>8.603505</td>\n",
              "      <td>10.354494</td>\n",
              "      <td>19.167579</td>\n",
              "      <td>33.969464</td>\n",
              "      <td>16.491823</td>\n",
              "      <td>3.124664</td>\n",
              "      <td>6.471768</td>\n",
              "      <td>2.416800</td>\n",
              "      <td>1601.556163</td>\n",
              "      <td>-499.997791</td>\n",
              "      <td>1600.386685</td>\n",
              "      <td>-500.607762</td>\n",
              "      <td>1602.003542</td>\n",
              "      <td>-500.870069</td>\n",
              "      <td>1599.541515</td>\n",
              "      <td>-499.827444</td>\n",
              "      <td>42018.101184</td>\n",
              "      <td>3495.348910</td>\n",
              "      <td>3502.359819</td>\n",
              "      <td>2.945989</td>\n",
              "      <td>6.116455</td>\n",
              "      <td>2.159622</td>\n",
              "      <td>530.026610</td>\n",
              "      <td>57.510649</td>\n",
              "      <td>35.971630</td>\n",
              "      <td>6.362222</td>\n",
              "      <td>11.920603</td>\n",
              "      <td>6.197377</td>\n",
              "      <td>11.920305</td>\n",
              "      <td>6.204633</td>\n",
              "      <td>11.695753</td>\n",
              "      <td>7.216833</td>\n",
              "      <td>27.454037</td>\n",
              "      <td>19.737170</td>\n",
              "      <td>86.842308</td>\n",
              "      <td>4.843460</td>\n",
              "      <td>0.546416</td>\n",
              "      <td>18.808533</td>\n",
              "      <td>1.162562</td>\n",
              "      <td>999.719565</td>\n",
              "      <td>-400.074028</td>\n",
              "      <td>1599.337330</td>\n",
              "      <td>-450.008530</td>\n",
              "      <td>1599.672797</td>\n",
              "      <td>-449.954491</td>\n",
              "      <td>1599.849325</td>\n",
              "      <td>-449.954185</td>\n",
              "      <td>1399.180945</td>\n",
              "      <td>-449.937588</td>\n",
              "      <td>1400.316682</td>\n",
              "      <td>-450.527147</td>\n",
              "      <td>14.115662</td>\n",
              "      <td>4.624775</td>\n",
              "      <td>8.842896</td>\n",
              "      <td>2.458187</td>\n",
              "      <td>26.005245</td>\n",
              "      <td>-499.929616</td>\n",
              "      <td>23.886657</td>\n",
              "      <td>-499.951928</td>\n",
              "      <td>23.913535</td>\n",
              "      <td>-499.442343</td>\n",
              "      <td>23.957717</td>\n",
              "      <td>-499.901982</td>\n",
              "      <td>14.015015</td>\n",
              "      <td>-502.520901</td>\n",
              "      <td>11.912783</td>\n",
              "      <td>-501.133383</td>\n",
              "      <td>10.070913</td>\n",
              "      <td>-500.129135</td>\n",
              "      <td>8.013877</td>\n",
              "      <td>-500.517572</td>\n",
              "      <td>14.028663</td>\n",
              "      <td>-601.427363</td>\n",
              "    </tr>\n",
              "    <tr>\n",
              "      <th>3</th>\n",
              "      <td>2016-01-15 03:00:00</td>\n",
              "      <td>6.047977</td>\n",
              "      <td>9.977019</td>\n",
              "      <td>4.858634</td>\n",
              "      <td>42.689819</td>\n",
              "      <td>68.347543</td>\n",
              "      <td>10.422762</td>\n",
              "      <td>0.883763</td>\n",
              "      <td>16.532835</td>\n",
              "      <td>2.146849</td>\n",
              "      <td>122.270188</td>\n",
              "      <td>11.322140</td>\n",
              "      <td>7.25</td>\n",
              "      <td>0.996739</td>\n",
              "      <td>7.221879</td>\n",
              "      <td>8.496563</td>\n",
              "      <td>15.978538</td>\n",
              "      <td>28.260743</td>\n",
              "      <td>16.024359</td>\n",
              "      <td>2.960362</td>\n",
              "      <td>6.843791</td>\n",
              "      <td>2.262051</td>\n",
              "      <td>1599.968720</td>\n",
              "      <td>-500.951778</td>\n",
              "      <td>1600.659236</td>\n",
              "      <td>-499.677094</td>\n",
              "      <td>1600.304144</td>\n",
              "      <td>-500.727997</td>\n",
              "      <td>1600.449520</td>\n",
              "      <td>-500.052575</td>\n",
              "      <td>42029.447991</td>\n",
              "      <td>3498.578313</td>\n",
              "      <td>3499.162912</td>\n",
              "      <td>3.002340</td>\n",
              "      <td>6.043309</td>\n",
              "      <td>2.037807</td>\n",
              "      <td>542.590390</td>\n",
              "      <td>57.792734</td>\n",
              "      <td>36.862241</td>\n",
              "      <td>6.118189</td>\n",
              "      <td>11.630094</td>\n",
              "      <td>6.203177</td>\n",
              "      <td>11.692450</td>\n",
              "      <td>6.196578</td>\n",
              "      <td>11.915047</td>\n",
              "      <td>7.175616</td>\n",
              "      <td>27.341277</td>\n",
              "      <td>19.320810</td>\n",
              "      <td>87.226430</td>\n",
              "      <td>4.655288</td>\n",
              "      <td>0.542525</td>\n",
              "      <td>19.330200</td>\n",
              "      <td>1.079755</td>\n",
              "      <td>999.814770</td>\n",
              "      <td>-400.200179</td>\n",
              "      <td>1600.059442</td>\n",
              "      <td>-450.619948</td>\n",
              "      <td>1600.012842</td>\n",
              "      <td>-449.910497</td>\n",
              "      <td>1597.725177</td>\n",
              "      <td>-450.130127</td>\n",
              "      <td>1400.943157</td>\n",
              "      <td>-450.030142</td>\n",
              "      <td>1400.234743</td>\n",
              "      <td>-449.790835</td>\n",
              "      <td>13.732071</td>\n",
              "      <td>4.482453</td>\n",
              "      <td>9.122857</td>\n",
              "      <td>2.322062</td>\n",
              "      <td>25.942508</td>\n",
              "      <td>-499.176749</td>\n",
              "      <td>23.955516</td>\n",
              "      <td>-499.848796</td>\n",
              "      <td>23.966838</td>\n",
              "      <td>-500.008812</td>\n",
              "      <td>23.954443</td>\n",
              "      <td>-499.944710</td>\n",
              "      <td>14.036510</td>\n",
              "      <td>-500.857308</td>\n",
              "      <td>11.999550</td>\n",
              "      <td>-501.193686</td>\n",
              "      <td>9.970366</td>\n",
              "      <td>-499.201640</td>\n",
              "      <td>7.977324</td>\n",
              "      <td>-500.255908</td>\n",
              "      <td>14.005551</td>\n",
              "      <td>-599.996129</td>\n",
              "    </tr>\n",
              "    <tr>\n",
              "      <th>4</th>\n",
              "      <td>2016-01-15 04:00:00</td>\n",
              "      <td>6.148599</td>\n",
              "      <td>10.142511</td>\n",
              "      <td>4.939416</td>\n",
              "      <td>42.774141</td>\n",
              "      <td>66.927016</td>\n",
              "      <td>10.360302</td>\n",
              "      <td>0.792826</td>\n",
              "      <td>16.525686</td>\n",
              "      <td>2.055292</td>\n",
              "      <td>117.988169</td>\n",
              "      <td>11.913613</td>\n",
              "      <td>7.25</td>\n",
              "      <td>1.009869</td>\n",
              "      <td>9.089428</td>\n",
              "      <td>9.986786</td>\n",
              "      <td>19.199864</td>\n",
              "      <td>33.044932</td>\n",
              "      <td>16.480185</td>\n",
              "      <td>3.112100</td>\n",
              "      <td>6.550154</td>\n",
              "      <td>2.277073</td>\n",
              "      <td>1601.339707</td>\n",
              "      <td>-498.975456</td>\n",
              "      <td>1601.437854</td>\n",
              "      <td>-500.323246</td>\n",
              "      <td>1599.581894</td>\n",
              "      <td>-500.888152</td>\n",
              "      <td>1602.649541</td>\n",
              "      <td>-500.593010</td>\n",
              "      <td>42125.354245</td>\n",
              "      <td>3494.800771</td>\n",
              "      <td>3506.679315</td>\n",
              "      <td>3.169615</td>\n",
              "      <td>6.060915</td>\n",
              "      <td>1.786875</td>\n",
              "      <td>540.531893</td>\n",
              "      <td>56.047189</td>\n",
              "      <td>34.347666</td>\n",
              "      <td>5.663707</td>\n",
              "      <td>10.957755</td>\n",
              "      <td>6.198826</td>\n",
              "      <td>10.960521</td>\n",
              "      <td>6.194897</td>\n",
              "      <td>12.411054</td>\n",
              "      <td>7.240205</td>\n",
              "      <td>27.041023</td>\n",
              "      <td>19.216101</td>\n",
              "      <td>86.688794</td>\n",
              "      <td>4.552800</td>\n",
              "      <td>0.515438</td>\n",
              "      <td>19.267422</td>\n",
              "      <td>1.012642</td>\n",
              "      <td>999.678690</td>\n",
              "      <td>-399.752729</td>\n",
              "      <td>1600.208824</td>\n",
              "      <td>-449.599614</td>\n",
              "      <td>1600.357732</td>\n",
              "      <td>-450.034364</td>\n",
              "      <td>1599.759049</td>\n",
              "      <td>-449.909799</td>\n",
              "      <td>1401.560902</td>\n",
              "      <td>-448.877187</td>\n",
              "      <td>1401.160227</td>\n",
              "      <td>-450.407128</td>\n",
              "      <td>14.079996</td>\n",
              "      <td>4.470737</td>\n",
              "      <td>8.871028</td>\n",
              "      <td>2.330448</td>\n",
              "      <td>26.024787</td>\n",
              "      <td>-500.279091</td>\n",
              "      <td>23.955345</td>\n",
              "      <td>-500.593614</td>\n",
              "      <td>23.985703</td>\n",
              "      <td>-500.083811</td>\n",
              "      <td>23.958945</td>\n",
              "      <td>-499.990309</td>\n",
              "      <td>14.027298</td>\n",
              "      <td>-499.838632</td>\n",
              "      <td>11.953070</td>\n",
              "      <td>-501.053894</td>\n",
              "      <td>9.925709</td>\n",
              "      <td>-501.686727</td>\n",
              "      <td>7.894242</td>\n",
              "      <td>-500.356035</td>\n",
              "      <td>13.996647</td>\n",
              "      <td>-601.496691</td>\n",
              "    </tr>\n",
              "    <tr>\n",
              "      <th>...</th>\n",
              "      <td>...</td>\n",
              "      <td>...</td>\n",
              "      <td>...</td>\n",
              "      <td>...</td>\n",
              "      <td>...</td>\n",
              "      <td>...</td>\n",
              "      <td>...</td>\n",
              "      <td>...</td>\n",
              "      <td>...</td>\n",
              "      <td>...</td>\n",
              "      <td>...</td>\n",
              "      <td>...</td>\n",
              "      <td>...</td>\n",
              "      <td>...</td>\n",
              "      <td>...</td>\n",
              "      <td>...</td>\n",
              "      <td>...</td>\n",
              "      <td>...</td>\n",
              "      <td>...</td>\n",
              "      <td>...</td>\n",
              "      <td>...</td>\n",
              "      <td>...</td>\n",
              "      <td>...</td>\n",
              "      <td>...</td>\n",
              "      <td>...</td>\n",
              "      <td>...</td>\n",
              "      <td>...</td>\n",
              "      <td>...</td>\n",
              "      <td>...</td>\n",
              "      <td>...</td>\n",
              "      <td>...</td>\n",
              "      <td>...</td>\n",
              "      <td>...</td>\n",
              "      <td>...</td>\n",
              "      <td>...</td>\n",
              "      <td>...</td>\n",
              "      <td>...</td>\n",
              "      <td>...</td>\n",
              "      <td>...</td>\n",
              "      <td>...</td>\n",
              "      <td>...</td>\n",
              "      <td>...</td>\n",
              "      <td>...</td>\n",
              "      <td>...</td>\n",
              "      <td>...</td>\n",
              "      <td>...</td>\n",
              "      <td>...</td>\n",
              "      <td>...</td>\n",
              "      <td>...</td>\n",
              "      <td>...</td>\n",
              "      <td>...</td>\n",
              "      <td>...</td>\n",
              "      <td>...</td>\n",
              "      <td>...</td>\n",
              "      <td>...</td>\n",
              "      <td>...</td>\n",
              "      <td>...</td>\n",
              "      <td>...</td>\n",
              "      <td>...</td>\n",
              "      <td>...</td>\n",
              "      <td>...</td>\n",
              "      <td>...</td>\n",
              "      <td>...</td>\n",
              "      <td>...</td>\n",
              "      <td>...</td>\n",
              "      <td>...</td>\n",
              "      <td>...</td>\n",
              "      <td>...</td>\n",
              "      <td>...</td>\n",
              "      <td>...</td>\n",
              "      <td>...</td>\n",
              "      <td>...</td>\n",
              "      <td>...</td>\n",
              "      <td>...</td>\n",
              "      <td>...</td>\n",
              "      <td>...</td>\n",
              "      <td>...</td>\n",
              "      <td>...</td>\n",
              "      <td>...</td>\n",
              "      <td>...</td>\n",
              "      <td>...</td>\n",
              "      <td>...</td>\n",
              "      <td>...</td>\n",
              "      <td>...</td>\n",
              "      <td>...</td>\n",
              "      <td>...</td>\n",
              "      <td>...</td>\n",
              "    </tr>\n",
              "    <tr>\n",
              "      <th>14144</th>\n",
              "      <td>2018-08-18 06:59:59</td>\n",
              "      <td>3.224920</td>\n",
              "      <td>11.356233</td>\n",
              "      <td>6.803482</td>\n",
              "      <td>46.713954</td>\n",
              "      <td>73.755150</td>\n",
              "      <td>8.769645</td>\n",
              "      <td>3.141541</td>\n",
              "      <td>10.403181</td>\n",
              "      <td>1.529220</td>\n",
              "      <td>123.381787</td>\n",
              "      <td>8.028927</td>\n",
              "      <td>6.50</td>\n",
              "      <td>1.304232</td>\n",
              "      <td>6.559174</td>\n",
              "      <td>12.445966</td>\n",
              "      <td>7.056338</td>\n",
              "      <td>32.940215</td>\n",
              "      <td>22.854592</td>\n",
              "      <td>6.531541</td>\n",
              "      <td>3.934320</td>\n",
              "      <td>2.314352</td>\n",
              "      <td>1648.421193</td>\n",
              "      <td>-400.382169</td>\n",
              "      <td>1648.742005</td>\n",
              "      <td>-400.359661</td>\n",
              "      <td>1648.578230</td>\n",
              "      <td>-399.363624</td>\n",
              "      <td>1648.833984</td>\n",
              "      <td>-399.669220</td>\n",
              "      <td>45912.942619</td>\n",
              "      <td>2497.652954</td>\n",
              "      <td>2499.177950</td>\n",
              "      <td>1.155559</td>\n",
              "      <td>6.091855</td>\n",
              "      <td>4.617558</td>\n",
              "      <td>560.889077</td>\n",
              "      <td>85.718304</td>\n",
              "      <td>37.369774</td>\n",
              "      <td>5.335862</td>\n",
              "      <td>7.762770</td>\n",
              "      <td>9.158609</td>\n",
              "      <td>7.766744</td>\n",
              "      <td>9.156069</td>\n",
              "      <td>11.124896</td>\n",
              "      <td>10.984003</td>\n",
              "      <td>30.068876</td>\n",
              "      <td>18.603550</td>\n",
              "      <td>89.574376</td>\n",
              "      <td>4.207261</td>\n",
              "      <td>0.612935</td>\n",
              "      <td>16.666590</td>\n",
              "      <td>0.748633</td>\n",
              "      <td>1199.245914</td>\n",
              "      <td>-300.845518</td>\n",
              "      <td>1149.807890</td>\n",
              "      <td>-498.789721</td>\n",
              "      <td>1047.963596</td>\n",
              "      <td>-498.413079</td>\n",
              "      <td>946.640977</td>\n",
              "      <td>-499.152477</td>\n",
              "      <td>849.664935</td>\n",
              "      <td>-499.214461</td>\n",
              "      <td>849.758091</td>\n",
              "      <td>-497.448664</td>\n",
              "      <td>0.000000</td>\n",
              "      <td>0.000000</td>\n",
              "      <td>0.000000</td>\n",
              "      <td>0.000000</td>\n",
              "      <td>35.043205</td>\n",
              "      <td>-499.045671</td>\n",
              "      <td>29.906659</td>\n",
              "      <td>-499.979939</td>\n",
              "      <td>26.002402</td>\n",
              "      <td>-499.953431</td>\n",
              "      <td>22.987238</td>\n",
              "      <td>-499.967351</td>\n",
              "      <td>23.031497</td>\n",
              "      <td>-501.167942</td>\n",
              "      <td>20.007571</td>\n",
              "      <td>-499.740028</td>\n",
              "      <td>18.006038</td>\n",
              "      <td>-499.834374</td>\n",
              "      <td>13.001114</td>\n",
              "      <td>-500.155694</td>\n",
              "      <td>20.007840</td>\n",
              "      <td>-501.296428</td>\n",
              "    </tr>\n",
              "    <tr>\n",
              "      <th>14145</th>\n",
              "      <td>2018-08-18 07:59:59</td>\n",
              "      <td>3.195978</td>\n",
              "      <td>11.349355</td>\n",
              "      <td>6.862249</td>\n",
              "      <td>46.866780</td>\n",
              "      <td>69.049291</td>\n",
              "      <td>8.897321</td>\n",
              "      <td>3.130493</td>\n",
              "      <td>10.549470</td>\n",
              "      <td>1.612542</td>\n",
              "      <td>120.878188</td>\n",
              "      <td>7.962636</td>\n",
              "      <td>6.50</td>\n",
              "      <td>1.302419</td>\n",
              "      <td>6.612376</td>\n",
              "      <td>12.623947</td>\n",
              "      <td>7.542264</td>\n",
              "      <td>32.925325</td>\n",
              "      <td>23.002490</td>\n",
              "      <td>6.629725</td>\n",
              "      <td>4.089124</td>\n",
              "      <td>2.462890</td>\n",
              "      <td>1649.820162</td>\n",
              "      <td>-399.930973</td>\n",
              "      <td>1649.357538</td>\n",
              "      <td>-399.721222</td>\n",
              "      <td>1648.656192</td>\n",
              "      <td>-401.195834</td>\n",
              "      <td>1649.725133</td>\n",
              "      <td>-400.636306</td>\n",
              "      <td>46200.099585</td>\n",
              "      <td>2614.403937</td>\n",
              "      <td>2518.550078</td>\n",
              "      <td>1.167342</td>\n",
              "      <td>6.121323</td>\n",
              "      <td>4.144989</td>\n",
              "      <td>559.031805</td>\n",
              "      <td>119.499241</td>\n",
              "      <td>38.591551</td>\n",
              "      <td>4.838619</td>\n",
              "      <td>7.356687</td>\n",
              "      <td>9.304952</td>\n",
              "      <td>7.095508</td>\n",
              "      <td>9.297924</td>\n",
              "      <td>11.425983</td>\n",
              "      <td>10.888213</td>\n",
              "      <td>29.783972</td>\n",
              "      <td>18.441436</td>\n",
              "      <td>87.724007</td>\n",
              "      <td>4.177943</td>\n",
              "      <td>0.650557</td>\n",
              "      <td>16.960649</td>\n",
              "      <td>0.771582</td>\n",
              "      <td>1196.569267</td>\n",
              "      <td>-299.512227</td>\n",
              "      <td>1147.675196</td>\n",
              "      <td>-500.608341</td>\n",
              "      <td>1048.565741</td>\n",
              "      <td>-500.932810</td>\n",
              "      <td>949.773589</td>\n",
              "      <td>-500.023144</td>\n",
              "      <td>848.515225</td>\n",
              "      <td>-500.289405</td>\n",
              "      <td>850.013123</td>\n",
              "      <td>-496.822119</td>\n",
              "      <td>0.000000</td>\n",
              "      <td>0.000000</td>\n",
              "      <td>0.000000</td>\n",
              "      <td>0.000000</td>\n",
              "      <td>35.026062</td>\n",
              "      <td>-499.891945</td>\n",
              "      <td>29.921795</td>\n",
              "      <td>-499.949663</td>\n",
              "      <td>26.031747</td>\n",
              "      <td>-500.384612</td>\n",
              "      <td>22.991058</td>\n",
              "      <td>-500.079590</td>\n",
              "      <td>22.960095</td>\n",
              "      <td>-501.612783</td>\n",
              "      <td>20.035660</td>\n",
              "      <td>-500.251357</td>\n",
              "      <td>17.998535</td>\n",
              "      <td>-500.395178</td>\n",
              "      <td>12.954048</td>\n",
              "      <td>-499.895163</td>\n",
              "      <td>19.968498</td>\n",
              "      <td>-501.041608</td>\n",
              "    </tr>\n",
              "    <tr>\n",
              "      <th>14146</th>\n",
              "      <td>2018-08-18 08:59:59</td>\n",
              "      <td>3.109998</td>\n",
              "      <td>11.434366</td>\n",
              "      <td>6.886013</td>\n",
              "      <td>46.795691</td>\n",
              "      <td>67.002189</td>\n",
              "      <td>8.529606</td>\n",
              "      <td>2.911418</td>\n",
              "      <td>11.115147</td>\n",
              "      <td>1.596616</td>\n",
              "      <td>105.666118</td>\n",
              "      <td>7.955111</td>\n",
              "      <td>6.50</td>\n",
              "      <td>1.315926</td>\n",
              "      <td>7.128896</td>\n",
              "      <td>12.633558</td>\n",
              "      <td>7.941900</td>\n",
              "      <td>31.856742</td>\n",
              "      <td>22.298149</td>\n",
              "      <td>6.278250</td>\n",
              "      <td>4.457457</td>\n",
              "      <td>2.612231</td>\n",
              "      <td>1649.166761</td>\n",
              "      <td>-399.888631</td>\n",
              "      <td>1649.196904</td>\n",
              "      <td>-399.677571</td>\n",
              "      <td>1647.896999</td>\n",
              "      <td>-399.988275</td>\n",
              "      <td>1649.772714</td>\n",
              "      <td>-399.831902</td>\n",
              "      <td>44585.181334</td>\n",
              "      <td>2510.813545</td>\n",
              "      <td>2510.142433</td>\n",
              "      <td>1.125637</td>\n",
              "      <td>5.970515</td>\n",
              "      <td>4.020002</td>\n",
              "      <td>555.682872</td>\n",
              "      <td>122.262690</td>\n",
              "      <td>40.074026</td>\n",
              "      <td>4.525061</td>\n",
              "      <td>6.586020</td>\n",
              "      <td>9.299606</td>\n",
              "      <td>6.584130</td>\n",
              "      <td>9.300133</td>\n",
              "      <td>8.523497</td>\n",
              "      <td>8.955135</td>\n",
              "      <td>22.786467</td>\n",
              "      <td>15.111231</td>\n",
              "      <td>88.890579</td>\n",
              "      <td>4.050010</td>\n",
              "      <td>0.636095</td>\n",
              "      <td>18.323080</td>\n",
              "      <td>0.685059</td>\n",
              "      <td>1204.866639</td>\n",
              "      <td>-299.235675</td>\n",
              "      <td>1149.942902</td>\n",
              "      <td>-501.717903</td>\n",
              "      <td>1049.604390</td>\n",
              "      <td>-500.549053</td>\n",
              "      <td>952.702732</td>\n",
              "      <td>-502.352296</td>\n",
              "      <td>849.016017</td>\n",
              "      <td>-500.505677</td>\n",
              "      <td>850.455635</td>\n",
              "      <td>-506.897968</td>\n",
              "      <td>0.000000</td>\n",
              "      <td>0.000000</td>\n",
              "      <td>0.000000</td>\n",
              "      <td>0.000000</td>\n",
              "      <td>35.003586</td>\n",
              "      <td>-501.083794</td>\n",
              "      <td>29.990533</td>\n",
              "      <td>-611.855898</td>\n",
              "      <td>25.948429</td>\n",
              "      <td>-500.067268</td>\n",
              "      <td>22.968268</td>\n",
              "      <td>-499.839442</td>\n",
              "      <td>23.015718</td>\n",
              "      <td>-501.711599</td>\n",
              "      <td>19.951231</td>\n",
              "      <td>-499.857027</td>\n",
              "      <td>18.019543</td>\n",
              "      <td>-500.451156</td>\n",
              "      <td>13.023431</td>\n",
              "      <td>-499.914391</td>\n",
              "      <td>19.990885</td>\n",
              "      <td>-501.518452</td>\n",
              "    </tr>\n",
              "    <tr>\n",
              "      <th>14147</th>\n",
              "      <td>2018-08-18 09:59:59</td>\n",
              "      <td>3.367241</td>\n",
              "      <td>11.625587</td>\n",
              "      <td>6.799433</td>\n",
              "      <td>46.408188</td>\n",
              "      <td>65.523246</td>\n",
              "      <td>8.777171</td>\n",
              "      <td>2.819214</td>\n",
              "      <td>10.463847</td>\n",
              "      <td>1.602879</td>\n",
              "      <td>98.880538</td>\n",
              "      <td>7.984164</td>\n",
              "      <td>6.50</td>\n",
              "      <td>1.241969</td>\n",
              "      <td>7.490444</td>\n",
              "      <td>12.012378</td>\n",
              "      <td>6.942972</td>\n",
              "      <td>30.770892</td>\n",
              "      <td>22.714656</td>\n",
              "      <td>6.253145</td>\n",
              "      <td>3.557121</td>\n",
              "      <td>2.800648</td>\n",
              "      <td>1646.547763</td>\n",
              "      <td>-398.977083</td>\n",
              "      <td>1648.212240</td>\n",
              "      <td>-400.383265</td>\n",
              "      <td>1648.917387</td>\n",
              "      <td>-399.521344</td>\n",
              "      <td>1651.498591</td>\n",
              "      <td>-399.745329</td>\n",
              "      <td>44084.735708</td>\n",
              "      <td>2507.572494</td>\n",
              "      <td>2507.723361</td>\n",
              "      <td>1.117935</td>\n",
              "      <td>6.048130</td>\n",
              "      <td>3.902537</td>\n",
              "      <td>544.731687</td>\n",
              "      <td>123.742430</td>\n",
              "      <td>39.713906</td>\n",
              "      <td>4.362781</td>\n",
              "      <td>6.210119</td>\n",
              "      <td>9.297709</td>\n",
              "      <td>6.209517</td>\n",
              "      <td>9.297194</td>\n",
              "      <td>11.658799</td>\n",
              "      <td>10.655377</td>\n",
              "      <td>29.052742</td>\n",
              "      <td>17.834772</td>\n",
              "      <td>89.858126</td>\n",
              "      <td>3.902494</td>\n",
              "      <td>0.625609</td>\n",
              "      <td>19.423740</td>\n",
              "      <td>0.567130</td>\n",
              "      <td>1201.904177</td>\n",
              "      <td>-299.907308</td>\n",
              "      <td>1154.087804</td>\n",
              "      <td>-500.036580</td>\n",
              "      <td>1054.009756</td>\n",
              "      <td>-500.237335</td>\n",
              "      <td>944.138793</td>\n",
              "      <td>-496.866953</td>\n",
              "      <td>851.589767</td>\n",
              "      <td>-499.040466</td>\n",
              "      <td>851.345606</td>\n",
              "      <td>-499.122561</td>\n",
              "      <td>0.000000</td>\n",
              "      <td>0.000000</td>\n",
              "      <td>0.000000</td>\n",
              "      <td>0.000000</td>\n",
              "      <td>34.980742</td>\n",
              "      <td>-498.131002</td>\n",
              "      <td>29.968453</td>\n",
              "      <td>-586.013330</td>\n",
              "      <td>25.971737</td>\n",
              "      <td>-499.608392</td>\n",
              "      <td>22.958448</td>\n",
              "      <td>-499.821308</td>\n",
              "      <td>23.024963</td>\n",
              "      <td>-501.153409</td>\n",
              "      <td>20.054122</td>\n",
              "      <td>-500.314711</td>\n",
              "      <td>17.979515</td>\n",
              "      <td>-499.272871</td>\n",
              "      <td>12.992404</td>\n",
              "      <td>-499.976268</td>\n",
              "      <td>20.013986</td>\n",
              "      <td>-500.625471</td>\n",
              "    </tr>\n",
              "    <tr>\n",
              "      <th>14148</th>\n",
              "      <td>2018-08-18 10:59:59</td>\n",
              "      <td>3.598375</td>\n",
              "      <td>11.737832</td>\n",
              "      <td>6.717509</td>\n",
              "      <td>46.299438</td>\n",
              "      <td>70.281454</td>\n",
              "      <td>8.406690</td>\n",
              "      <td>2.517518</td>\n",
              "      <td>10.652193</td>\n",
              "      <td>1.389434</td>\n",
              "      <td>95.248427</td>\n",
              "      <td>8.078957</td>\n",
              "      <td>6.50</td>\n",
              "      <td>1.283045</td>\n",
              "      <td>7.537584</td>\n",
              "      <td>11.650285</td>\n",
              "      <td>6.203553</td>\n",
              "      <td>30.356618</td>\n",
              "      <td>22.735927</td>\n",
              "      <td>6.084287</td>\n",
              "      <td>3.026699</td>\n",
              "      <td>2.708046</td>\n",
              "      <td>1648.759906</td>\n",
              "      <td>-399.862053</td>\n",
              "      <td>1650.135395</td>\n",
              "      <td>-399.957321</td>\n",
              "      <td>1648.831890</td>\n",
              "      <td>-400.586116</td>\n",
              "      <td>1649.464582</td>\n",
              "      <td>-400.673303</td>\n",
              "      <td>44082.866565</td>\n",
              "      <td>2487.477762</td>\n",
              "      <td>2488.626080</td>\n",
              "      <td>1.126367</td>\n",
              "      <td>6.158718</td>\n",
              "      <td>3.875727</td>\n",
              "      <td>555.820208</td>\n",
              "      <td>94.544358</td>\n",
              "      <td>39.135119</td>\n",
              "      <td>4.365491</td>\n",
              "      <td>6.146982</td>\n",
              "      <td>9.308612</td>\n",
              "      <td>6.168939</td>\n",
              "      <td>9.309852</td>\n",
              "      <td>11.959486</td>\n",
              "      <td>10.702148</td>\n",
              "      <td>29.078235</td>\n",
              "      <td>17.804134</td>\n",
              "      <td>89.514960</td>\n",
              "      <td>3.925473</td>\n",
              "      <td>0.638677</td>\n",
              "      <td>19.946673</td>\n",
              "      <td>0.586439</td>\n",
              "      <td>1196.238112</td>\n",
              "      <td>-299.862743</td>\n",
              "      <td>1147.248241</td>\n",
              "      <td>-500.363165</td>\n",
              "      <td>1047.279065</td>\n",
              "      <td>-500.354091</td>\n",
              "      <td>948.756608</td>\n",
              "      <td>-498.439416</td>\n",
              "      <td>849.441918</td>\n",
              "      <td>-499.255503</td>\n",
              "      <td>850.112246</td>\n",
              "      <td>-499.407112</td>\n",
              "      <td>0.000000</td>\n",
              "      <td>0.000000</td>\n",
              "      <td>0.000000</td>\n",
              "      <td>0.000000</td>\n",
              "      <td>34.940919</td>\n",
              "      <td>-500.150510</td>\n",
              "      <td>30.031867</td>\n",
              "      <td>-500.328335</td>\n",
              "      <td>26.033990</td>\n",
              "      <td>-500.147792</td>\n",
              "      <td>22.952306</td>\n",
              "      <td>-500.037678</td>\n",
              "      <td>23.018622</td>\n",
              "      <td>-500.492702</td>\n",
              "      <td>20.020205</td>\n",
              "      <td>-500.220296</td>\n",
              "      <td>17.963512</td>\n",
              "      <td>-499.939490</td>\n",
              "      <td>12.990306</td>\n",
              "      <td>-500.080993</td>\n",
              "      <td>19.990336</td>\n",
              "      <td>-499.191575</td>\n",
              "    </tr>\n",
              "  </tbody>\n",
              "</table>\n",
              "<p>14149 rows × 87 columns</p>\n",
              "</div>"
            ],
            "text/plain": [
              "                      date  final.output.concentrate_ag  \\\n",
              "0      2016-01-15 00:00:00                     6.055403   \n",
              "1      2016-01-15 01:00:00                     6.029369   \n",
              "2      2016-01-15 02:00:00                     6.055926   \n",
              "3      2016-01-15 03:00:00                     6.047977   \n",
              "4      2016-01-15 04:00:00                     6.148599   \n",
              "...                    ...                          ...   \n",
              "14144  2018-08-18 06:59:59                     3.224920   \n",
              "14145  2018-08-18 07:59:59                     3.195978   \n",
              "14146  2018-08-18 08:59:59                     3.109998   \n",
              "14147  2018-08-18 09:59:59                     3.367241   \n",
              "14148  2018-08-18 10:59:59                     3.598375   \n",
              "\n",
              "       final.output.concentrate_pb  final.output.concentrate_sol  \\\n",
              "0                         9.889648                      5.507324   \n",
              "1                         9.968944                      5.257781   \n",
              "2                        10.213995                      5.383759   \n",
              "3                         9.977019                      4.858634   \n",
              "4                        10.142511                      4.939416   \n",
              "...                            ...                           ...   \n",
              "14144                    11.356233                      6.803482   \n",
              "14145                    11.349355                      6.862249   \n",
              "14146                    11.434366                      6.886013   \n",
              "14147                    11.625587                      6.799433   \n",
              "14148                    11.737832                      6.717509   \n",
              "\n",
              "       final.output.concentrate_au  final.output.recovery  \\\n",
              "0                        42.192020              70.541216   \n",
              "1                        42.701629              69.266198   \n",
              "2                        42.657501              68.116445   \n",
              "3                        42.689819              68.347543   \n",
              "4                        42.774141              66.927016   \n",
              "...                            ...                    ...   \n",
              "14144                    46.713954              73.755150   \n",
              "14145                    46.866780              69.049291   \n",
              "14146                    46.795691              67.002189   \n",
              "14147                    46.408188              65.523246   \n",
              "14148                    46.299438              70.281454   \n",
              "\n",
              "       final.output.tail_ag  final.output.tail_pb  final.output.tail_sol  \\\n",
              "0                 10.411962              0.895447              16.904297   \n",
              "1                 10.462676              0.927452              16.634514   \n",
              "2                 10.507046              0.953716              16.208849   \n",
              "3                 10.422762              0.883763              16.532835   \n",
              "4                 10.360302              0.792826              16.525686   \n",
              "...                     ...                   ...                    ...   \n",
              "14144              8.769645              3.141541              10.403181   \n",
              "14145              8.897321              3.130493              10.549470   \n",
              "14146              8.529606              2.911418              11.115147   \n",
              "14147              8.777171              2.819214              10.463847   \n",
              "14148              8.406690              2.517518              10.652193   \n",
              "\n",
              "       final.output.tail_au  primary_cleaner.input.sulfate  \\\n",
              "0                  2.143149                     127.092003   \n",
              "1                  2.224930                     125.629232   \n",
              "2                  2.257889                     123.819808   \n",
              "3                  2.146849                     122.270188   \n",
              "4                  2.055292                     117.988169   \n",
              "...                     ...                            ...   \n",
              "14144              1.529220                     123.381787   \n",
              "14145              1.612542                     120.878188   \n",
              "14146              1.596616                     105.666118   \n",
              "14147              1.602879                      98.880538   \n",
              "14148              1.389434                      95.248427   \n",
              "\n",
              "       primary_cleaner.input.depressant  primary_cleaner.input.feed_size  \\\n",
              "0                             10.128295                             7.25   \n",
              "1                             10.296251                             7.25   \n",
              "2                             11.316280                             7.25   \n",
              "3                             11.322140                             7.25   \n",
              "4                             11.913613                             7.25   \n",
              "...                                 ...                              ...   \n",
              "14144                          8.028927                             6.50   \n",
              "14145                          7.962636                             6.50   \n",
              "14146                          7.955111                             6.50   \n",
              "14147                          7.984164                             6.50   \n",
              "14148                          8.078957                             6.50   \n",
              "\n",
              "       primary_cleaner.input.xanthate  primary_cleaner.output.concentrate_ag  \\\n",
              "0                            0.988759                               8.547551   \n",
              "1                            1.002663                               8.558743   \n",
              "2                            0.991265                               8.603505   \n",
              "3                            0.996739                               7.221879   \n",
              "4                            1.009869                               9.089428   \n",
              "...                               ...                                    ...   \n",
              "14144                        1.304232                               6.559174   \n",
              "14145                        1.302419                               6.612376   \n",
              "14146                        1.315926                               7.128896   \n",
              "14147                        1.241969                               7.490444   \n",
              "14148                        1.283045                               7.537584   \n",
              "\n",
              "       primary_cleaner.output.concentrate_pb  \\\n",
              "0                                  10.389648   \n",
              "1                                  10.497069   \n",
              "2                                  10.354494   \n",
              "3                                   8.496563   \n",
              "4                                   9.986786   \n",
              "...                                      ...   \n",
              "14144                              12.445966   \n",
              "14145                              12.623947   \n",
              "14146                              12.633558   \n",
              "14147                              12.012378   \n",
              "14148                              11.650285   \n",
              "\n",
              "       primary_cleaner.output.concentrate_sol  \\\n",
              "0                                   19.529297   \n",
              "1                                   19.369147   \n",
              "2                                   19.167579   \n",
              "3                                   15.978538   \n",
              "4                                   19.199864   \n",
              "...                                       ...   \n",
              "14144                                7.056338   \n",
              "14145                                7.542264   \n",
              "14146                                7.941900   \n",
              "14147                                6.942972   \n",
              "14148                                6.203553   \n",
              "\n",
              "       primary_cleaner.output.concentrate_au  primary_cleaner.output.tail_ag  \\\n",
              "0                                  34.174427                       14.936526   \n",
              "1                                  34.118526                       16.250511   \n",
              "2                                  33.969464                       16.491823   \n",
              "3                                  28.260743                       16.024359   \n",
              "4                                  33.044932                       16.480185   \n",
              "...                                      ...                             ...   \n",
              "14144                              32.940215                       22.854592   \n",
              "14145                              32.925325                       23.002490   \n",
              "14146                              31.856742                       22.298149   \n",
              "14147                              30.770892                       22.714656   \n",
              "14148                              30.356618                       22.735927   \n",
              "\n",
              "       primary_cleaner.output.tail_pb  primary_cleaner.output.tail_sol  \\\n",
              "0                            2.534912                         7.476074   \n",
              "1                            3.049646                         6.733907   \n",
              "2                            3.124664                         6.471768   \n",
              "3                            2.960362                         6.843791   \n",
              "4                            3.112100                         6.550154   \n",
              "...                               ...                              ...   \n",
              "14144                        6.531541                         3.934320   \n",
              "14145                        6.629725                         4.089124   \n",
              "14146                        6.278250                         4.457457   \n",
              "14147                        6.253145                         3.557121   \n",
              "14148                        6.084287                         3.026699   \n",
              "\n",
              "       primary_cleaner.output.tail_au  primary_cleaner.state.floatbank8_a_air  \\\n",
              "0                            2.106679                             1549.775757   \n",
              "1                            2.353017                             1576.166671   \n",
              "2                            2.416800                             1601.556163   \n",
              "3                            2.262051                             1599.968720   \n",
              "4                            2.277073                             1601.339707   \n",
              "...                               ...                                     ...   \n",
              "14144                        2.314352                             1648.421193   \n",
              "14145                        2.462890                             1649.820162   \n",
              "14146                        2.612231                             1649.166761   \n",
              "14147                        2.800648                             1646.547763   \n",
              "14148                        2.708046                             1648.759906   \n",
              "\n",
              "       primary_cleaner.state.floatbank8_a_level  \\\n",
              "0                                   -498.912140   \n",
              "1                                   -500.904965   \n",
              "2                                   -499.997791   \n",
              "3                                   -500.951778   \n",
              "4                                   -498.975456   \n",
              "...                                         ...   \n",
              "14144                               -400.382169   \n",
              "14145                               -399.930973   \n",
              "14146                               -399.888631   \n",
              "14147                               -398.977083   \n",
              "14148                               -399.862053   \n",
              "\n",
              "       primary_cleaner.state.floatbank8_b_air  \\\n",
              "0                                 1551.434204   \n",
              "1                                 1575.950626   \n",
              "2                                 1600.386685   \n",
              "3                                 1600.659236   \n",
              "4                                 1601.437854   \n",
              "...                                       ...   \n",
              "14144                             1648.742005   \n",
              "14145                             1649.357538   \n",
              "14146                             1649.196904   \n",
              "14147                             1648.212240   \n",
              "14148                             1650.135395   \n",
              "\n",
              "       primary_cleaner.state.floatbank8_b_level  \\\n",
              "0                                   -516.403442   \n",
              "1                                   -499.865889   \n",
              "2                                   -500.607762   \n",
              "3                                   -499.677094   \n",
              "4                                   -500.323246   \n",
              "...                                         ...   \n",
              "14144                               -400.359661   \n",
              "14145                               -399.721222   \n",
              "14146                               -399.677571   \n",
              "14147                               -400.383265   \n",
              "14148                               -399.957321   \n",
              "\n",
              "       primary_cleaner.state.floatbank8_c_air  \\\n",
              "0                                 1549.873901   \n",
              "1                                 1575.994189   \n",
              "2                                 1602.003542   \n",
              "3                                 1600.304144   \n",
              "4                                 1599.581894   \n",
              "...                                       ...   \n",
              "14144                             1648.578230   \n",
              "14145                             1648.656192   \n",
              "14146                             1647.896999   \n",
              "14147                             1648.917387   \n",
              "14148                             1648.831890   \n",
              "\n",
              "       primary_cleaner.state.floatbank8_c_level  \\\n",
              "0                                   -498.666595   \n",
              "1                                   -499.315107   \n",
              "2                                   -500.870069   \n",
              "3                                   -500.727997   \n",
              "4                                   -500.888152   \n",
              "...                                         ...   \n",
              "14144                               -399.363624   \n",
              "14145                               -401.195834   \n",
              "14146                               -399.988275   \n",
              "14147                               -399.521344   \n",
              "14148                               -400.586116   \n",
              "\n",
              "       primary_cleaner.state.floatbank8_d_air  \\\n",
              "0                                 1554.367432   \n",
              "1                                 1574.479259   \n",
              "2                                 1599.541515   \n",
              "3                                 1600.449520   \n",
              "4                                 1602.649541   \n",
              "...                                       ...   \n",
              "14144                             1648.833984   \n",
              "14145                             1649.725133   \n",
              "14146                             1649.772714   \n",
              "14147                             1651.498591   \n",
              "14148                             1649.464582   \n",
              "\n",
              "       primary_cleaner.state.floatbank8_d_level  \\\n",
              "0                                   -493.428131   \n",
              "1                                   -498.931665   \n",
              "2                                   -499.827444   \n",
              "3                                   -500.052575   \n",
              "4                                   -500.593010   \n",
              "...                                         ...   \n",
              "14144                               -399.669220   \n",
              "14145                               -400.636306   \n",
              "14146                               -399.831902   \n",
              "14147                               -399.745329   \n",
              "14148                               -400.673303   \n",
              "\n",
              "       rougher.calculation.sulfate_to_au_concentrate  \\\n",
              "0                                       41885.707031   \n",
              "1                                       42050.861809   \n",
              "2                                       42018.101184   \n",
              "3                                       42029.447991   \n",
              "4                                       42125.354245   \n",
              "...                                              ...   \n",
              "14144                                   45912.942619   \n",
              "14145                                   46200.099585   \n",
              "14146                                   44585.181334   \n",
              "14147                                   44084.735708   \n",
              "14148                                   44082.866565   \n",
              "\n",
              "       rougher.calculation.floatbank10_sulfate_to_au_feed  \\\n",
              "0                                            3481.779053    \n",
              "1                                            3498.370979    \n",
              "2                                            3495.348910    \n",
              "3                                            3498.578313    \n",
              "4                                            3494.800771    \n",
              "...                                                  ...    \n",
              "14144                                        2497.652954    \n",
              "14145                                        2614.403937    \n",
              "14146                                        2510.813545    \n",
              "14147                                        2507.572494    \n",
              "14148                                        2487.477762    \n",
              "\n",
              "       rougher.calculation.floatbank11_sulfate_to_au_feed  \\\n",
              "0                                            3520.337158    \n",
              "1                                            3489.981857    \n",
              "2                                            3502.359819    \n",
              "3                                            3499.162912    \n",
              "4                                            3506.679315    \n",
              "...                                                  ...    \n",
              "14144                                        2499.177950    \n",
              "14145                                        2518.550078    \n",
              "14146                                        2510.142433    \n",
              "14147                                        2507.723361    \n",
              "14148                                        2488.626080    \n",
              "\n",
              "       rougher.calculation.au_pb_ratio  rougher.input.feed_ag  \\\n",
              "0                             2.838687               6.100378   \n",
              "1                             2.858998               6.161113   \n",
              "2                             2.945989               6.116455   \n",
              "3                             3.002340               6.043309   \n",
              "4                             3.169615               6.060915   \n",
              "...                                ...                    ...   \n",
              "14144                         1.155559               6.091855   \n",
              "14145                         1.167342               6.121323   \n",
              "14146                         1.125637               5.970515   \n",
              "14147                         1.117935               6.048130   \n",
              "14148                         1.126367               6.158718   \n",
              "\n",
              "       rougher.input.feed_pb  rougher.input.feed_rate  \\\n",
              "0                   2.284912               523.546326   \n",
              "1                   2.266033               525.290581   \n",
              "2                   2.159622               530.026610   \n",
              "3                   2.037807               542.590390   \n",
              "4                   1.786875               540.531893   \n",
              "...                      ...                      ...   \n",
              "14144               4.617558               560.889077   \n",
              "14145               4.144989               559.031805   \n",
              "14146               4.020002               555.682872   \n",
              "14147               3.902537               544.731687   \n",
              "14148               3.875727               555.820208   \n",
              "\n",
              "       rougher.input.feed_size  rougher.input.feed_sol  rougher.input.feed_au  \\\n",
              "0                    55.486599               36.808594               6.486150   \n",
              "1                    57.278666               35.753385               6.478583   \n",
              "2                    57.510649               35.971630               6.362222   \n",
              "3                    57.792734               36.862241               6.118189   \n",
              "4                    56.047189               34.347666               5.663707   \n",
              "...                        ...                     ...                    ...   \n",
              "14144                85.718304               37.369774               5.335862   \n",
              "14145               119.499241               38.591551               4.838619   \n",
              "14146               122.262690               40.074026               4.525061   \n",
              "14147               123.742430               39.713906               4.362781   \n",
              "14148                94.544358               39.135119               4.365491   \n",
              "\n",
              "       rougher.input.floatbank10_sulfate  rougher.input.floatbank10_xanthate  \\\n",
              "0                              11.986616                            6.007990   \n",
              "1                              11.971193                            6.005766   \n",
              "2                              11.920603                            6.197377   \n",
              "3                              11.630094                            6.203177   \n",
              "4                              10.957755                            6.198826   \n",
              "...                                  ...                                 ...   \n",
              "14144                           7.762770                            9.158609   \n",
              "14145                           7.356687                            9.304952   \n",
              "14146                           6.586020                            9.299606   \n",
              "14147                           6.210119                            9.297709   \n",
              "14148                           6.146982                            9.308612   \n",
              "\n",
              "       rougher.input.floatbank11_sulfate  rougher.input.floatbank11_xanthate  \\\n",
              "0                              11.836743                            6.005818   \n",
              "1                              11.996163                            6.012594   \n",
              "2                              11.920305                            6.204633   \n",
              "3                              11.692450                            6.196578   \n",
              "4                              10.960521                            6.194897   \n",
              "...                                  ...                                 ...   \n",
              "14144                           7.766744                            9.156069   \n",
              "14145                           7.095508                            9.297924   \n",
              "14146                           6.584130                            9.300133   \n",
              "14147                           6.209517                            9.297194   \n",
              "14148                           6.168939                            9.309852   \n",
              "\n",
              "       rougher.output.concentrate_ag  rougher.output.concentrate_pb  \\\n",
              "0                          11.500771                       7.101074   \n",
              "1                          11.615865                       7.278807   \n",
              "2                          11.695753                       7.216833   \n",
              "3                          11.915047                       7.175616   \n",
              "4                          12.411054                       7.240205   \n",
              "...                              ...                            ...   \n",
              "14144                      11.124896                      10.984003   \n",
              "14145                      11.425983                      10.888213   \n",
              "14146                       8.523497                       8.955135   \n",
              "14147                      11.658799                      10.655377   \n",
              "14148                      11.959486                      10.702148   \n",
              "\n",
              "       rougher.output.concentrate_sol  rougher.output.concentrate_au  \\\n",
              "0                           28.029297                      19.793808   \n",
              "1                           28.067063                      20.050975   \n",
              "2                           27.454037                      19.737170   \n",
              "3                           27.341277                      19.320810   \n",
              "4                           27.041023                      19.216101   \n",
              "...                               ...                            ...   \n",
              "14144                       30.068876                      18.603550   \n",
              "14145                       29.783972                      18.441436   \n",
              "14146                       22.786467                      15.111231   \n",
              "14147                       29.052742                      17.834772   \n",
              "14148                       29.078235                      17.804134   \n",
              "\n",
              "       rougher.output.recovery  rougher.output.tail_ag  \\\n",
              "0                    87.107763                5.008018   \n",
              "1                    86.843261                4.955378   \n",
              "2                    86.842308                4.843460   \n",
              "3                    87.226430                4.655288   \n",
              "4                    86.688794                4.552800   \n",
              "...                        ...                     ...   \n",
              "14144                89.574376                4.207261   \n",
              "14145                87.724007                4.177943   \n",
              "14146                88.890579                4.050010   \n",
              "14147                89.858126                3.902494   \n",
              "14148                89.514960                3.925473   \n",
              "\n",
              "       rougher.output.tail_pb  rougher.output.tail_sol  \\\n",
              "0                    0.508728                19.154297   \n",
              "1                    0.536689                18.965234   \n",
              "2                    0.546416                18.808533   \n",
              "3                    0.542525                19.330200   \n",
              "4                    0.515438                19.267422   \n",
              "...                       ...                      ...   \n",
              "14144                0.612935                16.666590   \n",
              "14145                0.650557                16.960649   \n",
              "14146                0.636095                18.323080   \n",
              "14147                0.625609                19.423740   \n",
              "14148                0.638677                19.946673   \n",
              "\n",
              "       rougher.output.tail_au  rougher.state.floatbank10_a_air  \\\n",
              "0                    1.170244                       999.706909   \n",
              "1                    1.184827                      1000.286398   \n",
              "2                    1.162562                       999.719565   \n",
              "3                    1.079755                       999.814770   \n",
              "4                    1.012642                       999.678690   \n",
              "...                       ...                              ...   \n",
              "14144                0.748633                      1199.245914   \n",
              "14145                0.771582                      1196.569267   \n",
              "14146                0.685059                      1204.866639   \n",
              "14147                0.567130                      1201.904177   \n",
              "14148                0.586439                      1196.238112   \n",
              "\n",
              "       rougher.state.floatbank10_a_level  rougher.state.floatbank10_b_air  \\\n",
              "0                            -404.066986                      1603.011353   \n",
              "1                            -400.065196                      1600.754587   \n",
              "2                            -400.074028                      1599.337330   \n",
              "3                            -400.200179                      1600.059442   \n",
              "4                            -399.752729                      1600.208824   \n",
              "...                                  ...                              ...   \n",
              "14144                        -300.845518                      1149.807890   \n",
              "14145                        -299.512227                      1147.675196   \n",
              "14146                        -299.235675                      1149.942902   \n",
              "14147                        -299.907308                      1154.087804   \n",
              "14148                        -299.862743                      1147.248241   \n",
              "\n",
              "       rougher.state.floatbank10_b_level  rougher.state.floatbank10_c_air  \\\n",
              "0                            -434.715027                      1602.375000   \n",
              "1                            -449.953435                      1600.479580   \n",
              "2                            -450.008530                      1599.672797   \n",
              "3                            -450.619948                      1600.012842   \n",
              "4                            -449.599614                      1600.357732   \n",
              "...                                  ...                              ...   \n",
              "14144                        -498.789721                      1047.963596   \n",
              "14145                        -500.608341                      1048.565741   \n",
              "14146                        -501.717903                      1049.604390   \n",
              "14147                        -500.036580                      1054.009756   \n",
              "14148                        -500.363165                      1047.279065   \n",
              "\n",
              "       rougher.state.floatbank10_c_level  rougher.state.floatbank10_d_air  \\\n",
              "0                            -442.204468                      1598.937256   \n",
              "1                            -449.830646                      1600.527589   \n",
              "2                            -449.954491                      1599.849325   \n",
              "3                            -449.910497                      1597.725177   \n",
              "4                            -450.034364                      1599.759049   \n",
              "...                                  ...                              ...   \n",
              "14144                        -498.413079                       946.640977   \n",
              "14145                        -500.932810                       949.773589   \n",
              "14146                        -500.549053                       952.702732   \n",
              "14147                        -500.237335                       944.138793   \n",
              "14148                        -500.354091                       948.756608   \n",
              "\n",
              "       rougher.state.floatbank10_d_level  rougher.state.floatbank10_e_air  \\\n",
              "0                            -451.294128                      1404.472046   \n",
              "1                            -449.953649                      1399.227084   \n",
              "2                            -449.954185                      1399.180945   \n",
              "3                            -450.130127                      1400.943157   \n",
              "4                            -449.909799                      1401.560902   \n",
              "...                                  ...                              ...   \n",
              "14144                        -499.152477                       849.664935   \n",
              "14145                        -500.023144                       848.515225   \n",
              "14146                        -502.352296                       849.016017   \n",
              "14147                        -496.866953                       851.589767   \n",
              "14148                        -498.439416                       849.441918   \n",
              "\n",
              "       rougher.state.floatbank10_e_level  rougher.state.floatbank10_f_air  \\\n",
              "0                            -455.462982                      1416.354980   \n",
              "1                            -450.869848                      1399.719514   \n",
              "2                            -449.937588                      1400.316682   \n",
              "3                            -450.030142                      1400.234743   \n",
              "4                            -448.877187                      1401.160227   \n",
              "...                                  ...                              ...   \n",
              "14144                        -499.214461                       849.758091   \n",
              "14145                        -500.289405                       850.013123   \n",
              "14146                        -500.505677                       850.455635   \n",
              "14147                        -499.040466                       851.345606   \n",
              "14148                        -499.255503                       850.112246   \n",
              "\n",
              "       rougher.state.floatbank10_f_level  secondary_cleaner.output.tail_ag  \\\n",
              "0                            -451.939636                         14.500184   \n",
              "1                            -450.119001                         14.265474   \n",
              "2                            -450.527147                         14.115662   \n",
              "3                            -449.790835                         13.732071   \n",
              "4                            -450.407128                         14.079996   \n",
              "...                                  ...                               ...   \n",
              "14144                        -497.448664                          0.000000   \n",
              "14145                        -496.822119                          0.000000   \n",
              "14146                        -506.897968                          0.000000   \n",
              "14147                        -499.122561                          0.000000   \n",
              "14148                        -499.407112                          0.000000   \n",
              "\n",
              "       secondary_cleaner.output.tail_pb  secondary_cleaner.output.tail_sol  \\\n",
              "0                              4.694824                           8.764648   \n",
              "1                              4.592547                           9.001494   \n",
              "2                              4.624775                           8.842896   \n",
              "3                              4.482453                           9.122857   \n",
              "4                              4.470737                           8.871028   \n",
              "...                                 ...                                ...   \n",
              "14144                          0.000000                           0.000000   \n",
              "14145                          0.000000                           0.000000   \n",
              "14146                          0.000000                           0.000000   \n",
              "14147                          0.000000                           0.000000   \n",
              "14148                          0.000000                           0.000000   \n",
              "\n",
              "       secondary_cleaner.output.tail_au  \\\n",
              "0                              2.606185   \n",
              "1                              2.488248   \n",
              "2                              2.458187   \n",
              "3                              2.322062   \n",
              "4                              2.330448   \n",
              "...                                 ...   \n",
              "14144                          0.000000   \n",
              "14145                          0.000000   \n",
              "14146                          0.000000   \n",
              "14147                          0.000000   \n",
              "14148                          0.000000   \n",
              "\n",
              "       secondary_cleaner.state.floatbank2_a_air  \\\n",
              "0                                     25.853109   \n",
              "1                                     25.880539   \n",
              "2                                     26.005245   \n",
              "3                                     25.942508   \n",
              "4                                     26.024787   \n",
              "...                                         ...   \n",
              "14144                                 35.043205   \n",
              "14145                                 35.026062   \n",
              "14146                                 35.003586   \n",
              "14147                                 34.980742   \n",
              "14148                                 34.940919   \n",
              "\n",
              "       secondary_cleaner.state.floatbank2_a_level  \\\n",
              "0                                     -498.526489   \n",
              "1                                     -499.989656   \n",
              "2                                     -499.929616   \n",
              "3                                     -499.176749   \n",
              "4                                     -500.279091   \n",
              "...                                           ...   \n",
              "14144                                 -499.045671   \n",
              "14145                                 -499.891945   \n",
              "14146                                 -501.083794   \n",
              "14147                                 -498.131002   \n",
              "14148                                 -500.150510   \n",
              "\n",
              "       secondary_cleaner.state.floatbank2_b_air  \\\n",
              "0                                     23.893660   \n",
              "1                                     23.889530   \n",
              "2                                     23.886657   \n",
              "3                                     23.955516   \n",
              "4                                     23.955345   \n",
              "...                                         ...   \n",
              "14144                                 29.906659   \n",
              "14145                                 29.921795   \n",
              "14146                                 29.990533   \n",
              "14147                                 29.968453   \n",
              "14148                                 30.031867   \n",
              "\n",
              "       secondary_cleaner.state.floatbank2_b_level  \\\n",
              "0                                     -501.406281   \n",
              "1                                     -500.372428   \n",
              "2                                     -499.951928   \n",
              "3                                     -499.848796   \n",
              "4                                     -500.593614   \n",
              "...                                           ...   \n",
              "14144                                 -499.979939   \n",
              "14145                                 -499.949663   \n",
              "14146                                 -611.855898   \n",
              "14147                                 -586.013330   \n",
              "14148                                 -500.328335   \n",
              "\n",
              "       secondary_cleaner.state.floatbank3_a_air  \\\n",
              "0                                     23.961798   \n",
              "1                                     23.970550   \n",
              "2                                     23.913535   \n",
              "3                                     23.966838   \n",
              "4                                     23.985703   \n",
              "...                                         ...   \n",
              "14144                                 26.002402   \n",
              "14145                                 26.031747   \n",
              "14146                                 25.948429   \n",
              "14147                                 25.971737   \n",
              "14148                                 26.033990   \n",
              "\n",
              "       secondary_cleaner.state.floatbank3_a_level  \\\n",
              "0                                     -495.262817   \n",
              "1                                     -500.085473   \n",
              "2                                     -499.442343   \n",
              "3                                     -500.008812   \n",
              "4                                     -500.083811   \n",
              "...                                           ...   \n",
              "14144                                 -499.953431   \n",
              "14145                                 -500.384612   \n",
              "14146                                 -500.067268   \n",
              "14147                                 -499.608392   \n",
              "14148                                 -500.147792   \n",
              "\n",
              "       secondary_cleaner.state.floatbank3_b_air  \\\n",
              "0                                     21.940409   \n",
              "1                                     22.085714   \n",
              "2                                     23.957717   \n",
              "3                                     23.954443   \n",
              "4                                     23.958945   \n",
              "...                                         ...   \n",
              "14144                                 22.987238   \n",
              "14145                                 22.991058   \n",
              "14146                                 22.968268   \n",
              "14147                                 22.958448   \n",
              "14148                                 22.952306   \n",
              "\n",
              "       secondary_cleaner.state.floatbank3_b_level  \\\n",
              "0                                     -499.340973   \n",
              "1                                     -499.446897   \n",
              "2                                     -499.901982   \n",
              "3                                     -499.944710   \n",
              "4                                     -499.990309   \n",
              "...                                           ...   \n",
              "14144                                 -499.967351   \n",
              "14145                                 -500.079590   \n",
              "14146                                 -499.839442   \n",
              "14147                                 -499.821308   \n",
              "14148                                 -500.037678   \n",
              "\n",
              "       secondary_cleaner.state.floatbank4_a_air  \\\n",
              "0                                     14.016835   \n",
              "1                                     13.992281   \n",
              "2                                     14.015015   \n",
              "3                                     14.036510   \n",
              "4                                     14.027298   \n",
              "...                                         ...   \n",
              "14144                                 23.031497   \n",
              "14145                                 22.960095   \n",
              "14146                                 23.015718   \n",
              "14147                                 23.024963   \n",
              "14148                                 23.018622   \n",
              "\n",
              "       secondary_cleaner.state.floatbank4_a_level  \\\n",
              "0                                     -502.488007   \n",
              "1                                     -505.503262   \n",
              "2                                     -502.520901   \n",
              "3                                     -500.857308   \n",
              "4                                     -499.838632   \n",
              "...                                           ...   \n",
              "14144                                 -501.167942   \n",
              "14145                                 -501.612783   \n",
              "14146                                 -501.711599   \n",
              "14147                                 -501.153409   \n",
              "14148                                 -500.492702   \n",
              "\n",
              "       secondary_cleaner.state.floatbank4_b_air  \\\n",
              "0                                     12.099931   \n",
              "1                                     11.950531   \n",
              "2                                     11.912783   \n",
              "3                                     11.999550   \n",
              "4                                     11.953070   \n",
              "...                                         ...   \n",
              "14144                                 20.007571   \n",
              "14145                                 20.035660   \n",
              "14146                                 19.951231   \n",
              "14147                                 20.054122   \n",
              "14148                                 20.020205   \n",
              "\n",
              "       secondary_cleaner.state.floatbank4_b_level  \\\n",
              "0                                     -504.715942   \n",
              "1                                     -501.331529   \n",
              "2                                     -501.133383   \n",
              "3                                     -501.193686   \n",
              "4                                     -501.053894   \n",
              "...                                           ...   \n",
              "14144                                 -499.740028   \n",
              "14145                                 -500.251357   \n",
              "14146                                 -499.857027   \n",
              "14147                                 -500.314711   \n",
              "14148                                 -500.220296   \n",
              "\n",
              "       secondary_cleaner.state.floatbank5_a_air  \\\n",
              "0                                      9.925633   \n",
              "1                                     10.039245   \n",
              "2                                     10.070913   \n",
              "3                                      9.970366   \n",
              "4                                      9.925709   \n",
              "...                                         ...   \n",
              "14144                                 18.006038   \n",
              "14145                                 17.998535   \n",
              "14146                                 18.019543   \n",
              "14147                                 17.979515   \n",
              "14148                                 17.963512   \n",
              "\n",
              "       secondary_cleaner.state.floatbank5_a_level  \\\n",
              "0                                     -498.310211   \n",
              "1                                     -500.169983   \n",
              "2                                     -500.129135   \n",
              "3                                     -499.201640   \n",
              "4                                     -501.686727   \n",
              "...                                           ...   \n",
              "14144                                 -499.834374   \n",
              "14145                                 -500.395178   \n",
              "14146                                 -500.451156   \n",
              "14147                                 -499.272871   \n",
              "14148                                 -499.939490   \n",
              "\n",
              "       secondary_cleaner.state.floatbank5_b_air  \\\n",
              "0                                      8.079666   \n",
              "1                                      7.984757   \n",
              "2                                      8.013877   \n",
              "3                                      7.977324   \n",
              "4                                      7.894242   \n",
              "...                                         ...   \n",
              "14144                                 13.001114   \n",
              "14145                                 12.954048   \n",
              "14146                                 13.023431   \n",
              "14147                                 12.992404   \n",
              "14148                                 12.990306   \n",
              "\n",
              "       secondary_cleaner.state.floatbank5_b_level  \\\n",
              "0                                     -500.470978   \n",
              "1                                     -500.582168   \n",
              "2                                     -500.517572   \n",
              "3                                     -500.255908   \n",
              "4                                     -500.356035   \n",
              "...                                           ...   \n",
              "14144                                 -500.155694   \n",
              "14145                                 -499.895163   \n",
              "14146                                 -499.914391   \n",
              "14147                                 -499.976268   \n",
              "14148                                 -500.080993   \n",
              "\n",
              "       secondary_cleaner.state.floatbank6_a_air  \\\n",
              "0                                     14.151341   \n",
              "1                                     13.998353   \n",
              "2                                     14.028663   \n",
              "3                                     14.005551   \n",
              "4                                     13.996647   \n",
              "...                                         ...   \n",
              "14144                                 20.007840   \n",
              "14145                                 19.968498   \n",
              "14146                                 19.990885   \n",
              "14147                                 20.013986   \n",
              "14148                                 19.990336   \n",
              "\n",
              "       secondary_cleaner.state.floatbank6_a_level  \n",
              "0                                     -605.841980  \n",
              "1                                     -599.787184  \n",
              "2                                     -601.427363  \n",
              "3                                     -599.996129  \n",
              "4                                     -601.496691  \n",
              "...                                           ...  \n",
              "14144                                 -501.296428  \n",
              "14145                                 -501.041608  \n",
              "14146                                 -501.518452  \n",
              "14147                                 -500.625471  \n",
              "14148                                 -499.191575  \n",
              "\n",
              "[14149 rows x 87 columns]"
            ]
          },
          "execution_count": 7,
          "metadata": {},
          "output_type": "execute_result"
        }
      ],
      "source": [
        "data_train "
      ]
    },
    {
      "cell_type": "code",
      "execution_count": null,
      "id": "f8d5b588",
      "metadata": {
        "id": "f8d5b588",
        "outputId": "68c39a1b-9978-4088-aa81-62e0b55a3c8b"
      },
      "outputs": [
        {
          "data": {
            "text/html": [
              "<div>\n",
              "<style scoped>\n",
              "    .dataframe tbody tr th:only-of-type {\n",
              "        vertical-align: middle;\n",
              "    }\n",
              "\n",
              "    .dataframe tbody tr th {\n",
              "        vertical-align: top;\n",
              "    }\n",
              "\n",
              "    .dataframe thead th {\n",
              "        text-align: right;\n",
              "    }\n",
              "</style>\n",
              "<table border=\"1\" class=\"dataframe\">\n",
              "  <thead>\n",
              "    <tr style=\"text-align: right;\">\n",
              "      <th></th>\n",
              "      <th>date</th>\n",
              "      <th>final.output.concentrate_ag</th>\n",
              "      <th>final.output.concentrate_pb</th>\n",
              "      <th>final.output.concentrate_sol</th>\n",
              "      <th>final.output.concentrate_au</th>\n",
              "      <th>final.output.recovery</th>\n",
              "      <th>final.output.tail_ag</th>\n",
              "      <th>final.output.tail_pb</th>\n",
              "      <th>final.output.tail_sol</th>\n",
              "      <th>final.output.tail_au</th>\n",
              "      <th>primary_cleaner.input.sulfate</th>\n",
              "      <th>primary_cleaner.input.depressant</th>\n",
              "      <th>primary_cleaner.input.feed_size</th>\n",
              "      <th>primary_cleaner.input.xanthate</th>\n",
              "      <th>primary_cleaner.output.concentrate_ag</th>\n",
              "      <th>primary_cleaner.output.concentrate_pb</th>\n",
              "      <th>primary_cleaner.output.concentrate_sol</th>\n",
              "      <th>primary_cleaner.output.concentrate_au</th>\n",
              "      <th>primary_cleaner.output.tail_ag</th>\n",
              "      <th>primary_cleaner.output.tail_pb</th>\n",
              "      <th>primary_cleaner.output.tail_sol</th>\n",
              "      <th>primary_cleaner.output.tail_au</th>\n",
              "      <th>primary_cleaner.state.floatbank8_a_air</th>\n",
              "      <th>primary_cleaner.state.floatbank8_a_level</th>\n",
              "      <th>primary_cleaner.state.floatbank8_b_air</th>\n",
              "      <th>primary_cleaner.state.floatbank8_b_level</th>\n",
              "      <th>primary_cleaner.state.floatbank8_c_air</th>\n",
              "      <th>primary_cleaner.state.floatbank8_c_level</th>\n",
              "      <th>primary_cleaner.state.floatbank8_d_air</th>\n",
              "      <th>primary_cleaner.state.floatbank8_d_level</th>\n",
              "      <th>rougher.calculation.sulfate_to_au_concentrate</th>\n",
              "      <th>rougher.calculation.floatbank10_sulfate_to_au_feed</th>\n",
              "      <th>rougher.calculation.floatbank11_sulfate_to_au_feed</th>\n",
              "      <th>rougher.calculation.au_pb_ratio</th>\n",
              "      <th>rougher.input.feed_ag</th>\n",
              "      <th>rougher.input.feed_pb</th>\n",
              "      <th>rougher.input.feed_rate</th>\n",
              "      <th>rougher.input.feed_size</th>\n",
              "      <th>rougher.input.feed_sol</th>\n",
              "      <th>rougher.input.feed_au</th>\n",
              "      <th>rougher.input.floatbank10_sulfate</th>\n",
              "      <th>rougher.input.floatbank10_xanthate</th>\n",
              "      <th>rougher.input.floatbank11_sulfate</th>\n",
              "      <th>rougher.input.floatbank11_xanthate</th>\n",
              "      <th>rougher.output.concentrate_ag</th>\n",
              "      <th>rougher.output.concentrate_pb</th>\n",
              "      <th>rougher.output.concentrate_sol</th>\n",
              "      <th>rougher.output.concentrate_au</th>\n",
              "      <th>rougher.output.recovery</th>\n",
              "      <th>rougher.output.tail_ag</th>\n",
              "      <th>rougher.output.tail_pb</th>\n",
              "      <th>rougher.output.tail_sol</th>\n",
              "      <th>rougher.output.tail_au</th>\n",
              "      <th>rougher.state.floatbank10_a_air</th>\n",
              "      <th>rougher.state.floatbank10_a_level</th>\n",
              "      <th>rougher.state.floatbank10_b_air</th>\n",
              "      <th>rougher.state.floatbank10_b_level</th>\n",
              "      <th>rougher.state.floatbank10_c_air</th>\n",
              "      <th>rougher.state.floatbank10_c_level</th>\n",
              "      <th>rougher.state.floatbank10_d_air</th>\n",
              "      <th>rougher.state.floatbank10_d_level</th>\n",
              "      <th>rougher.state.floatbank10_e_air</th>\n",
              "      <th>rougher.state.floatbank10_e_level</th>\n",
              "      <th>rougher.state.floatbank10_f_air</th>\n",
              "      <th>rougher.state.floatbank10_f_level</th>\n",
              "      <th>secondary_cleaner.output.tail_ag</th>\n",
              "      <th>secondary_cleaner.output.tail_pb</th>\n",
              "      <th>secondary_cleaner.output.tail_sol</th>\n",
              "      <th>secondary_cleaner.output.tail_au</th>\n",
              "      <th>secondary_cleaner.state.floatbank2_a_air</th>\n",
              "      <th>secondary_cleaner.state.floatbank2_a_level</th>\n",
              "      <th>secondary_cleaner.state.floatbank2_b_air</th>\n",
              "      <th>secondary_cleaner.state.floatbank2_b_level</th>\n",
              "      <th>secondary_cleaner.state.floatbank3_a_air</th>\n",
              "      <th>secondary_cleaner.state.floatbank3_a_level</th>\n",
              "      <th>secondary_cleaner.state.floatbank3_b_air</th>\n",
              "      <th>secondary_cleaner.state.floatbank3_b_level</th>\n",
              "      <th>secondary_cleaner.state.floatbank4_a_air</th>\n",
              "      <th>secondary_cleaner.state.floatbank4_a_level</th>\n",
              "      <th>secondary_cleaner.state.floatbank4_b_air</th>\n",
              "      <th>secondary_cleaner.state.floatbank4_b_level</th>\n",
              "      <th>secondary_cleaner.state.floatbank5_a_air</th>\n",
              "      <th>secondary_cleaner.state.floatbank5_a_level</th>\n",
              "      <th>secondary_cleaner.state.floatbank5_b_air</th>\n",
              "      <th>secondary_cleaner.state.floatbank5_b_level</th>\n",
              "      <th>secondary_cleaner.state.floatbank6_a_air</th>\n",
              "      <th>secondary_cleaner.state.floatbank6_a_level</th>\n",
              "    </tr>\n",
              "  </thead>\n",
              "  <tbody>\n",
              "    <tr>\n",
              "      <th>0</th>\n",
              "      <td>2016-01-15 00:00:00</td>\n",
              "      <td>6.055403</td>\n",
              "      <td>9.889648</td>\n",
              "      <td>5.507324</td>\n",
              "      <td>42.192020</td>\n",
              "      <td>70.541216</td>\n",
              "      <td>10.411962</td>\n",
              "      <td>0.895447</td>\n",
              "      <td>16.904297</td>\n",
              "      <td>2.143149</td>\n",
              "      <td>127.092003</td>\n",
              "      <td>10.128295</td>\n",
              "      <td>7.25</td>\n",
              "      <td>0.988759</td>\n",
              "      <td>8.547551</td>\n",
              "      <td>10.389648</td>\n",
              "      <td>19.529297</td>\n",
              "      <td>34.174427</td>\n",
              "      <td>14.936526</td>\n",
              "      <td>2.534912</td>\n",
              "      <td>7.476074</td>\n",
              "      <td>2.106679</td>\n",
              "      <td>1549.775757</td>\n",
              "      <td>-498.912140</td>\n",
              "      <td>1551.434204</td>\n",
              "      <td>-516.403442</td>\n",
              "      <td>1549.873901</td>\n",
              "      <td>-498.666595</td>\n",
              "      <td>1554.367432</td>\n",
              "      <td>-493.428131</td>\n",
              "      <td>41885.707031</td>\n",
              "      <td>3481.779053</td>\n",
              "      <td>3520.337158</td>\n",
              "      <td>2.838687</td>\n",
              "      <td>6.100378</td>\n",
              "      <td>2.284912</td>\n",
              "      <td>523.546326</td>\n",
              "      <td>55.486599</td>\n",
              "      <td>36.808594</td>\n",
              "      <td>6.486150</td>\n",
              "      <td>11.986616</td>\n",
              "      <td>6.007990</td>\n",
              "      <td>11.836743</td>\n",
              "      <td>6.005818</td>\n",
              "      <td>11.500771</td>\n",
              "      <td>7.101074</td>\n",
              "      <td>28.029297</td>\n",
              "      <td>19.793808</td>\n",
              "      <td>87.107763</td>\n",
              "      <td>5.008018</td>\n",
              "      <td>0.508728</td>\n",
              "      <td>19.154297</td>\n",
              "      <td>1.170244</td>\n",
              "      <td>999.706909</td>\n",
              "      <td>-404.066986</td>\n",
              "      <td>1603.011353</td>\n",
              "      <td>-434.715027</td>\n",
              "      <td>1602.375000</td>\n",
              "      <td>-442.204468</td>\n",
              "      <td>1598.937256</td>\n",
              "      <td>-451.294128</td>\n",
              "      <td>1404.472046</td>\n",
              "      <td>-455.462982</td>\n",
              "      <td>1416.354980</td>\n",
              "      <td>-451.939636</td>\n",
              "      <td>14.500184</td>\n",
              "      <td>4.694824</td>\n",
              "      <td>8.764648</td>\n",
              "      <td>2.606185</td>\n",
              "      <td>25.853109</td>\n",
              "      <td>-498.526489</td>\n",
              "      <td>23.893660</td>\n",
              "      <td>-501.406281</td>\n",
              "      <td>23.961798</td>\n",
              "      <td>-495.262817</td>\n",
              "      <td>21.940409</td>\n",
              "      <td>-499.340973</td>\n",
              "      <td>14.016835</td>\n",
              "      <td>-502.488007</td>\n",
              "      <td>12.099931</td>\n",
              "      <td>-504.715942</td>\n",
              "      <td>9.925633</td>\n",
              "      <td>-498.310211</td>\n",
              "      <td>8.079666</td>\n",
              "      <td>-500.470978</td>\n",
              "      <td>14.151341</td>\n",
              "      <td>-605.841980</td>\n",
              "    </tr>\n",
              "    <tr>\n",
              "      <th>1</th>\n",
              "      <td>2016-01-15 01:00:00</td>\n",
              "      <td>6.029369</td>\n",
              "      <td>9.968944</td>\n",
              "      <td>5.257781</td>\n",
              "      <td>42.701629</td>\n",
              "      <td>69.266198</td>\n",
              "      <td>10.462676</td>\n",
              "      <td>0.927452</td>\n",
              "      <td>16.634514</td>\n",
              "      <td>2.224930</td>\n",
              "      <td>125.629232</td>\n",
              "      <td>10.296251</td>\n",
              "      <td>7.25</td>\n",
              "      <td>1.002663</td>\n",
              "      <td>8.558743</td>\n",
              "      <td>10.497069</td>\n",
              "      <td>19.369147</td>\n",
              "      <td>34.118526</td>\n",
              "      <td>16.250511</td>\n",
              "      <td>3.049646</td>\n",
              "      <td>6.733907</td>\n",
              "      <td>2.353017</td>\n",
              "      <td>1576.166671</td>\n",
              "      <td>-500.904965</td>\n",
              "      <td>1575.950626</td>\n",
              "      <td>-499.865889</td>\n",
              "      <td>1575.994189</td>\n",
              "      <td>-499.315107</td>\n",
              "      <td>1574.479259</td>\n",
              "      <td>-498.931665</td>\n",
              "      <td>42050.861809</td>\n",
              "      <td>3498.370979</td>\n",
              "      <td>3489.981857</td>\n",
              "      <td>2.858998</td>\n",
              "      <td>6.161113</td>\n",
              "      <td>2.266033</td>\n",
              "      <td>525.290581</td>\n",
              "      <td>57.278666</td>\n",
              "      <td>35.753385</td>\n",
              "      <td>6.478583</td>\n",
              "      <td>11.971193</td>\n",
              "      <td>6.005766</td>\n",
              "      <td>11.996163</td>\n",
              "      <td>6.012594</td>\n",
              "      <td>11.615865</td>\n",
              "      <td>7.278807</td>\n",
              "      <td>28.067063</td>\n",
              "      <td>20.050975</td>\n",
              "      <td>86.843261</td>\n",
              "      <td>4.955378</td>\n",
              "      <td>0.536689</td>\n",
              "      <td>18.965234</td>\n",
              "      <td>1.184827</td>\n",
              "      <td>1000.286398</td>\n",
              "      <td>-400.065196</td>\n",
              "      <td>1600.754587</td>\n",
              "      <td>-449.953435</td>\n",
              "      <td>1600.479580</td>\n",
              "      <td>-449.830646</td>\n",
              "      <td>1600.527589</td>\n",
              "      <td>-449.953649</td>\n",
              "      <td>1399.227084</td>\n",
              "      <td>-450.869848</td>\n",
              "      <td>1399.719514</td>\n",
              "      <td>-450.119001</td>\n",
              "      <td>14.265474</td>\n",
              "      <td>4.592547</td>\n",
              "      <td>9.001494</td>\n",
              "      <td>2.488248</td>\n",
              "      <td>25.880539</td>\n",
              "      <td>-499.989656</td>\n",
              "      <td>23.889530</td>\n",
              "      <td>-500.372428</td>\n",
              "      <td>23.970550</td>\n",
              "      <td>-500.085473</td>\n",
              "      <td>22.085714</td>\n",
              "      <td>-499.446897</td>\n",
              "      <td>13.992281</td>\n",
              "      <td>-505.503262</td>\n",
              "      <td>11.950531</td>\n",
              "      <td>-501.331529</td>\n",
              "      <td>10.039245</td>\n",
              "      <td>-500.169983</td>\n",
              "      <td>7.984757</td>\n",
              "      <td>-500.582168</td>\n",
              "      <td>13.998353</td>\n",
              "      <td>-599.787184</td>\n",
              "    </tr>\n",
              "    <tr>\n",
              "      <th>2</th>\n",
              "      <td>2016-01-15 02:00:00</td>\n",
              "      <td>6.055926</td>\n",
              "      <td>10.213995</td>\n",
              "      <td>5.383759</td>\n",
              "      <td>42.657501</td>\n",
              "      <td>68.116445</td>\n",
              "      <td>10.507046</td>\n",
              "      <td>0.953716</td>\n",
              "      <td>16.208849</td>\n",
              "      <td>2.257889</td>\n",
              "      <td>123.819808</td>\n",
              "      <td>11.316280</td>\n",
              "      <td>7.25</td>\n",
              "      <td>0.991265</td>\n",
              "      <td>8.603505</td>\n",
              "      <td>10.354494</td>\n",
              "      <td>19.167579</td>\n",
              "      <td>33.969464</td>\n",
              "      <td>16.491823</td>\n",
              "      <td>3.124664</td>\n",
              "      <td>6.471768</td>\n",
              "      <td>2.416800</td>\n",
              "      <td>1601.556163</td>\n",
              "      <td>-499.997791</td>\n",
              "      <td>1600.386685</td>\n",
              "      <td>-500.607762</td>\n",
              "      <td>1602.003542</td>\n",
              "      <td>-500.870069</td>\n",
              "      <td>1599.541515</td>\n",
              "      <td>-499.827444</td>\n",
              "      <td>42018.101184</td>\n",
              "      <td>3495.348910</td>\n",
              "      <td>3502.359819</td>\n",
              "      <td>2.945989</td>\n",
              "      <td>6.116455</td>\n",
              "      <td>2.159622</td>\n",
              "      <td>530.026610</td>\n",
              "      <td>57.510649</td>\n",
              "      <td>35.971630</td>\n",
              "      <td>6.362222</td>\n",
              "      <td>11.920603</td>\n",
              "      <td>6.197377</td>\n",
              "      <td>11.920305</td>\n",
              "      <td>6.204633</td>\n",
              "      <td>11.695753</td>\n",
              "      <td>7.216833</td>\n",
              "      <td>27.454037</td>\n",
              "      <td>19.737170</td>\n",
              "      <td>86.842308</td>\n",
              "      <td>4.843460</td>\n",
              "      <td>0.546416</td>\n",
              "      <td>18.808533</td>\n",
              "      <td>1.162562</td>\n",
              "      <td>999.719565</td>\n",
              "      <td>-400.074028</td>\n",
              "      <td>1599.337330</td>\n",
              "      <td>-450.008530</td>\n",
              "      <td>1599.672797</td>\n",
              "      <td>-449.954491</td>\n",
              "      <td>1599.849325</td>\n",
              "      <td>-449.954185</td>\n",
              "      <td>1399.180945</td>\n",
              "      <td>-449.937588</td>\n",
              "      <td>1400.316682</td>\n",
              "      <td>-450.527147</td>\n",
              "      <td>14.115662</td>\n",
              "      <td>4.624775</td>\n",
              "      <td>8.842896</td>\n",
              "      <td>2.458187</td>\n",
              "      <td>26.005245</td>\n",
              "      <td>-499.929616</td>\n",
              "      <td>23.886657</td>\n",
              "      <td>-499.951928</td>\n",
              "      <td>23.913535</td>\n",
              "      <td>-499.442343</td>\n",
              "      <td>23.957717</td>\n",
              "      <td>-499.901982</td>\n",
              "      <td>14.015015</td>\n",
              "      <td>-502.520901</td>\n",
              "      <td>11.912783</td>\n",
              "      <td>-501.133383</td>\n",
              "      <td>10.070913</td>\n",
              "      <td>-500.129135</td>\n",
              "      <td>8.013877</td>\n",
              "      <td>-500.517572</td>\n",
              "      <td>14.028663</td>\n",
              "      <td>-601.427363</td>\n",
              "    </tr>\n",
              "    <tr>\n",
              "      <th>3</th>\n",
              "      <td>2016-01-15 03:00:00</td>\n",
              "      <td>6.047977</td>\n",
              "      <td>9.977019</td>\n",
              "      <td>4.858634</td>\n",
              "      <td>42.689819</td>\n",
              "      <td>68.347543</td>\n",
              "      <td>10.422762</td>\n",
              "      <td>0.883763</td>\n",
              "      <td>16.532835</td>\n",
              "      <td>2.146849</td>\n",
              "      <td>122.270188</td>\n",
              "      <td>11.322140</td>\n",
              "      <td>7.25</td>\n",
              "      <td>0.996739</td>\n",
              "      <td>7.221879</td>\n",
              "      <td>8.496563</td>\n",
              "      <td>15.978538</td>\n",
              "      <td>28.260743</td>\n",
              "      <td>16.024359</td>\n",
              "      <td>2.960362</td>\n",
              "      <td>6.843791</td>\n",
              "      <td>2.262051</td>\n",
              "      <td>1599.968720</td>\n",
              "      <td>-500.951778</td>\n",
              "      <td>1600.659236</td>\n",
              "      <td>-499.677094</td>\n",
              "      <td>1600.304144</td>\n",
              "      <td>-500.727997</td>\n",
              "      <td>1600.449520</td>\n",
              "      <td>-500.052575</td>\n",
              "      <td>42029.447991</td>\n",
              "      <td>3498.578313</td>\n",
              "      <td>3499.162912</td>\n",
              "      <td>3.002340</td>\n",
              "      <td>6.043309</td>\n",
              "      <td>2.037807</td>\n",
              "      <td>542.590390</td>\n",
              "      <td>57.792734</td>\n",
              "      <td>36.862241</td>\n",
              "      <td>6.118189</td>\n",
              "      <td>11.630094</td>\n",
              "      <td>6.203177</td>\n",
              "      <td>11.692450</td>\n",
              "      <td>6.196578</td>\n",
              "      <td>11.915047</td>\n",
              "      <td>7.175616</td>\n",
              "      <td>27.341277</td>\n",
              "      <td>19.320810</td>\n",
              "      <td>87.226430</td>\n",
              "      <td>4.655288</td>\n",
              "      <td>0.542525</td>\n",
              "      <td>19.330200</td>\n",
              "      <td>1.079755</td>\n",
              "      <td>999.814770</td>\n",
              "      <td>-400.200179</td>\n",
              "      <td>1600.059442</td>\n",
              "      <td>-450.619948</td>\n",
              "      <td>1600.012842</td>\n",
              "      <td>-449.910497</td>\n",
              "      <td>1597.725177</td>\n",
              "      <td>-450.130127</td>\n",
              "      <td>1400.943157</td>\n",
              "      <td>-450.030142</td>\n",
              "      <td>1400.234743</td>\n",
              "      <td>-449.790835</td>\n",
              "      <td>13.732071</td>\n",
              "      <td>4.482453</td>\n",
              "      <td>9.122857</td>\n",
              "      <td>2.322062</td>\n",
              "      <td>25.942508</td>\n",
              "      <td>-499.176749</td>\n",
              "      <td>23.955516</td>\n",
              "      <td>-499.848796</td>\n",
              "      <td>23.966838</td>\n",
              "      <td>-500.008812</td>\n",
              "      <td>23.954443</td>\n",
              "      <td>-499.944710</td>\n",
              "      <td>14.036510</td>\n",
              "      <td>-500.857308</td>\n",
              "      <td>11.999550</td>\n",
              "      <td>-501.193686</td>\n",
              "      <td>9.970366</td>\n",
              "      <td>-499.201640</td>\n",
              "      <td>7.977324</td>\n",
              "      <td>-500.255908</td>\n",
              "      <td>14.005551</td>\n",
              "      <td>-599.996129</td>\n",
              "    </tr>\n",
              "    <tr>\n",
              "      <th>4</th>\n",
              "      <td>2016-01-15 04:00:00</td>\n",
              "      <td>6.148599</td>\n",
              "      <td>10.142511</td>\n",
              "      <td>4.939416</td>\n",
              "      <td>42.774141</td>\n",
              "      <td>66.927016</td>\n",
              "      <td>10.360302</td>\n",
              "      <td>0.792826</td>\n",
              "      <td>16.525686</td>\n",
              "      <td>2.055292</td>\n",
              "      <td>117.988169</td>\n",
              "      <td>11.913613</td>\n",
              "      <td>7.25</td>\n",
              "      <td>1.009869</td>\n",
              "      <td>9.089428</td>\n",
              "      <td>9.986786</td>\n",
              "      <td>19.199864</td>\n",
              "      <td>33.044932</td>\n",
              "      <td>16.480185</td>\n",
              "      <td>3.112100</td>\n",
              "      <td>6.550154</td>\n",
              "      <td>2.277073</td>\n",
              "      <td>1601.339707</td>\n",
              "      <td>-498.975456</td>\n",
              "      <td>1601.437854</td>\n",
              "      <td>-500.323246</td>\n",
              "      <td>1599.581894</td>\n",
              "      <td>-500.888152</td>\n",
              "      <td>1602.649541</td>\n",
              "      <td>-500.593010</td>\n",
              "      <td>42125.354245</td>\n",
              "      <td>3494.800771</td>\n",
              "      <td>3506.679315</td>\n",
              "      <td>3.169615</td>\n",
              "      <td>6.060915</td>\n",
              "      <td>1.786875</td>\n",
              "      <td>540.531893</td>\n",
              "      <td>56.047189</td>\n",
              "      <td>34.347666</td>\n",
              "      <td>5.663707</td>\n",
              "      <td>10.957755</td>\n",
              "      <td>6.198826</td>\n",
              "      <td>10.960521</td>\n",
              "      <td>6.194897</td>\n",
              "      <td>12.411054</td>\n",
              "      <td>7.240205</td>\n",
              "      <td>27.041023</td>\n",
              "      <td>19.216101</td>\n",
              "      <td>86.688794</td>\n",
              "      <td>4.552800</td>\n",
              "      <td>0.515438</td>\n",
              "      <td>19.267422</td>\n",
              "      <td>1.012642</td>\n",
              "      <td>999.678690</td>\n",
              "      <td>-399.752729</td>\n",
              "      <td>1600.208824</td>\n",
              "      <td>-449.599614</td>\n",
              "      <td>1600.357732</td>\n",
              "      <td>-450.034364</td>\n",
              "      <td>1599.759049</td>\n",
              "      <td>-449.909799</td>\n",
              "      <td>1401.560902</td>\n",
              "      <td>-448.877187</td>\n",
              "      <td>1401.160227</td>\n",
              "      <td>-450.407128</td>\n",
              "      <td>14.079996</td>\n",
              "      <td>4.470737</td>\n",
              "      <td>8.871028</td>\n",
              "      <td>2.330448</td>\n",
              "      <td>26.024787</td>\n",
              "      <td>-500.279091</td>\n",
              "      <td>23.955345</td>\n",
              "      <td>-500.593614</td>\n",
              "      <td>23.985703</td>\n",
              "      <td>-500.083811</td>\n",
              "      <td>23.958945</td>\n",
              "      <td>-499.990309</td>\n",
              "      <td>14.027298</td>\n",
              "      <td>-499.838632</td>\n",
              "      <td>11.953070</td>\n",
              "      <td>-501.053894</td>\n",
              "      <td>9.925709</td>\n",
              "      <td>-501.686727</td>\n",
              "      <td>7.894242</td>\n",
              "      <td>-500.356035</td>\n",
              "      <td>13.996647</td>\n",
              "      <td>-601.496691</td>\n",
              "    </tr>\n",
              "    <tr>\n",
              "      <th>...</th>\n",
              "      <td>...</td>\n",
              "      <td>...</td>\n",
              "      <td>...</td>\n",
              "      <td>...</td>\n",
              "      <td>...</td>\n",
              "      <td>...</td>\n",
              "      <td>...</td>\n",
              "      <td>...</td>\n",
              "      <td>...</td>\n",
              "      <td>...</td>\n",
              "      <td>...</td>\n",
              "      <td>...</td>\n",
              "      <td>...</td>\n",
              "      <td>...</td>\n",
              "      <td>...</td>\n",
              "      <td>...</td>\n",
              "      <td>...</td>\n",
              "      <td>...</td>\n",
              "      <td>...</td>\n",
              "      <td>...</td>\n",
              "      <td>...</td>\n",
              "      <td>...</td>\n",
              "      <td>...</td>\n",
              "      <td>...</td>\n",
              "      <td>...</td>\n",
              "      <td>...</td>\n",
              "      <td>...</td>\n",
              "      <td>...</td>\n",
              "      <td>...</td>\n",
              "      <td>...</td>\n",
              "      <td>...</td>\n",
              "      <td>...</td>\n",
              "      <td>...</td>\n",
              "      <td>...</td>\n",
              "      <td>...</td>\n",
              "      <td>...</td>\n",
              "      <td>...</td>\n",
              "      <td>...</td>\n",
              "      <td>...</td>\n",
              "      <td>...</td>\n",
              "      <td>...</td>\n",
              "      <td>...</td>\n",
              "      <td>...</td>\n",
              "      <td>...</td>\n",
              "      <td>...</td>\n",
              "      <td>...</td>\n",
              "      <td>...</td>\n",
              "      <td>...</td>\n",
              "      <td>...</td>\n",
              "      <td>...</td>\n",
              "      <td>...</td>\n",
              "      <td>...</td>\n",
              "      <td>...</td>\n",
              "      <td>...</td>\n",
              "      <td>...</td>\n",
              "      <td>...</td>\n",
              "      <td>...</td>\n",
              "      <td>...</td>\n",
              "      <td>...</td>\n",
              "      <td>...</td>\n",
              "      <td>...</td>\n",
              "      <td>...</td>\n",
              "      <td>...</td>\n",
              "      <td>...</td>\n",
              "      <td>...</td>\n",
              "      <td>...</td>\n",
              "      <td>...</td>\n",
              "      <td>...</td>\n",
              "      <td>...</td>\n",
              "      <td>...</td>\n",
              "      <td>...</td>\n",
              "      <td>...</td>\n",
              "      <td>...</td>\n",
              "      <td>...</td>\n",
              "      <td>...</td>\n",
              "      <td>...</td>\n",
              "      <td>...</td>\n",
              "      <td>...</td>\n",
              "      <td>...</td>\n",
              "      <td>...</td>\n",
              "      <td>...</td>\n",
              "      <td>...</td>\n",
              "      <td>...</td>\n",
              "      <td>...</td>\n",
              "      <td>...</td>\n",
              "      <td>...</td>\n",
              "      <td>...</td>\n",
              "    </tr>\n",
              "    <tr>\n",
              "      <th>19434</th>\n",
              "      <td>2018-08-18 06:59:59</td>\n",
              "      <td>3.224920</td>\n",
              "      <td>11.356233</td>\n",
              "      <td>6.803482</td>\n",
              "      <td>46.713954</td>\n",
              "      <td>73.755150</td>\n",
              "      <td>8.769645</td>\n",
              "      <td>3.141541</td>\n",
              "      <td>10.403181</td>\n",
              "      <td>1.529220</td>\n",
              "      <td>123.381787</td>\n",
              "      <td>8.028927</td>\n",
              "      <td>6.50</td>\n",
              "      <td>1.304232</td>\n",
              "      <td>6.559174</td>\n",
              "      <td>12.445966</td>\n",
              "      <td>7.056338</td>\n",
              "      <td>32.940215</td>\n",
              "      <td>22.854592</td>\n",
              "      <td>6.531541</td>\n",
              "      <td>3.934320</td>\n",
              "      <td>2.314352</td>\n",
              "      <td>1648.421193</td>\n",
              "      <td>-400.382169</td>\n",
              "      <td>1648.742005</td>\n",
              "      <td>-400.359661</td>\n",
              "      <td>1648.578230</td>\n",
              "      <td>-399.363624</td>\n",
              "      <td>1648.833984</td>\n",
              "      <td>-399.669220</td>\n",
              "      <td>45912.942619</td>\n",
              "      <td>2497.652954</td>\n",
              "      <td>2499.177950</td>\n",
              "      <td>1.155559</td>\n",
              "      <td>6.091855</td>\n",
              "      <td>4.617558</td>\n",
              "      <td>560.889077</td>\n",
              "      <td>85.718304</td>\n",
              "      <td>37.369774</td>\n",
              "      <td>5.335862</td>\n",
              "      <td>7.762770</td>\n",
              "      <td>9.158609</td>\n",
              "      <td>7.766744</td>\n",
              "      <td>9.156069</td>\n",
              "      <td>11.124896</td>\n",
              "      <td>10.984003</td>\n",
              "      <td>30.068876</td>\n",
              "      <td>18.603550</td>\n",
              "      <td>89.574376</td>\n",
              "      <td>4.207261</td>\n",
              "      <td>0.612935</td>\n",
              "      <td>16.666590</td>\n",
              "      <td>0.748633</td>\n",
              "      <td>1199.245914</td>\n",
              "      <td>-300.845518</td>\n",
              "      <td>1149.807890</td>\n",
              "      <td>-498.789721</td>\n",
              "      <td>1047.963596</td>\n",
              "      <td>-498.413079</td>\n",
              "      <td>946.640977</td>\n",
              "      <td>-499.152477</td>\n",
              "      <td>849.664935</td>\n",
              "      <td>-499.214461</td>\n",
              "      <td>849.758091</td>\n",
              "      <td>-497.448664</td>\n",
              "      <td>0.000000</td>\n",
              "      <td>0.000000</td>\n",
              "      <td>0.000000</td>\n",
              "      <td>0.000000</td>\n",
              "      <td>35.043205</td>\n",
              "      <td>-499.045671</td>\n",
              "      <td>29.906659</td>\n",
              "      <td>-499.979939</td>\n",
              "      <td>26.002402</td>\n",
              "      <td>-499.953431</td>\n",
              "      <td>22.987238</td>\n",
              "      <td>-499.967351</td>\n",
              "      <td>23.031497</td>\n",
              "      <td>-501.167942</td>\n",
              "      <td>20.007571</td>\n",
              "      <td>-499.740028</td>\n",
              "      <td>18.006038</td>\n",
              "      <td>-499.834374</td>\n",
              "      <td>13.001114</td>\n",
              "      <td>-500.155694</td>\n",
              "      <td>20.007840</td>\n",
              "      <td>-501.296428</td>\n",
              "    </tr>\n",
              "    <tr>\n",
              "      <th>19435</th>\n",
              "      <td>2018-08-18 07:59:59</td>\n",
              "      <td>3.195978</td>\n",
              "      <td>11.349355</td>\n",
              "      <td>6.862249</td>\n",
              "      <td>46.866780</td>\n",
              "      <td>69.049291</td>\n",
              "      <td>8.897321</td>\n",
              "      <td>3.130493</td>\n",
              "      <td>10.549470</td>\n",
              "      <td>1.612542</td>\n",
              "      <td>120.878188</td>\n",
              "      <td>7.962636</td>\n",
              "      <td>6.50</td>\n",
              "      <td>1.302419</td>\n",
              "      <td>6.612376</td>\n",
              "      <td>12.623947</td>\n",
              "      <td>7.542264</td>\n",
              "      <td>32.925325</td>\n",
              "      <td>23.002490</td>\n",
              "      <td>6.629725</td>\n",
              "      <td>4.089124</td>\n",
              "      <td>2.462890</td>\n",
              "      <td>1649.820162</td>\n",
              "      <td>-399.930973</td>\n",
              "      <td>1649.357538</td>\n",
              "      <td>-399.721222</td>\n",
              "      <td>1648.656192</td>\n",
              "      <td>-401.195834</td>\n",
              "      <td>1649.725133</td>\n",
              "      <td>-400.636306</td>\n",
              "      <td>46200.099585</td>\n",
              "      <td>2614.403937</td>\n",
              "      <td>2518.550078</td>\n",
              "      <td>1.167342</td>\n",
              "      <td>6.121323</td>\n",
              "      <td>4.144989</td>\n",
              "      <td>559.031805</td>\n",
              "      <td>119.499241</td>\n",
              "      <td>38.591551</td>\n",
              "      <td>4.838619</td>\n",
              "      <td>7.356687</td>\n",
              "      <td>9.304952</td>\n",
              "      <td>7.095508</td>\n",
              "      <td>9.297924</td>\n",
              "      <td>11.425983</td>\n",
              "      <td>10.888213</td>\n",
              "      <td>29.783972</td>\n",
              "      <td>18.441436</td>\n",
              "      <td>87.724007</td>\n",
              "      <td>4.177943</td>\n",
              "      <td>0.650557</td>\n",
              "      <td>16.960649</td>\n",
              "      <td>0.771582</td>\n",
              "      <td>1196.569267</td>\n",
              "      <td>-299.512227</td>\n",
              "      <td>1147.675196</td>\n",
              "      <td>-500.608341</td>\n",
              "      <td>1048.565741</td>\n",
              "      <td>-500.932810</td>\n",
              "      <td>949.773589</td>\n",
              "      <td>-500.023144</td>\n",
              "      <td>848.515225</td>\n",
              "      <td>-500.289405</td>\n",
              "      <td>850.013123</td>\n",
              "      <td>-496.822119</td>\n",
              "      <td>0.000000</td>\n",
              "      <td>0.000000</td>\n",
              "      <td>0.000000</td>\n",
              "      <td>0.000000</td>\n",
              "      <td>35.026062</td>\n",
              "      <td>-499.891945</td>\n",
              "      <td>29.921795</td>\n",
              "      <td>-499.949663</td>\n",
              "      <td>26.031747</td>\n",
              "      <td>-500.384612</td>\n",
              "      <td>22.991058</td>\n",
              "      <td>-500.079590</td>\n",
              "      <td>22.960095</td>\n",
              "      <td>-501.612783</td>\n",
              "      <td>20.035660</td>\n",
              "      <td>-500.251357</td>\n",
              "      <td>17.998535</td>\n",
              "      <td>-500.395178</td>\n",
              "      <td>12.954048</td>\n",
              "      <td>-499.895163</td>\n",
              "      <td>19.968498</td>\n",
              "      <td>-501.041608</td>\n",
              "    </tr>\n",
              "    <tr>\n",
              "      <th>19436</th>\n",
              "      <td>2018-08-18 08:59:59</td>\n",
              "      <td>3.109998</td>\n",
              "      <td>11.434366</td>\n",
              "      <td>6.886013</td>\n",
              "      <td>46.795691</td>\n",
              "      <td>67.002189</td>\n",
              "      <td>8.529606</td>\n",
              "      <td>2.911418</td>\n",
              "      <td>11.115147</td>\n",
              "      <td>1.596616</td>\n",
              "      <td>105.666118</td>\n",
              "      <td>7.955111</td>\n",
              "      <td>6.50</td>\n",
              "      <td>1.315926</td>\n",
              "      <td>7.128896</td>\n",
              "      <td>12.633558</td>\n",
              "      <td>7.941900</td>\n",
              "      <td>31.856742</td>\n",
              "      <td>22.298149</td>\n",
              "      <td>6.278250</td>\n",
              "      <td>4.457457</td>\n",
              "      <td>2.612231</td>\n",
              "      <td>1649.166761</td>\n",
              "      <td>-399.888631</td>\n",
              "      <td>1649.196904</td>\n",
              "      <td>-399.677571</td>\n",
              "      <td>1647.896999</td>\n",
              "      <td>-399.988275</td>\n",
              "      <td>1649.772714</td>\n",
              "      <td>-399.831902</td>\n",
              "      <td>44585.181334</td>\n",
              "      <td>2510.813545</td>\n",
              "      <td>2510.142433</td>\n",
              "      <td>1.125637</td>\n",
              "      <td>5.970515</td>\n",
              "      <td>4.020002</td>\n",
              "      <td>555.682872</td>\n",
              "      <td>122.262690</td>\n",
              "      <td>40.074026</td>\n",
              "      <td>4.525061</td>\n",
              "      <td>6.586020</td>\n",
              "      <td>9.299606</td>\n",
              "      <td>6.584130</td>\n",
              "      <td>9.300133</td>\n",
              "      <td>8.523497</td>\n",
              "      <td>8.955135</td>\n",
              "      <td>22.786467</td>\n",
              "      <td>15.111231</td>\n",
              "      <td>88.890579</td>\n",
              "      <td>4.050010</td>\n",
              "      <td>0.636095</td>\n",
              "      <td>18.323080</td>\n",
              "      <td>0.685059</td>\n",
              "      <td>1204.866639</td>\n",
              "      <td>-299.235675</td>\n",
              "      <td>1149.942902</td>\n",
              "      <td>-501.717903</td>\n",
              "      <td>1049.604390</td>\n",
              "      <td>-500.549053</td>\n",
              "      <td>952.702732</td>\n",
              "      <td>-502.352296</td>\n",
              "      <td>849.016017</td>\n",
              "      <td>-500.505677</td>\n",
              "      <td>850.455635</td>\n",
              "      <td>-506.897968</td>\n",
              "      <td>0.000000</td>\n",
              "      <td>0.000000</td>\n",
              "      <td>0.000000</td>\n",
              "      <td>0.000000</td>\n",
              "      <td>35.003586</td>\n",
              "      <td>-501.083794</td>\n",
              "      <td>29.990533</td>\n",
              "      <td>-611.855898</td>\n",
              "      <td>25.948429</td>\n",
              "      <td>-500.067268</td>\n",
              "      <td>22.968268</td>\n",
              "      <td>-499.839442</td>\n",
              "      <td>23.015718</td>\n",
              "      <td>-501.711599</td>\n",
              "      <td>19.951231</td>\n",
              "      <td>-499.857027</td>\n",
              "      <td>18.019543</td>\n",
              "      <td>-500.451156</td>\n",
              "      <td>13.023431</td>\n",
              "      <td>-499.914391</td>\n",
              "      <td>19.990885</td>\n",
              "      <td>-501.518452</td>\n",
              "    </tr>\n",
              "    <tr>\n",
              "      <th>19437</th>\n",
              "      <td>2018-08-18 09:59:59</td>\n",
              "      <td>3.367241</td>\n",
              "      <td>11.625587</td>\n",
              "      <td>6.799433</td>\n",
              "      <td>46.408188</td>\n",
              "      <td>65.523246</td>\n",
              "      <td>8.777171</td>\n",
              "      <td>2.819214</td>\n",
              "      <td>10.463847</td>\n",
              "      <td>1.602879</td>\n",
              "      <td>98.880538</td>\n",
              "      <td>7.984164</td>\n",
              "      <td>6.50</td>\n",
              "      <td>1.241969</td>\n",
              "      <td>7.490444</td>\n",
              "      <td>12.012378</td>\n",
              "      <td>6.942972</td>\n",
              "      <td>30.770892</td>\n",
              "      <td>22.714656</td>\n",
              "      <td>6.253145</td>\n",
              "      <td>3.557121</td>\n",
              "      <td>2.800648</td>\n",
              "      <td>1646.547763</td>\n",
              "      <td>-398.977083</td>\n",
              "      <td>1648.212240</td>\n",
              "      <td>-400.383265</td>\n",
              "      <td>1648.917387</td>\n",
              "      <td>-399.521344</td>\n",
              "      <td>1651.498591</td>\n",
              "      <td>-399.745329</td>\n",
              "      <td>44084.735708</td>\n",
              "      <td>2507.572494</td>\n",
              "      <td>2507.723361</td>\n",
              "      <td>1.117935</td>\n",
              "      <td>6.048130</td>\n",
              "      <td>3.902537</td>\n",
              "      <td>544.731687</td>\n",
              "      <td>123.742430</td>\n",
              "      <td>39.713906</td>\n",
              "      <td>4.362781</td>\n",
              "      <td>6.210119</td>\n",
              "      <td>9.297709</td>\n",
              "      <td>6.209517</td>\n",
              "      <td>9.297194</td>\n",
              "      <td>11.658799</td>\n",
              "      <td>10.655377</td>\n",
              "      <td>29.052742</td>\n",
              "      <td>17.834772</td>\n",
              "      <td>89.858126</td>\n",
              "      <td>3.902494</td>\n",
              "      <td>0.625609</td>\n",
              "      <td>19.423740</td>\n",
              "      <td>0.567130</td>\n",
              "      <td>1201.904177</td>\n",
              "      <td>-299.907308</td>\n",
              "      <td>1154.087804</td>\n",
              "      <td>-500.036580</td>\n",
              "      <td>1054.009756</td>\n",
              "      <td>-500.237335</td>\n",
              "      <td>944.138793</td>\n",
              "      <td>-496.866953</td>\n",
              "      <td>851.589767</td>\n",
              "      <td>-499.040466</td>\n",
              "      <td>851.345606</td>\n",
              "      <td>-499.122561</td>\n",
              "      <td>0.000000</td>\n",
              "      <td>0.000000</td>\n",
              "      <td>0.000000</td>\n",
              "      <td>0.000000</td>\n",
              "      <td>34.980742</td>\n",
              "      <td>-498.131002</td>\n",
              "      <td>29.968453</td>\n",
              "      <td>-586.013330</td>\n",
              "      <td>25.971737</td>\n",
              "      <td>-499.608392</td>\n",
              "      <td>22.958448</td>\n",
              "      <td>-499.821308</td>\n",
              "      <td>23.024963</td>\n",
              "      <td>-501.153409</td>\n",
              "      <td>20.054122</td>\n",
              "      <td>-500.314711</td>\n",
              "      <td>17.979515</td>\n",
              "      <td>-499.272871</td>\n",
              "      <td>12.992404</td>\n",
              "      <td>-499.976268</td>\n",
              "      <td>20.013986</td>\n",
              "      <td>-500.625471</td>\n",
              "    </tr>\n",
              "    <tr>\n",
              "      <th>19438</th>\n",
              "      <td>2018-08-18 10:59:59</td>\n",
              "      <td>3.598375</td>\n",
              "      <td>11.737832</td>\n",
              "      <td>6.717509</td>\n",
              "      <td>46.299438</td>\n",
              "      <td>70.281454</td>\n",
              "      <td>8.406690</td>\n",
              "      <td>2.517518</td>\n",
              "      <td>10.652193</td>\n",
              "      <td>1.389434</td>\n",
              "      <td>95.248427</td>\n",
              "      <td>8.078957</td>\n",
              "      <td>6.50</td>\n",
              "      <td>1.283045</td>\n",
              "      <td>7.537584</td>\n",
              "      <td>11.650285</td>\n",
              "      <td>6.203553</td>\n",
              "      <td>30.356618</td>\n",
              "      <td>22.735927</td>\n",
              "      <td>6.084287</td>\n",
              "      <td>3.026699</td>\n",
              "      <td>2.708046</td>\n",
              "      <td>1648.759906</td>\n",
              "      <td>-399.862053</td>\n",
              "      <td>1650.135395</td>\n",
              "      <td>-399.957321</td>\n",
              "      <td>1648.831890</td>\n",
              "      <td>-400.586116</td>\n",
              "      <td>1649.464582</td>\n",
              "      <td>-400.673303</td>\n",
              "      <td>44082.866565</td>\n",
              "      <td>2487.477762</td>\n",
              "      <td>2488.626080</td>\n",
              "      <td>1.126367</td>\n",
              "      <td>6.158718</td>\n",
              "      <td>3.875727</td>\n",
              "      <td>555.820208</td>\n",
              "      <td>94.544358</td>\n",
              "      <td>39.135119</td>\n",
              "      <td>4.365491</td>\n",
              "      <td>6.146982</td>\n",
              "      <td>9.308612</td>\n",
              "      <td>6.168939</td>\n",
              "      <td>9.309852</td>\n",
              "      <td>11.959486</td>\n",
              "      <td>10.702148</td>\n",
              "      <td>29.078235</td>\n",
              "      <td>17.804134</td>\n",
              "      <td>89.514960</td>\n",
              "      <td>3.925473</td>\n",
              "      <td>0.638677</td>\n",
              "      <td>19.946673</td>\n",
              "      <td>0.586439</td>\n",
              "      <td>1196.238112</td>\n",
              "      <td>-299.862743</td>\n",
              "      <td>1147.248241</td>\n",
              "      <td>-500.363165</td>\n",
              "      <td>1047.279065</td>\n",
              "      <td>-500.354091</td>\n",
              "      <td>948.756608</td>\n",
              "      <td>-498.439416</td>\n",
              "      <td>849.441918</td>\n",
              "      <td>-499.255503</td>\n",
              "      <td>850.112246</td>\n",
              "      <td>-499.407112</td>\n",
              "      <td>0.000000</td>\n",
              "      <td>0.000000</td>\n",
              "      <td>0.000000</td>\n",
              "      <td>0.000000</td>\n",
              "      <td>34.940919</td>\n",
              "      <td>-500.150510</td>\n",
              "      <td>30.031867</td>\n",
              "      <td>-500.328335</td>\n",
              "      <td>26.033990</td>\n",
              "      <td>-500.147792</td>\n",
              "      <td>22.952306</td>\n",
              "      <td>-500.037678</td>\n",
              "      <td>23.018622</td>\n",
              "      <td>-500.492702</td>\n",
              "      <td>20.020205</td>\n",
              "      <td>-500.220296</td>\n",
              "      <td>17.963512</td>\n",
              "      <td>-499.939490</td>\n",
              "      <td>12.990306</td>\n",
              "      <td>-500.080993</td>\n",
              "      <td>19.990336</td>\n",
              "      <td>-499.191575</td>\n",
              "    </tr>\n",
              "  </tbody>\n",
              "</table>\n",
              "<p>19439 rows × 87 columns</p>\n",
              "</div>"
            ],
            "text/plain": [
              "                      date  final.output.concentrate_ag  \\\n",
              "0      2016-01-15 00:00:00                     6.055403   \n",
              "1      2016-01-15 01:00:00                     6.029369   \n",
              "2      2016-01-15 02:00:00                     6.055926   \n",
              "3      2016-01-15 03:00:00                     6.047977   \n",
              "4      2016-01-15 04:00:00                     6.148599   \n",
              "...                    ...                          ...   \n",
              "19434  2018-08-18 06:59:59                     3.224920   \n",
              "19435  2018-08-18 07:59:59                     3.195978   \n",
              "19436  2018-08-18 08:59:59                     3.109998   \n",
              "19437  2018-08-18 09:59:59                     3.367241   \n",
              "19438  2018-08-18 10:59:59                     3.598375   \n",
              "\n",
              "       final.output.concentrate_pb  final.output.concentrate_sol  \\\n",
              "0                         9.889648                      5.507324   \n",
              "1                         9.968944                      5.257781   \n",
              "2                        10.213995                      5.383759   \n",
              "3                         9.977019                      4.858634   \n",
              "4                        10.142511                      4.939416   \n",
              "...                            ...                           ...   \n",
              "19434                    11.356233                      6.803482   \n",
              "19435                    11.349355                      6.862249   \n",
              "19436                    11.434366                      6.886013   \n",
              "19437                    11.625587                      6.799433   \n",
              "19438                    11.737832                      6.717509   \n",
              "\n",
              "       final.output.concentrate_au  final.output.recovery  \\\n",
              "0                        42.192020              70.541216   \n",
              "1                        42.701629              69.266198   \n",
              "2                        42.657501              68.116445   \n",
              "3                        42.689819              68.347543   \n",
              "4                        42.774141              66.927016   \n",
              "...                            ...                    ...   \n",
              "19434                    46.713954              73.755150   \n",
              "19435                    46.866780              69.049291   \n",
              "19436                    46.795691              67.002189   \n",
              "19437                    46.408188              65.523246   \n",
              "19438                    46.299438              70.281454   \n",
              "\n",
              "       final.output.tail_ag  final.output.tail_pb  final.output.tail_sol  \\\n",
              "0                 10.411962              0.895447              16.904297   \n",
              "1                 10.462676              0.927452              16.634514   \n",
              "2                 10.507046              0.953716              16.208849   \n",
              "3                 10.422762              0.883763              16.532835   \n",
              "4                 10.360302              0.792826              16.525686   \n",
              "...                     ...                   ...                    ...   \n",
              "19434              8.769645              3.141541              10.403181   \n",
              "19435              8.897321              3.130493              10.549470   \n",
              "19436              8.529606              2.911418              11.115147   \n",
              "19437              8.777171              2.819214              10.463847   \n",
              "19438              8.406690              2.517518              10.652193   \n",
              "\n",
              "       final.output.tail_au  primary_cleaner.input.sulfate  \\\n",
              "0                  2.143149                     127.092003   \n",
              "1                  2.224930                     125.629232   \n",
              "2                  2.257889                     123.819808   \n",
              "3                  2.146849                     122.270188   \n",
              "4                  2.055292                     117.988169   \n",
              "...                     ...                            ...   \n",
              "19434              1.529220                     123.381787   \n",
              "19435              1.612542                     120.878188   \n",
              "19436              1.596616                     105.666118   \n",
              "19437              1.602879                      98.880538   \n",
              "19438              1.389434                      95.248427   \n",
              "\n",
              "       primary_cleaner.input.depressant  primary_cleaner.input.feed_size  \\\n",
              "0                             10.128295                             7.25   \n",
              "1                             10.296251                             7.25   \n",
              "2                             11.316280                             7.25   \n",
              "3                             11.322140                             7.25   \n",
              "4                             11.913613                             7.25   \n",
              "...                                 ...                              ...   \n",
              "19434                          8.028927                             6.50   \n",
              "19435                          7.962636                             6.50   \n",
              "19436                          7.955111                             6.50   \n",
              "19437                          7.984164                             6.50   \n",
              "19438                          8.078957                             6.50   \n",
              "\n",
              "       primary_cleaner.input.xanthate  primary_cleaner.output.concentrate_ag  \\\n",
              "0                            0.988759                               8.547551   \n",
              "1                            1.002663                               8.558743   \n",
              "2                            0.991265                               8.603505   \n",
              "3                            0.996739                               7.221879   \n",
              "4                            1.009869                               9.089428   \n",
              "...                               ...                                    ...   \n",
              "19434                        1.304232                               6.559174   \n",
              "19435                        1.302419                               6.612376   \n",
              "19436                        1.315926                               7.128896   \n",
              "19437                        1.241969                               7.490444   \n",
              "19438                        1.283045                               7.537584   \n",
              "\n",
              "       primary_cleaner.output.concentrate_pb  \\\n",
              "0                                  10.389648   \n",
              "1                                  10.497069   \n",
              "2                                  10.354494   \n",
              "3                                   8.496563   \n",
              "4                                   9.986786   \n",
              "...                                      ...   \n",
              "19434                              12.445966   \n",
              "19435                              12.623947   \n",
              "19436                              12.633558   \n",
              "19437                              12.012378   \n",
              "19438                              11.650285   \n",
              "\n",
              "       primary_cleaner.output.concentrate_sol  \\\n",
              "0                                   19.529297   \n",
              "1                                   19.369147   \n",
              "2                                   19.167579   \n",
              "3                                   15.978538   \n",
              "4                                   19.199864   \n",
              "...                                       ...   \n",
              "19434                                7.056338   \n",
              "19435                                7.542264   \n",
              "19436                                7.941900   \n",
              "19437                                6.942972   \n",
              "19438                                6.203553   \n",
              "\n",
              "       primary_cleaner.output.concentrate_au  primary_cleaner.output.tail_ag  \\\n",
              "0                                  34.174427                       14.936526   \n",
              "1                                  34.118526                       16.250511   \n",
              "2                                  33.969464                       16.491823   \n",
              "3                                  28.260743                       16.024359   \n",
              "4                                  33.044932                       16.480185   \n",
              "...                                      ...                             ...   \n",
              "19434                              32.940215                       22.854592   \n",
              "19435                              32.925325                       23.002490   \n",
              "19436                              31.856742                       22.298149   \n",
              "19437                              30.770892                       22.714656   \n",
              "19438                              30.356618                       22.735927   \n",
              "\n",
              "       primary_cleaner.output.tail_pb  primary_cleaner.output.tail_sol  \\\n",
              "0                            2.534912                         7.476074   \n",
              "1                            3.049646                         6.733907   \n",
              "2                            3.124664                         6.471768   \n",
              "3                            2.960362                         6.843791   \n",
              "4                            3.112100                         6.550154   \n",
              "...                               ...                              ...   \n",
              "19434                        6.531541                         3.934320   \n",
              "19435                        6.629725                         4.089124   \n",
              "19436                        6.278250                         4.457457   \n",
              "19437                        6.253145                         3.557121   \n",
              "19438                        6.084287                         3.026699   \n",
              "\n",
              "       primary_cleaner.output.tail_au  primary_cleaner.state.floatbank8_a_air  \\\n",
              "0                            2.106679                             1549.775757   \n",
              "1                            2.353017                             1576.166671   \n",
              "2                            2.416800                             1601.556163   \n",
              "3                            2.262051                             1599.968720   \n",
              "4                            2.277073                             1601.339707   \n",
              "...                               ...                                     ...   \n",
              "19434                        2.314352                             1648.421193   \n",
              "19435                        2.462890                             1649.820162   \n",
              "19436                        2.612231                             1649.166761   \n",
              "19437                        2.800648                             1646.547763   \n",
              "19438                        2.708046                             1648.759906   \n",
              "\n",
              "       primary_cleaner.state.floatbank8_a_level  \\\n",
              "0                                   -498.912140   \n",
              "1                                   -500.904965   \n",
              "2                                   -499.997791   \n",
              "3                                   -500.951778   \n",
              "4                                   -498.975456   \n",
              "...                                         ...   \n",
              "19434                               -400.382169   \n",
              "19435                               -399.930973   \n",
              "19436                               -399.888631   \n",
              "19437                               -398.977083   \n",
              "19438                               -399.862053   \n",
              "\n",
              "       primary_cleaner.state.floatbank8_b_air  \\\n",
              "0                                 1551.434204   \n",
              "1                                 1575.950626   \n",
              "2                                 1600.386685   \n",
              "3                                 1600.659236   \n",
              "4                                 1601.437854   \n",
              "...                                       ...   \n",
              "19434                             1648.742005   \n",
              "19435                             1649.357538   \n",
              "19436                             1649.196904   \n",
              "19437                             1648.212240   \n",
              "19438                             1650.135395   \n",
              "\n",
              "       primary_cleaner.state.floatbank8_b_level  \\\n",
              "0                                   -516.403442   \n",
              "1                                   -499.865889   \n",
              "2                                   -500.607762   \n",
              "3                                   -499.677094   \n",
              "4                                   -500.323246   \n",
              "...                                         ...   \n",
              "19434                               -400.359661   \n",
              "19435                               -399.721222   \n",
              "19436                               -399.677571   \n",
              "19437                               -400.383265   \n",
              "19438                               -399.957321   \n",
              "\n",
              "       primary_cleaner.state.floatbank8_c_air  \\\n",
              "0                                 1549.873901   \n",
              "1                                 1575.994189   \n",
              "2                                 1602.003542   \n",
              "3                                 1600.304144   \n",
              "4                                 1599.581894   \n",
              "...                                       ...   \n",
              "19434                             1648.578230   \n",
              "19435                             1648.656192   \n",
              "19436                             1647.896999   \n",
              "19437                             1648.917387   \n",
              "19438                             1648.831890   \n",
              "\n",
              "       primary_cleaner.state.floatbank8_c_level  \\\n",
              "0                                   -498.666595   \n",
              "1                                   -499.315107   \n",
              "2                                   -500.870069   \n",
              "3                                   -500.727997   \n",
              "4                                   -500.888152   \n",
              "...                                         ...   \n",
              "19434                               -399.363624   \n",
              "19435                               -401.195834   \n",
              "19436                               -399.988275   \n",
              "19437                               -399.521344   \n",
              "19438                               -400.586116   \n",
              "\n",
              "       primary_cleaner.state.floatbank8_d_air  \\\n",
              "0                                 1554.367432   \n",
              "1                                 1574.479259   \n",
              "2                                 1599.541515   \n",
              "3                                 1600.449520   \n",
              "4                                 1602.649541   \n",
              "...                                       ...   \n",
              "19434                             1648.833984   \n",
              "19435                             1649.725133   \n",
              "19436                             1649.772714   \n",
              "19437                             1651.498591   \n",
              "19438                             1649.464582   \n",
              "\n",
              "       primary_cleaner.state.floatbank8_d_level  \\\n",
              "0                                   -493.428131   \n",
              "1                                   -498.931665   \n",
              "2                                   -499.827444   \n",
              "3                                   -500.052575   \n",
              "4                                   -500.593010   \n",
              "...                                         ...   \n",
              "19434                               -399.669220   \n",
              "19435                               -400.636306   \n",
              "19436                               -399.831902   \n",
              "19437                               -399.745329   \n",
              "19438                               -400.673303   \n",
              "\n",
              "       rougher.calculation.sulfate_to_au_concentrate  \\\n",
              "0                                       41885.707031   \n",
              "1                                       42050.861809   \n",
              "2                                       42018.101184   \n",
              "3                                       42029.447991   \n",
              "4                                       42125.354245   \n",
              "...                                              ...   \n",
              "19434                                   45912.942619   \n",
              "19435                                   46200.099585   \n",
              "19436                                   44585.181334   \n",
              "19437                                   44084.735708   \n",
              "19438                                   44082.866565   \n",
              "\n",
              "       rougher.calculation.floatbank10_sulfate_to_au_feed  \\\n",
              "0                                            3481.779053    \n",
              "1                                            3498.370979    \n",
              "2                                            3495.348910    \n",
              "3                                            3498.578313    \n",
              "4                                            3494.800771    \n",
              "...                                                  ...    \n",
              "19434                                        2497.652954    \n",
              "19435                                        2614.403937    \n",
              "19436                                        2510.813545    \n",
              "19437                                        2507.572494    \n",
              "19438                                        2487.477762    \n",
              "\n",
              "       rougher.calculation.floatbank11_sulfate_to_au_feed  \\\n",
              "0                                            3520.337158    \n",
              "1                                            3489.981857    \n",
              "2                                            3502.359819    \n",
              "3                                            3499.162912    \n",
              "4                                            3506.679315    \n",
              "...                                                  ...    \n",
              "19434                                        2499.177950    \n",
              "19435                                        2518.550078    \n",
              "19436                                        2510.142433    \n",
              "19437                                        2507.723361    \n",
              "19438                                        2488.626080    \n",
              "\n",
              "       rougher.calculation.au_pb_ratio  rougher.input.feed_ag  \\\n",
              "0                             2.838687               6.100378   \n",
              "1                             2.858998               6.161113   \n",
              "2                             2.945989               6.116455   \n",
              "3                             3.002340               6.043309   \n",
              "4                             3.169615               6.060915   \n",
              "...                                ...                    ...   \n",
              "19434                         1.155559               6.091855   \n",
              "19435                         1.167342               6.121323   \n",
              "19436                         1.125637               5.970515   \n",
              "19437                         1.117935               6.048130   \n",
              "19438                         1.126367               6.158718   \n",
              "\n",
              "       rougher.input.feed_pb  rougher.input.feed_rate  \\\n",
              "0                   2.284912               523.546326   \n",
              "1                   2.266033               525.290581   \n",
              "2                   2.159622               530.026610   \n",
              "3                   2.037807               542.590390   \n",
              "4                   1.786875               540.531893   \n",
              "...                      ...                      ...   \n",
              "19434               4.617558               560.889077   \n",
              "19435               4.144989               559.031805   \n",
              "19436               4.020002               555.682872   \n",
              "19437               3.902537               544.731687   \n",
              "19438               3.875727               555.820208   \n",
              "\n",
              "       rougher.input.feed_size  rougher.input.feed_sol  rougher.input.feed_au  \\\n",
              "0                    55.486599               36.808594               6.486150   \n",
              "1                    57.278666               35.753385               6.478583   \n",
              "2                    57.510649               35.971630               6.362222   \n",
              "3                    57.792734               36.862241               6.118189   \n",
              "4                    56.047189               34.347666               5.663707   \n",
              "...                        ...                     ...                    ...   \n",
              "19434                85.718304               37.369774               5.335862   \n",
              "19435               119.499241               38.591551               4.838619   \n",
              "19436               122.262690               40.074026               4.525061   \n",
              "19437               123.742430               39.713906               4.362781   \n",
              "19438                94.544358               39.135119               4.365491   \n",
              "\n",
              "       rougher.input.floatbank10_sulfate  rougher.input.floatbank10_xanthate  \\\n",
              "0                              11.986616                            6.007990   \n",
              "1                              11.971193                            6.005766   \n",
              "2                              11.920603                            6.197377   \n",
              "3                              11.630094                            6.203177   \n",
              "4                              10.957755                            6.198826   \n",
              "...                                  ...                                 ...   \n",
              "19434                           7.762770                            9.158609   \n",
              "19435                           7.356687                            9.304952   \n",
              "19436                           6.586020                            9.299606   \n",
              "19437                           6.210119                            9.297709   \n",
              "19438                           6.146982                            9.308612   \n",
              "\n",
              "       rougher.input.floatbank11_sulfate  rougher.input.floatbank11_xanthate  \\\n",
              "0                              11.836743                            6.005818   \n",
              "1                              11.996163                            6.012594   \n",
              "2                              11.920305                            6.204633   \n",
              "3                              11.692450                            6.196578   \n",
              "4                              10.960521                            6.194897   \n",
              "...                                  ...                                 ...   \n",
              "19434                           7.766744                            9.156069   \n",
              "19435                           7.095508                            9.297924   \n",
              "19436                           6.584130                            9.300133   \n",
              "19437                           6.209517                            9.297194   \n",
              "19438                           6.168939                            9.309852   \n",
              "\n",
              "       rougher.output.concentrate_ag  rougher.output.concentrate_pb  \\\n",
              "0                          11.500771                       7.101074   \n",
              "1                          11.615865                       7.278807   \n",
              "2                          11.695753                       7.216833   \n",
              "3                          11.915047                       7.175616   \n",
              "4                          12.411054                       7.240205   \n",
              "...                              ...                            ...   \n",
              "19434                      11.124896                      10.984003   \n",
              "19435                      11.425983                      10.888213   \n",
              "19436                       8.523497                       8.955135   \n",
              "19437                      11.658799                      10.655377   \n",
              "19438                      11.959486                      10.702148   \n",
              "\n",
              "       rougher.output.concentrate_sol  rougher.output.concentrate_au  \\\n",
              "0                           28.029297                      19.793808   \n",
              "1                           28.067063                      20.050975   \n",
              "2                           27.454037                      19.737170   \n",
              "3                           27.341277                      19.320810   \n",
              "4                           27.041023                      19.216101   \n",
              "...                               ...                            ...   \n",
              "19434                       30.068876                      18.603550   \n",
              "19435                       29.783972                      18.441436   \n",
              "19436                       22.786467                      15.111231   \n",
              "19437                       29.052742                      17.834772   \n",
              "19438                       29.078235                      17.804134   \n",
              "\n",
              "       rougher.output.recovery  rougher.output.tail_ag  \\\n",
              "0                    87.107763                5.008018   \n",
              "1                    86.843261                4.955378   \n",
              "2                    86.842308                4.843460   \n",
              "3                    87.226430                4.655288   \n",
              "4                    86.688794                4.552800   \n",
              "...                        ...                     ...   \n",
              "19434                89.574376                4.207261   \n",
              "19435                87.724007                4.177943   \n",
              "19436                88.890579                4.050010   \n",
              "19437                89.858126                3.902494   \n",
              "19438                89.514960                3.925473   \n",
              "\n",
              "       rougher.output.tail_pb  rougher.output.tail_sol  \\\n",
              "0                    0.508728                19.154297   \n",
              "1                    0.536689                18.965234   \n",
              "2                    0.546416                18.808533   \n",
              "3                    0.542525                19.330200   \n",
              "4                    0.515438                19.267422   \n",
              "...                       ...                      ...   \n",
              "19434                0.612935                16.666590   \n",
              "19435                0.650557                16.960649   \n",
              "19436                0.636095                18.323080   \n",
              "19437                0.625609                19.423740   \n",
              "19438                0.638677                19.946673   \n",
              "\n",
              "       rougher.output.tail_au  rougher.state.floatbank10_a_air  \\\n",
              "0                    1.170244                       999.706909   \n",
              "1                    1.184827                      1000.286398   \n",
              "2                    1.162562                       999.719565   \n",
              "3                    1.079755                       999.814770   \n",
              "4                    1.012642                       999.678690   \n",
              "...                       ...                              ...   \n",
              "19434                0.748633                      1199.245914   \n",
              "19435                0.771582                      1196.569267   \n",
              "19436                0.685059                      1204.866639   \n",
              "19437                0.567130                      1201.904177   \n",
              "19438                0.586439                      1196.238112   \n",
              "\n",
              "       rougher.state.floatbank10_a_level  rougher.state.floatbank10_b_air  \\\n",
              "0                            -404.066986                      1603.011353   \n",
              "1                            -400.065196                      1600.754587   \n",
              "2                            -400.074028                      1599.337330   \n",
              "3                            -400.200179                      1600.059442   \n",
              "4                            -399.752729                      1600.208824   \n",
              "...                                  ...                              ...   \n",
              "19434                        -300.845518                      1149.807890   \n",
              "19435                        -299.512227                      1147.675196   \n",
              "19436                        -299.235675                      1149.942902   \n",
              "19437                        -299.907308                      1154.087804   \n",
              "19438                        -299.862743                      1147.248241   \n",
              "\n",
              "       rougher.state.floatbank10_b_level  rougher.state.floatbank10_c_air  \\\n",
              "0                            -434.715027                      1602.375000   \n",
              "1                            -449.953435                      1600.479580   \n",
              "2                            -450.008530                      1599.672797   \n",
              "3                            -450.619948                      1600.012842   \n",
              "4                            -449.599614                      1600.357732   \n",
              "...                                  ...                              ...   \n",
              "19434                        -498.789721                      1047.963596   \n",
              "19435                        -500.608341                      1048.565741   \n",
              "19436                        -501.717903                      1049.604390   \n",
              "19437                        -500.036580                      1054.009756   \n",
              "19438                        -500.363165                      1047.279065   \n",
              "\n",
              "       rougher.state.floatbank10_c_level  rougher.state.floatbank10_d_air  \\\n",
              "0                            -442.204468                      1598.937256   \n",
              "1                            -449.830646                      1600.527589   \n",
              "2                            -449.954491                      1599.849325   \n",
              "3                            -449.910497                      1597.725177   \n",
              "4                            -450.034364                      1599.759049   \n",
              "...                                  ...                              ...   \n",
              "19434                        -498.413079                       946.640977   \n",
              "19435                        -500.932810                       949.773589   \n",
              "19436                        -500.549053                       952.702732   \n",
              "19437                        -500.237335                       944.138793   \n",
              "19438                        -500.354091                       948.756608   \n",
              "\n",
              "       rougher.state.floatbank10_d_level  rougher.state.floatbank10_e_air  \\\n",
              "0                            -451.294128                      1404.472046   \n",
              "1                            -449.953649                      1399.227084   \n",
              "2                            -449.954185                      1399.180945   \n",
              "3                            -450.130127                      1400.943157   \n",
              "4                            -449.909799                      1401.560902   \n",
              "...                                  ...                              ...   \n",
              "19434                        -499.152477                       849.664935   \n",
              "19435                        -500.023144                       848.515225   \n",
              "19436                        -502.352296                       849.016017   \n",
              "19437                        -496.866953                       851.589767   \n",
              "19438                        -498.439416                       849.441918   \n",
              "\n",
              "       rougher.state.floatbank10_e_level  rougher.state.floatbank10_f_air  \\\n",
              "0                            -455.462982                      1416.354980   \n",
              "1                            -450.869848                      1399.719514   \n",
              "2                            -449.937588                      1400.316682   \n",
              "3                            -450.030142                      1400.234743   \n",
              "4                            -448.877187                      1401.160227   \n",
              "...                                  ...                              ...   \n",
              "19434                        -499.214461                       849.758091   \n",
              "19435                        -500.289405                       850.013123   \n",
              "19436                        -500.505677                       850.455635   \n",
              "19437                        -499.040466                       851.345606   \n",
              "19438                        -499.255503                       850.112246   \n",
              "\n",
              "       rougher.state.floatbank10_f_level  secondary_cleaner.output.tail_ag  \\\n",
              "0                            -451.939636                         14.500184   \n",
              "1                            -450.119001                         14.265474   \n",
              "2                            -450.527147                         14.115662   \n",
              "3                            -449.790835                         13.732071   \n",
              "4                            -450.407128                         14.079996   \n",
              "...                                  ...                               ...   \n",
              "19434                        -497.448664                          0.000000   \n",
              "19435                        -496.822119                          0.000000   \n",
              "19436                        -506.897968                          0.000000   \n",
              "19437                        -499.122561                          0.000000   \n",
              "19438                        -499.407112                          0.000000   \n",
              "\n",
              "       secondary_cleaner.output.tail_pb  secondary_cleaner.output.tail_sol  \\\n",
              "0                              4.694824                           8.764648   \n",
              "1                              4.592547                           9.001494   \n",
              "2                              4.624775                           8.842896   \n",
              "3                              4.482453                           9.122857   \n",
              "4                              4.470737                           8.871028   \n",
              "...                                 ...                                ...   \n",
              "19434                          0.000000                           0.000000   \n",
              "19435                          0.000000                           0.000000   \n",
              "19436                          0.000000                           0.000000   \n",
              "19437                          0.000000                           0.000000   \n",
              "19438                          0.000000                           0.000000   \n",
              "\n",
              "       secondary_cleaner.output.tail_au  \\\n",
              "0                              2.606185   \n",
              "1                              2.488248   \n",
              "2                              2.458187   \n",
              "3                              2.322062   \n",
              "4                              2.330448   \n",
              "...                                 ...   \n",
              "19434                          0.000000   \n",
              "19435                          0.000000   \n",
              "19436                          0.000000   \n",
              "19437                          0.000000   \n",
              "19438                          0.000000   \n",
              "\n",
              "       secondary_cleaner.state.floatbank2_a_air  \\\n",
              "0                                     25.853109   \n",
              "1                                     25.880539   \n",
              "2                                     26.005245   \n",
              "3                                     25.942508   \n",
              "4                                     26.024787   \n",
              "...                                         ...   \n",
              "19434                                 35.043205   \n",
              "19435                                 35.026062   \n",
              "19436                                 35.003586   \n",
              "19437                                 34.980742   \n",
              "19438                                 34.940919   \n",
              "\n",
              "       secondary_cleaner.state.floatbank2_a_level  \\\n",
              "0                                     -498.526489   \n",
              "1                                     -499.989656   \n",
              "2                                     -499.929616   \n",
              "3                                     -499.176749   \n",
              "4                                     -500.279091   \n",
              "...                                           ...   \n",
              "19434                                 -499.045671   \n",
              "19435                                 -499.891945   \n",
              "19436                                 -501.083794   \n",
              "19437                                 -498.131002   \n",
              "19438                                 -500.150510   \n",
              "\n",
              "       secondary_cleaner.state.floatbank2_b_air  \\\n",
              "0                                     23.893660   \n",
              "1                                     23.889530   \n",
              "2                                     23.886657   \n",
              "3                                     23.955516   \n",
              "4                                     23.955345   \n",
              "...                                         ...   \n",
              "19434                                 29.906659   \n",
              "19435                                 29.921795   \n",
              "19436                                 29.990533   \n",
              "19437                                 29.968453   \n",
              "19438                                 30.031867   \n",
              "\n",
              "       secondary_cleaner.state.floatbank2_b_level  \\\n",
              "0                                     -501.406281   \n",
              "1                                     -500.372428   \n",
              "2                                     -499.951928   \n",
              "3                                     -499.848796   \n",
              "4                                     -500.593614   \n",
              "...                                           ...   \n",
              "19434                                 -499.979939   \n",
              "19435                                 -499.949663   \n",
              "19436                                 -611.855898   \n",
              "19437                                 -586.013330   \n",
              "19438                                 -500.328335   \n",
              "\n",
              "       secondary_cleaner.state.floatbank3_a_air  \\\n",
              "0                                     23.961798   \n",
              "1                                     23.970550   \n",
              "2                                     23.913535   \n",
              "3                                     23.966838   \n",
              "4                                     23.985703   \n",
              "...                                         ...   \n",
              "19434                                 26.002402   \n",
              "19435                                 26.031747   \n",
              "19436                                 25.948429   \n",
              "19437                                 25.971737   \n",
              "19438                                 26.033990   \n",
              "\n",
              "       secondary_cleaner.state.floatbank3_a_level  \\\n",
              "0                                     -495.262817   \n",
              "1                                     -500.085473   \n",
              "2                                     -499.442343   \n",
              "3                                     -500.008812   \n",
              "4                                     -500.083811   \n",
              "...                                           ...   \n",
              "19434                                 -499.953431   \n",
              "19435                                 -500.384612   \n",
              "19436                                 -500.067268   \n",
              "19437                                 -499.608392   \n",
              "19438                                 -500.147792   \n",
              "\n",
              "       secondary_cleaner.state.floatbank3_b_air  \\\n",
              "0                                     21.940409   \n",
              "1                                     22.085714   \n",
              "2                                     23.957717   \n",
              "3                                     23.954443   \n",
              "4                                     23.958945   \n",
              "...                                         ...   \n",
              "19434                                 22.987238   \n",
              "19435                                 22.991058   \n",
              "19436                                 22.968268   \n",
              "19437                                 22.958448   \n",
              "19438                                 22.952306   \n",
              "\n",
              "       secondary_cleaner.state.floatbank3_b_level  \\\n",
              "0                                     -499.340973   \n",
              "1                                     -499.446897   \n",
              "2                                     -499.901982   \n",
              "3                                     -499.944710   \n",
              "4                                     -499.990309   \n",
              "...                                           ...   \n",
              "19434                                 -499.967351   \n",
              "19435                                 -500.079590   \n",
              "19436                                 -499.839442   \n",
              "19437                                 -499.821308   \n",
              "19438                                 -500.037678   \n",
              "\n",
              "       secondary_cleaner.state.floatbank4_a_air  \\\n",
              "0                                     14.016835   \n",
              "1                                     13.992281   \n",
              "2                                     14.015015   \n",
              "3                                     14.036510   \n",
              "4                                     14.027298   \n",
              "...                                         ...   \n",
              "19434                                 23.031497   \n",
              "19435                                 22.960095   \n",
              "19436                                 23.015718   \n",
              "19437                                 23.024963   \n",
              "19438                                 23.018622   \n",
              "\n",
              "       secondary_cleaner.state.floatbank4_a_level  \\\n",
              "0                                     -502.488007   \n",
              "1                                     -505.503262   \n",
              "2                                     -502.520901   \n",
              "3                                     -500.857308   \n",
              "4                                     -499.838632   \n",
              "...                                           ...   \n",
              "19434                                 -501.167942   \n",
              "19435                                 -501.612783   \n",
              "19436                                 -501.711599   \n",
              "19437                                 -501.153409   \n",
              "19438                                 -500.492702   \n",
              "\n",
              "       secondary_cleaner.state.floatbank4_b_air  \\\n",
              "0                                     12.099931   \n",
              "1                                     11.950531   \n",
              "2                                     11.912783   \n",
              "3                                     11.999550   \n",
              "4                                     11.953070   \n",
              "...                                         ...   \n",
              "19434                                 20.007571   \n",
              "19435                                 20.035660   \n",
              "19436                                 19.951231   \n",
              "19437                                 20.054122   \n",
              "19438                                 20.020205   \n",
              "\n",
              "       secondary_cleaner.state.floatbank4_b_level  \\\n",
              "0                                     -504.715942   \n",
              "1                                     -501.331529   \n",
              "2                                     -501.133383   \n",
              "3                                     -501.193686   \n",
              "4                                     -501.053894   \n",
              "...                                           ...   \n",
              "19434                                 -499.740028   \n",
              "19435                                 -500.251357   \n",
              "19436                                 -499.857027   \n",
              "19437                                 -500.314711   \n",
              "19438                                 -500.220296   \n",
              "\n",
              "       secondary_cleaner.state.floatbank5_a_air  \\\n",
              "0                                      9.925633   \n",
              "1                                     10.039245   \n",
              "2                                     10.070913   \n",
              "3                                      9.970366   \n",
              "4                                      9.925709   \n",
              "...                                         ...   \n",
              "19434                                 18.006038   \n",
              "19435                                 17.998535   \n",
              "19436                                 18.019543   \n",
              "19437                                 17.979515   \n",
              "19438                                 17.963512   \n",
              "\n",
              "       secondary_cleaner.state.floatbank5_a_level  \\\n",
              "0                                     -498.310211   \n",
              "1                                     -500.169983   \n",
              "2                                     -500.129135   \n",
              "3                                     -499.201640   \n",
              "4                                     -501.686727   \n",
              "...                                           ...   \n",
              "19434                                 -499.834374   \n",
              "19435                                 -500.395178   \n",
              "19436                                 -500.451156   \n",
              "19437                                 -499.272871   \n",
              "19438                                 -499.939490   \n",
              "\n",
              "       secondary_cleaner.state.floatbank5_b_air  \\\n",
              "0                                      8.079666   \n",
              "1                                      7.984757   \n",
              "2                                      8.013877   \n",
              "3                                      7.977324   \n",
              "4                                      7.894242   \n",
              "...                                         ...   \n",
              "19434                                 13.001114   \n",
              "19435                                 12.954048   \n",
              "19436                                 13.023431   \n",
              "19437                                 12.992404   \n",
              "19438                                 12.990306   \n",
              "\n",
              "       secondary_cleaner.state.floatbank5_b_level  \\\n",
              "0                                     -500.470978   \n",
              "1                                     -500.582168   \n",
              "2                                     -500.517572   \n",
              "3                                     -500.255908   \n",
              "4                                     -500.356035   \n",
              "...                                           ...   \n",
              "19434                                 -500.155694   \n",
              "19435                                 -499.895163   \n",
              "19436                                 -499.914391   \n",
              "19437                                 -499.976268   \n",
              "19438                                 -500.080993   \n",
              "\n",
              "       secondary_cleaner.state.floatbank6_a_air  \\\n",
              "0                                     14.151341   \n",
              "1                                     13.998353   \n",
              "2                                     14.028663   \n",
              "3                                     14.005551   \n",
              "4                                     13.996647   \n",
              "...                                         ...   \n",
              "19434                                 20.007840   \n",
              "19435                                 19.968498   \n",
              "19436                                 19.990885   \n",
              "19437                                 20.013986   \n",
              "19438                                 19.990336   \n",
              "\n",
              "       secondary_cleaner.state.floatbank6_a_level  \n",
              "0                                     -605.841980  \n",
              "1                                     -599.787184  \n",
              "2                                     -601.427363  \n",
              "3                                     -599.996129  \n",
              "4                                     -601.496691  \n",
              "...                                           ...  \n",
              "19434                                 -501.296428  \n",
              "19435                                 -501.041608  \n",
              "19436                                 -501.518452  \n",
              "19437                                 -500.625471  \n",
              "19438                                 -499.191575  \n",
              "\n",
              "[19439 rows x 87 columns]"
            ]
          },
          "execution_count": 8,
          "metadata": {},
          "output_type": "execute_result"
        }
      ],
      "source": [
        "data_full"
      ]
    },
    {
      "cell_type": "markdown",
      "id": "2982818a",
      "metadata": {
        "id": "2982818a"
      },
      "source": [
        "В трех датафреймах представлены данные, которые уже поделены на тренировочную и тестовую выборки. Очень много данных, в датафрейме train нет части строк, в test - части столбцов."
      ]
    },
    {
      "cell_type": "markdown",
      "id": "009b6cec",
      "metadata": {
        "id": "009b6cec"
      },
      "source": [
        "### Эффективность обогащения"
      ]
    },
    {
      "cell_type": "markdown",
      "id": "32d3b7a6",
      "metadata": {
        "id": "32d3b7a6"
      },
      "source": [
        "Перед тем как изучать и выделять признаки я должен проверить, правильно ли рассчитана эффективность обогащения. По условию дана формула, найду элементы формулы в обучающем датафрейме.\n",
        "\n",
        "Изначальная формула рассчета процента эффективности обогащения:\n",
        "\n",
        "recovery = (C * (F - T)) / (F * (C - T)) * 100%\n",
        "\n",
        "где:\n",
        "\n",
        "• C — доля золота в концентрате после флотации/очистки;\n",
        "\n",
        "• F — доля золота в сырье/концентрате до флотации/очистки;\n",
        "\n",
        "• T — доля золота в отвальных хвостах после флотации/очистки.\n",
        "\n",
        "Найду данные значения в таблице data_train и создам функцию для расчета эффективности."
      ]
    },
    {
      "cell_type": "code",
      "execution_count": null,
      "id": "4cae9347",
      "metadata": {
        "scrolled": true,
        "id": "4cae9347",
        "outputId": "1bfb1f17-2ea4-42ee-9f15-e079ce917f64"
      },
      "outputs": [
        {
          "data": {
            "text/plain": [
              "Index(['date', 'final.output.concentrate_ag', 'final.output.concentrate_pb',\n",
              "       'final.output.concentrate_sol', 'final.output.concentrate_au',\n",
              "       'final.output.recovery', 'final.output.tail_ag', 'final.output.tail_pb',\n",
              "       'final.output.tail_sol', 'final.output.tail_au',\n",
              "       'primary_cleaner.input.sulfate', 'primary_cleaner.input.depressant',\n",
              "       'primary_cleaner.input.feed_size', 'primary_cleaner.input.xanthate',\n",
              "       'primary_cleaner.output.concentrate_ag',\n",
              "       'primary_cleaner.output.concentrate_pb',\n",
              "       'primary_cleaner.output.concentrate_sol',\n",
              "       'primary_cleaner.output.concentrate_au',\n",
              "       'primary_cleaner.output.tail_ag', 'primary_cleaner.output.tail_pb',\n",
              "       'primary_cleaner.output.tail_sol', 'primary_cleaner.output.tail_au',\n",
              "       'primary_cleaner.state.floatbank8_a_air',\n",
              "       'primary_cleaner.state.floatbank8_a_level',\n",
              "       'primary_cleaner.state.floatbank8_b_air',\n",
              "       'primary_cleaner.state.floatbank8_b_level',\n",
              "       'primary_cleaner.state.floatbank8_c_air',\n",
              "       'primary_cleaner.state.floatbank8_c_level',\n",
              "       'primary_cleaner.state.floatbank8_d_air',\n",
              "       'primary_cleaner.state.floatbank8_d_level',\n",
              "       'rougher.calculation.sulfate_to_au_concentrate',\n",
              "       'rougher.calculation.floatbank10_sulfate_to_au_feed',\n",
              "       'rougher.calculation.floatbank11_sulfate_to_au_feed',\n",
              "       'rougher.calculation.au_pb_ratio', 'rougher.input.feed_ag',\n",
              "       'rougher.input.feed_pb', 'rougher.input.feed_rate',\n",
              "       'rougher.input.feed_size', 'rougher.input.feed_sol',\n",
              "       'rougher.input.feed_au', 'rougher.input.floatbank10_sulfate',\n",
              "       'rougher.input.floatbank10_xanthate',\n",
              "       'rougher.input.floatbank11_sulfate',\n",
              "       'rougher.input.floatbank11_xanthate', 'rougher.output.concentrate_ag',\n",
              "       'rougher.output.concentrate_pb', 'rougher.output.concentrate_sol',\n",
              "       'rougher.output.concentrate_au', 'rougher.output.recovery',\n",
              "       'rougher.output.tail_ag', 'rougher.output.tail_pb',\n",
              "       'rougher.output.tail_sol', 'rougher.output.tail_au',\n",
              "       'rougher.state.floatbank10_a_air', 'rougher.state.floatbank10_a_level',\n",
              "       'rougher.state.floatbank10_b_air', 'rougher.state.floatbank10_b_level',\n",
              "       'rougher.state.floatbank10_c_air', 'rougher.state.floatbank10_c_level',\n",
              "       'rougher.state.floatbank10_d_air', 'rougher.state.floatbank10_d_level',\n",
              "       'rougher.state.floatbank10_e_air', 'rougher.state.floatbank10_e_level',\n",
              "       'rougher.state.floatbank10_f_air', 'rougher.state.floatbank10_f_level',\n",
              "       'secondary_cleaner.output.tail_ag', 'secondary_cleaner.output.tail_pb',\n",
              "       'secondary_cleaner.output.tail_sol', 'secondary_cleaner.output.tail_au',\n",
              "       'secondary_cleaner.state.floatbank2_a_air',\n",
              "       'secondary_cleaner.state.floatbank2_a_level',\n",
              "       'secondary_cleaner.state.floatbank2_b_air',\n",
              "       'secondary_cleaner.state.floatbank2_b_level',\n",
              "       'secondary_cleaner.state.floatbank3_a_air',\n",
              "       'secondary_cleaner.state.floatbank3_a_level',\n",
              "       'secondary_cleaner.state.floatbank3_b_air',\n",
              "       'secondary_cleaner.state.floatbank3_b_level',\n",
              "       'secondary_cleaner.state.floatbank4_a_air',\n",
              "       'secondary_cleaner.state.floatbank4_a_level',\n",
              "       'secondary_cleaner.state.floatbank4_b_air',\n",
              "       'secondary_cleaner.state.floatbank4_b_level',\n",
              "       'secondary_cleaner.state.floatbank5_a_air',\n",
              "       'secondary_cleaner.state.floatbank5_a_level',\n",
              "       'secondary_cleaner.state.floatbank5_b_air',\n",
              "       'secondary_cleaner.state.floatbank5_b_level',\n",
              "       'secondary_cleaner.state.floatbank6_a_air',\n",
              "       'secondary_cleaner.state.floatbank6_a_level'],\n",
              "      dtype='object')"
            ]
          },
          "execution_count": 9,
          "metadata": {},
          "output_type": "execute_result"
        }
      ],
      "source": [
        "data_train.columns"
      ]
    },
    {
      "cell_type": "code",
      "execution_count": null,
      "id": "0ff6cd29",
      "metadata": {
        "id": "0ff6cd29"
      },
      "outputs": [],
      "source": [
        "C = data_train['rougher.output.concentrate_au']\n",
        "F = data_train['rougher.input.feed_au']\n",
        "T = data_train['rougher.output.tail_au']"
      ]
    },
    {
      "cell_type": "code",
      "execution_count": null,
      "id": "4eae2a2a",
      "metadata": {
        "id": "4eae2a2a"
      },
      "outputs": [],
      "source": [
        "recovery_calculated = (C * (F - T)) / (F * (C - T)) * 100"
      ]
    },
    {
      "cell_type": "code",
      "execution_count": null,
      "id": "d57d94f3",
      "metadata": {
        "id": "d57d94f3"
      },
      "outputs": [],
      "source": [
        "recovery_target = data_train['rougher.output.recovery']"
      ]
    },
    {
      "cell_type": "code",
      "execution_count": null,
      "id": "d0140d09",
      "metadata": {
        "id": "d0140d09",
        "outputId": "cbb8d645-7eb9-4131-a924-14cd82b50bd0"
      },
      "outputs": [
        {
          "data": {
            "text/plain": [
              "9.73512347450521e-15"
            ]
          },
          "execution_count": 13,
          "metadata": {},
          "output_type": "execute_result"
        }
      ],
      "source": [
        "mse_recovery = mean_absolute_error(recovery_target, recovery_calculated)\n",
        "mse_recovery"
      ]
    },
    {
      "cell_type": "markdown",
      "id": "13b1e300",
      "metadata": {
        "id": "13b1e300"
      },
      "source": [
        "Ошибка очень маленькая, поэтому считаем, что эффективность обогащения рассчитана правильно."
      ]
    },
    {
      "cell_type": "markdown",
      "id": "4fa6823f",
      "metadata": {
        "id": "4fa6823f"
      },
      "source": [
        "Для удобства также создам функцию расчета эффективности обогащения:"
      ]
    },
    {
      "cell_type": "code",
      "execution_count": null,
      "id": "c2fdd7f4",
      "metadata": {
        "id": "c2fdd7f4"
      },
      "outputs": [],
      "source": [
        "def recovery(output_concentrate, input_feed, output_tail):\n",
        "    recovery = (output_concentrate * (input_feed - output_tail)) / (input_feed * (output_concentrate - output_tail)) * 100\n",
        "    return recovery"
      ]
    },
    {
      "cell_type": "markdown",
      "id": "dab0dda5",
      "metadata": {
        "id": "dab0dda5"
      },
      "source": [
        "### Добавление и удаление признаков"
      ]
    },
    {
      "cell_type": "markdown",
      "id": "6dfaa035",
      "metadata": {
        "id": "6dfaa035"
      },
      "source": [
        "В датафрейме data_test нет интересующих нас таргетных признаков: rougher.output.recovery (эффективность обогащения чернового концентрата) и final.output.recovery (эффективность обогащения финального концентрата). Добавлю эти столбцы из data_full, используя в качестве индексов даты. Сделаю в тестовой выборке индексами даты."
      ]
    },
    {
      "cell_type": "code",
      "execution_count": null,
      "id": "59a5e4c0",
      "metadata": {
        "id": "59a5e4c0"
      },
      "outputs": [],
      "source": [
        "data_test = data_test.set_index('date')\n",
        "data_train = data_train.set_index('date')"
      ]
    },
    {
      "cell_type": "code",
      "execution_count": null,
      "id": "c4cc064d",
      "metadata": {
        "id": "c4cc064d"
      },
      "outputs": [],
      "source": [
        "data_full_for_target = data_full.set_index('date')"
      ]
    },
    {
      "cell_type": "code",
      "execution_count": null,
      "id": "b49409ef",
      "metadata": {
        "id": "b49409ef"
      },
      "outputs": [],
      "source": [
        "data_test['rougher.output.recovery'] = data_full_for_target['rougher.output.recovery']\n",
        "data_test['final.output.recovery'] = data_full_for_target['final.output.recovery']"
      ]
    },
    {
      "cell_type": "markdown",
      "id": "6e8672b6",
      "metadata": {
        "id": "6e8672b6"
      },
      "source": [
        "В тестовой выборке содержится меньше столбцов, чем в тестовой, изучу отсутствующие в data_test признаки."
      ]
    },
    {
      "cell_type": "code",
      "execution_count": null,
      "id": "1f08714b",
      "metadata": {
        "id": "1f08714b",
        "outputId": "836f881c-ab00-4f25-98f9-f1fdaac1276c"
      },
      "outputs": [
        {
          "data": {
            "text/plain": [
              "Index(['final.output.concentrate_ag', 'final.output.concentrate_pb',\n",
              "       'final.output.concentrate_sol', 'final.output.concentrate_au',\n",
              "       'final.output.tail_ag', 'final.output.tail_pb', 'final.output.tail_sol',\n",
              "       'final.output.tail_au', 'primary_cleaner.output.concentrate_ag',\n",
              "       'primary_cleaner.output.concentrate_pb',\n",
              "       'primary_cleaner.output.concentrate_sol',\n",
              "       'primary_cleaner.output.concentrate_au',\n",
              "       'primary_cleaner.output.tail_ag', 'primary_cleaner.output.tail_pb',\n",
              "       'primary_cleaner.output.tail_sol', 'primary_cleaner.output.tail_au',\n",
              "       'rougher.calculation.sulfate_to_au_concentrate',\n",
              "       'rougher.calculation.floatbank10_sulfate_to_au_feed',\n",
              "       'rougher.calculation.floatbank11_sulfate_to_au_feed',\n",
              "       'rougher.calculation.au_pb_ratio', 'rougher.output.concentrate_ag',\n",
              "       'rougher.output.concentrate_pb', 'rougher.output.concentrate_sol',\n",
              "       'rougher.output.concentrate_au', 'rougher.output.tail_ag',\n",
              "       'rougher.output.tail_pb', 'rougher.output.tail_sol',\n",
              "       'rougher.output.tail_au', 'secondary_cleaner.output.tail_ag',\n",
              "       'secondary_cleaner.output.tail_pb', 'secondary_cleaner.output.tail_sol',\n",
              "       'secondary_cleaner.output.tail_au'],\n",
              "      dtype='object')"
            ]
          },
          "metadata": {},
          "output_type": "display_data"
        }
      ],
      "source": [
        "columns_test = data_test.columns\n",
        "display(data_train.drop(columns_test, axis=1).columns)"
      ]
    },
    {
      "cell_type": "markdown",
      "id": "50c37593",
      "metadata": {
        "id": "50c37593"
      },
      "source": [
        "В тестовой выборке содержатся признаки, касающиеся промежуточных этапов обработки руды, данные сырья, а в тестовой, соответственно, дополнительно содержатся столбцы с данными об обработанном продукте в черновом варианте или финальном. Предполагаю, что такие признаки отсутствуют в тестовой выборке по причине того, что использование данных именно продукта в качестве features может служить \"подсказкой\" для предсказания эффективности обогащения чернового и финального концентрата.\n",
        "Нам нужно, чтобы у модели не было \"подсказок\" в виде признаков, схожих с целевыми.\n",
        "\n",
        "Модель будет принимать в себя именно признаки из тестовой выборки, поэтому для обучения следует оставить в тренировочной только те признаки, которые есть в тестовой."
      ]
    },
    {
      "cell_type": "code",
      "execution_count": null,
      "id": "f76fff0b",
      "metadata": {
        "id": "f76fff0b"
      },
      "outputs": [],
      "source": [
        "data_train = data_train[columns_test]"
      ]
    },
    {
      "cell_type": "markdown",
      "id": "8521d410",
      "metadata": {
        "id": "8521d410"
      },
      "source": [
        "### Предобработка данных"
      ]
    },
    {
      "cell_type": "markdown",
      "id": "e650a76d",
      "metadata": {
        "id": "e650a76d"
      },
      "source": [
        "Проверю обучающую и тренировочную выборки на наличие пропусков, также проверю на наличие дубликатов."
      ]
    },
    {
      "cell_type": "code",
      "execution_count": null,
      "id": "1aaff842",
      "metadata": {
        "id": "1aaff842",
        "outputId": "1f51c4aa-57f2-4f56-c295-f01243354679"
      },
      "outputs": [
        {
          "data": {
            "text/plain": [
              "0"
            ]
          },
          "execution_count": 20,
          "metadata": {},
          "output_type": "execute_result"
        }
      ],
      "source": [
        "data_test.duplicated().sum()"
      ]
    },
    {
      "cell_type": "code",
      "execution_count": null,
      "id": "4c3d778a",
      "metadata": {
        "id": "4c3d778a",
        "outputId": "25eadeb4-2ac2-4db0-fbb8-9391860d07c5"
      },
      "outputs": [
        {
          "data": {
            "text/plain": [
              "0"
            ]
          },
          "execution_count": 21,
          "metadata": {},
          "output_type": "execute_result"
        }
      ],
      "source": [
        "data_train.duplicated().sum()"
      ]
    },
    {
      "cell_type": "markdown",
      "id": "d093f70f",
      "metadata": {
        "id": "d093f70f"
      },
      "source": [
        "Дубликатов не найдено."
      ]
    },
    {
      "cell_type": "code",
      "execution_count": null,
      "id": "9a41125a",
      "metadata": {
        "id": "9a41125a",
        "outputId": "fca06cd5-f20d-4b5c-cb2c-c24261a645b7"
      },
      "outputs": [
        {
          "data": {
            "text/plain": [
              "primary_cleaner.input.sulfate                  4\n",
              "primary_cleaner.input.depressant               5\n",
              "primary_cleaner.input.feed_size                0\n",
              "primary_cleaner.input.xanthate                 4\n",
              "primary_cleaner.state.floatbank8_a_air         0\n",
              "primary_cleaner.state.floatbank8_a_level       0\n",
              "primary_cleaner.state.floatbank8_b_air         0\n",
              "primary_cleaner.state.floatbank8_b_level       0\n",
              "primary_cleaner.state.floatbank8_c_air         0\n",
              "primary_cleaner.state.floatbank8_c_level       0\n",
              "primary_cleaner.state.floatbank8_d_air         0\n",
              "primary_cleaner.state.floatbank8_d_level       0\n",
              "rougher.input.feed_ag                          0\n",
              "rougher.input.feed_pb                          0\n",
              "rougher.input.feed_rate                        3\n",
              "rougher.input.feed_size                        1\n",
              "rougher.input.feed_sol                        21\n",
              "rougher.input.feed_au                          0\n",
              "rougher.input.floatbank10_sulfate              5\n",
              "rougher.input.floatbank10_xanthate             0\n",
              "rougher.input.floatbank11_sulfate              8\n",
              "rougher.input.floatbank11_xanthate            25\n",
              "rougher.state.floatbank10_a_air                0\n",
              "rougher.state.floatbank10_a_level              0\n",
              "rougher.state.floatbank10_b_air                0\n",
              "rougher.state.floatbank10_b_level              0\n",
              "rougher.state.floatbank10_c_air                0\n",
              "rougher.state.floatbank10_c_level              0\n",
              "rougher.state.floatbank10_d_air                0\n",
              "rougher.state.floatbank10_d_level              0\n",
              "rougher.state.floatbank10_e_air                0\n",
              "rougher.state.floatbank10_e_level              0\n",
              "rougher.state.floatbank10_f_air                0\n",
              "rougher.state.floatbank10_f_level              0\n",
              "secondary_cleaner.state.floatbank2_a_air       3\n",
              "secondary_cleaner.state.floatbank2_a_level     0\n",
              "secondary_cleaner.state.floatbank2_b_air       2\n",
              "secondary_cleaner.state.floatbank2_b_level     0\n",
              "secondary_cleaner.state.floatbank3_a_air       9\n",
              "secondary_cleaner.state.floatbank3_a_level     0\n",
              "secondary_cleaner.state.floatbank3_b_air       0\n",
              "secondary_cleaner.state.floatbank3_b_level     0\n",
              "secondary_cleaner.state.floatbank4_a_air       0\n",
              "secondary_cleaner.state.floatbank4_a_level     0\n",
              "secondary_cleaner.state.floatbank4_b_air       0\n",
              "secondary_cleaner.state.floatbank4_b_level     0\n",
              "secondary_cleaner.state.floatbank5_a_air       0\n",
              "secondary_cleaner.state.floatbank5_a_level     0\n",
              "secondary_cleaner.state.floatbank5_b_air       0\n",
              "secondary_cleaner.state.floatbank5_b_level     0\n",
              "secondary_cleaner.state.floatbank6_a_air       0\n",
              "secondary_cleaner.state.floatbank6_a_level     0\n",
              "rougher.output.recovery                        0\n",
              "final.output.recovery                          0\n",
              "dtype: int64"
            ]
          },
          "execution_count": 22,
          "metadata": {},
          "output_type": "execute_result"
        }
      ],
      "source": [
        "data_test.isna().sum()"
      ]
    },
    {
      "cell_type": "code",
      "execution_count": null,
      "id": "662e7413",
      "metadata": {
        "id": "662e7413",
        "outputId": "95023b2d-ac08-4933-e667-349ca61c26fe"
      },
      "outputs": [
        {
          "data": {
            "text/plain": [
              "primary_cleaner.input.sulfate                  20\n",
              "primary_cleaner.input.depressant               32\n",
              "primary_cleaner.input.feed_size                 0\n",
              "primary_cleaner.input.xanthate                100\n",
              "primary_cleaner.state.floatbank8_a_air          4\n",
              "primary_cleaner.state.floatbank8_a_level        1\n",
              "primary_cleaner.state.floatbank8_b_air          4\n",
              "primary_cleaner.state.floatbank8_b_level        1\n",
              "primary_cleaner.state.floatbank8_c_air          2\n",
              "primary_cleaner.state.floatbank8_c_level        1\n",
              "primary_cleaner.state.floatbank8_d_air          3\n",
              "primary_cleaner.state.floatbank8_d_level        1\n",
              "rougher.input.feed_ag                           0\n",
              "rougher.input.feed_pb                         100\n",
              "rougher.input.feed_rate                         8\n",
              "rougher.input.feed_size                       144\n",
              "rougher.input.feed_sol                         78\n",
              "rougher.input.feed_au                           0\n",
              "rougher.input.floatbank10_sulfate              29\n",
              "rougher.input.floatbank10_xanthate              8\n",
              "rougher.input.floatbank11_sulfate              36\n",
              "rougher.input.floatbank11_xanthate            428\n",
              "rougher.state.floatbank10_a_air                 1\n",
              "rougher.state.floatbank10_a_level               1\n",
              "rougher.state.floatbank10_b_air                 1\n",
              "rougher.state.floatbank10_b_level               1\n",
              "rougher.state.floatbank10_c_air                 1\n",
              "rougher.state.floatbank10_c_level               1\n",
              "rougher.state.floatbank10_d_air                 0\n",
              "rougher.state.floatbank10_d_level               0\n",
              "rougher.state.floatbank10_e_air               436\n",
              "rougher.state.floatbank10_e_level               0\n",
              "rougher.state.floatbank10_f_air                 0\n",
              "rougher.state.floatbank10_f_level               0\n",
              "secondary_cleaner.state.floatbank2_a_air      217\n",
              "secondary_cleaner.state.floatbank2_a_level      1\n",
              "secondary_cleaner.state.floatbank2_b_air       21\n",
              "secondary_cleaner.state.floatbank2_b_level      1\n",
              "secondary_cleaner.state.floatbank3_a_air        4\n",
              "secondary_cleaner.state.floatbank3_a_level      1\n",
              "secondary_cleaner.state.floatbank3_b_air        1\n",
              "secondary_cleaner.state.floatbank3_b_level      1\n",
              "secondary_cleaner.state.floatbank4_a_air        6\n",
              "secondary_cleaner.state.floatbank4_a_level      1\n",
              "secondary_cleaner.state.floatbank4_b_air        1\n",
              "secondary_cleaner.state.floatbank4_b_level      1\n",
              "secondary_cleaner.state.floatbank5_a_air        1\n",
              "secondary_cleaner.state.floatbank5_a_level      1\n",
              "secondary_cleaner.state.floatbank5_b_air        1\n",
              "secondary_cleaner.state.floatbank5_b_level      1\n",
              "secondary_cleaner.state.floatbank6_a_air        2\n",
              "secondary_cleaner.state.floatbank6_a_level      1\n",
              "rougher.output.recovery                         0\n",
              "final.output.recovery                           0\n",
              "dtype: int64"
            ]
          },
          "execution_count": 23,
          "metadata": {},
          "output_type": "execute_result"
        }
      ],
      "source": [
        "data_train.isna().sum()"
      ]
    },
    {
      "cell_type": "markdown",
      "id": "6d9eb414",
      "metadata": {
        "id": "6d9eb414"
      },
      "source": [
        "Соседние по времени параметры часто похожи, пэтому заменю пропуски на соседние по дате (индексу) значения."
      ]
    },
    {
      "cell_type": "code",
      "execution_count": null,
      "id": "77764118",
      "metadata": {
        "id": "77764118"
      },
      "outputs": [],
      "source": [
        "data_train = data_train.fillna(method='ffill')\n",
        "data_test = data_test.fillna(method='ffill')"
      ]
    },
    {
      "cell_type": "markdown",
      "id": "dc55d204",
      "metadata": {
        "id": "dc55d204"
      },
      "source": [
        "## Исследовательский анализ"
      ]
    },
    {
      "cell_type": "markdown",
      "id": "b543b31f",
      "metadata": {
        "id": "b543b31f"
      },
      "source": [
        "### Концентрация металлов"
      ]
    },
    {
      "cell_type": "markdown",
      "id": "8929698c",
      "metadata": {
        "id": "8929698c"
      },
      "source": [
        "Рассмотрю, как меняется концентрация золота, серебра и свинца (Au, Ag, Pb) на различных этапах очистки. Таких основных этапов 3: после флотации, первая очистка, вторая очистка. Возьму соответсвенные столбцы с output.concentrate для каждого метала и каждой стадии очистки. Отражу на графиках также сырье металлов (столбцы с input) в качесте предварительного этапа."
      ]
    },
    {
      "cell_type": "code",
      "execution_count": null,
      "id": "97f30ebf",
      "metadata": {
        "id": "97f30ebf"
      },
      "outputs": [],
      "source": [
        "au_concentrate = data_full[['final.output.concentrate_au', 'primary_cleaner.output.concentrate_au', 'rougher.output.concentrate_au', 'rougher.input.feed_au']]\n",
        "ag_concentrate = data_full[['final.output.concentrate_ag', 'primary_cleaner.output.concentrate_ag', 'rougher.output.concentrate_ag', 'rougher.input.feed_ag']]\n",
        "pb_concentrate = data_full[['final.output.concentrate_pb', 'primary_cleaner.output.concentrate_pb', 'rougher.output.concentrate_pb', 'rougher.input.feed_pb']]"
      ]
    },
    {
      "cell_type": "code",
      "execution_count": null,
      "id": "8a787b0b",
      "metadata": {
        "id": "8a787b0b",
        "outputId": "a4ff34f8-db85-4b1c-d285-f366f3b8b9c5"
      },
      "outputs": [
        {
          "data": {
            "text/plain": [
              "<AxesSubplot:ylabel='Count'>"
            ]
          },
          "execution_count": 26,
          "metadata": {},
          "output_type": "execute_result"
        },
        {
          "data": {
            "image/png": "[encoded data removed]",
            "text/plain": [
              "<Figure size 864x576 with 1 Axes>"
            ]
          },
          "metadata": {
            "needs_background": "light"
          },
          "output_type": "display_data"
        }
      ],
      "source": [
        "plt.figure(figsize=(12,8))\n",
        "sns.histplot(au_concentrate, element='poly')"
      ]
    },
    {
      "cell_type": "code",
      "execution_count": null,
      "id": "7241f2f4",
      "metadata": {
        "id": "7241f2f4",
        "outputId": "f603b341-2e97-4613-d8e3-7a0be5f0bd7a"
      },
      "outputs": [
        {
          "data": {
            "text/plain": [
              "<AxesSubplot:ylabel='Count'>"
            ]
          },
          "execution_count": 27,
          "metadata": {},
          "output_type": "execute_result"
        },
        {
          "data": {
            "image/png": "[encoded data removed]",
            "text/plain": [
              "<Figure size 864x576 with 1 Axes>"
            ]
          },
          "metadata": {
            "needs_background": "light"
          },
          "output_type": "display_data"
        }
      ],
      "source": [
        "plt.figure(figsize=(12,8))\n",
        "sns.histplot(ag_concentrate, element='poly')"
      ]
    },
    {
      "cell_type": "code",
      "execution_count": null,
      "id": "51900679",
      "metadata": {
        "id": "51900679",
        "outputId": "fdfb65da-2faf-439c-f022-00c5bbde3c86"
      },
      "outputs": [
        {
          "data": {
            "text/plain": [
              "<AxesSubplot:ylabel='Count'>"
            ]
          },
          "execution_count": 28,
          "metadata": {},
          "output_type": "execute_result"
        },
        {
          "data": {
            "image/png": "[encoded data removed]",
            "text/plain": [
              "<Figure size 864x576 with 1 Axes>"
            ]
          },
          "metadata": {
            "needs_background": "light"
          },
          "output_type": "display_data"
        }
      ],
      "source": [
        "plt.figure(figsize=(12,8))\n",
        "sns.histplot(pb_concentrate, element='poly')"
      ]
    },
    {
      "cell_type": "markdown",
      "id": "57258ba3",
      "metadata": {
        "id": "57258ba3"
      },
      "source": [
        "Распределения концентрации каждого металла после очистки являются нормальными, но стоит отметить несколько особенностей. Сильное повышение концентрата с каждым этапом очистки наблюдается у золота, у серебра концентрация наоборот уменьшается к финальному варианту, а повышается только при переходе от сырья к концентрату после флотации. У свинца показатель концентрации повышается после этапов, но не так резко, т.е у свинца показатель концентрации после первой очистки почти не отличается от концентрации в финальном виде."
      ]
    },
    {
      "cell_type": "markdown",
      "id": "5808a4e6",
      "metadata": {
        "id": "5808a4e6"
      },
      "source": [
        "### Распределения размеров гранул сырья"
      ]
    },
    {
      "cell_type": "markdown",
      "id": "2280d641",
      "metadata": {
        "id": "2280d641"
      },
      "source": [
        "Сравню распределения размеров гранул сырья на обучающей и тестовой выборках. В датафреймах они обозначаются как feed size."
      ]
    },
    {
      "cell_type": "code",
      "execution_count": null,
      "id": "0732ef7c",
      "metadata": {
        "id": "0732ef7c"
      },
      "outputs": [],
      "source": [
        "feed_size_test = data_test[['rougher.input.feed_size', 'primary_cleaner.input.feed_size']]\n",
        "feed_size_train = data_train[['rougher.input.feed_size', 'primary_cleaner.input.feed_size']]"
      ]
    },
    {
      "cell_type": "code",
      "execution_count": null,
      "id": "b6ebec35",
      "metadata": {
        "id": "b6ebec35",
        "outputId": "4445db01-d69b-403b-f3bb-420c870d14bd"
      },
      "outputs": [
        {
          "data": {
            "text/plain": [
              "<AxesSubplot:ylabel='Density'>"
            ]
          },
          "execution_count": 30,
          "metadata": {},
          "output_type": "execute_result"
        },
        {
          "data": {
            "image/png": "[encoded data removed]",
            "text/plain": [
              "<Figure size 864x576 with 1 Axes>"
            ]
          },
          "metadata": {
            "needs_background": "light"
          },
          "output_type": "display_data"
        }
      ],
      "source": [
        "plt.figure(figsize=(12,8))\n",
        "sns.distplot(feed_size_test)"
      ]
    },
    {
      "cell_type": "code",
      "execution_count": null,
      "id": "e9029f4b",
      "metadata": {
        "id": "e9029f4b",
        "outputId": "8f5078b3-fa4a-4bf9-a4f2-3cd26b5329a3"
      },
      "outputs": [
        {
          "data": {
            "text/plain": [
              "<AxesSubplot:ylabel='Density'>"
            ]
          },
          "execution_count": 31,
          "metadata": {},
          "output_type": "execute_result"
        },
        {
          "data": {
            "image/png": "[encoded data removed]",
            "text/plain": [
              "<Figure size 864x576 with 1 Axes>"
            ]
          },
          "metadata": {
            "needs_background": "light"
          },
          "output_type": "display_data"
        }
      ],
      "source": [
        "plt.figure(figsize=(12,8))\n",
        "sns.distplot(feed_size_train)"
      ]
    },
    {
      "cell_type": "markdown",
      "id": "655ef0ba",
      "metadata": {
        "id": "655ef0ba"
      },
      "source": [
        "Можем отметить, что в размерах гранул сырья есть большие выбросы в обоих датасетах, также отметим что после флотации размер гранул сильно уменьшается. Тем не менее распределения двух датасетов похожи: резкий пик в области 0-10 у сырья до первой очистки и нормальное распределение размера гранул вокруг 50 до флотации. Также стоит отметить, что распределение сырья до флотации смещено вправо."
      ]
    },
    {
      "cell_type": "markdown",
      "id": "9da61465",
      "metadata": {
        "id": "9da61465"
      },
      "source": [
        "### Сумарная концентрация веществ"
      ]
    },
    {
      "cell_type": "markdown",
      "id": "3daa8fe5",
      "metadata": {
        "id": "3daa8fe5"
      },
      "source": [
        "Исследую суммарную концентрацию всех веществ на стадиях сырья(rougher.input), в черновом(rougher.output) и финальном концентратах (final.output). Проверю по гистограммам на наличие выбросов в данных."
      ]
    },
    {
      "cell_type": "code",
      "execution_count": null,
      "id": "ec764667",
      "metadata": {
        "id": "ec764667"
      },
      "outputs": [],
      "source": [
        "concentrate_all_feed = data_full[['rougher.input.feed_ag', 'rougher.input.feed_pb', 'rougher.input.feed_sol', 'rougher.input.feed_au']].sum(axis=1)\n",
        "concentrate_all_rougher = data_full[['rougher.output.concentrate_ag', 'rougher.output.concentrate_pb', 'rougher.output.concentrate_sol', 'rougher.output.concentrate_au']].sum(axis=1)\n",
        "concentrate_all_final = data_full[['final.output.concentrate_ag', 'final.output.concentrate_pb', 'final.output.concentrate_sol', 'final.output.concentrate_au']].sum(axis=1)"
      ]
    },
    {
      "cell_type": "code",
      "execution_count": null,
      "id": "4572d5a7",
      "metadata": {
        "id": "4572d5a7",
        "outputId": "123b9eb0-0c26-449b-fe66-9bb89a9d0140"
      },
      "outputs": [
        {
          "data": {
            "text/plain": [
              "<AxesSubplot:ylabel='Count'>"
            ]
          },
          "execution_count": 33,
          "metadata": {},
          "output_type": "execute_result"
        },
        {
          "data": {
            "image/png": "[encoded data removed]",
            "text/plain": [
              "<Figure size 864x576 with 1 Axes>"
            ]
          },
          "metadata": {
            "needs_background": "light"
          },
          "output_type": "display_data"
        }
      ],
      "source": [
        "plt.figure(figsize=(12,8))\n",
        "sns.histplot(concentrate_all_feed, element='poly')"
      ]
    },
    {
      "cell_type": "code",
      "execution_count": null,
      "id": "42dc068b",
      "metadata": {
        "id": "42dc068b",
        "outputId": "a518022d-7bc1-4397-935c-e650520a38c3"
      },
      "outputs": [
        {
          "data": {
            "text/plain": [
              "<AxesSubplot:ylabel='Count'>"
            ]
          },
          "execution_count": 34,
          "metadata": {},
          "output_type": "execute_result"
        },
        {
          "data": {
            "image/png": "[encoded data removed]",
            "text/plain": [
              "<Figure size 864x576 with 1 Axes>"
            ]
          },
          "metadata": {
            "needs_background": "light"
          },
          "output_type": "display_data"
        }
      ],
      "source": [
        "plt.figure(figsize=(12,8))\n",
        "sns.histplot(concentrate_all_rougher, element='poly')"
      ]
    },
    {
      "cell_type": "code",
      "execution_count": null,
      "id": "b1bc7aa6",
      "metadata": {
        "scrolled": false,
        "id": "b1bc7aa6",
        "outputId": "2fd2b092-a3d9-422f-d9ec-e86080001032"
      },
      "outputs": [
        {
          "data": {
            "text/plain": [
              "<AxesSubplot:ylabel='Count'>"
            ]
          },
          "execution_count": 35,
          "metadata": {},
          "output_type": "execute_result"
        },
        {
          "data": {
            "image/png": "[encoded data removed]",
            "text/plain": [
              "<Figure size 864x576 with 1 Axes>"
            ]
          },
          "metadata": {
            "needs_background": "light"
          },
          "output_type": "display_data"
        }
      ],
      "source": [
        "plt.figure(figsize=(12,8))\n",
        "sns.histplot(concentrate_all_final, element='poly')"
      ]
    },
    {
      "cell_type": "markdown",
      "id": "ab8fa92c",
      "metadata": {
        "id": "ab8fa92c"
      },
      "source": [
        "На этапе после флотации есть пик в районе нулевого значения концентрации, также есть некоторое количество околонулевых значений в гистограмме финальной концентрации веществ. Удалю выбросы, т.е. удалю значения концентрации меньше 2 единиц. Применю удаление аномалий для полной выборки."
      ]
    },
    {
      "cell_type": "code",
      "execution_count": null,
      "id": "17bffc07",
      "metadata": {
        "id": "17bffc07"
      },
      "outputs": [],
      "source": [
        "#data_full = data_full.query('`rougher.input.feed_ag` > 1')\n",
        "#data_full = data_full.query('`rougher.input.feed_pb` > 1')\n",
        "#data_full = data_full.query('`rougher.input.feed_sol` > 1')\n",
        "#data_full = data_full.query('`rougher.input.feed_au` > 1')\n",
        "#data_full = data_full.query('`rougher.output.concentrate_ag` > 1')\n",
        "#data_full = data_full.query('`rougher.output.concentrate_pb` > 1')\n",
        "#data_full = data_full.query('`rougher.output.concentrate_sol` > 1')\n",
        "#data_full = data_full.query('`rougher.output.concentrate_au` > 1')\n",
        "#data_full = data_full.query('`final.output.concentrate_ag` > 1')\n",
        "#data_full = data_full.query('`final.output.concentrate_pb` > 1')\n",
        "#data_full = data_full.query('`final.output.concentrate_sol` > 1')\n",
        "#data_full = data_full.query('`final.output.concentrate_au` > 1')"
      ]
    },
    {
      "cell_type": "code",
      "execution_count": null,
      "id": "4f53aaa6",
      "metadata": {
        "id": "4f53aaa6"
      },
      "outputs": [],
      "source": [
        "sub = [concentrate_all_feed, concentrate_all_rougher, concentrate_all_final]\n",
        "for i in sub:\n",
        "    data_full = data_full.query('@i > 1')"
      ]
    },
    {
      "cell_type": "markdown",
      "id": "ee53294a",
      "metadata": {
        "id": "ee53294a"
      },
      "source": [
        "Я удалил выбросы из data_full, но для дальнейшего обучения модели нас интересует data_train. Найду аномальные строки в data_train путем присвоение датафрейму data_full индексов по столбцу date, как это было сделано ранее для data_train. Затем удалю аномалии из data_train."
      ]
    },
    {
      "cell_type": "code",
      "execution_count": null,
      "id": "269278fb",
      "metadata": {
        "id": "269278fb"
      },
      "outputs": [],
      "source": [
        "data_full = data_full.set_index('date')\n",
        "data_train = data_train[data_train.index.isin(data_full.index)]"
      ]
    },
    {
      "cell_type": "markdown",
      "id": "c5ad3802",
      "metadata": {
        "id": "c5ad3802"
      },
      "source": [
        "## Построение модели"
      ]
    },
    {
      "cell_type": "markdown",
      "id": "fb6ca07c",
      "metadata": {
        "id": "fb6ca07c"
      },
      "source": [
        "### Функция sMAPE"
      ]
    },
    {
      "cell_type": "markdown",
      "id": "e382e221",
      "metadata": {
        "id": "e382e221"
      },
      "source": [
        "Прежде,чем построить модель построю функцию для расчета метрики качества sMAPE (Symmetric Mean Absolute Percentage Error) для оценки модели предсказания коэффициента восстановления золота из золотосодержащей руды "
      ]
    },
    {
      "cell_type": "code",
      "execution_count": null,
      "id": "b56c1f70",
      "metadata": {
        "id": "b56c1f70"
      },
      "outputs": [],
      "source": [
        "def smape (target, prediction):\n",
        "    error = np.abs(target - prediction)\n",
        "    scale = (np.abs(target) + np.abs(prediction)) / 2\n",
        "    return (error / scale).mean() * 100"
      ]
    },
    {
      "cell_type": "code",
      "execution_count": null,
      "id": "2b80e10c",
      "metadata": {
        "id": "2b80e10c"
      },
      "outputs": [],
      "source": [
        "def final_smape(smape_rougher, smape_final):\n",
        "    return .25 * smape_rougher + .75 * smape_final"
      ]
    },
    {
      "cell_type": "markdown",
      "id": "bd83beae",
      "metadata": {
        "id": "bd83beae"
      },
      "source": [
        "Сначала функция  дает оценку по одному виду предсказания, но у нас два целевых признака, поэтому в функции final_smape мы выводим окончательную оценку, отражающую эффективность обогащения как чернового концентрата (rougher), так и финального (final)"
      ]
    },
    {
      "cell_type": "markdown",
      "id": "5415260e",
      "metadata": {
        "id": "5415260e"
      },
      "source": [
        "Для того, чтобы при проведении в дальнейшем кросс-валидации моделей использовать не дефолтную оценку, а оценку функцией, которую мы создали и  используем для нашей конкретной задачи (sMAPE), создам такую кастомную метрику с помощью make_scorer, для параметра greater_is_better установлю False, мы ищем модель, при которой ошибка будет меньше."
      ]
    },
    {
      "cell_type": "code",
      "execution_count": null,
      "id": "546b7381",
      "metadata": {
        "id": "546b7381"
      },
      "outputs": [],
      "source": [
        "smape_score = make_scorer(smape, greater_is_better=False)"
      ]
    },
    {
      "cell_type": "markdown",
      "id": "478df749",
      "metadata": {
        "id": "478df749"
      },
      "source": [
        "### Выбор лучшей модели регрессии"
      ]
    },
    {
      "cell_type": "markdown",
      "id": "2d3e2f25",
      "metadata": {
        "id": "2d3e2f25"
      },
      "source": [
        "Перед началом обучения проведу деление выборок на признаки. Учитываю, что у меня два целевых признака: rougher.output.recovery, final.output.recovery."
      ]
    },
    {
      "cell_type": "code",
      "execution_count": null,
      "id": "2f90eba0",
      "metadata": {
        "id": "2f90eba0"
      },
      "outputs": [],
      "source": [
        "targets = ['rougher.output.recovery', 'final.output.recovery']\n",
        "features = data_test.columns.values"
      ]
    },
    {
      "cell_type": "code",
      "execution_count": null,
      "id": "06cda266",
      "metadata": {
        "id": "06cda266"
      },
      "outputs": [],
      "source": [
        "target_train = data_train[targets].reset_index(drop=True)\n",
        "features_train = data_train[features].reset_index(drop=True)"
      ]
    },
    {
      "cell_type": "code",
      "execution_count": null,
      "id": "0147cbe6",
      "metadata": {
        "id": "0147cbe6"
      },
      "outputs": [],
      "source": [
        "features_train = features_train.drop(['rougher.output.recovery'],axis = 1)\n",
        "features_train = features_train.drop(['final.output.recovery'],axis = 1)"
      ]
    },
    {
      "cell_type": "code",
      "execution_count": null,
      "id": "fa86857e",
      "metadata": {
        "id": "fa86857e"
      },
      "outputs": [],
      "source": [
        "target_test = data_test[targets].reset_index(drop=True)\n",
        "features_test = data_test.drop(['rougher.output.recovery'], axis=1)\n",
        "features_test = features_test.drop(['final.output.recovery'], axis=1)"
      ]
    },
    {
      "cell_type": "code",
      "execution_count": null,
      "id": "60600df1",
      "metadata": {
        "id": "60600df1"
      },
      "outputs": [],
      "source": [
        "target_train_rougher = target_train['rougher.output.recovery']\n",
        "target_train_final = target_train['final.output.recovery']"
      ]
    },
    {
      "cell_type": "code",
      "execution_count": null,
      "id": "7ff59091",
      "metadata": {
        "id": "7ff59091"
      },
      "outputs": [],
      "source": [
        "target_test_rougher = target_test['rougher.output.recovery']\n",
        "target_test_final = target_test['final.output.recovery']"
      ]
    },
    {
      "cell_type": "markdown",
      "id": "733baf6f",
      "metadata": {
        "id": "733baf6f"
      },
      "source": [
        "Теперь с помощью GridSearchCV построю несколько моделей (регрессия решающего дерева (DecisionTreeRegressor), регрессия случайного леса (RandomForestRegressor) и линейная регрессия (LinearRegression)), проделаю несколько шагов:\n",
        "\n",
        "    1.Введу диапазон гиперпараметров для моделей\n",
        "    2.Зафиксирую random_state\n",
        "    3.Передам GridSearchCV модель для нахождения оптимальных гиперпараметров\n",
        "    4.Проведу кросс-валидацию на трех блоках и передам в нее сразу функцию smape в качестве метрики\n",
        "    5.Вычислю с помощью функции final_smape итоговый показатель метрики каждой модели\n",
        "    6.Сравню метрику с константной моделью"
      ]
    },
    {
      "cell_type": "markdown",
      "id": "91c073af",
      "metadata": {
        "id": "91c073af"
      },
      "source": [
        "#### DecisionTreeRegressor"
      ]
    },
    {
      "cell_type": "code",
      "execution_count": null,
      "id": "245adb86",
      "metadata": {
        "id": "245adb86"
      },
      "outputs": [],
      "source": [
        "param_1 = {'min_samples_split': range(2, 6, 2), 'max_depth': range(2, 6, 2), 'min_samples_leaf': range(1, 4, 1)}\n",
        "state = np.random.RandomState(123)"
      ]
    },
    {
      "cell_type": "code",
      "execution_count": null,
      "id": "5be527ab",
      "metadata": {
        "id": "5be527ab",
        "outputId": "a29d4b75-0b06-4ec2-9ee6-e32189ff1fab"
      },
      "outputs": [
        {
          "name": "stdout",
          "output_type": "stream",
          "text": [
            "Лучшие параметры Регрессия решающего дерева для rougher {'max_depth': 4, 'min_samples_leaf': 3, 'min_samples_split': 2}\n"
          ]
        }
      ],
      "source": [
        "grid = GridSearchCV(DecisionTreeRegressor(random_state=state), param_1, scoring=smape_score, cv=5, n_jobs=-1)\n",
        "grid.fit(features_train, target_train_rougher)\n",
        "print('Лучшие параметры Регрессия решающего дерева для rougher', grid.best_params_)"
      ]
    },
    {
      "cell_type": "code",
      "execution_count": null,
      "id": "bf1076f0",
      "metadata": {
        "id": "bf1076f0",
        "outputId": "93357611-3ca9-4095-869e-07f323a7da1d"
      },
      "outputs": [
        {
          "name": "stdout",
          "output_type": "stream",
          "text": [
            "Оценка Регрессии решающего дерева для rougher 7.430287586127744\n"
          ]
        }
      ],
      "source": [
        "dtr_rougher_score = -grid.best_score_\n",
        "print('Оценка Регрессии решающего дерева для rougher', dtr_rougher_score)"
      ]
    },
    {
      "cell_type": "markdown",
      "id": "dcc7b622",
      "metadata": {
        "id": "dcc7b622"
      },
      "source": [
        "Сделали для целевого признака rougher.output.recovery, теперь для final.output.recovery:"
      ]
    },
    {
      "cell_type": "code",
      "execution_count": null,
      "id": "2d209755",
      "metadata": {
        "id": "2d209755",
        "outputId": "e9178e18-6dbf-4cba-b8dc-5d7ef1b8ae34"
      },
      "outputs": [
        {
          "name": "stdout",
          "output_type": "stream",
          "text": [
            "Лучшие параметры Регрессия решающего дерева для final {'max_depth': 2, 'min_samples_leaf': 1, 'min_samples_split': 2}\n"
          ]
        }
      ],
      "source": [
        "grid = GridSearchCV(DecisionTreeRegressor(random_state=state), param_1, scoring=smape_score, cv=5, n_jobs=-1)\n",
        "grid.fit(features_train, target_train_final)\n",
        "print('Лучшие параметры Регрессия решающего дерева для final', grid.best_params_)"
      ]
    },
    {
      "cell_type": "code",
      "execution_count": null,
      "id": "cdb2bb36",
      "metadata": {
        "id": "cdb2bb36",
        "outputId": "2fe2a3ae-4fac-4bdd-a927-538eb254fd40"
      },
      "outputs": [
        {
          "name": "stdout",
          "output_type": "stream",
          "text": [
            "Оценка Регрессии решающего дерева для final 9.3611043426731\n"
          ]
        }
      ],
      "source": [
        "dtr_final_score = -grid.best_score_\n",
        "print('Оценка Регрессии решающего дерева для final', dtr_final_score)"
      ]
    },
    {
      "cell_type": "code",
      "execution_count": null,
      "id": "1b0a1432",
      "metadata": {
        "id": "1b0a1432",
        "outputId": "65d5cd57-6e3b-43c6-955d-02a557026f3a"
      },
      "outputs": [
        {
          "name": "stdout",
          "output_type": "stream",
          "text": [
            "Финальная sMAPE для для модели Регрессии решающего дерева = 8.878400153536761\n"
          ]
        }
      ],
      "source": [
        "dtr_final_smape = final_smape(dtr_rougher_score, dtr_final_score)\n",
        "print('Финальная sMAPE для для модели Регрессии решающего дерева =', dtr_final_smape)"
      ]
    },
    {
      "cell_type": "markdown",
      "id": "39963858",
      "metadata": {
        "id": "39963858"
      },
      "source": [
        "#### RandomForestRegressor"
      ]
    },
    {
      "cell_type": "code",
      "execution_count": null,
      "id": "de91c2c3",
      "metadata": {
        "id": "de91c2c3"
      },
      "outputs": [],
      "source": [
        "param_2 = {'n_estimators' : range(100, 131, 10), 'min_samples_split': range(2, 4, 2), 'max_depth': range(2, 4, 2), 'min_samples_leaf': range(2, 4, 2)}"
      ]
    },
    {
      "cell_type": "code",
      "execution_count": null,
      "id": "b0e8242b",
      "metadata": {
        "id": "b0e8242b",
        "outputId": "5249b6fd-af1d-4407-8815-a76ab5b8c256"
      },
      "outputs": [
        {
          "name": "stdout",
          "output_type": "stream",
          "text": [
            "Лучшие параметры Регрессия случайного леса для rougher {'max_depth': 2, 'min_samples_leaf': 2, 'min_samples_split': 2, 'n_estimators': 100}\n"
          ]
        }
      ],
      "source": [
        "grid = GridSearchCV(RandomForestRegressor(random_state=state), param_2, scoring=smape_score, cv=5, n_jobs=-1)\n",
        "grid.fit(features_train, target_train_rougher)\n",
        "print('Лучшие параметры Регрессия случайного леса для rougher', grid.best_params_)"
      ]
    },
    {
      "cell_type": "code",
      "execution_count": null,
      "id": "4da6750f",
      "metadata": {
        "id": "4da6750f",
        "outputId": "3d3e335c-c9e0-4cc2-82fe-f897264265c8"
      },
      "outputs": [
        {
          "name": "stdout",
          "output_type": "stream",
          "text": [
            "Оценка Регрессии случайного леса для rougher 7.165162211469837\n"
          ]
        }
      ],
      "source": [
        "rfr_rougher_score = -grid.best_score_\n",
        "print('Оценка Регрессии случайного леса для rougher', rfr_rougher_score)"
      ]
    },
    {
      "cell_type": "code",
      "execution_count": null,
      "id": "0b5df6a7",
      "metadata": {
        "id": "0b5df6a7",
        "outputId": "8d8b2fd5-1353-41c5-a7d8-0f4fc11ee841"
      },
      "outputs": [
        {
          "name": "stdout",
          "output_type": "stream",
          "text": [
            "Лучшие параметры Регрессия случайного леса для final {'max_depth': 2, 'min_samples_leaf': 2, 'min_samples_split': 2, 'n_estimators': 100}\n"
          ]
        }
      ],
      "source": [
        "grid = GridSearchCV(RandomForestRegressor(random_state=state), param_2, scoring=smape_score, cv=5, n_jobs=-1)\n",
        "grid.fit(features_train, target_train_final)\n",
        "print('Лучшие параметры Регрессия случайного леса для final', grid.best_params_)"
      ]
    },
    {
      "cell_type": "code",
      "execution_count": null,
      "id": "b6e04adc",
      "metadata": {
        "id": "b6e04adc",
        "outputId": "0a4fba29-3d22-4307-c5f7-ea8c0ea626e8"
      },
      "outputs": [
        {
          "name": "stdout",
          "output_type": "stream",
          "text": [
            "Оценка Регрессии случайного леса для final 9.190096899093959\n"
          ]
        }
      ],
      "source": [
        "rfr_final_score = -grid.best_score_\n",
        "print('Оценка Регрессии случайного леса для final', rfr_final_score)"
      ]
    },
    {
      "cell_type": "code",
      "execution_count": null,
      "id": "68bdcabd",
      "metadata": {
        "id": "68bdcabd",
        "outputId": "a7eb7479-e44f-4c67-df3f-a068a1145737"
      },
      "outputs": [
        {
          "name": "stdout",
          "output_type": "stream",
          "text": [
            "Финальная sMAPE для для модели Регрессии случайного леса = 8.683863227187928\n"
          ]
        }
      ],
      "source": [
        "rfr_final_smape = final_smape(rfr_rougher_score, rfr_final_score)\n",
        "print('Финальная sMAPE для для модели Регрессии случайного леса =', rfr_final_smape)"
      ]
    },
    {
      "cell_type": "markdown",
      "id": "335f9daf",
      "metadata": {
        "id": "335f9daf"
      },
      "source": [
        "#### LinearRegression"
      ]
    },
    {
      "cell_type": "code",
      "execution_count": null,
      "id": "3e4851a1",
      "metadata": {
        "id": "3e4851a1"
      },
      "outputs": [],
      "source": [
        "param_3 = {'fit_intercept' : range(0,1)}"
      ]
    },
    {
      "cell_type": "code",
      "execution_count": null,
      "id": "a6bbe616",
      "metadata": {
        "id": "a6bbe616",
        "outputId": "279ff3f6-71a8-48a2-aad6-0050ce2d7fca"
      },
      "outputs": [
        {
          "name": "stdout",
          "output_type": "stream",
          "text": [
            "Лучшие параметры Линейная регрессия для rougher {'fit_intercept': 0}\n"
          ]
        }
      ],
      "source": [
        "grid = GridSearchCV(LinearRegression(), param_3, scoring=smape_score, n_jobs = -1, cv=5)\n",
        "grid.fit(features_train, target_train_rougher)\n",
        "print('Лучшие параметры Линейная регрессия для rougher', grid.best_params_)"
      ]
    },
    {
      "cell_type": "code",
      "execution_count": null,
      "id": "846c7d52",
      "metadata": {
        "id": "846c7d52",
        "outputId": "a1fa8f3d-5dd5-43e3-f6cc-182c1aec1cc5"
      },
      "outputs": [
        {
          "name": "stdout",
          "output_type": "stream",
          "text": [
            "Оценка Линейная регрессия для rougher 7.688828092832717\n"
          ]
        }
      ],
      "source": [
        "lr_rougher_score = -grid.best_score_\n",
        "print('Оценка Линейная регрессия для rougher', lr_rougher_score)"
      ]
    },
    {
      "cell_type": "code",
      "execution_count": null,
      "id": "be450954",
      "metadata": {
        "id": "be450954",
        "outputId": "68f13450-888e-486c-d305-812417fc9b2c"
      },
      "outputs": [
        {
          "name": "stdout",
          "output_type": "stream",
          "text": [
            "Лучшие параметры Линейная регрессия для final {'fit_intercept': 0}\n"
          ]
        }
      ],
      "source": [
        "grid = GridSearchCV(LinearRegression(), param_3, scoring=smape_score, n_jobs = -1, cv=5,)\n",
        "grid.fit(features_train, target_train_final)\n",
        "print('Лучшие параметры Линейная регрессия для final', grid.best_params_)"
      ]
    },
    {
      "cell_type": "code",
      "execution_count": null,
      "id": "4813c108",
      "metadata": {
        "id": "4813c108",
        "outputId": "841017ee-e5a0-4516-dc0e-6124c4c9dfd2"
      },
      "outputs": [
        {
          "name": "stdout",
          "output_type": "stream",
          "text": [
            "Оценка Линейная регрессия для final 10.890871995381579\n"
          ]
        }
      ],
      "source": [
        "lr_final_score = -grid.best_score_\n",
        "print('Оценка Линейная регрессия для final', lr_final_score)"
      ]
    },
    {
      "cell_type": "code",
      "execution_count": null,
      "id": "268e48fe",
      "metadata": {
        "id": "268e48fe",
        "outputId": "57831bfb-d368-4d1e-c1c0-b00596f5dda3"
      },
      "outputs": [
        {
          "name": "stdout",
          "output_type": "stream",
          "text": [
            "Финальная sMAPE для для модели Регрессии случайного леса = 10.090361019744362\n"
          ]
        }
      ],
      "source": [
        "lr_final_smape = final_smape(lr_rougher_score, lr_final_score)\n",
        "print('Финальная sMAPE для для модели Регрессии случайного леса =', lr_final_smape)"
      ]
    },
    {
      "cell_type": "markdown",
      "id": "f680905d",
      "metadata": {
        "id": "f680905d"
      },
      "source": [
        "Я построил три модели, подобрал гиперпараметры, лучший показатель метрики sMAPE оказался у модели Регрессии случайного леса, при этом оптимальные гиперпараметры этой модели для двух таргетных признаков оказались разными. Буду использовать эту модель на тестовой выборке"
      ]
    },
    {
      "cell_type": "markdown",
      "id": "14a72b9f",
      "metadata": {
        "id": "14a72b9f"
      },
      "source": [
        "#### Сравнение с константной моделью"
      ]
    },
    {
      "cell_type": "markdown",
      "id": "97c82568",
      "metadata": {
        "id": "97c82568"
      },
      "source": [
        "Для того, чтобы понять, адекватна ли модель, сравню sMAPE моделей с sMAPE константной модели, в ней будет предсказанием медиана по таргетному признаку."
      ]
    },
    {
      "cell_type": "code",
      "execution_count": null,
      "id": "d1506d3f",
      "metadata": {
        "id": "d1506d3f"
      },
      "outputs": [],
      "source": [
        "predict_constant_rougher = pd.Series(target_train_rougher.median(), index=target_train_rougher.index)\n",
        "predict_constant_final = pd.Series(target_train_final.median(), index=target_train_final.index)"
      ]
    },
    {
      "cell_type": "code",
      "execution_count": null,
      "id": "dbed5964",
      "metadata": {
        "id": "dbed5964",
        "outputId": "a3f1a55e-0252-485c-b23c-feb005f8ae6a"
      },
      "outputs": [
        {
          "name": "stdout",
          "output_type": "stream",
          "text": [
            "Финальное sMAPE константной модели = 9.448962714511023\n"
          ]
        }
      ],
      "source": [
        "smape_constant_rougher = smape(target_train_rougher, predict_constant_rougher)\n",
        "smape_constant_final = smape(target_train_final, predict_constant_final)\n",
        "smape_constant_rougher = final_smape(smape_constant_rougher, smape_constant_final)\n",
        "print('Финальное sMAPE константной модели =', smape_constant_rougher)"
      ]
    },
    {
      "cell_type": "markdown",
      "id": "fb7d3e28",
      "metadata": {
        "id": "fb7d3e28"
      },
      "source": [
        "Константная модель оказалась по final_smape лучше, чем линейная регрессия, но отстала от регрессий решающего дерева и случайного леса. Лучший показатель остается у регрессии случайного леса."
      ]
    },
    {
      "cell_type": "markdown",
      "id": "46480329",
      "metadata": {
        "id": "46480329"
      },
      "source": [
        "#### Дополнительно: модель с двумя таргетам"
      ]
    },
    {
      "cell_type": "code",
      "execution_count": null,
      "id": "3ad35f11",
      "metadata": {
        "id": "3ad35f11"
      },
      "outputs": [],
      "source": [
        "def smape(y_true, y_pred):\n",
        "    error = abs(y_true - y_pred)\n",
        "    scale = (abs(y_true) + abs(y_pred)) / 2 + 0.000000001\n",
        "    result = (error / scale).mean()\n",
        "    return result"
      ]
    },
    {
      "cell_type": "code",
      "execution_count": null,
      "id": "c256bc52",
      "metadata": {
        "id": "c256bc52"
      },
      "outputs": [],
      "source": [
        "def smape_weighted(y_true, y_pred):\n",
        "    if isinstance(y_true, pd.DataFrame):\n",
        "        y_true = pd.DataFrame(y_true.values)\n",
        "    else:\n",
        "        y_true = pd.DataFrame(y_true)\n",
        "    if isinstance(y_pred, pd.DataFrame):\n",
        "        y_pred = pd.DataFrame(y_pred.values)\n",
        "    else:\n",
        "        y_pred = pd.DataFrame(y_pred)\n",
        "    rougher = smape(y_true.iloc[:, 0], y_pred.iloc[:, 0])\n",
        "    final = smape(y_true.iloc[:, 1], y_pred.iloc[:, 1])\n",
        "    return 0.25 * rougher + 0.75 * final"
      ]
    },
    {
      "cell_type": "code",
      "execution_count": null,
      "id": "12c3fcfd",
      "metadata": {
        "id": "12c3fcfd"
      },
      "outputs": [],
      "source": [
        "smape_weighted_score = make_scorer(smape_weighted, greater_is_better=False)"
      ]
    },
    {
      "cell_type": "code",
      "execution_count": null,
      "id": "10d3e965",
      "metadata": {
        "id": "10d3e965",
        "outputId": "ab2d2089-b82e-4f93-da97-2da1be058f05"
      },
      "outputs": [
        {
          "name": "stdout",
          "output_type": "stream",
          "text": [
            "Лучшие параметры Регрессия решающего дерева для rougher {'max_depth': 2, 'min_samples_leaf': 1, 'min_samples_split': 4}\n"
          ]
        }
      ],
      "source": [
        "grid = GridSearchCV(DecisionTreeRegressor(), param_1, scoring=smape_weighted_score, cv=5, n_jobs=-1)\n",
        "grid.fit(features_train, target_train)\n",
        "print('Лучшие параметры Регрессия решающего дерева для rougher', grid.best_params_)"
      ]
    },
    {
      "cell_type": "code",
      "execution_count": null,
      "id": "c9a8791d",
      "metadata": {
        "id": "c9a8791d",
        "outputId": "7a7cf51a-e5f3-43e3-83bd-b8df0d742348"
      },
      "outputs": [
        {
          "data": {
            "text/plain": [
              "0.09190696189176903"
            ]
          },
          "execution_count": 59,
          "metadata": {},
          "output_type": "execute_result"
        }
      ],
      "source": [
        "-grid.best_score_"
      ]
    },
    {
      "cell_type": "markdown",
      "id": "95d50e93",
      "metadata": {
        "id": "95d50e93"
      },
      "source": [
        "## Проверка на тестовой выборке"
      ]
    },
    {
      "cell_type": "markdown",
      "id": "ccb39fec",
      "metadata": {
        "id": "ccb39fec"
      },
      "source": [
        "Лучшей моделью по итоговому sMAPE оказалась регрессия случайного леса, применю найденные оптимальные гиперпараметры и оценю модель на тестовой выборке."
      ]
    },
    {
      "cell_type": "code",
      "execution_count": null,
      "id": "005326c2",
      "metadata": {
        "id": "005326c2"
      },
      "outputs": [],
      "source": [
        "model_rougher = RandomForestRegressor(n_estimators=130, max_depth=2, min_samples_leaf=2, min_samples_split=2)\n",
        "model_rougher.fit(features_train, target_train_rougher)\n",
        "test_rougher_predict = model_rougher.predict(features_test)\n",
        "test_rougher_score = smape(target_test_rougher, test_rougher_predict)"
      ]
    },
    {
      "cell_type": "code",
      "execution_count": null,
      "id": "5c88bc52",
      "metadata": {
        "id": "5c88bc52"
      },
      "outputs": [],
      "source": [
        "model_final = RandomForestRegressor(n_estimators=110, max_depth=2, min_samples_leaf=2, min_samples_split=2)\n",
        "model_final.fit(features_train, target_train_final)\n",
        "test_final_predict = model_final.predict(features_test)\n",
        "test_final_score = smape(target_test_final, test_final_predict)"
      ]
    },
    {
      "cell_type": "code",
      "execution_count": null,
      "id": "5c07cd60",
      "metadata": {
        "id": "5c07cd60",
        "outputId": "2073163c-8d69-4bc5-d518-228329868f29"
      },
      "outputs": [
        {
          "name": "stdout",
          "output_type": "stream",
          "text": [
            "Итоговое sMAPE на тестовой выборке = 9.068684488307644\n"
          ]
        }
      ],
      "source": [
        "final_smape_test = final_smape(test_rougher_score, test_final_score)\n",
        "print('Итоговое sMAPE на тестовой выборке =', final_smape_test)"
      ]
    },
    {
      "cell_type": "markdown",
      "id": "132cfd34",
      "metadata": {
        "id": "132cfd34"
      },
      "source": [
        "Метрика итогового sMAPE на тестовой выборке получилось хуже, чем при нахождении оценки на этапе обучения, но в пределах адекватных значений. Лучшая модель - Регрессия случайного леса с подобранными гиперпараметрами."
      ]
    },
    {
      "cell_type": "markdown",
      "id": "ed3ea4ce",
      "metadata": {
        "id": "ed3ea4ce"
      },
      "source": [
        "## Выводы"
      ]
    },
    {
      "cell_type": "markdown",
      "id": "38711f0c",
      "metadata": {
        "id": "38711f0c"
      },
      "source": [
        "Я провел предобработку и исследовательский анализ данных из золотодобывающей отрасли. Поставленные в начале исследования были выполнены, и после подготовки данных были найдена оптимальная модель предсказания коэффициента восстановления золота из золотосодержащей руды. Для данной модели Регрессии случайного леса были подобранны гиперпараметры на основе метрики sMAPE. Проверка на адекватность методом сравнения с константной моделью и последующая проверка непосредственно на тестовой выборке позволяет предположить, что построенная модель поможет оптимизировать производство, чтобы не запускать предприятие с убыточными характеристиками."
      ]
    }
  ],
  "metadata": {
    "ExecuteTimeLog": [
      {
        "duration": 1478,
        "start_time": "2022-05-22T18:30:23.660Z"
      },
      {
        "duration": 3,
        "start_time": "2022-05-22T18:30:25.140Z"
      },
      {
        "duration": 5,
        "start_time": "2022-05-22T18:30:25.144Z"
      },
      {
        "duration": 150,
        "start_time": "2022-05-22T18:30:25.151Z"
      },
      {
        "duration": 0,
        "start_time": "2022-05-22T18:30:25.305Z"
      },
      {
        "duration": 0,
        "start_time": "2022-05-22T18:30:25.307Z"
      },
      {
        "duration": 0,
        "start_time": "2022-05-22T18:30:25.308Z"
      },
      {
        "duration": 0,
        "start_time": "2022-05-22T18:30:25.309Z"
      },
      {
        "duration": 0,
        "start_time": "2022-05-22T18:30:25.310Z"
      },
      {
        "duration": 0,
        "start_time": "2022-05-22T18:30:25.312Z"
      },
      {
        "duration": 0,
        "start_time": "2022-05-22T18:30:25.313Z"
      },
      {
        "duration": 0,
        "start_time": "2022-05-22T18:30:25.315Z"
      },
      {
        "duration": 0,
        "start_time": "2022-05-22T18:30:25.317Z"
      },
      {
        "duration": 0,
        "start_time": "2022-05-22T18:30:25.318Z"
      },
      {
        "duration": 0,
        "start_time": "2022-05-22T18:30:25.319Z"
      },
      {
        "duration": 0,
        "start_time": "2022-05-22T18:30:25.321Z"
      },
      {
        "duration": 0,
        "start_time": "2022-05-22T18:30:25.322Z"
      },
      {
        "duration": 0,
        "start_time": "2022-05-22T18:30:25.323Z"
      },
      {
        "duration": 0,
        "start_time": "2022-05-22T18:30:25.324Z"
      },
      {
        "duration": 0,
        "start_time": "2022-05-22T18:30:25.326Z"
      },
      {
        "duration": 0,
        "start_time": "2022-05-22T18:30:25.327Z"
      },
      {
        "duration": 0,
        "start_time": "2022-05-22T18:30:25.327Z"
      },
      {
        "duration": 0,
        "start_time": "2022-05-22T18:30:25.328Z"
      },
      {
        "duration": 0,
        "start_time": "2022-05-22T18:30:25.329Z"
      },
      {
        "duration": 0,
        "start_time": "2022-05-22T18:30:25.330Z"
      },
      {
        "duration": 0,
        "start_time": "2022-05-22T18:30:25.331Z"
      },
      {
        "duration": 0,
        "start_time": "2022-05-22T18:30:25.376Z"
      },
      {
        "duration": 0,
        "start_time": "2022-05-22T18:30:25.380Z"
      },
      {
        "duration": 0,
        "start_time": "2022-05-22T18:30:25.381Z"
      },
      {
        "duration": 0,
        "start_time": "2022-05-22T18:30:25.381Z"
      },
      {
        "duration": 0,
        "start_time": "2022-05-22T18:30:25.382Z"
      },
      {
        "duration": 0,
        "start_time": "2022-05-22T18:30:25.384Z"
      },
      {
        "duration": 0,
        "start_time": "2022-05-22T18:30:25.385Z"
      },
      {
        "duration": 0,
        "start_time": "2022-05-22T18:30:25.385Z"
      },
      {
        "duration": 0,
        "start_time": "2022-05-22T18:30:25.386Z"
      },
      {
        "duration": 0,
        "start_time": "2022-05-22T18:30:25.386Z"
      },
      {
        "duration": 0,
        "start_time": "2022-05-22T18:30:25.387Z"
      },
      {
        "duration": 0,
        "start_time": "2022-05-22T18:30:25.388Z"
      },
      {
        "duration": 0,
        "start_time": "2022-05-22T18:30:25.388Z"
      },
      {
        "duration": 0,
        "start_time": "2022-05-22T18:30:25.389Z"
      },
      {
        "duration": 0,
        "start_time": "2022-05-22T18:30:25.389Z"
      },
      {
        "duration": 0,
        "start_time": "2022-05-22T18:30:25.390Z"
      },
      {
        "duration": 0,
        "start_time": "2022-05-22T18:30:25.391Z"
      },
      {
        "duration": 0,
        "start_time": "2022-05-22T18:30:25.391Z"
      },
      {
        "duration": 0,
        "start_time": "2022-05-22T18:30:25.392Z"
      },
      {
        "duration": 0,
        "start_time": "2022-05-22T18:30:25.393Z"
      },
      {
        "duration": 0,
        "start_time": "2022-05-22T18:30:25.394Z"
      },
      {
        "duration": 0,
        "start_time": "2022-05-22T18:30:25.394Z"
      },
      {
        "duration": 0,
        "start_time": "2022-05-22T18:30:25.395Z"
      },
      {
        "duration": 0,
        "start_time": "2022-05-22T18:30:25.395Z"
      },
      {
        "duration": 0,
        "start_time": "2022-05-22T18:30:25.400Z"
      },
      {
        "duration": 0,
        "start_time": "2022-05-22T18:30:25.401Z"
      },
      {
        "duration": 0,
        "start_time": "2022-05-22T18:30:25.404Z"
      },
      {
        "duration": 0,
        "start_time": "2022-05-22T18:30:25.405Z"
      },
      {
        "duration": 0,
        "start_time": "2022-05-22T18:30:25.407Z"
      },
      {
        "duration": 1314,
        "start_time": "2022-05-22T18:31:38.552Z"
      },
      {
        "duration": 15,
        "start_time": "2022-05-22T18:31:39.869Z"
      },
      {
        "duration": 27,
        "start_time": "2022-05-22T18:31:39.892Z"
      },
      {
        "duration": 3752,
        "start_time": "2022-05-22T18:31:39.921Z"
      },
      {
        "duration": 40,
        "start_time": "2022-05-22T18:31:43.686Z"
      },
      {
        "duration": 64,
        "start_time": "2022-05-22T18:31:43.728Z"
      },
      {
        "duration": 111,
        "start_time": "2022-05-22T18:31:43.794Z"
      },
      {
        "duration": 92,
        "start_time": "2022-05-22T18:31:43.907Z"
      },
      {
        "duration": 5,
        "start_time": "2022-05-22T18:31:44.000Z"
      },
      {
        "duration": 4,
        "start_time": "2022-05-22T18:31:44.007Z"
      },
      {
        "duration": 7,
        "start_time": "2022-05-22T18:31:44.012Z"
      },
      {
        "duration": 4,
        "start_time": "2022-05-22T18:31:44.020Z"
      },
      {
        "duration": 9,
        "start_time": "2022-05-22T18:31:44.025Z"
      },
      {
        "duration": 19,
        "start_time": "2022-05-22T18:31:44.036Z"
      },
      {
        "duration": 23,
        "start_time": "2022-05-22T18:31:44.058Z"
      },
      {
        "duration": 11,
        "start_time": "2022-05-22T18:31:44.082Z"
      },
      {
        "duration": 8,
        "start_time": "2022-05-22T18:31:44.095Z"
      },
      {
        "duration": 25,
        "start_time": "2022-05-22T18:31:44.104Z"
      },
      {
        "duration": 97,
        "start_time": "2022-05-22T18:31:44.130Z"
      },
      {
        "duration": 8,
        "start_time": "2022-05-22T18:31:44.228Z"
      },
      {
        "duration": 12,
        "start_time": "2022-05-22T18:31:44.238Z"
      },
      {
        "duration": 10,
        "start_time": "2022-05-22T18:31:44.252Z"
      },
      {
        "duration": 5,
        "start_time": "2022-05-22T18:31:44.264Z"
      },
      {
        "duration": 336,
        "start_time": "2022-05-22T18:31:44.270Z"
      },
      {
        "duration": 293,
        "start_time": "2022-05-22T18:31:44.607Z"
      },
      {
        "duration": 282,
        "start_time": "2022-05-22T18:31:44.901Z"
      },
      {
        "duration": 7,
        "start_time": "2022-05-22T18:31:45.185Z"
      },
      {
        "duration": 239,
        "start_time": "2022-05-22T18:31:45.197Z"
      },
      {
        "duration": 247,
        "start_time": "2022-05-22T18:31:45.438Z"
      },
      {
        "duration": 10,
        "start_time": "2022-05-22T18:31:45.688Z"
      },
      {
        "duration": 5,
        "start_time": "2022-05-22T18:31:45.700Z"
      },
      {
        "duration": 5,
        "start_time": "2022-05-22T18:31:45.707Z"
      },
      {
        "duration": 7,
        "start_time": "2022-05-22T18:31:45.714Z"
      },
      {
        "duration": 5,
        "start_time": "2022-05-22T18:31:45.723Z"
      },
      {
        "duration": 5,
        "start_time": "2022-05-22T18:31:45.730Z"
      },
      {
        "duration": 4,
        "start_time": "2022-05-22T18:31:45.737Z"
      },
      {
        "duration": 5,
        "start_time": "2022-05-22T18:31:45.743Z"
      },
      {
        "duration": 15,
        "start_time": "2022-05-22T18:31:45.774Z"
      },
      {
        "duration": 7,
        "start_time": "2022-05-22T18:31:45.791Z"
      },
      {
        "duration": 7,
        "start_time": "2022-05-22T18:31:45.799Z"
      },
      {
        "duration": 8,
        "start_time": "2022-05-22T18:31:45.807Z"
      },
      {
        "duration": 5,
        "start_time": "2022-05-22T18:31:45.816Z"
      },
      {
        "duration": 6,
        "start_time": "2022-05-22T18:31:45.822Z"
      },
      {
        "duration": 7,
        "start_time": "2022-05-22T18:31:45.829Z"
      },
      {
        "duration": 5,
        "start_time": "2022-05-22T18:31:45.837Z"
      },
      {
        "duration": 2026,
        "start_time": "2022-05-22T18:31:45.843Z"
      },
      {
        "duration": 6,
        "start_time": "2022-05-22T18:31:47.870Z"
      },
      {
        "duration": 2150,
        "start_time": "2022-05-22T18:31:47.881Z"
      },
      {
        "duration": 0,
        "start_time": "2022-05-22T18:31:50.032Z"
      },
      {
        "duration": 0,
        "start_time": "2022-05-22T18:31:50.034Z"
      },
      {
        "duration": 0,
        "start_time": "2022-05-22T18:31:50.035Z"
      },
      {
        "duration": 0,
        "start_time": "2022-05-22T18:31:50.036Z"
      },
      {
        "duration": 0,
        "start_time": "2022-05-22T18:31:50.037Z"
      },
      {
        "duration": 0,
        "start_time": "2022-05-22T18:31:50.038Z"
      },
      {
        "duration": 0,
        "start_time": "2022-05-22T18:31:50.039Z"
      },
      {
        "duration": 3,
        "start_time": "2022-05-22T18:36:04.018Z"
      },
      {
        "duration": 2,
        "start_time": "2022-05-22T18:36:05.720Z"
      },
      {
        "duration": 5,
        "start_time": "2022-05-22T18:36:05.996Z"
      },
      {
        "duration": 844,
        "start_time": "2022-05-22T18:36:11.545Z"
      },
      {
        "duration": 9,
        "start_time": "2022-05-22T18:36:12.392Z"
      },
      {
        "duration": 854,
        "start_time": "2022-05-22T18:36:12.442Z"
      },
      {
        "duration": 0,
        "start_time": "2022-05-22T18:36:13.297Z"
      },
      {
        "duration": 144,
        "start_time": "2022-05-22T18:41:34.990Z"
      },
      {
        "duration": 4,
        "start_time": "2022-05-22T18:41:48.067Z"
      },
      {
        "duration": 23,
        "start_time": "2022-05-22T18:41:48.073Z"
      },
      {
        "duration": 5,
        "start_time": "2022-05-22T18:41:48.098Z"
      },
      {
        "duration": 654,
        "start_time": "2022-05-22T18:41:48.105Z"
      },
      {
        "duration": 45,
        "start_time": "2022-05-22T18:41:48.761Z"
      },
      {
        "duration": 45,
        "start_time": "2022-05-22T18:41:48.807Z"
      },
      {
        "duration": 78,
        "start_time": "2022-05-22T18:41:48.854Z"
      },
      {
        "duration": 86,
        "start_time": "2022-05-22T18:41:48.934Z"
      },
      {
        "duration": 4,
        "start_time": "2022-05-22T18:41:49.022Z"
      },
      {
        "duration": 5,
        "start_time": "2022-05-22T18:41:49.027Z"
      },
      {
        "duration": 6,
        "start_time": "2022-05-22T18:41:49.033Z"
      },
      {
        "duration": 3,
        "start_time": "2022-05-22T18:41:49.041Z"
      },
      {
        "duration": 6,
        "start_time": "2022-05-22T18:41:49.045Z"
      },
      {
        "duration": 37,
        "start_time": "2022-05-22T18:41:49.052Z"
      },
      {
        "duration": 18,
        "start_time": "2022-05-22T18:44:09.486Z"
      },
      {
        "duration": 84,
        "start_time": "2022-05-22T18:46:48.405Z"
      },
      {
        "duration": 4,
        "start_time": "2022-05-22T19:02:16.024Z"
      },
      {
        "duration": 4,
        "start_time": "2022-05-22T19:02:26.091Z"
      },
      {
        "duration": 13,
        "start_time": "2022-05-22T19:03:07.488Z"
      },
      {
        "duration": 2144,
        "start_time": "2022-05-23T11:29:14.476Z"
      },
      {
        "duration": 160,
        "start_time": "2022-05-23T11:30:09.631Z"
      },
      {
        "duration": 16,
        "start_time": "2022-05-23T11:30:20.467Z"
      },
      {
        "duration": 25,
        "start_time": "2022-05-23T11:30:27.258Z"
      },
      {
        "duration": 15,
        "start_time": "2022-05-23T11:31:12.348Z"
      },
      {
        "duration": 4,
        "start_time": "2022-05-23T11:31:33.943Z"
      },
      {
        "duration": 14,
        "start_time": "2022-05-23T11:31:36.076Z"
      },
      {
        "duration": 30,
        "start_time": "2022-05-23T11:32:07.185Z"
      },
      {
        "duration": 29,
        "start_time": "2022-05-23T11:32:08.874Z"
      },
      {
        "duration": 31,
        "start_time": "2022-05-23T11:32:15.330Z"
      },
      {
        "duration": 1419,
        "start_time": "2022-05-23T11:33:08.248Z"
      },
      {
        "duration": 695,
        "start_time": "2022-05-23T11:33:24.320Z"
      },
      {
        "duration": 5,
        "start_time": "2022-05-23T11:33:29.422Z"
      },
      {
        "duration": 9,
        "start_time": "2022-05-23T11:33:29.430Z"
      },
      {
        "duration": 13,
        "start_time": "2022-05-23T11:33:29.440Z"
      },
      {
        "duration": 718,
        "start_time": "2022-05-23T11:33:29.455Z"
      },
      {
        "duration": 44,
        "start_time": "2022-05-23T11:33:30.175Z"
      },
      {
        "duration": 118,
        "start_time": "2022-05-23T11:33:30.221Z"
      },
      {
        "duration": 58,
        "start_time": "2022-05-23T11:33:30.341Z"
      },
      {
        "duration": 94,
        "start_time": "2022-05-23T11:33:30.401Z"
      },
      {
        "duration": 5,
        "start_time": "2022-05-23T11:33:30.497Z"
      },
      {
        "duration": 605,
        "start_time": "2022-05-23T11:33:30.504Z"
      },
      {
        "duration": 0,
        "start_time": "2022-05-23T11:33:31.112Z"
      },
      {
        "duration": 0,
        "start_time": "2022-05-23T11:33:31.113Z"
      },
      {
        "duration": 0,
        "start_time": "2022-05-23T11:33:31.114Z"
      },
      {
        "duration": 0,
        "start_time": "2022-05-23T11:33:31.115Z"
      },
      {
        "duration": 0,
        "start_time": "2022-05-23T11:33:31.116Z"
      },
      {
        "duration": 0,
        "start_time": "2022-05-23T11:33:31.117Z"
      },
      {
        "duration": 0,
        "start_time": "2022-05-23T11:33:31.118Z"
      },
      {
        "duration": 0,
        "start_time": "2022-05-23T11:33:31.120Z"
      },
      {
        "duration": 0,
        "start_time": "2022-05-23T11:33:31.120Z"
      },
      {
        "duration": 0,
        "start_time": "2022-05-23T11:33:31.122Z"
      },
      {
        "duration": 0,
        "start_time": "2022-05-23T11:33:31.123Z"
      },
      {
        "duration": 0,
        "start_time": "2022-05-23T11:33:31.124Z"
      },
      {
        "duration": 0,
        "start_time": "2022-05-23T11:33:31.125Z"
      },
      {
        "duration": 0,
        "start_time": "2022-05-23T11:33:31.126Z"
      },
      {
        "duration": 0,
        "start_time": "2022-05-23T11:33:31.127Z"
      },
      {
        "duration": 0,
        "start_time": "2022-05-23T11:33:31.128Z"
      },
      {
        "duration": 0,
        "start_time": "2022-05-23T11:33:31.129Z"
      },
      {
        "duration": 0,
        "start_time": "2022-05-23T11:33:31.130Z"
      },
      {
        "duration": 1,
        "start_time": "2022-05-23T11:33:31.131Z"
      },
      {
        "duration": 0,
        "start_time": "2022-05-23T11:33:31.132Z"
      },
      {
        "duration": 0,
        "start_time": "2022-05-23T11:33:31.133Z"
      },
      {
        "duration": 0,
        "start_time": "2022-05-23T11:33:31.135Z"
      },
      {
        "duration": 0,
        "start_time": "2022-05-23T11:33:31.136Z"
      },
      {
        "duration": 0,
        "start_time": "2022-05-23T11:33:31.137Z"
      },
      {
        "duration": 0,
        "start_time": "2022-05-23T11:33:31.138Z"
      },
      {
        "duration": 0,
        "start_time": "2022-05-23T11:33:31.139Z"
      },
      {
        "duration": 0,
        "start_time": "2022-05-23T11:33:31.140Z"
      },
      {
        "duration": 0,
        "start_time": "2022-05-23T11:33:31.141Z"
      },
      {
        "duration": 0,
        "start_time": "2022-05-23T11:33:31.143Z"
      },
      {
        "duration": 0,
        "start_time": "2022-05-23T11:33:31.144Z"
      },
      {
        "duration": 0,
        "start_time": "2022-05-23T11:33:31.145Z"
      },
      {
        "duration": 0,
        "start_time": "2022-05-23T11:33:31.146Z"
      },
      {
        "duration": 0,
        "start_time": "2022-05-23T11:33:31.147Z"
      },
      {
        "duration": 0,
        "start_time": "2022-05-23T11:33:31.152Z"
      },
      {
        "duration": 0,
        "start_time": "2022-05-23T11:33:31.153Z"
      },
      {
        "duration": 0,
        "start_time": "2022-05-23T11:33:31.154Z"
      },
      {
        "duration": 0,
        "start_time": "2022-05-23T11:33:31.156Z"
      },
      {
        "duration": 0,
        "start_time": "2022-05-23T11:33:31.157Z"
      },
      {
        "duration": 0,
        "start_time": "2022-05-23T11:33:31.158Z"
      },
      {
        "duration": 0,
        "start_time": "2022-05-23T11:33:31.159Z"
      },
      {
        "duration": 0,
        "start_time": "2022-05-23T11:33:31.160Z"
      },
      {
        "duration": 0,
        "start_time": "2022-05-23T11:33:31.162Z"
      },
      {
        "duration": 0,
        "start_time": "2022-05-23T11:33:31.163Z"
      },
      {
        "duration": 0,
        "start_time": "2022-05-23T11:33:31.164Z"
      },
      {
        "duration": 0,
        "start_time": "2022-05-23T11:33:31.165Z"
      },
      {
        "duration": 18,
        "start_time": "2022-05-23T11:57:57.472Z"
      },
      {
        "duration": 5,
        "start_time": "2022-05-23T12:18:32.791Z"
      },
      {
        "duration": 28,
        "start_time": "2022-05-23T12:21:47.169Z"
      },
      {
        "duration": 662,
        "start_time": "2022-05-23T12:22:17.416Z"
      },
      {
        "duration": 6,
        "start_time": "2022-05-23T12:22:29.280Z"
      },
      {
        "duration": 8,
        "start_time": "2022-05-23T12:22:29.290Z"
      },
      {
        "duration": 6,
        "start_time": "2022-05-23T12:22:29.301Z"
      },
      {
        "duration": 708,
        "start_time": "2022-05-23T12:22:29.308Z"
      },
      {
        "duration": 46,
        "start_time": "2022-05-23T12:22:30.019Z"
      },
      {
        "duration": 97,
        "start_time": "2022-05-23T12:22:30.066Z"
      },
      {
        "duration": 64,
        "start_time": "2022-05-23T12:22:30.165Z"
      },
      {
        "duration": 79,
        "start_time": "2022-05-23T12:22:30.251Z"
      },
      {
        "duration": 4,
        "start_time": "2022-05-23T12:22:30.332Z"
      },
      {
        "duration": 516,
        "start_time": "2022-05-23T12:22:30.354Z"
      },
      {
        "duration": 0,
        "start_time": "2022-05-23T12:22:30.872Z"
      },
      {
        "duration": 0,
        "start_time": "2022-05-23T12:22:30.873Z"
      },
      {
        "duration": 0,
        "start_time": "2022-05-23T12:22:30.874Z"
      },
      {
        "duration": 0,
        "start_time": "2022-05-23T12:22:30.876Z"
      },
      {
        "duration": 0,
        "start_time": "2022-05-23T12:22:30.876Z"
      },
      {
        "duration": 0,
        "start_time": "2022-05-23T12:22:30.878Z"
      },
      {
        "duration": 0,
        "start_time": "2022-05-23T12:22:30.879Z"
      },
      {
        "duration": 0,
        "start_time": "2022-05-23T12:22:30.880Z"
      },
      {
        "duration": 0,
        "start_time": "2022-05-23T12:22:30.881Z"
      },
      {
        "duration": 0,
        "start_time": "2022-05-23T12:22:30.882Z"
      },
      {
        "duration": 0,
        "start_time": "2022-05-23T12:22:30.884Z"
      },
      {
        "duration": 0,
        "start_time": "2022-05-23T12:22:30.885Z"
      },
      {
        "duration": 0,
        "start_time": "2022-05-23T12:22:30.886Z"
      },
      {
        "duration": 0,
        "start_time": "2022-05-23T12:22:30.887Z"
      },
      {
        "duration": 0,
        "start_time": "2022-05-23T12:22:30.888Z"
      },
      {
        "duration": 1,
        "start_time": "2022-05-23T12:22:30.889Z"
      },
      {
        "duration": 0,
        "start_time": "2022-05-23T12:22:30.891Z"
      },
      {
        "duration": 0,
        "start_time": "2022-05-23T12:22:30.892Z"
      },
      {
        "duration": 0,
        "start_time": "2022-05-23T12:22:30.893Z"
      },
      {
        "duration": 0,
        "start_time": "2022-05-23T12:22:30.894Z"
      },
      {
        "duration": 0,
        "start_time": "2022-05-23T12:22:30.895Z"
      },
      {
        "duration": 0,
        "start_time": "2022-05-23T12:22:30.897Z"
      },
      {
        "duration": 0,
        "start_time": "2022-05-23T12:22:30.898Z"
      },
      {
        "duration": 0,
        "start_time": "2022-05-23T12:22:30.899Z"
      },
      {
        "duration": 0,
        "start_time": "2022-05-23T12:22:30.900Z"
      },
      {
        "duration": 1,
        "start_time": "2022-05-23T12:22:30.901Z"
      },
      {
        "duration": 0,
        "start_time": "2022-05-23T12:22:30.903Z"
      },
      {
        "duration": 0,
        "start_time": "2022-05-23T12:22:30.906Z"
      },
      {
        "duration": 0,
        "start_time": "2022-05-23T12:22:30.907Z"
      },
      {
        "duration": 0,
        "start_time": "2022-05-23T12:22:30.909Z"
      },
      {
        "duration": 0,
        "start_time": "2022-05-23T12:22:30.910Z"
      },
      {
        "duration": 0,
        "start_time": "2022-05-23T12:22:30.953Z"
      },
      {
        "duration": 0,
        "start_time": "2022-05-23T12:22:30.954Z"
      },
      {
        "duration": 0,
        "start_time": "2022-05-23T12:22:30.955Z"
      },
      {
        "duration": 0,
        "start_time": "2022-05-23T12:22:30.956Z"
      },
      {
        "duration": 0,
        "start_time": "2022-05-23T12:22:30.957Z"
      },
      {
        "duration": 0,
        "start_time": "2022-05-23T12:22:30.958Z"
      },
      {
        "duration": 0,
        "start_time": "2022-05-23T12:22:30.959Z"
      },
      {
        "duration": 0,
        "start_time": "2022-05-23T12:22:30.960Z"
      },
      {
        "duration": 0,
        "start_time": "2022-05-23T12:22:30.961Z"
      },
      {
        "duration": 0,
        "start_time": "2022-05-23T12:22:30.962Z"
      },
      {
        "duration": 0,
        "start_time": "2022-05-23T12:22:30.963Z"
      },
      {
        "duration": 0,
        "start_time": "2022-05-23T12:22:30.965Z"
      },
      {
        "duration": 0,
        "start_time": "2022-05-23T12:22:30.967Z"
      },
      {
        "duration": 0,
        "start_time": "2022-05-23T12:22:30.968Z"
      },
      {
        "duration": 54,
        "start_time": "2022-05-23T12:22:47.982Z"
      },
      {
        "duration": 402,
        "start_time": "2022-05-23T12:23:15.856Z"
      },
      {
        "duration": 49,
        "start_time": "2022-05-23T12:23:23.317Z"
      },
      {
        "duration": 4,
        "start_time": "2022-05-23T12:25:21.557Z"
      },
      {
        "duration": 18,
        "start_time": "2022-05-23T12:25:21.563Z"
      },
      {
        "duration": 16,
        "start_time": "2022-05-23T12:25:21.583Z"
      },
      {
        "duration": 685,
        "start_time": "2022-05-23T12:25:21.600Z"
      },
      {
        "duration": 44,
        "start_time": "2022-05-23T12:25:22.287Z"
      },
      {
        "duration": 70,
        "start_time": "2022-05-23T12:25:22.333Z"
      },
      {
        "duration": 111,
        "start_time": "2022-05-23T12:25:22.406Z"
      },
      {
        "duration": 123,
        "start_time": "2022-05-23T12:25:22.520Z"
      },
      {
        "duration": 8,
        "start_time": "2022-05-23T12:25:22.645Z"
      },
      {
        "duration": 3,
        "start_time": "2022-05-23T12:25:22.655Z"
      },
      {
        "duration": 104,
        "start_time": "2022-05-23T12:25:22.659Z"
      },
      {
        "duration": 414,
        "start_time": "2022-05-23T12:25:22.765Z"
      },
      {
        "duration": 4,
        "start_time": "2022-05-23T12:25:23.181Z"
      },
      {
        "duration": 10,
        "start_time": "2022-05-23T12:25:23.187Z"
      },
      {
        "duration": 14,
        "start_time": "2022-05-23T12:25:23.199Z"
      },
      {
        "duration": 18,
        "start_time": "2022-05-23T12:25:23.215Z"
      },
      {
        "duration": 10,
        "start_time": "2022-05-23T12:25:23.235Z"
      },
      {
        "duration": 25,
        "start_time": "2022-05-23T12:25:23.246Z"
      },
      {
        "duration": 51,
        "start_time": "2022-05-23T12:25:23.273Z"
      },
      {
        "duration": 84,
        "start_time": "2022-05-23T12:25:23.326Z"
      },
      {
        "duration": 7,
        "start_time": "2022-05-23T12:25:23.412Z"
      },
      {
        "duration": 9,
        "start_time": "2022-05-23T12:25:23.421Z"
      },
      {
        "duration": 29,
        "start_time": "2022-05-23T12:25:23.431Z"
      },
      {
        "duration": 6,
        "start_time": "2022-05-23T12:25:23.463Z"
      },
      {
        "duration": 304,
        "start_time": "2022-05-23T12:25:23.471Z"
      },
      {
        "duration": 298,
        "start_time": "2022-05-23T12:25:23.777Z"
      },
      {
        "duration": 302,
        "start_time": "2022-05-23T12:25:24.077Z"
      },
      {
        "duration": 5,
        "start_time": "2022-05-23T12:25:24.381Z"
      },
      {
        "duration": 231,
        "start_time": "2022-05-23T12:25:24.388Z"
      },
      {
        "duration": 248,
        "start_time": "2022-05-23T12:25:24.621Z"
      },
      {
        "duration": 10,
        "start_time": "2022-05-23T12:25:24.870Z"
      },
      {
        "duration": 12,
        "start_time": "2022-05-23T12:25:24.881Z"
      },
      {
        "duration": 11,
        "start_time": "2022-05-23T12:25:24.895Z"
      },
      {
        "duration": 10,
        "start_time": "2022-05-23T12:25:24.908Z"
      },
      {
        "duration": 7,
        "start_time": "2022-05-23T12:25:24.920Z"
      },
      {
        "duration": 30,
        "start_time": "2022-05-23T12:25:24.929Z"
      },
      {
        "duration": 7,
        "start_time": "2022-05-23T12:25:24.961Z"
      },
      {
        "duration": 6,
        "start_time": "2022-05-23T12:25:24.970Z"
      },
      {
        "duration": 12,
        "start_time": "2022-05-23T12:25:24.978Z"
      },
      {
        "duration": 6,
        "start_time": "2022-05-23T12:25:24.992Z"
      },
      {
        "duration": 9,
        "start_time": "2022-05-23T12:25:25.000Z"
      },
      {
        "duration": 11,
        "start_time": "2022-05-23T12:25:25.011Z"
      },
      {
        "duration": 7,
        "start_time": "2022-05-23T12:25:25.024Z"
      },
      {
        "duration": 24,
        "start_time": "2022-05-23T12:25:25.033Z"
      },
      {
        "duration": 16,
        "start_time": "2022-05-23T12:25:25.059Z"
      },
      {
        "duration": 17,
        "start_time": "2022-05-23T12:25:25.078Z"
      },
      {
        "duration": 2024,
        "start_time": "2022-05-23T12:25:25.097Z"
      },
      {
        "duration": 4,
        "start_time": "2022-05-23T12:25:27.122Z"
      },
      {
        "duration": 1951,
        "start_time": "2022-05-23T12:25:27.128Z"
      },
      {
        "duration": 0,
        "start_time": "2022-05-23T12:25:29.081Z"
      },
      {
        "duration": 0,
        "start_time": "2022-05-23T12:25:29.083Z"
      },
      {
        "duration": 0,
        "start_time": "2022-05-23T12:25:29.084Z"
      },
      {
        "duration": 0,
        "start_time": "2022-05-23T12:25:29.086Z"
      },
      {
        "duration": 0,
        "start_time": "2022-05-23T12:25:29.088Z"
      },
      {
        "duration": 0,
        "start_time": "2022-05-23T12:25:29.088Z"
      },
      {
        "duration": 0,
        "start_time": "2022-05-23T12:25:29.090Z"
      },
      {
        "duration": 58,
        "start_time": "2022-05-23T12:41:26.990Z"
      },
      {
        "duration": 17,
        "start_time": "2022-05-23T12:41:36.311Z"
      },
      {
        "duration": 613,
        "start_time": "2022-05-23T12:41:41.441Z"
      },
      {
        "duration": 9,
        "start_time": "2022-05-23T12:46:05.058Z"
      },
      {
        "duration": 15,
        "start_time": "2022-05-23T12:48:57.344Z"
      },
      {
        "duration": 2,
        "start_time": "2022-05-23T12:49:13.896Z"
      },
      {
        "duration": 14,
        "start_time": "2022-05-23T12:49:17.338Z"
      },
      {
        "duration": 5,
        "start_time": "2022-05-23T12:49:22.780Z"
      },
      {
        "duration": 20,
        "start_time": "2022-05-23T12:49:35.467Z"
      },
      {
        "duration": 6,
        "start_time": "2022-05-23T12:49:46.514Z"
      },
      {
        "duration": 5,
        "start_time": "2022-05-23T12:49:46.523Z"
      },
      {
        "duration": 6,
        "start_time": "2022-05-23T12:49:46.530Z"
      },
      {
        "duration": 668,
        "start_time": "2022-05-23T12:49:46.538Z"
      },
      {
        "duration": 46,
        "start_time": "2022-05-23T12:49:47.209Z"
      },
      {
        "duration": 56,
        "start_time": "2022-05-23T12:49:47.256Z"
      },
      {
        "duration": 96,
        "start_time": "2022-05-23T12:49:47.314Z"
      },
      {
        "duration": 113,
        "start_time": "2022-05-23T12:49:47.412Z"
      },
      {
        "duration": 5,
        "start_time": "2022-05-23T12:49:47.526Z"
      },
      {
        "duration": 20,
        "start_time": "2022-05-23T12:49:47.532Z"
      },
      {
        "duration": 5,
        "start_time": "2022-05-23T12:49:47.553Z"
      },
      {
        "duration": 5,
        "start_time": "2022-05-23T12:49:47.560Z"
      },
      {
        "duration": 6,
        "start_time": "2022-05-23T12:49:47.567Z"
      },
      {
        "duration": 6,
        "start_time": "2022-05-23T12:49:47.575Z"
      },
      {
        "duration": 13,
        "start_time": "2022-05-23T12:49:47.582Z"
      },
      {
        "duration": 11,
        "start_time": "2022-05-23T12:49:47.597Z"
      },
      {
        "duration": 9,
        "start_time": "2022-05-23T12:49:47.610Z"
      },
      {
        "duration": 32,
        "start_time": "2022-05-23T12:49:47.620Z"
      },
      {
        "duration": 5,
        "start_time": "2022-05-23T12:49:47.654Z"
      },
      {
        "duration": 20,
        "start_time": "2022-05-23T12:49:47.660Z"
      },
      {
        "duration": 0,
        "start_time": "2022-05-23T12:49:47.682Z"
      },
      {
        "duration": 0,
        "start_time": "2022-05-23T12:49:47.684Z"
      },
      {
        "duration": 0,
        "start_time": "2022-05-23T12:49:47.685Z"
      },
      {
        "duration": 0,
        "start_time": "2022-05-23T12:49:47.687Z"
      },
      {
        "duration": 0,
        "start_time": "2022-05-23T12:49:47.688Z"
      },
      {
        "duration": 0,
        "start_time": "2022-05-23T12:49:47.690Z"
      },
      {
        "duration": 0,
        "start_time": "2022-05-23T12:49:47.691Z"
      },
      {
        "duration": 0,
        "start_time": "2022-05-23T12:49:47.693Z"
      },
      {
        "duration": 0,
        "start_time": "2022-05-23T12:49:47.694Z"
      },
      {
        "duration": 0,
        "start_time": "2022-05-23T12:49:47.696Z"
      },
      {
        "duration": 0,
        "start_time": "2022-05-23T12:49:47.697Z"
      },
      {
        "duration": 0,
        "start_time": "2022-05-23T12:49:47.699Z"
      },
      {
        "duration": 0,
        "start_time": "2022-05-23T12:49:47.700Z"
      },
      {
        "duration": 0,
        "start_time": "2022-05-23T12:49:47.702Z"
      },
      {
        "duration": 0,
        "start_time": "2022-05-23T12:49:47.752Z"
      },
      {
        "duration": 0,
        "start_time": "2022-05-23T12:49:47.754Z"
      },
      {
        "duration": 0,
        "start_time": "2022-05-23T12:49:47.755Z"
      },
      {
        "duration": 0,
        "start_time": "2022-05-23T12:49:47.757Z"
      },
      {
        "duration": 0,
        "start_time": "2022-05-23T12:49:47.759Z"
      },
      {
        "duration": 0,
        "start_time": "2022-05-23T12:49:47.760Z"
      },
      {
        "duration": 0,
        "start_time": "2022-05-23T12:49:47.762Z"
      },
      {
        "duration": 0,
        "start_time": "2022-05-23T12:49:47.763Z"
      },
      {
        "duration": 0,
        "start_time": "2022-05-23T12:49:47.765Z"
      },
      {
        "duration": 1,
        "start_time": "2022-05-23T12:49:47.766Z"
      },
      {
        "duration": 0,
        "start_time": "2022-05-23T12:49:47.768Z"
      },
      {
        "duration": 0,
        "start_time": "2022-05-23T12:49:47.769Z"
      },
      {
        "duration": 0,
        "start_time": "2022-05-23T12:49:47.770Z"
      },
      {
        "duration": 0,
        "start_time": "2022-05-23T12:49:47.772Z"
      },
      {
        "duration": 0,
        "start_time": "2022-05-23T12:49:47.774Z"
      },
      {
        "duration": 0,
        "start_time": "2022-05-23T12:49:47.775Z"
      },
      {
        "duration": 0,
        "start_time": "2022-05-23T12:49:47.776Z"
      },
      {
        "duration": 0,
        "start_time": "2022-05-23T12:49:47.778Z"
      },
      {
        "duration": 0,
        "start_time": "2022-05-23T12:49:47.779Z"
      },
      {
        "duration": 0,
        "start_time": "2022-05-23T12:49:47.781Z"
      },
      {
        "duration": 0,
        "start_time": "2022-05-23T12:49:47.782Z"
      },
      {
        "duration": 0,
        "start_time": "2022-05-23T12:49:47.784Z"
      },
      {
        "duration": 0,
        "start_time": "2022-05-23T12:49:47.786Z"
      },
      {
        "duration": 0,
        "start_time": "2022-05-23T12:49:47.787Z"
      },
      {
        "duration": 0,
        "start_time": "2022-05-23T12:49:47.789Z"
      },
      {
        "duration": 60,
        "start_time": "2022-05-23T12:50:20.089Z"
      },
      {
        "duration": 78,
        "start_time": "2022-05-23T12:50:47.539Z"
      },
      {
        "duration": 7,
        "start_time": "2022-05-23T12:51:30.105Z"
      },
      {
        "duration": 4,
        "start_time": "2022-05-23T12:53:13.952Z"
      },
      {
        "duration": 32,
        "start_time": "2022-05-23T12:53:16.374Z"
      },
      {
        "duration": 36,
        "start_time": "2022-05-23T12:53:51.588Z"
      },
      {
        "duration": 6,
        "start_time": "2022-05-23T12:55:26.657Z"
      },
      {
        "duration": 9,
        "start_time": "2022-05-23T13:09:02.887Z"
      },
      {
        "duration": 5,
        "start_time": "2022-05-23T13:09:06.151Z"
      },
      {
        "duration": 6,
        "start_time": "2022-05-23T13:14:49.385Z"
      },
      {
        "duration": 447,
        "start_time": "2022-05-23T13:14:50.421Z"
      },
      {
        "duration": 323,
        "start_time": "2022-05-23T13:14:53.057Z"
      },
      {
        "duration": 334,
        "start_time": "2022-05-23T13:14:55.683Z"
      },
      {
        "duration": 12,
        "start_time": "2022-05-23T13:17:53.501Z"
      },
      {
        "duration": 701,
        "start_time": "2022-05-23T13:18:00.922Z"
      },
      {
        "duration": 16,
        "start_time": "2022-05-23T13:18:27.955Z"
      },
      {
        "duration": 13,
        "start_time": "2022-05-23T13:18:37.156Z"
      },
      {
        "duration": 382,
        "start_time": "2022-05-23T13:18:45.009Z"
      },
      {
        "duration": 12,
        "start_time": "2022-05-23T13:28:16.632Z"
      },
      {
        "duration": 13,
        "start_time": "2022-05-23T13:28:20.526Z"
      },
      {
        "duration": 1179,
        "start_time": "2022-05-23T13:28:29.019Z"
      },
      {
        "duration": 12,
        "start_time": "2022-05-23T13:28:55.593Z"
      },
      {
        "duration": 675,
        "start_time": "2022-05-23T13:28:59.630Z"
      },
      {
        "duration": 232,
        "start_time": "2022-05-23T13:29:41.209Z"
      },
      {
        "duration": 34,
        "start_time": "2022-05-23T13:33:46.781Z"
      },
      {
        "duration": 219,
        "start_time": "2022-05-23T13:35:33.344Z"
      },
      {
        "duration": 404,
        "start_time": "2022-05-23T13:36:53.939Z"
      },
      {
        "duration": 4,
        "start_time": "2022-05-23T13:39:27.785Z"
      },
      {
        "duration": 16,
        "start_time": "2022-05-23T13:39:27.791Z"
      },
      {
        "duration": 8,
        "start_time": "2022-05-23T13:39:27.808Z"
      },
      {
        "duration": 768,
        "start_time": "2022-05-23T13:39:27.817Z"
      },
      {
        "duration": 40,
        "start_time": "2022-05-23T13:39:28.587Z"
      },
      {
        "duration": 65,
        "start_time": "2022-05-23T13:39:28.629Z"
      },
      {
        "duration": 86,
        "start_time": "2022-05-23T13:39:28.696Z"
      },
      {
        "duration": 88,
        "start_time": "2022-05-23T13:39:28.784Z"
      },
      {
        "duration": 9,
        "start_time": "2022-05-23T13:39:28.874Z"
      },
      {
        "duration": 6,
        "start_time": "2022-05-23T13:39:28.885Z"
      },
      {
        "duration": 7,
        "start_time": "2022-05-23T13:39:28.893Z"
      },
      {
        "duration": 6,
        "start_time": "2022-05-23T13:39:28.901Z"
      },
      {
        "duration": 8,
        "start_time": "2022-05-23T13:39:28.908Z"
      },
      {
        "duration": 5,
        "start_time": "2022-05-23T13:39:28.918Z"
      },
      {
        "duration": 40,
        "start_time": "2022-05-23T13:39:28.924Z"
      },
      {
        "duration": 21,
        "start_time": "2022-05-23T13:39:28.966Z"
      },
      {
        "duration": 9,
        "start_time": "2022-05-23T13:39:28.988Z"
      },
      {
        "duration": 11,
        "start_time": "2022-05-23T13:39:28.998Z"
      },
      {
        "duration": 10,
        "start_time": "2022-05-23T13:39:29.011Z"
      },
      {
        "duration": 35,
        "start_time": "2022-05-23T13:39:29.023Z"
      },
      {
        "duration": 81,
        "start_time": "2022-05-23T13:39:29.060Z"
      },
      {
        "duration": 15,
        "start_time": "2022-05-23T13:39:29.143Z"
      },
      {
        "duration": 23,
        "start_time": "2022-05-23T13:39:29.159Z"
      },
      {
        "duration": 9,
        "start_time": "2022-05-23T13:39:29.183Z"
      },
      {
        "duration": 7,
        "start_time": "2022-05-23T13:39:29.193Z"
      },
      {
        "duration": 345,
        "start_time": "2022-05-23T13:39:29.201Z"
      },
      {
        "duration": 360,
        "start_time": "2022-05-23T13:39:29.548Z"
      },
      {
        "duration": 375,
        "start_time": "2022-05-23T13:39:29.910Z"
      },
      {
        "duration": 5,
        "start_time": "2022-05-23T13:39:30.289Z"
      },
      {
        "duration": 456,
        "start_time": "2022-05-23T13:39:30.296Z"
      },
      {
        "duration": 553,
        "start_time": "2022-05-23T13:39:30.754Z"
      },
      {
        "duration": 34,
        "start_time": "2022-05-23T13:39:31.308Z"
      },
      {
        "duration": 0,
        "start_time": "2022-05-23T13:39:31.343Z"
      },
      {
        "duration": 0,
        "start_time": "2022-05-23T13:39:31.345Z"
      },
      {
        "duration": 0,
        "start_time": "2022-05-23T13:39:31.346Z"
      },
      {
        "duration": 0,
        "start_time": "2022-05-23T13:39:31.347Z"
      },
      {
        "duration": 0,
        "start_time": "2022-05-23T13:39:31.349Z"
      },
      {
        "duration": 0,
        "start_time": "2022-05-23T13:39:31.350Z"
      },
      {
        "duration": 0,
        "start_time": "2022-05-23T13:39:31.351Z"
      },
      {
        "duration": 0,
        "start_time": "2022-05-23T13:39:31.354Z"
      },
      {
        "duration": 0,
        "start_time": "2022-05-23T13:39:31.354Z"
      },
      {
        "duration": 0,
        "start_time": "2022-05-23T13:39:31.356Z"
      },
      {
        "duration": 0,
        "start_time": "2022-05-23T13:39:31.357Z"
      },
      {
        "duration": 0,
        "start_time": "2022-05-23T13:39:31.358Z"
      },
      {
        "duration": 0,
        "start_time": "2022-05-23T13:39:31.359Z"
      },
      {
        "duration": 0,
        "start_time": "2022-05-23T13:39:31.360Z"
      },
      {
        "duration": 0,
        "start_time": "2022-05-23T13:39:31.362Z"
      },
      {
        "duration": 0,
        "start_time": "2022-05-23T13:39:31.364Z"
      },
      {
        "duration": 0,
        "start_time": "2022-05-23T13:39:31.365Z"
      },
      {
        "duration": 0,
        "start_time": "2022-05-23T13:39:31.367Z"
      },
      {
        "duration": 0,
        "start_time": "2022-05-23T13:39:31.369Z"
      },
      {
        "duration": 0,
        "start_time": "2022-05-23T13:39:31.370Z"
      },
      {
        "duration": 0,
        "start_time": "2022-05-23T13:39:31.372Z"
      },
      {
        "duration": 0,
        "start_time": "2022-05-23T13:39:31.373Z"
      },
      {
        "duration": 0,
        "start_time": "2022-05-23T13:39:31.374Z"
      },
      {
        "duration": 0,
        "start_time": "2022-05-23T13:39:31.375Z"
      },
      {
        "duration": 0,
        "start_time": "2022-05-23T13:39:31.376Z"
      },
      {
        "duration": 0,
        "start_time": "2022-05-23T13:39:31.377Z"
      },
      {
        "duration": 67,
        "start_time": "2022-05-24T10:57:18.369Z"
      },
      {
        "duration": 1840,
        "start_time": "2022-05-24T10:57:21.827Z"
      },
      {
        "duration": 3,
        "start_time": "2022-05-24T10:57:23.669Z"
      },
      {
        "duration": 7,
        "start_time": "2022-05-24T10:57:23.674Z"
      },
      {
        "duration": 2954,
        "start_time": "2022-05-24T10:57:23.683Z"
      },
      {
        "duration": 40,
        "start_time": "2022-05-24T10:57:26.638Z"
      },
      {
        "duration": 50,
        "start_time": "2022-05-24T10:57:26.680Z"
      },
      {
        "duration": 106,
        "start_time": "2022-05-24T10:57:26.732Z"
      },
      {
        "duration": 76,
        "start_time": "2022-05-24T10:57:26.840Z"
      },
      {
        "duration": 5,
        "start_time": "2022-05-24T10:57:26.917Z"
      },
      {
        "duration": 4,
        "start_time": "2022-05-24T10:57:26.925Z"
      },
      {
        "duration": 10,
        "start_time": "2022-05-24T10:57:26.931Z"
      },
      {
        "duration": 22,
        "start_time": "2022-05-24T10:57:26.943Z"
      },
      {
        "duration": 8,
        "start_time": "2022-05-24T10:57:26.967Z"
      },
      {
        "duration": 4,
        "start_time": "2022-05-24T10:57:26.977Z"
      },
      {
        "duration": 12,
        "start_time": "2022-05-24T10:57:26.982Z"
      },
      {
        "duration": 10,
        "start_time": "2022-05-24T10:57:26.996Z"
      },
      {
        "duration": 9,
        "start_time": "2022-05-24T10:57:27.008Z"
      },
      {
        "duration": 14,
        "start_time": "2022-05-24T10:57:27.019Z"
      },
      {
        "duration": 31,
        "start_time": "2022-05-24T10:57:27.034Z"
      },
      {
        "duration": 26,
        "start_time": "2022-05-24T10:57:27.067Z"
      },
      {
        "duration": 98,
        "start_time": "2022-05-24T10:57:27.094Z"
      },
      {
        "duration": 7,
        "start_time": "2022-05-24T10:57:27.194Z"
      },
      {
        "duration": 8,
        "start_time": "2022-05-24T10:57:27.203Z"
      },
      {
        "duration": 9,
        "start_time": "2022-05-24T10:57:27.212Z"
      },
      {
        "duration": 7,
        "start_time": "2022-05-24T10:57:27.222Z"
      },
      {
        "duration": 340,
        "start_time": "2022-05-24T10:57:27.230Z"
      },
      {
        "duration": 308,
        "start_time": "2022-05-24T10:57:27.572Z"
      },
      {
        "duration": 317,
        "start_time": "2022-05-24T10:57:27.885Z"
      },
      {
        "duration": 5,
        "start_time": "2022-05-24T10:57:28.204Z"
      },
      {
        "duration": 459,
        "start_time": "2022-05-24T10:57:28.210Z"
      },
      {
        "duration": 522,
        "start_time": "2022-05-24T10:57:28.671Z"
      },
      {
        "duration": 9,
        "start_time": "2022-05-24T10:57:29.195Z"
      },
      {
        "duration": 11,
        "start_time": "2022-05-24T10:57:29.205Z"
      },
      {
        "duration": 9,
        "start_time": "2022-05-24T10:57:29.217Z"
      },
      {
        "duration": 8,
        "start_time": "2022-05-24T10:57:29.228Z"
      },
      {
        "duration": 7,
        "start_time": "2022-05-24T10:57:29.237Z"
      },
      {
        "duration": 19,
        "start_time": "2022-05-24T10:57:29.246Z"
      },
      {
        "duration": 7,
        "start_time": "2022-05-24T10:57:29.267Z"
      },
      {
        "duration": 9,
        "start_time": "2022-05-24T10:57:29.275Z"
      },
      {
        "duration": 9,
        "start_time": "2022-05-24T10:57:29.285Z"
      },
      {
        "duration": 13,
        "start_time": "2022-05-24T10:57:29.296Z"
      },
      {
        "duration": 6,
        "start_time": "2022-05-24T10:57:29.311Z"
      },
      {
        "duration": 6,
        "start_time": "2022-05-24T10:57:29.318Z"
      },
      {
        "duration": 6,
        "start_time": "2022-05-24T10:57:29.326Z"
      },
      {
        "duration": 31,
        "start_time": "2022-05-24T10:57:29.334Z"
      },
      {
        "duration": 3,
        "start_time": "2022-05-24T10:57:29.366Z"
      },
      {
        "duration": 19,
        "start_time": "2022-05-24T10:57:29.371Z"
      },
      {
        "duration": 5,
        "start_time": "2022-05-24T10:57:29.392Z"
      },
      {
        "duration": 5,
        "start_time": "2022-05-24T10:57:29.398Z"
      },
      {
        "duration": 2013,
        "start_time": "2022-05-24T10:57:29.404Z"
      },
      {
        "duration": 4,
        "start_time": "2022-05-24T10:57:31.418Z"
      },
      {
        "duration": 2049,
        "start_time": "2022-05-24T10:57:31.423Z"
      },
      {
        "duration": 0,
        "start_time": "2022-05-24T10:57:33.473Z"
      },
      {
        "duration": 0,
        "start_time": "2022-05-24T10:57:33.475Z"
      },
      {
        "duration": 0,
        "start_time": "2022-05-24T10:57:33.476Z"
      },
      {
        "duration": 0,
        "start_time": "2022-05-24T10:57:33.477Z"
      },
      {
        "duration": 0,
        "start_time": "2022-05-24T10:57:33.478Z"
      },
      {
        "duration": 0,
        "start_time": "2022-05-24T10:57:33.479Z"
      },
      {
        "duration": 0,
        "start_time": "2022-05-24T10:57:33.480Z"
      },
      {
        "duration": 4,
        "start_time": "2022-05-24T10:59:21.102Z"
      },
      {
        "duration": 8,
        "start_time": "2022-05-24T10:59:23.435Z"
      },
      {
        "duration": 7,
        "start_time": "2022-05-24T10:59:23.846Z"
      },
      {
        "duration": 301,
        "start_time": "2022-05-24T10:59:47.205Z"
      },
      {
        "duration": 9,
        "start_time": "2022-05-24T11:01:08.443Z"
      },
      {
        "duration": 148,
        "start_time": "2022-05-24T11:01:10.916Z"
      },
      {
        "duration": 155,
        "start_time": "2022-05-24T11:01:33.903Z"
      },
      {
        "duration": 394,
        "start_time": "2022-05-24T11:01:52.962Z"
      },
      {
        "duration": 156,
        "start_time": "2022-05-24T11:13:17.256Z"
      },
      {
        "duration": 171,
        "start_time": "2022-05-24T11:13:26.465Z"
      },
      {
        "duration": 4,
        "start_time": "2022-05-24T11:13:29.039Z"
      },
      {
        "duration": 154,
        "start_time": "2022-05-24T11:13:32.143Z"
      },
      {
        "duration": 6,
        "start_time": "2022-05-24T11:13:41.682Z"
      },
      {
        "duration": 288,
        "start_time": "2022-05-24T11:13:43.491Z"
      },
      {
        "duration": 318,
        "start_time": "2022-05-24T11:13:46.138Z"
      },
      {
        "duration": 299,
        "start_time": "2022-05-24T11:13:48.508Z"
      },
      {
        "duration": 7,
        "start_time": "2022-05-24T11:18:15.746Z"
      },
      {
        "duration": 7,
        "start_time": "2022-05-24T11:18:37.482Z"
      },
      {
        "duration": 7,
        "start_time": "2022-05-24T11:21:01.641Z"
      },
      {
        "duration": 8,
        "start_time": "2022-05-24T11:21:13.546Z"
      },
      {
        "duration": 182,
        "start_time": "2022-05-24T11:21:15.151Z"
      },
      {
        "duration": 10,
        "start_time": "2022-05-24T11:21:24.951Z"
      },
      {
        "duration": 157,
        "start_time": "2022-05-24T11:21:28.268Z"
      },
      {
        "duration": 169,
        "start_time": "2022-05-24T11:21:30.650Z"
      },
      {
        "duration": 458,
        "start_time": "2022-05-24T11:24:06.015Z"
      },
      {
        "duration": 494,
        "start_time": "2022-05-24T11:28:13.926Z"
      },
      {
        "duration": 515,
        "start_time": "2022-05-24T11:28:24.283Z"
      },
      {
        "duration": 139,
        "start_time": "2022-05-24T11:32:10.241Z"
      },
      {
        "duration": 11,
        "start_time": "2022-05-24T11:32:20.851Z"
      },
      {
        "duration": 32,
        "start_time": "2022-05-24T11:32:24.047Z"
      },
      {
        "duration": 5,
        "start_time": "2022-05-24T11:34:10.589Z"
      },
      {
        "duration": 35,
        "start_time": "2022-05-24T11:35:26.623Z"
      },
      {
        "duration": 4,
        "start_time": "2022-05-24T11:35:34.390Z"
      },
      {
        "duration": 36,
        "start_time": "2022-05-24T11:35:50.593Z"
      },
      {
        "duration": 54,
        "start_time": "2022-05-24T11:37:53.241Z"
      },
      {
        "duration": 31,
        "start_time": "2022-05-24T11:38:15.161Z"
      },
      {
        "duration": 11,
        "start_time": "2022-05-24T11:39:00.282Z"
      },
      {
        "duration": 9,
        "start_time": "2022-05-24T11:39:07.898Z"
      },
      {
        "duration": 4,
        "start_time": "2022-05-24T11:41:20.341Z"
      },
      {
        "duration": 8,
        "start_time": "2022-05-24T11:41:54.547Z"
      },
      {
        "duration": 13,
        "start_time": "2022-05-24T11:42:10.141Z"
      },
      {
        "duration": 5,
        "start_time": "2022-05-24T11:42:13.042Z"
      },
      {
        "duration": 171,
        "start_time": "2022-05-24T11:42:14.542Z"
      },
      {
        "duration": 4,
        "start_time": "2022-05-24T11:43:07.510Z"
      },
      {
        "duration": 30,
        "start_time": "2022-05-24T11:43:54.511Z"
      },
      {
        "duration": 31,
        "start_time": "2022-05-24T11:43:59.280Z"
      },
      {
        "duration": 3,
        "start_time": "2022-05-24T11:44:04.736Z"
      },
      {
        "duration": 31,
        "start_time": "2022-05-24T11:44:05.588Z"
      },
      {
        "duration": 3,
        "start_time": "2022-05-24T11:44:08.358Z"
      },
      {
        "duration": 32,
        "start_time": "2022-05-24T11:44:10.159Z"
      },
      {
        "duration": 3,
        "start_time": "2022-05-24T11:44:18.401Z"
      },
      {
        "duration": 33,
        "start_time": "2022-05-24T11:44:19.911Z"
      },
      {
        "duration": 31,
        "start_time": "2022-05-24T11:45:30.270Z"
      },
      {
        "duration": 6,
        "start_time": "2022-05-24T11:46:51.218Z"
      },
      {
        "duration": 98,
        "start_time": "2022-05-24T11:47:08.267Z"
      },
      {
        "duration": 3,
        "start_time": "2022-05-24T11:47:36.503Z"
      },
      {
        "duration": 34,
        "start_time": "2022-05-24T11:48:01.196Z"
      },
      {
        "duration": 4,
        "start_time": "2022-05-24T11:48:14.510Z"
      },
      {
        "duration": 4,
        "start_time": "2022-05-24T11:48:46.901Z"
      },
      {
        "duration": 4,
        "start_time": "2022-05-24T11:48:50.280Z"
      },
      {
        "duration": 16,
        "start_time": "2022-05-24T11:49:26.422Z"
      },
      {
        "duration": 7,
        "start_time": "2022-05-24T11:49:46.127Z"
      },
      {
        "duration": 24,
        "start_time": "2022-05-24T11:49:59.599Z"
      },
      {
        "duration": 12,
        "start_time": "2022-05-24T11:50:05.043Z"
      },
      {
        "duration": 42,
        "start_time": "2022-05-24T11:50:09.542Z"
      },
      {
        "duration": 14,
        "start_time": "2022-05-24T11:50:15.115Z"
      },
      {
        "duration": 21,
        "start_time": "2022-05-24T11:50:34.174Z"
      },
      {
        "duration": 14,
        "start_time": "2022-05-24T11:50:49.143Z"
      },
      {
        "duration": 13,
        "start_time": "2022-05-24T11:51:05.790Z"
      },
      {
        "duration": 13,
        "start_time": "2022-05-24T11:51:08.971Z"
      },
      {
        "duration": 10,
        "start_time": "2022-05-24T11:51:26.226Z"
      },
      {
        "duration": 4,
        "start_time": "2022-05-24T11:51:38.109Z"
      },
      {
        "duration": 2,
        "start_time": "2022-05-24T11:51:38.144Z"
      },
      {
        "duration": 4,
        "start_time": "2022-05-24T11:51:38.148Z"
      },
      {
        "duration": 1840,
        "start_time": "2022-05-24T11:51:38.154Z"
      },
      {
        "duration": 41,
        "start_time": "2022-05-24T11:51:39.996Z"
      },
      {
        "duration": 52,
        "start_time": "2022-05-24T11:51:40.039Z"
      },
      {
        "duration": 77,
        "start_time": "2022-05-24T11:51:40.093Z"
      },
      {
        "duration": 71,
        "start_time": "2022-05-24T11:51:40.172Z"
      },
      {
        "duration": 21,
        "start_time": "2022-05-24T11:51:40.245Z"
      },
      {
        "duration": 4,
        "start_time": "2022-05-24T11:51:40.268Z"
      },
      {
        "duration": 8,
        "start_time": "2022-05-24T11:51:40.274Z"
      },
      {
        "duration": 5,
        "start_time": "2022-05-24T11:51:40.284Z"
      },
      {
        "duration": 7,
        "start_time": "2022-05-24T11:51:40.291Z"
      },
      {
        "duration": 6,
        "start_time": "2022-05-24T11:51:40.299Z"
      },
      {
        "duration": 14,
        "start_time": "2022-05-24T11:51:40.307Z"
      },
      {
        "duration": 10,
        "start_time": "2022-05-24T11:51:40.323Z"
      },
      {
        "duration": 31,
        "start_time": "2022-05-24T11:51:40.334Z"
      },
      {
        "duration": 7,
        "start_time": "2022-05-24T11:51:40.367Z"
      },
      {
        "duration": 9,
        "start_time": "2022-05-24T11:51:40.376Z"
      },
      {
        "duration": 32,
        "start_time": "2022-05-24T11:51:40.386Z"
      },
      {
        "duration": 85,
        "start_time": "2022-05-24T11:51:40.421Z"
      },
      {
        "duration": 5,
        "start_time": "2022-05-24T11:51:40.508Z"
      },
      {
        "duration": 11,
        "start_time": "2022-05-24T11:51:40.515Z"
      },
      {
        "duration": 8,
        "start_time": "2022-05-24T11:51:40.528Z"
      },
      {
        "duration": 6,
        "start_time": "2022-05-24T11:51:40.537Z"
      },
      {
        "duration": 329,
        "start_time": "2022-05-24T11:51:40.544Z"
      },
      {
        "duration": 310,
        "start_time": "2022-05-24T11:51:40.875Z"
      },
      {
        "duration": 312,
        "start_time": "2022-05-24T11:51:41.187Z"
      },
      {
        "duration": 5,
        "start_time": "2022-05-24T11:51:41.500Z"
      },
      {
        "duration": 427,
        "start_time": "2022-05-24T11:51:41.507Z"
      },
      {
        "duration": 473,
        "start_time": "2022-05-24T11:51:41.936Z"
      },
      {
        "duration": 10,
        "start_time": "2022-05-24T11:51:42.410Z"
      },
      {
        "duration": 192,
        "start_time": "2022-05-24T11:51:42.422Z"
      },
      {
        "duration": 165,
        "start_time": "2022-05-24T11:51:42.615Z"
      },
      {
        "duration": 194,
        "start_time": "2022-05-24T11:51:42.782Z"
      },
      {
        "duration": 3,
        "start_time": "2022-05-24T11:51:42.978Z"
      },
      {
        "duration": 13,
        "start_time": "2022-05-24T11:51:42.983Z"
      },
      {
        "duration": 8,
        "start_time": "2022-05-24T11:51:42.998Z"
      },
      {
        "duration": 6,
        "start_time": "2022-05-24T11:51:43.008Z"
      },
      {
        "duration": 6,
        "start_time": "2022-05-24T11:51:43.016Z"
      },
      {
        "duration": 7,
        "start_time": "2022-05-24T11:51:43.023Z"
      },
      {
        "duration": 13,
        "start_time": "2022-05-24T11:51:43.031Z"
      },
      {
        "duration": 5,
        "start_time": "2022-05-24T11:51:43.045Z"
      },
      {
        "duration": 5,
        "start_time": "2022-05-24T11:51:43.064Z"
      },
      {
        "duration": 9,
        "start_time": "2022-05-24T11:51:43.070Z"
      },
      {
        "duration": 5,
        "start_time": "2022-05-24T11:51:43.080Z"
      },
      {
        "duration": 5,
        "start_time": "2022-05-24T11:51:43.087Z"
      },
      {
        "duration": 5,
        "start_time": "2022-05-24T11:51:43.094Z"
      },
      {
        "duration": 8,
        "start_time": "2022-05-24T11:51:43.100Z"
      },
      {
        "duration": 5,
        "start_time": "2022-05-24T11:51:43.110Z"
      },
      {
        "duration": 1978,
        "start_time": "2022-05-24T11:51:43.116Z"
      },
      {
        "duration": 3,
        "start_time": "2022-05-24T11:51:45.096Z"
      },
      {
        "duration": 1956,
        "start_time": "2022-05-24T11:51:45.101Z"
      },
      {
        "duration": 0,
        "start_time": "2022-05-24T11:51:47.058Z"
      },
      {
        "duration": 0,
        "start_time": "2022-05-24T11:51:47.059Z"
      },
      {
        "duration": 0,
        "start_time": "2022-05-24T11:51:47.060Z"
      },
      {
        "duration": 0,
        "start_time": "2022-05-24T11:51:47.061Z"
      },
      {
        "duration": 0,
        "start_time": "2022-05-24T11:51:47.064Z"
      },
      {
        "duration": 0,
        "start_time": "2022-05-24T11:51:47.065Z"
      },
      {
        "duration": 0,
        "start_time": "2022-05-24T11:51:47.066Z"
      },
      {
        "duration": 392,
        "start_time": "2022-05-24T11:52:34.628Z"
      },
      {
        "duration": 18,
        "start_time": "2022-05-24T11:52:38.243Z"
      },
      {
        "duration": 36,
        "start_time": "2022-05-24T11:53:04.010Z"
      },
      {
        "duration": 13,
        "start_time": "2022-05-24T11:53:35.224Z"
      },
      {
        "duration": 9,
        "start_time": "2022-05-24T11:54:58.604Z"
      },
      {
        "duration": 14,
        "start_time": "2022-05-24T11:55:03.367Z"
      },
      {
        "duration": 9,
        "start_time": "2022-05-24T11:55:35.623Z"
      },
      {
        "duration": 11,
        "start_time": "2022-05-24T11:55:58.352Z"
      },
      {
        "duration": 82,
        "start_time": "2022-05-24T11:56:37.103Z"
      },
      {
        "duration": 124,
        "start_time": "2022-05-24T11:57:06.308Z"
      },
      {
        "duration": 136,
        "start_time": "2022-05-24T11:58:21.548Z"
      },
      {
        "duration": 157,
        "start_time": "2022-05-24T11:58:29.228Z"
      },
      {
        "duration": 187,
        "start_time": "2022-05-24T11:58:51.012Z"
      },
      {
        "duration": 150,
        "start_time": "2022-05-24T11:59:04.607Z"
      },
      {
        "duration": 105,
        "start_time": "2022-05-24T11:59:25.154Z"
      },
      {
        "duration": 164,
        "start_time": "2022-05-24T11:59:26.614Z"
      },
      {
        "duration": 6,
        "start_time": "2022-05-24T11:59:46.744Z"
      },
      {
        "duration": 161,
        "start_time": "2022-05-24T11:59:50.096Z"
      },
      {
        "duration": 29,
        "start_time": "2022-05-24T12:00:52.598Z"
      },
      {
        "duration": 5,
        "start_time": "2022-05-24T12:01:07.159Z"
      },
      {
        "duration": 22,
        "start_time": "2022-05-24T12:01:26.814Z"
      },
      {
        "duration": 145,
        "start_time": "2022-05-24T12:03:04.315Z"
      },
      {
        "duration": 5,
        "start_time": "2022-05-24T12:03:20.050Z"
      },
      {
        "duration": 16,
        "start_time": "2022-05-24T12:03:20.057Z"
      },
      {
        "duration": 7,
        "start_time": "2022-05-24T12:03:20.075Z"
      },
      {
        "duration": 803,
        "start_time": "2022-05-24T12:03:20.084Z"
      },
      {
        "duration": 42,
        "start_time": "2022-05-24T12:03:20.890Z"
      },
      {
        "duration": 66,
        "start_time": "2022-05-24T12:03:20.934Z"
      },
      {
        "duration": 85,
        "start_time": "2022-05-24T12:03:21.002Z"
      },
      {
        "duration": 87,
        "start_time": "2022-05-24T12:03:21.088Z"
      },
      {
        "duration": 6,
        "start_time": "2022-05-24T12:03:21.177Z"
      },
      {
        "duration": 5,
        "start_time": "2022-05-24T12:03:21.185Z"
      },
      {
        "duration": 11,
        "start_time": "2022-05-24T12:03:21.192Z"
      },
      {
        "duration": 4,
        "start_time": "2022-05-24T12:03:21.205Z"
      },
      {
        "duration": 11,
        "start_time": "2022-05-24T12:03:21.210Z"
      },
      {
        "duration": 4,
        "start_time": "2022-05-24T12:03:21.224Z"
      },
      {
        "duration": 37,
        "start_time": "2022-05-24T12:03:21.230Z"
      },
      {
        "duration": 11,
        "start_time": "2022-05-24T12:03:21.268Z"
      },
      {
        "duration": 9,
        "start_time": "2022-05-24T12:03:21.281Z"
      },
      {
        "duration": 11,
        "start_time": "2022-05-24T12:03:21.292Z"
      },
      {
        "duration": 7,
        "start_time": "2022-05-24T12:03:21.304Z"
      },
      {
        "duration": 52,
        "start_time": "2022-05-24T12:03:21.313Z"
      },
      {
        "duration": 109,
        "start_time": "2022-05-24T12:03:21.367Z"
      },
      {
        "duration": 7,
        "start_time": "2022-05-24T12:03:21.478Z"
      },
      {
        "duration": 18,
        "start_time": "2022-05-24T12:03:21.487Z"
      },
      {
        "duration": 13,
        "start_time": "2022-05-24T12:03:21.507Z"
      },
      {
        "duration": 9,
        "start_time": "2022-05-24T12:03:21.522Z"
      },
      {
        "duration": 457,
        "start_time": "2022-05-24T12:03:21.532Z"
      },
      {
        "duration": 324,
        "start_time": "2022-05-24T12:03:21.991Z"
      },
      {
        "duration": 341,
        "start_time": "2022-05-24T12:03:22.317Z"
      },
      {
        "duration": 8,
        "start_time": "2022-05-24T12:03:22.659Z"
      },
      {
        "duration": 389,
        "start_time": "2022-05-24T12:03:22.668Z"
      },
      {
        "duration": 471,
        "start_time": "2022-05-24T12:03:23.058Z"
      },
      {
        "duration": 11,
        "start_time": "2022-05-24T12:03:23.531Z"
      },
      {
        "duration": 201,
        "start_time": "2022-05-24T12:03:23.544Z"
      },
      {
        "duration": 184,
        "start_time": "2022-05-24T12:03:23.747Z"
      },
      {
        "duration": 192,
        "start_time": "2022-05-24T12:03:23.933Z"
      },
      {
        "duration": 3,
        "start_time": "2022-05-24T12:03:24.126Z"
      },
      {
        "duration": 1626,
        "start_time": "2022-05-24T12:03:24.132Z"
      },
      {
        "duration": 8,
        "start_time": "2022-05-24T12:03:25.760Z"
      },
      {
        "duration": 97,
        "start_time": "2022-05-24T12:03:25.769Z"
      },
      {
        "duration": 182,
        "start_time": "2022-05-24T12:03:25.868Z"
      },
      {
        "duration": 14,
        "start_time": "2022-05-24T12:03:26.054Z"
      },
      {
        "duration": 7,
        "start_time": "2022-05-24T12:03:26.070Z"
      },
      {
        "duration": 8,
        "start_time": "2022-05-24T12:03:26.078Z"
      },
      {
        "duration": 10,
        "start_time": "2022-05-24T12:03:26.087Z"
      },
      {
        "duration": 7,
        "start_time": "2022-05-24T12:03:26.099Z"
      },
      {
        "duration": 13,
        "start_time": "2022-05-24T12:03:26.107Z"
      },
      {
        "duration": 7,
        "start_time": "2022-05-24T12:03:26.122Z"
      },
      {
        "duration": 7,
        "start_time": "2022-05-24T12:03:26.131Z"
      },
      {
        "duration": 28,
        "start_time": "2022-05-24T12:03:26.140Z"
      },
      {
        "duration": 4,
        "start_time": "2022-05-24T12:03:26.170Z"
      },
      {
        "duration": 4,
        "start_time": "2022-05-24T12:03:26.177Z"
      },
      {
        "duration": 5,
        "start_time": "2022-05-24T12:03:26.183Z"
      },
      {
        "duration": 7,
        "start_time": "2022-05-24T12:03:26.189Z"
      },
      {
        "duration": 9,
        "start_time": "2022-05-24T12:03:26.198Z"
      },
      {
        "duration": 2087,
        "start_time": "2022-05-24T12:03:26.209Z"
      },
      {
        "duration": 4,
        "start_time": "2022-05-24T12:03:28.298Z"
      },
      {
        "duration": 2062,
        "start_time": "2022-05-24T12:03:28.303Z"
      },
      {
        "duration": 0,
        "start_time": "2022-05-24T12:03:30.367Z"
      },
      {
        "duration": 0,
        "start_time": "2022-05-24T12:03:30.368Z"
      },
      {
        "duration": 0,
        "start_time": "2022-05-24T12:03:30.369Z"
      },
      {
        "duration": 0,
        "start_time": "2022-05-24T12:03:30.371Z"
      },
      {
        "duration": 0,
        "start_time": "2022-05-24T12:03:30.372Z"
      },
      {
        "duration": 0,
        "start_time": "2022-05-24T12:03:30.374Z"
      },
      {
        "duration": 0,
        "start_time": "2022-05-24T12:03:30.375Z"
      },
      {
        "duration": 157,
        "start_time": "2022-05-24T12:03:57.534Z"
      },
      {
        "duration": 158,
        "start_time": "2022-05-24T12:04:39.600Z"
      },
      {
        "duration": 293,
        "start_time": "2022-05-24T12:05:06.447Z"
      },
      {
        "duration": 6,
        "start_time": "2022-05-24T12:05:16.499Z"
      },
      {
        "duration": 5,
        "start_time": "2022-05-24T12:05:18.586Z"
      },
      {
        "duration": 130,
        "start_time": "2022-05-24T12:06:19.287Z"
      },
      {
        "duration": 4,
        "start_time": "2022-05-24T12:06:42.288Z"
      },
      {
        "duration": 11,
        "start_time": "2022-05-24T12:06:42.293Z"
      },
      {
        "duration": 8,
        "start_time": "2022-05-24T12:06:42.305Z"
      },
      {
        "duration": 679,
        "start_time": "2022-05-24T12:06:42.315Z"
      },
      {
        "duration": 38,
        "start_time": "2022-05-24T12:06:42.996Z"
      },
      {
        "duration": 55,
        "start_time": "2022-05-24T12:06:43.036Z"
      },
      {
        "duration": 83,
        "start_time": "2022-05-24T12:06:43.092Z"
      },
      {
        "duration": 71,
        "start_time": "2022-05-24T12:06:43.177Z"
      },
      {
        "duration": 4,
        "start_time": "2022-05-24T12:06:43.264Z"
      },
      {
        "duration": 6,
        "start_time": "2022-05-24T12:06:43.269Z"
      },
      {
        "duration": 4,
        "start_time": "2022-05-24T12:06:43.278Z"
      },
      {
        "duration": 4,
        "start_time": "2022-05-24T12:06:43.283Z"
      },
      {
        "duration": 7,
        "start_time": "2022-05-24T12:06:43.288Z"
      },
      {
        "duration": 3,
        "start_time": "2022-05-24T12:06:43.296Z"
      },
      {
        "duration": 9,
        "start_time": "2022-05-24T12:06:43.301Z"
      },
      {
        "duration": 21,
        "start_time": "2022-05-24T12:06:43.312Z"
      },
      {
        "duration": 36,
        "start_time": "2022-05-24T12:06:43.334Z"
      },
      {
        "duration": 8,
        "start_time": "2022-05-24T12:06:43.372Z"
      },
      {
        "duration": 6,
        "start_time": "2022-05-24T12:06:43.382Z"
      },
      {
        "duration": 27,
        "start_time": "2022-05-24T12:06:43.389Z"
      },
      {
        "duration": 93,
        "start_time": "2022-05-24T12:06:43.418Z"
      },
      {
        "duration": 6,
        "start_time": "2022-05-24T12:06:43.512Z"
      },
      {
        "duration": 6,
        "start_time": "2022-05-24T12:06:43.520Z"
      },
      {
        "duration": 7,
        "start_time": "2022-05-24T12:06:43.527Z"
      },
      {
        "duration": 5,
        "start_time": "2022-05-24T12:06:43.535Z"
      },
      {
        "duration": 315,
        "start_time": "2022-05-24T12:06:43.565Z"
      },
      {
        "duration": 304,
        "start_time": "2022-05-24T12:06:43.881Z"
      },
      {
        "duration": 308,
        "start_time": "2022-05-24T12:06:44.186Z"
      },
      {
        "duration": 4,
        "start_time": "2022-05-24T12:06:44.499Z"
      },
      {
        "duration": 433,
        "start_time": "2022-05-24T12:06:44.505Z"
      },
      {
        "duration": 464,
        "start_time": "2022-05-24T12:06:44.939Z"
      },
      {
        "duration": 10,
        "start_time": "2022-05-24T12:06:45.405Z"
      },
      {
        "duration": 180,
        "start_time": "2022-05-24T12:06:45.417Z"
      },
      {
        "duration": 163,
        "start_time": "2022-05-24T12:06:45.598Z"
      },
      {
        "duration": 184,
        "start_time": "2022-05-24T12:06:45.764Z"
      },
      {
        "duration": 4,
        "start_time": "2022-05-24T12:06:45.949Z"
      },
      {
        "duration": 12,
        "start_time": "2022-05-24T12:06:45.965Z"
      },
      {
        "duration": 26,
        "start_time": "2022-05-24T12:06:45.979Z"
      },
      {
        "duration": 13,
        "start_time": "2022-05-24T12:06:46.007Z"
      },
      {
        "duration": 32,
        "start_time": "2022-05-24T12:06:46.022Z"
      },
      {
        "duration": 10,
        "start_time": "2022-05-24T12:06:46.056Z"
      },
      {
        "duration": 29,
        "start_time": "2022-05-24T12:06:46.068Z"
      },
      {
        "duration": 16,
        "start_time": "2022-05-24T12:06:46.099Z"
      },
      {
        "duration": 23,
        "start_time": "2022-05-24T12:06:46.117Z"
      },
      {
        "duration": 24,
        "start_time": "2022-05-24T12:06:46.142Z"
      },
      {
        "duration": 11,
        "start_time": "2022-05-24T12:06:46.168Z"
      },
      {
        "duration": 4,
        "start_time": "2022-05-24T12:06:46.181Z"
      },
      {
        "duration": 4,
        "start_time": "2022-05-24T12:06:46.187Z"
      },
      {
        "duration": 1961,
        "start_time": "2022-05-24T12:06:46.193Z"
      },
      {
        "duration": 4,
        "start_time": "2022-05-24T12:06:48.156Z"
      },
      {
        "duration": 1945,
        "start_time": "2022-05-24T12:06:48.165Z"
      },
      {
        "duration": 0,
        "start_time": "2022-05-24T12:06:50.112Z"
      },
      {
        "duration": 0,
        "start_time": "2022-05-24T12:06:50.113Z"
      },
      {
        "duration": 0,
        "start_time": "2022-05-24T12:06:50.114Z"
      },
      {
        "duration": 0,
        "start_time": "2022-05-24T12:06:50.115Z"
      },
      {
        "duration": 0,
        "start_time": "2022-05-24T12:06:50.115Z"
      },
      {
        "duration": 0,
        "start_time": "2022-05-24T12:06:50.117Z"
      },
      {
        "duration": 0,
        "start_time": "2022-05-24T12:06:50.117Z"
      },
      {
        "duration": 36,
        "start_time": "2022-05-24T12:06:56.981Z"
      },
      {
        "duration": 77,
        "start_time": "2022-05-24T12:07:13.189Z"
      },
      {
        "duration": 10,
        "start_time": "2022-05-24T12:08:06.473Z"
      },
      {
        "duration": 75,
        "start_time": "2022-05-24T12:08:09.848Z"
      },
      {
        "duration": 248,
        "start_time": "2022-05-24T12:08:59.803Z"
      },
      {
        "duration": 25,
        "start_time": "2022-05-24T12:09:03.625Z"
      },
      {
        "duration": 147,
        "start_time": "2022-05-24T12:09:22.447Z"
      },
      {
        "duration": 33,
        "start_time": "2022-05-24T12:09:24.603Z"
      },
      {
        "duration": 4,
        "start_time": "2022-05-24T12:09:26.890Z"
      },
      {
        "duration": 7,
        "start_time": "2022-05-24T12:09:26.896Z"
      },
      {
        "duration": 6,
        "start_time": "2022-05-24T12:09:26.904Z"
      },
      {
        "duration": 764,
        "start_time": "2022-05-24T12:09:26.912Z"
      },
      {
        "duration": 41,
        "start_time": "2022-05-24T12:09:27.677Z"
      },
      {
        "duration": 64,
        "start_time": "2022-05-24T12:09:27.720Z"
      },
      {
        "duration": 98,
        "start_time": "2022-05-24T12:09:27.786Z"
      },
      {
        "duration": 103,
        "start_time": "2022-05-24T12:09:27.887Z"
      },
      {
        "duration": 5,
        "start_time": "2022-05-24T12:09:27.992Z"
      },
      {
        "duration": 6,
        "start_time": "2022-05-24T12:09:27.999Z"
      },
      {
        "duration": 7,
        "start_time": "2022-05-24T12:09:28.006Z"
      },
      {
        "duration": 6,
        "start_time": "2022-05-24T12:09:28.015Z"
      },
      {
        "duration": 8,
        "start_time": "2022-05-24T12:09:28.023Z"
      },
      {
        "duration": 4,
        "start_time": "2022-05-24T12:09:28.032Z"
      },
      {
        "duration": 29,
        "start_time": "2022-05-24T12:09:28.038Z"
      },
      {
        "duration": 9,
        "start_time": "2022-05-24T12:09:28.068Z"
      },
      {
        "duration": 8,
        "start_time": "2022-05-24T12:09:28.079Z"
      },
      {
        "duration": 8,
        "start_time": "2022-05-24T12:09:28.089Z"
      },
      {
        "duration": 8,
        "start_time": "2022-05-24T12:09:28.100Z"
      },
      {
        "duration": 27,
        "start_time": "2022-05-24T12:09:28.110Z"
      },
      {
        "duration": 111,
        "start_time": "2022-05-24T12:09:28.139Z"
      },
      {
        "duration": 17,
        "start_time": "2022-05-24T12:09:28.252Z"
      },
      {
        "duration": 7,
        "start_time": "2022-05-24T12:09:28.271Z"
      },
      {
        "duration": 8,
        "start_time": "2022-05-24T12:09:28.279Z"
      },
      {
        "duration": 7,
        "start_time": "2022-05-24T12:09:28.289Z"
      },
      {
        "duration": 331,
        "start_time": "2022-05-24T12:09:28.298Z"
      },
      {
        "duration": 325,
        "start_time": "2022-05-24T12:09:28.631Z"
      },
      {
        "duration": 413,
        "start_time": "2022-05-24T12:09:28.964Z"
      },
      {
        "duration": 5,
        "start_time": "2022-05-24T12:09:29.379Z"
      },
      {
        "duration": 459,
        "start_time": "2022-05-24T12:09:29.385Z"
      },
      {
        "duration": 579,
        "start_time": "2022-05-24T12:09:29.846Z"
      },
      {
        "duration": 11,
        "start_time": "2022-05-24T12:09:30.427Z"
      },
      {
        "duration": 226,
        "start_time": "2022-05-24T12:09:30.440Z"
      },
      {
        "duration": 183,
        "start_time": "2022-05-24T12:09:30.668Z"
      },
      {
        "duration": 244,
        "start_time": "2022-05-24T12:09:30.853Z"
      },
      {
        "duration": 178,
        "start_time": "2022-05-24T12:09:31.100Z"
      },
      {
        "duration": 14,
        "start_time": "2022-05-24T12:09:31.280Z"
      },
      {
        "duration": 84,
        "start_time": "2022-05-24T12:09:31.295Z"
      },
      {
        "duration": 3,
        "start_time": "2022-05-24T12:09:31.381Z"
      },
      {
        "duration": 11,
        "start_time": "2022-05-24T12:09:31.386Z"
      },
      {
        "duration": 5,
        "start_time": "2022-05-24T12:09:31.399Z"
      },
      {
        "duration": 6,
        "start_time": "2022-05-24T12:09:31.406Z"
      },
      {
        "duration": 22,
        "start_time": "2022-05-24T12:09:31.413Z"
      },
      {
        "duration": 8,
        "start_time": "2022-05-24T12:09:31.437Z"
      },
      {
        "duration": 7,
        "start_time": "2022-05-24T12:09:31.447Z"
      },
      {
        "duration": 11,
        "start_time": "2022-05-24T12:09:31.456Z"
      },
      {
        "duration": 3,
        "start_time": "2022-05-24T12:09:31.469Z"
      },
      {
        "duration": 12,
        "start_time": "2022-05-24T12:09:31.474Z"
      },
      {
        "duration": 7,
        "start_time": "2022-05-24T12:09:31.488Z"
      },
      {
        "duration": 5,
        "start_time": "2022-05-24T12:09:31.497Z"
      },
      {
        "duration": 9,
        "start_time": "2022-05-24T12:09:31.503Z"
      },
      {
        "duration": 2048,
        "start_time": "2022-05-24T12:09:31.517Z"
      },
      {
        "duration": 4,
        "start_time": "2022-05-24T12:09:33.567Z"
      },
      {
        "duration": 2044,
        "start_time": "2022-05-24T12:09:33.572Z"
      },
      {
        "duration": 0,
        "start_time": "2022-05-24T12:09:35.618Z"
      },
      {
        "duration": 0,
        "start_time": "2022-05-24T12:09:35.619Z"
      },
      {
        "duration": 0,
        "start_time": "2022-05-24T12:09:35.621Z"
      },
      {
        "duration": 0,
        "start_time": "2022-05-24T12:09:35.622Z"
      },
      {
        "duration": 0,
        "start_time": "2022-05-24T12:09:35.623Z"
      },
      {
        "duration": 0,
        "start_time": "2022-05-24T12:09:35.624Z"
      },
      {
        "duration": 0,
        "start_time": "2022-05-24T12:09:35.625Z"
      },
      {
        "duration": 161,
        "start_time": "2022-05-24T12:09:44.249Z"
      },
      {
        "duration": 134,
        "start_time": "2022-05-24T12:10:09.964Z"
      },
      {
        "duration": 94,
        "start_time": "2022-05-24T12:10:14.156Z"
      },
      {
        "duration": 160,
        "start_time": "2022-05-24T12:10:20.105Z"
      },
      {
        "duration": 136,
        "start_time": "2022-05-24T12:10:32.829Z"
      },
      {
        "duration": 161,
        "start_time": "2022-05-24T12:10:35.297Z"
      },
      {
        "duration": 6,
        "start_time": "2022-05-24T12:10:54.729Z"
      },
      {
        "duration": 7,
        "start_time": "2022-05-24T12:11:05.694Z"
      },
      {
        "duration": 117,
        "start_time": "2022-05-24T12:12:20.868Z"
      },
      {
        "duration": 156,
        "start_time": "2022-05-24T12:12:23.429Z"
      },
      {
        "duration": 7,
        "start_time": "2022-05-24T12:12:26.179Z"
      },
      {
        "duration": 7,
        "start_time": "2022-05-24T12:12:27.948Z"
      },
      {
        "duration": 8,
        "start_time": "2022-05-24T12:12:51.987Z"
      },
      {
        "duration": 7,
        "start_time": "2022-05-24T12:12:56.551Z"
      },
      {
        "duration": 5,
        "start_time": "2022-05-24T12:13:40.402Z"
      },
      {
        "duration": 176,
        "start_time": "2022-05-24T12:13:52.370Z"
      },
      {
        "duration": 131,
        "start_time": "2022-05-24T12:14:06.552Z"
      },
      {
        "duration": 183,
        "start_time": "2022-05-24T12:14:11.186Z"
      },
      {
        "duration": 4,
        "start_time": "2022-05-24T12:15:36.640Z"
      },
      {
        "duration": 7,
        "start_time": "2022-05-24T12:15:36.646Z"
      },
      {
        "duration": 10,
        "start_time": "2022-05-24T12:15:36.654Z"
      },
      {
        "duration": 735,
        "start_time": "2022-05-24T12:15:36.666Z"
      },
      {
        "duration": 42,
        "start_time": "2022-05-24T12:15:37.404Z"
      },
      {
        "duration": 63,
        "start_time": "2022-05-24T12:15:37.448Z"
      },
      {
        "duration": 78,
        "start_time": "2022-05-24T12:15:37.512Z"
      },
      {
        "duration": 77,
        "start_time": "2022-05-24T12:15:37.592Z"
      },
      {
        "duration": 4,
        "start_time": "2022-05-24T12:15:37.670Z"
      },
      {
        "duration": 6,
        "start_time": "2022-05-24T12:15:37.676Z"
      },
      {
        "duration": 7,
        "start_time": "2022-05-24T12:15:37.683Z"
      },
      {
        "duration": 7,
        "start_time": "2022-05-24T12:15:37.691Z"
      },
      {
        "duration": 8,
        "start_time": "2022-05-24T12:15:37.700Z"
      },
      {
        "duration": 14,
        "start_time": "2022-05-24T12:15:37.711Z"
      },
      {
        "duration": 11,
        "start_time": "2022-05-24T12:15:37.727Z"
      },
      {
        "duration": 10,
        "start_time": "2022-05-24T12:15:37.739Z"
      },
      {
        "duration": 20,
        "start_time": "2022-05-24T12:15:37.750Z"
      },
      {
        "duration": 10,
        "start_time": "2022-05-24T12:15:37.772Z"
      },
      {
        "duration": 5,
        "start_time": "2022-05-24T12:15:37.784Z"
      },
      {
        "duration": 28,
        "start_time": "2022-05-24T12:15:37.791Z"
      },
      {
        "duration": 87,
        "start_time": "2022-05-24T12:15:37.821Z"
      },
      {
        "duration": 6,
        "start_time": "2022-05-24T12:15:37.910Z"
      },
      {
        "duration": 7,
        "start_time": "2022-05-24T12:15:37.917Z"
      },
      {
        "duration": 8,
        "start_time": "2022-05-24T12:15:37.926Z"
      },
      {
        "duration": 5,
        "start_time": "2022-05-24T12:15:37.935Z"
      },
      {
        "duration": 303,
        "start_time": "2022-05-24T12:15:37.965Z"
      },
      {
        "duration": 308,
        "start_time": "2022-05-24T12:15:38.270Z"
      },
      {
        "duration": 331,
        "start_time": "2022-05-24T12:15:38.580Z"
      },
      {
        "duration": 6,
        "start_time": "2022-05-24T12:15:38.913Z"
      },
      {
        "duration": 517,
        "start_time": "2022-05-24T12:15:38.920Z"
      },
      {
        "duration": 459,
        "start_time": "2022-05-24T12:15:39.439Z"
      },
      {
        "duration": 10,
        "start_time": "2022-05-24T12:15:39.900Z"
      },
      {
        "duration": 184,
        "start_time": "2022-05-24T12:15:39.911Z"
      },
      {
        "duration": 335,
        "start_time": "2022-05-24T12:15:40.096Z"
      },
      {
        "duration": 185,
        "start_time": "2022-05-24T12:15:40.432Z"
      },
      {
        "duration": 145,
        "start_time": "2022-05-24T12:15:40.619Z"
      },
      {
        "duration": 7,
        "start_time": "2022-05-24T12:15:40.766Z"
      },
      {
        "duration": 176,
        "start_time": "2022-05-24T12:15:40.775Z"
      },
      {
        "duration": 174,
        "start_time": "2022-05-24T12:15:40.953Z"
      },
      {
        "duration": 174,
        "start_time": "2022-05-24T12:15:41.129Z"
      },
      {
        "duration": 3,
        "start_time": "2022-05-24T12:15:41.306Z"
      },
      {
        "duration": 10,
        "start_time": "2022-05-24T12:15:41.311Z"
      },
      {
        "duration": 5,
        "start_time": "2022-05-24T12:15:41.322Z"
      },
      {
        "duration": 5,
        "start_time": "2022-05-24T12:15:41.328Z"
      },
      {
        "duration": 15,
        "start_time": "2022-05-24T12:15:41.334Z"
      },
      {
        "duration": 5,
        "start_time": "2022-05-24T12:15:41.351Z"
      },
      {
        "duration": 8,
        "start_time": "2022-05-24T12:15:41.364Z"
      },
      {
        "duration": 12,
        "start_time": "2022-05-24T12:15:41.374Z"
      },
      {
        "duration": 13,
        "start_time": "2022-05-24T12:15:41.387Z"
      },
      {
        "duration": 11,
        "start_time": "2022-05-24T12:15:41.401Z"
      },
      {
        "duration": 22,
        "start_time": "2022-05-24T12:15:41.414Z"
      },
      {
        "duration": 14,
        "start_time": "2022-05-24T12:15:41.437Z"
      },
      {
        "duration": 9,
        "start_time": "2022-05-24T12:15:41.453Z"
      },
      {
        "duration": 1954,
        "start_time": "2022-05-24T12:15:41.464Z"
      },
      {
        "duration": 3,
        "start_time": "2022-05-24T12:15:43.420Z"
      },
      {
        "duration": 1957,
        "start_time": "2022-05-24T12:15:43.425Z"
      },
      {
        "duration": 0,
        "start_time": "2022-05-24T12:15:45.384Z"
      },
      {
        "duration": 0,
        "start_time": "2022-05-24T12:15:45.386Z"
      },
      {
        "duration": 0,
        "start_time": "2022-05-24T12:15:45.387Z"
      },
      {
        "duration": 0,
        "start_time": "2022-05-24T12:15:45.388Z"
      },
      {
        "duration": 0,
        "start_time": "2022-05-24T12:15:45.389Z"
      },
      {
        "duration": 0,
        "start_time": "2022-05-24T12:15:45.391Z"
      },
      {
        "duration": 0,
        "start_time": "2022-05-24T12:15:45.392Z"
      },
      {
        "duration": 5,
        "start_time": "2022-05-24T12:16:27.862Z"
      },
      {
        "duration": 10,
        "start_time": "2022-05-24T12:16:34.550Z"
      },
      {
        "duration": 63,
        "start_time": "2022-05-24T13:46:42.558Z"
      },
      {
        "duration": 7,
        "start_time": "2022-05-24T13:47:24.210Z"
      },
      {
        "duration": 64,
        "start_time": "2022-05-24T13:47:25.838Z"
      },
      {
        "duration": 5,
        "start_time": "2022-05-24T13:48:00.059Z"
      },
      {
        "duration": 9,
        "start_time": "2022-05-24T13:48:05.664Z"
      },
      {
        "duration": 4,
        "start_time": "2022-05-24T13:48:18.599Z"
      },
      {
        "duration": 9,
        "start_time": "2022-05-24T13:48:22.285Z"
      },
      {
        "duration": 50,
        "start_time": "2022-05-24T13:48:28.039Z"
      },
      {
        "duration": 64,
        "start_time": "2022-05-24T13:49:04.538Z"
      },
      {
        "duration": 5,
        "start_time": "2022-05-24T13:49:34.893Z"
      },
      {
        "duration": 4,
        "start_time": "2022-05-24T13:49:49.565Z"
      },
      {
        "duration": 54,
        "start_time": "2022-05-24T13:50:25.698Z"
      },
      {
        "duration": 5,
        "start_time": "2022-05-24T13:50:41.248Z"
      },
      {
        "duration": 47,
        "start_time": "2022-05-24T13:50:51.500Z"
      },
      {
        "duration": 58,
        "start_time": "2022-05-24T13:50:56.497Z"
      },
      {
        "duration": 11,
        "start_time": "2022-05-24T13:51:26.122Z"
      },
      {
        "duration": 42,
        "start_time": "2022-05-24T13:51:35.811Z"
      },
      {
        "duration": 7,
        "start_time": "2022-05-24T13:51:48.085Z"
      },
      {
        "duration": 47,
        "start_time": "2022-05-24T13:51:52.316Z"
      },
      {
        "duration": 161,
        "start_time": "2022-05-24T13:52:56.930Z"
      },
      {
        "duration": 4,
        "start_time": "2022-05-24T13:55:40.630Z"
      },
      {
        "duration": 4,
        "start_time": "2022-05-24T13:55:45.795Z"
      },
      {
        "duration": 3,
        "start_time": "2022-05-24T13:55:47.560Z"
      },
      {
        "duration": 2,
        "start_time": "2022-05-24T13:55:50.655Z"
      },
      {
        "duration": 8,
        "start_time": "2022-05-24T13:55:50.921Z"
      },
      {
        "duration": 7,
        "start_time": "2022-05-24T13:55:51.216Z"
      },
      {
        "duration": 7,
        "start_time": "2022-05-24T13:55:51.478Z"
      },
      {
        "duration": 2267,
        "start_time": "2022-05-24T13:55:53.349Z"
      },
      {
        "duration": 5,
        "start_time": "2022-05-24T13:56:39.140Z"
      },
      {
        "duration": 9,
        "start_time": "2022-05-24T13:57:13.577Z"
      },
      {
        "duration": 12,
        "start_time": "2022-05-24T13:57:20.517Z"
      },
      {
        "duration": 16,
        "start_time": "2022-05-24T13:57:46.305Z"
      },
      {
        "duration": 11,
        "start_time": "2022-05-24T14:01:09.947Z"
      },
      {
        "duration": 3,
        "start_time": "2022-05-24T14:04:16.512Z"
      },
      {
        "duration": 4,
        "start_time": "2022-05-24T14:04:20.300Z"
      },
      {
        "duration": 2304,
        "start_time": "2022-05-24T14:04:24.096Z"
      },
      {
        "duration": 4,
        "start_time": "2022-05-24T14:04:28.560Z"
      },
      {
        "duration": 3,
        "start_time": "2022-05-24T14:04:34.113Z"
      },
      {
        "duration": 3,
        "start_time": "2022-05-24T14:04:54.023Z"
      },
      {
        "duration": 2382,
        "start_time": "2022-05-24T14:04:56.996Z"
      },
      {
        "duration": 4,
        "start_time": "2022-05-24T14:05:01.006Z"
      },
      {
        "duration": 3,
        "start_time": "2022-05-24T14:05:04.795Z"
      },
      {
        "duration": 9,
        "start_time": "2022-05-24T14:06:53.926Z"
      },
      {
        "duration": 9,
        "start_time": "2022-05-24T14:07:50.043Z"
      },
      {
        "duration": 5,
        "start_time": "2022-05-24T14:07:55.551Z"
      },
      {
        "duration": 2412,
        "start_time": "2022-05-24T14:08:03.278Z"
      },
      {
        "duration": 4,
        "start_time": "2022-05-24T14:08:08.202Z"
      },
      {
        "duration": 4,
        "start_time": "2022-05-24T14:08:09.924Z"
      },
      {
        "duration": 5,
        "start_time": "2022-05-24T14:08:58.986Z"
      },
      {
        "duration": 16,
        "start_time": "2022-05-24T14:09:06.663Z"
      },
      {
        "duration": 10,
        "start_time": "2022-05-24T14:09:10.247Z"
      },
      {
        "duration": 2450,
        "start_time": "2022-05-24T14:09:12.582Z"
      },
      {
        "duration": 4,
        "start_time": "2022-05-24T14:09:16.714Z"
      },
      {
        "duration": 4,
        "start_time": "2022-05-24T14:09:19.753Z"
      },
      {
        "duration": 4,
        "start_time": "2022-05-24T14:11:40.238Z"
      },
      {
        "duration": 8,
        "start_time": "2022-05-24T14:11:40.245Z"
      },
      {
        "duration": 6,
        "start_time": "2022-05-24T14:11:40.255Z"
      },
      {
        "duration": 828,
        "start_time": "2022-05-24T14:11:40.262Z"
      },
      {
        "duration": 38,
        "start_time": "2022-05-24T14:11:41.092Z"
      },
      {
        "duration": 68,
        "start_time": "2022-05-24T14:11:41.131Z"
      },
      {
        "duration": 97,
        "start_time": "2022-05-24T14:11:41.201Z"
      },
      {
        "duration": 90,
        "start_time": "2022-05-24T14:11:41.299Z"
      },
      {
        "duration": 5,
        "start_time": "2022-05-24T14:11:41.390Z"
      },
      {
        "duration": 5,
        "start_time": "2022-05-24T14:11:41.397Z"
      },
      {
        "duration": 10,
        "start_time": "2022-05-24T14:11:41.404Z"
      },
      {
        "duration": 12,
        "start_time": "2022-05-24T14:11:41.415Z"
      },
      {
        "duration": 10,
        "start_time": "2022-05-24T14:11:41.428Z"
      },
      {
        "duration": 26,
        "start_time": "2022-05-24T14:11:41.440Z"
      },
      {
        "duration": 11,
        "start_time": "2022-05-24T14:11:41.469Z"
      },
      {
        "duration": 24,
        "start_time": "2022-05-24T14:11:41.482Z"
      },
      {
        "duration": 8,
        "start_time": "2022-05-24T14:11:41.508Z"
      },
      {
        "duration": 13,
        "start_time": "2022-05-24T14:11:41.518Z"
      },
      {
        "duration": 12,
        "start_time": "2022-05-24T14:11:41.533Z"
      },
      {
        "duration": 36,
        "start_time": "2022-05-24T14:11:41.547Z"
      },
      {
        "duration": 96,
        "start_time": "2022-05-24T14:11:41.585Z"
      },
      {
        "duration": 8,
        "start_time": "2022-05-24T14:11:41.684Z"
      },
      {
        "duration": 11,
        "start_time": "2022-05-24T14:11:41.693Z"
      },
      {
        "duration": 8,
        "start_time": "2022-05-24T14:11:41.706Z"
      },
      {
        "duration": 10,
        "start_time": "2022-05-24T14:11:41.715Z"
      },
      {
        "duration": 350,
        "start_time": "2022-05-24T14:11:41.726Z"
      },
      {
        "duration": 340,
        "start_time": "2022-05-24T14:11:42.079Z"
      },
      {
        "duration": 375,
        "start_time": "2022-05-24T14:11:42.421Z"
      },
      {
        "duration": 4,
        "start_time": "2022-05-24T14:11:42.800Z"
      },
      {
        "duration": 512,
        "start_time": "2022-05-24T14:11:42.806Z"
      },
      {
        "duration": 527,
        "start_time": "2022-05-24T14:11:43.320Z"
      },
      {
        "duration": 19,
        "start_time": "2022-05-24T14:11:43.849Z"
      },
      {
        "duration": 192,
        "start_time": "2022-05-24T14:11:43.870Z"
      },
      {
        "duration": 187,
        "start_time": "2022-05-24T14:11:44.064Z"
      },
      {
        "duration": 215,
        "start_time": "2022-05-24T14:11:44.253Z"
      },
      {
        "duration": 169,
        "start_time": "2022-05-24T14:11:44.470Z"
      },
      {
        "duration": 5,
        "start_time": "2022-05-24T14:11:44.641Z"
      },
      {
        "duration": 6,
        "start_time": "2022-05-24T14:11:44.648Z"
      },
      {
        "duration": 5,
        "start_time": "2022-05-24T14:11:44.665Z"
      },
      {
        "duration": 22,
        "start_time": "2022-05-24T14:11:44.672Z"
      },
      {
        "duration": 11,
        "start_time": "2022-05-24T14:11:44.697Z"
      },
      {
        "duration": 9,
        "start_time": "2022-05-24T14:11:44.710Z"
      },
      {
        "duration": 2361,
        "start_time": "2022-05-24T14:11:44.721Z"
      },
      {
        "duration": 4,
        "start_time": "2022-05-24T14:11:47.083Z"
      },
      {
        "duration": 21,
        "start_time": "2022-05-24T14:11:47.088Z"
      },
      {
        "duration": 31,
        "start_time": "2022-05-24T14:11:47.110Z"
      },
      {
        "duration": 48,
        "start_time": "2022-05-24T14:11:47.144Z"
      },
      {
        "duration": 21,
        "start_time": "2022-05-24T14:11:47.194Z"
      },
      {
        "duration": 15,
        "start_time": "2022-05-24T14:11:47.217Z"
      },
      {
        "duration": 2321,
        "start_time": "2022-05-24T14:11:47.234Z"
      },
      {
        "duration": 11,
        "start_time": "2022-05-24T14:11:49.557Z"
      },
      {
        "duration": 2124,
        "start_time": "2022-05-24T14:11:49.570Z"
      },
      {
        "duration": 0,
        "start_time": "2022-05-24T14:11:51.696Z"
      },
      {
        "duration": 0,
        "start_time": "2022-05-24T14:11:51.698Z"
      },
      {
        "duration": 0,
        "start_time": "2022-05-24T14:11:51.699Z"
      },
      {
        "duration": 0,
        "start_time": "2022-05-24T14:11:51.701Z"
      },
      {
        "duration": 0,
        "start_time": "2022-05-24T14:11:51.702Z"
      },
      {
        "duration": 0,
        "start_time": "2022-05-24T14:11:51.704Z"
      },
      {
        "duration": 0,
        "start_time": "2022-05-24T14:11:51.705Z"
      },
      {
        "duration": 4,
        "start_time": "2022-05-24T14:12:54.906Z"
      },
      {
        "duration": 3,
        "start_time": "2022-05-24T14:12:55.919Z"
      },
      {
        "duration": 6,
        "start_time": "2022-05-24T14:14:50.675Z"
      },
      {
        "duration": 10,
        "start_time": "2022-05-24T14:14:50.683Z"
      },
      {
        "duration": 6,
        "start_time": "2022-05-24T14:14:50.695Z"
      },
      {
        "duration": 797,
        "start_time": "2022-05-24T14:14:50.703Z"
      },
      {
        "duration": 40,
        "start_time": "2022-05-24T14:14:51.503Z"
      },
      {
        "duration": 76,
        "start_time": "2022-05-24T14:14:51.545Z"
      },
      {
        "duration": 90,
        "start_time": "2022-05-24T14:14:51.622Z"
      },
      {
        "duration": 93,
        "start_time": "2022-05-24T14:14:51.714Z"
      },
      {
        "duration": 4,
        "start_time": "2022-05-24T14:14:51.810Z"
      },
      {
        "duration": 4,
        "start_time": "2022-05-24T14:14:51.816Z"
      },
      {
        "duration": 5,
        "start_time": "2022-05-24T14:14:51.823Z"
      },
      {
        "duration": 4,
        "start_time": "2022-05-24T14:14:51.830Z"
      },
      {
        "duration": 30,
        "start_time": "2022-05-24T14:14:51.836Z"
      },
      {
        "duration": 16,
        "start_time": "2022-05-24T14:14:51.867Z"
      },
      {
        "duration": 11,
        "start_time": "2022-05-24T14:14:51.885Z"
      },
      {
        "duration": 9,
        "start_time": "2022-05-24T14:14:51.898Z"
      },
      {
        "duration": 8,
        "start_time": "2022-05-24T14:14:51.908Z"
      },
      {
        "duration": 9,
        "start_time": "2022-05-24T14:14:51.918Z"
      },
      {
        "duration": 11,
        "start_time": "2022-05-24T14:14:51.928Z"
      },
      {
        "duration": 50,
        "start_time": "2022-05-24T14:14:51.940Z"
      },
      {
        "duration": 92,
        "start_time": "2022-05-24T14:14:51.992Z"
      },
      {
        "duration": 8,
        "start_time": "2022-05-24T14:14:52.086Z"
      },
      {
        "duration": 14,
        "start_time": "2022-05-24T14:14:52.096Z"
      },
      {
        "duration": 9,
        "start_time": "2022-05-24T14:14:52.113Z"
      },
      {
        "duration": 6,
        "start_time": "2022-05-24T14:14:52.124Z"
      },
      {
        "duration": 364,
        "start_time": "2022-05-24T14:14:52.133Z"
      },
      {
        "duration": 362,
        "start_time": "2022-05-24T14:14:52.499Z"
      },
      {
        "duration": 376,
        "start_time": "2022-05-24T14:14:52.863Z"
      },
      {
        "duration": 6,
        "start_time": "2022-05-24T14:14:53.244Z"
      },
      {
        "duration": 427,
        "start_time": "2022-05-24T14:14:53.252Z"
      },
      {
        "duration": 555,
        "start_time": "2022-05-24T14:14:53.682Z"
      },
      {
        "duration": 10,
        "start_time": "2022-05-24T14:14:54.239Z"
      },
      {
        "duration": 219,
        "start_time": "2022-05-24T14:14:54.251Z"
      },
      {
        "duration": 213,
        "start_time": "2022-05-24T14:14:54.473Z"
      },
      {
        "duration": 215,
        "start_time": "2022-05-24T14:14:54.688Z"
      },
      {
        "duration": 182,
        "start_time": "2022-05-24T14:14:54.905Z"
      },
      {
        "duration": 4,
        "start_time": "2022-05-24T14:14:55.088Z"
      },
      {
        "duration": 7,
        "start_time": "2022-05-24T14:14:55.094Z"
      },
      {
        "duration": 5,
        "start_time": "2022-05-24T14:14:55.103Z"
      },
      {
        "duration": 6,
        "start_time": "2022-05-24T14:14:55.109Z"
      },
      {
        "duration": 10,
        "start_time": "2022-05-24T14:14:55.117Z"
      },
      {
        "duration": 8,
        "start_time": "2022-05-24T14:14:55.128Z"
      },
      {
        "duration": 35,
        "start_time": "2022-05-24T14:14:55.138Z"
      },
      {
        "duration": 2359,
        "start_time": "2022-05-24T14:14:55.177Z"
      },
      {
        "duration": 3,
        "start_time": "2022-05-24T14:14:57.538Z"
      },
      {
        "duration": 17,
        "start_time": "2022-05-24T14:14:57.542Z"
      },
      {
        "duration": 18,
        "start_time": "2022-05-24T14:14:57.560Z"
      },
      {
        "duration": 6,
        "start_time": "2022-05-24T14:14:57.581Z"
      },
      {
        "duration": 5,
        "start_time": "2022-05-24T14:14:57.588Z"
      },
      {
        "duration": 8,
        "start_time": "2022-05-24T14:14:57.595Z"
      },
      {
        "duration": 2204,
        "start_time": "2022-05-24T14:14:57.605Z"
      },
      {
        "duration": 3,
        "start_time": "2022-05-24T14:14:59.811Z"
      },
      {
        "duration": 2259,
        "start_time": "2022-05-24T14:14:59.816Z"
      },
      {
        "duration": 0,
        "start_time": "2022-05-24T14:15:02.077Z"
      },
      {
        "duration": 0,
        "start_time": "2022-05-24T14:15:02.079Z"
      },
      {
        "duration": 0,
        "start_time": "2022-05-24T14:15:02.081Z"
      },
      {
        "duration": 0,
        "start_time": "2022-05-24T14:15:02.082Z"
      },
      {
        "duration": 0,
        "start_time": "2022-05-24T14:15:02.083Z"
      },
      {
        "duration": 0,
        "start_time": "2022-05-24T14:15:02.085Z"
      },
      {
        "duration": 0,
        "start_time": "2022-05-24T14:15:02.086Z"
      },
      {
        "duration": 0,
        "start_time": "2022-05-24T14:15:02.088Z"
      },
      {
        "duration": 4,
        "start_time": "2022-05-24T14:15:59.511Z"
      },
      {
        "duration": 4,
        "start_time": "2022-05-24T14:16:00.677Z"
      },
      {
        "duration": 2395,
        "start_time": "2022-05-24T14:16:02.095Z"
      },
      {
        "duration": 4,
        "start_time": "2022-05-24T14:16:06.451Z"
      },
      {
        "duration": 3,
        "start_time": "2022-05-24T14:23:13.944Z"
      },
      {
        "duration": 3,
        "start_time": "2022-05-24T14:23:14.405Z"
      },
      {
        "duration": 197,
        "start_time": "2022-05-24T14:23:14.900Z"
      },
      {
        "duration": 13,
        "start_time": "2022-05-24T14:23:37.380Z"
      },
      {
        "duration": 2322,
        "start_time": "2022-05-24T14:23:45.532Z"
      },
      {
        "duration": 6,
        "start_time": "2022-05-24T14:23:54.063Z"
      },
      {
        "duration": 10,
        "start_time": "2022-05-24T14:24:09.981Z"
      },
      {
        "duration": 552,
        "start_time": "2022-05-24T14:24:15.163Z"
      },
      {
        "duration": 508,
        "start_time": "2022-05-24T14:24:21.361Z"
      },
      {
        "duration": 6,
        "start_time": "2022-05-24T14:24:30.778Z"
      },
      {
        "duration": 3,
        "start_time": "2022-05-24T14:26:20.805Z"
      },
      {
        "duration": 2225,
        "start_time": "2022-05-24T14:26:23.710Z"
      },
      {
        "duration": 4,
        "start_time": "2022-05-24T14:26:35.154Z"
      },
      {
        "duration": 4,
        "start_time": "2022-05-24T14:26:57.176Z"
      },
      {
        "duration": 2089,
        "start_time": "2022-05-24T14:27:26.357Z"
      },
      {
        "duration": 3,
        "start_time": "2022-05-24T14:27:32.479Z"
      },
      {
        "duration": 606,
        "start_time": "2022-05-24T14:27:33.807Z"
      },
      {
        "duration": 604,
        "start_time": "2022-05-24T14:28:12.909Z"
      },
      {
        "duration": 4,
        "start_time": "2022-05-24T14:28:17.225Z"
      },
      {
        "duration": 8388,
        "start_time": "2022-05-24T14:28:24.006Z"
      },
      {
        "duration": 4,
        "start_time": "2022-05-24T14:28:32.396Z"
      },
      {
        "duration": 6,
        "start_time": "2022-05-24T14:28:39.037Z"
      },
      {
        "duration": 4,
        "start_time": "2022-05-24T14:29:24.313Z"
      },
      {
        "duration": 3,
        "start_time": "2022-05-24T14:29:35.872Z"
      },
      {
        "duration": 4,
        "start_time": "2022-05-24T14:29:48.916Z"
      },
      {
        "duration": 4,
        "start_time": "2022-05-24T14:29:50.184Z"
      },
      {
        "duration": 1987,
        "start_time": "2022-05-24T14:29:50.614Z"
      },
      {
        "duration": 4,
        "start_time": "2022-05-24T14:29:54.889Z"
      },
      {
        "duration": 8334,
        "start_time": "2022-05-24T14:30:00.764Z"
      },
      {
        "duration": 4,
        "start_time": "2022-05-24T14:30:09.101Z"
      },
      {
        "duration": 7932,
        "start_time": "2022-05-24T14:31:18.696Z"
      },
      {
        "duration": 5,
        "start_time": "2022-05-24T14:31:26.631Z"
      },
      {
        "duration": 1967,
        "start_time": "2022-05-24T14:41:47.919Z"
      },
      {
        "duration": 3,
        "start_time": "2022-05-24T14:43:36.572Z"
      },
      {
        "duration": 3,
        "start_time": "2022-05-24T14:43:37.371Z"
      },
      {
        "duration": 74272,
        "start_time": "2022-05-24T14:43:38.451Z"
      },
      {
        "duration": 3,
        "start_time": "2022-05-24T14:45:38.528Z"
      },
      {
        "duration": 291661,
        "start_time": "2022-05-24T14:46:52.797Z"
      },
      {
        "duration": 6,
        "start_time": "2022-05-24T14:51:44.461Z"
      },
      {
        "duration": 4,
        "start_time": "2022-05-24T14:52:23.620Z"
      },
      {
        "duration": 3,
        "start_time": "2022-05-24T14:52:24.102Z"
      },
      {
        "duration": 4,
        "start_time": "2022-05-24T15:04:32.980Z"
      },
      {
        "duration": 14,
        "start_time": "2022-05-24T15:39:28.362Z"
      },
      {
        "duration": 6,
        "start_time": "2022-05-24T15:39:58.480Z"
      },
      {
        "duration": 8,
        "start_time": "2022-05-24T16:09:15.148Z"
      },
      {
        "duration": 10,
        "start_time": "2022-05-24T16:15:56.024Z"
      },
      {
        "duration": 17,
        "start_time": "2022-05-24T16:15:59.282Z"
      },
      {
        "duration": 6,
        "start_time": "2022-05-24T17:05:41.989Z"
      },
      {
        "duration": 6,
        "start_time": "2022-05-24T17:05:41.997Z"
      },
      {
        "duration": 6,
        "start_time": "2022-05-24T17:05:42.005Z"
      },
      {
        "duration": 725,
        "start_time": "2022-05-24T17:05:42.013Z"
      },
      {
        "duration": 58,
        "start_time": "2022-05-24T17:05:42.739Z"
      },
      {
        "duration": 48,
        "start_time": "2022-05-24T17:05:42.798Z"
      },
      {
        "duration": 106,
        "start_time": "2022-05-24T17:05:42.847Z"
      },
      {
        "duration": 83,
        "start_time": "2022-05-24T17:05:42.955Z"
      },
      {
        "duration": 5,
        "start_time": "2022-05-24T17:05:43.040Z"
      },
      {
        "duration": 26,
        "start_time": "2022-05-24T17:05:43.047Z"
      },
      {
        "duration": 16,
        "start_time": "2022-05-24T17:05:43.075Z"
      },
      {
        "duration": 5,
        "start_time": "2022-05-24T17:05:43.093Z"
      },
      {
        "duration": 7,
        "start_time": "2022-05-24T17:05:43.100Z"
      },
      {
        "duration": 8,
        "start_time": "2022-05-24T17:05:43.108Z"
      },
      {
        "duration": 12,
        "start_time": "2022-05-24T17:05:43.117Z"
      },
      {
        "duration": 13,
        "start_time": "2022-05-24T17:05:43.131Z"
      },
      {
        "duration": 8,
        "start_time": "2022-05-24T17:05:43.146Z"
      },
      {
        "duration": 16,
        "start_time": "2022-05-24T17:05:43.156Z"
      },
      {
        "duration": 15,
        "start_time": "2022-05-24T17:05:43.179Z"
      },
      {
        "duration": 42,
        "start_time": "2022-05-24T17:05:43.196Z"
      },
      {
        "duration": 101,
        "start_time": "2022-05-24T17:05:43.240Z"
      },
      {
        "duration": 8,
        "start_time": "2022-05-24T17:05:43.343Z"
      },
      {
        "duration": 34,
        "start_time": "2022-05-24T17:05:43.352Z"
      },
      {
        "duration": 7,
        "start_time": "2022-05-24T17:05:43.388Z"
      },
      {
        "duration": 5,
        "start_time": "2022-05-24T17:05:43.397Z"
      },
      {
        "duration": 338,
        "start_time": "2022-05-24T17:05:43.404Z"
      },
      {
        "duration": 353,
        "start_time": "2022-05-24T17:05:43.744Z"
      },
      {
        "duration": 345,
        "start_time": "2022-05-24T17:05:44.099Z"
      },
      {
        "duration": 5,
        "start_time": "2022-05-24T17:05:44.446Z"
      },
      {
        "duration": 715,
        "start_time": "2022-05-24T17:05:44.452Z"
      },
      {
        "duration": 440,
        "start_time": "2022-05-24T17:05:45.171Z"
      },
      {
        "duration": 11,
        "start_time": "2022-05-24T17:05:45.613Z"
      },
      {
        "duration": 250,
        "start_time": "2022-05-24T17:05:45.626Z"
      },
      {
        "duration": 198,
        "start_time": "2022-05-24T17:05:45.878Z"
      },
      {
        "duration": 191,
        "start_time": "2022-05-24T17:05:46.082Z"
      },
      {
        "duration": 150,
        "start_time": "2022-05-24T17:05:46.274Z"
      },
      {
        "duration": 2,
        "start_time": "2022-05-24T17:05:46.426Z"
      },
      {
        "duration": 5,
        "start_time": "2022-05-24T17:05:46.430Z"
      },
      {
        "duration": 4,
        "start_time": "2022-05-24T17:05:46.437Z"
      },
      {
        "duration": 5,
        "start_time": "2022-05-24T17:05:46.442Z"
      },
      {
        "duration": 29,
        "start_time": "2022-05-24T17:05:46.448Z"
      },
      {
        "duration": 11,
        "start_time": "2022-05-24T17:05:46.480Z"
      },
      {
        "duration": 9,
        "start_time": "2022-05-24T17:05:46.492Z"
      },
      {
        "duration": 5,
        "start_time": "2022-05-24T17:05:46.502Z"
      },
      {
        "duration": 4,
        "start_time": "2022-05-24T17:05:46.509Z"
      },
      {
        "duration": 4,
        "start_time": "2022-05-24T17:05:46.515Z"
      },
      {
        "duration": 12168,
        "start_time": "2022-05-24T17:05:46.521Z"
      },
      {
        "duration": 3,
        "start_time": "2022-05-24T17:05:58.691Z"
      },
      {
        "duration": 46577,
        "start_time": "2022-05-24T17:05:58.695Z"
      },
      {
        "duration": 11407,
        "start_time": "2022-05-24T17:06:45.274Z"
      },
      {
        "duration": 3,
        "start_time": "2022-05-24T17:06:56.683Z"
      },
      {
        "duration": 46228,
        "start_time": "2022-05-24T17:06:56.691Z"
      },
      {
        "duration": 6,
        "start_time": "2022-05-24T17:07:42.921Z"
      },
      {
        "duration": 11,
        "start_time": "2022-05-24T17:07:42.929Z"
      },
      {
        "duration": 201358,
        "start_time": "2022-05-24T17:07:42.942Z"
      },
      {
        "duration": 3,
        "start_time": "2022-05-24T17:11:04.301Z"
      },
      {
        "duration": 758601,
        "start_time": "2022-05-24T17:11:04.306Z"
      },
      {
        "duration": 197105,
        "start_time": "2022-05-24T17:23:42.909Z"
      },
      {
        "duration": 4,
        "start_time": "2022-05-24T17:27:00.016Z"
      },
      {
        "duration": 837273,
        "start_time": "2022-05-24T17:27:00.022Z"
      },
      {
        "duration": 7,
        "start_time": "2022-05-24T17:40:57.297Z"
      },
      {
        "duration": 77,
        "start_time": "2022-05-24T17:40:57.306Z"
      },
      {
        "duration": 0,
        "start_time": "2022-05-24T17:40:57.389Z"
      },
      {
        "duration": 0,
        "start_time": "2022-05-24T17:40:57.390Z"
      },
      {
        "duration": 0,
        "start_time": "2022-05-24T17:40:57.392Z"
      },
      {
        "duration": 0,
        "start_time": "2022-05-24T17:40:57.395Z"
      },
      {
        "duration": 0,
        "start_time": "2022-05-24T17:40:57.398Z"
      },
      {
        "duration": 0,
        "start_time": "2022-05-24T17:40:57.400Z"
      },
      {
        "duration": 0,
        "start_time": "2022-05-24T17:40:57.402Z"
      },
      {
        "duration": 0,
        "start_time": "2022-05-24T17:40:57.403Z"
      },
      {
        "duration": 0,
        "start_time": "2022-05-24T17:40:57.405Z"
      },
      {
        "duration": 0,
        "start_time": "2022-05-24T17:40:57.406Z"
      },
      {
        "duration": 0,
        "start_time": "2022-05-24T17:40:57.407Z"
      },
      {
        "duration": 0,
        "start_time": "2022-05-24T17:40:57.409Z"
      },
      {
        "duration": 0,
        "start_time": "2022-05-24T17:40:57.410Z"
      },
      {
        "duration": 0,
        "start_time": "2022-05-24T17:40:57.411Z"
      },
      {
        "duration": 0,
        "start_time": "2022-05-24T17:40:57.413Z"
      },
      {
        "duration": 0,
        "start_time": "2022-05-24T17:40:57.414Z"
      },
      {
        "duration": 0,
        "start_time": "2022-05-24T17:40:57.415Z"
      },
      {
        "duration": 0,
        "start_time": "2022-05-24T17:40:57.416Z"
      },
      {
        "duration": 10,
        "start_time": "2022-05-24T20:08:37.821Z"
      },
      {
        "duration": 2,
        "start_time": "2022-05-24T20:12:45.430Z"
      },
      {
        "duration": 13,
        "start_time": "2022-05-24T20:12:47.884Z"
      },
      {
        "duration": 13,
        "start_time": "2022-05-24T20:13:13.227Z"
      },
      {
        "duration": 10,
        "start_time": "2022-05-24T20:13:21.730Z"
      },
      {
        "duration": 2,
        "start_time": "2022-05-24T20:13:33.791Z"
      },
      {
        "duration": 11,
        "start_time": "2022-05-24T20:13:37.944Z"
      },
      {
        "duration": 3,
        "start_time": "2022-05-24T20:14:00.479Z"
      },
      {
        "duration": 15,
        "start_time": "2022-05-24T20:14:00.997Z"
      },
      {
        "duration": 2294,
        "start_time": "2022-05-24T20:14:40.482Z"
      },
      {
        "duration": 3,
        "start_time": "2022-05-24T20:15:19.429Z"
      },
      {
        "duration": 12,
        "start_time": "2022-05-24T20:15:37.299Z"
      },
      {
        "duration": 3,
        "start_time": "2022-05-24T20:15:47.824Z"
      },
      {
        "duration": 4483,
        "start_time": "2022-05-24T20:15:48.805Z"
      },
      {
        "duration": 4449,
        "start_time": "2022-05-24T20:16:10.038Z"
      },
      {
        "duration": 4,
        "start_time": "2022-05-24T20:16:29.644Z"
      },
      {
        "duration": 4,
        "start_time": "2022-05-24T20:16:33.511Z"
      },
      {
        "duration": 24291,
        "start_time": "2022-05-24T20:16:36.380Z"
      },
      {
        "duration": 22525,
        "start_time": "2022-05-24T20:17:10.155Z"
      },
      {
        "duration": 5,
        "start_time": "2022-05-24T20:22:05.679Z"
      },
      {
        "duration": 13,
        "start_time": "2022-05-24T20:22:19.322Z"
      },
      {
        "duration": 12,
        "start_time": "2022-05-24T20:22:43.864Z"
      },
      {
        "duration": 5,
        "start_time": "2022-05-24T20:24:54.689Z"
      },
      {
        "duration": 6,
        "start_time": "2022-05-24T20:24:59.677Z"
      },
      {
        "duration": 5,
        "start_time": "2022-05-24T20:25:14.815Z"
      },
      {
        "duration": 3603,
        "start_time": "2022-05-24T20:25:20.578Z"
      },
      {
        "duration": 4743,
        "start_time": "2022-05-24T20:29:08.727Z"
      },
      {
        "duration": 3,
        "start_time": "2022-05-24T20:30:59.229Z"
      },
      {
        "duration": 452,
        "start_time": "2022-05-24T20:31:06.607Z"
      },
      {
        "duration": 9119,
        "start_time": "2022-05-24T20:31:09.331Z"
      },
      {
        "duration": 4,
        "start_time": "2022-05-24T20:31:21.176Z"
      },
      {
        "duration": 3448,
        "start_time": "2022-05-24T20:31:27.596Z"
      },
      {
        "duration": 3358,
        "start_time": "2022-05-24T20:31:33.183Z"
      },
      {
        "duration": 3,
        "start_time": "2022-05-24T20:31:38.688Z"
      },
      {
        "duration": 5,
        "start_time": "2022-05-24T20:31:48.634Z"
      },
      {
        "duration": 86,
        "start_time": "2022-05-24T20:32:16.220Z"
      },
      {
        "duration": 6,
        "start_time": "2022-05-24T20:32:48.033Z"
      },
      {
        "duration": 5,
        "start_time": "2022-05-24T20:33:00.824Z"
      },
      {
        "duration": 7,
        "start_time": "2022-05-24T20:33:23.895Z"
      },
      {
        "duration": 5,
        "start_time": "2022-05-24T20:45:44.788Z"
      },
      {
        "duration": 5,
        "start_time": "2022-05-24T20:47:12.419Z"
      },
      {
        "duration": 7,
        "start_time": "2022-05-24T20:47:12.951Z"
      },
      {
        "duration": 8,
        "start_time": "2022-05-24T20:47:46.219Z"
      },
      {
        "duration": 10,
        "start_time": "2022-05-24T20:55:12.700Z"
      },
      {
        "duration": 52,
        "start_time": "2022-05-24T20:55:23.256Z"
      },
      {
        "duration": 3,
        "start_time": "2022-05-24T20:55:31.651Z"
      },
      {
        "duration": 4,
        "start_time": "2022-05-24T20:57:06.146Z"
      },
      {
        "duration": 3,
        "start_time": "2022-05-24T20:57:06.518Z"
      },
      {
        "duration": 6,
        "start_time": "2022-05-24T20:57:09.041Z"
      },
      {
        "duration": 5,
        "start_time": "2022-05-24T20:57:15.337Z"
      },
      {
        "duration": 12264,
        "start_time": "2022-05-24T21:02:48.520Z"
      },
      {
        "duration": 0,
        "start_time": "2022-05-24T21:03:00.786Z"
      },
      {
        "duration": 11846,
        "start_time": "2022-05-24T21:03:39.219Z"
      },
      {
        "duration": 10490,
        "start_time": "2022-05-24T21:03:54.249Z"
      },
      {
        "duration": 3,
        "start_time": "2022-05-24T21:04:49.939Z"
      },
      {
        "duration": 4,
        "start_time": "2022-05-24T21:05:57.709Z"
      },
      {
        "duration": 1330,
        "start_time": "2022-05-25T09:32:02.730Z"
      },
      {
        "duration": 3,
        "start_time": "2022-05-25T09:32:04.062Z"
      },
      {
        "duration": 6,
        "start_time": "2022-05-25T09:32:04.066Z"
      },
      {
        "duration": 2968,
        "start_time": "2022-05-25T09:32:04.074Z"
      },
      {
        "duration": 40,
        "start_time": "2022-05-25T09:32:07.044Z"
      },
      {
        "duration": 74,
        "start_time": "2022-05-25T09:32:07.085Z"
      },
      {
        "duration": 109,
        "start_time": "2022-05-25T09:32:07.161Z"
      },
      {
        "duration": 109,
        "start_time": "2022-05-25T09:32:07.272Z"
      },
      {
        "duration": 6,
        "start_time": "2022-05-25T09:32:07.383Z"
      },
      {
        "duration": 14,
        "start_time": "2022-05-25T09:32:07.391Z"
      },
      {
        "duration": 8,
        "start_time": "2022-05-25T09:32:07.407Z"
      },
      {
        "duration": 13,
        "start_time": "2022-05-25T09:32:07.416Z"
      },
      {
        "duration": 26,
        "start_time": "2022-05-25T09:32:07.430Z"
      },
      {
        "duration": 8,
        "start_time": "2022-05-25T09:32:07.458Z"
      },
      {
        "duration": 15,
        "start_time": "2022-05-25T09:32:07.468Z"
      },
      {
        "duration": 11,
        "start_time": "2022-05-25T09:32:07.484Z"
      },
      {
        "duration": 9,
        "start_time": "2022-05-25T09:32:07.496Z"
      },
      {
        "duration": 10,
        "start_time": "2022-05-25T09:32:07.506Z"
      },
      {
        "duration": 13,
        "start_time": "2022-05-25T09:32:07.518Z"
      },
      {
        "duration": 41,
        "start_time": "2022-05-25T09:32:07.533Z"
      },
      {
        "duration": 86,
        "start_time": "2022-05-25T09:32:07.575Z"
      },
      {
        "duration": 7,
        "start_time": "2022-05-25T09:32:07.663Z"
      },
      {
        "duration": 6,
        "start_time": "2022-05-25T09:32:07.672Z"
      },
      {
        "duration": 13,
        "start_time": "2022-05-25T09:32:07.680Z"
      },
      {
        "duration": 6,
        "start_time": "2022-05-25T09:32:07.694Z"
      },
      {
        "duration": 344,
        "start_time": "2022-05-25T09:32:07.702Z"
      },
      {
        "duration": 313,
        "start_time": "2022-05-25T09:32:08.048Z"
      },
      {
        "duration": 316,
        "start_time": "2022-05-25T09:32:08.365Z"
      },
      {
        "duration": 5,
        "start_time": "2022-05-25T09:32:08.682Z"
      },
      {
        "duration": 443,
        "start_time": "2022-05-25T09:32:08.688Z"
      },
      {
        "duration": 457,
        "start_time": "2022-05-25T09:32:09.133Z"
      },
      {
        "duration": 11,
        "start_time": "2022-05-25T09:32:09.594Z"
      },
      {
        "duration": 187,
        "start_time": "2022-05-25T09:32:09.607Z"
      },
      {
        "duration": 191,
        "start_time": "2022-05-25T09:32:09.796Z"
      },
      {
        "duration": 188,
        "start_time": "2022-05-25T09:32:09.989Z"
      },
      {
        "duration": 248,
        "start_time": "2022-05-25T09:32:10.179Z"
      },
      {
        "duration": 3,
        "start_time": "2022-05-25T09:32:10.429Z"
      },
      {
        "duration": 7,
        "start_time": "2022-05-25T09:32:10.434Z"
      },
      {
        "duration": 6,
        "start_time": "2022-05-25T09:32:10.442Z"
      },
      {
        "duration": 3,
        "start_time": "2022-05-25T09:32:10.459Z"
      },
      {
        "duration": 28,
        "start_time": "2022-05-25T09:32:10.464Z"
      },
      {
        "duration": 8,
        "start_time": "2022-05-25T09:32:10.494Z"
      },
      {
        "duration": 13,
        "start_time": "2022-05-25T09:32:10.503Z"
      },
      {
        "duration": 6,
        "start_time": "2022-05-25T09:32:10.518Z"
      },
      {
        "duration": 7,
        "start_time": "2022-05-25T09:32:10.525Z"
      },
      {
        "duration": 9,
        "start_time": "2022-05-25T09:32:10.534Z"
      },
      {
        "duration": 10906,
        "start_time": "2022-05-25T09:32:10.544Z"
      },
      {
        "duration": 8,
        "start_time": "2022-05-25T09:32:21.452Z"
      },
      {
        "duration": 42481,
        "start_time": "2022-05-25T09:32:21.462Z"
      },
      {
        "duration": 10965,
        "start_time": "2022-05-25T09:33:03.945Z"
      },
      {
        "duration": 3,
        "start_time": "2022-05-25T09:33:14.912Z"
      },
      {
        "duration": 43147,
        "start_time": "2022-05-25T09:33:14.917Z"
      },
      {
        "duration": 3,
        "start_time": "2022-05-25T09:33:58.065Z"
      },
      {
        "duration": 9,
        "start_time": "2022-05-25T09:33:58.070Z"
      },
      {
        "duration": 558004,
        "start_time": "2022-05-25T09:33:58.081Z"
      },
      {
        "duration": 3,
        "start_time": "2022-05-25T09:43:16.087Z"
      },
      {
        "duration": 693283,
        "start_time": "2022-05-25T09:43:16.091Z"
      },
      {
        "duration": 174101,
        "start_time": "2022-05-25T09:54:49.375Z"
      },
      {
        "duration": 3,
        "start_time": "2022-05-25T09:57:43.477Z"
      },
      {
        "duration": 684239,
        "start_time": "2022-05-25T09:57:43.481Z"
      },
      {
        "duration": 3,
        "start_time": "2022-05-25T10:09:07.722Z"
      },
      {
        "duration": 14,
        "start_time": "2022-05-25T10:09:07.727Z"
      },
      {
        "duration": 3018,
        "start_time": "2022-05-25T10:09:07.743Z"
      },
      {
        "duration": 3,
        "start_time": "2022-05-25T10:09:10.858Z"
      },
      {
        "duration": 13900,
        "start_time": "2022-05-25T10:09:10.863Z"
      },
      {
        "duration": 2590,
        "start_time": "2022-05-25T10:09:24.769Z"
      },
      {
        "duration": 5,
        "start_time": "2022-05-25T10:09:27.361Z"
      },
      {
        "duration": 15291,
        "start_time": "2022-05-25T10:09:27.368Z"
      },
      {
        "duration": 5,
        "start_time": "2022-05-25T10:09:42.661Z"
      },
      {
        "duration": 90,
        "start_time": "2022-05-25T10:09:42.669Z"
      },
      {
        "duration": 7,
        "start_time": "2022-05-25T10:09:42.761Z"
      },
      {
        "duration": 8,
        "start_time": "2022-05-25T10:09:42.770Z"
      },
      {
        "duration": 11853,
        "start_time": "2022-05-25T10:09:42.780Z"
      },
      {
        "duration": 9824,
        "start_time": "2022-05-25T10:09:54.635Z"
      },
      {
        "duration": 4,
        "start_time": "2022-05-25T10:10:04.460Z"
      },
      {
        "duration": 4,
        "start_time": "2022-05-25T13:38:41.513Z"
      },
      {
        "duration": 4,
        "start_time": "2022-05-25T13:38:56.628Z"
      },
      {
        "duration": 158,
        "start_time": "2022-05-25T13:51:37.513Z"
      },
      {
        "duration": 34,
        "start_time": "2022-05-25T13:52:42.241Z"
      },
      {
        "duration": 14,
        "start_time": "2022-05-25T13:52:49.361Z"
      },
      {
        "duration": 45,
        "start_time": "2022-05-25T13:55:20.390Z"
      },
      {
        "duration": 4,
        "start_time": "2022-05-25T14:11:33.085Z"
      },
      {
        "duration": 10723,
        "start_time": "2022-05-25T14:11:33.303Z"
      },
      {
        "duration": 3,
        "start_time": "2022-05-25T14:11:44.028Z"
      },
      {
        "duration": 42405,
        "start_time": "2022-05-25T14:11:44.032Z"
      },
      {
        "duration": 5,
        "start_time": "2022-05-25T14:12:48.496Z"
      },
      {
        "duration": 4,
        "start_time": "2022-05-25T14:18:01.859Z"
      },
      {
        "duration": 1320,
        "start_time": "2022-05-25T14:19:00.968Z"
      },
      {
        "duration": 3,
        "start_time": "2022-05-25T14:19:02.290Z"
      },
      {
        "duration": 10,
        "start_time": "2022-05-25T14:19:02.294Z"
      },
      {
        "duration": 658,
        "start_time": "2022-05-25T14:19:02.306Z"
      },
      {
        "duration": 42,
        "start_time": "2022-05-25T14:19:02.966Z"
      },
      {
        "duration": 73,
        "start_time": "2022-05-25T14:19:03.010Z"
      },
      {
        "duration": 87,
        "start_time": "2022-05-25T14:19:03.085Z"
      },
      {
        "duration": 68,
        "start_time": "2022-05-25T14:19:03.173Z"
      },
      {
        "duration": 18,
        "start_time": "2022-05-25T14:19:03.242Z"
      },
      {
        "duration": 3,
        "start_time": "2022-05-25T14:19:03.262Z"
      },
      {
        "duration": 13,
        "start_time": "2022-05-25T14:19:03.267Z"
      },
      {
        "duration": 5,
        "start_time": "2022-05-25T14:19:03.281Z"
      },
      {
        "duration": 11,
        "start_time": "2022-05-25T14:19:03.288Z"
      },
      {
        "duration": 4,
        "start_time": "2022-05-25T14:19:03.301Z"
      },
      {
        "duration": 15,
        "start_time": "2022-05-25T14:19:03.307Z"
      },
      {
        "duration": 10,
        "start_time": "2022-05-25T14:19:03.324Z"
      },
      {
        "duration": 27,
        "start_time": "2022-05-25T14:19:03.335Z"
      },
      {
        "duration": 11,
        "start_time": "2022-05-25T14:19:03.364Z"
      },
      {
        "duration": 9,
        "start_time": "2022-05-25T14:19:03.377Z"
      },
      {
        "duration": 27,
        "start_time": "2022-05-25T14:19:03.388Z"
      },
      {
        "duration": 90,
        "start_time": "2022-05-25T14:19:03.417Z"
      },
      {
        "duration": 6,
        "start_time": "2022-05-25T14:19:03.510Z"
      },
      {
        "duration": 16,
        "start_time": "2022-05-25T14:19:03.517Z"
      },
      {
        "duration": 15,
        "start_time": "2022-05-25T14:19:03.534Z"
      },
      {
        "duration": 11,
        "start_time": "2022-05-25T14:19:03.551Z"
      },
      {
        "duration": 317,
        "start_time": "2022-05-25T14:19:03.564Z"
      },
      {
        "duration": 322,
        "start_time": "2022-05-25T14:19:03.883Z"
      },
      {
        "duration": 602,
        "start_time": "2022-05-25T14:19:04.261Z"
      },
      {
        "duration": 5,
        "start_time": "2022-05-25T14:19:04.864Z"
      },
      {
        "duration": 611,
        "start_time": "2022-05-25T14:19:04.870Z"
      },
      {
        "duration": 717,
        "start_time": "2022-05-25T14:19:05.483Z"
      },
      {
        "duration": 63,
        "start_time": "2022-05-25T14:19:06.202Z"
      },
      {
        "duration": 259,
        "start_time": "2022-05-25T14:19:06.267Z"
      },
      {
        "duration": 184,
        "start_time": "2022-05-25T14:19:06.528Z"
      },
      {
        "duration": 193,
        "start_time": "2022-05-25T14:19:06.713Z"
      },
      {
        "duration": 250,
        "start_time": "2022-05-25T14:19:06.908Z"
      },
      {
        "duration": 5,
        "start_time": "2022-05-25T14:19:07.160Z"
      },
      {
        "duration": 13,
        "start_time": "2022-05-25T14:19:07.167Z"
      },
      {
        "duration": 11,
        "start_time": "2022-05-25T14:19:07.182Z"
      },
      {
        "duration": 14,
        "start_time": "2022-05-25T14:19:07.195Z"
      },
      {
        "duration": 26,
        "start_time": "2022-05-25T14:19:07.211Z"
      },
      {
        "duration": 28,
        "start_time": "2022-05-25T14:19:07.239Z"
      },
      {
        "duration": 20,
        "start_time": "2022-05-25T14:19:07.269Z"
      },
      {
        "duration": 10,
        "start_time": "2022-05-25T14:19:07.291Z"
      },
      {
        "duration": 16,
        "start_time": "2022-05-25T14:19:07.303Z"
      },
      {
        "duration": 11,
        "start_time": "2022-05-25T14:19:07.321Z"
      },
      {
        "duration": 10950,
        "start_time": "2022-05-25T14:19:07.334Z"
      },
      {
        "duration": 4,
        "start_time": "2022-05-25T14:19:18.285Z"
      },
      {
        "duration": 42294,
        "start_time": "2022-05-25T14:19:18.290Z"
      },
      {
        "duration": 10642,
        "start_time": "2022-05-25T14:20:00.586Z"
      },
      {
        "duration": 4,
        "start_time": "2022-05-25T14:20:11.229Z"
      },
      {
        "duration": 42151,
        "start_time": "2022-05-25T14:20:11.235Z"
      },
      {
        "duration": 4,
        "start_time": "2022-05-25T14:20:53.391Z"
      },
      {
        "duration": 7,
        "start_time": "2022-05-25T14:20:53.397Z"
      },
      {
        "duration": 177064,
        "start_time": "2022-05-25T14:20:53.405Z"
      },
      {
        "duration": 4,
        "start_time": "2022-05-25T14:23:50.471Z"
      },
      {
        "duration": 698324,
        "start_time": "2022-05-25T14:23:50.477Z"
      },
      {
        "duration": 173984,
        "start_time": "2022-05-25T14:35:28.803Z"
      },
      {
        "duration": 3,
        "start_time": "2022-05-25T14:38:22.789Z"
      },
      {
        "duration": 695598,
        "start_time": "2022-05-25T14:38:22.793Z"
      },
      {
        "duration": 4,
        "start_time": "2022-05-25T14:49:58.393Z"
      },
      {
        "duration": 12,
        "start_time": "2022-05-25T14:49:58.399Z"
      },
      {
        "duration": 5465,
        "start_time": "2022-05-25T14:49:58.413Z"
      },
      {
        "duration": 7,
        "start_time": "2022-05-25T14:50:03.960Z"
      },
      {
        "duration": 19893,
        "start_time": "2022-05-25T14:50:03.974Z"
      },
      {
        "duration": 4194,
        "start_time": "2022-05-25T14:50:23.870Z"
      },
      {
        "duration": 10,
        "start_time": "2022-05-25T14:50:28.066Z"
      },
      {
        "duration": 20506,
        "start_time": "2022-05-25T14:50:28.161Z"
      },
      {
        "duration": 95,
        "start_time": "2022-05-25T14:50:48.674Z"
      },
      {
        "duration": 94,
        "start_time": "2022-05-25T14:50:48.774Z"
      },
      {
        "duration": 15,
        "start_time": "2022-05-25T14:50:48.871Z"
      },
      {
        "duration": 3,
        "start_time": "2022-05-25T14:50:48.888Z"
      },
      {
        "duration": 13074,
        "start_time": "2022-05-25T14:50:48.893Z"
      },
      {
        "duration": 11189,
        "start_time": "2022-05-25T14:51:01.970Z"
      },
      {
        "duration": 4,
        "start_time": "2022-05-25T14:51:13.163Z"
      },
      {
        "duration": 1625,
        "start_time": "2022-05-26T06:29:46.429Z"
      },
      {
        "duration": 4,
        "start_time": "2022-05-26T06:29:48.057Z"
      },
      {
        "duration": 15,
        "start_time": "2022-05-26T06:29:48.062Z"
      },
      {
        "duration": 4071,
        "start_time": "2022-05-26T06:29:48.079Z"
      },
      {
        "duration": 54,
        "start_time": "2022-05-26T06:29:52.155Z"
      },
      {
        "duration": 70,
        "start_time": "2022-05-26T06:29:52.211Z"
      },
      {
        "duration": 133,
        "start_time": "2022-05-26T06:29:52.283Z"
      },
      {
        "duration": 106,
        "start_time": "2022-05-26T06:29:52.417Z"
      },
      {
        "duration": 5,
        "start_time": "2022-05-26T06:29:52.529Z"
      },
      {
        "duration": 4,
        "start_time": "2022-05-26T06:29:52.536Z"
      },
      {
        "duration": 29,
        "start_time": "2022-05-26T06:29:52.542Z"
      },
      {
        "duration": 7,
        "start_time": "2022-05-26T06:29:52.573Z"
      },
      {
        "duration": 12,
        "start_time": "2022-05-26T06:29:52.581Z"
      },
      {
        "duration": 62,
        "start_time": "2022-05-26T06:29:52.597Z"
      },
      {
        "duration": 18,
        "start_time": "2022-05-26T06:29:52.662Z"
      },
      {
        "duration": 11,
        "start_time": "2022-05-26T06:29:52.682Z"
      },
      {
        "duration": 34,
        "start_time": "2022-05-26T06:29:52.698Z"
      },
      {
        "duration": 21,
        "start_time": "2022-05-26T06:29:52.735Z"
      },
      {
        "duration": 13,
        "start_time": "2022-05-26T06:29:52.758Z"
      },
      {
        "duration": 42,
        "start_time": "2022-05-26T06:29:52.773Z"
      },
      {
        "duration": 100,
        "start_time": "2022-05-26T06:29:52.817Z"
      },
      {
        "duration": 18,
        "start_time": "2022-05-26T06:29:52.919Z"
      },
      {
        "duration": 20,
        "start_time": "2022-05-26T06:29:52.941Z"
      },
      {
        "duration": 13,
        "start_time": "2022-05-26T06:29:52.963Z"
      },
      {
        "duration": 13,
        "start_time": "2022-05-26T06:29:52.979Z"
      },
      {
        "duration": 438,
        "start_time": "2022-05-26T06:29:52.998Z"
      },
      {
        "duration": 400,
        "start_time": "2022-05-26T06:29:53.438Z"
      },
      {
        "duration": 393,
        "start_time": "2022-05-26T06:29:53.840Z"
      },
      {
        "duration": 5,
        "start_time": "2022-05-26T06:29:54.237Z"
      },
      {
        "duration": 480,
        "start_time": "2022-05-26T06:29:54.246Z"
      },
      {
        "duration": 797,
        "start_time": "2022-05-26T06:29:54.727Z"
      },
      {
        "duration": 16,
        "start_time": "2022-05-26T06:29:55.526Z"
      },
      {
        "duration": 398,
        "start_time": "2022-05-26T06:29:55.544Z"
      },
      {
        "duration": 388,
        "start_time": "2022-05-26T06:29:55.946Z"
      },
      {
        "duration": 378,
        "start_time": "2022-05-26T06:29:56.336Z"
      },
      {
        "duration": 294,
        "start_time": "2022-05-26T06:29:56.716Z"
      },
      {
        "duration": 117,
        "start_time": "2022-05-26T06:32:57.015Z"
      },
      {
        "duration": 85,
        "start_time": "2022-05-26T06:33:06.059Z"
      },
      {
        "duration": 7,
        "start_time": "2022-05-26T06:37:05.294Z"
      },
      {
        "duration": 42,
        "start_time": "2022-05-26T06:40:41.231Z"
      },
      {
        "duration": 77,
        "start_time": "2022-05-26T06:40:47.129Z"
      },
      {
        "duration": 79,
        "start_time": "2022-05-26T06:41:13.560Z"
      },
      {
        "duration": 8,
        "start_time": "2022-05-26T06:41:20.323Z"
      },
      {
        "duration": 14,
        "start_time": "2022-05-26T06:41:28.616Z"
      },
      {
        "duration": 5,
        "start_time": "2022-05-26T06:41:32.720Z"
      },
      {
        "duration": 8,
        "start_time": "2022-05-26T06:46:30.513Z"
      },
      {
        "duration": 88,
        "start_time": "2022-05-26T06:46:34.048Z"
      },
      {
        "duration": 8,
        "start_time": "2022-05-26T06:49:28.936Z"
      },
      {
        "duration": 196,
        "start_time": "2022-05-26T06:49:59.789Z"
      },
      {
        "duration": 13,
        "start_time": "2022-05-26T06:52:06.049Z"
      },
      {
        "duration": 85,
        "start_time": "2022-05-26T06:52:09.824Z"
      },
      {
        "duration": 52,
        "start_time": "2022-05-26T06:52:33.751Z"
      },
      {
        "duration": 4,
        "start_time": "2022-05-26T06:52:48.334Z"
      },
      {
        "duration": 4,
        "start_time": "2022-05-26T06:53:17.267Z"
      },
      {
        "duration": 11,
        "start_time": "2022-05-26T06:54:00.768Z"
      },
      {
        "duration": 99,
        "start_time": "2022-05-26T06:54:06.025Z"
      },
      {
        "duration": 15,
        "start_time": "2022-05-26T06:55:27.321Z"
      },
      {
        "duration": 92,
        "start_time": "2022-05-26T06:55:55.087Z"
      },
      {
        "duration": 78,
        "start_time": "2022-05-26T06:55:59.775Z"
      },
      {
        "duration": 4,
        "start_time": "2022-05-26T07:05:21.345Z"
      },
      {
        "duration": 9,
        "start_time": "2022-05-26T07:05:21.351Z"
      },
      {
        "duration": 4,
        "start_time": "2022-05-26T07:05:21.362Z"
      },
      {
        "duration": 1065,
        "start_time": "2022-05-26T07:05:21.368Z"
      },
      {
        "duration": 47,
        "start_time": "2022-05-26T07:05:22.437Z"
      },
      {
        "duration": 90,
        "start_time": "2022-05-26T07:05:22.486Z"
      },
      {
        "duration": 109,
        "start_time": "2022-05-26T07:05:22.578Z"
      },
      {
        "duration": 79,
        "start_time": "2022-05-26T07:05:22.693Z"
      },
      {
        "duration": 5,
        "start_time": "2022-05-26T07:05:22.774Z"
      },
      {
        "duration": 10,
        "start_time": "2022-05-26T07:05:22.797Z"
      },
      {
        "duration": 27,
        "start_time": "2022-05-26T07:05:22.809Z"
      },
      {
        "duration": 4,
        "start_time": "2022-05-26T07:05:22.838Z"
      },
      {
        "duration": 7,
        "start_time": "2022-05-26T07:05:22.843Z"
      },
      {
        "duration": 4,
        "start_time": "2022-05-26T07:05:22.852Z"
      },
      {
        "duration": 11,
        "start_time": "2022-05-26T07:05:22.857Z"
      },
      {
        "duration": 7,
        "start_time": "2022-05-26T07:05:22.870Z"
      },
      {
        "duration": 8,
        "start_time": "2022-05-26T07:05:22.878Z"
      },
      {
        "duration": 43,
        "start_time": "2022-05-26T07:05:22.888Z"
      },
      {
        "duration": 8,
        "start_time": "2022-05-26T07:05:22.933Z"
      },
      {
        "duration": 34,
        "start_time": "2022-05-26T07:05:22.943Z"
      },
      {
        "duration": 82,
        "start_time": "2022-05-26T07:05:22.979Z"
      },
      {
        "duration": 7,
        "start_time": "2022-05-26T07:05:23.062Z"
      },
      {
        "duration": 11,
        "start_time": "2022-05-26T07:05:23.070Z"
      },
      {
        "duration": 25,
        "start_time": "2022-05-26T07:05:23.082Z"
      },
      {
        "duration": 32,
        "start_time": "2022-05-26T07:05:23.110Z"
      },
      {
        "duration": 329,
        "start_time": "2022-05-26T07:05:23.144Z"
      },
      {
        "duration": 339,
        "start_time": "2022-05-26T07:05:23.475Z"
      },
      {
        "duration": 375,
        "start_time": "2022-05-26T07:05:23.816Z"
      },
      {
        "duration": 10,
        "start_time": "2022-05-26T07:05:24.192Z"
      },
      {
        "duration": 491,
        "start_time": "2022-05-26T07:05:24.204Z"
      },
      {
        "duration": 544,
        "start_time": "2022-05-26T07:05:24.698Z"
      },
      {
        "duration": 12,
        "start_time": "2022-05-26T07:05:25.245Z"
      },
      {
        "duration": 6,
        "start_time": "2022-05-26T07:05:25.259Z"
      },
      {
        "duration": 95,
        "start_time": "2022-05-26T07:05:25.267Z"
      },
      {
        "duration": 200,
        "start_time": "2022-05-26T07:05:25.364Z"
      },
      {
        "duration": 188,
        "start_time": "2022-05-26T07:05:25.566Z"
      },
      {
        "duration": 200,
        "start_time": "2022-05-26T07:05:25.756Z"
      },
      {
        "duration": 3,
        "start_time": "2022-05-26T07:05:25.957Z"
      },
      {
        "duration": 71,
        "start_time": "2022-05-26T07:05:39.319Z"
      },
      {
        "duration": 6,
        "start_time": "2022-05-26T07:05:40.066Z"
      },
      {
        "duration": 113,
        "start_time": "2022-05-26T07:05:46.155Z"
      },
      {
        "duration": 72,
        "start_time": "2022-05-26T07:06:05.120Z"
      },
      {
        "duration": 9,
        "start_time": "2022-05-26T07:06:13.330Z"
      },
      {
        "duration": 102,
        "start_time": "2022-05-26T07:06:17.224Z"
      },
      {
        "duration": 76,
        "start_time": "2022-05-26T07:06:44.465Z"
      },
      {
        "duration": 9,
        "start_time": "2022-05-26T07:06:58.723Z"
      },
      {
        "duration": 5,
        "start_time": "2022-05-26T07:07:08.629Z"
      },
      {
        "duration": 8,
        "start_time": "2022-05-26T07:07:15.173Z"
      },
      {
        "duration": 45,
        "start_time": "2022-05-26T07:07:21.027Z"
      },
      {
        "duration": 3,
        "start_time": "2022-05-26T07:07:39.480Z"
      },
      {
        "duration": 120,
        "start_time": "2022-05-26T07:07:49.308Z"
      },
      {
        "duration": 5,
        "start_time": "2022-05-26T07:08:06.012Z"
      },
      {
        "duration": 12,
        "start_time": "2022-05-26T07:08:43.569Z"
      },
      {
        "duration": 6,
        "start_time": "2022-05-26T07:09:00.748Z"
      },
      {
        "duration": 112,
        "start_time": "2022-05-26T07:09:00.759Z"
      },
      {
        "duration": 78,
        "start_time": "2022-05-26T07:09:00.874Z"
      },
      {
        "duration": 1118,
        "start_time": "2022-05-26T07:09:00.953Z"
      },
      {
        "duration": 78,
        "start_time": "2022-05-26T07:09:02.072Z"
      },
      {
        "duration": 69,
        "start_time": "2022-05-26T07:09:02.153Z"
      },
      {
        "duration": 198,
        "start_time": "2022-05-26T07:09:02.225Z"
      },
      {
        "duration": 148,
        "start_time": "2022-05-26T07:09:02.431Z"
      },
      {
        "duration": 7,
        "start_time": "2022-05-26T07:09:02.584Z"
      },
      {
        "duration": 83,
        "start_time": "2022-05-26T07:09:02.593Z"
      },
      {
        "duration": 11,
        "start_time": "2022-05-26T07:09:02.679Z"
      },
      {
        "duration": 68,
        "start_time": "2022-05-26T07:09:02.691Z"
      },
      {
        "duration": 15,
        "start_time": "2022-05-26T07:09:02.761Z"
      },
      {
        "duration": 3,
        "start_time": "2022-05-26T07:09:02.778Z"
      },
      {
        "duration": 17,
        "start_time": "2022-05-26T07:09:02.784Z"
      },
      {
        "duration": 49,
        "start_time": "2022-05-26T07:09:02.802Z"
      },
      {
        "duration": 25,
        "start_time": "2022-05-26T07:09:02.853Z"
      },
      {
        "duration": 13,
        "start_time": "2022-05-26T07:09:02.879Z"
      },
      {
        "duration": 65,
        "start_time": "2022-05-26T07:09:02.894Z"
      },
      {
        "duration": 50,
        "start_time": "2022-05-26T07:09:02.961Z"
      },
      {
        "duration": 104,
        "start_time": "2022-05-26T07:09:03.018Z"
      },
      {
        "duration": 15,
        "start_time": "2022-05-26T07:09:03.133Z"
      },
      {
        "duration": 31,
        "start_time": "2022-05-26T07:09:03.150Z"
      },
      {
        "duration": 17,
        "start_time": "2022-05-26T07:09:03.183Z"
      },
      {
        "duration": 10,
        "start_time": "2022-05-26T07:09:03.202Z"
      },
      {
        "duration": 412,
        "start_time": "2022-05-26T07:09:03.214Z"
      },
      {
        "duration": 367,
        "start_time": "2022-05-26T07:09:03.640Z"
      },
      {
        "duration": 412,
        "start_time": "2022-05-26T07:09:04.010Z"
      },
      {
        "duration": 8,
        "start_time": "2022-05-26T07:09:04.425Z"
      },
      {
        "duration": 729,
        "start_time": "2022-05-26T07:09:04.437Z"
      },
      {
        "duration": 603,
        "start_time": "2022-05-26T07:09:05.172Z"
      },
      {
        "duration": 19,
        "start_time": "2022-05-26T07:09:05.777Z"
      },
      {
        "duration": 223,
        "start_time": "2022-05-26T07:09:05.797Z"
      },
      {
        "duration": 228,
        "start_time": "2022-05-26T07:09:06.037Z"
      },
      {
        "duration": 213,
        "start_time": "2022-05-26T07:09:06.269Z"
      },
      {
        "duration": 14,
        "start_time": "2022-05-26T07:09:06.484Z"
      },
      {
        "duration": 113,
        "start_time": "2022-05-26T07:09:06.499Z"
      },
      {
        "duration": 14,
        "start_time": "2022-05-26T07:09:06.613Z"
      },
      {
        "duration": 85,
        "start_time": "2022-05-26T07:09:09.550Z"
      },
      {
        "duration": 49,
        "start_time": "2022-05-26T07:09:14.336Z"
      },
      {
        "duration": 4,
        "start_time": "2022-05-26T07:12:18.483Z"
      },
      {
        "duration": 13,
        "start_time": "2022-05-26T07:12:27.265Z"
      },
      {
        "duration": 10,
        "start_time": "2022-05-26T07:12:36.415Z"
      },
      {
        "duration": 38,
        "start_time": "2022-05-26T07:12:36.430Z"
      },
      {
        "duration": 10,
        "start_time": "2022-05-26T07:12:36.470Z"
      },
      {
        "duration": 960,
        "start_time": "2022-05-26T07:12:36.483Z"
      },
      {
        "duration": 52,
        "start_time": "2022-05-26T07:12:37.444Z"
      },
      {
        "duration": 73,
        "start_time": "2022-05-26T07:12:37.498Z"
      },
      {
        "duration": 154,
        "start_time": "2022-05-26T07:12:37.573Z"
      },
      {
        "duration": 99,
        "start_time": "2022-05-26T07:12:37.732Z"
      },
      {
        "duration": 6,
        "start_time": "2022-05-26T07:12:37.833Z"
      },
      {
        "duration": 38,
        "start_time": "2022-05-26T07:12:37.840Z"
      },
      {
        "duration": 9,
        "start_time": "2022-05-26T07:12:37.880Z"
      },
      {
        "duration": 40,
        "start_time": "2022-05-26T07:12:37.891Z"
      },
      {
        "duration": 36,
        "start_time": "2022-05-26T07:12:37.940Z"
      },
      {
        "duration": 11,
        "start_time": "2022-05-26T07:12:37.979Z"
      },
      {
        "duration": 75,
        "start_time": "2022-05-26T07:12:37.992Z"
      },
      {
        "duration": 36,
        "start_time": "2022-05-26T07:12:38.069Z"
      },
      {
        "duration": 100,
        "start_time": "2022-05-26T07:12:38.118Z"
      },
      {
        "duration": 49,
        "start_time": "2022-05-26T07:12:38.230Z"
      },
      {
        "duration": 17,
        "start_time": "2022-05-26T07:12:38.281Z"
      },
      {
        "duration": 105,
        "start_time": "2022-05-26T07:12:38.300Z"
      },
      {
        "duration": 95,
        "start_time": "2022-05-26T07:12:38.414Z"
      },
      {
        "duration": 11,
        "start_time": "2022-05-26T07:12:38.513Z"
      },
      {
        "duration": 33,
        "start_time": "2022-05-26T07:12:38.528Z"
      },
      {
        "duration": 12,
        "start_time": "2022-05-26T07:12:38.569Z"
      },
      {
        "duration": 6,
        "start_time": "2022-05-26T07:12:38.583Z"
      },
      {
        "duration": 422,
        "start_time": "2022-05-26T07:12:38.591Z"
      },
      {
        "duration": 403,
        "start_time": "2022-05-26T07:12:39.014Z"
      },
      {
        "duration": 389,
        "start_time": "2022-05-26T07:12:39.419Z"
      },
      {
        "duration": 22,
        "start_time": "2022-05-26T07:12:39.816Z"
      },
      {
        "duration": 419,
        "start_time": "2022-05-26T07:12:39.840Z"
      },
      {
        "duration": 508,
        "start_time": "2022-05-26T07:12:40.260Z"
      },
      {
        "duration": 13,
        "start_time": "2022-05-26T07:12:40.770Z"
      },
      {
        "duration": 247,
        "start_time": "2022-05-26T07:12:40.788Z"
      },
      {
        "duration": 212,
        "start_time": "2022-05-26T07:12:41.039Z"
      },
      {
        "duration": 210,
        "start_time": "2022-05-26T07:12:41.253Z"
      },
      {
        "duration": 3,
        "start_time": "2022-05-26T07:12:41.465Z"
      },
      {
        "duration": 60,
        "start_time": "2022-05-26T07:12:41.469Z"
      },
      {
        "duration": 15,
        "start_time": "2022-05-26T07:12:41.530Z"
      },
      {
        "duration": 14,
        "start_time": "2022-05-26T07:12:41.547Z"
      },
      {
        "duration": 5,
        "start_time": "2022-05-26T07:12:41.562Z"
      },
      {
        "duration": 7,
        "start_time": "2022-05-26T07:12:41.568Z"
      },
      {
        "duration": 6,
        "start_time": "2022-05-26T07:12:41.576Z"
      },
      {
        "duration": 24,
        "start_time": "2022-05-26T07:12:41.583Z"
      },
      {
        "duration": 45,
        "start_time": "2022-05-26T07:12:41.609Z"
      },
      {
        "duration": 11,
        "start_time": "2022-05-26T07:12:41.656Z"
      },
      {
        "duration": 6,
        "start_time": "2022-05-26T07:12:41.669Z"
      },
      {
        "duration": 10,
        "start_time": "2022-05-26T07:12:41.676Z"
      },
      {
        "duration": 6,
        "start_time": "2022-05-26T07:12:41.687Z"
      },
      {
        "duration": 12146,
        "start_time": "2022-05-26T07:12:41.697Z"
      },
      {
        "duration": 9,
        "start_time": "2022-05-26T07:12:53.848Z"
      },
      {
        "duration": 47635,
        "start_time": "2022-05-26T07:12:53.858Z"
      },
      {
        "duration": 11780,
        "start_time": "2022-05-26T07:13:41.505Z"
      },
      {
        "duration": 0,
        "start_time": "2022-05-26T07:13:53.288Z"
      },
      {
        "duration": 0,
        "start_time": "2022-05-26T07:13:53.291Z"
      },
      {
        "duration": 0,
        "start_time": "2022-05-26T07:13:53.292Z"
      },
      {
        "duration": 0,
        "start_time": "2022-05-26T07:13:53.296Z"
      },
      {
        "duration": 0,
        "start_time": "2022-05-26T07:13:53.297Z"
      },
      {
        "duration": 0,
        "start_time": "2022-05-26T07:13:53.299Z"
      },
      {
        "duration": 0,
        "start_time": "2022-05-26T07:13:53.300Z"
      },
      {
        "duration": 0,
        "start_time": "2022-05-26T07:13:53.301Z"
      },
      {
        "duration": 0,
        "start_time": "2022-05-26T07:13:53.304Z"
      },
      {
        "duration": 0,
        "start_time": "2022-05-26T07:13:53.305Z"
      },
      {
        "duration": 0,
        "start_time": "2022-05-26T07:13:53.306Z"
      },
      {
        "duration": 3,
        "start_time": "2022-05-26T07:15:31.257Z"
      },
      {
        "duration": 4172,
        "start_time": "2022-05-26T07:15:36.239Z"
      },
      {
        "duration": 3,
        "start_time": "2022-05-26T07:16:40.349Z"
      },
      {
        "duration": 4059,
        "start_time": "2022-05-26T07:16:49.770Z"
      },
      {
        "duration": 11,
        "start_time": "2022-05-26T07:16:55.820Z"
      },
      {
        "duration": 4571,
        "start_time": "2022-05-26T07:23:22.266Z"
      },
      {
        "duration": 10,
        "start_time": "2022-05-26T07:23:40.290Z"
      },
      {
        "duration": 8,
        "start_time": "2022-05-26T07:27:56.195Z"
      },
      {
        "duration": 9,
        "start_time": "2022-05-26T07:28:06.390Z"
      },
      {
        "duration": 22,
        "start_time": "2022-05-26T07:28:12.022Z"
      },
      {
        "duration": 8,
        "start_time": "2022-05-26T07:28:15.322Z"
      },
      {
        "duration": 3,
        "start_time": "2022-05-26T07:28:18.448Z"
      },
      {
        "duration": 31,
        "start_time": "2022-05-26T07:28:26.046Z"
      },
      {
        "duration": 3,
        "start_time": "2022-05-26T07:28:27.861Z"
      },
      {
        "duration": 5,
        "start_time": "2022-05-26T07:28:56.433Z"
      },
      {
        "duration": 3,
        "start_time": "2022-05-26T07:29:12.443Z"
      },
      {
        "duration": 7,
        "start_time": "2022-05-26T07:29:14.469Z"
      },
      {
        "duration": 4,
        "start_time": "2022-05-26T07:29:15.730Z"
      },
      {
        "duration": 33,
        "start_time": "2022-05-26T07:30:23.315Z"
      },
      {
        "duration": 20,
        "start_time": "2022-05-26T07:30:29.039Z"
      },
      {
        "duration": 11,
        "start_time": "2022-05-26T07:31:19.988Z"
      },
      {
        "duration": 6,
        "start_time": "2022-05-26T07:31:49.387Z"
      },
      {
        "duration": 4,
        "start_time": "2022-05-26T07:32:27.824Z"
      },
      {
        "duration": 12834,
        "start_time": "2022-05-26T07:32:28.384Z"
      },
      {
        "duration": 5,
        "start_time": "2022-05-26T07:33:08.188Z"
      },
      {
        "duration": 4,
        "start_time": "2022-05-26T07:33:51.943Z"
      },
      {
        "duration": 5,
        "start_time": "2022-05-26T07:33:52.652Z"
      },
      {
        "duration": 12115,
        "start_time": "2022-05-26T07:33:53.824Z"
      },
      {
        "duration": 5,
        "start_time": "2022-05-26T07:34:21.950Z"
      },
      {
        "duration": 26,
        "start_time": "2022-05-26T07:34:45.687Z"
      },
      {
        "duration": 4,
        "start_time": "2022-05-26T07:34:56.468Z"
      },
      {
        "duration": 4,
        "start_time": "2022-05-26T07:35:03.707Z"
      },
      {
        "duration": 3,
        "start_time": "2022-05-26T07:35:06.735Z"
      },
      {
        "duration": 6,
        "start_time": "2022-05-26T07:35:07.220Z"
      },
      {
        "duration": 4,
        "start_time": "2022-05-26T07:35:14.916Z"
      },
      {
        "duration": 4,
        "start_time": "2022-05-26T07:35:22.631Z"
      },
      {
        "duration": 10,
        "start_time": "2022-05-26T07:35:26.237Z"
      },
      {
        "duration": 4,
        "start_time": "2022-05-26T07:35:26.420Z"
      },
      {
        "duration": 10,
        "start_time": "2022-05-26T07:35:26.608Z"
      },
      {
        "duration": 3,
        "start_time": "2022-05-26T07:35:33.655Z"
      },
      {
        "duration": 13,
        "start_time": "2022-05-26T07:35:34.237Z"
      },
      {
        "duration": 4,
        "start_time": "2022-05-26T07:35:46.345Z"
      },
      {
        "duration": 4,
        "start_time": "2022-05-26T07:35:46.855Z"
      },
      {
        "duration": 12929,
        "start_time": "2022-05-26T07:35:47.687Z"
      },
      {
        "duration": 5,
        "start_time": "2022-05-26T07:36:02.867Z"
      },
      {
        "duration": 9,
        "start_time": "2022-05-26T07:36:38.650Z"
      },
      {
        "duration": 4,
        "start_time": "2022-05-26T07:36:43.555Z"
      },
      {
        "duration": 8,
        "start_time": "2022-05-26T07:36:44.310Z"
      },
      {
        "duration": 12070,
        "start_time": "2022-05-26T07:36:45.461Z"
      },
      {
        "duration": 5,
        "start_time": "2022-05-26T07:36:58.826Z"
      },
      {
        "duration": 4,
        "start_time": "2022-05-26T07:40:04.950Z"
      },
      {
        "duration": 14974,
        "start_time": "2022-05-26T07:40:08.069Z"
      },
      {
        "duration": 13,
        "start_time": "2022-05-26T07:40:24.070Z"
      },
      {
        "duration": 447,
        "start_time": "2022-05-26T07:40:56.244Z"
      },
      {
        "duration": 15555,
        "start_time": "2022-05-26T07:42:34.081Z"
      },
      {
        "duration": 15,
        "start_time": "2022-05-26T07:42:53.200Z"
      },
      {
        "duration": 13,
        "start_time": "2022-05-26T07:45:23.941Z"
      },
      {
        "duration": 123,
        "start_time": "2022-05-26T07:45:23.956Z"
      },
      {
        "duration": 174,
        "start_time": "2022-05-26T07:45:24.081Z"
      },
      {
        "duration": 1377,
        "start_time": "2022-05-26T07:45:24.257Z"
      },
      {
        "duration": 234,
        "start_time": "2022-05-26T07:45:25.640Z"
      },
      {
        "duration": 68,
        "start_time": "2022-05-26T07:45:25.879Z"
      },
      {
        "duration": 248,
        "start_time": "2022-05-26T07:45:25.953Z"
      },
      {
        "duration": 127,
        "start_time": "2022-05-26T07:45:26.206Z"
      },
      {
        "duration": 24,
        "start_time": "2022-05-26T07:45:26.339Z"
      },
      {
        "duration": 82,
        "start_time": "2022-05-26T07:45:26.374Z"
      },
      {
        "duration": 78,
        "start_time": "2022-05-26T07:45:26.466Z"
      },
      {
        "duration": 37,
        "start_time": "2022-05-26T07:45:26.548Z"
      },
      {
        "duration": 52,
        "start_time": "2022-05-26T07:45:26.588Z"
      },
      {
        "duration": 97,
        "start_time": "2022-05-26T07:45:26.642Z"
      },
      {
        "duration": 162,
        "start_time": "2022-05-26T07:45:26.752Z"
      },
      {
        "duration": 91,
        "start_time": "2022-05-26T07:45:26.924Z"
      },
      {
        "duration": 175,
        "start_time": "2022-05-26T07:45:27.026Z"
      },
      {
        "duration": 112,
        "start_time": "2022-05-26T07:45:27.207Z"
      },
      {
        "duration": 130,
        "start_time": "2022-05-26T07:45:27.326Z"
      },
      {
        "duration": 139,
        "start_time": "2022-05-26T07:45:27.466Z"
      },
      {
        "duration": 178,
        "start_time": "2022-05-26T07:45:27.610Z"
      },
      {
        "duration": 23,
        "start_time": "2022-05-26T07:45:27.793Z"
      },
      {
        "duration": 43,
        "start_time": "2022-05-26T07:45:27.821Z"
      },
      {
        "duration": 22,
        "start_time": "2022-05-26T07:45:27.869Z"
      },
      {
        "duration": 111,
        "start_time": "2022-05-26T07:45:27.904Z"
      },
      {
        "duration": 578,
        "start_time": "2022-05-26T07:45:28.025Z"
      },
      {
        "duration": 515,
        "start_time": "2022-05-26T07:45:28.608Z"
      },
      {
        "duration": 500,
        "start_time": "2022-05-26T07:45:29.145Z"
      },
      {
        "duration": 7,
        "start_time": "2022-05-26T07:45:29.650Z"
      },
      {
        "duration": 582,
        "start_time": "2022-05-26T07:45:29.661Z"
      },
      {
        "duration": 807,
        "start_time": "2022-05-26T07:45:30.252Z"
      },
      {
        "duration": 14,
        "start_time": "2022-05-26T07:45:31.062Z"
      },
      {
        "duration": 510,
        "start_time": "2022-05-26T07:45:31.078Z"
      },
      {
        "duration": 226,
        "start_time": "2022-05-26T07:45:31.593Z"
      },
      {
        "duration": 260,
        "start_time": "2022-05-26T07:45:31.824Z"
      },
      {
        "duration": 15,
        "start_time": "2022-05-26T07:45:32.088Z"
      },
      {
        "duration": 161,
        "start_time": "2022-05-26T07:45:32.116Z"
      },
      {
        "duration": 93,
        "start_time": "2022-05-26T07:45:32.282Z"
      },
      {
        "duration": 106,
        "start_time": "2022-05-26T07:45:32.377Z"
      },
      {
        "duration": 181,
        "start_time": "2022-05-26T07:45:32.485Z"
      },
      {
        "duration": 104,
        "start_time": "2022-05-26T07:45:32.673Z"
      },
      {
        "duration": 128,
        "start_time": "2022-05-26T07:45:32.781Z"
      },
      {
        "duration": 171,
        "start_time": "2022-05-26T07:45:32.914Z"
      },
      {
        "duration": 98,
        "start_time": "2022-05-26T07:45:33.087Z"
      },
      {
        "duration": 147,
        "start_time": "2022-05-26T07:45:33.203Z"
      },
      {
        "duration": 117,
        "start_time": "2022-05-26T07:45:33.358Z"
      },
      {
        "duration": 100,
        "start_time": "2022-05-26T07:45:33.483Z"
      },
      {
        "duration": 150,
        "start_time": "2022-05-26T07:45:33.589Z"
      },
      {
        "duration": 14397,
        "start_time": "2022-05-26T07:45:33.746Z"
      },
      {
        "duration": 5,
        "start_time": "2022-05-26T07:45:48.150Z"
      },
      {
        "duration": 16198,
        "start_time": "2022-05-26T07:45:48.156Z"
      },
      {
        "duration": 20,
        "start_time": "2022-05-26T07:46:04.362Z"
      },
      {
        "duration": 108,
        "start_time": "2022-05-26T07:46:04.385Z"
      },
      {
        "duration": 104,
        "start_time": "2022-05-26T07:46:04.495Z"
      },
      {
        "duration": 225946,
        "start_time": "2022-05-26T07:46:04.601Z"
      },
      {
        "duration": 6,
        "start_time": "2022-05-26T07:49:50.548Z"
      },
      {
        "duration": 233711,
        "start_time": "2022-05-26T07:49:50.555Z"
      },
      {
        "duration": 7,
        "start_time": "2022-05-26T07:53:44.272Z"
      },
      {
        "duration": 143,
        "start_time": "2022-05-26T07:53:44.290Z"
      },
      {
        "duration": 164,
        "start_time": "2022-05-26T07:53:44.439Z"
      },
      {
        "duration": 3302,
        "start_time": "2022-05-26T07:53:44.608Z"
      },
      {
        "duration": 39,
        "start_time": "2022-05-26T07:53:47.917Z"
      },
      {
        "duration": 3302,
        "start_time": "2022-05-26T07:53:47.962Z"
      },
      {
        "duration": 60,
        "start_time": "2022-05-26T07:53:51.272Z"
      },
      {
        "duration": 76,
        "start_time": "2022-05-26T07:53:51.335Z"
      },
      {
        "duration": 68,
        "start_time": "2022-05-26T07:53:51.421Z"
      },
      {
        "duration": 123,
        "start_time": "2022-05-26T07:53:51.491Z"
      },
      {
        "duration": 131,
        "start_time": "2022-05-26T07:53:51.616Z"
      },
      {
        "duration": 111,
        "start_time": "2022-05-26T07:53:51.756Z"
      },
      {
        "duration": 15095,
        "start_time": "2022-05-26T07:53:51.869Z"
      },
      {
        "duration": 5,
        "start_time": "2022-05-26T07:54:06.967Z"
      },
      {
        "duration": 16226,
        "start_time": "2022-05-26T07:54:06.975Z"
      },
      {
        "duration": 12822,
        "start_time": "2022-05-26T07:54:23.202Z"
      },
      {
        "duration": 5,
        "start_time": "2022-05-26T07:54:36.026Z"
      },
      {
        "duration": 317,
        "start_time": "2022-05-27T06:38:32.028Z"
      },
      {
        "duration": 4683,
        "start_time": "2022-05-27T06:39:39.847Z"
      },
      {
        "duration": 8,
        "start_time": "2022-05-27T06:39:44.532Z"
      },
      {
        "duration": 226,
        "start_time": "2022-05-27T06:39:44.541Z"
      },
      {
        "duration": 12857,
        "start_time": "2022-05-27T06:39:44.770Z"
      },
      {
        "duration": 209,
        "start_time": "2022-05-27T06:39:57.634Z"
      },
      {
        "duration": 289,
        "start_time": "2022-05-27T06:39:57.851Z"
      },
      {
        "duration": 416,
        "start_time": "2022-05-27T06:39:58.143Z"
      },
      {
        "duration": 578,
        "start_time": "2022-05-27T06:39:58.560Z"
      },
      {
        "duration": 92,
        "start_time": "2022-05-27T06:39:59.143Z"
      },
      {
        "duration": 112,
        "start_time": "2022-05-27T06:39:59.246Z"
      },
      {
        "duration": 203,
        "start_time": "2022-05-27T06:39:59.360Z"
      },
      {
        "duration": 10,
        "start_time": "2022-05-27T06:39:59.636Z"
      },
      {
        "duration": 76,
        "start_time": "2022-05-27T06:39:59.664Z"
      },
      {
        "duration": 123,
        "start_time": "2022-05-27T06:39:59.749Z"
      },
      {
        "duration": 71,
        "start_time": "2022-05-27T06:39:59.874Z"
      },
      {
        "duration": 90,
        "start_time": "2022-05-27T06:39:59.948Z"
      },
      {
        "duration": 190,
        "start_time": "2022-05-27T06:40:00.045Z"
      },
      {
        "duration": 323,
        "start_time": "2022-05-27T06:40:00.240Z"
      },
      {
        "duration": 194,
        "start_time": "2022-05-27T06:40:00.643Z"
      },
      {
        "duration": 286,
        "start_time": "2022-05-27T06:40:00.843Z"
      },
      {
        "duration": 397,
        "start_time": "2022-05-27T06:40:01.140Z"
      },
      {
        "duration": 19,
        "start_time": "2022-05-27T06:40:01.538Z"
      },
      {
        "duration": 105,
        "start_time": "2022-05-27T06:40:01.633Z"
      },
      {
        "duration": 214,
        "start_time": "2022-05-27T06:40:01.829Z"
      },
      {
        "duration": 97,
        "start_time": "2022-05-27T06:40:02.046Z"
      },
      {
        "duration": 1683,
        "start_time": "2022-05-27T06:40:02.146Z"
      },
      {
        "duration": 1588,
        "start_time": "2022-05-27T06:40:03.845Z"
      },
      {
        "duration": 1610,
        "start_time": "2022-05-27T06:40:05.435Z"
      },
      {
        "duration": 82,
        "start_time": "2022-05-27T06:40:07.048Z"
      },
      {
        "duration": 1696,
        "start_time": "2022-05-27T06:40:07.133Z"
      },
      {
        "duration": 1616,
        "start_time": "2022-05-27T06:40:08.836Z"
      },
      {
        "duration": 82,
        "start_time": "2022-05-27T06:40:10.458Z"
      },
      {
        "duration": 1076,
        "start_time": "2022-05-27T06:40:10.550Z"
      },
      {
        "duration": 717,
        "start_time": "2022-05-27T06:40:11.634Z"
      },
      {
        "duration": 1007,
        "start_time": "2022-05-27T06:40:12.434Z"
      },
      {
        "duration": 3,
        "start_time": "2022-05-27T06:40:13.443Z"
      },
      {
        "duration": 399,
        "start_time": "2022-05-27T06:40:13.449Z"
      },
      {
        "duration": 93,
        "start_time": "2022-05-27T06:40:13.854Z"
      },
      {
        "duration": 80,
        "start_time": "2022-05-27T06:40:13.953Z"
      },
      {
        "duration": 98,
        "start_time": "2022-05-27T06:40:14.038Z"
      },
      {
        "duration": 86,
        "start_time": "2022-05-27T06:40:14.151Z"
      },
      {
        "duration": 96,
        "start_time": "2022-05-27T06:40:14.244Z"
      },
      {
        "duration": 92,
        "start_time": "2022-05-27T06:40:14.357Z"
      },
      {
        "duration": 173,
        "start_time": "2022-05-27T06:40:14.459Z"
      },
      {
        "duration": 200,
        "start_time": "2022-05-27T06:40:14.637Z"
      },
      {
        "duration": 13,
        "start_time": "2022-05-27T06:40:14.844Z"
      },
      {
        "duration": 193,
        "start_time": "2022-05-27T06:40:14.859Z"
      },
      {
        "duration": 174,
        "start_time": "2022-05-27T06:40:15.054Z"
      },
      {
        "duration": 48131,
        "start_time": "2022-05-27T06:40:15.238Z"
      },
      {
        "duration": 74,
        "start_time": "2022-05-27T06:41:03.375Z"
      },
      {
        "duration": 47284,
        "start_time": "2022-05-27T06:41:03.458Z"
      },
      {
        "duration": 8,
        "start_time": "2022-05-27T06:41:50.745Z"
      },
      {
        "duration": 185,
        "start_time": "2022-05-27T06:41:50.755Z"
      },
      {
        "duration": 284,
        "start_time": "2022-05-27T06:41:50.945Z"
      },
      {
        "duration": 946413,
        "start_time": "2022-05-27T06:41:51.230Z"
      },
      {
        "duration": 12,
        "start_time": "2022-05-27T06:57:37.727Z"
      },
      {
        "duration": 1193599,
        "start_time": "2022-05-27T06:57:37.741Z"
      },
      {
        "duration": 7,
        "start_time": "2022-05-27T07:17:31.426Z"
      },
      {
        "duration": 95,
        "start_time": "2022-05-27T07:17:31.438Z"
      },
      {
        "duration": 90,
        "start_time": "2022-05-27T07:17:31.539Z"
      },
      {
        "duration": 2402,
        "start_time": "2022-05-27T07:17:31.635Z"
      },
      {
        "duration": 96,
        "start_time": "2022-05-27T07:17:34.040Z"
      },
      {
        "duration": 3386,
        "start_time": "2022-05-27T07:17:34.142Z"
      },
      {
        "duration": 6,
        "start_time": "2022-05-27T07:17:37.530Z"
      },
      {
        "duration": 101,
        "start_time": "2022-05-27T07:17:37.632Z"
      },
      {
        "duration": 93,
        "start_time": "2022-05-27T07:17:37.738Z"
      },
      {
        "duration": 92,
        "start_time": "2022-05-27T07:17:37.836Z"
      },
      {
        "duration": 288,
        "start_time": "2022-05-27T07:17:37.940Z"
      },
      {
        "duration": 97,
        "start_time": "2022-05-27T07:17:38.230Z"
      },
      {
        "duration": 77999,
        "start_time": "2022-05-27T07:17:38.328Z"
      },
      {
        "duration": 4,
        "start_time": "2022-05-27T07:18:56.329Z"
      },
      {
        "duration": 80099,
        "start_time": "2022-05-27T07:18:56.334Z"
      },
      {
        "duration": 68501,
        "start_time": "2022-05-27T07:20:16.435Z"
      },
      {
        "duration": 93,
        "start_time": "2022-05-27T07:21:24.938Z"
      },
      {
        "duration": 4,
        "start_time": "2022-05-27T07:24:03.128Z"
      },
      {
        "duration": 6,
        "start_time": "2022-05-27T07:24:04.927Z"
      },
      {
        "duration": 81802,
        "start_time": "2022-05-27T07:24:16.728Z"
      },
      {
        "duration": 6,
        "start_time": "2022-05-27T07:25:38.628Z"
      },
      {
        "duration": 4,
        "start_time": "2022-05-27T07:29:22.627Z"
      },
      {
        "duration": 44502,
        "start_time": "2022-05-27T07:29:43.934Z"
      },
      {
        "duration": 4,
        "start_time": "2022-05-27T07:30:28.528Z"
      },
      {
        "duration": 6,
        "start_time": "2022-05-27T07:30:28.626Z"
      },
      {
        "duration": 495,
        "start_time": "2022-05-27T07:30:28.634Z"
      },
      {
        "duration": 41308,
        "start_time": "2022-05-27T07:30:37.528Z"
      },
      {
        "duration": 94,
        "start_time": "2022-05-27T07:31:18.840Z"
      },
      {
        "duration": 83409,
        "start_time": "2022-05-27T07:31:44.428Z"
      },
      {
        "duration": 9,
        "start_time": "2022-05-27T07:33:07.928Z"
      },
      {
        "duration": 200,
        "start_time": "2022-05-27T07:33:08.028Z"
      },
      {
        "duration": 298,
        "start_time": "2022-05-27T07:33:08.230Z"
      },
      {
        "duration": 1454,
        "start_time": "2022-05-27T08:11:36.991Z"
      },
      {
        "duration": 3,
        "start_time": "2022-05-27T08:11:38.447Z"
      },
      {
        "duration": 11,
        "start_time": "2022-05-27T08:11:38.451Z"
      },
      {
        "duration": 2831,
        "start_time": "2022-05-27T08:11:38.463Z"
      },
      {
        "duration": 37,
        "start_time": "2022-05-27T08:11:41.296Z"
      },
      {
        "duration": 46,
        "start_time": "2022-05-27T08:11:41.335Z"
      },
      {
        "duration": 96,
        "start_time": "2022-05-27T08:11:41.383Z"
      },
      {
        "duration": 72,
        "start_time": "2022-05-27T08:11:41.481Z"
      },
      {
        "duration": 5,
        "start_time": "2022-05-27T08:11:41.558Z"
      },
      {
        "duration": 10,
        "start_time": "2022-05-27T08:11:41.565Z"
      },
      {
        "duration": 29,
        "start_time": "2022-05-27T08:11:41.577Z"
      },
      {
        "duration": 9,
        "start_time": "2022-05-27T08:11:41.607Z"
      },
      {
        "duration": 21,
        "start_time": "2022-05-27T08:11:41.618Z"
      },
      {
        "duration": 13,
        "start_time": "2022-05-27T08:11:41.641Z"
      },
      {
        "duration": 27,
        "start_time": "2022-05-27T08:11:41.656Z"
      },
      {
        "duration": 26,
        "start_time": "2022-05-27T08:11:41.685Z"
      },
      {
        "duration": 9,
        "start_time": "2022-05-27T08:11:41.712Z"
      },
      {
        "duration": 29,
        "start_time": "2022-05-27T08:11:41.723Z"
      },
      {
        "duration": 26,
        "start_time": "2022-05-27T08:11:41.753Z"
      },
      {
        "duration": 47,
        "start_time": "2022-05-27T08:11:41.781Z"
      },
      {
        "duration": 77,
        "start_time": "2022-05-27T08:11:41.829Z"
      },
      {
        "duration": 7,
        "start_time": "2022-05-27T08:11:41.908Z"
      },
      {
        "duration": 11,
        "start_time": "2022-05-27T08:11:41.917Z"
      },
      {
        "duration": 23,
        "start_time": "2022-05-27T08:11:41.929Z"
      },
      {
        "duration": 10,
        "start_time": "2022-05-27T08:11:41.954Z"
      },
      {
        "duration": 303,
        "start_time": "2022-05-27T08:11:41.966Z"
      },
      {
        "duration": 303,
        "start_time": "2022-05-27T08:11:42.271Z"
      },
      {
        "duration": 316,
        "start_time": "2022-05-27T08:11:42.577Z"
      },
      {
        "duration": 5,
        "start_time": "2022-05-27T08:11:42.894Z"
      },
      {
        "duration": 422,
        "start_time": "2022-05-27T08:11:42.900Z"
      },
      {
        "duration": 447,
        "start_time": "2022-05-27T08:11:43.324Z"
      },
      {
        "duration": 10,
        "start_time": "2022-05-27T08:11:43.773Z"
      },
      {
        "duration": 176,
        "start_time": "2022-05-27T08:11:43.785Z"
      },
      {
        "duration": 164,
        "start_time": "2022-05-27T08:11:43.963Z"
      },
      {
        "duration": 170,
        "start_time": "2022-05-27T08:11:44.129Z"
      },
      {
        "duration": 3,
        "start_time": "2022-05-27T08:11:44.300Z"
      },
      {
        "duration": 145,
        "start_time": "2022-05-27T08:11:44.304Z"
      },
      {
        "duration": 17,
        "start_time": "2022-05-27T08:11:44.451Z"
      },
      {
        "duration": 3,
        "start_time": "2022-05-27T08:11:44.470Z"
      },
      {
        "duration": 6,
        "start_time": "2022-05-27T08:11:44.474Z"
      },
      {
        "duration": 9,
        "start_time": "2022-05-27T08:13:23.267Z"
      },
      {
        "duration": 6,
        "start_time": "2022-05-27T08:13:45.731Z"
      },
      {
        "duration": 4,
        "start_time": "2022-05-27T08:14:54.105Z"
      },
      {
        "duration": 3,
        "start_time": "2022-05-27T08:14:55.494Z"
      },
      {
        "duration": 3,
        "start_time": "2022-05-27T08:15:05.939Z"
      },
      {
        "duration": 169,
        "start_time": "2022-05-27T08:15:07.215Z"
      },
      {
        "duration": 5,
        "start_time": "2022-05-27T08:15:19.053Z"
      },
      {
        "duration": 10,
        "start_time": "2022-05-27T08:15:23.532Z"
      },
      {
        "duration": 3,
        "start_time": "2022-05-27T08:15:30.700Z"
      },
      {
        "duration": 10,
        "start_time": "2022-05-27T08:15:31.265Z"
      },
      {
        "duration": 8,
        "start_time": "2022-05-27T08:15:31.771Z"
      },
      {
        "duration": 7,
        "start_time": "2022-05-27T08:15:32.348Z"
      },
      {
        "duration": 6,
        "start_time": "2022-05-27T08:15:32.929Z"
      },
      {
        "duration": 4,
        "start_time": "2022-05-27T08:15:33.570Z"
      },
      {
        "duration": 160,
        "start_time": "2022-05-27T08:15:39.437Z"
      },
      {
        "duration": 2,
        "start_time": "2022-05-27T08:16:02.651Z"
      },
      {
        "duration": 11517,
        "start_time": "2022-05-27T08:16:03.584Z"
      },
      {
        "duration": 5,
        "start_time": "2022-05-27T08:16:17.876Z"
      },
      {
        "duration": 4,
        "start_time": "2022-05-27T08:16:20.596Z"
      },
      {
        "duration": 5,
        "start_time": "2022-05-27T08:18:45.520Z"
      },
      {
        "duration": 12,
        "start_time": "2022-05-27T08:18:52.808Z"
      },
      {
        "duration": 2,
        "start_time": "2022-05-27T08:19:06.313Z"
      },
      {
        "duration": 9,
        "start_time": "2022-05-27T08:19:12.786Z"
      },
      {
        "duration": 11,
        "start_time": "2022-05-27T08:19:37.910Z"
      },
      {
        "duration": 8,
        "start_time": "2022-05-27T08:20:15.674Z"
      },
      {
        "duration": 6,
        "start_time": "2022-05-27T08:20:22.141Z"
      },
      {
        "duration": 4,
        "start_time": "2022-05-27T08:20:32.751Z"
      },
      {
        "duration": 3,
        "start_time": "2022-05-27T08:20:33.717Z"
      },
      {
        "duration": 11351,
        "start_time": "2022-05-27T08:20:34.845Z"
      },
      {
        "duration": 5,
        "start_time": "2022-05-27T08:20:47.619Z"
      },
      {
        "duration": 4,
        "start_time": "2022-05-27T08:21:14.339Z"
      },
      {
        "duration": 3,
        "start_time": "2022-05-27T08:21:15.211Z"
      },
      {
        "duration": 11216,
        "start_time": "2022-05-27T08:21:19.416Z"
      },
      {
        "duration": 4,
        "start_time": "2022-05-27T08:21:37.438Z"
      },
      {
        "duration": 1403,
        "start_time": "2022-05-27T11:26:51.254Z"
      },
      {
        "duration": 3,
        "start_time": "2022-05-27T11:26:52.660Z"
      },
      {
        "duration": 10,
        "start_time": "2022-05-27T11:26:52.666Z"
      },
      {
        "duration": 3186,
        "start_time": "2022-05-27T11:26:52.679Z"
      },
      {
        "duration": 38,
        "start_time": "2022-05-27T11:26:55.867Z"
      },
      {
        "duration": 55,
        "start_time": "2022-05-27T11:26:55.908Z"
      },
      {
        "duration": 108,
        "start_time": "2022-05-27T11:26:55.966Z"
      },
      {
        "duration": 69,
        "start_time": "2022-05-27T11:26:56.076Z"
      },
      {
        "duration": 5,
        "start_time": "2022-05-27T11:26:56.146Z"
      },
      {
        "duration": 11,
        "start_time": "2022-05-27T11:26:56.154Z"
      },
      {
        "duration": 14,
        "start_time": "2022-05-27T11:26:56.167Z"
      },
      {
        "duration": 10,
        "start_time": "2022-05-27T11:26:56.186Z"
      },
      {
        "duration": 18,
        "start_time": "2022-05-27T11:26:56.198Z"
      },
      {
        "duration": 12,
        "start_time": "2022-05-27T11:26:56.218Z"
      },
      {
        "duration": 38,
        "start_time": "2022-05-27T11:26:56.232Z"
      },
      {
        "duration": 32,
        "start_time": "2022-05-27T11:26:56.272Z"
      },
      {
        "duration": 30,
        "start_time": "2022-05-27T11:26:56.308Z"
      },
      {
        "duration": 17,
        "start_time": "2022-05-27T11:26:56.340Z"
      },
      {
        "duration": 28,
        "start_time": "2022-05-27T11:26:56.359Z"
      },
      {
        "duration": 52,
        "start_time": "2022-05-27T11:26:56.389Z"
      },
      {
        "duration": 109,
        "start_time": "2022-05-27T11:26:56.443Z"
      },
      {
        "duration": 8,
        "start_time": "2022-05-27T11:26:56.554Z"
      },
      {
        "duration": 22,
        "start_time": "2022-05-27T11:26:56.564Z"
      },
      {
        "duration": 8,
        "start_time": "2022-05-27T11:26:56.588Z"
      },
      {
        "duration": 6,
        "start_time": "2022-05-27T11:26:56.600Z"
      },
      {
        "duration": 396,
        "start_time": "2022-05-27T11:26:56.607Z"
      },
      {
        "duration": 327,
        "start_time": "2022-05-27T11:26:57.005Z"
      },
      {
        "duration": 344,
        "start_time": "2022-05-27T11:26:57.336Z"
      },
      {
        "duration": 5,
        "start_time": "2022-05-27T11:26:57.682Z"
      },
      {
        "duration": 561,
        "start_time": "2022-05-27T11:26:57.689Z"
      },
      {
        "duration": 495,
        "start_time": "2022-05-27T11:26:58.252Z"
      },
      {
        "duration": 11,
        "start_time": "2022-05-27T11:26:58.748Z"
      },
      {
        "duration": 199,
        "start_time": "2022-05-27T11:26:58.761Z"
      },
      {
        "duration": 176,
        "start_time": "2022-05-27T11:26:58.963Z"
      },
      {
        "duration": 219,
        "start_time": "2022-05-27T11:26:59.142Z"
      },
      {
        "duration": 3,
        "start_time": "2022-05-27T11:26:59.363Z"
      },
      {
        "duration": 149,
        "start_time": "2022-05-27T11:26:59.368Z"
      },
      {
        "duration": 13,
        "start_time": "2022-05-27T11:26:59.519Z"
      },
      {
        "duration": 4,
        "start_time": "2022-05-27T11:26:59.534Z"
      },
      {
        "duration": 9,
        "start_time": "2022-05-27T11:26:59.540Z"
      },
      {
        "duration": 3,
        "start_time": "2022-05-27T11:28:29.478Z"
      },
      {
        "duration": 4,
        "start_time": "2022-05-27T11:28:31.175Z"
      },
      {
        "duration": 3,
        "start_time": "2022-05-27T11:28:33.224Z"
      },
      {
        "duration": 123,
        "start_time": "2022-05-27T11:28:34.414Z"
      },
      {
        "duration": 4,
        "start_time": "2022-05-27T11:28:45.269Z"
      },
      {
        "duration": 11,
        "start_time": "2022-05-27T11:28:50.308Z"
      },
      {
        "duration": 3,
        "start_time": "2022-05-27T11:28:58.854Z"
      },
      {
        "duration": 10,
        "start_time": "2022-05-27T11:28:59.399Z"
      },
      {
        "duration": 7,
        "start_time": "2022-05-27T11:29:00.031Z"
      },
      {
        "duration": 8,
        "start_time": "2022-05-27T11:29:00.628Z"
      },
      {
        "duration": 4,
        "start_time": "2022-05-27T11:29:01.266Z"
      },
      {
        "duration": 6,
        "start_time": "2022-05-27T11:29:01.901Z"
      },
      {
        "duration": 3,
        "start_time": "2022-05-27T11:29:06.816Z"
      },
      {
        "duration": 5,
        "start_time": "2022-05-27T11:29:07.498Z"
      },
      {
        "duration": 3,
        "start_time": "2022-05-27T11:29:08.388Z"
      },
      {
        "duration": 11800,
        "start_time": "2022-05-27T11:29:09.291Z"
      },
      {
        "duration": 11393,
        "start_time": "2022-05-27T11:29:25.907Z"
      },
      {
        "duration": 11401,
        "start_time": "2022-05-27T11:29:45.858Z"
      },
      {
        "duration": 5,
        "start_time": "2022-05-27T11:29:59.496Z"
      },
      {
        "duration": 28,
        "start_time": "2022-05-27T11:30:49.732Z"
      }
    ],
    "kernelspec": {
      "display_name": "Python 3 (ipykernel)",
      "language": "python",
      "name": "python3"
    },
    "language_info": {
      "codemirror_mode": {
        "name": "ipython",
        "version": 3
      },
      "file_extension": ".py",
      "mimetype": "text/x-python",
      "name": "python",
      "nbconvert_exporter": "python",
      "pygments_lexer": "ipython3",
      "version": "3.9.5"
    },
    "toc": {
      "base_numbering": 1,
      "nav_menu": {},
      "number_sections": true,
      "sideBar": true,
      "skip_h1_title": true,
      "title_cell": "Table of Contents",
      "title_sidebar": "Contents",
      "toc_cell": false,
      "toc_position": {
        "height": "calc(100% - 180px)",
        "left": "10px",
        "top": "150px",
        "width": "165px"
      },
      "toc_section_display": true,
      "toc_window_display": true
    },
    "colab": {
      "name": "god.ipynb",
      "provenance": [],
      "collapsed_sections": []
    }
  },
  "nbformat": 4,
  "nbformat_minor": 5
}