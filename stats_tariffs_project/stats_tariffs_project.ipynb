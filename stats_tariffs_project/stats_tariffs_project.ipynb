{
  "cells": [
    {
      "cell_type": "markdown",
      "metadata": {
        "id": "qkRviHhZT29T"
      },
      "source": [
        "# Статистический анализ для определения выгодного тарифа"
      ]
    },
    {
      "cell_type": "markdown",
      "metadata": {
        "id": "jLnZSjsZT29T"
      },
      "source": [
        "### Введение"
      ]
    },
    {
      "cell_type": "markdown",
      "metadata": {
        "id": "1uInklTvT29U"
      },
      "source": [
        "Описание проекта и задачи:\n",
        "\n",
        "Даны датасеты с данными 500 абонентов, каждый из них пользуется тарифом «Смарт» или «Ультра», условия тарифов также указаны в датасетах. Для телеком-компании требуется узнать, какой из тарифов для пользователей является оптимальным для увеличения прибыли. \n",
        "\n",
        "Мне нужно обработать данные и на основе выборки определить, какой из двух тарифов приносит компании больше денег."
      ]
    },
    {
      "cell_type": "markdown",
      "metadata": {
        "id": "AYjCcu8HT29V"
      },
      "source": [
        "### Обзор данных"
      ]
    },
    {
      "cell_type": "code",
      "execution_count": null,
      "metadata": {
        "id": "KdW3uATIT29W"
      },
      "outputs": [],
      "source": [
        "#Для начала импортирую библиотеки\n",
        "import pandas as pd\n",
        "from scipy import stats as st\n",
        "import numpy as np\n",
        "import matplotlib.pyplot as plt\n",
        "import math"
      ]
    },
    {
      "cell_type": "markdown",
      "metadata": {
        "id": "xees0y4mT29Y"
      },
      "source": [
        "Затем прочитаю файлы, сохраню их в переменные и сделаю обзор"
      ]
    },
    {
      "cell_type": "code",
      "execution_count": null,
      "metadata": {
        "id": "P20bcCr8T29Y"
      },
      "outputs": [],
      "source": [
        "data_users = pd.read_csv('/datasets/users.csv')\n",
        "data_messages = pd.read_csv('/datasets/messages.csv')\n",
        "data_internet = pd.read_csv('/datasets/internet.csv')\n",
        "data_calls = pd.read_csv('/datasets/calls.csv') \n",
        "data_tariffs = pd.read_csv('/datasets/tariffs.csv')"
      ]
    },
    {
      "cell_type": "code",
      "execution_count": null,
      "metadata": {
        "scrolled": false,
        "id": "WZLpIfsqT29Z",
        "outputId": "6fe2c08c-d830-44c3-ae5c-1da3abe86492"
      },
      "outputs": [
        {
          "data": {
            "text/html": [
              "<div>\n",
              "<style scoped>\n",
              "    .dataframe tbody tr th:only-of-type {\n",
              "        vertical-align: middle;\n",
              "    }\n",
              "\n",
              "    .dataframe tbody tr th {\n",
              "        vertical-align: top;\n",
              "    }\n",
              "\n",
              "    .dataframe thead th {\n",
              "        text-align: right;\n",
              "    }\n",
              "</style>\n",
              "<table border=\"1\" class=\"dataframe\">\n",
              "  <thead>\n",
              "    <tr style=\"text-align: right;\">\n",
              "      <th></th>\n",
              "      <th>user_id</th>\n",
              "      <th>age</th>\n",
              "      <th>churn_date</th>\n",
              "      <th>city</th>\n",
              "      <th>first_name</th>\n",
              "      <th>last_name</th>\n",
              "      <th>reg_date</th>\n",
              "      <th>tariff</th>\n",
              "    </tr>\n",
              "  </thead>\n",
              "  <tbody>\n",
              "    <tr>\n",
              "      <th>0</th>\n",
              "      <td>1000</td>\n",
              "      <td>52</td>\n",
              "      <td>NaN</td>\n",
              "      <td>Краснодар</td>\n",
              "      <td>Рафаил</td>\n",
              "      <td>Верещагин</td>\n",
              "      <td>2018-05-25</td>\n",
              "      <td>ultra</td>\n",
              "    </tr>\n",
              "    <tr>\n",
              "      <th>1</th>\n",
              "      <td>1001</td>\n",
              "      <td>41</td>\n",
              "      <td>NaN</td>\n",
              "      <td>Москва</td>\n",
              "      <td>Иван</td>\n",
              "      <td>Ежов</td>\n",
              "      <td>2018-11-01</td>\n",
              "      <td>smart</td>\n",
              "    </tr>\n",
              "    <tr>\n",
              "      <th>2</th>\n",
              "      <td>1002</td>\n",
              "      <td>59</td>\n",
              "      <td>NaN</td>\n",
              "      <td>Стерлитамак</td>\n",
              "      <td>Евгений</td>\n",
              "      <td>Абрамович</td>\n",
              "      <td>2018-06-17</td>\n",
              "      <td>smart</td>\n",
              "    </tr>\n",
              "    <tr>\n",
              "      <th>3</th>\n",
              "      <td>1003</td>\n",
              "      <td>23</td>\n",
              "      <td>NaN</td>\n",
              "      <td>Москва</td>\n",
              "      <td>Белла</td>\n",
              "      <td>Белякова</td>\n",
              "      <td>2018-08-17</td>\n",
              "      <td>ultra</td>\n",
              "    </tr>\n",
              "    <tr>\n",
              "      <th>4</th>\n",
              "      <td>1004</td>\n",
              "      <td>68</td>\n",
              "      <td>NaN</td>\n",
              "      <td>Новокузнецк</td>\n",
              "      <td>Татьяна</td>\n",
              "      <td>Авдеенко</td>\n",
              "      <td>2018-05-14</td>\n",
              "      <td>ultra</td>\n",
              "    </tr>\n",
              "    <tr>\n",
              "      <th>...</th>\n",
              "      <td>...</td>\n",
              "      <td>...</td>\n",
              "      <td>...</td>\n",
              "      <td>...</td>\n",
              "      <td>...</td>\n",
              "      <td>...</td>\n",
              "      <td>...</td>\n",
              "      <td>...</td>\n",
              "    </tr>\n",
              "    <tr>\n",
              "      <th>495</th>\n",
              "      <td>1495</td>\n",
              "      <td>65</td>\n",
              "      <td>NaN</td>\n",
              "      <td>Иркутск</td>\n",
              "      <td>Авксентий</td>\n",
              "      <td>Фокин</td>\n",
              "      <td>2018-08-28</td>\n",
              "      <td>ultra</td>\n",
              "    </tr>\n",
              "    <tr>\n",
              "      <th>496</th>\n",
              "      <td>1496</td>\n",
              "      <td>36</td>\n",
              "      <td>NaN</td>\n",
              "      <td>Вологда</td>\n",
              "      <td>Трифон</td>\n",
              "      <td>Блохин</td>\n",
              "      <td>2018-01-27</td>\n",
              "      <td>smart</td>\n",
              "    </tr>\n",
              "    <tr>\n",
              "      <th>497</th>\n",
              "      <td>1497</td>\n",
              "      <td>32</td>\n",
              "      <td>NaN</td>\n",
              "      <td>Челябинск</td>\n",
              "      <td>Каролина</td>\n",
              "      <td>Агеева</td>\n",
              "      <td>2018-10-09</td>\n",
              "      <td>smart</td>\n",
              "    </tr>\n",
              "    <tr>\n",
              "      <th>498</th>\n",
              "      <td>1498</td>\n",
              "      <td>68</td>\n",
              "      <td>2018-10-25</td>\n",
              "      <td>Владикавказ</td>\n",
              "      <td>Всеволод</td>\n",
              "      <td>Акимчин</td>\n",
              "      <td>2018-07-19</td>\n",
              "      <td>smart</td>\n",
              "    </tr>\n",
              "    <tr>\n",
              "      <th>499</th>\n",
              "      <td>1499</td>\n",
              "      <td>35</td>\n",
              "      <td>NaN</td>\n",
              "      <td>Пермь</td>\n",
              "      <td>Гектор</td>\n",
              "      <td>Корнилов</td>\n",
              "      <td>2018-09-27</td>\n",
              "      <td>smart</td>\n",
              "    </tr>\n",
              "  </tbody>\n",
              "</table>\n",
              "<p>500 rows × 8 columns</p>\n",
              "</div>"
            ],
            "text/plain": [
              "     user_id  age  churn_date         city first_name  last_name    reg_date  \\\n",
              "0       1000   52         NaN    Краснодар     Рафаил  Верещагин  2018-05-25   \n",
              "1       1001   41         NaN       Москва       Иван       Ежов  2018-11-01   \n",
              "2       1002   59         NaN  Стерлитамак    Евгений  Абрамович  2018-06-17   \n",
              "3       1003   23         NaN       Москва      Белла   Белякова  2018-08-17   \n",
              "4       1004   68         NaN  Новокузнецк    Татьяна   Авдеенко  2018-05-14   \n",
              "..       ...  ...         ...          ...        ...        ...         ...   \n",
              "495     1495   65         NaN      Иркутск  Авксентий      Фокин  2018-08-28   \n",
              "496     1496   36         NaN      Вологда     Трифон     Блохин  2018-01-27   \n",
              "497     1497   32         NaN    Челябинск   Каролина     Агеева  2018-10-09   \n",
              "498     1498   68  2018-10-25  Владикавказ   Всеволод    Акимчин  2018-07-19   \n",
              "499     1499   35         NaN        Пермь     Гектор   Корнилов  2018-09-27   \n",
              "\n",
              "    tariff  \n",
              "0    ultra  \n",
              "1    smart  \n",
              "2    smart  \n",
              "3    ultra  \n",
              "4    ultra  \n",
              "..     ...  \n",
              "495  ultra  \n",
              "496  smart  \n",
              "497  smart  \n",
              "498  smart  \n",
              "499  smart  \n",
              "\n",
              "[500 rows x 8 columns]"
            ]
          },
          "metadata": {},
          "output_type": "display_data"
        },
        {
          "data": {
            "text/html": [
              "<div>\n",
              "<style scoped>\n",
              "    .dataframe tbody tr th:only-of-type {\n",
              "        vertical-align: middle;\n",
              "    }\n",
              "\n",
              "    .dataframe tbody tr th {\n",
              "        vertical-align: top;\n",
              "    }\n",
              "\n",
              "    .dataframe thead th {\n",
              "        text-align: right;\n",
              "    }\n",
              "</style>\n",
              "<table border=\"1\" class=\"dataframe\">\n",
              "  <thead>\n",
              "    <tr style=\"text-align: right;\">\n",
              "      <th></th>\n",
              "      <th>messages_included</th>\n",
              "      <th>mb_per_month_included</th>\n",
              "      <th>minutes_included</th>\n",
              "      <th>rub_monthly_fee</th>\n",
              "      <th>rub_per_gb</th>\n",
              "      <th>rub_per_message</th>\n",
              "      <th>rub_per_minute</th>\n",
              "      <th>tariff_name</th>\n",
              "    </tr>\n",
              "  </thead>\n",
              "  <tbody>\n",
              "    <tr>\n",
              "      <th>0</th>\n",
              "      <td>50</td>\n",
              "      <td>15360</td>\n",
              "      <td>500</td>\n",
              "      <td>550</td>\n",
              "      <td>200</td>\n",
              "      <td>3</td>\n",
              "      <td>3</td>\n",
              "      <td>smart</td>\n",
              "    </tr>\n",
              "    <tr>\n",
              "      <th>1</th>\n",
              "      <td>1000</td>\n",
              "      <td>30720</td>\n",
              "      <td>3000</td>\n",
              "      <td>1950</td>\n",
              "      <td>150</td>\n",
              "      <td>1</td>\n",
              "      <td>1</td>\n",
              "      <td>ultra</td>\n",
              "    </tr>\n",
              "  </tbody>\n",
              "</table>\n",
              "</div>"
            ],
            "text/plain": [
              "   messages_included  mb_per_month_included  minutes_included  \\\n",
              "0                 50                  15360               500   \n",
              "1               1000                  30720              3000   \n",
              "\n",
              "   rub_monthly_fee  rub_per_gb  rub_per_message  rub_per_minute tariff_name  \n",
              "0              550         200                3               3       smart  \n",
              "1             1950         150                1               1       ultra  "
            ]
          },
          "metadata": {},
          "output_type": "display_data"
        },
        {
          "data": {
            "text/html": [
              "<div>\n",
              "<style scoped>\n",
              "    .dataframe tbody tr th:only-of-type {\n",
              "        vertical-align: middle;\n",
              "    }\n",
              "\n",
              "    .dataframe tbody tr th {\n",
              "        vertical-align: top;\n",
              "    }\n",
              "\n",
              "    .dataframe thead th {\n",
              "        text-align: right;\n",
              "    }\n",
              "</style>\n",
              "<table border=\"1\" class=\"dataframe\">\n",
              "  <thead>\n",
              "    <tr style=\"text-align: right;\">\n",
              "      <th></th>\n",
              "      <th>id</th>\n",
              "      <th>call_date</th>\n",
              "      <th>duration</th>\n",
              "      <th>user_id</th>\n",
              "    </tr>\n",
              "  </thead>\n",
              "  <tbody>\n",
              "    <tr>\n",
              "      <th>0</th>\n",
              "      <td>1000_0</td>\n",
              "      <td>2018-07-25</td>\n",
              "      <td>0.00</td>\n",
              "      <td>1000</td>\n",
              "    </tr>\n",
              "    <tr>\n",
              "      <th>1</th>\n",
              "      <td>1000_1</td>\n",
              "      <td>2018-08-17</td>\n",
              "      <td>0.00</td>\n",
              "      <td>1000</td>\n",
              "    </tr>\n",
              "    <tr>\n",
              "      <th>2</th>\n",
              "      <td>1000_2</td>\n",
              "      <td>2018-06-11</td>\n",
              "      <td>2.85</td>\n",
              "      <td>1000</td>\n",
              "    </tr>\n",
              "    <tr>\n",
              "      <th>3</th>\n",
              "      <td>1000_3</td>\n",
              "      <td>2018-09-21</td>\n",
              "      <td>13.80</td>\n",
              "      <td>1000</td>\n",
              "    </tr>\n",
              "    <tr>\n",
              "      <th>4</th>\n",
              "      <td>1000_4</td>\n",
              "      <td>2018-12-15</td>\n",
              "      <td>5.18</td>\n",
              "      <td>1000</td>\n",
              "    </tr>\n",
              "    <tr>\n",
              "      <th>...</th>\n",
              "      <td>...</td>\n",
              "      <td>...</td>\n",
              "      <td>...</td>\n",
              "      <td>...</td>\n",
              "    </tr>\n",
              "    <tr>\n",
              "      <th>202602</th>\n",
              "      <td>1499_215</td>\n",
              "      <td>2018-12-26</td>\n",
              "      <td>0.76</td>\n",
              "      <td>1499</td>\n",
              "    </tr>\n",
              "    <tr>\n",
              "      <th>202603</th>\n",
              "      <td>1499_216</td>\n",
              "      <td>2018-10-18</td>\n",
              "      <td>18.83</td>\n",
              "      <td>1499</td>\n",
              "    </tr>\n",
              "    <tr>\n",
              "      <th>202604</th>\n",
              "      <td>1499_217</td>\n",
              "      <td>2018-11-10</td>\n",
              "      <td>10.81</td>\n",
              "      <td>1499</td>\n",
              "    </tr>\n",
              "    <tr>\n",
              "      <th>202605</th>\n",
              "      <td>1499_218</td>\n",
              "      <td>2018-10-06</td>\n",
              "      <td>4.27</td>\n",
              "      <td>1499</td>\n",
              "    </tr>\n",
              "    <tr>\n",
              "      <th>202606</th>\n",
              "      <td>1499_219</td>\n",
              "      <td>2018-12-14</td>\n",
              "      <td>19.62</td>\n",
              "      <td>1499</td>\n",
              "    </tr>\n",
              "  </tbody>\n",
              "</table>\n",
              "<p>202607 rows × 4 columns</p>\n",
              "</div>"
            ],
            "text/plain": [
              "              id   call_date  duration  user_id\n",
              "0         1000_0  2018-07-25      0.00     1000\n",
              "1         1000_1  2018-08-17      0.00     1000\n",
              "2         1000_2  2018-06-11      2.85     1000\n",
              "3         1000_3  2018-09-21     13.80     1000\n",
              "4         1000_4  2018-12-15      5.18     1000\n",
              "...          ...         ...       ...      ...\n",
              "202602  1499_215  2018-12-26      0.76     1499\n",
              "202603  1499_216  2018-10-18     18.83     1499\n",
              "202604  1499_217  2018-11-10     10.81     1499\n",
              "202605  1499_218  2018-10-06      4.27     1499\n",
              "202606  1499_219  2018-12-14     19.62     1499\n",
              "\n",
              "[202607 rows x 4 columns]"
            ]
          },
          "metadata": {},
          "output_type": "display_data"
        },
        {
          "data": {
            "text/html": [
              "<div>\n",
              "<style scoped>\n",
              "    .dataframe tbody tr th:only-of-type {\n",
              "        vertical-align: middle;\n",
              "    }\n",
              "\n",
              "    .dataframe tbody tr th {\n",
              "        vertical-align: top;\n",
              "    }\n",
              "\n",
              "    .dataframe thead th {\n",
              "        text-align: right;\n",
              "    }\n",
              "</style>\n",
              "<table border=\"1\" class=\"dataframe\">\n",
              "  <thead>\n",
              "    <tr style=\"text-align: right;\">\n",
              "      <th></th>\n",
              "      <th>Unnamed: 0</th>\n",
              "      <th>id</th>\n",
              "      <th>mb_used</th>\n",
              "      <th>session_date</th>\n",
              "      <th>user_id</th>\n",
              "    </tr>\n",
              "  </thead>\n",
              "  <tbody>\n",
              "    <tr>\n",
              "      <th>0</th>\n",
              "      <td>0</td>\n",
              "      <td>1000_0</td>\n",
              "      <td>112.95</td>\n",
              "      <td>2018-11-25</td>\n",
              "      <td>1000</td>\n",
              "    </tr>\n",
              "    <tr>\n",
              "      <th>1</th>\n",
              "      <td>1</td>\n",
              "      <td>1000_1</td>\n",
              "      <td>1052.81</td>\n",
              "      <td>2018-09-07</td>\n",
              "      <td>1000</td>\n",
              "    </tr>\n",
              "    <tr>\n",
              "      <th>2</th>\n",
              "      <td>2</td>\n",
              "      <td>1000_2</td>\n",
              "      <td>1197.26</td>\n",
              "      <td>2018-06-25</td>\n",
              "      <td>1000</td>\n",
              "    </tr>\n",
              "    <tr>\n",
              "      <th>3</th>\n",
              "      <td>3</td>\n",
              "      <td>1000_3</td>\n",
              "      <td>550.27</td>\n",
              "      <td>2018-08-22</td>\n",
              "      <td>1000</td>\n",
              "    </tr>\n",
              "    <tr>\n",
              "      <th>4</th>\n",
              "      <td>4</td>\n",
              "      <td>1000_4</td>\n",
              "      <td>302.56</td>\n",
              "      <td>2018-09-24</td>\n",
              "      <td>1000</td>\n",
              "    </tr>\n",
              "    <tr>\n",
              "      <th>...</th>\n",
              "      <td>...</td>\n",
              "      <td>...</td>\n",
              "      <td>...</td>\n",
              "      <td>...</td>\n",
              "      <td>...</td>\n",
              "    </tr>\n",
              "    <tr>\n",
              "      <th>149391</th>\n",
              "      <td>149391</td>\n",
              "      <td>1499_152</td>\n",
              "      <td>318.90</td>\n",
              "      <td>2018-10-03</td>\n",
              "      <td>1499</td>\n",
              "    </tr>\n",
              "    <tr>\n",
              "      <th>149392</th>\n",
              "      <td>149392</td>\n",
              "      <td>1499_153</td>\n",
              "      <td>490.13</td>\n",
              "      <td>2018-12-14</td>\n",
              "      <td>1499</td>\n",
              "    </tr>\n",
              "    <tr>\n",
              "      <th>149393</th>\n",
              "      <td>149393</td>\n",
              "      <td>1499_154</td>\n",
              "      <td>0.00</td>\n",
              "      <td>2018-10-27</td>\n",
              "      <td>1499</td>\n",
              "    </tr>\n",
              "    <tr>\n",
              "      <th>149394</th>\n",
              "      <td>149394</td>\n",
              "      <td>1499_155</td>\n",
              "      <td>1246.32</td>\n",
              "      <td>2018-11-26</td>\n",
              "      <td>1499</td>\n",
              "    </tr>\n",
              "    <tr>\n",
              "      <th>149395</th>\n",
              "      <td>149395</td>\n",
              "      <td>1499_156</td>\n",
              "      <td>544.37</td>\n",
              "      <td>2018-10-26</td>\n",
              "      <td>1499</td>\n",
              "    </tr>\n",
              "  </tbody>\n",
              "</table>\n",
              "<p>149396 rows × 5 columns</p>\n",
              "</div>"
            ],
            "text/plain": [
              "        Unnamed: 0        id  mb_used session_date  user_id\n",
              "0                0    1000_0   112.95   2018-11-25     1000\n",
              "1                1    1000_1  1052.81   2018-09-07     1000\n",
              "2                2    1000_2  1197.26   2018-06-25     1000\n",
              "3                3    1000_3   550.27   2018-08-22     1000\n",
              "4                4    1000_4   302.56   2018-09-24     1000\n",
              "...            ...       ...      ...          ...      ...\n",
              "149391      149391  1499_152   318.90   2018-10-03     1499\n",
              "149392      149392  1499_153   490.13   2018-12-14     1499\n",
              "149393      149393  1499_154     0.00   2018-10-27     1499\n",
              "149394      149394  1499_155  1246.32   2018-11-26     1499\n",
              "149395      149395  1499_156   544.37   2018-10-26     1499\n",
              "\n",
              "[149396 rows x 5 columns]"
            ]
          },
          "metadata": {},
          "output_type": "display_data"
        },
        {
          "data": {
            "text/html": [
              "<div>\n",
              "<style scoped>\n",
              "    .dataframe tbody tr th:only-of-type {\n",
              "        vertical-align: middle;\n",
              "    }\n",
              "\n",
              "    .dataframe tbody tr th {\n",
              "        vertical-align: top;\n",
              "    }\n",
              "\n",
              "    .dataframe thead th {\n",
              "        text-align: right;\n",
              "    }\n",
              "</style>\n",
              "<table border=\"1\" class=\"dataframe\">\n",
              "  <thead>\n",
              "    <tr style=\"text-align: right;\">\n",
              "      <th></th>\n",
              "      <th>id</th>\n",
              "      <th>message_date</th>\n",
              "      <th>user_id</th>\n",
              "    </tr>\n",
              "  </thead>\n",
              "  <tbody>\n",
              "    <tr>\n",
              "      <th>0</th>\n",
              "      <td>1000_0</td>\n",
              "      <td>2018-06-27</td>\n",
              "      <td>1000</td>\n",
              "    </tr>\n",
              "    <tr>\n",
              "      <th>1</th>\n",
              "      <td>1000_1</td>\n",
              "      <td>2018-10-08</td>\n",
              "      <td>1000</td>\n",
              "    </tr>\n",
              "    <tr>\n",
              "      <th>2</th>\n",
              "      <td>1000_2</td>\n",
              "      <td>2018-08-04</td>\n",
              "      <td>1000</td>\n",
              "    </tr>\n",
              "    <tr>\n",
              "      <th>3</th>\n",
              "      <td>1000_3</td>\n",
              "      <td>2018-06-16</td>\n",
              "      <td>1000</td>\n",
              "    </tr>\n",
              "    <tr>\n",
              "      <th>4</th>\n",
              "      <td>1000_4</td>\n",
              "      <td>2018-12-05</td>\n",
              "      <td>1000</td>\n",
              "    </tr>\n",
              "    <tr>\n",
              "      <th>...</th>\n",
              "      <td>...</td>\n",
              "      <td>...</td>\n",
              "      <td>...</td>\n",
              "    </tr>\n",
              "    <tr>\n",
              "      <th>123031</th>\n",
              "      <td>1499_179</td>\n",
              "      <td>2018-12-12</td>\n",
              "      <td>1499</td>\n",
              "    </tr>\n",
              "    <tr>\n",
              "      <th>123032</th>\n",
              "      <td>1499_180</td>\n",
              "      <td>2018-09-28</td>\n",
              "      <td>1499</td>\n",
              "    </tr>\n",
              "    <tr>\n",
              "      <th>123033</th>\n",
              "      <td>1499_181</td>\n",
              "      <td>2018-09-27</td>\n",
              "      <td>1499</td>\n",
              "    </tr>\n",
              "    <tr>\n",
              "      <th>123034</th>\n",
              "      <td>1499_182</td>\n",
              "      <td>2018-11-15</td>\n",
              "      <td>1499</td>\n",
              "    </tr>\n",
              "    <tr>\n",
              "      <th>123035</th>\n",
              "      <td>1499_183</td>\n",
              "      <td>2018-11-16</td>\n",
              "      <td>1499</td>\n",
              "    </tr>\n",
              "  </tbody>\n",
              "</table>\n",
              "<p>123036 rows × 3 columns</p>\n",
              "</div>"
            ],
            "text/plain": [
              "              id message_date  user_id\n",
              "0         1000_0   2018-06-27     1000\n",
              "1         1000_1   2018-10-08     1000\n",
              "2         1000_2   2018-08-04     1000\n",
              "3         1000_3   2018-06-16     1000\n",
              "4         1000_4   2018-12-05     1000\n",
              "...          ...          ...      ...\n",
              "123031  1499_179   2018-12-12     1499\n",
              "123032  1499_180   2018-09-28     1499\n",
              "123033  1499_181   2018-09-27     1499\n",
              "123034  1499_182   2018-11-15     1499\n",
              "123035  1499_183   2018-11-16     1499\n",
              "\n",
              "[123036 rows x 3 columns]"
            ]
          },
          "metadata": {},
          "output_type": "display_data"
        }
      ],
      "source": [
        "display(data_users, data_tariffs, data_calls, data_internet, data_messages)"
      ]
    },
    {
      "cell_type": "code",
      "execution_count": null,
      "metadata": {
        "id": "l_0gBggOT29Z",
        "outputId": "8152062a-f950-49bc-95a6-46fcbf023391"
      },
      "outputs": [
        {
          "name": "stdout",
          "output_type": "stream",
          "text": [
            "<class 'pandas.core.frame.DataFrame'>\n",
            "RangeIndex: 500 entries, 0 to 499\n",
            "Data columns (total 8 columns):\n",
            " #   Column      Non-Null Count  Dtype \n",
            "---  ------      --------------  ----- \n",
            " 0   user_id     500 non-null    int64 \n",
            " 1   age         500 non-null    int64 \n",
            " 2   churn_date  38 non-null     object\n",
            " 3   city        500 non-null    object\n",
            " 4   first_name  500 non-null    object\n",
            " 5   last_name   500 non-null    object\n",
            " 6   reg_date    500 non-null    object\n",
            " 7   tariff      500 non-null    object\n",
            "dtypes: int64(2), object(6)\n",
            "memory usage: 31.4+ KB\n",
            "<class 'pandas.core.frame.DataFrame'>\n",
            "RangeIndex: 2 entries, 0 to 1\n",
            "Data columns (total 8 columns):\n",
            " #   Column                 Non-Null Count  Dtype \n",
            "---  ------                 --------------  ----- \n",
            " 0   messages_included      2 non-null      int64 \n",
            " 1   mb_per_month_included  2 non-null      int64 \n",
            " 2   minutes_included       2 non-null      int64 \n",
            " 3   rub_monthly_fee        2 non-null      int64 \n",
            " 4   rub_per_gb             2 non-null      int64 \n",
            " 5   rub_per_message        2 non-null      int64 \n",
            " 6   rub_per_minute         2 non-null      int64 \n",
            " 7   tariff_name            2 non-null      object\n",
            "dtypes: int64(7), object(1)\n",
            "memory usage: 256.0+ bytes\n",
            "<class 'pandas.core.frame.DataFrame'>\n",
            "RangeIndex: 202607 entries, 0 to 202606\n",
            "Data columns (total 4 columns):\n",
            " #   Column     Non-Null Count   Dtype  \n",
            "---  ------     --------------   -----  \n",
            " 0   id         202607 non-null  object \n",
            " 1   call_date  202607 non-null  object \n",
            " 2   duration   202607 non-null  float64\n",
            " 3   user_id    202607 non-null  int64  \n",
            "dtypes: float64(1), int64(1), object(2)\n",
            "memory usage: 6.2+ MB\n",
            "<class 'pandas.core.frame.DataFrame'>\n",
            "RangeIndex: 149396 entries, 0 to 149395\n",
            "Data columns (total 5 columns):\n",
            " #   Column        Non-Null Count   Dtype  \n",
            "---  ------        --------------   -----  \n",
            " 0   Unnamed: 0    149396 non-null  int64  \n",
            " 1   id            149396 non-null  object \n",
            " 2   mb_used       149396 non-null  float64\n",
            " 3   session_date  149396 non-null  object \n",
            " 4   user_id       149396 non-null  int64  \n",
            "dtypes: float64(1), int64(2), object(2)\n",
            "memory usage: 5.7+ MB\n",
            "<class 'pandas.core.frame.DataFrame'>\n",
            "RangeIndex: 123036 entries, 0 to 123035\n",
            "Data columns (total 3 columns):\n",
            " #   Column        Non-Null Count   Dtype \n",
            "---  ------        --------------   ----- \n",
            " 0   id            123036 non-null  object\n",
            " 1   message_date  123036 non-null  object\n",
            " 2   user_id       123036 non-null  int64 \n",
            "dtypes: int64(1), object(2)\n",
            "memory usage: 2.8+ MB\n"
          ]
        }
      ],
      "source": [
        "data_users.info()\n",
        "data_tariffs.info()\n",
        "data_calls.info()\n",
        "data_internet.info()\n",
        "data_messages.info()"
      ]
    },
    {
      "cell_type": "markdown",
      "metadata": {
        "id": "FIFNlcCgT29a"
      },
      "source": [
        "Мы видим датафрейм с личной информацией об абонентах, в трех других датафреймах указаны данные о их активности(звонки, сообщения, интернет-траффик), еще в одной таблице указаны подробности о тарифах. Представляется удобным то, что в таблицах содержатся столбцы с уникальными идентификаторами пользователей, в дальнейшем сделаю слияние данных из датафреймов."
      ]
    },
    {
      "cell_type": "markdown",
      "metadata": {
        "id": "s2wzshu-T29a"
      },
      "source": [
        "### Подготовка данных"
      ]
    },
    {
      "cell_type": "markdown",
      "metadata": {
        "id": "DL4A8TIfT29a"
      },
      "source": [
        "Проверю данные на наличие пропусков и дубликатов"
      ]
    },
    {
      "cell_type": "code",
      "execution_count": null,
      "metadata": {
        "id": "YflD3HBLT29a",
        "outputId": "861c3edc-6dfc-436f-8f1c-f1137253c798"
      },
      "outputs": [
        {
          "data": {
            "text/plain": [
              "user_id         0\n",
              "age             0\n",
              "churn_date    462\n",
              "city            0\n",
              "first_name      0\n",
              "last_name       0\n",
              "reg_date        0\n",
              "tariff          0\n",
              "dtype: int64"
            ]
          },
          "execution_count": 5,
          "metadata": {},
          "output_type": "execute_result"
        }
      ],
      "source": [
        "data_users.isna().sum()"
      ]
    },
    {
      "cell_type": "code",
      "execution_count": null,
      "metadata": {
        "id": "9ex50AJIT29b",
        "outputId": "38969c1f-7f68-4d73-a0ba-bc34cdce19c7"
      },
      "outputs": [
        {
          "data": {
            "text/plain": [
              "id           0\n",
              "call_date    0\n",
              "duration     0\n",
              "user_id      0\n",
              "dtype: int64"
            ]
          },
          "execution_count": 6,
          "metadata": {},
          "output_type": "execute_result"
        }
      ],
      "source": [
        "data_calls.isna().sum()"
      ]
    },
    {
      "cell_type": "code",
      "execution_count": null,
      "metadata": {
        "id": "GkL8Wg98T29b",
        "outputId": "e49afc52-1cd9-495c-b080-5616c59a9261"
      },
      "outputs": [
        {
          "data": {
            "text/plain": [
              "messages_included        0\n",
              "mb_per_month_included    0\n",
              "minutes_included         0\n",
              "rub_monthly_fee          0\n",
              "rub_per_gb               0\n",
              "rub_per_message          0\n",
              "rub_per_minute           0\n",
              "tariff_name              0\n",
              "dtype: int64"
            ]
          },
          "execution_count": 7,
          "metadata": {},
          "output_type": "execute_result"
        }
      ],
      "source": [
        "data_tariffs.isna().sum()"
      ]
    },
    {
      "cell_type": "code",
      "execution_count": null,
      "metadata": {
        "id": "Ervc-67IT29b",
        "outputId": "09c462ef-c476-408a-d56b-f271fa65d298"
      },
      "outputs": [
        {
          "data": {
            "text/plain": [
              "Unnamed: 0      0\n",
              "id              0\n",
              "mb_used         0\n",
              "session_date    0\n",
              "user_id         0\n",
              "dtype: int64"
            ]
          },
          "execution_count": 8,
          "metadata": {},
          "output_type": "execute_result"
        }
      ],
      "source": [
        "data_internet.isna().sum()"
      ]
    },
    {
      "cell_type": "code",
      "execution_count": null,
      "metadata": {
        "id": "DImsV3MZT29c",
        "outputId": "77e406e1-1ecf-407a-d4a0-40f5605fe3a5"
      },
      "outputs": [
        {
          "data": {
            "text/plain": [
              "id              0\n",
              "message_date    0\n",
              "user_id         0\n",
              "dtype: int64"
            ]
          },
          "execution_count": 9,
          "metadata": {},
          "output_type": "execute_result"
        }
      ],
      "source": [
        "data_messages.isna().sum()"
      ]
    },
    {
      "cell_type": "code",
      "execution_count": null,
      "metadata": {
        "id": "A4AjJcCkT29c",
        "outputId": "d2685183-fafe-4e85-e2fd-8c674c44649c"
      },
      "outputs": [
        {
          "data": {
            "text/plain": [
              "0"
            ]
          },
          "execution_count": 10,
          "metadata": {},
          "output_type": "execute_result"
        }
      ],
      "source": [
        "data_users.duplicated().sum()"
      ]
    },
    {
      "cell_type": "code",
      "execution_count": null,
      "metadata": {
        "id": "5rus_0xBT29c",
        "outputId": "4348abe8-ad82-4d14-9ba3-36e53d68f9aa"
      },
      "outputs": [
        {
          "data": {
            "text/plain": [
              "0"
            ]
          },
          "execution_count": 11,
          "metadata": {},
          "output_type": "execute_result"
        }
      ],
      "source": [
        "data_tariffs.duplicated().sum()"
      ]
    },
    {
      "cell_type": "code",
      "execution_count": null,
      "metadata": {
        "id": "51kI4S8RT29d",
        "outputId": "9c893b79-8802-4626-a1d4-e28a3731eda1"
      },
      "outputs": [
        {
          "data": {
            "text/plain": [
              "0"
            ]
          },
          "execution_count": 12,
          "metadata": {},
          "output_type": "execute_result"
        }
      ],
      "source": [
        "data_calls.duplicated().sum()"
      ]
    },
    {
      "cell_type": "code",
      "execution_count": null,
      "metadata": {
        "id": "MU5Vlk78T29d",
        "outputId": "9a2212b8-b0ea-4d21-f5ac-ff1327cd3095"
      },
      "outputs": [
        {
          "data": {
            "text/plain": [
              "0"
            ]
          },
          "execution_count": 13,
          "metadata": {},
          "output_type": "execute_result"
        }
      ],
      "source": [
        "data_internet.duplicated().sum()"
      ]
    },
    {
      "cell_type": "code",
      "execution_count": null,
      "metadata": {
        "id": "P9-gSQUZT29d",
        "outputId": "e21fca88-ad2b-41c4-c15b-4c9cbc1862d0"
      },
      "outputs": [
        {
          "data": {
            "text/plain": [
              "0"
            ]
          },
          "execution_count": 14,
          "metadata": {},
          "output_type": "execute_result"
        }
      ],
      "source": [
        "data_messages.duplicated().sum()"
      ]
    },
    {
      "cell_type": "code",
      "execution_count": null,
      "metadata": {
        "id": "WQGgTIraT29d",
        "outputId": "18231e8a-d37c-408f-a4be-b25cfc602be6"
      },
      "outputs": [
        {
          "data": {
            "text/plain": [
              "Москва              99\n",
              "Санкт-Петербург     39\n",
              "Новосибирск         16\n",
              "Омск                14\n",
              "Казань              14\n",
              "Уфа                 12\n",
              "Екатеринбург        11\n",
              "Ульяновск           11\n",
              "Краснодар           11\n",
              "Набережные Челны    11\n",
              "Челябинск            9\n",
              "Самара               9\n",
              "Волгоград            8\n",
              "Пермь                8\n",
              "Нижний Новгород      8\n",
              "Красноярск           7\n",
              "Улан-Удэ             7\n",
              "Новокузнецк          7\n",
              "Вологда              7\n",
              "Ростов-на-Дону       6\n",
              "Иркутск              6\n",
              "Киров                6\n",
              "Томск                6\n",
              "Пенза                6\n",
              "Воронеж              6\n",
              "Тюмень               6\n",
              "Сочи                 6\n",
              "Махачкала            5\n",
              "Магнитогорск         5\n",
              "Балашиха             5\n",
              "Владивосток          5\n",
              "Ставрополь           5\n",
              "Калуга               4\n",
              "Астрахань            4\n",
              "Тольятти             4\n",
              "Новороссийск         4\n",
              "Мурманск             4\n",
              "Саранск              4\n",
              "Чита                 4\n",
              "Рязань               4\n",
              "Петрозаводск         4\n",
              "Кострома             4\n",
              "Хабаровск            4\n",
              "Курган               3\n",
              "Севастополь          3\n",
              "Стерлитамак          3\n",
              "Орёл                 3\n",
              "Якутск               3\n",
              "Тверь                3\n",
              "Владимир             3\n",
              "Брянск               3\n",
              "Барнаул              3\n",
              "Череповец            3\n",
              "Чебоксары            3\n",
              "Ярославль            3\n",
              "Нижний Тагил         3\n",
              "Саратов              3\n",
              "Тамбов               2\n",
              "Сургут               2\n",
              "Кемерово             2\n",
              "Владикавказ          2\n",
              "Оренбург             2\n",
              "Ижевск               2\n",
              "Тула                 2\n",
              "Калининград          2\n",
              "Белгород             2\n",
              "Липецк               2\n",
              "Грозный              2\n",
              "Смоленск             2\n",
              "Курск                2\n",
              "Волжский             2\n",
              "Химки                1\n",
              "Иваново              1\n",
              "Нижневартовск        1\n",
              "Архангельск          1\n",
              "Подольск             1\n",
              "Name: city, dtype: int64"
            ]
          },
          "metadata": {},
          "output_type": "display_data"
        }
      ],
      "source": [
        "pd.set_option('display.max_rows', 100)\n",
        "display(data_users['city'].value_counts())"
      ]
    },
    {
      "cell_type": "markdown",
      "metadata": {
        "id": "5fM-lrejT29d"
      },
      "source": [
        "Пропуски есть только в столбце с датой прекращения пользования тарифом, но это значит, что тариф ещё действовал на момент выгрузки данных.\n",
        "Дубликатов, в том числе неявных, нет."
      ]
    },
    {
      "cell_type": "markdown",
      "metadata": {
        "id": "Wh1YiKi6T29e"
      },
      "source": [
        "Для удобства использования в дальнейшем преобразую столбцы с датами в соответствующий формат. Также добавлю в таблицы дополнительный столбец для указания именно месяца, потому что именно по месяцам я буду считать показатели поведения пользователей. \n",
        "Из описания проекта я знаю, что данные потребления округляются большую сторону: секунды до минут, а мегабайты — до гигабайт. А общая сумма трафика считается только за месяц. Буду учитывать это и округлять значения."
      ]
    },
    {
      "cell_type": "code",
      "execution_count": null,
      "metadata": {
        "id": "ZD2rq3zhT29e"
      },
      "outputs": [],
      "source": [
        "data_users['reg_date'] = pd.to_datetime(data_users['reg_date'], format='%Y-%m-%d')\n",
        "data_calls['call_date'] = pd.to_datetime(data_calls['call_date'], format='%Y-%m-%d')\n",
        "data_internet['session_date'] = pd.to_datetime(data_internet['session_date'], format='%Y-%m-%d')\n",
        "data_messages['message_date'] = pd.to_datetime(data_messages['message_date'], format='%Y-%m-%d')"
      ]
    },
    {
      "cell_type": "code",
      "execution_count": null,
      "metadata": {
        "id": "Jy30kxQFT29e"
      },
      "outputs": [],
      "source": [
        "data_users['reg_date_month'] = data_users['reg_date'].dt.month\n",
        "data_calls['month'] = data_calls['call_date'].dt.month\n",
        "data_internet['month'] = data_internet['session_date'].dt.month\n",
        "data_messages['month'] = data_messages['message_date'].dt.month"
      ]
    },
    {
      "cell_type": "code",
      "execution_count": null,
      "metadata": {
        "id": "HhuzqlvYT29e"
      },
      "outputs": [],
      "source": [
        "data_calls['duration'] = np.ceil(data_calls['duration'])"
      ]
    },
    {
      "cell_type": "markdown",
      "metadata": {
        "id": "2h3z0nZ0T29f"
      },
      "source": [
        "Теперь посчитаю несколько показателей для каждого пользователя:\n",
        "1. количество сделанных звонков и израсходованных минут разговора по месяцам;\n",
        "2. количество отправленных сообщений по месяцам;\n",
        "3. объем израсходованного интернет-трафика по месяцам;\n",
        "4. помесячную выручку с каждого пользователя."
      ]
    },
    {
      "cell_type": "code",
      "execution_count": null,
      "metadata": {
        "id": "EhUcV-LCT29f",
        "outputId": "79787c28-0f6e-46b9-f529-83673a3df4b7"
      },
      "outputs": [
        {
          "data": {
            "text/html": [
              "<div>\n",
              "<style scoped>\n",
              "    .dataframe tbody tr th:only-of-type {\n",
              "        vertical-align: middle;\n",
              "    }\n",
              "\n",
              "    .dataframe tbody tr th {\n",
              "        vertical-align: top;\n",
              "    }\n",
              "\n",
              "    .dataframe thead th {\n",
              "        text-align: right;\n",
              "    }\n",
              "</style>\n",
              "<table border=\"1\" class=\"dataframe\">\n",
              "  <thead>\n",
              "    <tr style=\"text-align: right;\">\n",
              "      <th></th>\n",
              "      <th>user_id</th>\n",
              "      <th>month</th>\n",
              "      <th>calls_count_month</th>\n",
              "    </tr>\n",
              "  </thead>\n",
              "  <tbody>\n",
              "    <tr>\n",
              "      <th>0</th>\n",
              "      <td>1000</td>\n",
              "      <td>5</td>\n",
              "      <td>22</td>\n",
              "    </tr>\n",
              "    <tr>\n",
              "      <th>1</th>\n",
              "      <td>1000</td>\n",
              "      <td>6</td>\n",
              "      <td>43</td>\n",
              "    </tr>\n",
              "    <tr>\n",
              "      <th>2</th>\n",
              "      <td>1000</td>\n",
              "      <td>7</td>\n",
              "      <td>47</td>\n",
              "    </tr>\n",
              "    <tr>\n",
              "      <th>3</th>\n",
              "      <td>1000</td>\n",
              "      <td>8</td>\n",
              "      <td>52</td>\n",
              "    </tr>\n",
              "    <tr>\n",
              "      <th>4</th>\n",
              "      <td>1000</td>\n",
              "      <td>9</td>\n",
              "      <td>58</td>\n",
              "    </tr>\n",
              "    <tr>\n",
              "      <th>...</th>\n",
              "      <td>...</td>\n",
              "      <td>...</td>\n",
              "      <td>...</td>\n",
              "    </tr>\n",
              "    <tr>\n",
              "      <th>3169</th>\n",
              "      <td>1498</td>\n",
              "      <td>10</td>\n",
              "      <td>41</td>\n",
              "    </tr>\n",
              "    <tr>\n",
              "      <th>3170</th>\n",
              "      <td>1499</td>\n",
              "      <td>9</td>\n",
              "      <td>9</td>\n",
              "    </tr>\n",
              "    <tr>\n",
              "      <th>3171</th>\n",
              "      <td>1499</td>\n",
              "      <td>10</td>\n",
              "      <td>68</td>\n",
              "    </tr>\n",
              "    <tr>\n",
              "      <th>3172</th>\n",
              "      <td>1499</td>\n",
              "      <td>11</td>\n",
              "      <td>74</td>\n",
              "    </tr>\n",
              "    <tr>\n",
              "      <th>3173</th>\n",
              "      <td>1499</td>\n",
              "      <td>12</td>\n",
              "      <td>69</td>\n",
              "    </tr>\n",
              "  </tbody>\n",
              "</table>\n",
              "<p>3174 rows × 3 columns</p>\n",
              "</div>"
            ],
            "text/plain": [
              "      user_id  month  calls_count_month\n",
              "0        1000      5                 22\n",
              "1        1000      6                 43\n",
              "2        1000      7                 47\n",
              "3        1000      8                 52\n",
              "4        1000      9                 58\n",
              "...       ...    ...                ...\n",
              "3169     1498     10                 41\n",
              "3170     1499      9                  9\n",
              "3171     1499     10                 68\n",
              "3172     1499     11                 74\n",
              "3173     1499     12                 69\n",
              "\n",
              "[3174 rows x 3 columns]"
            ]
          },
          "metadata": {},
          "output_type": "display_data"
        }
      ],
      "source": [
        "calls_pivot_count = data_calls.pivot_table(index=['user_id', 'month'], values='duration', aggfunc='count').reset_index().rename(columns={'duration':'calls_count_month'})\n",
        "display(calls_pivot_count)"
      ]
    },
    {
      "cell_type": "code",
      "execution_count": null,
      "metadata": {
        "id": "217JOjxuT29f",
        "outputId": "4e8a0076-5717-4192-c1c4-0da4a77f5f64"
      },
      "outputs": [
        {
          "data": {
            "text/html": [
              "<div>\n",
              "<style scoped>\n",
              "    .dataframe tbody tr th:only-of-type {\n",
              "        vertical-align: middle;\n",
              "    }\n",
              "\n",
              "    .dataframe tbody tr th {\n",
              "        vertical-align: top;\n",
              "    }\n",
              "\n",
              "    .dataframe thead th {\n",
              "        text-align: right;\n",
              "    }\n",
              "</style>\n",
              "<table border=\"1\" class=\"dataframe\">\n",
              "  <thead>\n",
              "    <tr style=\"text-align: right;\">\n",
              "      <th></th>\n",
              "      <th>user_id</th>\n",
              "      <th>month</th>\n",
              "      <th>calls_sum_month</th>\n",
              "    </tr>\n",
              "  </thead>\n",
              "  <tbody>\n",
              "    <tr>\n",
              "      <th>0</th>\n",
              "      <td>1000</td>\n",
              "      <td>5</td>\n",
              "      <td>159.0</td>\n",
              "    </tr>\n",
              "    <tr>\n",
              "      <th>1</th>\n",
              "      <td>1000</td>\n",
              "      <td>6</td>\n",
              "      <td>172.0</td>\n",
              "    </tr>\n",
              "    <tr>\n",
              "      <th>2</th>\n",
              "      <td>1000</td>\n",
              "      <td>7</td>\n",
              "      <td>340.0</td>\n",
              "    </tr>\n",
              "    <tr>\n",
              "      <th>3</th>\n",
              "      <td>1000</td>\n",
              "      <td>8</td>\n",
              "      <td>408.0</td>\n",
              "    </tr>\n",
              "    <tr>\n",
              "      <th>4</th>\n",
              "      <td>1000</td>\n",
              "      <td>9</td>\n",
              "      <td>466.0</td>\n",
              "    </tr>\n",
              "    <tr>\n",
              "      <th>...</th>\n",
              "      <td>...</td>\n",
              "      <td>...</td>\n",
              "      <td>...</td>\n",
              "    </tr>\n",
              "    <tr>\n",
              "      <th>3169</th>\n",
              "      <td>1498</td>\n",
              "      <td>10</td>\n",
              "      <td>247.0</td>\n",
              "    </tr>\n",
              "    <tr>\n",
              "      <th>3170</th>\n",
              "      <td>1499</td>\n",
              "      <td>9</td>\n",
              "      <td>70.0</td>\n",
              "    </tr>\n",
              "    <tr>\n",
              "      <th>3171</th>\n",
              "      <td>1499</td>\n",
              "      <td>10</td>\n",
              "      <td>449.0</td>\n",
              "    </tr>\n",
              "    <tr>\n",
              "      <th>3172</th>\n",
              "      <td>1499</td>\n",
              "      <td>11</td>\n",
              "      <td>612.0</td>\n",
              "    </tr>\n",
              "    <tr>\n",
              "      <th>3173</th>\n",
              "      <td>1499</td>\n",
              "      <td>12</td>\n",
              "      <td>492.0</td>\n",
              "    </tr>\n",
              "  </tbody>\n",
              "</table>\n",
              "<p>3174 rows × 3 columns</p>\n",
              "</div>"
            ],
            "text/plain": [
              "      user_id  month  calls_sum_month\n",
              "0        1000      5            159.0\n",
              "1        1000      6            172.0\n",
              "2        1000      7            340.0\n",
              "3        1000      8            408.0\n",
              "4        1000      9            466.0\n",
              "...       ...    ...              ...\n",
              "3169     1498     10            247.0\n",
              "3170     1499      9             70.0\n",
              "3171     1499     10            449.0\n",
              "3172     1499     11            612.0\n",
              "3173     1499     12            492.0\n",
              "\n",
              "[3174 rows x 3 columns]"
            ]
          },
          "metadata": {},
          "output_type": "display_data"
        }
      ],
      "source": [
        "calls_pivot_sum = data_calls.pivot_table(index=['user_id', 'month'], values='duration', aggfunc='sum').reset_index().rename(columns={'duration':'calls_sum_month'})\n",
        "display(calls_pivot_sum)"
      ]
    },
    {
      "cell_type": "markdown",
      "metadata": {
        "id": "BjK4DVDGT29g"
      },
      "source": [
        "На первой сводной таблице мы видим количество израсходованных минут разговора по месяцам, на второй - количество сделанных звонков. Также я добавил столбец с указанием среднего значения для каждого пользователя за год. В таблицах много пропусков, это связано с тем, что в таких месяцах абонент еще не был клиентом компании.\n"
      ]
    },
    {
      "cell_type": "code",
      "execution_count": null,
      "metadata": {
        "id": "SAOTD9LBT29g",
        "outputId": "dc9f5364-f5d8-49c5-97d5-ec0b80011681"
      },
      "outputs": [
        {
          "data": {
            "text/html": [
              "<div>\n",
              "<style scoped>\n",
              "    .dataframe tbody tr th:only-of-type {\n",
              "        vertical-align: middle;\n",
              "    }\n",
              "\n",
              "    .dataframe tbody tr th {\n",
              "        vertical-align: top;\n",
              "    }\n",
              "\n",
              "    .dataframe thead th {\n",
              "        text-align: right;\n",
              "    }\n",
              "</style>\n",
              "<table border=\"1\" class=\"dataframe\">\n",
              "  <thead>\n",
              "    <tr style=\"text-align: right;\">\n",
              "      <th></th>\n",
              "      <th>user_id</th>\n",
              "      <th>month</th>\n",
              "      <th>msg_sum_month</th>\n",
              "    </tr>\n",
              "  </thead>\n",
              "  <tbody>\n",
              "    <tr>\n",
              "      <th>0</th>\n",
              "      <td>1000</td>\n",
              "      <td>5</td>\n",
              "      <td>22</td>\n",
              "    </tr>\n",
              "    <tr>\n",
              "      <th>1</th>\n",
              "      <td>1000</td>\n",
              "      <td>6</td>\n",
              "      <td>60</td>\n",
              "    </tr>\n",
              "    <tr>\n",
              "      <th>2</th>\n",
              "      <td>1000</td>\n",
              "      <td>7</td>\n",
              "      <td>75</td>\n",
              "    </tr>\n",
              "    <tr>\n",
              "      <th>3</th>\n",
              "      <td>1000</td>\n",
              "      <td>8</td>\n",
              "      <td>81</td>\n",
              "    </tr>\n",
              "    <tr>\n",
              "      <th>4</th>\n",
              "      <td>1000</td>\n",
              "      <td>9</td>\n",
              "      <td>57</td>\n",
              "    </tr>\n",
              "    <tr>\n",
              "      <th>...</th>\n",
              "      <td>...</td>\n",
              "      <td>...</td>\n",
              "      <td>...</td>\n",
              "    </tr>\n",
              "    <tr>\n",
              "      <th>2712</th>\n",
              "      <td>1498</td>\n",
              "      <td>10</td>\n",
              "      <td>42</td>\n",
              "    </tr>\n",
              "    <tr>\n",
              "      <th>2713</th>\n",
              "      <td>1499</td>\n",
              "      <td>9</td>\n",
              "      <td>11</td>\n",
              "    </tr>\n",
              "    <tr>\n",
              "      <th>2714</th>\n",
              "      <td>1499</td>\n",
              "      <td>10</td>\n",
              "      <td>48</td>\n",
              "    </tr>\n",
              "    <tr>\n",
              "      <th>2715</th>\n",
              "      <td>1499</td>\n",
              "      <td>11</td>\n",
              "      <td>59</td>\n",
              "    </tr>\n",
              "    <tr>\n",
              "      <th>2716</th>\n",
              "      <td>1499</td>\n",
              "      <td>12</td>\n",
              "      <td>66</td>\n",
              "    </tr>\n",
              "  </tbody>\n",
              "</table>\n",
              "<p>2717 rows × 3 columns</p>\n",
              "</div>"
            ],
            "text/plain": [
              "      user_id  month  msg_sum_month\n",
              "0        1000      5             22\n",
              "1        1000      6             60\n",
              "2        1000      7             75\n",
              "3        1000      8             81\n",
              "4        1000      9             57\n",
              "...       ...    ...            ...\n",
              "2712     1498     10             42\n",
              "2713     1499      9             11\n",
              "2714     1499     10             48\n",
              "2715     1499     11             59\n",
              "2716     1499     12             66\n",
              "\n",
              "[2717 rows x 3 columns]"
            ]
          },
          "metadata": {},
          "output_type": "display_data"
        }
      ],
      "source": [
        "messages_pivot = data_messages.pivot_table(index=['user_id', 'month'], values='id', aggfunc='count').reset_index().rename(columns={'id':'msg_sum_month'})\n",
        "display(messages_pivot)"
      ]
    },
    {
      "cell_type": "markdown",
      "metadata": {
        "id": "HaEolcOzT29g"
      },
      "source": [
        "Здесь указано количество отправленных сообщений каждого абонента по месяцам и соответствующее среднее количество за год."
      ]
    },
    {
      "cell_type": "markdown",
      "metadata": {
        "id": "52EoaQH_T29g"
      },
      "source": [
        "Далее посчитаю для каждого пользователя трафик, переведу мегабайты в гигабайты и посчитаю их количество по месяцам. Как уже было указано, плата с абонентов взимается по гигабайтам и округляется в большую сторону даже при трафике в 1025мб."
      ]
    },
    {
      "cell_type": "code",
      "execution_count": null,
      "metadata": {
        "scrolled": false,
        "id": "3d53nyZxT29g",
        "outputId": "9f7b649e-62a7-4d6e-ffaf-1565d64040e7"
      },
      "outputs": [
        {
          "data": {
            "text/html": [
              "<div>\n",
              "<style scoped>\n",
              "    .dataframe tbody tr th:only-of-type {\n",
              "        vertical-align: middle;\n",
              "    }\n",
              "\n",
              "    .dataframe tbody tr th {\n",
              "        vertical-align: top;\n",
              "    }\n",
              "\n",
              "    .dataframe thead th {\n",
              "        text-align: right;\n",
              "    }\n",
              "</style>\n",
              "<table border=\"1\" class=\"dataframe\">\n",
              "  <thead>\n",
              "    <tr style=\"text-align: right;\">\n",
              "      <th></th>\n",
              "      <th>user_id</th>\n",
              "      <th>month</th>\n",
              "      <th>gb_sum_month</th>\n",
              "    </tr>\n",
              "  </thead>\n",
              "  <tbody>\n",
              "    <tr>\n",
              "      <th>0</th>\n",
              "      <td>1000</td>\n",
              "      <td>5</td>\n",
              "      <td>3.0</td>\n",
              "    </tr>\n",
              "    <tr>\n",
              "      <th>1</th>\n",
              "      <td>1000</td>\n",
              "      <td>6</td>\n",
              "      <td>23.0</td>\n",
              "    </tr>\n",
              "    <tr>\n",
              "      <th>2</th>\n",
              "      <td>1000</td>\n",
              "      <td>7</td>\n",
              "      <td>14.0</td>\n",
              "    </tr>\n",
              "    <tr>\n",
              "      <th>3</th>\n",
              "      <td>1000</td>\n",
              "      <td>8</td>\n",
              "      <td>14.0</td>\n",
              "    </tr>\n",
              "    <tr>\n",
              "      <th>4</th>\n",
              "      <td>1000</td>\n",
              "      <td>9</td>\n",
              "      <td>15.0</td>\n",
              "    </tr>\n",
              "    <tr>\n",
              "      <th>...</th>\n",
              "      <td>...</td>\n",
              "      <td>...</td>\n",
              "      <td>...</td>\n",
              "    </tr>\n",
              "    <tr>\n",
              "      <th>3198</th>\n",
              "      <td>1498</td>\n",
              "      <td>10</td>\n",
              "      <td>21.0</td>\n",
              "    </tr>\n",
              "    <tr>\n",
              "      <th>3199</th>\n",
              "      <td>1499</td>\n",
              "      <td>9</td>\n",
              "      <td>2.0</td>\n",
              "    </tr>\n",
              "    <tr>\n",
              "      <th>3200</th>\n",
              "      <td>1499</td>\n",
              "      <td>10</td>\n",
              "      <td>18.0</td>\n",
              "    </tr>\n",
              "    <tr>\n",
              "      <th>3201</th>\n",
              "      <td>1499</td>\n",
              "      <td>11</td>\n",
              "      <td>18.0</td>\n",
              "    </tr>\n",
              "    <tr>\n",
              "      <th>3202</th>\n",
              "      <td>1499</td>\n",
              "      <td>12</td>\n",
              "      <td>13.0</td>\n",
              "    </tr>\n",
              "  </tbody>\n",
              "</table>\n",
              "<p>3203 rows × 3 columns</p>\n",
              "</div>"
            ],
            "text/plain": [
              "      user_id  month  gb_sum_month\n",
              "0        1000      5           3.0\n",
              "1        1000      6          23.0\n",
              "2        1000      7          14.0\n",
              "3        1000      8          14.0\n",
              "4        1000      9          15.0\n",
              "...       ...    ...           ...\n",
              "3198     1498     10          21.0\n",
              "3199     1499      9           2.0\n",
              "3200     1499     10          18.0\n",
              "3201     1499     11          18.0\n",
              "3202     1499     12          13.0\n",
              "\n",
              "[3203 rows x 3 columns]"
            ]
          },
          "metadata": {},
          "output_type": "display_data"
        }
      ],
      "source": [
        "internet_pivot_gb= data_internet.pivot_table(index=['user_id', 'month'], values='mb_used', aggfunc='sum').reset_index().rename(columns={'mb_used':'gb_sum_month'})\n",
        "internet_pivot_gb['gb_sum_month'] = internet_pivot_gb['gb_sum_month'] / 1024\n",
        "internet_pivot_gb['gb_sum_month'] = np.ceil(internet_pivot_gb['gb_sum_month'])\n",
        "display(internet_pivot_gb)"
      ]
    },
    {
      "cell_type": "markdown",
      "metadata": {
        "id": "cOaseMQLT29g"
      },
      "source": [
        "Теперь моя задача посчитать помесячную выручку с каждого пользователя, для этого для начала соединю в одну таблицу 3 таблицы с данными о сумме использованных абонентом минут, сообщений, гигабайт, затем добавлю в эту таблицу данные о тарифе для каждого  пользователя"
      ]
    },
    {
      "cell_type": "code",
      "execution_count": null,
      "metadata": {
        "id": "o7iz4I4AT29h"
      },
      "outputs": [],
      "source": [
        "summary = calls_pivot_sum.merge(messages_pivot, on=['user_id', 'month'], how='outer')\n",
        "summary = summary.merge(internet_pivot_gb, on=['user_id', 'month'], how='outer')\n",
        "summary = summary.merge(data_users, on='user_id', how='outer')\n",
        "data_tariffs = data_tariffs.rename(columns={'tariff_name':'tariff'})\n",
        "summary = summary.merge(data_tariffs, on='tariff', how='outer')\n",
        "summary['mb_per_month_included'] = summary['mb_per_month_included'] / 1024\n",
        "summary = summary.rename(columns={'mb_per_month_included':'gb_per_month_included'})\n",
        "summary = summary.sort_values(by=['user_id', 'month'])\n",
        "summary = summary.reset_index(drop=True)"
      ]
    },
    {
      "cell_type": "code",
      "execution_count": null,
      "metadata": {
        "id": "USQoAXTMT29h"
      },
      "outputs": [],
      "source": [
        "summary[['calls_sum_month', 'msg_sum_month', 'gb_sum_month']] = summary[['calls_sum_month', 'msg_sum_month', 'gb_sum_month']].fillna(0)"
      ]
    },
    {
      "cell_type": "markdown",
      "metadata": {
        "id": "7zuOy5kdT29h"
      },
      "source": [
        "Я получил таблицу, в которой указаны и данные о потреблении каждого пользователя по месяцам,и в то же время лимиты их тарифов. Теперь создам функцию, которая будет показывать, сколько каждый клиент платил каждый месяц сверх абонентской платы."
      ]
    },
    {
      "cell_type": "code",
      "execution_count": null,
      "metadata": {
        "id": "3LSpHimyT29h"
      },
      "outputs": [],
      "source": [
        "def above_tariff(row):\n",
        "    if row['calls_sum_month'] > row['minutes_included']:\n",
        "        calls_above = (row['calls_sum_month'] - row['minutes_included']) * row['rub_per_minute']\n",
        "    else:\n",
        "        calls_above = 0\n",
        "    if row['msg_sum_month'] > row['messages_included']:\n",
        "        msg_above = (row['msg_sum_month'] - row['messages_included']) * row['rub_per_message']\n",
        "    else:\n",
        "        msg_above = 0\n",
        "    if row['gb_sum_month'] > row['gb_per_month_included']:\n",
        "        gb_above = (row['gb_sum_month'] - row['gb_per_month_included']) * row['rub_per_gb']\n",
        "    else:\n",
        "        gb_above = 0\n",
        "    return calls_above + msg_above + gb_above"
      ]
    },
    {
      "cell_type": "code",
      "execution_count": null,
      "metadata": {
        "scrolled": false,
        "id": "uFTYIPxHT29i"
      },
      "outputs": [],
      "source": [
        "summary['above_tariff_rub'] = summary.apply(above_tariff, axis=1)"
      ]
    },
    {
      "cell_type": "code",
      "execution_count": null,
      "metadata": {
        "id": "4QIErJi6T29i",
        "outputId": "f6be4333-b73d-4dd8-949d-b4726e472f7e"
      },
      "outputs": [
        {
          "data": {
            "text/html": [
              "<div>\n",
              "<style scoped>\n",
              "    .dataframe tbody tr th:only-of-type {\n",
              "        vertical-align: middle;\n",
              "    }\n",
              "\n",
              "    .dataframe tbody tr th {\n",
              "        vertical-align: top;\n",
              "    }\n",
              "\n",
              "    .dataframe thead th {\n",
              "        text-align: right;\n",
              "    }\n",
              "</style>\n",
              "<table border=\"1\" class=\"dataframe\">\n",
              "  <thead>\n",
              "    <tr style=\"text-align: right;\">\n",
              "      <th></th>\n",
              "      <th>user_id</th>\n",
              "      <th>month</th>\n",
              "      <th>calls_sum_month</th>\n",
              "      <th>msg_sum_month</th>\n",
              "      <th>gb_sum_month</th>\n",
              "      <th>age</th>\n",
              "      <th>churn_date</th>\n",
              "      <th>city</th>\n",
              "      <th>first_name</th>\n",
              "      <th>last_name</th>\n",
              "      <th>...</th>\n",
              "      <th>tariff</th>\n",
              "      <th>reg_date_month</th>\n",
              "      <th>messages_included</th>\n",
              "      <th>gb_per_month_included</th>\n",
              "      <th>minutes_included</th>\n",
              "      <th>rub_monthly_fee</th>\n",
              "      <th>rub_per_gb</th>\n",
              "      <th>rub_per_message</th>\n",
              "      <th>rub_per_minute</th>\n",
              "      <th>above_tariff_rub</th>\n",
              "    </tr>\n",
              "  </thead>\n",
              "  <tbody>\n",
              "    <tr>\n",
              "      <th>0</th>\n",
              "      <td>1000</td>\n",
              "      <td>5.0</td>\n",
              "      <td>159.0</td>\n",
              "      <td>22.0</td>\n",
              "      <td>3.0</td>\n",
              "      <td>52</td>\n",
              "      <td>NaN</td>\n",
              "      <td>Краснодар</td>\n",
              "      <td>Рафаил</td>\n",
              "      <td>Верещагин</td>\n",
              "      <td>...</td>\n",
              "      <td>ultra</td>\n",
              "      <td>5</td>\n",
              "      <td>1000</td>\n",
              "      <td>30.0</td>\n",
              "      <td>3000</td>\n",
              "      <td>1950</td>\n",
              "      <td>150</td>\n",
              "      <td>1</td>\n",
              "      <td>1</td>\n",
              "      <td>0.0</td>\n",
              "    </tr>\n",
              "    <tr>\n",
              "      <th>1</th>\n",
              "      <td>1000</td>\n",
              "      <td>6.0</td>\n",
              "      <td>172.0</td>\n",
              "      <td>60.0</td>\n",
              "      <td>23.0</td>\n",
              "      <td>52</td>\n",
              "      <td>NaN</td>\n",
              "      <td>Краснодар</td>\n",
              "      <td>Рафаил</td>\n",
              "      <td>Верещагин</td>\n",
              "      <td>...</td>\n",
              "      <td>ultra</td>\n",
              "      <td>5</td>\n",
              "      <td>1000</td>\n",
              "      <td>30.0</td>\n",
              "      <td>3000</td>\n",
              "      <td>1950</td>\n",
              "      <td>150</td>\n",
              "      <td>1</td>\n",
              "      <td>1</td>\n",
              "      <td>0.0</td>\n",
              "    </tr>\n",
              "    <tr>\n",
              "      <th>2</th>\n",
              "      <td>1000</td>\n",
              "      <td>7.0</td>\n",
              "      <td>340.0</td>\n",
              "      <td>75.0</td>\n",
              "      <td>14.0</td>\n",
              "      <td>52</td>\n",
              "      <td>NaN</td>\n",
              "      <td>Краснодар</td>\n",
              "      <td>Рафаил</td>\n",
              "      <td>Верещагин</td>\n",
              "      <td>...</td>\n",
              "      <td>ultra</td>\n",
              "      <td>5</td>\n",
              "      <td>1000</td>\n",
              "      <td>30.0</td>\n",
              "      <td>3000</td>\n",
              "      <td>1950</td>\n",
              "      <td>150</td>\n",
              "      <td>1</td>\n",
              "      <td>1</td>\n",
              "      <td>0.0</td>\n",
              "    </tr>\n",
              "    <tr>\n",
              "      <th>3</th>\n",
              "      <td>1000</td>\n",
              "      <td>8.0</td>\n",
              "      <td>408.0</td>\n",
              "      <td>81.0</td>\n",
              "      <td>14.0</td>\n",
              "      <td>52</td>\n",
              "      <td>NaN</td>\n",
              "      <td>Краснодар</td>\n",
              "      <td>Рафаил</td>\n",
              "      <td>Верещагин</td>\n",
              "      <td>...</td>\n",
              "      <td>ultra</td>\n",
              "      <td>5</td>\n",
              "      <td>1000</td>\n",
              "      <td>30.0</td>\n",
              "      <td>3000</td>\n",
              "      <td>1950</td>\n",
              "      <td>150</td>\n",
              "      <td>1</td>\n",
              "      <td>1</td>\n",
              "      <td>0.0</td>\n",
              "    </tr>\n",
              "    <tr>\n",
              "      <th>4</th>\n",
              "      <td>1000</td>\n",
              "      <td>9.0</td>\n",
              "      <td>466.0</td>\n",
              "      <td>57.0</td>\n",
              "      <td>15.0</td>\n",
              "      <td>52</td>\n",
              "      <td>NaN</td>\n",
              "      <td>Краснодар</td>\n",
              "      <td>Рафаил</td>\n",
              "      <td>Верещагин</td>\n",
              "      <td>...</td>\n",
              "      <td>ultra</td>\n",
              "      <td>5</td>\n",
              "      <td>1000</td>\n",
              "      <td>30.0</td>\n",
              "      <td>3000</td>\n",
              "      <td>1950</td>\n",
              "      <td>150</td>\n",
              "      <td>1</td>\n",
              "      <td>1</td>\n",
              "      <td>0.0</td>\n",
              "    </tr>\n",
              "    <tr>\n",
              "      <th>...</th>\n",
              "      <td>...</td>\n",
              "      <td>...</td>\n",
              "      <td>...</td>\n",
              "      <td>...</td>\n",
              "      <td>...</td>\n",
              "      <td>...</td>\n",
              "      <td>...</td>\n",
              "      <td>...</td>\n",
              "      <td>...</td>\n",
              "      <td>...</td>\n",
              "      <td>...</td>\n",
              "      <td>...</td>\n",
              "      <td>...</td>\n",
              "      <td>...</td>\n",
              "      <td>...</td>\n",
              "      <td>...</td>\n",
              "      <td>...</td>\n",
              "      <td>...</td>\n",
              "      <td>...</td>\n",
              "      <td>...</td>\n",
              "      <td>...</td>\n",
              "    </tr>\n",
              "    <tr>\n",
              "      <th>3211</th>\n",
              "      <td>1498</td>\n",
              "      <td>10.0</td>\n",
              "      <td>247.0</td>\n",
              "      <td>42.0</td>\n",
              "      <td>21.0</td>\n",
              "      <td>68</td>\n",
              "      <td>2018-10-25</td>\n",
              "      <td>Владикавказ</td>\n",
              "      <td>Всеволод</td>\n",
              "      <td>Акимчин</td>\n",
              "      <td>...</td>\n",
              "      <td>smart</td>\n",
              "      <td>7</td>\n",
              "      <td>50</td>\n",
              "      <td>15.0</td>\n",
              "      <td>500</td>\n",
              "      <td>550</td>\n",
              "      <td>200</td>\n",
              "      <td>3</td>\n",
              "      <td>3</td>\n",
              "      <td>1200.0</td>\n",
              "    </tr>\n",
              "    <tr>\n",
              "      <th>3212</th>\n",
              "      <td>1499</td>\n",
              "      <td>9.0</td>\n",
              "      <td>70.0</td>\n",
              "      <td>11.0</td>\n",
              "      <td>2.0</td>\n",
              "      <td>35</td>\n",
              "      <td>NaN</td>\n",
              "      <td>Пермь</td>\n",
              "      <td>Гектор</td>\n",
              "      <td>Корнилов</td>\n",
              "      <td>...</td>\n",
              "      <td>smart</td>\n",
              "      <td>9</td>\n",
              "      <td>50</td>\n",
              "      <td>15.0</td>\n",
              "      <td>500</td>\n",
              "      <td>550</td>\n",
              "      <td>200</td>\n",
              "      <td>3</td>\n",
              "      <td>3</td>\n",
              "      <td>0.0</td>\n",
              "    </tr>\n",
              "    <tr>\n",
              "      <th>3213</th>\n",
              "      <td>1499</td>\n",
              "      <td>10.0</td>\n",
              "      <td>449.0</td>\n",
              "      <td>48.0</td>\n",
              "      <td>18.0</td>\n",
              "      <td>35</td>\n",
              "      <td>NaN</td>\n",
              "      <td>Пермь</td>\n",
              "      <td>Гектор</td>\n",
              "      <td>Корнилов</td>\n",
              "      <td>...</td>\n",
              "      <td>smart</td>\n",
              "      <td>9</td>\n",
              "      <td>50</td>\n",
              "      <td>15.0</td>\n",
              "      <td>500</td>\n",
              "      <td>550</td>\n",
              "      <td>200</td>\n",
              "      <td>3</td>\n",
              "      <td>3</td>\n",
              "      <td>600.0</td>\n",
              "    </tr>\n",
              "    <tr>\n",
              "      <th>3214</th>\n",
              "      <td>1499</td>\n",
              "      <td>11.0</td>\n",
              "      <td>612.0</td>\n",
              "      <td>59.0</td>\n",
              "      <td>18.0</td>\n",
              "      <td>35</td>\n",
              "      <td>NaN</td>\n",
              "      <td>Пермь</td>\n",
              "      <td>Гектор</td>\n",
              "      <td>Корнилов</td>\n",
              "      <td>...</td>\n",
              "      <td>smart</td>\n",
              "      <td>9</td>\n",
              "      <td>50</td>\n",
              "      <td>15.0</td>\n",
              "      <td>500</td>\n",
              "      <td>550</td>\n",
              "      <td>200</td>\n",
              "      <td>3</td>\n",
              "      <td>3</td>\n",
              "      <td>963.0</td>\n",
              "    </tr>\n",
              "    <tr>\n",
              "      <th>3215</th>\n",
              "      <td>1499</td>\n",
              "      <td>12.0</td>\n",
              "      <td>492.0</td>\n",
              "      <td>66.0</td>\n",
              "      <td>13.0</td>\n",
              "      <td>35</td>\n",
              "      <td>NaN</td>\n",
              "      <td>Пермь</td>\n",
              "      <td>Гектор</td>\n",
              "      <td>Корнилов</td>\n",
              "      <td>...</td>\n",
              "      <td>smart</td>\n",
              "      <td>9</td>\n",
              "      <td>50</td>\n",
              "      <td>15.0</td>\n",
              "      <td>500</td>\n",
              "      <td>550</td>\n",
              "      <td>200</td>\n",
              "      <td>3</td>\n",
              "      <td>3</td>\n",
              "      <td>48.0</td>\n",
              "    </tr>\n",
              "  </tbody>\n",
              "</table>\n",
              "<p>3216 rows × 21 columns</p>\n",
              "</div>"
            ],
            "text/plain": [
              "      user_id  month  calls_sum_month  msg_sum_month  gb_sum_month  age  \\\n",
              "0        1000    5.0            159.0           22.0           3.0   52   \n",
              "1        1000    6.0            172.0           60.0          23.0   52   \n",
              "2        1000    7.0            340.0           75.0          14.0   52   \n",
              "3        1000    8.0            408.0           81.0          14.0   52   \n",
              "4        1000    9.0            466.0           57.0          15.0   52   \n",
              "...       ...    ...              ...            ...           ...  ...   \n",
              "3211     1498   10.0            247.0           42.0          21.0   68   \n",
              "3212     1499    9.0             70.0           11.0           2.0   35   \n",
              "3213     1499   10.0            449.0           48.0          18.0   35   \n",
              "3214     1499   11.0            612.0           59.0          18.0   35   \n",
              "3215     1499   12.0            492.0           66.0          13.0   35   \n",
              "\n",
              "      churn_date         city first_name  last_name  ... tariff  \\\n",
              "0            NaN    Краснодар     Рафаил  Верещагин  ...  ultra   \n",
              "1            NaN    Краснодар     Рафаил  Верещагин  ...  ultra   \n",
              "2            NaN    Краснодар     Рафаил  Верещагин  ...  ultra   \n",
              "3            NaN    Краснодар     Рафаил  Верещагин  ...  ultra   \n",
              "4            NaN    Краснодар     Рафаил  Верещагин  ...  ultra   \n",
              "...          ...          ...        ...        ...  ...    ...   \n",
              "3211  2018-10-25  Владикавказ   Всеволод    Акимчин  ...  smart   \n",
              "3212         NaN        Пермь     Гектор   Корнилов  ...  smart   \n",
              "3213         NaN        Пермь     Гектор   Корнилов  ...  smart   \n",
              "3214         NaN        Пермь     Гектор   Корнилов  ...  smart   \n",
              "3215         NaN        Пермь     Гектор   Корнилов  ...  smart   \n",
              "\n",
              "     reg_date_month  messages_included  gb_per_month_included  \\\n",
              "0                 5               1000                   30.0   \n",
              "1                 5               1000                   30.0   \n",
              "2                 5               1000                   30.0   \n",
              "3                 5               1000                   30.0   \n",
              "4                 5               1000                   30.0   \n",
              "...             ...                ...                    ...   \n",
              "3211              7                 50                   15.0   \n",
              "3212              9                 50                   15.0   \n",
              "3213              9                 50                   15.0   \n",
              "3214              9                 50                   15.0   \n",
              "3215              9                 50                   15.0   \n",
              "\n",
              "      minutes_included  rub_monthly_fee  rub_per_gb  rub_per_message  \\\n",
              "0                 3000             1950         150                1   \n",
              "1                 3000             1950         150                1   \n",
              "2                 3000             1950         150                1   \n",
              "3                 3000             1950         150                1   \n",
              "4                 3000             1950         150                1   \n",
              "...                ...              ...         ...              ...   \n",
              "3211               500              550         200                3   \n",
              "3212               500              550         200                3   \n",
              "3213               500              550         200                3   \n",
              "3214               500              550         200                3   \n",
              "3215               500              550         200                3   \n",
              "\n",
              "      rub_per_minute  above_tariff_rub  \n",
              "0                  1               0.0  \n",
              "1                  1               0.0  \n",
              "2                  1               0.0  \n",
              "3                  1               0.0  \n",
              "4                  1               0.0  \n",
              "...              ...               ...  \n",
              "3211               3            1200.0  \n",
              "3212               3               0.0  \n",
              "3213               3             600.0  \n",
              "3214               3             963.0  \n",
              "3215               3              48.0  \n",
              "\n",
              "[3216 rows x 21 columns]"
            ]
          },
          "metadata": {},
          "output_type": "display_data"
        }
      ],
      "source": [
        "display(summary)"
      ]
    },
    {
      "cell_type": "markdown",
      "metadata": {
        "id": "3wWGrc2zT29i"
      },
      "source": [
        "Теперь для подсчета выручки для каждого клиента прибавлю к сумме, оплаченной сверх тарифа, саму сумму абонентской платы в месяц."
      ]
    },
    {
      "cell_type": "code",
      "execution_count": null,
      "metadata": {
        "id": "9kH24xTDT29i"
      },
      "outputs": [],
      "source": [
        "summary['paid'] = summary['above_tariff_rub'] + summary['rub_monthly_fee']"
      ]
    },
    {
      "cell_type": "code",
      "execution_count": null,
      "metadata": {
        "id": "XlMs0WcRT29i"
      },
      "outputs": [],
      "source": [
        "pd.set_option('display.max_columns', 100)"
      ]
    },
    {
      "cell_type": "code",
      "execution_count": null,
      "metadata": {
        "id": "y8l5_vT-T29i",
        "outputId": "2fdd0a0a-72d3-426e-ac40-c37f8c29d0d0"
      },
      "outputs": [
        {
          "data": {
            "text/html": [
              "<div>\n",
              "<style scoped>\n",
              "    .dataframe tbody tr th:only-of-type {\n",
              "        vertical-align: middle;\n",
              "    }\n",
              "\n",
              "    .dataframe tbody tr th {\n",
              "        vertical-align: top;\n",
              "    }\n",
              "\n",
              "    .dataframe thead th {\n",
              "        text-align: right;\n",
              "    }\n",
              "</style>\n",
              "<table border=\"1\" class=\"dataframe\">\n",
              "  <thead>\n",
              "    <tr style=\"text-align: right;\">\n",
              "      <th></th>\n",
              "      <th>user_id</th>\n",
              "      <th>month</th>\n",
              "      <th>calls_sum_month</th>\n",
              "      <th>msg_sum_month</th>\n",
              "      <th>gb_sum_month</th>\n",
              "      <th>age</th>\n",
              "      <th>churn_date</th>\n",
              "      <th>city</th>\n",
              "      <th>first_name</th>\n",
              "      <th>last_name</th>\n",
              "      <th>reg_date</th>\n",
              "      <th>tariff</th>\n",
              "      <th>reg_date_month</th>\n",
              "      <th>messages_included</th>\n",
              "      <th>gb_per_month_included</th>\n",
              "      <th>minutes_included</th>\n",
              "      <th>rub_monthly_fee</th>\n",
              "      <th>rub_per_gb</th>\n",
              "      <th>rub_per_message</th>\n",
              "      <th>rub_per_minute</th>\n",
              "      <th>above_tariff_rub</th>\n",
              "      <th>paid</th>\n",
              "    </tr>\n",
              "  </thead>\n",
              "  <tbody>\n",
              "    <tr>\n",
              "      <th>0</th>\n",
              "      <td>1000</td>\n",
              "      <td>5.0</td>\n",
              "      <td>159.0</td>\n",
              "      <td>22.0</td>\n",
              "      <td>3.0</td>\n",
              "      <td>52</td>\n",
              "      <td>NaN</td>\n",
              "      <td>Краснодар</td>\n",
              "      <td>Рафаил</td>\n",
              "      <td>Верещагин</td>\n",
              "      <td>2018-05-25</td>\n",
              "      <td>ultra</td>\n",
              "      <td>5</td>\n",
              "      <td>1000</td>\n",
              "      <td>30.0</td>\n",
              "      <td>3000</td>\n",
              "      <td>1950</td>\n",
              "      <td>150</td>\n",
              "      <td>1</td>\n",
              "      <td>1</td>\n",
              "      <td>0.0</td>\n",
              "      <td>1950.0</td>\n",
              "    </tr>\n",
              "    <tr>\n",
              "      <th>1</th>\n",
              "      <td>1000</td>\n",
              "      <td>6.0</td>\n",
              "      <td>172.0</td>\n",
              "      <td>60.0</td>\n",
              "      <td>23.0</td>\n",
              "      <td>52</td>\n",
              "      <td>NaN</td>\n",
              "      <td>Краснодар</td>\n",
              "      <td>Рафаил</td>\n",
              "      <td>Верещагин</td>\n",
              "      <td>2018-05-25</td>\n",
              "      <td>ultra</td>\n",
              "      <td>5</td>\n",
              "      <td>1000</td>\n",
              "      <td>30.0</td>\n",
              "      <td>3000</td>\n",
              "      <td>1950</td>\n",
              "      <td>150</td>\n",
              "      <td>1</td>\n",
              "      <td>1</td>\n",
              "      <td>0.0</td>\n",
              "      <td>1950.0</td>\n",
              "    </tr>\n",
              "    <tr>\n",
              "      <th>2</th>\n",
              "      <td>1000</td>\n",
              "      <td>7.0</td>\n",
              "      <td>340.0</td>\n",
              "      <td>75.0</td>\n",
              "      <td>14.0</td>\n",
              "      <td>52</td>\n",
              "      <td>NaN</td>\n",
              "      <td>Краснодар</td>\n",
              "      <td>Рафаил</td>\n",
              "      <td>Верещагин</td>\n",
              "      <td>2018-05-25</td>\n",
              "      <td>ultra</td>\n",
              "      <td>5</td>\n",
              "      <td>1000</td>\n",
              "      <td>30.0</td>\n",
              "      <td>3000</td>\n",
              "      <td>1950</td>\n",
              "      <td>150</td>\n",
              "      <td>1</td>\n",
              "      <td>1</td>\n",
              "      <td>0.0</td>\n",
              "      <td>1950.0</td>\n",
              "    </tr>\n",
              "    <tr>\n",
              "      <th>3</th>\n",
              "      <td>1000</td>\n",
              "      <td>8.0</td>\n",
              "      <td>408.0</td>\n",
              "      <td>81.0</td>\n",
              "      <td>14.0</td>\n",
              "      <td>52</td>\n",
              "      <td>NaN</td>\n",
              "      <td>Краснодар</td>\n",
              "      <td>Рафаил</td>\n",
              "      <td>Верещагин</td>\n",
              "      <td>2018-05-25</td>\n",
              "      <td>ultra</td>\n",
              "      <td>5</td>\n",
              "      <td>1000</td>\n",
              "      <td>30.0</td>\n",
              "      <td>3000</td>\n",
              "      <td>1950</td>\n",
              "      <td>150</td>\n",
              "      <td>1</td>\n",
              "      <td>1</td>\n",
              "      <td>0.0</td>\n",
              "      <td>1950.0</td>\n",
              "    </tr>\n",
              "    <tr>\n",
              "      <th>4</th>\n",
              "      <td>1000</td>\n",
              "      <td>9.0</td>\n",
              "      <td>466.0</td>\n",
              "      <td>57.0</td>\n",
              "      <td>15.0</td>\n",
              "      <td>52</td>\n",
              "      <td>NaN</td>\n",
              "      <td>Краснодар</td>\n",
              "      <td>Рафаил</td>\n",
              "      <td>Верещагин</td>\n",
              "      <td>2018-05-25</td>\n",
              "      <td>ultra</td>\n",
              "      <td>5</td>\n",
              "      <td>1000</td>\n",
              "      <td>30.0</td>\n",
              "      <td>3000</td>\n",
              "      <td>1950</td>\n",
              "      <td>150</td>\n",
              "      <td>1</td>\n",
              "      <td>1</td>\n",
              "      <td>0.0</td>\n",
              "      <td>1950.0</td>\n",
              "    </tr>\n",
              "    <tr>\n",
              "      <th>...</th>\n",
              "      <td>...</td>\n",
              "      <td>...</td>\n",
              "      <td>...</td>\n",
              "      <td>...</td>\n",
              "      <td>...</td>\n",
              "      <td>...</td>\n",
              "      <td>...</td>\n",
              "      <td>...</td>\n",
              "      <td>...</td>\n",
              "      <td>...</td>\n",
              "      <td>...</td>\n",
              "      <td>...</td>\n",
              "      <td>...</td>\n",
              "      <td>...</td>\n",
              "      <td>...</td>\n",
              "      <td>...</td>\n",
              "      <td>...</td>\n",
              "      <td>...</td>\n",
              "      <td>...</td>\n",
              "      <td>...</td>\n",
              "      <td>...</td>\n",
              "      <td>...</td>\n",
              "    </tr>\n",
              "    <tr>\n",
              "      <th>3211</th>\n",
              "      <td>1498</td>\n",
              "      <td>10.0</td>\n",
              "      <td>247.0</td>\n",
              "      <td>42.0</td>\n",
              "      <td>21.0</td>\n",
              "      <td>68</td>\n",
              "      <td>2018-10-25</td>\n",
              "      <td>Владикавказ</td>\n",
              "      <td>Всеволод</td>\n",
              "      <td>Акимчин</td>\n",
              "      <td>2018-07-19</td>\n",
              "      <td>smart</td>\n",
              "      <td>7</td>\n",
              "      <td>50</td>\n",
              "      <td>15.0</td>\n",
              "      <td>500</td>\n",
              "      <td>550</td>\n",
              "      <td>200</td>\n",
              "      <td>3</td>\n",
              "      <td>3</td>\n",
              "      <td>1200.0</td>\n",
              "      <td>1750.0</td>\n",
              "    </tr>\n",
              "    <tr>\n",
              "      <th>3212</th>\n",
              "      <td>1499</td>\n",
              "      <td>9.0</td>\n",
              "      <td>70.0</td>\n",
              "      <td>11.0</td>\n",
              "      <td>2.0</td>\n",
              "      <td>35</td>\n",
              "      <td>NaN</td>\n",
              "      <td>Пермь</td>\n",
              "      <td>Гектор</td>\n",
              "      <td>Корнилов</td>\n",
              "      <td>2018-09-27</td>\n",
              "      <td>smart</td>\n",
              "      <td>9</td>\n",
              "      <td>50</td>\n",
              "      <td>15.0</td>\n",
              "      <td>500</td>\n",
              "      <td>550</td>\n",
              "      <td>200</td>\n",
              "      <td>3</td>\n",
              "      <td>3</td>\n",
              "      <td>0.0</td>\n",
              "      <td>550.0</td>\n",
              "    </tr>\n",
              "    <tr>\n",
              "      <th>3213</th>\n",
              "      <td>1499</td>\n",
              "      <td>10.0</td>\n",
              "      <td>449.0</td>\n",
              "      <td>48.0</td>\n",
              "      <td>18.0</td>\n",
              "      <td>35</td>\n",
              "      <td>NaN</td>\n",
              "      <td>Пермь</td>\n",
              "      <td>Гектор</td>\n",
              "      <td>Корнилов</td>\n",
              "      <td>2018-09-27</td>\n",
              "      <td>smart</td>\n",
              "      <td>9</td>\n",
              "      <td>50</td>\n",
              "      <td>15.0</td>\n",
              "      <td>500</td>\n",
              "      <td>550</td>\n",
              "      <td>200</td>\n",
              "      <td>3</td>\n",
              "      <td>3</td>\n",
              "      <td>600.0</td>\n",
              "      <td>1150.0</td>\n",
              "    </tr>\n",
              "    <tr>\n",
              "      <th>3214</th>\n",
              "      <td>1499</td>\n",
              "      <td>11.0</td>\n",
              "      <td>612.0</td>\n",
              "      <td>59.0</td>\n",
              "      <td>18.0</td>\n",
              "      <td>35</td>\n",
              "      <td>NaN</td>\n",
              "      <td>Пермь</td>\n",
              "      <td>Гектор</td>\n",
              "      <td>Корнилов</td>\n",
              "      <td>2018-09-27</td>\n",
              "      <td>smart</td>\n",
              "      <td>9</td>\n",
              "      <td>50</td>\n",
              "      <td>15.0</td>\n",
              "      <td>500</td>\n",
              "      <td>550</td>\n",
              "      <td>200</td>\n",
              "      <td>3</td>\n",
              "      <td>3</td>\n",
              "      <td>963.0</td>\n",
              "      <td>1513.0</td>\n",
              "    </tr>\n",
              "    <tr>\n",
              "      <th>3215</th>\n",
              "      <td>1499</td>\n",
              "      <td>12.0</td>\n",
              "      <td>492.0</td>\n",
              "      <td>66.0</td>\n",
              "      <td>13.0</td>\n",
              "      <td>35</td>\n",
              "      <td>NaN</td>\n",
              "      <td>Пермь</td>\n",
              "      <td>Гектор</td>\n",
              "      <td>Корнилов</td>\n",
              "      <td>2018-09-27</td>\n",
              "      <td>smart</td>\n",
              "      <td>9</td>\n",
              "      <td>50</td>\n",
              "      <td>15.0</td>\n",
              "      <td>500</td>\n",
              "      <td>550</td>\n",
              "      <td>200</td>\n",
              "      <td>3</td>\n",
              "      <td>3</td>\n",
              "      <td>48.0</td>\n",
              "      <td>598.0</td>\n",
              "    </tr>\n",
              "  </tbody>\n",
              "</table>\n",
              "<p>3216 rows × 22 columns</p>\n",
              "</div>"
            ],
            "text/plain": [
              "      user_id  month  calls_sum_month  msg_sum_month  gb_sum_month  age  \\\n",
              "0        1000    5.0            159.0           22.0           3.0   52   \n",
              "1        1000    6.0            172.0           60.0          23.0   52   \n",
              "2        1000    7.0            340.0           75.0          14.0   52   \n",
              "3        1000    8.0            408.0           81.0          14.0   52   \n",
              "4        1000    9.0            466.0           57.0          15.0   52   \n",
              "...       ...    ...              ...            ...           ...  ...   \n",
              "3211     1498   10.0            247.0           42.0          21.0   68   \n",
              "3212     1499    9.0             70.0           11.0           2.0   35   \n",
              "3213     1499   10.0            449.0           48.0          18.0   35   \n",
              "3214     1499   11.0            612.0           59.0          18.0   35   \n",
              "3215     1499   12.0            492.0           66.0          13.0   35   \n",
              "\n",
              "      churn_date         city first_name  last_name   reg_date tariff  \\\n",
              "0            NaN    Краснодар     Рафаил  Верещагин 2018-05-25  ultra   \n",
              "1            NaN    Краснодар     Рафаил  Верещагин 2018-05-25  ultra   \n",
              "2            NaN    Краснодар     Рафаил  Верещагин 2018-05-25  ultra   \n",
              "3            NaN    Краснодар     Рафаил  Верещагин 2018-05-25  ultra   \n",
              "4            NaN    Краснодар     Рафаил  Верещагин 2018-05-25  ultra   \n",
              "...          ...          ...        ...        ...        ...    ...   \n",
              "3211  2018-10-25  Владикавказ   Всеволод    Акимчин 2018-07-19  smart   \n",
              "3212         NaN        Пермь     Гектор   Корнилов 2018-09-27  smart   \n",
              "3213         NaN        Пермь     Гектор   Корнилов 2018-09-27  smart   \n",
              "3214         NaN        Пермь     Гектор   Корнилов 2018-09-27  smart   \n",
              "3215         NaN        Пермь     Гектор   Корнилов 2018-09-27  smart   \n",
              "\n",
              "      reg_date_month  messages_included  gb_per_month_included  \\\n",
              "0                  5               1000                   30.0   \n",
              "1                  5               1000                   30.0   \n",
              "2                  5               1000                   30.0   \n",
              "3                  5               1000                   30.0   \n",
              "4                  5               1000                   30.0   \n",
              "...              ...                ...                    ...   \n",
              "3211               7                 50                   15.0   \n",
              "3212               9                 50                   15.0   \n",
              "3213               9                 50                   15.0   \n",
              "3214               9                 50                   15.0   \n",
              "3215               9                 50                   15.0   \n",
              "\n",
              "      minutes_included  rub_monthly_fee  rub_per_gb  rub_per_message  \\\n",
              "0                 3000             1950         150                1   \n",
              "1                 3000             1950         150                1   \n",
              "2                 3000             1950         150                1   \n",
              "3                 3000             1950         150                1   \n",
              "4                 3000             1950         150                1   \n",
              "...                ...              ...         ...              ...   \n",
              "3211               500              550         200                3   \n",
              "3212               500              550         200                3   \n",
              "3213               500              550         200                3   \n",
              "3214               500              550         200                3   \n",
              "3215               500              550         200                3   \n",
              "\n",
              "      rub_per_minute  above_tariff_rub    paid  \n",
              "0                  1               0.0  1950.0  \n",
              "1                  1               0.0  1950.0  \n",
              "2                  1               0.0  1950.0  \n",
              "3                  1               0.0  1950.0  \n",
              "4                  1               0.0  1950.0  \n",
              "...              ...               ...     ...  \n",
              "3211               3            1200.0  1750.0  \n",
              "3212               3               0.0   550.0  \n",
              "3213               3             600.0  1150.0  \n",
              "3214               3             963.0  1513.0  \n",
              "3215               3              48.0   598.0  \n",
              "\n",
              "[3216 rows x 22 columns]"
            ]
          },
          "metadata": {},
          "output_type": "display_data"
        }
      ],
      "source": [
        "display(summary)"
      ]
    },
    {
      "cell_type": "markdown",
      "metadata": {
        "id": "kDEd-SyRT29j"
      },
      "source": [
        "Таким образом мы получили данные о выручке по каждому пользователю за месяц."
      ]
    },
    {
      "cell_type": "markdown",
      "metadata": {
        "id": "Ub_zCtbAT29j"
      },
      "source": [
        "### Анализ данных"
      ]
    },
    {
      "cell_type": "markdown",
      "metadata": {
        "id": "rsMxWsP5T29j"
      },
      "source": [
        "Для анализа поведения абонентов, посчитаю среднее количество, дисперсию и стандартное отклонение по каждому тарифу"
      ]
    },
    {
      "cell_type": "markdown",
      "metadata": {
        "id": "F1MmOD9fT29j"
      },
      "source": [
        "Сначал создам 2 среза по тарифу"
      ]
    },
    {
      "cell_type": "code",
      "execution_count": null,
      "metadata": {
        "id": "fDCFat2ZT29j"
      },
      "outputs": [],
      "source": [
        "ultra = summary.query('tariff == \"ultra\"')"
      ]
    },
    {
      "cell_type": "code",
      "execution_count": null,
      "metadata": {
        "id": "JeaJiHUXT29j"
      },
      "outputs": [],
      "source": [
        "smart = summary.query('tariff == \"smart\"')"
      ]
    },
    {
      "cell_type": "markdown",
      "metadata": {
        "id": "BAHMmDexT29k"
      },
      "source": [
        "Далее  перейду к показателям датафреймов"
      ]
    },
    {
      "cell_type": "code",
      "execution_count": null,
      "metadata": {
        "id": "fbNuCe15T29k",
        "outputId": "96eecfd7-67d9-4605-a836-2da093d00bd4"
      },
      "outputs": [
        {
          "data": {
            "text/html": [
              "<div>\n",
              "<style scoped>\n",
              "    .dataframe tbody tr th:only-of-type {\n",
              "        vertical-align: middle;\n",
              "    }\n",
              "\n",
              "    .dataframe tbody tr th {\n",
              "        vertical-align: top;\n",
              "    }\n",
              "\n",
              "    .dataframe thead th {\n",
              "        text-align: right;\n",
              "    }\n",
              "</style>\n",
              "<table border=\"1\" class=\"dataframe\">\n",
              "  <thead>\n",
              "    <tr style=\"text-align: right;\">\n",
              "      <th></th>\n",
              "      <th>calls_sum_month</th>\n",
              "      <th>msg_sum_month</th>\n",
              "      <th>gb_sum_month</th>\n",
              "    </tr>\n",
              "  </thead>\n",
              "  <tbody>\n",
              "    <tr>\n",
              "      <th>count</th>\n",
              "      <td>2230.000000</td>\n",
              "      <td>2230.000000</td>\n",
              "      <td>2230.000000</td>\n",
              "    </tr>\n",
              "    <tr>\n",
              "      <th>mean</th>\n",
              "      <td>417.747534</td>\n",
              "      <td>33.369058</td>\n",
              "      <td>16.321525</td>\n",
              "    </tr>\n",
              "    <tr>\n",
              "      <th>std</th>\n",
              "      <td>190.476754</td>\n",
              "      <td>28.230396</td>\n",
              "      <td>5.756167</td>\n",
              "    </tr>\n",
              "    <tr>\n",
              "      <th>min</th>\n",
              "      <td>0.000000</td>\n",
              "      <td>0.000000</td>\n",
              "      <td>0.000000</td>\n",
              "    </tr>\n",
              "    <tr>\n",
              "      <th>25%</th>\n",
              "      <td>282.000000</td>\n",
              "      <td>10.000000</td>\n",
              "      <td>13.000000</td>\n",
              "    </tr>\n",
              "    <tr>\n",
              "      <th>50%</th>\n",
              "      <td>421.500000</td>\n",
              "      <td>28.000000</td>\n",
              "      <td>17.000000</td>\n",
              "    </tr>\n",
              "    <tr>\n",
              "      <th>75%</th>\n",
              "      <td>545.000000</td>\n",
              "      <td>51.000000</td>\n",
              "      <td>20.000000</td>\n",
              "    </tr>\n",
              "    <tr>\n",
              "      <th>max</th>\n",
              "      <td>1435.000000</td>\n",
              "      <td>143.000000</td>\n",
              "      <td>38.000000</td>\n",
              "    </tr>\n",
              "  </tbody>\n",
              "</table>\n",
              "</div>"
            ],
            "text/plain": [
              "       calls_sum_month  msg_sum_month  gb_sum_month\n",
              "count      2230.000000    2230.000000   2230.000000\n",
              "mean        417.747534      33.369058     16.321525\n",
              "std         190.476754      28.230396      5.756167\n",
              "min           0.000000       0.000000      0.000000\n",
              "25%         282.000000      10.000000     13.000000\n",
              "50%         421.500000      28.000000     17.000000\n",
              "75%         545.000000      51.000000     20.000000\n",
              "max        1435.000000     143.000000     38.000000"
            ]
          },
          "execution_count": 33,
          "metadata": {},
          "output_type": "execute_result"
        }
      ],
      "source": [
        "smart[['calls_sum_month', 'msg_sum_month', 'gb_sum_month']].describe()"
      ]
    },
    {
      "cell_type": "code",
      "execution_count": null,
      "metadata": {
        "id": "c0eHEj1gT29k",
        "outputId": "6f4e305d-1cb3-4c1b-9a89-ecd6c36d6bb8"
      },
      "outputs": [
        {
          "data": {
            "text/html": [
              "<div>\n",
              "<style scoped>\n",
              "    .dataframe tbody tr th:only-of-type {\n",
              "        vertical-align: middle;\n",
              "    }\n",
              "\n",
              "    .dataframe tbody tr th {\n",
              "        vertical-align: top;\n",
              "    }\n",
              "\n",
              "    .dataframe thead th {\n",
              "        text-align: right;\n",
              "    }\n",
              "</style>\n",
              "<table border=\"1\" class=\"dataframe\">\n",
              "  <thead>\n",
              "    <tr style=\"text-align: right;\">\n",
              "      <th></th>\n",
              "      <th>calls_sum_month</th>\n",
              "      <th>msg_sum_month</th>\n",
              "      <th>gb_sum_month</th>\n",
              "    </tr>\n",
              "  </thead>\n",
              "  <tbody>\n",
              "    <tr>\n",
              "      <th>count</th>\n",
              "      <td>986.000000</td>\n",
              "      <td>986.000000</td>\n",
              "      <td>986.000000</td>\n",
              "    </tr>\n",
              "    <tr>\n",
              "      <th>mean</th>\n",
              "      <td>526.089249</td>\n",
              "      <td>49.313387</td>\n",
              "      <td>19.474645</td>\n",
              "    </tr>\n",
              "    <tr>\n",
              "      <th>std</th>\n",
              "      <td>317.887549</td>\n",
              "      <td>47.806040</td>\n",
              "      <td>9.868057</td>\n",
              "    </tr>\n",
              "    <tr>\n",
              "      <th>min</th>\n",
              "      <td>0.000000</td>\n",
              "      <td>0.000000</td>\n",
              "      <td>0.000000</td>\n",
              "    </tr>\n",
              "    <tr>\n",
              "      <th>25%</th>\n",
              "      <td>282.500000</td>\n",
              "      <td>6.000000</td>\n",
              "      <td>12.000000</td>\n",
              "    </tr>\n",
              "    <tr>\n",
              "      <th>50%</th>\n",
              "      <td>518.000000</td>\n",
              "      <td>38.000000</td>\n",
              "      <td>19.000000</td>\n",
              "    </tr>\n",
              "    <tr>\n",
              "      <th>75%</th>\n",
              "      <td>751.750000</td>\n",
              "      <td>78.750000</td>\n",
              "      <td>27.000000</td>\n",
              "    </tr>\n",
              "    <tr>\n",
              "      <th>max</th>\n",
              "      <td>1673.000000</td>\n",
              "      <td>224.000000</td>\n",
              "      <td>49.000000</td>\n",
              "    </tr>\n",
              "  </tbody>\n",
              "</table>\n",
              "</div>"
            ],
            "text/plain": [
              "       calls_sum_month  msg_sum_month  gb_sum_month\n",
              "count       986.000000     986.000000    986.000000\n",
              "mean        526.089249      49.313387     19.474645\n",
              "std         317.887549      47.806040      9.868057\n",
              "min           0.000000       0.000000      0.000000\n",
              "25%         282.500000       6.000000     12.000000\n",
              "50%         518.000000      38.000000     19.000000\n",
              "75%         751.750000      78.750000     27.000000\n",
              "max        1673.000000     224.000000     49.000000"
            ]
          },
          "execution_count": 34,
          "metadata": {},
          "output_type": "execute_result"
        }
      ],
      "source": [
        "ultra[['calls_sum_month', 'msg_sum_month', 'gb_sum_month']].describe()"
      ]
    },
    {
      "cell_type": "code",
      "execution_count": null,
      "metadata": {
        "id": "isUlttreT29k",
        "outputId": "5d92219d-c760-4546-fa03-3f42ca8df367"
      },
      "outputs": [
        {
          "data": {
            "text/plain": [
              "calls_sum_month     36281.393836\n",
              "msg_sum_month         796.955256\n",
              "gb_sum_month           33.133453\n",
              "paid               669730.763895\n",
              "dtype: float64"
            ]
          },
          "execution_count": 35,
          "metadata": {},
          "output_type": "execute_result"
        }
      ],
      "source": [
        "np.var(smart[['calls_sum_month', 'msg_sum_month', 'gb_sum_month', 'paid']], ddof=1)"
      ]
    },
    {
      "cell_type": "code",
      "execution_count": null,
      "metadata": {
        "id": "bYD6QqwyT29k",
        "outputId": "907f0dd7-965c-4c8d-c7ef-c4616a8a7692"
      },
      "outputs": [
        {
          "data": {
            "text/plain": [
              "calls_sum_month    101052.493549\n",
              "msg_sum_month        2285.417425\n",
              "gb_sum_month           97.378544\n",
              "paid               141387.714809\n",
              "dtype: float64"
            ]
          },
          "execution_count": 36,
          "metadata": {},
          "output_type": "execute_result"
        }
      ],
      "source": [
        "np.var(ultra[['calls_sum_month', 'msg_sum_month', 'gb_sum_month', 'paid']], ddof=1)"
      ]
    },
    {
      "cell_type": "markdown",
      "metadata": {
        "id": "yhZm6FRGT29k"
      },
      "source": [
        "Пропусков в столбце с количеством сообщений больше всего, логично, что многие не так активно пользуются смсками. В среднем потребление клиентов на тарифе ultra выше, чем на smart. По числам мы видим, что значения по всем видам потребления распределены равномерно, это касается и показателей стандратного отклонения и значений экстремумов, но более наглядно мы увидим на гистограммах далее.\n",
        "Но сначала посмотрю на показатели тарифов по выручке."
      ]
    },
    {
      "cell_type": "code",
      "execution_count": null,
      "metadata": {
        "id": "-FtLDhmcT29l",
        "outputId": "39a352bc-b68a-4b75-bf3e-d5f92499bd77"
      },
      "outputs": [
        {
          "data": {
            "text/html": [
              "<div>\n",
              "<style scoped>\n",
              "    .dataframe tbody tr th:only-of-type {\n",
              "        vertical-align: middle;\n",
              "    }\n",
              "\n",
              "    .dataframe tbody tr th {\n",
              "        vertical-align: top;\n",
              "    }\n",
              "\n",
              "    .dataframe thead th {\n",
              "        text-align: right;\n",
              "    }\n",
              "</style>\n",
              "<table border=\"1\" class=\"dataframe\">\n",
              "  <thead>\n",
              "    <tr style=\"text-align: right;\">\n",
              "      <th></th>\n",
              "      <th>paid</th>\n",
              "    </tr>\n",
              "  </thead>\n",
              "  <tbody>\n",
              "    <tr>\n",
              "      <th>count</th>\n",
              "      <td>2230.000000</td>\n",
              "    </tr>\n",
              "    <tr>\n",
              "      <th>mean</th>\n",
              "      <td>1289.641704</td>\n",
              "    </tr>\n",
              "    <tr>\n",
              "      <th>std</th>\n",
              "      <td>818.370799</td>\n",
              "    </tr>\n",
              "    <tr>\n",
              "      <th>min</th>\n",
              "      <td>550.000000</td>\n",
              "    </tr>\n",
              "    <tr>\n",
              "      <th>25%</th>\n",
              "      <td>550.000000</td>\n",
              "    </tr>\n",
              "    <tr>\n",
              "      <th>50%</th>\n",
              "      <td>1021.000000</td>\n",
              "    </tr>\n",
              "    <tr>\n",
              "      <th>75%</th>\n",
              "      <td>1750.000000</td>\n",
              "    </tr>\n",
              "    <tr>\n",
              "      <th>max</th>\n",
              "      <td>6770.000000</td>\n",
              "    </tr>\n",
              "  </tbody>\n",
              "</table>\n",
              "</div>"
            ],
            "text/plain": [
              "              paid\n",
              "count  2230.000000\n",
              "mean   1289.641704\n",
              "std     818.370799\n",
              "min     550.000000\n",
              "25%     550.000000\n",
              "50%    1021.000000\n",
              "75%    1750.000000\n",
              "max    6770.000000"
            ]
          },
          "execution_count": 37,
          "metadata": {},
          "output_type": "execute_result"
        }
      ],
      "source": [
        "smart[['paid']].describe()"
      ]
    },
    {
      "cell_type": "code",
      "execution_count": null,
      "metadata": {
        "id": "2Y7wG4-sT29l",
        "outputId": "53a73b10-4f81-4ad4-cf84-878f81414331"
      },
      "outputs": [
        {
          "data": {
            "text/html": [
              "<div>\n",
              "<style scoped>\n",
              "    .dataframe tbody tr th:only-of-type {\n",
              "        vertical-align: middle;\n",
              "    }\n",
              "\n",
              "    .dataframe tbody tr th {\n",
              "        vertical-align: top;\n",
              "    }\n",
              "\n",
              "    .dataframe thead th {\n",
              "        text-align: right;\n",
              "    }\n",
              "</style>\n",
              "<table border=\"1\" class=\"dataframe\">\n",
              "  <thead>\n",
              "    <tr style=\"text-align: right;\">\n",
              "      <th></th>\n",
              "      <th>paid</th>\n",
              "    </tr>\n",
              "  </thead>\n",
              "  <tbody>\n",
              "    <tr>\n",
              "      <th>count</th>\n",
              "      <td>986.000000</td>\n",
              "    </tr>\n",
              "    <tr>\n",
              "      <th>mean</th>\n",
              "      <td>2070.030426</td>\n",
              "    </tr>\n",
              "    <tr>\n",
              "      <th>std</th>\n",
              "      <td>376.015578</td>\n",
              "    </tr>\n",
              "    <tr>\n",
              "      <th>min</th>\n",
              "      <td>1950.000000</td>\n",
              "    </tr>\n",
              "    <tr>\n",
              "      <th>25%</th>\n",
              "      <td>1950.000000</td>\n",
              "    </tr>\n",
              "    <tr>\n",
              "      <th>50%</th>\n",
              "      <td>1950.000000</td>\n",
              "    </tr>\n",
              "    <tr>\n",
              "      <th>75%</th>\n",
              "      <td>1950.000000</td>\n",
              "    </tr>\n",
              "    <tr>\n",
              "      <th>max</th>\n",
              "      <td>4800.000000</td>\n",
              "    </tr>\n",
              "  </tbody>\n",
              "</table>\n",
              "</div>"
            ],
            "text/plain": [
              "              paid\n",
              "count   986.000000\n",
              "mean   2070.030426\n",
              "std     376.015578\n",
              "min    1950.000000\n",
              "25%    1950.000000\n",
              "50%    1950.000000\n",
              "75%    1950.000000\n",
              "max    4800.000000"
            ]
          },
          "execution_count": 38,
          "metadata": {},
          "output_type": "execute_result"
        }
      ],
      "source": [
        "ultra[['paid']].describe()"
      ]
    },
    {
      "cell_type": "markdown",
      "metadata": {
        "id": "VjYn02RqT29l"
      },
      "source": [
        "Средняя выручка значительно выше на тарифе ultra, медианное значение тоже. Но отметим, что в выборке клиентов на тарифе ultra меньше."
      ]
    },
    {
      "cell_type": "code",
      "execution_count": null,
      "metadata": {
        "scrolled": true,
        "id": "5zVvl-QzT29o",
        "outputId": "fed8424f-c5ec-423b-d1de-1659e5a63f2f"
      },
      "outputs": [
        {
          "data": {
            "text/plain": [
              "Text(0.5, 1.0, 'Ultra:минуты в месяц')"
            ]
          },
          "execution_count": 39,
          "metadata": {},
          "output_type": "execute_result"
        },
        {
          "data": {
            "image/png": "[encoded data removed]",
            "text/plain": [
              "<Figure size 432x288 with 1 Axes>"
            ]
          },
          "metadata": {
            "needs_background": "light"
          },
          "output_type": "display_data"
        }
      ],
      "source": [
        "ultra['calls_sum_month'].hist(bins=30,facecolor='g', range=(1,2000), legend=1)\n",
        "plt.title('Ultra:минуты в месяц', fontsize=25)"
      ]
    },
    {
      "cell_type": "code",
      "execution_count": null,
      "metadata": {
        "id": "FdvRsqmpT29p",
        "outputId": "265443b5-4645-47c9-a093-1447a064292b"
      },
      "outputs": [
        {
          "data": {
            "text/plain": [
              "Text(0.5, 1.0, 'Smart:минуты в месяц')"
            ]
          },
          "execution_count": 40,
          "metadata": {},
          "output_type": "execute_result"
        },
        {
          "data": {
            "image/png": "[encoded data removed]",
            "text/plain": [
              "<Figure size 432x288 with 1 Axes>"
            ]
          },
          "metadata": {
            "needs_background": "light"
          },
          "output_type": "display_data"
        }
      ],
      "source": [
        "smart['calls_sum_month'].hist(bins=30,facecolor='g', range=(1,1500), legend=1)\n",
        "plt.title('Smart:минуты в месяц', fontsize=25)"
      ]
    },
    {
      "cell_type": "markdown",
      "metadata": {
        "id": "eoc4gv4CT29p"
      },
      "source": [
        "Мы видим, что на тарифе smart распределение нормальное, на тарифе ultra тоже не распределение Пуассона, но менее ярко выделен пик на среднем значении. Дополнительные минуты берут около 20% клиентов. На тарифе ultra никто из выборки не вышел за тарифный лимит в 3000 минут. "
      ]
    },
    {
      "cell_type": "code",
      "execution_count": null,
      "metadata": {
        "id": "KzXNjzQeT29p",
        "outputId": "c7afd5e3-6a12-49eb-e6d9-55f3448c4dc9"
      },
      "outputs": [
        {
          "data": {
            "text/plain": [
              "Text(0.5, 1.0, 'Ultra:смс в месяц')"
            ]
          },
          "execution_count": 41,
          "metadata": {},
          "output_type": "execute_result"
        },
        {
          "data": {
            "image/png": "[encoded data removed]",
            "text/plain": [
              "<Figure size 432x288 with 1 Axes>"
            ]
          },
          "metadata": {
            "needs_background": "light"
          },
          "output_type": "display_data"
        }
      ],
      "source": [
        "ultra['msg_sum_month'].hist(bins=30,facecolor='g', range=(0,300), legend=1)\n",
        "plt.title('Ultra:смс в месяц', fontsize=25)"
      ]
    },
    {
      "cell_type": "code",
      "execution_count": null,
      "metadata": {
        "id": "Uri5PMpPT29p",
        "outputId": "b77d802c-f943-481b-8ef6-c67cf1b782d2"
      },
      "outputs": [
        {
          "data": {
            "text/plain": [
              "Text(0.5, 1.0, 'Smart:смс в месяц')"
            ]
          },
          "execution_count": 42,
          "metadata": {},
          "output_type": "execute_result"
        },
        {
          "data": {
            "image/png": "[encoded data removed]",
            "text/plain": [
              "<Figure size 432x288 with 1 Axes>"
            ]
          },
          "metadata": {
            "needs_background": "light"
          },
          "output_type": "display_data"
        }
      ],
      "source": [
        "smart['msg_sum_month'].hist(bins=30,facecolor='g', range=(0,300), legend=1)\n",
        "plt.title('Smart:смс в месяц', fontsize=25)"
      ]
    },
    {
      "cell_type": "markdown",
      "metadata": {
        "id": "9-LFFTcQT29p"
      },
      "source": [
        "По смскам на графике видим распределение Пуассона, на тарифе ultra в среднем пишут больше смс."
      ]
    },
    {
      "cell_type": "code",
      "execution_count": null,
      "metadata": {
        "id": "xBt8srzQT29p",
        "outputId": "5fcee78e-defe-4905-99bd-1635893104d5"
      },
      "outputs": [
        {
          "data": {
            "text/plain": [
              "Text(0.5, 1.0, 'Ultra:гб в месяц')"
            ]
          },
          "execution_count": 43,
          "metadata": {},
          "output_type": "execute_result"
        },
        {
          "data": {
            "image/png": "[encoded data removed]",
            "text/plain": [
              "<Figure size 432x288 with 1 Axes>"
            ]
          },
          "metadata": {
            "needs_background": "light"
          },
          "output_type": "display_data"
        }
      ],
      "source": [
        "ultra['gb_sum_month'].hist(bins=20,facecolor='g', range=(0,50), legend=1)\n",
        "plt.title('Ultra:гб в месяц', fontsize=25)"
      ]
    },
    {
      "cell_type": "code",
      "execution_count": null,
      "metadata": {
        "id": "lgHvHsvjT29q",
        "outputId": "e433de12-d231-4454-a7cf-1b6e096db3e7"
      },
      "outputs": [
        {
          "data": {
            "text/plain": [
              "Text(0.5, 1.0, 'Smart:гб в месяц')"
            ]
          },
          "execution_count": 44,
          "metadata": {},
          "output_type": "execute_result"
        },
        {
          "data": {
            "image/png": "[encoded data removed]",
            "text/plain": [
              "<Figure size 432x288 with 1 Axes>"
            ]
          },
          "metadata": {
            "needs_background": "light"
          },
          "output_type": "display_data"
        }
      ],
      "source": [
        "smart['gb_sum_month'].hist(bins=20,facecolor='g', range=(0,50), legend=1)\n",
        "plt.title('Smart:гб в месяц', fontsize=25)"
      ]
    },
    {
      "cell_type": "markdown",
      "metadata": {
        "id": "6pdmOGdLT29q"
      },
      "source": [
        "На графиках количества гб видим нормальные распределения, можно отметить пиковое значение на тарифе smart, именно там лимит тарифа"
      ]
    },
    {
      "cell_type": "code",
      "execution_count": null,
      "metadata": {
        "id": "GTgCXsJBT29q",
        "outputId": "f5c710bb-857a-414b-855d-4b964d0f2736"
      },
      "outputs": [
        {
          "data": {
            "text/plain": [
              "Text(0.5, 1.0, 'Ultra:выручка в месяц')"
            ]
          },
          "execution_count": 45,
          "metadata": {},
          "output_type": "execute_result"
        },
        {
          "data": {
            "image/png": "[encoded data removed]",
            "text/plain": [
              "<Figure size 432x288 with 1 Axes>"
            ]
          },
          "metadata": {
            "needs_background": "light"
          },
          "output_type": "display_data"
        }
      ],
      "source": [
        "ultra['paid'].hist(bins=30,facecolor='g', range=(1950,7000), legend=1)\n",
        "plt.title('Ultra:выручка в месяц', fontsize=25)"
      ]
    },
    {
      "cell_type": "code",
      "execution_count": null,
      "metadata": {
        "id": "0nJfmQTbT29q",
        "outputId": "09728179-9aa2-4960-e1ca-798a210e1e96"
      },
      "outputs": [
        {
          "data": {
            "text/plain": [
              "Text(0.5, 1.0, 'Smart:выручка в месяц')"
            ]
          },
          "execution_count": 46,
          "metadata": {},
          "output_type": "execute_result"
        },
        {
          "data": {
            "image/png": "[encoded data removed]",
            "text/plain": [
              "<Figure size 432x288 with 1 Axes>"
            ]
          },
          "metadata": {
            "needs_background": "light"
          },
          "output_type": "display_data"
        }
      ],
      "source": [
        "smart['paid'].hist(bins=30,facecolor='g', range=(550,7000), legend=1)\n",
        "plt.title('Smart:выручка в месяц', fontsize=25)"
      ]
    },
    {
      "cell_type": "markdown",
      "metadata": {
        "id": "_ftFhMTFT29q"
      },
      "source": [
        "Мы видим что в основном выручка приходит из суммы абоненской платы, но если абонентам ultra в основном хватает лимитов, на тарифе smart клиенты чаще тратят больше денег сверх тарифа."
      ]
    },
    {
      "cell_type": "code",
      "execution_count": null,
      "metadata": {
        "id": "EiYulwuuT29q",
        "outputId": "8065e651-213e-4203-882d-447e80118b9e"
      },
      "outputs": [
        {
          "data": {
            "image/png": "[encoded data removed]",
            "text/plain": [
              "<Figure size 432x288 with 1 Axes>"
            ]
          },
          "metadata": {
            "needs_background": "light"
          },
          "output_type": "display_data"
        }
      ],
      "source": [
        "plt.style.use('seaborn-deep')\n",
        "\n",
        "x = ultra['paid']\n",
        "y = smart['paid']\n",
        "bins = 25\n",
        "\n",
        "plt.hist([x, y], bins, range=(550,7000), alpha=0.75, label=['Ultra:выручка в месяц', 'Smart:выручка в месяц'])\n",
        "plt.legend(loc='upper right')\n",
        "plt.show()"
      ]
    },
    {
      "cell_type": "markdown",
      "metadata": {
        "id": "SdVrv9dtT29r"
      },
      "source": [
        "### Проверка гипотез"
      ]
    },
    {
      "cell_type": "markdown",
      "metadata": {
        "id": "CCx-8SG6T29r"
      },
      "source": [
        "Проверю 2 гипотезы о выручке:"
      ]
    },
    {
      "cell_type": "markdown",
      "metadata": {
        "id": "wh-Uy3rnT29r"
      },
      "source": [
        "#### Гипотеза - Cредняя выручка пользователей тарифов «Ультра» и «Смарт» различаются"
      ]
    },
    {
      "cell_type": "markdown",
      "metadata": {
        "id": "3muQd0qWT29r"
      },
      "source": [
        "Нулевой гипотезой считаю \"Cредняя выручка пользователей тарифа «Ультра» равна средней выручке пользователей тарифа «Смарт»\". Альтернативная гипотеза - \"Cредняя выручка пользователей тарифов «Ультра» и «Смарт» различаются\".\n",
        "Мы уже определили, что средняя выручка с клиентов разных тарифов сильно различается, но расчеты мы делали на основании выборок, а не генеральной совокупности.\n",
        "Нам нужно проверить гипотезу о равенстве среднего по взятым выборкам. Для этого использую метод scipy.stats.ttest_ind, параметр equal_var укажу как False, потому что ранее я определил, что дисперсии выборок отличаются, и сам размер выборок не одинаков. Критический уровень статистической значимости укажу как 5%."
      ]
    },
    {
      "cell_type": "code",
      "execution_count": null,
      "metadata": {
        "id": "Kvs4J87ET29s",
        "outputId": "730f1ddd-5b23-4912-9938-884111abcb02"
      },
      "outputs": [
        {
          "name": "stdout",
          "output_type": "stream",
          "text": [
            "1.927011394420941e-250\n",
            "Отвергаем нулевую гипотезу\n"
          ]
        }
      ],
      "source": [
        "alpha = .05\n",
        "results = st.ttest_ind(ultra['paid'], smart['paid'], equal_var = False)\n",
        "print(results.pvalue)\n",
        "if results.pvalue < alpha:\n",
        "    print('Отвергаем нулевую гипотезу')\n",
        "else:\n",
        "    print('Не получилось отвергнуть нулевую гипотезу')"
      ]
    },
    {
      "cell_type": "markdown",
      "metadata": {
        "id": "dJVJSF4LT29s"
      },
      "source": [
        "Pvalue значение очень мало, поэтому мы отвергаем нулевую гипотезу о том, выручка по тарифам равна, и наоборот не отвергаем гипотезу, что выручка отличается."
      ]
    },
    {
      "cell_type": "markdown",
      "metadata": {
        "id": "Eslauv6VT29s"
      },
      "source": [
        "#### Cредняя выручка пользователей из Москвы отличается от выручки пользователей из других регионов."
      ]
    },
    {
      "cell_type": "markdown",
      "metadata": {
        "id": "CI25FHGPT29s"
      },
      "source": [
        "Нулевой гипотезой считаю \"Cредняя выручка пользователей из Москвы равна средней выручке пользователей из других регионов. Альтернативная гипотеза - \"Cредняя выручка пользователей из Москвы отличается от выручки пользователей из других регионов\".\n",
        "Сформирую 2 датафрейма, клиенты из Москвы и из других регионов. Проблема в том, что там будут представлены клиенты обоих тарифов, а, как мы узнали выше, выручка по ним скорее всего сильно отличается.\n",
        "Выделю группы, посмотрю дисперсию и количество клиентов на разных тарифах в разных выборках, затем проверю гипотезу с помощью метода st.ttest_ind."
      ]
    },
    {
      "cell_type": "code",
      "execution_count": null,
      "metadata": {
        "id": "wkWKEVgIT29s"
      },
      "outputs": [],
      "source": [
        "moscow_clients = summary.query('city == \"Москва\"')\n",
        "regions_clients = summary.query('city != \"Москва\"')"
      ]
    },
    {
      "cell_type": "code",
      "execution_count": null,
      "metadata": {
        "id": "msG0Uh1dT29t",
        "outputId": "6c518e89-dc39-4dff-f6cc-731524cf23c6"
      },
      "outputs": [
        {
          "data": {
            "text/html": [
              "<div>\n",
              "<style scoped>\n",
              "    .dataframe tbody tr th:only-of-type {\n",
              "        vertical-align: middle;\n",
              "    }\n",
              "\n",
              "    .dataframe tbody tr th {\n",
              "        vertical-align: top;\n",
              "    }\n",
              "\n",
              "    .dataframe thead tr th {\n",
              "        text-align: left;\n",
              "    }\n",
              "\n",
              "    .dataframe thead tr:last-of-type th {\n",
              "        text-align: right;\n",
              "    }\n",
              "</style>\n",
              "<table border=\"1\" class=\"dataframe\">\n",
              "  <thead>\n",
              "    <tr>\n",
              "      <th></th>\n",
              "      <th>count</th>\n",
              "      <th>mean</th>\n",
              "    </tr>\n",
              "    <tr>\n",
              "      <th></th>\n",
              "      <th>paid</th>\n",
              "      <th>paid</th>\n",
              "    </tr>\n",
              "    <tr>\n",
              "      <th>tariff</th>\n",
              "      <th></th>\n",
              "      <th></th>\n",
              "    </tr>\n",
              "  </thead>\n",
              "  <tbody>\n",
              "    <tr>\n",
              "      <th>smart</th>\n",
              "      <td>386</td>\n",
              "      <td>1239.357513</td>\n",
              "    </tr>\n",
              "    <tr>\n",
              "      <th>ultra</th>\n",
              "      <td>225</td>\n",
              "      <td>2074.000000</td>\n",
              "    </tr>\n",
              "  </tbody>\n",
              "</table>\n",
              "</div>"
            ],
            "text/plain": [
              "       count         mean\n",
              "        paid         paid\n",
              "tariff                   \n",
              "smart    386  1239.357513\n",
              "ultra    225  2074.000000"
            ]
          },
          "execution_count": 50,
          "metadata": {},
          "output_type": "execute_result"
        }
      ],
      "source": [
        "moscow_clients.pivot_table(index = 'tariff', values = 'paid', aggfunc = ['count', 'mean'])"
      ]
    },
    {
      "cell_type": "code",
      "execution_count": null,
      "metadata": {
        "id": "ndVjtNYBT29t",
        "outputId": "78380745-d9dd-4cac-c04a-06a855092fb8"
      },
      "outputs": [
        {
          "data": {
            "text/plain": [
              "565636.467011886"
            ]
          },
          "execution_count": 51,
          "metadata": {},
          "output_type": "execute_result"
        }
      ],
      "source": [
        "np.var(moscow_clients['paid'], ddof=1)"
      ]
    },
    {
      "cell_type": "code",
      "execution_count": null,
      "metadata": {
        "scrolled": true,
        "id": "Jcpk_iQVT29t",
        "outputId": "19696b1e-1e9b-4689-a148-334f0a999e0c"
      },
      "outputs": [
        {
          "data": {
            "text/html": [
              "<div>\n",
              "<style scoped>\n",
              "    .dataframe tbody tr th:only-of-type {\n",
              "        vertical-align: middle;\n",
              "    }\n",
              "\n",
              "    .dataframe tbody tr th {\n",
              "        vertical-align: top;\n",
              "    }\n",
              "\n",
              "    .dataframe thead tr th {\n",
              "        text-align: left;\n",
              "    }\n",
              "\n",
              "    .dataframe thead tr:last-of-type th {\n",
              "        text-align: right;\n",
              "    }\n",
              "</style>\n",
              "<table border=\"1\" class=\"dataframe\">\n",
              "  <thead>\n",
              "    <tr>\n",
              "      <th></th>\n",
              "      <th>count</th>\n",
              "      <th>mean</th>\n",
              "    </tr>\n",
              "    <tr>\n",
              "      <th></th>\n",
              "      <th>paid</th>\n",
              "      <th>paid</th>\n",
              "    </tr>\n",
              "    <tr>\n",
              "      <th>tariff</th>\n",
              "      <th></th>\n",
              "      <th></th>\n",
              "    </tr>\n",
              "  </thead>\n",
              "  <tbody>\n",
              "    <tr>\n",
              "      <th>smart</th>\n",
              "      <td>1844</td>\n",
              "      <td>1300.167570</td>\n",
              "    </tr>\n",
              "    <tr>\n",
              "      <th>ultra</th>\n",
              "      <td>761</td>\n",
              "      <td>2068.856767</td>\n",
              "    </tr>\n",
              "  </tbody>\n",
              "</table>\n",
              "</div>"
            ],
            "text/plain": [
              "       count         mean\n",
              "        paid         paid\n",
              "tariff                   \n",
              "smart   1844  1300.167570\n",
              "ultra    761  2068.856767"
            ]
          },
          "execution_count": 52,
          "metadata": {},
          "output_type": "execute_result"
        }
      ],
      "source": [
        "regions_clients.pivot_table(index = 'tariff', values = 'paid', aggfunc = ['count', 'mean'])"
      ]
    },
    {
      "cell_type": "code",
      "execution_count": null,
      "metadata": {
        "id": "z2zkPmC1T29t",
        "outputId": "6e669147-4fdb-47c6-b985-6a047253b540"
      },
      "outputs": [
        {
          "data": {
            "text/plain": [
              "654069.574962777"
            ]
          },
          "execution_count": 53,
          "metadata": {},
          "output_type": "execute_result"
        }
      ],
      "source": [
        "np.var(regions_clients['paid'], ddof=1)"
      ]
    },
    {
      "cell_type": "markdown",
      "metadata": {
        "id": "uM8qT16kT29t"
      },
      "source": [
        "Доля тарифа smart в регионах выше, но соотношение все равно позволяет сравнить 2 выборки. Дисперсии отличаются не сильно, но численности выборки отличаются значительно, поэтому решил снова использовать equal_var = False."
      ]
    },
    {
      "cell_type": "code",
      "execution_count": null,
      "metadata": {
        "id": "9dZMmNhZT29t",
        "outputId": "c71c633a-57dd-42e6-a267-aef8ac2f95ef"
      },
      "outputs": [
        {
          "name": "stdout",
          "output_type": "stream",
          "text": [
            "0.5216952110000278\n",
            "Не получилось отвергнуть нулевую гипотезу\n"
          ]
        }
      ],
      "source": [
        "alpha = .05\n",
        "results = st.ttest_ind(moscow_clients['paid'],regions_clients['paid'], equal_var = False)\n",
        "print(results.pvalue)\n",
        "if alpha > results.pvalue:\n",
        "    print('Отвергаем нулевую гипотезу')\n",
        "else:\n",
        "    print('Не получилось отвергнуть нулевую гипотезу')"
      ]
    },
    {
      "cell_type": "markdown",
      "metadata": {
        "id": "18F-ZX82T29u"
      },
      "source": [
        "Pvalue больше установленной мной статистической значимости, значит на основе данных выборок мы не можем отвергнуть гипотезу о том, что выручка с клиентов из Москвы равна выручке с клиентов из регионов."
      ]
    },
    {
      "cell_type": "markdown",
      "metadata": {
        "id": "RHrTy0ThT29u"
      },
      "source": [
        "### Общий вывод"
      ]
    },
    {
      "cell_type": "markdown",
      "metadata": {
        "id": "1t5gmmu7T29u"
      },
      "source": [
        "Я провел предобработку данных, соединил имеющиеся таблицы с данными, провел исследовательский анализ, выявил основные значения потребления по каждому пользователю и проверил гипотезы о выручке.\n",
        "\n",
        "Итак, отвечая на главный вопрос исследования, на основе выборки установлено, что больше выручки телеком-компания получает с клиентов на тарифе \"Ультра\", при этом основная выручка идет именно из абоненсткой платы, которая значительно выше, чем на тарифе \"Смарт\", абоненты которого, тем не менее, значительно больше тратят денег сверх их абоненской платы, покупая дополнительные гигабайты, звонки, сообщения. Вывод о выручке подтверждается и проверкой гипотезы статистическим тестом, мы определили, что вероятность того, что средние показатели выручек двух тарифов будут равны, очень мала, хотя у нас есть только выборка, а не генеральная совокупность. \n",
        "\n",
        "Сообщения не пользуются популярностью, тем временем на интернет многим пользователям не хватает даже лимита в 30 гб тарифа \"Смарт\". Но в целом расход клиентами тарифов минут, гб и сообщений схож, и не соответвует разнице в абоненской плате (почти в 4 раза), тариф \"Ультра\" для компании выгоден.\n",
        "\n",
        "Могу в виде предложения отметить, что возможно целесообразно было бы ввести новый \"средний тариф\", возможно психологически клиенты тарифа \"Смарт\" посчитают примемлемым платить абоненскую плату в 850-900 рублей, но не тратить дополнительные деньги на увеличение лимитов. Например, мы увидели, что многие тратят гигабайты очень близко к лимиту в 15 гб, и их потребности выше, они думают на этом моменте, стоит ли покупать дополнительные гб сверхтарифа. Главное, чтобы это не привело к оттоку с тарифа \"Ультра\".\n",
        "\n",
        "Несмотря на бОльшую долю тарифа \"Ультра\" в Москве по сравнению с регионами, выручка для команий в регионах и Москве в целом не сильно отличается."
      ]
    }
  ],
  "metadata": {
    "ExecuteTimeLog": [
      {
        "duration": 192,
        "start_time": "2022-04-01T16:13:29.781Z"
      },
      {
        "duration": 48,
        "start_time": "2022-04-01T17:21:47.076Z"
      },
      {
        "duration": 904,
        "start_time": "2022-04-01T17:21:53.346Z"
      },
      {
        "duration": 403,
        "start_time": "2022-04-01T17:21:54.548Z"
      },
      {
        "duration": 26,
        "start_time": "2022-04-01T17:21:56.082Z"
      },
      {
        "duration": 41,
        "start_time": "2022-04-02T08:54:40.806Z"
      },
      {
        "duration": 748,
        "start_time": "2022-04-02T08:54:51.935Z"
      },
      {
        "duration": 209,
        "start_time": "2022-04-02T08:54:52.685Z"
      },
      {
        "duration": 0,
        "start_time": "2022-04-02T08:54:52.895Z"
      },
      {
        "duration": 0,
        "start_time": "2022-04-02T08:54:52.897Z"
      },
      {
        "duration": 3,
        "start_time": "2022-04-02T08:55:02.323Z"
      },
      {
        "duration": 395,
        "start_time": "2022-04-02T08:55:02.329Z"
      },
      {
        "duration": 23,
        "start_time": "2022-04-02T08:55:02.726Z"
      },
      {
        "duration": 35,
        "start_time": "2022-04-02T08:57:08.421Z"
      },
      {
        "duration": 2,
        "start_time": "2022-04-02T09:31:41.446Z"
      },
      {
        "duration": 421,
        "start_time": "2022-04-02T09:31:41.450Z"
      },
      {
        "duration": 35,
        "start_time": "2022-04-02T09:31:41.873Z"
      },
      {
        "duration": 61,
        "start_time": "2022-04-02T11:36:08.256Z"
      },
      {
        "duration": 175,
        "start_time": "2022-04-02T11:38:17.410Z"
      },
      {
        "duration": 5,
        "start_time": "2022-04-02T11:38:26.161Z"
      },
      {
        "duration": 5,
        "start_time": "2022-04-02T11:38:37.560Z"
      },
      {
        "duration": 40,
        "start_time": "2022-04-02T11:38:50.301Z"
      },
      {
        "duration": 50,
        "start_time": "2022-04-02T11:38:53.598Z"
      },
      {
        "duration": 168,
        "start_time": "2022-04-02T11:38:56.179Z"
      },
      {
        "duration": 87,
        "start_time": "2022-04-02T11:38:58.774Z"
      },
      {
        "duration": 5,
        "start_time": "2022-04-02T11:39:02.639Z"
      },
      {
        "duration": 6,
        "start_time": "2022-04-02T11:39:08.811Z"
      },
      {
        "duration": 42,
        "start_time": "2022-04-02T11:40:47.670Z"
      },
      {
        "duration": 6,
        "start_time": "2022-04-02T11:41:10.749Z"
      },
      {
        "duration": 5,
        "start_time": "2022-04-02T11:41:12.974Z"
      },
      {
        "duration": 19,
        "start_time": "2022-04-02T11:41:14.730Z"
      },
      {
        "duration": 16,
        "start_time": "2022-04-02T11:41:16.474Z"
      },
      {
        "duration": 14,
        "start_time": "2022-04-02T11:41:18.140Z"
      },
      {
        "duration": 6,
        "start_time": "2022-04-02T11:56:05.098Z"
      },
      {
        "duration": 6,
        "start_time": "2022-04-02T11:57:34.526Z"
      },
      {
        "duration": 8,
        "start_time": "2022-04-02T11:58:26.103Z"
      },
      {
        "duration": 6,
        "start_time": "2022-04-02T11:58:31.738Z"
      },
      {
        "duration": 6,
        "start_time": "2022-04-02T11:58:36.800Z"
      },
      {
        "duration": 5,
        "start_time": "2022-04-02T11:58:43.511Z"
      },
      {
        "duration": 6,
        "start_time": "2022-04-02T11:58:47.657Z"
      },
      {
        "duration": 5,
        "start_time": "2022-04-02T11:58:55.039Z"
      },
      {
        "duration": 6,
        "start_time": "2022-04-02T11:58:59.145Z"
      },
      {
        "duration": 7,
        "start_time": "2022-04-02T11:59:17.273Z"
      },
      {
        "duration": 235,
        "start_time": "2022-04-02T11:59:30.257Z"
      },
      {
        "duration": 49,
        "start_time": "2022-04-02T11:59:35.594Z"
      },
      {
        "duration": 8,
        "start_time": "2022-04-02T12:00:14.502Z"
      },
      {
        "duration": 7,
        "start_time": "2022-04-02T12:00:22.625Z"
      },
      {
        "duration": 9,
        "start_time": "2022-04-02T12:00:37.353Z"
      },
      {
        "duration": 6,
        "start_time": "2022-04-02T12:00:51.864Z"
      },
      {
        "duration": 5,
        "start_time": "2022-04-02T12:01:18.092Z"
      },
      {
        "duration": 164,
        "start_time": "2022-04-02T12:13:37.530Z"
      },
      {
        "duration": 2,
        "start_time": "2022-04-02T12:15:25.291Z"
      },
      {
        "duration": 362,
        "start_time": "2022-04-02T12:15:25.295Z"
      },
      {
        "duration": 36,
        "start_time": "2022-04-02T12:15:25.658Z"
      },
      {
        "duration": 63,
        "start_time": "2022-04-02T12:15:25.696Z"
      },
      {
        "duration": 21,
        "start_time": "2022-04-02T12:15:25.761Z"
      },
      {
        "duration": 29,
        "start_time": "2022-04-02T12:15:25.783Z"
      },
      {
        "duration": 14,
        "start_time": "2022-04-02T12:15:25.813Z"
      },
      {
        "duration": 43,
        "start_time": "2022-04-02T12:15:25.828Z"
      },
      {
        "duration": 19,
        "start_time": "2022-04-02T12:15:25.872Z"
      },
      {
        "duration": 34,
        "start_time": "2022-04-02T12:15:25.892Z"
      },
      {
        "duration": 24,
        "start_time": "2022-04-02T12:15:25.928Z"
      },
      {
        "duration": 105,
        "start_time": "2022-04-02T12:15:25.953Z"
      },
      {
        "duration": 54,
        "start_time": "2022-04-02T12:15:26.059Z"
      },
      {
        "duration": 38,
        "start_time": "2022-04-02T12:15:26.114Z"
      },
      {
        "duration": 5,
        "start_time": "2022-04-02T12:15:26.154Z"
      },
      {
        "duration": 197,
        "start_time": "2022-04-02T12:59:35.468Z"
      },
      {
        "duration": 18,
        "start_time": "2022-04-02T12:59:38.867Z"
      },
      {
        "duration": 16,
        "start_time": "2022-04-02T13:00:47.393Z"
      },
      {
        "duration": 15,
        "start_time": "2022-04-02T13:00:52.465Z"
      },
      {
        "duration": 13,
        "start_time": "2022-04-02T13:01:09.931Z"
      },
      {
        "duration": 15,
        "start_time": "2022-04-02T13:01:17.211Z"
      },
      {
        "duration": 16,
        "start_time": "2022-04-02T13:01:31.417Z"
      },
      {
        "duration": 5,
        "start_time": "2022-04-02T13:45:20.725Z"
      },
      {
        "duration": 9,
        "start_time": "2022-04-02T13:45:22.112Z"
      },
      {
        "duration": 69,
        "start_time": "2022-04-02T13:48:10.721Z"
      },
      {
        "duration": 3150,
        "start_time": "2022-04-02T13:48:12.101Z"
      },
      {
        "duration": 35,
        "start_time": "2022-04-02T13:51:04.146Z"
      },
      {
        "duration": 48,
        "start_time": "2022-04-02T13:51:06.181Z"
      },
      {
        "duration": 45,
        "start_time": "2022-04-02T13:51:08.457Z"
      },
      {
        "duration": 195,
        "start_time": "2022-04-02T13:51:31.500Z"
      },
      {
        "duration": 50,
        "start_time": "2022-04-02T13:51:35.472Z"
      },
      {
        "duration": 7,
        "start_time": "2022-04-02T14:11:40.242Z"
      },
      {
        "duration": 352,
        "start_time": "2022-04-02T14:11:46.462Z"
      },
      {
        "duration": 542,
        "start_time": "2022-04-02T14:11:46.816Z"
      },
      {
        "duration": 50,
        "start_time": "2022-04-02T14:11:47.360Z"
      },
      {
        "duration": 83,
        "start_time": "2022-04-02T14:11:47.412Z"
      },
      {
        "duration": 6,
        "start_time": "2022-04-02T14:11:47.496Z"
      },
      {
        "duration": 22,
        "start_time": "2022-04-02T14:11:47.503Z"
      },
      {
        "duration": 5,
        "start_time": "2022-04-02T14:11:47.526Z"
      },
      {
        "duration": 17,
        "start_time": "2022-04-02T14:11:47.532Z"
      },
      {
        "duration": 37,
        "start_time": "2022-04-02T14:11:47.550Z"
      },
      {
        "duration": 21,
        "start_time": "2022-04-02T14:11:47.589Z"
      },
      {
        "duration": 5,
        "start_time": "2022-04-02T14:11:47.611Z"
      },
      {
        "duration": 100,
        "start_time": "2022-04-02T14:11:47.618Z"
      },
      {
        "duration": 64,
        "start_time": "2022-04-02T14:11:47.719Z"
      },
      {
        "duration": 40,
        "start_time": "2022-04-02T14:11:47.785Z"
      },
      {
        "duration": 6,
        "start_time": "2022-04-02T14:11:47.826Z"
      },
      {
        "duration": 91,
        "start_time": "2022-04-02T14:11:47.833Z"
      },
      {
        "duration": 45,
        "start_time": "2022-04-02T14:11:47.926Z"
      },
      {
        "duration": 21,
        "start_time": "2022-04-02T14:11:47.973Z"
      },
      {
        "duration": 0,
        "start_time": "2022-04-02T14:11:47.995Z"
      },
      {
        "duration": 7,
        "start_time": "2022-04-02T14:14:42.095Z"
      },
      {
        "duration": 72,
        "start_time": "2022-04-02T14:14:54.354Z"
      },
      {
        "duration": 5,
        "start_time": "2022-04-02T14:15:10.532Z"
      },
      {
        "duration": 12,
        "start_time": "2022-04-02T14:27:24.741Z"
      },
      {
        "duration": 34,
        "start_time": "2022-04-02T14:28:44.813Z"
      },
      {
        "duration": 171,
        "start_time": "2022-04-02T14:29:14.501Z"
      },
      {
        "duration": 15,
        "start_time": "2022-04-02T14:29:18.824Z"
      },
      {
        "duration": 15,
        "start_time": "2022-04-02T14:29:35.403Z"
      },
      {
        "duration": 10,
        "start_time": "2022-04-02T14:32:26.557Z"
      },
      {
        "duration": 52,
        "start_time": "2022-04-02T14:43:18.057Z"
      },
      {
        "duration": 3,
        "start_time": "2022-04-02T14:43:42.290Z"
      },
      {
        "duration": 408,
        "start_time": "2022-04-02T14:43:42.295Z"
      },
      {
        "duration": 41,
        "start_time": "2022-04-02T14:43:42.705Z"
      },
      {
        "duration": 79,
        "start_time": "2022-04-02T14:43:42.749Z"
      },
      {
        "duration": 5,
        "start_time": "2022-04-02T14:43:42.830Z"
      },
      {
        "duration": 21,
        "start_time": "2022-04-02T14:43:42.837Z"
      },
      {
        "duration": 22,
        "start_time": "2022-04-02T14:43:42.860Z"
      },
      {
        "duration": 20,
        "start_time": "2022-04-02T14:43:42.883Z"
      },
      {
        "duration": 14,
        "start_time": "2022-04-02T14:43:42.905Z"
      },
      {
        "duration": 6,
        "start_time": "2022-04-02T14:43:42.921Z"
      },
      {
        "duration": 7,
        "start_time": "2022-04-02T14:43:42.929Z"
      },
      {
        "duration": 115,
        "start_time": "2022-04-02T14:43:42.937Z"
      },
      {
        "duration": 62,
        "start_time": "2022-04-02T14:43:43.053Z"
      },
      {
        "duration": 40,
        "start_time": "2022-04-02T14:43:43.117Z"
      },
      {
        "duration": 6,
        "start_time": "2022-04-02T14:43:43.158Z"
      },
      {
        "duration": 68,
        "start_time": "2022-04-02T14:43:43.181Z"
      },
      {
        "duration": 63,
        "start_time": "2022-04-02T14:43:43.250Z"
      },
      {
        "duration": 127,
        "start_time": "2022-04-02T14:43:43.315Z"
      },
      {
        "duration": 17,
        "start_time": "2022-04-02T14:43:43.444Z"
      },
      {
        "duration": 80,
        "start_time": "2022-04-02T14:43:43.462Z"
      },
      {
        "duration": 23,
        "start_time": "2022-04-02T14:43:43.544Z"
      },
      {
        "duration": 12,
        "start_time": "2022-04-02T14:43:43.580Z"
      },
      {
        "duration": 23,
        "start_time": "2022-04-02T14:43:43.594Z"
      },
      {
        "duration": 205,
        "start_time": "2022-04-02T14:44:30.145Z"
      },
      {
        "duration": 38,
        "start_time": "2022-04-02T14:44:40.498Z"
      },
      {
        "duration": 64,
        "start_time": "2022-04-02T14:46:00.989Z"
      },
      {
        "duration": 35,
        "start_time": "2022-04-02T14:46:43.777Z"
      },
      {
        "duration": 37,
        "start_time": "2022-04-02T14:46:46.888Z"
      },
      {
        "duration": 16,
        "start_time": "2022-04-02T14:47:23.251Z"
      },
      {
        "duration": 12,
        "start_time": "2022-04-02T14:47:34.123Z"
      },
      {
        "duration": 9,
        "start_time": "2022-04-02T14:47:58.888Z"
      },
      {
        "duration": 9,
        "start_time": "2022-04-02T14:48:02.666Z"
      },
      {
        "duration": 9,
        "start_time": "2022-04-02T14:48:05.603Z"
      },
      {
        "duration": 9,
        "start_time": "2022-04-02T14:48:10.030Z"
      },
      {
        "duration": 12,
        "start_time": "2022-04-02T14:48:13.463Z"
      },
      {
        "duration": 25,
        "start_time": "2022-04-02T14:59:35.447Z"
      },
      {
        "duration": 33,
        "start_time": "2022-04-02T14:59:44.697Z"
      },
      {
        "duration": 3482,
        "start_time": "2022-04-02T15:00:18.300Z"
      },
      {
        "duration": 43,
        "start_time": "2022-04-02T15:00:35.067Z"
      },
      {
        "duration": 38,
        "start_time": "2022-04-02T15:00:52.719Z"
      },
      {
        "duration": 63,
        "start_time": "2022-04-02T15:04:15.058Z"
      },
      {
        "duration": 34,
        "start_time": "2022-04-02T15:04:37.783Z"
      },
      {
        "duration": 40,
        "start_time": "2022-04-02T15:04:53.579Z"
      },
      {
        "duration": 36,
        "start_time": "2022-04-02T15:06:42.026Z"
      },
      {
        "duration": 34,
        "start_time": "2022-04-02T15:07:26.339Z"
      },
      {
        "duration": 10,
        "start_time": "2022-04-02T15:13:19.701Z"
      },
      {
        "duration": 2,
        "start_time": "2022-04-02T15:19:01.510Z"
      },
      {
        "duration": 436,
        "start_time": "2022-04-02T15:19:01.514Z"
      },
      {
        "duration": 37,
        "start_time": "2022-04-02T15:19:01.951Z"
      },
      {
        "duration": 62,
        "start_time": "2022-04-02T15:19:01.990Z"
      },
      {
        "duration": 5,
        "start_time": "2022-04-02T15:19:02.054Z"
      },
      {
        "duration": 19,
        "start_time": "2022-04-02T15:19:02.080Z"
      },
      {
        "duration": 5,
        "start_time": "2022-04-02T15:19:02.100Z"
      },
      {
        "duration": 19,
        "start_time": "2022-04-02T15:19:02.106Z"
      },
      {
        "duration": 13,
        "start_time": "2022-04-02T15:19:02.126Z"
      },
      {
        "duration": 5,
        "start_time": "2022-04-02T15:19:02.140Z"
      },
      {
        "duration": 5,
        "start_time": "2022-04-02T15:19:02.147Z"
      },
      {
        "duration": 97,
        "start_time": "2022-04-02T15:19:02.153Z"
      },
      {
        "duration": 69,
        "start_time": "2022-04-02T15:19:02.251Z"
      },
      {
        "duration": 38,
        "start_time": "2022-04-02T15:19:02.322Z"
      },
      {
        "duration": 6,
        "start_time": "2022-04-02T15:19:02.361Z"
      },
      {
        "duration": 75,
        "start_time": "2022-04-02T15:19:02.368Z"
      },
      {
        "duration": 56,
        "start_time": "2022-04-02T15:19:02.444Z"
      },
      {
        "duration": 79,
        "start_time": "2022-04-02T15:19:02.502Z"
      },
      {
        "duration": 43,
        "start_time": "2022-04-02T15:19:02.583Z"
      },
      {
        "duration": 35,
        "start_time": "2022-04-02T15:19:02.628Z"
      },
      {
        "duration": 11,
        "start_time": "2022-04-02T15:19:02.680Z"
      },
      {
        "duration": 16,
        "start_time": "2022-04-02T15:19:02.693Z"
      },
      {
        "duration": 48,
        "start_time": "2022-04-03T06:53:25.979Z"
      },
      {
        "duration": 1226,
        "start_time": "2022-04-03T06:53:34.333Z"
      },
      {
        "duration": 451,
        "start_time": "2022-04-03T06:53:35.562Z"
      },
      {
        "duration": 47,
        "start_time": "2022-04-03T06:53:36.015Z"
      },
      {
        "duration": 91,
        "start_time": "2022-04-03T06:53:36.065Z"
      },
      {
        "duration": 7,
        "start_time": "2022-04-03T06:53:36.158Z"
      },
      {
        "duration": 23,
        "start_time": "2022-04-03T06:53:36.167Z"
      },
      {
        "duration": 6,
        "start_time": "2022-04-03T06:53:36.192Z"
      },
      {
        "duration": 43,
        "start_time": "2022-04-03T06:53:36.199Z"
      },
      {
        "duration": 14,
        "start_time": "2022-04-03T06:53:36.244Z"
      },
      {
        "duration": 6,
        "start_time": "2022-04-03T06:53:36.260Z"
      },
      {
        "duration": 7,
        "start_time": "2022-04-03T06:53:36.267Z"
      },
      {
        "duration": 134,
        "start_time": "2022-04-03T06:53:36.275Z"
      },
      {
        "duration": 87,
        "start_time": "2022-04-03T06:53:36.410Z"
      },
      {
        "duration": 60,
        "start_time": "2022-04-03T06:53:36.499Z"
      },
      {
        "duration": 6,
        "start_time": "2022-04-03T06:53:36.560Z"
      },
      {
        "duration": 80,
        "start_time": "2022-04-03T06:53:36.568Z"
      },
      {
        "duration": 50,
        "start_time": "2022-04-03T06:53:36.649Z"
      },
      {
        "duration": 91,
        "start_time": "2022-04-03T06:53:36.701Z"
      },
      {
        "duration": 6,
        "start_time": "2022-04-03T06:53:36.794Z"
      },
      {
        "duration": 70,
        "start_time": "2022-04-03T06:53:36.802Z"
      },
      {
        "duration": 45,
        "start_time": "2022-04-03T06:53:36.874Z"
      },
      {
        "duration": 28,
        "start_time": "2022-04-03T06:53:36.920Z"
      },
      {
        "duration": 18,
        "start_time": "2022-04-03T06:53:36.949Z"
      },
      {
        "duration": 7,
        "start_time": "2022-04-03T06:55:42.798Z"
      },
      {
        "duration": 3,
        "start_time": "2022-04-03T06:56:07.791Z"
      },
      {
        "duration": 388,
        "start_time": "2022-04-03T06:56:07.796Z"
      },
      {
        "duration": 42,
        "start_time": "2022-04-03T06:56:08.186Z"
      },
      {
        "duration": 70,
        "start_time": "2022-04-03T06:56:08.238Z"
      },
      {
        "duration": 5,
        "start_time": "2022-04-03T06:56:08.310Z"
      },
      {
        "duration": 42,
        "start_time": "2022-04-03T06:56:08.317Z"
      },
      {
        "duration": 6,
        "start_time": "2022-04-03T06:56:08.361Z"
      },
      {
        "duration": 20,
        "start_time": "2022-04-03T06:56:08.368Z"
      },
      {
        "duration": 15,
        "start_time": "2022-04-03T06:56:08.389Z"
      },
      {
        "duration": 32,
        "start_time": "2022-04-03T06:56:08.406Z"
      },
      {
        "duration": 5,
        "start_time": "2022-04-03T06:56:08.440Z"
      },
      {
        "duration": 110,
        "start_time": "2022-04-03T06:56:08.447Z"
      },
      {
        "duration": 58,
        "start_time": "2022-04-03T06:56:08.560Z"
      },
      {
        "duration": 53,
        "start_time": "2022-04-03T06:56:08.619Z"
      },
      {
        "duration": 6,
        "start_time": "2022-04-03T06:56:08.673Z"
      },
      {
        "duration": 88,
        "start_time": "2022-04-03T06:56:08.680Z"
      },
      {
        "duration": 48,
        "start_time": "2022-04-03T06:56:08.770Z"
      },
      {
        "duration": 2,
        "start_time": "2022-04-03T06:56:08.820Z"
      },
      {
        "duration": 20,
        "start_time": "2022-04-03T06:56:08.823Z"
      },
      {
        "duration": 9,
        "start_time": "2022-04-03T06:56:08.845Z"
      },
      {
        "duration": 51,
        "start_time": "2022-04-03T06:56:08.855Z"
      },
      {
        "duration": 51,
        "start_time": "2022-04-03T06:56:08.908Z"
      },
      {
        "duration": 11,
        "start_time": "2022-04-03T06:56:08.961Z"
      },
      {
        "duration": 23,
        "start_time": "2022-04-03T06:56:08.974Z"
      },
      {
        "duration": 19,
        "start_time": "2022-04-03T06:56:40.046Z"
      },
      {
        "duration": 1868,
        "start_time": "2022-04-03T06:57:50.255Z"
      },
      {
        "duration": 3,
        "start_time": "2022-04-03T06:58:35.090Z"
      },
      {
        "duration": 367,
        "start_time": "2022-04-03T06:58:35.095Z"
      },
      {
        "duration": 39,
        "start_time": "2022-04-03T06:58:35.463Z"
      },
      {
        "duration": 83,
        "start_time": "2022-04-03T06:58:35.504Z"
      },
      {
        "duration": 5,
        "start_time": "2022-04-03T06:58:35.590Z"
      },
      {
        "duration": 25,
        "start_time": "2022-04-03T06:58:35.596Z"
      },
      {
        "duration": 16,
        "start_time": "2022-04-03T06:58:35.622Z"
      },
      {
        "duration": 17,
        "start_time": "2022-04-03T06:58:35.640Z"
      },
      {
        "duration": 14,
        "start_time": "2022-04-03T06:58:35.659Z"
      },
      {
        "duration": 5,
        "start_time": "2022-04-03T06:58:35.675Z"
      },
      {
        "duration": 5,
        "start_time": "2022-04-03T06:58:35.682Z"
      },
      {
        "duration": 139,
        "start_time": "2022-04-03T06:58:35.688Z"
      },
      {
        "duration": 58,
        "start_time": "2022-04-03T06:58:35.837Z"
      },
      {
        "duration": 55,
        "start_time": "2022-04-03T06:58:35.896Z"
      },
      {
        "duration": 6,
        "start_time": "2022-04-03T06:58:35.953Z"
      },
      {
        "duration": 85,
        "start_time": "2022-04-03T06:58:35.960Z"
      },
      {
        "duration": 49,
        "start_time": "2022-04-03T06:58:36.046Z"
      },
      {
        "duration": 5,
        "start_time": "2022-04-03T06:58:36.096Z"
      },
      {
        "duration": 7,
        "start_time": "2022-04-03T06:58:36.102Z"
      },
      {
        "duration": 37,
        "start_time": "2022-04-03T06:58:36.111Z"
      },
      {
        "duration": 54,
        "start_time": "2022-04-03T06:58:36.150Z"
      },
      {
        "duration": 68,
        "start_time": "2022-04-03T06:58:36.207Z"
      },
      {
        "duration": 12,
        "start_time": "2022-04-03T06:58:36.278Z"
      },
      {
        "duration": 32,
        "start_time": "2022-04-03T06:58:36.292Z"
      },
      {
        "duration": 12,
        "start_time": "2022-04-03T07:01:31.479Z"
      },
      {
        "duration": 239,
        "start_time": "2022-04-03T07:03:34.093Z"
      },
      {
        "duration": 16,
        "start_time": "2022-04-03T07:03:48.380Z"
      },
      {
        "duration": 28,
        "start_time": "2022-04-03T09:38:05.006Z"
      },
      {
        "duration": 22,
        "start_time": "2022-04-03T09:38:06.952Z"
      },
      {
        "duration": 27,
        "start_time": "2022-04-03T09:38:48.060Z"
      },
      {
        "duration": 28,
        "start_time": "2022-04-03T09:38:50.427Z"
      },
      {
        "duration": 29,
        "start_time": "2022-04-03T09:38:58.454Z"
      },
      {
        "duration": 29,
        "start_time": "2022-04-03T09:39:01.322Z"
      },
      {
        "duration": 16,
        "start_time": "2022-04-03T09:41:00.587Z"
      },
      {
        "duration": 43,
        "start_time": "2022-04-03T09:47:43.607Z"
      },
      {
        "duration": 3,
        "start_time": "2022-04-03T09:49:44.234Z"
      },
      {
        "duration": 22,
        "start_time": "2022-04-03T09:50:01.059Z"
      },
      {
        "duration": 3,
        "start_time": "2022-04-03T09:51:52.220Z"
      },
      {
        "duration": 4,
        "start_time": "2022-04-03T09:51:56.482Z"
      },
      {
        "duration": 4,
        "start_time": "2022-04-03T09:51:58.723Z"
      },
      {
        "duration": 23,
        "start_time": "2022-04-03T09:52:00.595Z"
      },
      {
        "duration": 3,
        "start_time": "2022-04-03T09:53:03.428Z"
      },
      {
        "duration": 4,
        "start_time": "2022-04-03T09:53:12.054Z"
      },
      {
        "duration": 4,
        "start_time": "2022-04-03T09:53:25.629Z"
      },
      {
        "duration": 4,
        "start_time": "2022-04-03T09:53:40.093Z"
      },
      {
        "duration": 4,
        "start_time": "2022-04-03T09:53:58.510Z"
      },
      {
        "duration": 3,
        "start_time": "2022-04-03T09:54:25.423Z"
      },
      {
        "duration": 38,
        "start_time": "2022-04-03T09:58:00.698Z"
      },
      {
        "duration": 3,
        "start_time": "2022-04-03T09:58:17.717Z"
      },
      {
        "duration": 448,
        "start_time": "2022-04-03T09:58:17.722Z"
      },
      {
        "duration": 43,
        "start_time": "2022-04-03T09:58:18.171Z"
      },
      {
        "duration": 92,
        "start_time": "2022-04-03T09:58:18.216Z"
      },
      {
        "duration": 5,
        "start_time": "2022-04-03T09:58:18.310Z"
      },
      {
        "duration": 44,
        "start_time": "2022-04-03T09:58:18.317Z"
      },
      {
        "duration": 6,
        "start_time": "2022-04-03T09:58:18.363Z"
      },
      {
        "duration": 21,
        "start_time": "2022-04-03T09:58:18.371Z"
      },
      {
        "duration": 15,
        "start_time": "2022-04-03T09:58:18.393Z"
      },
      {
        "duration": 34,
        "start_time": "2022-04-03T09:58:18.410Z"
      },
      {
        "duration": 20,
        "start_time": "2022-04-03T09:58:18.446Z"
      },
      {
        "duration": 117,
        "start_time": "2022-04-03T09:58:18.467Z"
      },
      {
        "duration": 84,
        "start_time": "2022-04-03T09:58:18.586Z"
      },
      {
        "duration": 49,
        "start_time": "2022-04-03T09:58:18.672Z"
      },
      {
        "duration": 23,
        "start_time": "2022-04-03T09:58:18.723Z"
      },
      {
        "duration": 90,
        "start_time": "2022-04-03T09:58:18.748Z"
      },
      {
        "duration": 59,
        "start_time": "2022-04-03T09:58:18.841Z"
      },
      {
        "duration": 4,
        "start_time": "2022-04-03T09:58:18.902Z"
      },
      {
        "duration": 74,
        "start_time": "2022-04-03T09:58:18.908Z"
      },
      {
        "duration": 41,
        "start_time": "2022-04-03T09:58:18.984Z"
      },
      {
        "duration": 53,
        "start_time": "2022-04-03T09:58:19.039Z"
      },
      {
        "duration": 63,
        "start_time": "2022-04-03T09:58:19.094Z"
      },
      {
        "duration": 107,
        "start_time": "2022-04-03T09:58:19.158Z"
      },
      {
        "duration": 0,
        "start_time": "2022-04-03T09:58:19.267Z"
      },
      {
        "duration": 0,
        "start_time": "2022-04-03T09:58:19.268Z"
      },
      {
        "duration": 39,
        "start_time": "2022-04-03T09:59:57.779Z"
      },
      {
        "duration": 51,
        "start_time": "2022-04-03T10:01:06.220Z"
      },
      {
        "duration": 52,
        "start_time": "2022-04-03T10:01:19.781Z"
      },
      {
        "duration": 4,
        "start_time": "2022-04-03T10:01:25.614Z"
      },
      {
        "duration": 444,
        "start_time": "2022-04-03T10:01:25.624Z"
      },
      {
        "duration": 46,
        "start_time": "2022-04-03T10:01:26.071Z"
      },
      {
        "duration": 100,
        "start_time": "2022-04-03T10:01:26.119Z"
      },
      {
        "duration": 17,
        "start_time": "2022-04-03T10:01:26.221Z"
      },
      {
        "duration": 36,
        "start_time": "2022-04-03T10:01:26.241Z"
      },
      {
        "duration": 10,
        "start_time": "2022-04-03T10:01:26.278Z"
      },
      {
        "duration": 54,
        "start_time": "2022-04-03T10:01:26.290Z"
      },
      {
        "duration": 24,
        "start_time": "2022-04-03T10:01:26.347Z"
      },
      {
        "duration": 6,
        "start_time": "2022-04-03T10:01:26.373Z"
      },
      {
        "duration": 10,
        "start_time": "2022-04-03T10:01:26.381Z"
      },
      {
        "duration": 132,
        "start_time": "2022-04-03T10:01:26.393Z"
      },
      {
        "duration": 91,
        "start_time": "2022-04-03T10:01:26.528Z"
      },
      {
        "duration": 64,
        "start_time": "2022-04-03T10:01:26.621Z"
      },
      {
        "duration": 6,
        "start_time": "2022-04-03T10:01:26.689Z"
      },
      {
        "duration": 111,
        "start_time": "2022-04-03T10:01:26.697Z"
      },
      {
        "duration": 63,
        "start_time": "2022-04-03T10:01:26.810Z"
      },
      {
        "duration": 4,
        "start_time": "2022-04-03T10:01:26.875Z"
      },
      {
        "duration": 67,
        "start_time": "2022-04-03T10:01:26.881Z"
      },
      {
        "duration": 48,
        "start_time": "2022-04-03T10:01:26.951Z"
      },
      {
        "duration": 71,
        "start_time": "2022-04-03T10:01:27.001Z"
      },
      {
        "duration": 41,
        "start_time": "2022-04-03T10:01:27.074Z"
      },
      {
        "duration": 108,
        "start_time": "2022-04-03T10:01:27.117Z"
      },
      {
        "duration": 0,
        "start_time": "2022-04-03T10:01:27.227Z"
      },
      {
        "duration": 0,
        "start_time": "2022-04-03T10:01:27.228Z"
      },
      {
        "duration": 2,
        "start_time": "2022-04-03T10:01:41.463Z"
      },
      {
        "duration": 437,
        "start_time": "2022-04-03T10:01:41.467Z"
      },
      {
        "duration": 60,
        "start_time": "2022-04-03T10:01:41.906Z"
      },
      {
        "duration": 111,
        "start_time": "2022-04-03T10:01:41.968Z"
      },
      {
        "duration": 7,
        "start_time": "2022-04-03T10:01:42.081Z"
      },
      {
        "duration": 40,
        "start_time": "2022-04-03T10:01:42.090Z"
      },
      {
        "duration": 19,
        "start_time": "2022-04-03T10:01:42.132Z"
      },
      {
        "duration": 30,
        "start_time": "2022-04-03T10:01:42.153Z"
      },
      {
        "duration": 26,
        "start_time": "2022-04-03T10:01:42.186Z"
      },
      {
        "duration": 24,
        "start_time": "2022-04-03T10:01:42.214Z"
      },
      {
        "duration": 7,
        "start_time": "2022-04-03T10:01:42.240Z"
      },
      {
        "duration": 141,
        "start_time": "2022-04-03T10:01:42.250Z"
      },
      {
        "duration": 80,
        "start_time": "2022-04-03T10:01:42.393Z"
      },
      {
        "duration": 63,
        "start_time": "2022-04-03T10:01:42.476Z"
      },
      {
        "duration": 10,
        "start_time": "2022-04-03T10:01:42.541Z"
      },
      {
        "duration": 90,
        "start_time": "2022-04-03T10:01:42.553Z"
      },
      {
        "duration": 57,
        "start_time": "2022-04-03T10:01:42.646Z"
      },
      {
        "duration": 6,
        "start_time": "2022-04-03T10:01:42.705Z"
      },
      {
        "duration": 85,
        "start_time": "2022-04-03T10:01:42.713Z"
      },
      {
        "duration": 71,
        "start_time": "2022-04-03T10:01:42.800Z"
      },
      {
        "duration": 50,
        "start_time": "2022-04-03T10:01:42.873Z"
      },
      {
        "duration": 57,
        "start_time": "2022-04-03T10:01:42.925Z"
      },
      {
        "duration": 131,
        "start_time": "2022-04-03T10:01:42.983Z"
      },
      {
        "duration": 0,
        "start_time": "2022-04-03T10:01:43.117Z"
      },
      {
        "duration": 0,
        "start_time": "2022-04-03T10:01:43.118Z"
      },
      {
        "duration": 5,
        "start_time": "2022-04-03T10:02:10.337Z"
      },
      {
        "duration": 23,
        "start_time": "2022-04-03T10:02:13.165Z"
      },
      {
        "duration": 3,
        "start_time": "2022-04-03T10:03:45.410Z"
      },
      {
        "duration": 446,
        "start_time": "2022-04-03T10:03:45.415Z"
      },
      {
        "duration": 39,
        "start_time": "2022-04-03T10:03:45.863Z"
      },
      {
        "duration": 94,
        "start_time": "2022-04-03T10:03:45.905Z"
      },
      {
        "duration": 7,
        "start_time": "2022-04-03T10:03:46.002Z"
      },
      {
        "duration": 38,
        "start_time": "2022-04-03T10:03:46.010Z"
      },
      {
        "duration": 8,
        "start_time": "2022-04-03T10:03:46.051Z"
      },
      {
        "duration": 29,
        "start_time": "2022-04-03T10:03:46.061Z"
      },
      {
        "duration": 17,
        "start_time": "2022-04-03T10:03:46.092Z"
      },
      {
        "duration": 33,
        "start_time": "2022-04-03T10:03:46.110Z"
      },
      {
        "duration": 18,
        "start_time": "2022-04-03T10:03:46.145Z"
      },
      {
        "duration": 123,
        "start_time": "2022-04-03T10:03:46.165Z"
      },
      {
        "duration": 73,
        "start_time": "2022-04-03T10:03:46.290Z"
      },
      {
        "duration": 57,
        "start_time": "2022-04-03T10:03:46.367Z"
      },
      {
        "duration": 11,
        "start_time": "2022-04-03T10:03:46.439Z"
      },
      {
        "duration": 93,
        "start_time": "2022-04-03T10:03:46.452Z"
      },
      {
        "duration": 55,
        "start_time": "2022-04-03T10:03:46.548Z"
      },
      {
        "duration": 4,
        "start_time": "2022-04-03T10:03:46.605Z"
      },
      {
        "duration": 74,
        "start_time": "2022-04-03T10:03:46.611Z"
      },
      {
        "duration": 53,
        "start_time": "2022-04-03T10:03:46.687Z"
      },
      {
        "duration": 54,
        "start_time": "2022-04-03T10:03:46.742Z"
      },
      {
        "duration": 64,
        "start_time": "2022-04-03T10:03:46.798Z"
      },
      {
        "duration": 3,
        "start_time": "2022-04-03T10:03:46.864Z"
      },
      {
        "duration": 26,
        "start_time": "2022-04-03T10:03:46.869Z"
      },
      {
        "duration": 124,
        "start_time": "2022-04-03T10:03:46.897Z"
      },
      {
        "duration": 0,
        "start_time": "2022-04-03T10:03:47.023Z"
      },
      {
        "duration": 0,
        "start_time": "2022-04-03T10:03:47.024Z"
      },
      {
        "duration": 3,
        "start_time": "2022-04-03T10:04:22.474Z"
      },
      {
        "duration": 424,
        "start_time": "2022-04-03T10:04:22.479Z"
      },
      {
        "duration": 57,
        "start_time": "2022-04-03T10:04:22.905Z"
      },
      {
        "duration": 96,
        "start_time": "2022-04-03T10:04:22.963Z"
      },
      {
        "duration": 7,
        "start_time": "2022-04-03T10:04:23.062Z"
      },
      {
        "duration": 37,
        "start_time": "2022-04-03T10:04:23.070Z"
      },
      {
        "duration": 6,
        "start_time": "2022-04-03T10:04:23.109Z"
      },
      {
        "duration": 36,
        "start_time": "2022-04-03T10:04:23.117Z"
      },
      {
        "duration": 18,
        "start_time": "2022-04-03T10:04:23.155Z"
      },
      {
        "duration": 9,
        "start_time": "2022-04-03T10:04:23.175Z"
      },
      {
        "duration": 21,
        "start_time": "2022-04-03T10:04:23.185Z"
      },
      {
        "duration": 126,
        "start_time": "2022-04-03T10:04:23.208Z"
      },
      {
        "duration": 69,
        "start_time": "2022-04-03T10:04:23.340Z"
      },
      {
        "duration": 71,
        "start_time": "2022-04-03T10:04:23.411Z"
      },
      {
        "duration": 6,
        "start_time": "2022-04-03T10:04:23.484Z"
      },
      {
        "duration": 99,
        "start_time": "2022-04-03T10:04:23.491Z"
      },
      {
        "duration": 60,
        "start_time": "2022-04-03T10:04:23.592Z"
      },
      {
        "duration": 5,
        "start_time": "2022-04-03T10:04:23.654Z"
      },
      {
        "duration": 58,
        "start_time": "2022-04-03T10:04:23.661Z"
      },
      {
        "duration": 61,
        "start_time": "2022-04-03T10:04:23.721Z"
      },
      {
        "duration": 63,
        "start_time": "2022-04-03T10:04:23.784Z"
      },
      {
        "duration": 44,
        "start_time": "2022-04-03T10:04:23.849Z"
      },
      {
        "duration": 106,
        "start_time": "2022-04-03T10:04:23.895Z"
      },
      {
        "duration": 0,
        "start_time": "2022-04-03T10:04:24.003Z"
      },
      {
        "duration": 0,
        "start_time": "2022-04-03T10:04:24.005Z"
      },
      {
        "duration": 66,
        "start_time": "2022-04-03T13:50:14.280Z"
      },
      {
        "duration": 8,
        "start_time": "2022-04-03T13:50:49.495Z"
      },
      {
        "duration": 1586,
        "start_time": "2022-04-03T13:50:57.336Z"
      },
      {
        "duration": 501,
        "start_time": "2022-04-03T13:50:58.925Z"
      },
      {
        "duration": 71,
        "start_time": "2022-04-03T13:50:59.428Z"
      },
      {
        "duration": 115,
        "start_time": "2022-04-03T13:50:59.502Z"
      },
      {
        "duration": 8,
        "start_time": "2022-04-03T13:50:59.620Z"
      },
      {
        "duration": 43,
        "start_time": "2022-04-03T13:50:59.631Z"
      },
      {
        "duration": 8,
        "start_time": "2022-04-03T13:50:59.677Z"
      },
      {
        "duration": 24,
        "start_time": "2022-04-03T13:50:59.687Z"
      },
      {
        "duration": 19,
        "start_time": "2022-04-03T13:50:59.713Z"
      },
      {
        "duration": 9,
        "start_time": "2022-04-03T13:50:59.768Z"
      },
      {
        "duration": 7,
        "start_time": "2022-04-03T13:50:59.779Z"
      },
      {
        "duration": 166,
        "start_time": "2022-04-03T13:50:59.788Z"
      },
      {
        "duration": 134,
        "start_time": "2022-04-03T13:50:59.956Z"
      },
      {
        "duration": 77,
        "start_time": "2022-04-03T13:51:00.092Z"
      },
      {
        "duration": 8,
        "start_time": "2022-04-03T13:51:00.171Z"
      },
      {
        "duration": 120,
        "start_time": "2022-04-03T13:51:00.181Z"
      },
      {
        "duration": 83,
        "start_time": "2022-04-03T13:51:00.303Z"
      },
      {
        "duration": 6,
        "start_time": "2022-04-03T13:51:00.388Z"
      },
      {
        "duration": 88,
        "start_time": "2022-04-03T13:51:00.396Z"
      },
      {
        "duration": 63,
        "start_time": "2022-04-03T13:51:00.486Z"
      },
      {
        "duration": 66,
        "start_time": "2022-04-03T13:51:00.568Z"
      },
      {
        "duration": 82,
        "start_time": "2022-04-03T13:51:00.636Z"
      },
      {
        "duration": 47,
        "start_time": "2022-04-03T13:51:00.720Z"
      },
      {
        "duration": 26,
        "start_time": "2022-04-03T13:51:00.769Z"
      },
      {
        "duration": 40,
        "start_time": "2022-04-03T16:15:24.195Z"
      },
      {
        "duration": 53,
        "start_time": "2022-04-03T16:23:22.768Z"
      },
      {
        "duration": 174,
        "start_time": "2022-04-03T16:24:13.857Z"
      },
      {
        "duration": 5,
        "start_time": "2022-04-03T16:27:31.099Z"
      },
      {
        "duration": 60,
        "start_time": "2022-04-03T16:28:25.002Z"
      },
      {
        "duration": 61,
        "start_time": "2022-04-03T16:28:32.891Z"
      },
      {
        "duration": 57,
        "start_time": "2022-04-03T16:28:37.388Z"
      },
      {
        "duration": 59,
        "start_time": "2022-04-03T16:28:44.380Z"
      },
      {
        "duration": 6,
        "start_time": "2022-04-03T16:30:49.176Z"
      },
      {
        "duration": 41,
        "start_time": "2022-04-03T16:30:51.241Z"
      },
      {
        "duration": 11,
        "start_time": "2022-04-03T16:32:52.080Z"
      },
      {
        "duration": 12,
        "start_time": "2022-04-03T16:35:47.446Z"
      },
      {
        "duration": 8,
        "start_time": "2022-04-03T16:35:50.803Z"
      },
      {
        "duration": 8,
        "start_time": "2022-04-03T16:35:52.457Z"
      },
      {
        "duration": 19,
        "start_time": "2022-04-03T16:39:06.013Z"
      },
      {
        "duration": 41,
        "start_time": "2022-04-03T16:40:48.391Z"
      },
      {
        "duration": 12,
        "start_time": "2022-04-03T16:41:07.757Z"
      },
      {
        "duration": 5,
        "start_time": "2022-04-03T16:42:03.115Z"
      },
      {
        "duration": 486,
        "start_time": "2022-04-03T16:42:03.122Z"
      },
      {
        "duration": 76,
        "start_time": "2022-04-03T16:42:03.610Z"
      },
      {
        "duration": 114,
        "start_time": "2022-04-03T16:42:03.688Z"
      },
      {
        "duration": 9,
        "start_time": "2022-04-03T16:42:03.804Z"
      },
      {
        "duration": 53,
        "start_time": "2022-04-03T16:42:03.815Z"
      },
      {
        "duration": 8,
        "start_time": "2022-04-03T16:42:03.870Z"
      },
      {
        "duration": 24,
        "start_time": "2022-04-03T16:42:03.880Z"
      },
      {
        "duration": 21,
        "start_time": "2022-04-03T16:42:03.908Z"
      },
      {
        "duration": 37,
        "start_time": "2022-04-03T16:42:03.932Z"
      },
      {
        "duration": 10,
        "start_time": "2022-04-03T16:42:03.971Z"
      },
      {
        "duration": 141,
        "start_time": "2022-04-03T16:42:03.983Z"
      },
      {
        "duration": 109,
        "start_time": "2022-04-03T16:42:04.126Z"
      },
      {
        "duration": 73,
        "start_time": "2022-04-03T16:42:04.238Z"
      },
      {
        "duration": 8,
        "start_time": "2022-04-03T16:42:04.313Z"
      },
      {
        "duration": 117,
        "start_time": "2022-04-03T16:42:04.323Z"
      },
      {
        "duration": 75,
        "start_time": "2022-04-03T16:42:04.442Z"
      },
      {
        "duration": 5,
        "start_time": "2022-04-03T16:42:04.520Z"
      },
      {
        "duration": 86,
        "start_time": "2022-04-03T16:42:04.527Z"
      },
      {
        "duration": 73,
        "start_time": "2022-04-03T16:42:04.615Z"
      },
      {
        "duration": 61,
        "start_time": "2022-04-03T16:42:04.690Z"
      },
      {
        "duration": 73,
        "start_time": "2022-04-03T16:42:04.753Z"
      },
      {
        "duration": 3,
        "start_time": "2022-04-03T16:42:04.828Z"
      },
      {
        "duration": 4,
        "start_time": "2022-04-03T16:42:04.835Z"
      },
      {
        "duration": 3,
        "start_time": "2022-04-03T16:42:04.868Z"
      },
      {
        "duration": 40,
        "start_time": "2022-04-03T16:42:04.873Z"
      },
      {
        "duration": 58,
        "start_time": "2022-04-03T16:42:04.915Z"
      },
      {
        "duration": 26,
        "start_time": "2022-04-03T16:42:04.975Z"
      },
      {
        "duration": 4,
        "start_time": "2022-04-03T16:47:10.364Z"
      },
      {
        "duration": 476,
        "start_time": "2022-04-03T16:47:10.371Z"
      },
      {
        "duration": 66,
        "start_time": "2022-04-03T16:47:10.850Z"
      },
      {
        "duration": 125,
        "start_time": "2022-04-03T16:47:10.918Z"
      },
      {
        "duration": 23,
        "start_time": "2022-04-03T16:47:11.047Z"
      },
      {
        "duration": 29,
        "start_time": "2022-04-03T16:47:11.073Z"
      },
      {
        "duration": 9,
        "start_time": "2022-04-03T16:47:11.105Z"
      },
      {
        "duration": 59,
        "start_time": "2022-04-03T16:47:11.116Z"
      },
      {
        "duration": 20,
        "start_time": "2022-04-03T16:47:11.177Z"
      },
      {
        "duration": 10,
        "start_time": "2022-04-03T16:47:11.199Z"
      },
      {
        "duration": 8,
        "start_time": "2022-04-03T16:47:11.215Z"
      },
      {
        "duration": 132,
        "start_time": "2022-04-03T16:47:11.267Z"
      },
      {
        "duration": 102,
        "start_time": "2022-04-03T16:47:11.402Z"
      },
      {
        "duration": 73,
        "start_time": "2022-04-03T16:47:11.507Z"
      },
      {
        "duration": 9,
        "start_time": "2022-04-03T16:47:11.582Z"
      },
      {
        "duration": 120,
        "start_time": "2022-04-03T16:47:11.593Z"
      },
      {
        "duration": 78,
        "start_time": "2022-04-03T16:47:11.716Z"
      },
      {
        "duration": 5,
        "start_time": "2022-04-03T16:47:11.796Z"
      },
      {
        "duration": 84,
        "start_time": "2022-04-03T16:47:11.803Z"
      },
      {
        "duration": 57,
        "start_time": "2022-04-03T16:47:11.889Z"
      },
      {
        "duration": 80,
        "start_time": "2022-04-03T16:47:11.948Z"
      },
      {
        "duration": 76,
        "start_time": "2022-04-03T16:47:12.030Z"
      },
      {
        "duration": 19,
        "start_time": "2022-04-03T16:47:12.108Z"
      },
      {
        "duration": 0,
        "start_time": "2022-04-03T16:47:12.130Z"
      },
      {
        "duration": 0,
        "start_time": "2022-04-03T16:47:12.132Z"
      },
      {
        "duration": 0,
        "start_time": "2022-04-03T16:47:12.134Z"
      },
      {
        "duration": 0,
        "start_time": "2022-04-03T16:47:12.135Z"
      },
      {
        "duration": 0,
        "start_time": "2022-04-03T16:47:12.168Z"
      },
      {
        "duration": 0,
        "start_time": "2022-04-03T16:47:12.169Z"
      },
      {
        "duration": 4,
        "start_time": "2022-04-03T18:22:33.142Z"
      },
      {
        "duration": 452,
        "start_time": "2022-04-03T18:22:33.149Z"
      },
      {
        "duration": 74,
        "start_time": "2022-04-03T18:22:33.603Z"
      },
      {
        "duration": 111,
        "start_time": "2022-04-03T18:22:33.679Z"
      },
      {
        "duration": 8,
        "start_time": "2022-04-03T18:22:33.793Z"
      },
      {
        "duration": 28,
        "start_time": "2022-04-03T18:22:33.803Z"
      },
      {
        "duration": 33,
        "start_time": "2022-04-03T18:22:33.834Z"
      },
      {
        "duration": 22,
        "start_time": "2022-04-03T18:22:33.870Z"
      },
      {
        "duration": 18,
        "start_time": "2022-04-03T18:22:33.894Z"
      },
      {
        "duration": 8,
        "start_time": "2022-04-03T18:22:33.915Z"
      },
      {
        "duration": 44,
        "start_time": "2022-04-03T18:22:33.925Z"
      },
      {
        "duration": 148,
        "start_time": "2022-04-03T18:22:33.971Z"
      },
      {
        "duration": 115,
        "start_time": "2022-04-03T18:22:34.121Z"
      },
      {
        "duration": 73,
        "start_time": "2022-04-03T18:22:34.240Z"
      },
      {
        "duration": 9,
        "start_time": "2022-04-03T18:22:34.315Z"
      },
      {
        "duration": 112,
        "start_time": "2022-04-03T18:22:34.326Z"
      },
      {
        "duration": 76,
        "start_time": "2022-04-03T18:22:34.440Z"
      },
      {
        "duration": 5,
        "start_time": "2022-04-03T18:22:34.518Z"
      },
      {
        "duration": 44,
        "start_time": "2022-04-03T18:22:34.525Z"
      },
      {
        "duration": 0,
        "start_time": "2022-04-03T18:22:34.571Z"
      },
      {
        "duration": 0,
        "start_time": "2022-04-03T18:22:34.573Z"
      },
      {
        "duration": 0,
        "start_time": "2022-04-03T18:22:34.574Z"
      },
      {
        "duration": 0,
        "start_time": "2022-04-03T18:22:34.576Z"
      },
      {
        "duration": 0,
        "start_time": "2022-04-03T18:22:34.577Z"
      },
      {
        "duration": 0,
        "start_time": "2022-04-03T18:22:34.579Z"
      },
      {
        "duration": 0,
        "start_time": "2022-04-03T18:22:34.580Z"
      },
      {
        "duration": 0,
        "start_time": "2022-04-03T18:22:34.582Z"
      },
      {
        "duration": 0,
        "start_time": "2022-04-03T18:22:34.584Z"
      },
      {
        "duration": 0,
        "start_time": "2022-04-03T18:22:34.586Z"
      },
      {
        "duration": 11,
        "start_time": "2022-04-03T18:22:58.281Z"
      },
      {
        "duration": 18,
        "start_time": "2022-04-03T18:23:02.103Z"
      },
      {
        "duration": 4,
        "start_time": "2022-04-03T18:23:14.991Z"
      },
      {
        "duration": 482,
        "start_time": "2022-04-03T18:23:14.998Z"
      },
      {
        "duration": 63,
        "start_time": "2022-04-03T18:23:15.482Z"
      },
      {
        "duration": 131,
        "start_time": "2022-04-03T18:23:15.547Z"
      },
      {
        "duration": 8,
        "start_time": "2022-04-03T18:23:15.681Z"
      },
      {
        "duration": 30,
        "start_time": "2022-04-03T18:23:15.691Z"
      },
      {
        "duration": 14,
        "start_time": "2022-04-03T18:23:15.723Z"
      },
      {
        "duration": 48,
        "start_time": "2022-04-03T18:23:15.739Z"
      },
      {
        "duration": 21,
        "start_time": "2022-04-03T18:23:15.790Z"
      },
      {
        "duration": 10,
        "start_time": "2022-04-03T18:23:15.814Z"
      },
      {
        "duration": 46,
        "start_time": "2022-04-03T18:23:15.827Z"
      },
      {
        "duration": 151,
        "start_time": "2022-04-03T18:23:15.876Z"
      },
      {
        "duration": 116,
        "start_time": "2022-04-03T18:23:16.029Z"
      },
      {
        "duration": 65,
        "start_time": "2022-04-03T18:23:16.151Z"
      },
      {
        "duration": 9,
        "start_time": "2022-04-03T18:23:16.218Z"
      },
      {
        "duration": 137,
        "start_time": "2022-04-03T18:23:16.230Z"
      },
      {
        "duration": 70,
        "start_time": "2022-04-03T18:23:16.370Z"
      },
      {
        "duration": 5,
        "start_time": "2022-04-03T18:23:16.442Z"
      },
      {
        "duration": 24,
        "start_time": "2022-04-03T18:23:16.468Z"
      },
      {
        "duration": 0,
        "start_time": "2022-04-03T18:23:16.494Z"
      },
      {
        "duration": 0,
        "start_time": "2022-04-03T18:23:16.496Z"
      },
      {
        "duration": 1,
        "start_time": "2022-04-03T18:23:16.497Z"
      },
      {
        "duration": 0,
        "start_time": "2022-04-03T18:23:16.499Z"
      },
      {
        "duration": 0,
        "start_time": "2022-04-03T18:23:16.501Z"
      },
      {
        "duration": 0,
        "start_time": "2022-04-03T18:23:16.503Z"
      },
      {
        "duration": 0,
        "start_time": "2022-04-03T18:23:16.504Z"
      },
      {
        "duration": 0,
        "start_time": "2022-04-03T18:23:16.505Z"
      },
      {
        "duration": 0,
        "start_time": "2022-04-03T18:23:16.507Z"
      },
      {
        "duration": 0,
        "start_time": "2022-04-03T18:23:16.509Z"
      },
      {
        "duration": 0,
        "start_time": "2022-04-03T18:23:16.510Z"
      },
      {
        "duration": 10,
        "start_time": "2022-04-03T18:23:24.689Z"
      },
      {
        "duration": 4,
        "start_time": "2022-04-03T18:25:10.045Z"
      },
      {
        "duration": 449,
        "start_time": "2022-04-03T18:25:10.052Z"
      },
      {
        "duration": 83,
        "start_time": "2022-04-03T18:25:10.504Z"
      },
      {
        "duration": 114,
        "start_time": "2022-04-03T18:25:10.590Z"
      },
      {
        "duration": 9,
        "start_time": "2022-04-03T18:25:10.706Z"
      },
      {
        "duration": 27,
        "start_time": "2022-04-03T18:25:10.717Z"
      },
      {
        "duration": 30,
        "start_time": "2022-04-03T18:25:10.746Z"
      },
      {
        "duration": 27,
        "start_time": "2022-04-03T18:25:10.779Z"
      },
      {
        "duration": 20,
        "start_time": "2022-04-03T18:25:10.809Z"
      },
      {
        "duration": 9,
        "start_time": "2022-04-03T18:25:10.867Z"
      },
      {
        "duration": 7,
        "start_time": "2022-04-03T18:25:10.879Z"
      },
      {
        "duration": 152,
        "start_time": "2022-04-03T18:25:10.888Z"
      },
      {
        "duration": 119,
        "start_time": "2022-04-03T18:25:11.042Z"
      },
      {
        "duration": 65,
        "start_time": "2022-04-03T18:25:11.162Z"
      },
      {
        "duration": 9,
        "start_time": "2022-04-03T18:25:11.229Z"
      },
      {
        "duration": 108,
        "start_time": "2022-04-03T18:25:11.268Z"
      },
      {
        "duration": 69,
        "start_time": "2022-04-03T18:25:11.379Z"
      },
      {
        "duration": 18,
        "start_time": "2022-04-03T18:25:11.451Z"
      },
      {
        "duration": 64,
        "start_time": "2022-04-03T18:25:11.471Z"
      },
      {
        "duration": 75,
        "start_time": "2022-04-03T18:25:11.538Z"
      },
      {
        "duration": 72,
        "start_time": "2022-04-03T18:25:11.615Z"
      },
      {
        "duration": 58,
        "start_time": "2022-04-03T18:25:11.689Z"
      },
      {
        "duration": 18,
        "start_time": "2022-04-03T18:25:11.767Z"
      },
      {
        "duration": 0,
        "start_time": "2022-04-03T18:25:11.787Z"
      },
      {
        "duration": 0,
        "start_time": "2022-04-03T18:25:11.789Z"
      },
      {
        "duration": 0,
        "start_time": "2022-04-03T18:25:11.791Z"
      },
      {
        "duration": 0,
        "start_time": "2022-04-03T18:25:11.792Z"
      },
      {
        "duration": 1,
        "start_time": "2022-04-03T18:25:11.793Z"
      },
      {
        "duration": 0,
        "start_time": "2022-04-03T18:25:11.795Z"
      },
      {
        "duration": 0,
        "start_time": "2022-04-03T18:25:11.796Z"
      },
      {
        "duration": 10,
        "start_time": "2022-04-03T18:25:36.307Z"
      },
      {
        "duration": 19,
        "start_time": "2022-04-03T18:25:39.307Z"
      },
      {
        "duration": 37,
        "start_time": "2022-04-03T18:29:21.952Z"
      },
      {
        "duration": 33,
        "start_time": "2022-04-03T18:29:31.758Z"
      },
      {
        "duration": 11,
        "start_time": "2022-04-03T18:30:43.760Z"
      },
      {
        "duration": 47,
        "start_time": "2022-04-03T18:30:46.646Z"
      },
      {
        "duration": 5,
        "start_time": "2022-04-03T18:32:01.884Z"
      },
      {
        "duration": 458,
        "start_time": "2022-04-03T18:32:01.892Z"
      },
      {
        "duration": 68,
        "start_time": "2022-04-03T18:32:02.352Z"
      },
      {
        "duration": 123,
        "start_time": "2022-04-03T18:32:02.422Z"
      },
      {
        "duration": 23,
        "start_time": "2022-04-03T18:32:02.551Z"
      },
      {
        "duration": 30,
        "start_time": "2022-04-03T18:32:02.577Z"
      },
      {
        "duration": 9,
        "start_time": "2022-04-03T18:32:02.610Z"
      },
      {
        "duration": 62,
        "start_time": "2022-04-03T18:32:02.622Z"
      },
      {
        "duration": 21,
        "start_time": "2022-04-03T18:32:02.687Z"
      },
      {
        "duration": 9,
        "start_time": "2022-04-03T18:32:02.711Z"
      },
      {
        "duration": 7,
        "start_time": "2022-04-03T18:32:02.722Z"
      },
      {
        "duration": 142,
        "start_time": "2022-04-03T18:32:02.768Z"
      },
      {
        "duration": 108,
        "start_time": "2022-04-03T18:32:02.913Z"
      },
      {
        "duration": 79,
        "start_time": "2022-04-03T18:32:03.025Z"
      },
      {
        "duration": 9,
        "start_time": "2022-04-03T18:32:03.107Z"
      },
      {
        "duration": 121,
        "start_time": "2022-04-03T18:32:03.118Z"
      },
      {
        "duration": 77,
        "start_time": "2022-04-03T18:32:03.241Z"
      },
      {
        "duration": 6,
        "start_time": "2022-04-03T18:32:03.320Z"
      },
      {
        "duration": 75,
        "start_time": "2022-04-03T18:32:03.328Z"
      },
      {
        "duration": 69,
        "start_time": "2022-04-03T18:32:03.405Z"
      },
      {
        "duration": 62,
        "start_time": "2022-04-03T18:32:03.477Z"
      },
      {
        "duration": 81,
        "start_time": "2022-04-03T18:32:03.541Z"
      },
      {
        "duration": 56,
        "start_time": "2022-04-03T18:32:03.625Z"
      },
      {
        "duration": 34,
        "start_time": "2022-04-03T18:32:03.683Z"
      },
      {
        "duration": 9,
        "start_time": "2022-04-03T18:32:03.719Z"
      },
      {
        "duration": 73,
        "start_time": "2022-04-03T18:32:03.731Z"
      },
      {
        "duration": 3,
        "start_time": "2022-04-03T18:32:03.806Z"
      },
      {
        "duration": 4,
        "start_time": "2022-04-03T18:32:03.812Z"
      },
      {
        "duration": 5,
        "start_time": "2022-04-03T18:32:03.819Z"
      },
      {
        "duration": 60,
        "start_time": "2022-04-03T18:32:03.827Z"
      },
      {
        "duration": 32,
        "start_time": "2022-04-03T18:32:03.889Z"
      },
      {
        "duration": 49,
        "start_time": "2022-04-03T18:32:03.924Z"
      },
      {
        "duration": 18,
        "start_time": "2022-04-03T18:32:25.737Z"
      },
      {
        "duration": 5,
        "start_time": "2022-04-03T18:32:32.012Z"
      },
      {
        "duration": 453,
        "start_time": "2022-04-03T18:32:32.019Z"
      },
      {
        "duration": 60,
        "start_time": "2022-04-03T18:32:32.474Z"
      },
      {
        "duration": 114,
        "start_time": "2022-04-03T18:32:32.536Z"
      },
      {
        "duration": 8,
        "start_time": "2022-04-03T18:32:32.668Z"
      },
      {
        "duration": 26,
        "start_time": "2022-04-03T18:32:32.678Z"
      },
      {
        "duration": 7,
        "start_time": "2022-04-03T18:32:32.707Z"
      },
      {
        "duration": 53,
        "start_time": "2022-04-03T18:32:32.716Z"
      },
      {
        "duration": 18,
        "start_time": "2022-04-03T18:32:32.771Z"
      },
      {
        "duration": 8,
        "start_time": "2022-04-03T18:32:32.792Z"
      },
      {
        "duration": 7,
        "start_time": "2022-04-03T18:32:32.802Z"
      },
      {
        "duration": 152,
        "start_time": "2022-04-03T18:32:32.811Z"
      },
      {
        "duration": 105,
        "start_time": "2022-04-03T18:32:32.970Z"
      },
      {
        "duration": 66,
        "start_time": "2022-04-03T18:32:33.077Z"
      },
      {
        "duration": 25,
        "start_time": "2022-04-03T18:32:33.146Z"
      },
      {
        "duration": 113,
        "start_time": "2022-04-03T18:32:33.174Z"
      },
      {
        "duration": 77,
        "start_time": "2022-04-03T18:32:33.290Z"
      },
      {
        "duration": 5,
        "start_time": "2022-04-03T18:32:33.370Z"
      },
      {
        "duration": 58,
        "start_time": "2022-04-03T18:32:33.377Z"
      },
      {
        "duration": 82,
        "start_time": "2022-04-03T18:32:33.437Z"
      },
      {
        "duration": 85,
        "start_time": "2022-04-03T18:32:33.521Z"
      },
      {
        "duration": 70,
        "start_time": "2022-04-03T18:32:33.608Z"
      },
      {
        "duration": 33,
        "start_time": "2022-04-03T18:32:33.680Z"
      },
      {
        "duration": 56,
        "start_time": "2022-04-03T18:32:33.715Z"
      },
      {
        "duration": 18,
        "start_time": "2022-04-03T18:32:33.773Z"
      },
      {
        "duration": 0,
        "start_time": "2022-04-03T18:32:33.793Z"
      },
      {
        "duration": 0,
        "start_time": "2022-04-03T18:32:33.795Z"
      },
      {
        "duration": 0,
        "start_time": "2022-04-03T18:32:33.796Z"
      },
      {
        "duration": 0,
        "start_time": "2022-04-03T18:32:33.798Z"
      },
      {
        "duration": 0,
        "start_time": "2022-04-03T18:32:33.799Z"
      },
      {
        "duration": 0,
        "start_time": "2022-04-03T18:32:33.801Z"
      },
      {
        "duration": 0,
        "start_time": "2022-04-03T18:32:33.802Z"
      },
      {
        "duration": 10,
        "start_time": "2022-04-03T18:33:07.129Z"
      },
      {
        "duration": 45,
        "start_time": "2022-04-03T18:33:08.904Z"
      },
      {
        "duration": 18,
        "start_time": "2022-04-03T18:36:18.749Z"
      },
      {
        "duration": 9,
        "start_time": "2022-04-03T18:37:04.528Z"
      },
      {
        "duration": 43,
        "start_time": "2022-04-03T18:37:08.638Z"
      },
      {
        "duration": 11,
        "start_time": "2022-04-03T18:42:48.018Z"
      },
      {
        "duration": 46,
        "start_time": "2022-04-03T18:42:49.409Z"
      },
      {
        "duration": 35,
        "start_time": "2022-04-03T18:48:45.270Z"
      },
      {
        "duration": 34,
        "start_time": "2022-04-03T18:49:16.094Z"
      },
      {
        "duration": 783,
        "start_time": "2022-04-03T18:50:36.225Z"
      },
      {
        "duration": 10,
        "start_time": "2022-04-03T18:51:38.345Z"
      },
      {
        "duration": 751,
        "start_time": "2022-04-03T18:51:40.208Z"
      },
      {
        "duration": 740,
        "start_time": "2022-04-03T18:51:56.956Z"
      },
      {
        "duration": 49,
        "start_time": "2022-04-04T08:30:55.269Z"
      },
      {
        "duration": 7,
        "start_time": "2022-04-04T08:30:59.556Z"
      },
      {
        "duration": 1231,
        "start_time": "2022-04-04T08:31:07.679Z"
      },
      {
        "duration": 442,
        "start_time": "2022-04-04T08:31:08.912Z"
      },
      {
        "duration": 58,
        "start_time": "2022-04-04T08:31:09.356Z"
      },
      {
        "duration": 75,
        "start_time": "2022-04-04T08:31:09.417Z"
      },
      {
        "duration": 7,
        "start_time": "2022-04-04T08:31:09.509Z"
      },
      {
        "duration": 23,
        "start_time": "2022-04-04T08:31:09.518Z"
      },
      {
        "duration": 6,
        "start_time": "2022-04-04T08:31:09.543Z"
      },
      {
        "duration": 19,
        "start_time": "2022-04-04T08:31:09.551Z"
      },
      {
        "duration": 51,
        "start_time": "2022-04-04T08:31:09.571Z"
      },
      {
        "duration": 6,
        "start_time": "2022-04-04T08:31:09.626Z"
      },
      {
        "duration": 6,
        "start_time": "2022-04-04T08:31:09.634Z"
      },
      {
        "duration": 143,
        "start_time": "2022-04-04T08:31:09.642Z"
      },
      {
        "duration": 93,
        "start_time": "2022-04-04T08:31:09.787Z"
      },
      {
        "duration": 65,
        "start_time": "2022-04-04T08:31:09.882Z"
      },
      {
        "duration": 6,
        "start_time": "2022-04-04T08:31:09.949Z"
      },
      {
        "duration": 101,
        "start_time": "2022-04-04T08:31:09.956Z"
      },
      {
        "duration": 67,
        "start_time": "2022-04-04T08:31:10.058Z"
      },
      {
        "duration": 5,
        "start_time": "2022-04-04T08:31:10.127Z"
      },
      {
        "duration": 54,
        "start_time": "2022-04-04T08:31:10.134Z"
      },
      {
        "duration": 68,
        "start_time": "2022-04-04T08:31:10.190Z"
      },
      {
        "duration": 69,
        "start_time": "2022-04-04T08:31:10.260Z"
      },
      {
        "duration": 43,
        "start_time": "2022-04-04T08:31:10.331Z"
      },
      {
        "duration": 42,
        "start_time": "2022-04-04T08:31:10.376Z"
      },
      {
        "duration": 28,
        "start_time": "2022-04-04T08:31:10.420Z"
      },
      {
        "duration": 12,
        "start_time": "2022-04-04T08:31:10.449Z"
      },
      {
        "duration": 58,
        "start_time": "2022-04-04T08:31:10.463Z"
      },
      {
        "duration": 31,
        "start_time": "2022-04-04T08:31:10.523Z"
      },
      {
        "duration": 23,
        "start_time": "2022-04-04T08:31:10.557Z"
      },
      {
        "duration": 45,
        "start_time": "2022-04-04T08:31:10.582Z"
      },
      {
        "duration": 4,
        "start_time": "2022-04-04T08:31:10.628Z"
      },
      {
        "duration": 6,
        "start_time": "2022-04-04T08:31:10.634Z"
      },
      {
        "duration": 11,
        "start_time": "2022-04-04T08:31:10.642Z"
      },
      {
        "duration": 29,
        "start_time": "2022-04-04T08:31:10.654Z"
      },
      {
        "duration": 40,
        "start_time": "2022-04-04T08:31:10.685Z"
      },
      {
        "duration": 23,
        "start_time": "2022-04-04T08:31:10.727Z"
      },
      {
        "duration": 77,
        "start_time": "2022-04-04T08:33:09.558Z"
      },
      {
        "duration": 33,
        "start_time": "2022-04-04T08:33:34.689Z"
      },
      {
        "duration": 2,
        "start_time": "2022-04-04T09:01:39.256Z"
      },
      {
        "duration": 33,
        "start_time": "2022-04-04T09:01:41.194Z"
      },
      {
        "duration": 51,
        "start_time": "2022-04-04T09:01:46.592Z"
      },
      {
        "duration": 11,
        "start_time": "2022-04-04T09:02:58.654Z"
      },
      {
        "duration": 11,
        "start_time": "2022-04-04T09:03:15.793Z"
      },
      {
        "duration": 49,
        "start_time": "2022-04-04T09:03:19.002Z"
      },
      {
        "duration": 11,
        "start_time": "2022-04-04T09:03:31.626Z"
      },
      {
        "duration": 46,
        "start_time": "2022-04-04T09:03:35.478Z"
      },
      {
        "duration": 10,
        "start_time": "2022-04-04T09:04:26.954Z"
      },
      {
        "duration": 51,
        "start_time": "2022-04-04T09:04:30.892Z"
      },
      {
        "duration": 3,
        "start_time": "2022-04-04T09:05:10.464Z"
      },
      {
        "duration": 374,
        "start_time": "2022-04-04T09:05:10.469Z"
      },
      {
        "duration": 42,
        "start_time": "2022-04-04T09:05:10.845Z"
      },
      {
        "duration": 88,
        "start_time": "2022-04-04T09:05:10.889Z"
      },
      {
        "duration": 6,
        "start_time": "2022-04-04T09:05:10.979Z"
      },
      {
        "duration": 42,
        "start_time": "2022-04-04T09:05:10.987Z"
      },
      {
        "duration": 7,
        "start_time": "2022-04-04T09:05:11.031Z"
      },
      {
        "duration": 21,
        "start_time": "2022-04-04T09:05:11.040Z"
      },
      {
        "duration": 45,
        "start_time": "2022-04-04T09:05:11.063Z"
      },
      {
        "duration": 6,
        "start_time": "2022-04-04T09:05:11.110Z"
      },
      {
        "duration": 6,
        "start_time": "2022-04-04T09:05:11.119Z"
      },
      {
        "duration": 127,
        "start_time": "2022-04-04T09:05:11.127Z"
      },
      {
        "duration": 75,
        "start_time": "2022-04-04T09:05:11.256Z"
      },
      {
        "duration": 45,
        "start_time": "2022-04-04T09:05:11.332Z"
      },
      {
        "duration": 6,
        "start_time": "2022-04-04T09:05:11.379Z"
      },
      {
        "duration": 88,
        "start_time": "2022-04-04T09:05:11.387Z"
      },
      {
        "duration": 64,
        "start_time": "2022-04-04T09:05:11.477Z"
      },
      {
        "duration": 5,
        "start_time": "2022-04-04T09:05:11.543Z"
      },
      {
        "duration": 64,
        "start_time": "2022-04-04T09:05:11.550Z"
      },
      {
        "duration": 47,
        "start_time": "2022-04-04T09:05:11.616Z"
      },
      {
        "duration": 67,
        "start_time": "2022-04-04T09:05:11.665Z"
      },
      {
        "duration": 43,
        "start_time": "2022-04-04T09:05:11.734Z"
      },
      {
        "duration": 43,
        "start_time": "2022-04-04T09:05:11.780Z"
      },
      {
        "duration": 22,
        "start_time": "2022-04-04T09:05:11.825Z"
      },
      {
        "duration": 12,
        "start_time": "2022-04-04T09:05:11.849Z"
      },
      {
        "duration": 3,
        "start_time": "2022-04-04T09:05:11.862Z"
      },
      {
        "duration": 62,
        "start_time": "2022-04-04T09:05:11.866Z"
      },
      {
        "duration": 50,
        "start_time": "2022-04-04T09:05:11.930Z"
      },
      {
        "duration": 27,
        "start_time": "2022-04-04T09:05:11.984Z"
      },
      {
        "duration": 0,
        "start_time": "2022-04-04T09:05:12.012Z"
      },
      {
        "duration": 0,
        "start_time": "2022-04-04T09:05:12.014Z"
      },
      {
        "duration": 1,
        "start_time": "2022-04-04T09:05:12.014Z"
      },
      {
        "duration": 0,
        "start_time": "2022-04-04T09:05:12.016Z"
      },
      {
        "duration": 0,
        "start_time": "2022-04-04T09:05:12.017Z"
      },
      {
        "duration": 0,
        "start_time": "2022-04-04T09:05:12.018Z"
      },
      {
        "duration": 0,
        "start_time": "2022-04-04T09:05:12.018Z"
      },
      {
        "duration": 10,
        "start_time": "2022-04-04T09:06:24.822Z"
      },
      {
        "duration": 48,
        "start_time": "2022-04-04T09:06:26.938Z"
      },
      {
        "duration": 11,
        "start_time": "2022-04-04T09:06:38.061Z"
      },
      {
        "duration": 49,
        "start_time": "2022-04-04T09:06:40.077Z"
      },
      {
        "duration": 20,
        "start_time": "2022-04-04T09:07:25.333Z"
      },
      {
        "duration": 27,
        "start_time": "2022-04-04T09:14:36.750Z"
      },
      {
        "duration": 29,
        "start_time": "2022-04-04T09:15:25.047Z"
      },
      {
        "duration": 32,
        "start_time": "2022-04-04T09:15:39.383Z"
      },
      {
        "duration": 30,
        "start_time": "2022-04-04T09:15:47.614Z"
      },
      {
        "duration": 1376,
        "start_time": "2022-04-04T09:16:08.519Z"
      },
      {
        "duration": 33,
        "start_time": "2022-04-04T09:17:33.249Z"
      },
      {
        "duration": 26,
        "start_time": "2022-04-04T09:17:44.817Z"
      },
      {
        "duration": 33,
        "start_time": "2022-04-04T09:17:47.984Z"
      },
      {
        "duration": 39,
        "start_time": "2022-04-04T09:18:57.573Z"
      },
      {
        "duration": 36,
        "start_time": "2022-04-04T09:19:17.585Z"
      },
      {
        "duration": 39,
        "start_time": "2022-04-04T09:20:12.266Z"
      },
      {
        "duration": 1207,
        "start_time": "2022-04-04T09:20:29.418Z"
      },
      {
        "duration": 1172,
        "start_time": "2022-04-04T09:20:36.779Z"
      },
      {
        "duration": 1076,
        "start_time": "2022-04-04T09:20:39.914Z"
      },
      {
        "duration": 38,
        "start_time": "2022-04-04T09:20:57.298Z"
      },
      {
        "duration": 28,
        "start_time": "2022-04-04T09:28:55.442Z"
      },
      {
        "duration": 44,
        "start_time": "2022-04-04T09:29:04.090Z"
      },
      {
        "duration": 33,
        "start_time": "2022-04-04T09:29:11.133Z"
      },
      {
        "duration": 31,
        "start_time": "2022-04-04T09:29:30.963Z"
      },
      {
        "duration": 31,
        "start_time": "2022-04-04T09:29:42.875Z"
      },
      {
        "duration": 3,
        "start_time": "2022-04-04T09:34:20.410Z"
      },
      {
        "duration": 357,
        "start_time": "2022-04-04T09:34:20.415Z"
      },
      {
        "duration": 45,
        "start_time": "2022-04-04T09:34:20.774Z"
      },
      {
        "duration": 68,
        "start_time": "2022-04-04T09:34:20.821Z"
      },
      {
        "duration": 23,
        "start_time": "2022-04-04T09:34:20.890Z"
      },
      {
        "duration": 25,
        "start_time": "2022-04-04T09:34:20.914Z"
      },
      {
        "duration": 5,
        "start_time": "2022-04-04T09:34:20.941Z"
      },
      {
        "duration": 18,
        "start_time": "2022-04-04T09:34:20.947Z"
      },
      {
        "duration": 14,
        "start_time": "2022-04-04T09:34:20.968Z"
      },
      {
        "duration": 7,
        "start_time": "2022-04-04T09:34:21.008Z"
      },
      {
        "duration": 5,
        "start_time": "2022-04-04T09:34:21.016Z"
      },
      {
        "duration": 102,
        "start_time": "2022-04-04T09:34:21.023Z"
      },
      {
        "duration": 52,
        "start_time": "2022-04-04T09:34:21.126Z"
      },
      {
        "duration": 53,
        "start_time": "2022-04-04T09:34:21.180Z"
      },
      {
        "duration": 5,
        "start_time": "2022-04-04T09:34:21.235Z"
      },
      {
        "duration": 83,
        "start_time": "2022-04-04T09:34:21.242Z"
      },
      {
        "duration": 52,
        "start_time": "2022-04-04T09:34:21.327Z"
      },
      {
        "duration": 4,
        "start_time": "2022-04-04T09:34:21.381Z"
      },
      {
        "duration": 44,
        "start_time": "2022-04-04T09:34:21.386Z"
      },
      {
        "duration": 30,
        "start_time": "2022-04-04T09:34:21.432Z"
      },
      {
        "duration": 47,
        "start_time": "2022-04-04T09:34:21.463Z"
      },
      {
        "duration": 26,
        "start_time": "2022-04-04T09:34:21.511Z"
      },
      {
        "duration": 2,
        "start_time": "2022-04-04T09:34:21.538Z"
      },
      {
        "duration": 22,
        "start_time": "2022-04-04T09:34:21.543Z"
      },
      {
        "duration": 5,
        "start_time": "2022-04-04T09:34:21.566Z"
      },
      {
        "duration": 4,
        "start_time": "2022-04-04T09:34:21.572Z"
      },
      {
        "duration": 4,
        "start_time": "2022-04-04T09:34:21.577Z"
      },
      {
        "duration": 48,
        "start_time": "2022-04-04T09:34:21.583Z"
      },
      {
        "duration": 22,
        "start_time": "2022-04-04T09:34:21.633Z"
      },
      {
        "duration": 2,
        "start_time": "2022-04-04T09:38:16.671Z"
      },
      {
        "duration": 378,
        "start_time": "2022-04-04T09:38:16.675Z"
      },
      {
        "duration": 42,
        "start_time": "2022-04-04T09:38:17.055Z"
      },
      {
        "duration": 78,
        "start_time": "2022-04-04T09:38:17.099Z"
      },
      {
        "duration": 6,
        "start_time": "2022-04-04T09:38:17.179Z"
      },
      {
        "duration": 38,
        "start_time": "2022-04-04T09:38:17.187Z"
      },
      {
        "duration": 6,
        "start_time": "2022-04-04T09:38:17.227Z"
      },
      {
        "duration": 19,
        "start_time": "2022-04-04T09:38:17.234Z"
      },
      {
        "duration": 15,
        "start_time": "2022-04-04T09:38:17.255Z"
      },
      {
        "duration": 39,
        "start_time": "2022-04-04T09:38:17.272Z"
      },
      {
        "duration": 5,
        "start_time": "2022-04-04T09:38:17.314Z"
      },
      {
        "duration": 116,
        "start_time": "2022-04-04T09:38:17.321Z"
      },
      {
        "duration": 59,
        "start_time": "2022-04-04T09:38:17.439Z"
      },
      {
        "duration": 47,
        "start_time": "2022-04-04T09:38:17.508Z"
      },
      {
        "duration": 6,
        "start_time": "2022-04-04T09:38:17.556Z"
      },
      {
        "duration": 94,
        "start_time": "2022-04-04T09:38:17.563Z"
      },
      {
        "duration": 56,
        "start_time": "2022-04-04T09:38:17.659Z"
      },
      {
        "duration": 4,
        "start_time": "2022-04-04T09:38:17.717Z"
      },
      {
        "duration": 33,
        "start_time": "2022-04-04T09:38:17.722Z"
      },
      {
        "duration": 32,
        "start_time": "2022-04-04T09:38:17.757Z"
      },
      {
        "duration": 30,
        "start_time": "2022-04-04T09:38:17.809Z"
      },
      {
        "duration": 30,
        "start_time": "2022-04-04T09:38:17.840Z"
      },
      {
        "duration": 3,
        "start_time": "2022-04-04T09:38:17.871Z"
      },
      {
        "duration": 42,
        "start_time": "2022-04-04T09:38:17.875Z"
      },
      {
        "duration": 9,
        "start_time": "2022-04-04T09:38:17.919Z"
      },
      {
        "duration": 5,
        "start_time": "2022-04-04T09:38:17.929Z"
      },
      {
        "duration": 6,
        "start_time": "2022-04-04T09:38:17.935Z"
      },
      {
        "duration": 24,
        "start_time": "2022-04-04T09:38:17.942Z"
      },
      {
        "duration": 22,
        "start_time": "2022-04-04T09:38:17.969Z"
      },
      {
        "duration": 7,
        "start_time": "2022-04-04T10:04:50.492Z"
      },
      {
        "duration": 8,
        "start_time": "2022-04-04T10:04:52.954Z"
      },
      {
        "duration": 12,
        "start_time": "2022-04-04T10:04:54.708Z"
      },
      {
        "duration": 9,
        "start_time": "2022-04-04T10:05:44.682Z"
      },
      {
        "duration": 12,
        "start_time": "2022-04-04T10:05:46.178Z"
      },
      {
        "duration": 8,
        "start_time": "2022-04-04T10:07:02.071Z"
      },
      {
        "duration": 12,
        "start_time": "2022-04-04T10:07:03.559Z"
      },
      {
        "duration": 12,
        "start_time": "2022-04-04T10:14:48.920Z"
      },
      {
        "duration": 13,
        "start_time": "2022-04-04T10:14:51.262Z"
      },
      {
        "duration": 14,
        "start_time": "2022-04-04T10:14:52.951Z"
      },
      {
        "duration": 1301,
        "start_time": "2022-04-04T10:15:32.745Z"
      },
      {
        "duration": 3,
        "start_time": "2022-04-04T10:15:39.978Z"
      },
      {
        "duration": 347,
        "start_time": "2022-04-04T10:15:39.983Z"
      },
      {
        "duration": 39,
        "start_time": "2022-04-04T10:15:40.332Z"
      },
      {
        "duration": 76,
        "start_time": "2022-04-04T10:15:40.373Z"
      },
      {
        "duration": 5,
        "start_time": "2022-04-04T10:15:40.451Z"
      },
      {
        "duration": 20,
        "start_time": "2022-04-04T10:15:40.458Z"
      },
      {
        "duration": 4,
        "start_time": "2022-04-04T10:15:40.479Z"
      },
      {
        "duration": 16,
        "start_time": "2022-04-04T10:15:40.509Z"
      },
      {
        "duration": 15,
        "start_time": "2022-04-04T10:15:40.526Z"
      },
      {
        "duration": 7,
        "start_time": "2022-04-04T10:15:40.542Z"
      },
      {
        "duration": 5,
        "start_time": "2022-04-04T10:15:40.551Z"
      },
      {
        "duration": 108,
        "start_time": "2022-04-04T10:15:40.557Z"
      },
      {
        "duration": 66,
        "start_time": "2022-04-04T10:15:40.667Z"
      },
      {
        "duration": 44,
        "start_time": "2022-04-04T10:15:40.734Z"
      },
      {
        "duration": 6,
        "start_time": "2022-04-04T10:15:40.779Z"
      },
      {
        "duration": 84,
        "start_time": "2022-04-04T10:15:40.787Z"
      },
      {
        "duration": 61,
        "start_time": "2022-04-04T10:15:40.872Z"
      },
      {
        "duration": 4,
        "start_time": "2022-04-04T10:15:40.935Z"
      },
      {
        "duration": 33,
        "start_time": "2022-04-04T10:15:40.940Z"
      },
      {
        "duration": 50,
        "start_time": "2022-04-04T10:15:40.974Z"
      },
      {
        "duration": 29,
        "start_time": "2022-04-04T10:15:41.025Z"
      },
      {
        "duration": 1231,
        "start_time": "2022-04-04T10:15:41.055Z"
      },
      {
        "duration": 0,
        "start_time": "2022-04-04T10:15:42.288Z"
      },
      {
        "duration": 0,
        "start_time": "2022-04-04T10:15:42.289Z"
      },
      {
        "duration": 0,
        "start_time": "2022-04-04T10:15:42.290Z"
      },
      {
        "duration": 0,
        "start_time": "2022-04-04T10:15:42.291Z"
      },
      {
        "duration": 0,
        "start_time": "2022-04-04T10:15:42.292Z"
      },
      {
        "duration": 0,
        "start_time": "2022-04-04T10:15:42.293Z"
      },
      {
        "duration": 0,
        "start_time": "2022-04-04T10:15:42.293Z"
      },
      {
        "duration": 22,
        "start_time": "2022-04-04T10:16:04.480Z"
      },
      {
        "duration": 29,
        "start_time": "2022-04-04T10:16:17.692Z"
      },
      {
        "duration": 25,
        "start_time": "2022-04-04T10:16:44.484Z"
      },
      {
        "duration": 24,
        "start_time": "2022-04-04T10:17:31.554Z"
      },
      {
        "duration": 27,
        "start_time": "2022-04-04T10:17:41.849Z"
      },
      {
        "duration": 19,
        "start_time": "2022-04-04T10:17:48.217Z"
      },
      {
        "duration": 18,
        "start_time": "2022-04-04T10:17:50.039Z"
      },
      {
        "duration": 13,
        "start_time": "2022-04-04T10:18:36.426Z"
      },
      {
        "duration": 14,
        "start_time": "2022-04-04T10:19:09.067Z"
      },
      {
        "duration": 20,
        "start_time": "2022-04-04T10:19:52.660Z"
      },
      {
        "duration": 17,
        "start_time": "2022-04-04T10:29:47.786Z"
      },
      {
        "duration": 22,
        "start_time": "2022-04-04T10:29:49.052Z"
      },
      {
        "duration": 18,
        "start_time": "2022-04-04T10:30:22.337Z"
      },
      {
        "duration": 21,
        "start_time": "2022-04-04T10:30:26.647Z"
      },
      {
        "duration": 18,
        "start_time": "2022-04-04T10:30:32.962Z"
      },
      {
        "duration": 23,
        "start_time": "2022-04-04T10:30:34.271Z"
      },
      {
        "duration": 18,
        "start_time": "2022-04-04T10:30:40.734Z"
      },
      {
        "duration": 23,
        "start_time": "2022-04-04T10:30:42.336Z"
      },
      {
        "duration": 24,
        "start_time": "2022-04-04T10:31:13.350Z"
      },
      {
        "duration": 36,
        "start_time": "2022-04-04T10:31:23.647Z"
      },
      {
        "duration": 21,
        "start_time": "2022-04-04T10:31:32.341Z"
      },
      {
        "duration": 35,
        "start_time": "2022-04-04T10:32:03.193Z"
      },
      {
        "duration": 21,
        "start_time": "2022-04-04T10:32:06.113Z"
      },
      {
        "duration": 19,
        "start_time": "2022-04-04T10:32:20.751Z"
      },
      {
        "duration": 32,
        "start_time": "2022-04-04T10:32:22.466Z"
      },
      {
        "duration": 20,
        "start_time": "2022-04-04T10:32:47.904Z"
      },
      {
        "duration": 20,
        "start_time": "2022-04-04T10:32:50.015Z"
      },
      {
        "duration": 20,
        "start_time": "2022-04-04T10:38:09.293Z"
      },
      {
        "duration": 24,
        "start_time": "2022-04-04T10:38:14.982Z"
      },
      {
        "duration": 23,
        "start_time": "2022-04-04T10:39:40.087Z"
      },
      {
        "duration": 22,
        "start_time": "2022-04-04T10:39:42.079Z"
      },
      {
        "duration": 24,
        "start_time": "2022-04-04T10:40:37.041Z"
      },
      {
        "duration": 23,
        "start_time": "2022-04-04T10:40:43.124Z"
      },
      {
        "duration": 113,
        "start_time": "2022-04-04T10:41:06.224Z"
      },
      {
        "duration": 27,
        "start_time": "2022-04-04T10:41:35.081Z"
      },
      {
        "duration": 82,
        "start_time": "2022-04-04T10:41:37.032Z"
      },
      {
        "duration": 26,
        "start_time": "2022-04-04T10:42:03.899Z"
      },
      {
        "duration": 80,
        "start_time": "2022-04-04T10:42:05.559Z"
      },
      {
        "duration": 26,
        "start_time": "2022-04-04T10:42:40.403Z"
      },
      {
        "duration": 76,
        "start_time": "2022-04-04T10:42:41.928Z"
      },
      {
        "duration": 24,
        "start_time": "2022-04-04T10:44:19.637Z"
      },
      {
        "duration": 28,
        "start_time": "2022-04-04T10:50:14.098Z"
      },
      {
        "duration": 28,
        "start_time": "2022-04-04T10:50:17.250Z"
      },
      {
        "duration": 34,
        "start_time": "2022-04-04T10:51:22.408Z"
      },
      {
        "duration": 27,
        "start_time": "2022-04-04T10:51:49.525Z"
      },
      {
        "duration": 26,
        "start_time": "2022-04-04T10:51:51.468Z"
      },
      {
        "duration": 3,
        "start_time": "2022-04-04T12:46:06.433Z"
      },
      {
        "duration": 12,
        "start_time": "2022-04-04T12:46:08.139Z"
      },
      {
        "duration": 8,
        "start_time": "2022-04-04T12:46:27.011Z"
      },
      {
        "duration": 19,
        "start_time": "2022-04-04T12:47:20.069Z"
      },
      {
        "duration": 50,
        "start_time": "2022-04-04T12:48:04.820Z"
      },
      {
        "duration": 4,
        "start_time": "2022-04-04T12:50:06.173Z"
      },
      {
        "duration": 47,
        "start_time": "2022-04-04T12:50:07.832Z"
      },
      {
        "duration": 30,
        "start_time": "2022-04-04T12:50:28.469Z"
      },
      {
        "duration": 4,
        "start_time": "2022-04-04T12:56:50.555Z"
      },
      {
        "duration": 76,
        "start_time": "2022-04-04T12:56:52.882Z"
      },
      {
        "duration": 29,
        "start_time": "2022-04-04T12:56:54.739Z"
      },
      {
        "duration": 3,
        "start_time": "2022-04-04T12:57:07.150Z"
      },
      {
        "duration": 364,
        "start_time": "2022-04-04T12:57:07.154Z"
      },
      {
        "duration": 37,
        "start_time": "2022-04-04T12:57:07.520Z"
      },
      {
        "duration": 80,
        "start_time": "2022-04-04T12:57:07.559Z"
      },
      {
        "duration": 6,
        "start_time": "2022-04-04T12:57:07.642Z"
      },
      {
        "duration": 21,
        "start_time": "2022-04-04T12:57:07.650Z"
      },
      {
        "duration": 6,
        "start_time": "2022-04-04T12:57:07.673Z"
      },
      {
        "duration": 42,
        "start_time": "2022-04-04T12:57:07.680Z"
      },
      {
        "duration": 16,
        "start_time": "2022-04-04T12:57:07.724Z"
      },
      {
        "duration": 7,
        "start_time": "2022-04-04T12:57:07.741Z"
      },
      {
        "duration": 5,
        "start_time": "2022-04-04T12:57:07.751Z"
      },
      {
        "duration": 118,
        "start_time": "2022-04-04T12:57:07.757Z"
      },
      {
        "duration": 66,
        "start_time": "2022-04-04T12:57:07.877Z"
      },
      {
        "duration": 45,
        "start_time": "2022-04-04T12:57:07.945Z"
      },
      {
        "duration": 18,
        "start_time": "2022-04-04T12:57:07.992Z"
      },
      {
        "duration": 75,
        "start_time": "2022-04-04T12:57:08.012Z"
      },
      {
        "duration": 64,
        "start_time": "2022-04-04T12:57:08.089Z"
      },
      {
        "duration": 4,
        "start_time": "2022-04-04T12:57:08.155Z"
      },
      {
        "duration": 26,
        "start_time": "2022-04-04T12:57:08.161Z"
      },
      {
        "duration": 43,
        "start_time": "2022-04-04T12:57:08.188Z"
      },
      {
        "duration": 28,
        "start_time": "2022-04-04T12:57:08.232Z"
      },
      {
        "duration": 46,
        "start_time": "2022-04-04T12:57:08.262Z"
      },
      {
        "duration": 28,
        "start_time": "2022-04-04T12:57:08.310Z"
      },
      {
        "duration": 27,
        "start_time": "2022-04-04T12:57:08.339Z"
      },
      {
        "duration": 4,
        "start_time": "2022-04-04T12:57:08.367Z"
      },
      {
        "duration": 100,
        "start_time": "2022-04-04T12:57:08.372Z"
      },
      {
        "duration": 36,
        "start_time": "2022-04-04T12:57:08.474Z"
      },
      {
        "duration": 67,
        "start_time": "2022-04-04T12:57:08.512Z"
      },
      {
        "duration": 0,
        "start_time": "2022-04-04T12:57:08.581Z"
      },
      {
        "duration": 0,
        "start_time": "2022-04-04T12:57:08.582Z"
      },
      {
        "duration": 0,
        "start_time": "2022-04-04T12:57:08.583Z"
      },
      {
        "duration": 0,
        "start_time": "2022-04-04T12:57:08.585Z"
      },
      {
        "duration": 0,
        "start_time": "2022-04-04T12:57:08.586Z"
      },
      {
        "duration": 0,
        "start_time": "2022-04-04T12:57:08.586Z"
      },
      {
        "duration": 0,
        "start_time": "2022-04-04T12:57:08.587Z"
      },
      {
        "duration": 3,
        "start_time": "2022-04-04T12:57:40.896Z"
      },
      {
        "duration": 361,
        "start_time": "2022-04-04T12:57:40.901Z"
      },
      {
        "duration": 44,
        "start_time": "2022-04-04T12:57:41.264Z"
      },
      {
        "duration": 70,
        "start_time": "2022-04-04T12:57:41.310Z"
      },
      {
        "duration": 5,
        "start_time": "2022-04-04T12:57:41.382Z"
      },
      {
        "duration": 21,
        "start_time": "2022-04-04T12:57:41.408Z"
      },
      {
        "duration": 6,
        "start_time": "2022-04-04T12:57:41.431Z"
      },
      {
        "duration": 19,
        "start_time": "2022-04-04T12:57:41.438Z"
      },
      {
        "duration": 16,
        "start_time": "2022-04-04T12:57:41.458Z"
      },
      {
        "duration": 37,
        "start_time": "2022-04-04T12:57:41.475Z"
      },
      {
        "duration": 5,
        "start_time": "2022-04-04T12:57:41.515Z"
      },
      {
        "duration": 96,
        "start_time": "2022-04-04T12:57:41.522Z"
      },
      {
        "duration": 53,
        "start_time": "2022-04-04T12:57:41.619Z"
      },
      {
        "duration": 61,
        "start_time": "2022-04-04T12:57:41.674Z"
      },
      {
        "duration": 6,
        "start_time": "2022-04-04T12:57:41.737Z"
      },
      {
        "duration": 82,
        "start_time": "2022-04-04T12:57:41.744Z"
      },
      {
        "duration": 47,
        "start_time": "2022-04-04T12:57:41.828Z"
      },
      {
        "duration": 4,
        "start_time": "2022-04-04T12:57:41.877Z"
      },
      {
        "duration": 39,
        "start_time": "2022-04-04T12:57:41.882Z"
      },
      {
        "duration": 30,
        "start_time": "2022-04-04T12:57:41.923Z"
      },
      {
        "duration": 28,
        "start_time": "2022-04-04T12:57:41.955Z"
      },
      {
        "duration": 48,
        "start_time": "2022-04-04T12:57:41.985Z"
      },
      {
        "duration": 24,
        "start_time": "2022-04-04T12:57:42.035Z"
      },
      {
        "duration": 25,
        "start_time": "2022-04-04T12:57:42.061Z"
      },
      {
        "duration": 14,
        "start_time": "2022-04-04T12:57:42.108Z"
      },
      {
        "duration": 104,
        "start_time": "2022-04-04T12:57:42.123Z"
      },
      {
        "duration": 26,
        "start_time": "2022-04-04T12:57:42.228Z"
      },
      {
        "duration": 38,
        "start_time": "2022-04-04T12:57:42.255Z"
      },
      {
        "duration": 30,
        "start_time": "2022-04-04T12:57:42.296Z"
      },
      {
        "duration": 40,
        "start_time": "2022-04-04T12:57:42.328Z"
      },
      {
        "duration": 32,
        "start_time": "2022-04-04T12:57:42.370Z"
      },
      {
        "duration": 41,
        "start_time": "2022-04-04T12:57:42.403Z"
      },
      {
        "duration": 42,
        "start_time": "2022-04-04T12:57:42.446Z"
      },
      {
        "duration": 26,
        "start_time": "2022-04-04T13:04:22.764Z"
      },
      {
        "duration": 28,
        "start_time": "2022-04-04T13:04:29.939Z"
      },
      {
        "duration": 3,
        "start_time": "2022-04-04T13:04:38.652Z"
      },
      {
        "duration": 28,
        "start_time": "2022-04-04T13:04:44.418Z"
      },
      {
        "duration": 3,
        "start_time": "2022-04-04T13:04:56.132Z"
      },
      {
        "duration": 25,
        "start_time": "2022-04-04T13:04:57.309Z"
      },
      {
        "duration": 67,
        "start_time": "2022-04-04T13:05:08.716Z"
      },
      {
        "duration": 68,
        "start_time": "2022-04-04T13:05:45.863Z"
      },
      {
        "duration": 28,
        "start_time": "2022-04-04T13:06:12.251Z"
      },
      {
        "duration": 28,
        "start_time": "2022-04-04T13:11:38.491Z"
      },
      {
        "duration": 1720,
        "start_time": "2022-04-04T13:12:01.475Z"
      },
      {
        "duration": 29,
        "start_time": "2022-04-04T13:12:07.004Z"
      },
      {
        "duration": 6,
        "start_time": "2022-04-04T13:13:47.956Z"
      },
      {
        "duration": 104,
        "start_time": "2022-04-04T13:19:39.305Z"
      },
      {
        "duration": 66,
        "start_time": "2022-04-04T13:19:47.186Z"
      },
      {
        "duration": 4,
        "start_time": "2022-04-04T13:20:05.693Z"
      },
      {
        "duration": 4,
        "start_time": "2022-04-04T13:20:21.363Z"
      },
      {
        "duration": 4,
        "start_time": "2022-04-04T13:21:18.109Z"
      },
      {
        "duration": 1141,
        "start_time": "2022-04-04T13:21:21.226Z"
      },
      {
        "duration": 66,
        "start_time": "2022-04-04T13:21:24.015Z"
      },
      {
        "duration": 6,
        "start_time": "2022-04-04T13:23:19.564Z"
      },
      {
        "duration": 4,
        "start_time": "2022-04-04T13:27:11.370Z"
      },
      {
        "duration": 1166,
        "start_time": "2022-04-04T13:27:13.529Z"
      },
      {
        "duration": 2,
        "start_time": "2022-04-04T13:27:16.016Z"
      },
      {
        "duration": 5,
        "start_time": "2022-04-04T13:27:18.530Z"
      },
      {
        "duration": 6,
        "start_time": "2022-04-04T13:27:25.601Z"
      },
      {
        "duration": 3,
        "start_time": "2022-04-04T13:27:29.526Z"
      },
      {
        "duration": 370,
        "start_time": "2022-04-04T13:27:29.531Z"
      },
      {
        "duration": 114,
        "start_time": "2022-04-04T13:27:29.903Z"
      },
      {
        "duration": 72,
        "start_time": "2022-04-04T13:27:30.019Z"
      },
      {
        "duration": 7,
        "start_time": "2022-04-04T13:27:30.108Z"
      },
      {
        "duration": 26,
        "start_time": "2022-04-04T13:27:30.116Z"
      },
      {
        "duration": 5,
        "start_time": "2022-04-04T13:27:30.144Z"
      },
      {
        "duration": 22,
        "start_time": "2022-04-04T13:27:30.151Z"
      },
      {
        "duration": 37,
        "start_time": "2022-04-04T13:27:30.175Z"
      },
      {
        "duration": 6,
        "start_time": "2022-04-04T13:27:30.214Z"
      },
      {
        "duration": 26,
        "start_time": "2022-04-04T13:27:30.222Z"
      },
      {
        "duration": 103,
        "start_time": "2022-04-04T13:27:30.250Z"
      },
      {
        "duration": 63,
        "start_time": "2022-04-04T13:27:30.355Z"
      },
      {
        "duration": 40,
        "start_time": "2022-04-04T13:27:30.420Z"
      },
      {
        "duration": 6,
        "start_time": "2022-04-04T13:27:30.462Z"
      },
      {
        "duration": 93,
        "start_time": "2022-04-04T13:27:30.469Z"
      },
      {
        "duration": 55,
        "start_time": "2022-04-04T13:27:30.564Z"
      },
      {
        "duration": 4,
        "start_time": "2022-04-04T13:27:30.621Z"
      },
      {
        "duration": 40,
        "start_time": "2022-04-04T13:27:30.627Z"
      },
      {
        "duration": 52,
        "start_time": "2022-04-04T13:27:30.668Z"
      },
      {
        "duration": 32,
        "start_time": "2022-04-04T13:27:30.722Z"
      },
      {
        "duration": 31,
        "start_time": "2022-04-04T13:27:30.756Z"
      },
      {
        "duration": 26,
        "start_time": "2022-04-04T13:27:30.809Z"
      },
      {
        "duration": 24,
        "start_time": "2022-04-04T13:27:30.838Z"
      },
      {
        "duration": 4,
        "start_time": "2022-04-04T13:27:30.864Z"
      },
      {
        "duration": 6,
        "start_time": "2022-04-04T13:27:30.870Z"
      },
      {
        "duration": 1132,
        "start_time": "2022-04-04T13:27:30.878Z"
      },
      {
        "duration": 3,
        "start_time": "2022-04-04T13:27:32.011Z"
      },
      {
        "duration": 8,
        "start_time": "2022-04-04T13:27:32.015Z"
      },
      {
        "duration": 62,
        "start_time": "2022-04-04T13:27:32.025Z"
      },
      {
        "duration": 105,
        "start_time": "2022-04-04T13:27:32.089Z"
      },
      {
        "duration": 14,
        "start_time": "2022-04-04T13:27:32.195Z"
      },
      {
        "duration": 5,
        "start_time": "2022-04-04T13:27:32.211Z"
      },
      {
        "duration": 9,
        "start_time": "2022-04-04T13:27:32.217Z"
      },
      {
        "duration": 4,
        "start_time": "2022-04-04T13:27:32.228Z"
      },
      {
        "duration": 110,
        "start_time": "2022-04-04T13:27:32.233Z"
      },
      {
        "duration": 4,
        "start_time": "2022-04-04T13:34:37.104Z"
      },
      {
        "duration": 78,
        "start_time": "2022-04-04T13:34:39.617Z"
      },
      {
        "duration": 6,
        "start_time": "2022-04-04T13:34:41.870Z"
      },
      {
        "duration": 4,
        "start_time": "2022-04-04T13:44:22.914Z"
      },
      {
        "duration": 23,
        "start_time": "2022-04-04T13:44:25.152Z"
      },
      {
        "duration": 3,
        "start_time": "2022-04-04T13:45:04.426Z"
      },
      {
        "duration": 23,
        "start_time": "2022-04-04T13:45:06.894Z"
      },
      {
        "duration": 3,
        "start_time": "2022-04-04T13:45:22.212Z"
      },
      {
        "duration": 362,
        "start_time": "2022-04-04T13:45:22.217Z"
      },
      {
        "duration": 104,
        "start_time": "2022-04-04T13:45:22.581Z"
      },
      {
        "duration": 87,
        "start_time": "2022-04-04T13:45:22.686Z"
      },
      {
        "duration": 5,
        "start_time": "2022-04-04T13:45:22.775Z"
      },
      {
        "duration": 33,
        "start_time": "2022-04-04T13:45:22.781Z"
      },
      {
        "duration": 5,
        "start_time": "2022-04-04T13:45:22.816Z"
      },
      {
        "duration": 18,
        "start_time": "2022-04-04T13:45:22.823Z"
      },
      {
        "duration": 13,
        "start_time": "2022-04-04T13:45:22.843Z"
      },
      {
        "duration": 6,
        "start_time": "2022-04-04T13:45:22.857Z"
      },
      {
        "duration": 7,
        "start_time": "2022-04-04T13:45:22.866Z"
      },
      {
        "duration": 117,
        "start_time": "2022-04-04T13:45:22.874Z"
      },
      {
        "duration": 61,
        "start_time": "2022-04-04T13:45:22.993Z"
      },
      {
        "duration": 64,
        "start_time": "2022-04-04T13:45:23.056Z"
      },
      {
        "duration": 8,
        "start_time": "2022-04-04T13:45:23.122Z"
      },
      {
        "duration": 94,
        "start_time": "2022-04-04T13:45:23.131Z"
      },
      {
        "duration": 47,
        "start_time": "2022-04-04T13:45:23.227Z"
      },
      {
        "duration": 3,
        "start_time": "2022-04-04T13:45:23.276Z"
      },
      {
        "duration": 39,
        "start_time": "2022-04-04T13:45:23.281Z"
      },
      {
        "duration": 26,
        "start_time": "2022-04-04T13:45:23.321Z"
      },
      {
        "duration": 29,
        "start_time": "2022-04-04T13:45:23.349Z"
      },
      {
        "duration": 51,
        "start_time": "2022-04-04T13:45:23.380Z"
      },
      {
        "duration": 25,
        "start_time": "2022-04-04T13:45:23.432Z"
      },
      {
        "duration": 24,
        "start_time": "2022-04-04T13:45:23.459Z"
      },
      {
        "duration": 24,
        "start_time": "2022-04-04T13:45:23.485Z"
      },
      {
        "duration": 4,
        "start_time": "2022-04-04T13:45:23.511Z"
      },
      {
        "duration": 24,
        "start_time": "2022-04-04T13:45:23.516Z"
      },
      {
        "duration": 0,
        "start_time": "2022-04-04T13:45:23.542Z"
      },
      {
        "duration": 0,
        "start_time": "2022-04-04T13:45:23.543Z"
      },
      {
        "duration": 0,
        "start_time": "2022-04-04T13:45:23.544Z"
      },
      {
        "duration": 0,
        "start_time": "2022-04-04T13:45:23.545Z"
      },
      {
        "duration": 0,
        "start_time": "2022-04-04T13:45:23.546Z"
      },
      {
        "duration": 0,
        "start_time": "2022-04-04T13:45:23.547Z"
      },
      {
        "duration": 0,
        "start_time": "2022-04-04T13:45:23.548Z"
      },
      {
        "duration": 0,
        "start_time": "2022-04-04T13:45:23.549Z"
      },
      {
        "duration": 0,
        "start_time": "2022-04-04T13:45:23.550Z"
      },
      {
        "duration": 4,
        "start_time": "2022-04-04T13:45:54.288Z"
      },
      {
        "duration": 23,
        "start_time": "2022-04-04T13:45:56.034Z"
      },
      {
        "duration": 5,
        "start_time": "2022-04-04T13:46:34.625Z"
      },
      {
        "duration": 24,
        "start_time": "2022-04-04T13:46:37.130Z"
      },
      {
        "duration": 4,
        "start_time": "2022-04-04T13:47:12.310Z"
      },
      {
        "duration": 25,
        "start_time": "2022-04-04T13:47:14.434Z"
      },
      {
        "duration": 4,
        "start_time": "2022-04-04T13:47:21.885Z"
      },
      {
        "duration": 4,
        "start_time": "2022-04-04T13:47:27.276Z"
      },
      {
        "duration": 3,
        "start_time": "2022-04-04T13:47:34.442Z"
      },
      {
        "duration": 22,
        "start_time": "2022-04-04T13:47:36.156Z"
      },
      {
        "duration": 2,
        "start_time": "2022-04-04T13:47:38.288Z"
      },
      {
        "duration": 359,
        "start_time": "2022-04-04T13:47:38.292Z"
      },
      {
        "duration": 40,
        "start_time": "2022-04-04T13:47:38.653Z"
      },
      {
        "duration": 77,
        "start_time": "2022-04-04T13:47:38.695Z"
      },
      {
        "duration": 6,
        "start_time": "2022-04-04T13:47:38.774Z"
      },
      {
        "duration": 41,
        "start_time": "2022-04-04T13:47:38.782Z"
      },
      {
        "duration": 6,
        "start_time": "2022-04-04T13:47:38.825Z"
      },
      {
        "duration": 23,
        "start_time": "2022-04-04T13:47:38.833Z"
      },
      {
        "duration": 14,
        "start_time": "2022-04-04T13:47:38.858Z"
      },
      {
        "duration": 6,
        "start_time": "2022-04-04T13:47:38.874Z"
      },
      {
        "duration": 6,
        "start_time": "2022-04-04T13:47:38.908Z"
      },
      {
        "duration": 97,
        "start_time": "2022-04-04T13:47:38.915Z"
      },
      {
        "duration": 52,
        "start_time": "2022-04-04T13:47:39.014Z"
      },
      {
        "duration": 55,
        "start_time": "2022-04-04T13:47:39.068Z"
      },
      {
        "duration": 6,
        "start_time": "2022-04-04T13:47:39.124Z"
      },
      {
        "duration": 81,
        "start_time": "2022-04-04T13:47:39.131Z"
      },
      {
        "duration": 49,
        "start_time": "2022-04-04T13:47:39.213Z"
      },
      {
        "duration": 4,
        "start_time": "2022-04-04T13:47:39.263Z"
      },
      {
        "duration": 45,
        "start_time": "2022-04-04T13:47:39.268Z"
      },
      {
        "duration": 25,
        "start_time": "2022-04-04T13:47:39.314Z"
      },
      {
        "duration": 26,
        "start_time": "2022-04-04T13:47:39.341Z"
      },
      {
        "duration": 51,
        "start_time": "2022-04-04T13:47:39.368Z"
      },
      {
        "duration": 25,
        "start_time": "2022-04-04T13:47:39.421Z"
      },
      {
        "duration": 4,
        "start_time": "2022-04-04T13:47:39.448Z"
      },
      {
        "duration": 23,
        "start_time": "2022-04-04T13:47:39.454Z"
      },
      {
        "duration": 0,
        "start_time": "2022-04-04T13:47:39.479Z"
      },
      {
        "duration": 0,
        "start_time": "2022-04-04T13:47:39.480Z"
      },
      {
        "duration": 0,
        "start_time": "2022-04-04T13:47:39.482Z"
      },
      {
        "duration": 0,
        "start_time": "2022-04-04T13:47:39.510Z"
      },
      {
        "duration": 0,
        "start_time": "2022-04-04T13:47:39.511Z"
      },
      {
        "duration": 0,
        "start_time": "2022-04-04T13:47:39.512Z"
      },
      {
        "duration": 0,
        "start_time": "2022-04-04T13:47:39.514Z"
      },
      {
        "duration": 0,
        "start_time": "2022-04-04T13:47:39.515Z"
      },
      {
        "duration": 0,
        "start_time": "2022-04-04T13:47:39.517Z"
      },
      {
        "duration": 0,
        "start_time": "2022-04-04T13:47:39.518Z"
      },
      {
        "duration": 4,
        "start_time": "2022-04-04T13:48:33.428Z"
      },
      {
        "duration": 24,
        "start_time": "2022-04-04T13:48:35.363Z"
      },
      {
        "duration": 4,
        "start_time": "2022-04-04T13:48:49.098Z"
      },
      {
        "duration": 22,
        "start_time": "2022-04-04T13:48:52.948Z"
      },
      {
        "duration": 3,
        "start_time": "2022-04-04T13:48:55.288Z"
      },
      {
        "duration": 359,
        "start_time": "2022-04-04T13:48:55.292Z"
      },
      {
        "duration": 38,
        "start_time": "2022-04-04T13:48:55.653Z"
      },
      {
        "duration": 77,
        "start_time": "2022-04-04T13:48:55.692Z"
      },
      {
        "duration": 6,
        "start_time": "2022-04-04T13:48:55.770Z"
      },
      {
        "duration": 39,
        "start_time": "2022-04-04T13:48:55.778Z"
      },
      {
        "duration": 6,
        "start_time": "2022-04-04T13:48:55.819Z"
      },
      {
        "duration": 18,
        "start_time": "2022-04-04T13:48:55.827Z"
      },
      {
        "duration": 15,
        "start_time": "2022-04-04T13:48:55.848Z"
      },
      {
        "duration": 6,
        "start_time": "2022-04-04T13:48:55.865Z"
      },
      {
        "duration": 38,
        "start_time": "2022-04-04T13:48:55.872Z"
      },
      {
        "duration": 88,
        "start_time": "2022-04-04T13:48:55.911Z"
      },
      {
        "duration": 57,
        "start_time": "2022-04-04T13:48:56.000Z"
      },
      {
        "duration": 53,
        "start_time": "2022-04-04T13:48:56.059Z"
      },
      {
        "duration": 5,
        "start_time": "2022-04-04T13:48:56.114Z"
      },
      {
        "duration": 69,
        "start_time": "2022-04-04T13:48:56.121Z"
      },
      {
        "duration": 57,
        "start_time": "2022-04-04T13:48:56.192Z"
      },
      {
        "duration": 4,
        "start_time": "2022-04-04T13:48:56.250Z"
      },
      {
        "duration": 32,
        "start_time": "2022-04-04T13:48:56.256Z"
      },
      {
        "duration": 50,
        "start_time": "2022-04-04T13:48:56.290Z"
      },
      {
        "duration": 30,
        "start_time": "2022-04-04T13:48:56.342Z"
      },
      {
        "duration": 51,
        "start_time": "2022-04-04T13:48:56.373Z"
      },
      {
        "duration": 25,
        "start_time": "2022-04-04T13:48:56.426Z"
      },
      {
        "duration": 3,
        "start_time": "2022-04-04T13:48:56.454Z"
      },
      {
        "duration": 100,
        "start_time": "2022-04-04T13:48:56.459Z"
      },
      {
        "duration": 0,
        "start_time": "2022-04-04T13:48:56.561Z"
      },
      {
        "duration": 0,
        "start_time": "2022-04-04T13:48:56.562Z"
      },
      {
        "duration": 0,
        "start_time": "2022-04-04T13:48:56.563Z"
      },
      {
        "duration": 0,
        "start_time": "2022-04-04T13:48:56.564Z"
      },
      {
        "duration": 0,
        "start_time": "2022-04-04T13:48:56.565Z"
      },
      {
        "duration": 0,
        "start_time": "2022-04-04T13:48:56.567Z"
      },
      {
        "duration": 0,
        "start_time": "2022-04-04T13:48:56.568Z"
      },
      {
        "duration": 0,
        "start_time": "2022-04-04T13:48:56.569Z"
      },
      {
        "duration": 0,
        "start_time": "2022-04-04T13:48:56.570Z"
      },
      {
        "duration": 0,
        "start_time": "2022-04-04T13:48:56.571Z"
      },
      {
        "duration": 4,
        "start_time": "2022-04-04T14:00:41.366Z"
      },
      {
        "duration": 79,
        "start_time": "2022-04-04T14:00:44.167Z"
      },
      {
        "duration": 7,
        "start_time": "2022-04-04T14:00:46.591Z"
      },
      {
        "duration": 94,
        "start_time": "2022-04-04T14:02:12.745Z"
      },
      {
        "duration": 4,
        "start_time": "2022-04-04T14:02:28.545Z"
      },
      {
        "duration": 80,
        "start_time": "2022-04-04T14:02:31.672Z"
      },
      {
        "duration": 6,
        "start_time": "2022-04-04T14:02:33.297Z"
      },
      {
        "duration": 4,
        "start_time": "2022-04-04T14:02:37.264Z"
      },
      {
        "duration": 74,
        "start_time": "2022-04-04T14:02:39.776Z"
      },
      {
        "duration": 5,
        "start_time": "2022-04-04T14:02:41.425Z"
      },
      {
        "duration": 4,
        "start_time": "2022-04-04T14:15:26.861Z"
      },
      {
        "duration": 1101,
        "start_time": "2022-04-04T14:15:29.238Z"
      },
      {
        "duration": 6,
        "start_time": "2022-04-04T14:15:31.627Z"
      },
      {
        "duration": 5,
        "start_time": "2022-04-04T14:15:34.525Z"
      },
      {
        "duration": 69,
        "start_time": "2022-04-04T14:17:35.096Z"
      },
      {
        "duration": 5,
        "start_time": "2022-04-04T14:17:40.414Z"
      },
      {
        "duration": 88,
        "start_time": "2022-04-04T14:17:42.141Z"
      },
      {
        "duration": 5,
        "start_time": "2022-04-04T14:17:44.327Z"
      },
      {
        "duration": 30,
        "start_time": "2022-04-04T14:35:26.598Z"
      },
      {
        "duration": 5,
        "start_time": "2022-04-04T14:35:52.958Z"
      },
      {
        "duration": 5,
        "start_time": "2022-04-04T14:36:52.758Z"
      },
      {
        "duration": 6,
        "start_time": "2022-04-04T14:37:58.559Z"
      },
      {
        "duration": 13,
        "start_time": "2022-04-04T14:38:03.280Z"
      },
      {
        "duration": 6,
        "start_time": "2022-04-04T14:38:06.624Z"
      },
      {
        "duration": 4,
        "start_time": "2022-04-04T14:38:37.529Z"
      },
      {
        "duration": 27,
        "start_time": "2022-04-04T14:39:08.777Z"
      },
      {
        "duration": 28,
        "start_time": "2022-04-04T14:39:20.354Z"
      },
      {
        "duration": 27,
        "start_time": "2022-04-04T14:39:56.452Z"
      },
      {
        "duration": 28,
        "start_time": "2022-04-04T14:40:08.194Z"
      },
      {
        "duration": 28,
        "start_time": "2022-04-04T14:40:24.363Z"
      },
      {
        "duration": 5,
        "start_time": "2022-04-04T14:41:42.933Z"
      },
      {
        "duration": 5,
        "start_time": "2022-04-04T14:41:48.779Z"
      },
      {
        "duration": 5,
        "start_time": "2022-04-04T14:41:54.387Z"
      },
      {
        "duration": 6,
        "start_time": "2022-04-04T14:42:05.300Z"
      },
      {
        "duration": 5,
        "start_time": "2022-04-04T14:42:10.356Z"
      },
      {
        "duration": 5,
        "start_time": "2022-04-04T14:42:15.750Z"
      },
      {
        "duration": 6,
        "start_time": "2022-04-04T14:42:19.684Z"
      },
      {
        "duration": 4,
        "start_time": "2022-04-04T14:45:36.017Z"
      },
      {
        "duration": 29,
        "start_time": "2022-04-04T14:45:47.417Z"
      },
      {
        "duration": 46,
        "start_time": "2022-04-05T07:11:52.548Z"
      },
      {
        "duration": 1404,
        "start_time": "2022-04-05T07:12:32.923Z"
      },
      {
        "duration": 429,
        "start_time": "2022-04-05T07:12:34.329Z"
      },
      {
        "duration": 41,
        "start_time": "2022-04-05T07:12:34.760Z"
      },
      {
        "duration": 65,
        "start_time": "2022-04-05T07:12:34.803Z"
      },
      {
        "duration": 6,
        "start_time": "2022-04-05T07:12:34.870Z"
      },
      {
        "duration": 40,
        "start_time": "2022-04-05T07:12:34.877Z"
      },
      {
        "duration": 6,
        "start_time": "2022-04-05T07:12:34.919Z"
      },
      {
        "duration": 17,
        "start_time": "2022-04-05T07:12:34.926Z"
      },
      {
        "duration": 14,
        "start_time": "2022-04-05T07:12:34.944Z"
      },
      {
        "duration": 42,
        "start_time": "2022-04-05T07:12:34.960Z"
      },
      {
        "duration": 4,
        "start_time": "2022-04-05T07:12:35.004Z"
      },
      {
        "duration": 108,
        "start_time": "2022-04-05T07:12:35.010Z"
      },
      {
        "duration": 62,
        "start_time": "2022-04-05T07:12:35.120Z"
      },
      {
        "duration": 62,
        "start_time": "2022-04-05T07:12:35.183Z"
      },
      {
        "duration": 7,
        "start_time": "2022-04-05T07:12:35.247Z"
      },
      {
        "duration": 86,
        "start_time": "2022-04-05T07:12:35.256Z"
      },
      {
        "duration": 65,
        "start_time": "2022-04-05T07:12:35.344Z"
      },
      {
        "duration": 4,
        "start_time": "2022-04-05T07:12:35.410Z"
      },
      {
        "duration": 38,
        "start_time": "2022-04-05T07:12:35.416Z"
      },
      {
        "duration": 45,
        "start_time": "2022-04-05T07:12:35.456Z"
      },
      {
        "duration": 29,
        "start_time": "2022-04-05T07:12:35.503Z"
      },
      {
        "duration": 27,
        "start_time": "2022-04-05T07:12:35.534Z"
      },
      {
        "duration": 50,
        "start_time": "2022-04-05T07:12:35.563Z"
      },
      {
        "duration": 5,
        "start_time": "2022-04-05T07:12:35.614Z"
      },
      {
        "duration": 107,
        "start_time": "2022-04-05T07:12:35.621Z"
      },
      {
        "duration": 7,
        "start_time": "2022-04-05T07:12:35.730Z"
      },
      {
        "duration": 26,
        "start_time": "2022-04-05T07:12:35.739Z"
      },
      {
        "duration": 4,
        "start_time": "2022-04-05T07:12:35.769Z"
      },
      {
        "duration": 27,
        "start_time": "2022-04-05T07:12:35.800Z"
      },
      {
        "duration": 46,
        "start_time": "2022-04-06T10:26:11.955Z"
      },
      {
        "duration": 1180,
        "start_time": "2022-04-06T10:26:16.187Z"
      },
      {
        "duration": 407,
        "start_time": "2022-04-06T10:26:17.369Z"
      },
      {
        "duration": 38,
        "start_time": "2022-04-06T10:26:17.778Z"
      },
      {
        "duration": 79,
        "start_time": "2022-04-06T10:26:17.819Z"
      },
      {
        "duration": 6,
        "start_time": "2022-04-06T10:26:17.899Z"
      },
      {
        "duration": 26,
        "start_time": "2022-04-06T10:26:17.906Z"
      },
      {
        "duration": 6,
        "start_time": "2022-04-06T10:26:17.934Z"
      },
      {
        "duration": 37,
        "start_time": "2022-04-06T10:26:17.941Z"
      },
      {
        "duration": 14,
        "start_time": "2022-04-06T10:26:17.979Z"
      },
      {
        "duration": 5,
        "start_time": "2022-04-06T10:26:17.996Z"
      },
      {
        "duration": 9,
        "start_time": "2022-04-06T10:26:18.002Z"
      },
      {
        "duration": 125,
        "start_time": "2022-04-06T10:26:18.012Z"
      },
      {
        "duration": 73,
        "start_time": "2022-04-06T10:26:18.139Z"
      },
      {
        "duration": 57,
        "start_time": "2022-04-06T10:26:18.214Z"
      },
      {
        "duration": 7,
        "start_time": "2022-04-06T10:26:18.273Z"
      },
      {
        "duration": 81,
        "start_time": "2022-04-06T10:26:18.282Z"
      },
      {
        "duration": 48,
        "start_time": "2022-04-06T10:26:18.365Z"
      },
      {
        "duration": 4,
        "start_time": "2022-04-06T10:26:18.415Z"
      },
      {
        "duration": 58,
        "start_time": "2022-04-06T10:26:18.421Z"
      },
      {
        "duration": 30,
        "start_time": "2022-04-06T10:26:18.481Z"
      },
      {
        "duration": 28,
        "start_time": "2022-04-06T10:26:18.513Z"
      },
      {
        "duration": 29,
        "start_time": "2022-04-06T10:26:18.562Z"
      },
      {
        "duration": 24,
        "start_time": "2022-04-06T10:26:18.593Z"
      },
      {
        "duration": 4,
        "start_time": "2022-04-06T10:26:18.619Z"
      },
      {
        "duration": 116,
        "start_time": "2022-04-06T10:26:18.624Z"
      },
      {
        "duration": 36,
        "start_time": "2022-04-06T10:26:18.742Z"
      },
      {
        "duration": 4,
        "start_time": "2022-04-06T10:26:18.780Z"
      },
      {
        "duration": 27,
        "start_time": "2022-04-06T10:26:18.788Z"
      },
      {
        "duration": 115,
        "start_time": "2022-04-06T10:26:18.816Z"
      },
      {
        "duration": 26,
        "start_time": "2022-04-06T10:26:35.099Z"
      },
      {
        "duration": 3,
        "start_time": "2022-04-06T10:27:40.697Z"
      },
      {
        "duration": 28,
        "start_time": "2022-04-06T10:27:41.902Z"
      },
      {
        "duration": 26,
        "start_time": "2022-04-06T10:27:58.578Z"
      },
      {
        "duration": 27,
        "start_time": "2022-04-06T10:28:13.141Z"
      },
      {
        "duration": 27,
        "start_time": "2022-04-06T10:28:55.412Z"
      },
      {
        "duration": 4,
        "start_time": "2022-04-06T10:29:44.188Z"
      },
      {
        "duration": 6,
        "start_time": "2022-04-06T10:29:51.500Z"
      },
      {
        "duration": 7,
        "start_time": "2022-04-06T10:29:53.593Z"
      },
      {
        "duration": 27,
        "start_time": "2022-04-06T10:30:00.552Z"
      },
      {
        "duration": 25,
        "start_time": "2022-04-06T10:30:03.201Z"
      },
      {
        "duration": 4,
        "start_time": "2022-04-06T10:30:19.058Z"
      },
      {
        "duration": 4,
        "start_time": "2022-04-06T10:30:32.508Z"
      },
      {
        "duration": 8,
        "start_time": "2022-04-06T10:35:23.712Z"
      },
      {
        "duration": 2287,
        "start_time": "2022-04-06T10:36:04.851Z"
      },
      {
        "duration": 14,
        "start_time": "2022-04-06T10:36:17.926Z"
      },
      {
        "duration": 16,
        "start_time": "2022-04-06T10:38:06.859Z"
      },
      {
        "duration": 7,
        "start_time": "2022-04-06T10:38:36.201Z"
      },
      {
        "duration": 7,
        "start_time": "2022-04-06T10:38:45.832Z"
      },
      {
        "duration": 17,
        "start_time": "2022-04-06T10:39:00.396Z"
      },
      {
        "duration": 11,
        "start_time": "2022-04-06T10:45:52.222Z"
      },
      {
        "duration": 10,
        "start_time": "2022-04-06T10:45:53.980Z"
      },
      {
        "duration": 7,
        "start_time": "2022-04-06T10:56:00.133Z"
      },
      {
        "duration": 6,
        "start_time": "2022-04-06T10:56:53.875Z"
      },
      {
        "duration": 444,
        "start_time": "2022-04-06T10:58:01.777Z"
      },
      {
        "duration": 4,
        "start_time": "2022-04-06T10:58:05.941Z"
      },
      {
        "duration": 2170,
        "start_time": "2022-04-06T10:59:33.264Z"
      },
      {
        "duration": 6,
        "start_time": "2022-04-06T10:59:43.475Z"
      },
      {
        "duration": 7,
        "start_time": "2022-04-06T11:00:03.609Z"
      },
      {
        "duration": 8,
        "start_time": "2022-04-06T11:00:38.125Z"
      },
      {
        "duration": 7,
        "start_time": "2022-04-06T11:00:39.782Z"
      },
      {
        "duration": 8,
        "start_time": "2022-04-06T11:01:02.930Z"
      },
      {
        "duration": 7,
        "start_time": "2022-04-06T11:01:04.562Z"
      },
      {
        "duration": 604,
        "start_time": "2022-04-06T11:01:36.848Z"
      },
      {
        "duration": 2181,
        "start_time": "2022-04-06T11:08:17.771Z"
      },
      {
        "duration": 170,
        "start_time": "2022-04-06T11:08:28.965Z"
      },
      {
        "duration": 117,
        "start_time": "2022-04-06T11:08:50.177Z"
      },
      {
        "duration": 151,
        "start_time": "2022-04-06T11:09:18.208Z"
      },
      {
        "duration": 8,
        "start_time": "2022-04-06T11:10:15.348Z"
      },
      {
        "duration": 8,
        "start_time": "2022-04-06T11:10:23.459Z"
      },
      {
        "duration": 8,
        "start_time": "2022-04-06T11:10:37.408Z"
      },
      {
        "duration": 112,
        "start_time": "2022-04-06T11:11:48.657Z"
      },
      {
        "duration": 110,
        "start_time": "2022-04-06T11:11:54.712Z"
      },
      {
        "duration": 190,
        "start_time": "2022-04-06T11:12:08.628Z"
      },
      {
        "duration": 116,
        "start_time": "2022-04-06T11:12:15.872Z"
      },
      {
        "duration": 108,
        "start_time": "2022-04-06T11:12:20.146Z"
      },
      {
        "duration": 172,
        "start_time": "2022-04-06T11:12:24.163Z"
      },
      {
        "duration": 163,
        "start_time": "2022-04-06T11:12:44.879Z"
      },
      {
        "duration": 139,
        "start_time": "2022-04-06T11:14:34.669Z"
      },
      {
        "duration": 151,
        "start_time": "2022-04-06T11:14:51.438Z"
      },
      {
        "duration": 156,
        "start_time": "2022-04-06T11:15:33.158Z"
      },
      {
        "duration": 8,
        "start_time": "2022-04-06T11:16:22.857Z"
      },
      {
        "duration": 116,
        "start_time": "2022-04-06T11:16:44.817Z"
      },
      {
        "duration": 111,
        "start_time": "2022-04-06T11:17:22.803Z"
      },
      {
        "duration": 130,
        "start_time": "2022-04-06T11:17:36.859Z"
      },
      {
        "duration": 231,
        "start_time": "2022-04-06T11:20:12.818Z"
      },
      {
        "duration": 142,
        "start_time": "2022-04-06T11:20:24.070Z"
      },
      {
        "duration": 138,
        "start_time": "2022-04-06T11:21:22.649Z"
      },
      {
        "duration": 110,
        "start_time": "2022-04-06T11:21:30.439Z"
      },
      {
        "duration": 118,
        "start_time": "2022-04-06T11:21:37.761Z"
      },
      {
        "duration": 142,
        "start_time": "2022-04-06T11:21:47.632Z"
      },
      {
        "duration": 146,
        "start_time": "2022-04-06T11:22:41.276Z"
      },
      {
        "duration": 169,
        "start_time": "2022-04-06T11:23:24.653Z"
      },
      {
        "duration": 172,
        "start_time": "2022-04-06T11:23:34.964Z"
      },
      {
        "duration": 159,
        "start_time": "2022-04-06T11:24:10.704Z"
      },
      {
        "duration": 152,
        "start_time": "2022-04-06T11:24:13.706Z"
      },
      {
        "duration": 177,
        "start_time": "2022-04-06T11:24:17.754Z"
      },
      {
        "duration": 273,
        "start_time": "2022-04-06T11:24:28.611Z"
      },
      {
        "duration": 145,
        "start_time": "2022-04-06T11:24:51.846Z"
      },
      {
        "duration": 149,
        "start_time": "2022-04-06T11:24:58.116Z"
      },
      {
        "duration": 166,
        "start_time": "2022-04-06T11:25:05.143Z"
      },
      {
        "duration": 168,
        "start_time": "2022-04-06T11:25:57.266Z"
      },
      {
        "duration": 171,
        "start_time": "2022-04-06T11:26:08.564Z"
      },
      {
        "duration": 172,
        "start_time": "2022-04-06T11:26:12.136Z"
      },
      {
        "duration": 169,
        "start_time": "2022-04-06T11:26:15.878Z"
      },
      {
        "duration": 165,
        "start_time": "2022-04-06T11:26:19.254Z"
      },
      {
        "duration": 163,
        "start_time": "2022-04-06T11:27:56.211Z"
      },
      {
        "duration": 149,
        "start_time": "2022-04-06T11:28:21.394Z"
      },
      {
        "duration": 149,
        "start_time": "2022-04-06T11:29:37.947Z"
      },
      {
        "duration": 161,
        "start_time": "2022-04-06T11:29:39.956Z"
      },
      {
        "duration": 295,
        "start_time": "2022-04-06T11:29:58.847Z"
      },
      {
        "duration": 169,
        "start_time": "2022-04-06T11:30:00.970Z"
      },
      {
        "duration": 143,
        "start_time": "2022-04-06T11:30:25.905Z"
      },
      {
        "duration": 157,
        "start_time": "2022-04-06T11:30:33.988Z"
      },
      {
        "duration": 155,
        "start_time": "2022-04-06T11:31:06.238Z"
      },
      {
        "duration": 150,
        "start_time": "2022-04-06T11:31:08.111Z"
      },
      {
        "duration": 152,
        "start_time": "2022-04-06T11:31:26.720Z"
      },
      {
        "duration": 154,
        "start_time": "2022-04-06T11:31:28.549Z"
      },
      {
        "duration": 147,
        "start_time": "2022-04-06T11:32:52.794Z"
      },
      {
        "duration": 151,
        "start_time": "2022-04-06T11:32:55.458Z"
      },
      {
        "duration": 153,
        "start_time": "2022-04-06T11:33:40.099Z"
      },
      {
        "duration": 151,
        "start_time": "2022-04-06T11:33:41.787Z"
      },
      {
        "duration": 167,
        "start_time": "2022-04-06T11:33:45.369Z"
      },
      {
        "duration": 160,
        "start_time": "2022-04-06T11:33:47.713Z"
      },
      {
        "duration": 165,
        "start_time": "2022-04-06T11:34:16.165Z"
      },
      {
        "duration": 165,
        "start_time": "2022-04-06T11:34:18.203Z"
      },
      {
        "duration": 351,
        "start_time": "2022-04-06T11:35:01.569Z"
      },
      {
        "duration": 154,
        "start_time": "2022-04-06T11:35:03.515Z"
      },
      {
        "duration": 172,
        "start_time": "2022-04-06T11:35:22.979Z"
      },
      {
        "duration": 2221,
        "start_time": "2022-04-06T11:36:41.153Z"
      },
      {
        "duration": 7,
        "start_time": "2022-04-06T11:36:51.605Z"
      },
      {
        "duration": 7,
        "start_time": "2022-04-06T11:36:55.808Z"
      },
      {
        "duration": 8,
        "start_time": "2022-04-06T11:36:58.271Z"
      },
      {
        "duration": 7,
        "start_time": "2022-04-06T11:37:07.886Z"
      },
      {
        "duration": 7,
        "start_time": "2022-04-06T11:37:11.765Z"
      },
      {
        "duration": 19,
        "start_time": "2022-04-06T11:37:31.900Z"
      },
      {
        "duration": 19,
        "start_time": "2022-04-06T11:37:38.340Z"
      },
      {
        "duration": 139,
        "start_time": "2022-04-06T11:46:46.166Z"
      },
      {
        "duration": 136,
        "start_time": "2022-04-06T11:46:51.410Z"
      },
      {
        "duration": 144,
        "start_time": "2022-04-06T11:46:53.765Z"
      },
      {
        "duration": 150,
        "start_time": "2022-04-06T11:52:56.951Z"
      },
      {
        "duration": 158,
        "start_time": "2022-04-06T11:52:59.806Z"
      },
      {
        "duration": 5,
        "start_time": "2022-04-06T11:55:51.180Z"
      },
      {
        "duration": 5,
        "start_time": "2022-04-06T11:55:52.088Z"
      },
      {
        "duration": 17,
        "start_time": "2022-04-06T11:55:56.601Z"
      },
      {
        "duration": 169,
        "start_time": "2022-04-06T11:56:49.915Z"
      },
      {
        "duration": 159,
        "start_time": "2022-04-06T11:56:52.520Z"
      },
      {
        "duration": 147,
        "start_time": "2022-04-06T11:57:02.961Z"
      },
      {
        "duration": 158,
        "start_time": "2022-04-06T11:57:05.335Z"
      },
      {
        "duration": 145,
        "start_time": "2022-04-06T11:57:10.347Z"
      },
      {
        "duration": 144,
        "start_time": "2022-04-06T11:57:13.548Z"
      },
      {
        "duration": 140,
        "start_time": "2022-04-06T11:57:46.252Z"
      },
      {
        "duration": 162,
        "start_time": "2022-04-06T11:57:48.759Z"
      },
      {
        "duration": 7,
        "start_time": "2022-04-06T13:08:39.429Z"
      },
      {
        "duration": 6,
        "start_time": "2022-04-06T13:08:41.447Z"
      },
      {
        "duration": 5,
        "start_time": "2022-04-06T13:42:47.833Z"
      },
      {
        "duration": 5,
        "start_time": "2022-04-06T13:43:06.627Z"
      },
      {
        "duration": 4,
        "start_time": "2022-04-06T13:54:25.105Z"
      },
      {
        "duration": 9,
        "start_time": "2022-04-06T14:19:42.110Z"
      },
      {
        "duration": 9,
        "start_time": "2022-04-06T14:19:44.667Z"
      },
      {
        "duration": 42,
        "start_time": "2022-04-06T14:19:46.736Z"
      },
      {
        "duration": 27,
        "start_time": "2022-04-06T14:19:54.818Z"
      },
      {
        "duration": 3,
        "start_time": "2022-04-06T14:20:09.938Z"
      },
      {
        "duration": 4,
        "start_time": "2022-04-06T14:20:14.423Z"
      },
      {
        "duration": 18,
        "start_time": "2022-04-06T14:22:47.758Z"
      },
      {
        "duration": 39,
        "start_time": "2022-04-06T14:23:58.290Z"
      },
      {
        "duration": 8,
        "start_time": "2022-04-06T14:24:04.693Z"
      },
      {
        "duration": 9,
        "start_time": "2022-04-06T14:24:14.329Z"
      },
      {
        "duration": 26,
        "start_time": "2022-04-06T14:24:31.719Z"
      },
      {
        "duration": 9,
        "start_time": "2022-04-06T14:24:55.327Z"
      },
      {
        "duration": 10,
        "start_time": "2022-04-06T14:25:42.264Z"
      },
      {
        "duration": 10,
        "start_time": "2022-04-06T14:25:44.566Z"
      },
      {
        "duration": 13,
        "start_time": "2022-04-06T14:28:11.234Z"
      },
      {
        "duration": 15,
        "start_time": "2022-04-06T14:28:43.309Z"
      },
      {
        "duration": 10,
        "start_time": "2022-04-06T14:28:57.158Z"
      },
      {
        "duration": 11,
        "start_time": "2022-04-06T14:29:03.469Z"
      },
      {
        "duration": 11,
        "start_time": "2022-04-06T14:29:05.141Z"
      },
      {
        "duration": 8,
        "start_time": "2022-04-06T14:51:59.386Z"
      },
      {
        "duration": 11,
        "start_time": "2022-04-06T14:52:01.009Z"
      },
      {
        "duration": 12,
        "start_time": "2022-04-06T14:52:02.357Z"
      },
      {
        "duration": 13,
        "start_time": "2022-04-06T14:53:00.133Z"
      },
      {
        "duration": 12,
        "start_time": "2022-04-06T14:53:03.174Z"
      },
      {
        "duration": 10,
        "start_time": "2022-04-06T14:53:25.788Z"
      },
      {
        "duration": 11,
        "start_time": "2022-04-06T14:53:28.002Z"
      },
      {
        "duration": 8,
        "start_time": "2022-04-06T14:53:59.477Z"
      },
      {
        "duration": 11,
        "start_time": "2022-04-06T14:54:00.856Z"
      },
      {
        "duration": 11,
        "start_time": "2022-04-06T14:54:09.817Z"
      },
      {
        "duration": 6,
        "start_time": "2022-04-06T14:54:11.291Z"
      },
      {
        "duration": 12,
        "start_time": "2022-04-06T14:54:16.316Z"
      },
      {
        "duration": 5,
        "start_time": "2022-04-06T14:54:19.915Z"
      },
      {
        "duration": 10,
        "start_time": "2022-04-06T15:00:07.854Z"
      },
      {
        "duration": 5,
        "start_time": "2022-04-06T15:00:14.592Z"
      },
      {
        "duration": 139,
        "start_time": "2022-04-06T15:01:34.760Z"
      },
      {
        "duration": 16,
        "start_time": "2022-04-06T15:01:44.904Z"
      },
      {
        "duration": 19,
        "start_time": "2022-04-06T15:02:10.500Z"
      },
      {
        "duration": 3,
        "start_time": "2022-04-06T15:32:45.344Z"
      },
      {
        "duration": 384,
        "start_time": "2022-04-06T15:32:45.349Z"
      },
      {
        "duration": 40,
        "start_time": "2022-04-06T15:32:45.735Z"
      },
      {
        "duration": 65,
        "start_time": "2022-04-06T15:32:45.776Z"
      },
      {
        "duration": 21,
        "start_time": "2022-04-06T15:32:45.843Z"
      },
      {
        "duration": 20,
        "start_time": "2022-04-06T15:32:45.866Z"
      },
      {
        "duration": 7,
        "start_time": "2022-04-06T15:32:45.887Z"
      },
      {
        "duration": 20,
        "start_time": "2022-04-06T15:32:45.895Z"
      },
      {
        "duration": 15,
        "start_time": "2022-04-06T15:32:45.916Z"
      },
      {
        "duration": 32,
        "start_time": "2022-04-06T15:32:45.932Z"
      },
      {
        "duration": 6,
        "start_time": "2022-04-06T15:32:45.966Z"
      },
      {
        "duration": 114,
        "start_time": "2022-04-06T15:32:45.974Z"
      },
      {
        "duration": 61,
        "start_time": "2022-04-06T15:32:46.089Z"
      },
      {
        "duration": 44,
        "start_time": "2022-04-06T15:32:46.162Z"
      },
      {
        "duration": 6,
        "start_time": "2022-04-06T15:32:46.208Z"
      },
      {
        "duration": 89,
        "start_time": "2022-04-06T15:32:46.216Z"
      },
      {
        "duration": 49,
        "start_time": "2022-04-06T15:32:46.306Z"
      },
      {
        "duration": 4,
        "start_time": "2022-04-06T15:32:46.363Z"
      },
      {
        "duration": 36,
        "start_time": "2022-04-06T15:32:46.368Z"
      },
      {
        "duration": 31,
        "start_time": "2022-04-06T15:32:46.405Z"
      },
      {
        "duration": 47,
        "start_time": "2022-04-06T15:32:46.437Z"
      },
      {
        "duration": 27,
        "start_time": "2022-04-06T15:32:46.486Z"
      },
      {
        "duration": 23,
        "start_time": "2022-04-06T15:32:46.514Z"
      },
      {
        "duration": 4,
        "start_time": "2022-04-06T15:32:46.563Z"
      },
      {
        "duration": 98,
        "start_time": "2022-04-06T15:32:46.569Z"
      },
      {
        "duration": 26,
        "start_time": "2022-04-06T15:32:46.669Z"
      },
      {
        "duration": 9,
        "start_time": "2022-04-06T15:32:46.697Z"
      },
      {
        "duration": 5,
        "start_time": "2022-04-06T15:32:46.707Z"
      },
      {
        "duration": 25,
        "start_time": "2022-04-06T15:32:46.716Z"
      },
      {
        "duration": 22,
        "start_time": "2022-04-06T15:32:46.742Z"
      },
      {
        "duration": 12,
        "start_time": "2022-04-06T15:32:46.766Z"
      },
      {
        "duration": 30,
        "start_time": "2022-04-06T15:32:46.779Z"
      },
      {
        "duration": 16,
        "start_time": "2022-04-06T15:32:46.811Z"
      },
      {
        "duration": 6,
        "start_time": "2022-04-06T15:32:46.829Z"
      },
      {
        "duration": 28,
        "start_time": "2022-04-06T15:32:46.836Z"
      },
      {
        "duration": 14,
        "start_time": "2022-04-06T15:32:46.865Z"
      },
      {
        "duration": 11,
        "start_time": "2022-04-06T15:32:46.880Z"
      },
      {
        "duration": 198,
        "start_time": "2022-04-06T15:32:46.893Z"
      },
      {
        "duration": 175,
        "start_time": "2022-04-06T15:32:47.093Z"
      },
      {
        "duration": 160,
        "start_time": "2022-04-06T15:32:47.270Z"
      },
      {
        "duration": 169,
        "start_time": "2022-04-06T15:32:47.432Z"
      },
      {
        "duration": 391,
        "start_time": "2022-04-06T15:32:47.603Z"
      },
      {
        "duration": 154,
        "start_time": "2022-04-06T15:32:47.995Z"
      },
      {
        "duration": 164,
        "start_time": "2022-04-06T15:32:48.151Z"
      },
      {
        "duration": 181,
        "start_time": "2022-04-06T15:32:48.317Z"
      },
      {
        "duration": 5,
        "start_time": "2022-04-06T15:32:48.500Z"
      },
      {
        "duration": 18,
        "start_time": "2022-04-06T15:32:48.506Z"
      },
      {
        "duration": 18,
        "start_time": "2022-04-06T15:32:48.526Z"
      },
      {
        "duration": 18,
        "start_time": "2022-04-06T15:32:48.546Z"
      },
      {
        "duration": 19,
        "start_time": "2022-04-06T15:32:48.566Z"
      },
      {
        "duration": 5,
        "start_time": "2022-04-06T15:32:48.587Z"
      },
      {
        "duration": 9,
        "start_time": "2022-04-06T15:32:48.593Z"
      },
      {
        "duration": 3,
        "start_time": "2022-04-06T15:34:16.434Z"
      },
      {
        "duration": 352,
        "start_time": "2022-04-06T15:34:16.438Z"
      },
      {
        "duration": 37,
        "start_time": "2022-04-06T15:34:16.792Z"
      },
      {
        "duration": 78,
        "start_time": "2022-04-06T15:34:16.831Z"
      },
      {
        "duration": 6,
        "start_time": "2022-04-06T15:34:16.911Z"
      },
      {
        "duration": 25,
        "start_time": "2022-04-06T15:34:16.919Z"
      },
      {
        "duration": 22,
        "start_time": "2022-04-06T15:34:16.946Z"
      },
      {
        "duration": 31,
        "start_time": "2022-04-06T15:34:16.969Z"
      },
      {
        "duration": 17,
        "start_time": "2022-04-06T15:34:17.002Z"
      },
      {
        "duration": 9,
        "start_time": "2022-04-06T15:34:17.021Z"
      },
      {
        "duration": 7,
        "start_time": "2022-04-06T15:34:17.034Z"
      },
      {
        "duration": 123,
        "start_time": "2022-04-06T15:34:17.043Z"
      },
      {
        "duration": 59,
        "start_time": "2022-04-06T15:34:17.168Z"
      },
      {
        "duration": 57,
        "start_time": "2022-04-06T15:34:17.228Z"
      },
      {
        "duration": 7,
        "start_time": "2022-04-06T15:34:17.286Z"
      },
      {
        "duration": 78,
        "start_time": "2022-04-06T15:34:17.294Z"
      },
      {
        "duration": 48,
        "start_time": "2022-04-06T15:34:17.374Z"
      },
      {
        "duration": 5,
        "start_time": "2022-04-06T15:34:17.424Z"
      },
      {
        "duration": 46,
        "start_time": "2022-04-06T15:34:17.430Z"
      },
      {
        "duration": 26,
        "start_time": "2022-04-06T15:34:17.478Z"
      },
      {
        "duration": 30,
        "start_time": "2022-04-06T15:34:17.506Z"
      },
      {
        "duration": 47,
        "start_time": "2022-04-06T15:34:17.538Z"
      },
      {
        "duration": 28,
        "start_time": "2022-04-06T15:34:17.587Z"
      },
      {
        "duration": 5,
        "start_time": "2022-04-06T15:34:17.616Z"
      },
      {
        "duration": 109,
        "start_time": "2022-04-06T15:34:17.623Z"
      },
      {
        "duration": 39,
        "start_time": "2022-04-06T15:34:17.733Z"
      },
      {
        "duration": 5,
        "start_time": "2022-04-06T15:34:17.774Z"
      },
      {
        "duration": 9,
        "start_time": "2022-04-06T15:34:17.780Z"
      },
      {
        "duration": 28,
        "start_time": "2022-04-06T15:34:17.793Z"
      },
      {
        "duration": 8,
        "start_time": "2022-04-06T15:34:17.823Z"
      },
      {
        "duration": 11,
        "start_time": "2022-04-06T15:34:17.833Z"
      },
      {
        "duration": 15,
        "start_time": "2022-04-06T15:34:17.863Z"
      },
      {
        "duration": 16,
        "start_time": "2022-04-06T15:34:17.880Z"
      },
      {
        "duration": 7,
        "start_time": "2022-04-06T15:34:17.897Z"
      },
      {
        "duration": 6,
        "start_time": "2022-04-06T15:34:17.905Z"
      },
      {
        "duration": 12,
        "start_time": "2022-04-06T15:34:17.913Z"
      },
      {
        "duration": 43,
        "start_time": "2022-04-06T15:34:17.927Z"
      },
      {
        "duration": 180,
        "start_time": "2022-04-06T15:34:17.972Z"
      },
      {
        "duration": 171,
        "start_time": "2022-04-06T15:34:18.154Z"
      },
      {
        "duration": 170,
        "start_time": "2022-04-06T15:34:18.327Z"
      },
      {
        "duration": 166,
        "start_time": "2022-04-06T15:34:18.499Z"
      },
      {
        "duration": 149,
        "start_time": "2022-04-06T15:34:18.666Z"
      },
      {
        "duration": 147,
        "start_time": "2022-04-06T15:34:18.817Z"
      },
      {
        "duration": 160,
        "start_time": "2022-04-06T15:34:18.966Z"
      },
      {
        "duration": 178,
        "start_time": "2022-04-06T15:34:19.128Z"
      },
      {
        "duration": 4,
        "start_time": "2022-04-06T15:34:19.308Z"
      },
      {
        "duration": 15,
        "start_time": "2022-04-06T15:34:19.314Z"
      },
      {
        "duration": 22,
        "start_time": "2022-04-06T15:34:19.330Z"
      },
      {
        "duration": 23,
        "start_time": "2022-04-06T15:34:19.354Z"
      },
      {
        "duration": 26,
        "start_time": "2022-04-06T15:34:19.378Z"
      },
      {
        "duration": 8,
        "start_time": "2022-04-06T15:34:19.405Z"
      },
      {
        "duration": 10,
        "start_time": "2022-04-06T15:34:19.414Z"
      },
      {
        "duration": 5,
        "start_time": "2022-04-06T15:36:00.628Z"
      },
      {
        "duration": 1050,
        "start_time": "2022-04-17T06:29:12.415Z"
      },
      {
        "duration": 410,
        "start_time": "2022-04-17T06:29:13.467Z"
      },
      {
        "duration": 42,
        "start_time": "2022-04-17T06:29:13.878Z"
      },
      {
        "duration": 82,
        "start_time": "2022-04-17T06:29:13.922Z"
      },
      {
        "duration": 5,
        "start_time": "2022-04-17T06:29:14.006Z"
      },
      {
        "duration": 35,
        "start_time": "2022-04-17T06:29:14.013Z"
      },
      {
        "duration": 5,
        "start_time": "2022-04-17T06:29:14.050Z"
      },
      {
        "duration": 17,
        "start_time": "2022-04-17T06:29:14.057Z"
      },
      {
        "duration": 13,
        "start_time": "2022-04-17T06:29:14.076Z"
      },
      {
        "duration": 6,
        "start_time": "2022-04-17T06:29:14.092Z"
      },
      {
        "duration": 5,
        "start_time": "2022-04-17T06:29:14.099Z"
      },
      {
        "duration": 129,
        "start_time": "2022-04-17T06:29:14.105Z"
      },
      {
        "duration": 65,
        "start_time": "2022-04-17T06:29:14.235Z"
      },
      {
        "duration": 54,
        "start_time": "2022-04-17T06:29:14.302Z"
      },
      {
        "duration": 7,
        "start_time": "2022-04-17T06:29:14.357Z"
      },
      {
        "duration": 86,
        "start_time": "2022-04-17T06:29:14.365Z"
      },
      {
        "duration": 47,
        "start_time": "2022-04-17T06:29:14.453Z"
      },
      {
        "duration": 4,
        "start_time": "2022-04-17T06:29:14.502Z"
      },
      {
        "duration": 50,
        "start_time": "2022-04-17T06:29:14.508Z"
      },
      {
        "duration": 30,
        "start_time": "2022-04-17T06:29:14.560Z"
      },
      {
        "duration": 29,
        "start_time": "2022-04-17T06:29:14.591Z"
      },
      {
        "duration": 48,
        "start_time": "2022-04-17T06:29:14.621Z"
      },
      {
        "duration": 24,
        "start_time": "2022-04-17T06:29:14.671Z"
      },
      {
        "duration": 4,
        "start_time": "2022-04-17T06:29:14.696Z"
      },
      {
        "duration": 102,
        "start_time": "2022-04-17T06:29:14.702Z"
      },
      {
        "duration": 28,
        "start_time": "2022-04-17T06:29:14.806Z"
      },
      {
        "duration": 4,
        "start_time": "2022-04-17T06:29:14.848Z"
      },
      {
        "duration": 2,
        "start_time": "2022-04-17T06:29:14.855Z"
      },
      {
        "duration": 27,
        "start_time": "2022-04-17T06:29:14.859Z"
      },
      {
        "duration": 6,
        "start_time": "2022-04-17T06:29:14.888Z"
      },
      {
        "duration": 6,
        "start_time": "2022-04-17T06:29:14.895Z"
      },
      {
        "duration": 45,
        "start_time": "2022-04-17T06:29:14.903Z"
      },
      {
        "duration": 19,
        "start_time": "2022-04-17T06:29:14.950Z"
      },
      {
        "duration": 6,
        "start_time": "2022-04-17T06:29:14.971Z"
      },
      {
        "duration": 6,
        "start_time": "2022-04-17T06:29:14.979Z"
      },
      {
        "duration": 11,
        "start_time": "2022-04-17T06:29:14.986Z"
      },
      {
        "duration": 12,
        "start_time": "2022-04-17T06:29:14.998Z"
      },
      {
        "duration": 245,
        "start_time": "2022-04-17T06:29:15.012Z"
      },
      {
        "duration": 173,
        "start_time": "2022-04-17T06:29:15.259Z"
      },
      {
        "duration": 159,
        "start_time": "2022-04-17T06:29:15.434Z"
      },
      {
        "duration": 175,
        "start_time": "2022-04-17T06:29:15.595Z"
      },
      {
        "duration": 154,
        "start_time": "2022-04-17T06:29:15.771Z"
      },
      {
        "duration": 145,
        "start_time": "2022-04-17T06:29:15.927Z"
      },
      {
        "duration": 151,
        "start_time": "2022-04-17T06:29:16.073Z"
      },
      {
        "duration": 177,
        "start_time": "2022-04-17T06:29:16.226Z"
      },
      {
        "duration": 4,
        "start_time": "2022-04-17T06:29:16.405Z"
      },
      {
        "duration": 10,
        "start_time": "2022-04-17T06:29:16.411Z"
      },
      {
        "duration": 25,
        "start_time": "2022-04-17T06:29:16.423Z"
      },
      {
        "duration": 4,
        "start_time": "2022-04-17T06:29:16.450Z"
      },
      {
        "duration": 19,
        "start_time": "2022-04-17T06:29:16.455Z"
      },
      {
        "duration": 4,
        "start_time": "2022-04-17T06:29:16.475Z"
      },
      {
        "duration": 5,
        "start_time": "2022-04-17T06:29:16.481Z"
      },
      {
        "duration": 4,
        "start_time": "2022-04-17T06:40:56.305Z"
      },
      {
        "duration": 31,
        "start_time": "2022-04-17T06:41:25.137Z"
      },
      {
        "duration": 10,
        "start_time": "2022-04-17T06:43:22.217Z"
      },
      {
        "duration": 49,
        "start_time": "2022-04-17T09:49:03.752Z"
      },
      {
        "duration": 1168,
        "start_time": "2022-04-17T09:49:06.698Z"
      },
      {
        "duration": 413,
        "start_time": "2022-04-17T09:49:07.868Z"
      },
      {
        "duration": 44,
        "start_time": "2022-04-17T09:49:08.283Z"
      },
      {
        "duration": 79,
        "start_time": "2022-04-17T09:49:08.330Z"
      },
      {
        "duration": 6,
        "start_time": "2022-04-17T09:49:08.411Z"
      },
      {
        "duration": 42,
        "start_time": "2022-04-17T09:49:08.418Z"
      },
      {
        "duration": 5,
        "start_time": "2022-04-17T09:49:08.462Z"
      },
      {
        "duration": 24,
        "start_time": "2022-04-17T09:49:08.468Z"
      },
      {
        "duration": 16,
        "start_time": "2022-04-17T09:49:08.493Z"
      },
      {
        "duration": 6,
        "start_time": "2022-04-17T09:49:08.513Z"
      },
      {
        "duration": 4,
        "start_time": "2022-04-17T09:49:08.521Z"
      },
      {
        "duration": 90,
        "start_time": "2022-04-17T09:49:08.555Z"
      },
      {
        "duration": 63,
        "start_time": "2022-04-17T09:49:08.647Z"
      },
      {
        "duration": 54,
        "start_time": "2022-04-17T09:49:08.712Z"
      },
      {
        "duration": 6,
        "start_time": "2022-04-17T09:49:08.767Z"
      },
      {
        "duration": 82,
        "start_time": "2022-04-17T09:49:08.775Z"
      },
      {
        "duration": 47,
        "start_time": "2022-04-17T09:49:08.858Z"
      },
      {
        "duration": 4,
        "start_time": "2022-04-17T09:49:08.907Z"
      },
      {
        "duration": 61,
        "start_time": "2022-04-17T09:49:08.912Z"
      },
      {
        "duration": 30,
        "start_time": "2022-04-17T09:49:08.975Z"
      },
      {
        "duration": 68,
        "start_time": "2022-04-17T09:49:09.007Z"
      },
      {
        "duration": 0,
        "start_time": "2022-04-17T09:49:09.077Z"
      },
      {
        "duration": 0,
        "start_time": "2022-04-17T09:49:09.078Z"
      },
      {
        "duration": 0,
        "start_time": "2022-04-17T09:49:09.079Z"
      },
      {
        "duration": 0,
        "start_time": "2022-04-17T09:49:09.080Z"
      },
      {
        "duration": 0,
        "start_time": "2022-04-17T09:49:09.081Z"
      },
      {
        "duration": 0,
        "start_time": "2022-04-17T09:49:09.082Z"
      },
      {
        "duration": 0,
        "start_time": "2022-04-17T09:49:09.083Z"
      },
      {
        "duration": 0,
        "start_time": "2022-04-17T09:49:09.084Z"
      },
      {
        "duration": 0,
        "start_time": "2022-04-17T09:49:09.085Z"
      },
      {
        "duration": 0,
        "start_time": "2022-04-17T09:49:09.086Z"
      },
      {
        "duration": 0,
        "start_time": "2022-04-17T09:49:09.087Z"
      },
      {
        "duration": 0,
        "start_time": "2022-04-17T09:49:09.088Z"
      },
      {
        "duration": 0,
        "start_time": "2022-04-17T09:49:09.089Z"
      },
      {
        "duration": 0,
        "start_time": "2022-04-17T09:49:09.090Z"
      },
      {
        "duration": 0,
        "start_time": "2022-04-17T09:49:09.091Z"
      },
      {
        "duration": 0,
        "start_time": "2022-04-17T09:49:09.092Z"
      },
      {
        "duration": 0,
        "start_time": "2022-04-17T09:49:09.093Z"
      },
      {
        "duration": 0,
        "start_time": "2022-04-17T09:49:09.094Z"
      },
      {
        "duration": 0,
        "start_time": "2022-04-17T09:49:09.095Z"
      },
      {
        "duration": 0,
        "start_time": "2022-04-17T09:49:09.096Z"
      },
      {
        "duration": 0,
        "start_time": "2022-04-17T09:49:09.097Z"
      },
      {
        "duration": 0,
        "start_time": "2022-04-17T09:49:09.098Z"
      },
      {
        "duration": 0,
        "start_time": "2022-04-17T09:49:09.098Z"
      },
      {
        "duration": 0,
        "start_time": "2022-04-17T09:49:09.099Z"
      },
      {
        "duration": 0,
        "start_time": "2022-04-17T09:49:09.101Z"
      },
      {
        "duration": 0,
        "start_time": "2022-04-17T09:49:09.102Z"
      },
      {
        "duration": 0,
        "start_time": "2022-04-17T09:49:09.103Z"
      },
      {
        "duration": 0,
        "start_time": "2022-04-17T09:49:09.104Z"
      },
      {
        "duration": 0,
        "start_time": "2022-04-17T09:49:09.104Z"
      },
      {
        "duration": 0,
        "start_time": "2022-04-17T09:49:09.105Z"
      },
      {
        "duration": 0,
        "start_time": "2022-04-17T09:49:09.106Z"
      },
      {
        "duration": 0,
        "start_time": "2022-04-17T09:49:09.155Z"
      },
      {
        "duration": 3,
        "start_time": "2022-04-17T09:49:25.238Z"
      },
      {
        "duration": 361,
        "start_time": "2022-04-17T09:49:25.244Z"
      },
      {
        "duration": 35,
        "start_time": "2022-04-17T09:49:25.607Z"
      },
      {
        "duration": 63,
        "start_time": "2022-04-17T09:49:25.655Z"
      },
      {
        "duration": 5,
        "start_time": "2022-04-17T09:49:25.720Z"
      },
      {
        "duration": 35,
        "start_time": "2022-04-17T09:49:25.727Z"
      },
      {
        "duration": 5,
        "start_time": "2022-04-17T09:49:25.764Z"
      },
      {
        "duration": 17,
        "start_time": "2022-04-17T09:49:25.770Z"
      },
      {
        "duration": 13,
        "start_time": "2022-04-17T09:49:25.789Z"
      },
      {
        "duration": 5,
        "start_time": "2022-04-17T09:49:25.803Z"
      },
      {
        "duration": 7,
        "start_time": "2022-04-17T09:49:25.809Z"
      },
      {
        "duration": 116,
        "start_time": "2022-04-17T09:49:25.817Z"
      },
      {
        "duration": 65,
        "start_time": "2022-04-17T09:49:25.934Z"
      },
      {
        "duration": 55,
        "start_time": "2022-04-17T09:49:26.000Z"
      },
      {
        "duration": 6,
        "start_time": "2022-04-17T09:49:26.057Z"
      },
      {
        "duration": 71,
        "start_time": "2022-04-17T09:49:26.065Z"
      },
      {
        "duration": 63,
        "start_time": "2022-04-17T09:49:26.137Z"
      },
      {
        "duration": 4,
        "start_time": "2022-04-17T09:49:26.202Z"
      },
      {
        "duration": 29,
        "start_time": "2022-04-17T09:49:26.207Z"
      },
      {
        "duration": 41,
        "start_time": "2022-04-17T09:49:26.238Z"
      },
      {
        "duration": 29,
        "start_time": "2022-04-17T09:49:26.281Z"
      },
      {
        "duration": 44,
        "start_time": "2022-04-17T09:49:26.311Z"
      },
      {
        "duration": 24,
        "start_time": "2022-04-17T09:49:26.357Z"
      },
      {
        "duration": 4,
        "start_time": "2022-04-17T09:49:26.384Z"
      },
      {
        "duration": 104,
        "start_time": "2022-04-17T09:49:26.390Z"
      },
      {
        "duration": 29,
        "start_time": "2022-04-17T09:49:26.496Z"
      },
      {
        "duration": 4,
        "start_time": "2022-04-17T09:49:26.527Z"
      },
      {
        "duration": 5,
        "start_time": "2022-04-17T09:49:26.532Z"
      },
      {
        "duration": 27,
        "start_time": "2022-04-17T09:49:26.555Z"
      },
      {
        "duration": 6,
        "start_time": "2022-04-17T09:49:26.584Z"
      },
      {
        "duration": 7,
        "start_time": "2022-04-17T09:49:26.592Z"
      },
      {
        "duration": 20,
        "start_time": "2022-04-17T09:49:26.600Z"
      },
      {
        "duration": 40,
        "start_time": "2022-04-17T09:49:26.622Z"
      },
      {
        "duration": 7,
        "start_time": "2022-04-17T09:49:26.663Z"
      },
      {
        "duration": 10,
        "start_time": "2022-04-17T09:49:26.672Z"
      },
      {
        "duration": 12,
        "start_time": "2022-04-17T09:49:26.684Z"
      },
      {
        "duration": 11,
        "start_time": "2022-04-17T09:49:26.697Z"
      },
      {
        "duration": 212,
        "start_time": "2022-04-17T09:49:26.709Z"
      },
      {
        "duration": 170,
        "start_time": "2022-04-17T09:49:26.922Z"
      },
      {
        "duration": 166,
        "start_time": "2022-04-17T09:49:27.094Z"
      },
      {
        "duration": 169,
        "start_time": "2022-04-17T09:49:27.261Z"
      },
      {
        "duration": 149,
        "start_time": "2022-04-17T09:49:27.431Z"
      },
      {
        "duration": 149,
        "start_time": "2022-04-17T09:49:27.581Z"
      },
      {
        "duration": 157,
        "start_time": "2022-04-17T09:49:27.732Z"
      },
      {
        "duration": 176,
        "start_time": "2022-04-17T09:49:27.891Z"
      },
      {
        "duration": 5,
        "start_time": "2022-04-17T09:49:28.068Z"
      },
      {
        "duration": 10,
        "start_time": "2022-04-17T09:49:28.074Z"
      },
      {
        "duration": 19,
        "start_time": "2022-04-17T09:49:28.085Z"
      },
      {
        "duration": 4,
        "start_time": "2022-04-17T09:49:28.105Z"
      },
      {
        "duration": 18,
        "start_time": "2022-04-17T09:49:28.111Z"
      },
      {
        "duration": 27,
        "start_time": "2022-04-17T09:49:28.130Z"
      },
      {
        "duration": 11,
        "start_time": "2022-04-17T09:49:28.158Z"
      },
      {
        "duration": 27,
        "start_time": "2022-04-17T09:52:28.059Z"
      },
      {
        "duration": 9,
        "start_time": "2022-04-17T09:52:52.140Z"
      },
      {
        "duration": 11,
        "start_time": "2022-04-17T10:01:51.130Z"
      },
      {
        "duration": 30,
        "start_time": "2022-04-17T10:02:00.588Z"
      },
      {
        "duration": 11,
        "start_time": "2022-04-17T10:02:13.775Z"
      },
      {
        "duration": 10,
        "start_time": "2022-04-17T10:03:26.130Z"
      },
      {
        "duration": 26,
        "start_time": "2022-04-17T10:03:32.207Z"
      },
      {
        "duration": 43,
        "start_time": "2022-04-17T10:03:47.862Z"
      },
      {
        "duration": 58,
        "start_time": "2022-04-17T10:04:09.256Z"
      },
      {
        "duration": 4,
        "start_time": "2022-04-17T10:06:54.656Z"
      },
      {
        "duration": 11,
        "start_time": "2022-04-17T10:07:04.185Z"
      },
      {
        "duration": 12,
        "start_time": "2022-04-17T10:07:12.464Z"
      },
      {
        "duration": 11,
        "start_time": "2022-04-17T10:07:14.324Z"
      },
      {
        "duration": 11,
        "start_time": "2022-04-17T10:07:16.465Z"
      },
      {
        "duration": 7,
        "start_time": "2022-04-17T10:07:38.065Z"
      },
      {
        "duration": 5,
        "start_time": "2022-04-17T10:07:54.049Z"
      },
      {
        "duration": 9,
        "start_time": "2022-04-17T10:07:55.917Z"
      },
      {
        "duration": 3,
        "start_time": "2022-04-17T10:08:00.015Z"
      },
      {
        "duration": 397,
        "start_time": "2022-04-17T10:08:00.021Z"
      },
      {
        "duration": 46,
        "start_time": "2022-04-17T10:08:00.419Z"
      },
      {
        "duration": 67,
        "start_time": "2022-04-17T10:08:00.467Z"
      },
      {
        "duration": 6,
        "start_time": "2022-04-17T10:08:00.554Z"
      },
      {
        "duration": 47,
        "start_time": "2022-04-17T10:08:00.562Z"
      },
      {
        "duration": 6,
        "start_time": "2022-04-17T10:08:00.611Z"
      },
      {
        "duration": 33,
        "start_time": "2022-04-17T10:08:00.618Z"
      },
      {
        "duration": 38,
        "start_time": "2022-04-17T10:08:00.653Z"
      },
      {
        "duration": 14,
        "start_time": "2022-04-17T10:08:00.692Z"
      },
      {
        "duration": 26,
        "start_time": "2022-04-17T10:08:00.707Z"
      },
      {
        "duration": 112,
        "start_time": "2022-04-17T10:08:00.734Z"
      },
      {
        "duration": 63,
        "start_time": "2022-04-17T10:08:00.848Z"
      },
      {
        "duration": 56,
        "start_time": "2022-04-17T10:08:00.914Z"
      },
      {
        "duration": 6,
        "start_time": "2022-04-17T10:08:00.971Z"
      },
      {
        "duration": 89,
        "start_time": "2022-04-17T10:08:00.979Z"
      },
      {
        "duration": 51,
        "start_time": "2022-04-17T10:08:01.069Z"
      },
      {
        "duration": 5,
        "start_time": "2022-04-17T10:08:01.121Z"
      },
      {
        "duration": 56,
        "start_time": "2022-04-17T10:08:01.128Z"
      },
      {
        "duration": 31,
        "start_time": "2022-04-17T10:08:01.186Z"
      },
      {
        "duration": 47,
        "start_time": "2022-04-17T10:08:01.219Z"
      },
      {
        "duration": 29,
        "start_time": "2022-04-17T10:08:01.268Z"
      },
      {
        "duration": 46,
        "start_time": "2022-04-17T10:08:01.299Z"
      },
      {
        "duration": 15,
        "start_time": "2022-04-17T10:08:01.347Z"
      },
      {
        "duration": 34,
        "start_time": "2022-04-17T10:08:01.364Z"
      },
      {
        "duration": 40,
        "start_time": "2022-04-17T10:08:01.400Z"
      },
      {
        "duration": 82,
        "start_time": "2022-04-17T10:08:01.442Z"
      },
      {
        "duration": 56,
        "start_time": "2022-04-17T10:08:01.526Z"
      },
      {
        "duration": 213,
        "start_time": "2022-04-17T10:08:01.585Z"
      },
      {
        "duration": 39,
        "start_time": "2022-04-17T10:08:01.801Z"
      },
      {
        "duration": 17,
        "start_time": "2022-04-17T10:08:01.842Z"
      },
      {
        "duration": 8,
        "start_time": "2022-04-17T10:08:01.861Z"
      },
      {
        "duration": 53,
        "start_time": "2022-04-17T10:08:01.871Z"
      },
      {
        "duration": 6,
        "start_time": "2022-04-17T10:08:01.926Z"
      },
      {
        "duration": 29,
        "start_time": "2022-04-17T10:08:01.934Z"
      },
      {
        "duration": 24,
        "start_time": "2022-04-17T10:08:01.965Z"
      },
      {
        "duration": 21,
        "start_time": "2022-04-17T10:08:01.991Z"
      },
      {
        "duration": 22,
        "start_time": "2022-04-17T10:08:02.013Z"
      },
      {
        "duration": 23,
        "start_time": "2022-04-17T10:08:02.037Z"
      },
      {
        "duration": 28,
        "start_time": "2022-04-17T10:08:02.062Z"
      },
      {
        "duration": 14,
        "start_time": "2022-04-17T10:08:02.096Z"
      },
      {
        "duration": 275,
        "start_time": "2022-04-17T10:08:02.112Z"
      },
      {
        "duration": 172,
        "start_time": "2022-04-17T10:08:02.389Z"
      },
      {
        "duration": 166,
        "start_time": "2022-04-17T10:08:02.562Z"
      },
      {
        "duration": 163,
        "start_time": "2022-04-17T10:08:02.730Z"
      },
      {
        "duration": 153,
        "start_time": "2022-04-17T10:08:02.895Z"
      },
      {
        "duration": 158,
        "start_time": "2022-04-17T10:08:03.049Z"
      },
      {
        "duration": 168,
        "start_time": "2022-04-17T10:08:03.209Z"
      },
      {
        "duration": 186,
        "start_time": "2022-04-17T10:08:03.379Z"
      },
      {
        "duration": 4,
        "start_time": "2022-04-17T10:08:03.567Z"
      },
      {
        "duration": 10,
        "start_time": "2022-04-17T10:08:03.573Z"
      },
      {
        "duration": 18,
        "start_time": "2022-04-17T10:08:03.584Z"
      },
      {
        "duration": 4,
        "start_time": "2022-04-17T10:08:03.604Z"
      },
      {
        "duration": 47,
        "start_time": "2022-04-17T10:08:03.609Z"
      },
      {
        "duration": 4,
        "start_time": "2022-04-17T10:08:03.657Z"
      },
      {
        "duration": 6,
        "start_time": "2022-04-17T10:08:03.663Z"
      },
      {
        "duration": 7,
        "start_time": "2022-04-17T10:09:13.411Z"
      },
      {
        "duration": 3,
        "start_time": "2022-04-17T10:09:59.248Z"
      },
      {
        "duration": 403,
        "start_time": "2022-04-17T10:09:59.254Z"
      },
      {
        "duration": 38,
        "start_time": "2022-04-17T10:09:59.659Z"
      },
      {
        "duration": 86,
        "start_time": "2022-04-17T10:09:59.698Z"
      },
      {
        "duration": 5,
        "start_time": "2022-04-17T10:09:59.786Z"
      },
      {
        "duration": 24,
        "start_time": "2022-04-17T10:09:59.793Z"
      },
      {
        "duration": 5,
        "start_time": "2022-04-17T10:09:59.819Z"
      },
      {
        "duration": 35,
        "start_time": "2022-04-17T10:09:59.825Z"
      },
      {
        "duration": 14,
        "start_time": "2022-04-17T10:09:59.862Z"
      },
      {
        "duration": 7,
        "start_time": "2022-04-17T10:09:59.878Z"
      },
      {
        "duration": 10,
        "start_time": "2022-04-17T10:09:59.886Z"
      },
      {
        "duration": 130,
        "start_time": "2022-04-17T10:09:59.898Z"
      },
      {
        "duration": 76,
        "start_time": "2022-04-17T10:10:00.030Z"
      },
      {
        "duration": 55,
        "start_time": "2022-04-17T10:10:00.108Z"
      },
      {
        "duration": 6,
        "start_time": "2022-04-17T10:10:00.166Z"
      },
      {
        "duration": 82,
        "start_time": "2022-04-17T10:10:00.173Z"
      },
      {
        "duration": 51,
        "start_time": "2022-04-17T10:10:00.256Z"
      },
      {
        "duration": 3,
        "start_time": "2022-04-17T10:10:00.309Z"
      },
      {
        "duration": 60,
        "start_time": "2022-04-17T10:10:00.314Z"
      },
      {
        "duration": 27,
        "start_time": "2022-04-17T10:10:00.376Z"
      },
      {
        "duration": 29,
        "start_time": "2022-04-17T10:10:00.405Z"
      },
      {
        "duration": 31,
        "start_time": "2022-04-17T10:10:00.454Z"
      },
      {
        "duration": 25,
        "start_time": "2022-04-17T10:10:00.486Z"
      },
      {
        "duration": 12,
        "start_time": "2022-04-17T10:10:00.513Z"
      },
      {
        "duration": 33,
        "start_time": "2022-04-17T10:10:00.526Z"
      },
      {
        "duration": 28,
        "start_time": "2022-04-17T10:10:00.560Z"
      },
      {
        "duration": 39,
        "start_time": "2022-04-17T10:10:00.590Z"
      },
      {
        "duration": 30,
        "start_time": "2022-04-17T10:10:00.631Z"
      },
      {
        "duration": 6,
        "start_time": "2022-04-17T10:10:00.663Z"
      },
      {
        "duration": 99,
        "start_time": "2022-04-17T10:10:00.670Z"
      },
      {
        "duration": 41,
        "start_time": "2022-04-17T10:10:00.770Z"
      },
      {
        "duration": 9,
        "start_time": "2022-04-17T10:10:00.813Z"
      },
      {
        "duration": 17,
        "start_time": "2022-04-17T10:10:00.823Z"
      },
      {
        "duration": 29,
        "start_time": "2022-04-17T10:10:00.842Z"
      },
      {
        "duration": 18,
        "start_time": "2022-04-17T10:10:00.873Z"
      },
      {
        "duration": 23,
        "start_time": "2022-04-17T10:10:00.892Z"
      },
      {
        "duration": 21,
        "start_time": "2022-04-17T10:10:00.917Z"
      },
      {
        "duration": 16,
        "start_time": "2022-04-17T10:10:00.939Z"
      },
      {
        "duration": 7,
        "start_time": "2022-04-17T10:10:00.956Z"
      },
      {
        "duration": 11,
        "start_time": "2022-04-17T10:10:00.965Z"
      },
      {
        "duration": 24,
        "start_time": "2022-04-17T10:10:00.978Z"
      },
      {
        "duration": 16,
        "start_time": "2022-04-17T10:10:01.006Z"
      },
      {
        "duration": 198,
        "start_time": "2022-04-17T10:10:01.024Z"
      },
      {
        "duration": 284,
        "start_time": "2022-04-17T10:10:01.224Z"
      },
      {
        "duration": 280,
        "start_time": "2022-04-17T10:10:01.509Z"
      },
      {
        "duration": 172,
        "start_time": "2022-04-17T10:10:01.790Z"
      },
      {
        "duration": 168,
        "start_time": "2022-04-17T10:10:01.963Z"
      },
      {
        "duration": 162,
        "start_time": "2022-04-17T10:10:02.132Z"
      },
      {
        "duration": 171,
        "start_time": "2022-04-17T10:10:02.296Z"
      },
      {
        "duration": 191,
        "start_time": "2022-04-17T10:10:02.468Z"
      },
      {
        "duration": 4,
        "start_time": "2022-04-17T10:10:02.661Z"
      },
      {
        "duration": 15,
        "start_time": "2022-04-17T10:10:02.666Z"
      },
      {
        "duration": 34,
        "start_time": "2022-04-17T10:10:02.682Z"
      },
      {
        "duration": 9,
        "start_time": "2022-04-17T10:10:02.718Z"
      },
      {
        "duration": 29,
        "start_time": "2022-04-17T10:10:02.728Z"
      },
      {
        "duration": 4,
        "start_time": "2022-04-17T10:10:02.759Z"
      },
      {
        "duration": 9,
        "start_time": "2022-04-17T10:10:02.765Z"
      },
      {
        "duration": 12,
        "start_time": "2022-04-17T10:10:38.946Z"
      },
      {
        "duration": 4,
        "start_time": "2022-04-17T10:12:25.023Z"
      },
      {
        "duration": 380,
        "start_time": "2022-04-17T10:12:25.030Z"
      },
      {
        "duration": 51,
        "start_time": "2022-04-17T10:12:25.411Z"
      },
      {
        "duration": 67,
        "start_time": "2022-04-17T10:12:25.464Z"
      },
      {
        "duration": 25,
        "start_time": "2022-04-17T10:12:25.534Z"
      },
      {
        "duration": 24,
        "start_time": "2022-04-17T10:12:25.560Z"
      },
      {
        "duration": 6,
        "start_time": "2022-04-17T10:12:25.586Z"
      },
      {
        "duration": 21,
        "start_time": "2022-04-17T10:12:25.593Z"
      },
      {
        "duration": 41,
        "start_time": "2022-04-17T10:12:25.615Z"
      },
      {
        "duration": 6,
        "start_time": "2022-04-17T10:12:25.657Z"
      },
      {
        "duration": 7,
        "start_time": "2022-04-17T10:12:25.665Z"
      },
      {
        "duration": 118,
        "start_time": "2022-04-17T10:12:25.674Z"
      },
      {
        "duration": 69,
        "start_time": "2022-04-17T10:12:25.793Z"
      },
      {
        "duration": 69,
        "start_time": "2022-04-17T10:12:25.866Z"
      },
      {
        "duration": 22,
        "start_time": "2022-04-17T10:12:25.938Z"
      },
      {
        "duration": 130,
        "start_time": "2022-04-17T10:12:25.962Z"
      },
      {
        "duration": 73,
        "start_time": "2022-04-17T10:12:26.094Z"
      },
      {
        "duration": 5,
        "start_time": "2022-04-17T10:12:26.171Z"
      },
      {
        "duration": 47,
        "start_time": "2022-04-17T10:12:26.178Z"
      },
      {
        "duration": 43,
        "start_time": "2022-04-17T10:12:26.227Z"
      },
      {
        "duration": 29,
        "start_time": "2022-04-17T10:12:26.271Z"
      },
      {
        "duration": 28,
        "start_time": "2022-04-17T10:12:26.301Z"
      },
      {
        "duration": 27,
        "start_time": "2022-04-17T10:12:26.355Z"
      },
      {
        "duration": 5,
        "start_time": "2022-04-17T10:12:26.384Z"
      },
      {
        "duration": 11,
        "start_time": "2022-04-17T10:12:26.391Z"
      },
      {
        "duration": 110,
        "start_time": "2022-04-17T10:12:26.404Z"
      },
      {
        "duration": 51,
        "start_time": "2022-04-17T10:12:26.516Z"
      },
      {
        "duration": 5,
        "start_time": "2022-04-17T10:12:26.569Z"
      },
      {
        "duration": 7,
        "start_time": "2022-04-17T10:12:26.577Z"
      },
      {
        "duration": 47,
        "start_time": "2022-04-17T10:12:26.586Z"
      },
      {
        "duration": 26,
        "start_time": "2022-04-17T10:12:26.635Z"
      },
      {
        "duration": 8,
        "start_time": "2022-04-17T10:12:26.663Z"
      },
      {
        "duration": 19,
        "start_time": "2022-04-17T10:12:26.672Z"
      },
      {
        "duration": 19,
        "start_time": "2022-04-17T10:12:26.693Z"
      },
      {
        "duration": 41,
        "start_time": "2022-04-17T10:12:26.713Z"
      },
      {
        "duration": 10,
        "start_time": "2022-04-17T10:12:26.757Z"
      },
      {
        "duration": 21,
        "start_time": "2022-04-17T10:12:26.769Z"
      },
      {
        "duration": 11,
        "start_time": "2022-04-17T10:12:26.792Z"
      },
      {
        "duration": 327,
        "start_time": "2022-04-17T10:12:26.805Z"
      },
      {
        "duration": 284,
        "start_time": "2022-04-17T10:12:27.134Z"
      },
      {
        "duration": 282,
        "start_time": "2022-04-17T10:12:27.423Z"
      },
      {
        "duration": 175,
        "start_time": "2022-04-17T10:12:27.707Z"
      },
      {
        "duration": 159,
        "start_time": "2022-04-17T10:12:27.884Z"
      },
      {
        "duration": 281,
        "start_time": "2022-04-17T10:12:28.045Z"
      },
      {
        "duration": 264,
        "start_time": "2022-04-17T10:12:28.328Z"
      },
      {
        "duration": 297,
        "start_time": "2022-04-17T10:12:28.594Z"
      },
      {
        "duration": 6,
        "start_time": "2022-04-17T10:12:28.894Z"
      },
      {
        "duration": 36,
        "start_time": "2022-04-17T10:12:28.902Z"
      },
      {
        "duration": 38,
        "start_time": "2022-04-17T10:12:28.940Z"
      },
      {
        "duration": 5,
        "start_time": "2022-04-17T10:12:28.981Z"
      },
      {
        "duration": 25,
        "start_time": "2022-04-17T10:12:28.988Z"
      },
      {
        "duration": 11,
        "start_time": "2022-04-17T10:12:29.015Z"
      },
      {
        "duration": 19,
        "start_time": "2022-04-17T10:12:29.027Z"
      },
      {
        "duration": 186,
        "start_time": "2022-04-17T10:24:45.813Z"
      },
      {
        "duration": 174,
        "start_time": "2022-04-17T10:26:24.426Z"
      },
      {
        "duration": 174,
        "start_time": "2022-04-17T10:28:43.390Z"
      },
      {
        "duration": 296,
        "start_time": "2022-04-17T10:28:53.231Z"
      },
      {
        "duration": 295,
        "start_time": "2022-04-17T10:28:57.110Z"
      },
      {
        "duration": 148,
        "start_time": "2022-04-17T10:29:17.030Z"
      },
      {
        "duration": 140,
        "start_time": "2022-04-17T10:30:54.711Z"
      },
      {
        "duration": 559,
        "start_time": "2022-04-17T10:31:08.839Z"
      },
      {
        "duration": 245,
        "start_time": "2022-04-17T10:31:15.049Z"
      },
      {
        "duration": 237,
        "start_time": "2022-04-17T10:31:25.832Z"
      },
      {
        "duration": 271,
        "start_time": "2022-04-17T10:31:36.175Z"
      },
      {
        "duration": 14,
        "start_time": "2022-04-17T10:32:00.805Z"
      },
      {
        "duration": 248,
        "start_time": "2022-04-17T10:32:04.703Z"
      },
      {
        "duration": 155,
        "start_time": "2022-04-17T10:32:15.068Z"
      },
      {
        "duration": 281,
        "start_time": "2022-04-17T10:32:18.823Z"
      },
      {
        "duration": 144,
        "start_time": "2022-04-17T10:32:55.982Z"
      },
      {
        "duration": 167,
        "start_time": "2022-04-17T10:33:00.057Z"
      },
      {
        "duration": 3,
        "start_time": "2022-04-17T10:34:56.495Z"
      },
      {
        "duration": 364,
        "start_time": "2022-04-17T10:34:56.500Z"
      },
      {
        "duration": 40,
        "start_time": "2022-04-17T10:34:56.866Z"
      },
      {
        "duration": 78,
        "start_time": "2022-04-17T10:34:56.907Z"
      },
      {
        "duration": 6,
        "start_time": "2022-04-17T10:34:56.987Z"
      },
      {
        "duration": 23,
        "start_time": "2022-04-17T10:34:56.994Z"
      },
      {
        "duration": 5,
        "start_time": "2022-04-17T10:34:57.018Z"
      },
      {
        "duration": 37,
        "start_time": "2022-04-17T10:34:57.025Z"
      },
      {
        "duration": 13,
        "start_time": "2022-04-17T10:34:57.064Z"
      },
      {
        "duration": 6,
        "start_time": "2022-04-17T10:34:57.079Z"
      },
      {
        "duration": 6,
        "start_time": "2022-04-17T10:34:57.087Z"
      },
      {
        "duration": 107,
        "start_time": "2022-04-17T10:34:57.095Z"
      },
      {
        "duration": 57,
        "start_time": "2022-04-17T10:34:57.203Z"
      },
      {
        "duration": 43,
        "start_time": "2022-04-17T10:34:57.261Z"
      },
      {
        "duration": 5,
        "start_time": "2022-04-17T10:34:57.306Z"
      },
      {
        "duration": 90,
        "start_time": "2022-04-17T10:34:57.312Z"
      },
      {
        "duration": 53,
        "start_time": "2022-04-17T10:34:57.404Z"
      },
      {
        "duration": 4,
        "start_time": "2022-04-17T10:34:57.458Z"
      },
      {
        "duration": 26,
        "start_time": "2022-04-17T10:34:57.463Z"
      },
      {
        "duration": 25,
        "start_time": "2022-04-17T10:34:57.491Z"
      },
      {
        "duration": 49,
        "start_time": "2022-04-17T10:34:57.517Z"
      },
      {
        "duration": 25,
        "start_time": "2022-04-17T10:34:57.567Z"
      },
      {
        "duration": 23,
        "start_time": "2022-04-17T10:34:57.594Z"
      },
      {
        "duration": 3,
        "start_time": "2022-04-17T10:34:57.619Z"
      },
      {
        "duration": 5,
        "start_time": "2022-04-17T10:34:57.624Z"
      },
      {
        "duration": 107,
        "start_time": "2022-04-17T10:34:57.630Z"
      },
      {
        "duration": 32,
        "start_time": "2022-04-17T10:34:57.739Z"
      },
      {
        "duration": 5,
        "start_time": "2022-04-17T10:34:57.773Z"
      },
      {
        "duration": 2,
        "start_time": "2022-04-17T10:34:57.781Z"
      },
      {
        "duration": 27,
        "start_time": "2022-04-17T10:34:57.785Z"
      },
      {
        "duration": 7,
        "start_time": "2022-04-17T10:34:57.813Z"
      },
      {
        "duration": 7,
        "start_time": "2022-04-17T10:34:57.821Z"
      },
      {
        "duration": 41,
        "start_time": "2022-04-17T10:34:57.829Z"
      },
      {
        "duration": 16,
        "start_time": "2022-04-17T10:34:57.872Z"
      },
      {
        "duration": 6,
        "start_time": "2022-04-17T10:34:57.890Z"
      },
      {
        "duration": 5,
        "start_time": "2022-04-17T10:34:57.898Z"
      },
      {
        "duration": 14,
        "start_time": "2022-04-17T10:34:57.905Z"
      },
      {
        "duration": 42,
        "start_time": "2022-04-17T10:34:57.920Z"
      },
      {
        "duration": 176,
        "start_time": "2022-04-17T10:34:57.963Z"
      },
      {
        "duration": 159,
        "start_time": "2022-04-17T10:34:58.140Z"
      },
      {
        "duration": 161,
        "start_time": "2022-04-17T10:34:58.301Z"
      },
      {
        "duration": 166,
        "start_time": "2022-04-17T10:34:58.463Z"
      },
      {
        "duration": 141,
        "start_time": "2022-04-17T10:34:58.630Z"
      },
      {
        "duration": 336,
        "start_time": "2022-04-17T10:34:58.773Z"
      },
      {
        "duration": 153,
        "start_time": "2022-04-17T10:34:59.111Z"
      },
      {
        "duration": 174,
        "start_time": "2022-04-17T10:34:59.266Z"
      },
      {
        "duration": 167,
        "start_time": "2022-04-17T10:34:59.442Z"
      },
      {
        "duration": 125,
        "start_time": "2022-04-17T10:34:59.611Z"
      },
      {
        "duration": 0,
        "start_time": "2022-04-17T10:34:59.738Z"
      },
      {
        "duration": 0,
        "start_time": "2022-04-17T10:34:59.739Z"
      },
      {
        "duration": 1,
        "start_time": "2022-04-17T10:34:59.740Z"
      },
      {
        "duration": 0,
        "start_time": "2022-04-17T10:34:59.742Z"
      },
      {
        "duration": 0,
        "start_time": "2022-04-17T10:34:59.742Z"
      },
      {
        "duration": 0,
        "start_time": "2022-04-17T10:34:59.743Z"
      },
      {
        "duration": 0,
        "start_time": "2022-04-17T10:34:59.745Z"
      },
      {
        "duration": 152,
        "start_time": "2022-04-17T10:35:13.773Z"
      },
      {
        "duration": 3,
        "start_time": "2022-04-17T10:35:36.426Z"
      },
      {
        "duration": 351,
        "start_time": "2022-04-17T10:35:36.431Z"
      },
      {
        "duration": 40,
        "start_time": "2022-04-17T10:35:36.784Z"
      },
      {
        "duration": 90,
        "start_time": "2022-04-17T10:35:36.825Z"
      },
      {
        "duration": 6,
        "start_time": "2022-04-17T10:35:36.917Z"
      },
      {
        "duration": 35,
        "start_time": "2022-04-17T10:35:36.924Z"
      },
      {
        "duration": 6,
        "start_time": "2022-04-17T10:35:36.960Z"
      },
      {
        "duration": 19,
        "start_time": "2022-04-17T10:35:36.967Z"
      },
      {
        "duration": 14,
        "start_time": "2022-04-17T10:35:36.989Z"
      },
      {
        "duration": 6,
        "start_time": "2022-04-17T10:35:37.004Z"
      },
      {
        "duration": 5,
        "start_time": "2022-04-17T10:35:37.012Z"
      },
      {
        "duration": 125,
        "start_time": "2022-04-17T10:35:37.018Z"
      },
      {
        "duration": 64,
        "start_time": "2022-04-17T10:35:37.145Z"
      },
      {
        "duration": 58,
        "start_time": "2022-04-17T10:35:37.210Z"
      },
      {
        "duration": 6,
        "start_time": "2022-04-17T10:35:37.269Z"
      },
      {
        "duration": 85,
        "start_time": "2022-04-17T10:35:37.276Z"
      },
      {
        "duration": 47,
        "start_time": "2022-04-17T10:35:37.362Z"
      },
      {
        "duration": 4,
        "start_time": "2022-04-17T10:35:37.410Z"
      },
      {
        "duration": 49,
        "start_time": "2022-04-17T10:35:37.415Z"
      },
      {
        "duration": 26,
        "start_time": "2022-04-17T10:35:37.465Z"
      },
      {
        "duration": 34,
        "start_time": "2022-04-17T10:35:37.493Z"
      },
      {
        "duration": 37,
        "start_time": "2022-04-17T10:35:37.528Z"
      },
      {
        "duration": 24,
        "start_time": "2022-04-17T10:35:37.567Z"
      },
      {
        "duration": 4,
        "start_time": "2022-04-17T10:35:37.595Z"
      },
      {
        "duration": 12,
        "start_time": "2022-04-17T10:35:37.601Z"
      },
      {
        "duration": 106,
        "start_time": "2022-04-17T10:35:37.615Z"
      },
      {
        "duration": 24,
        "start_time": "2022-04-17T10:35:37.723Z"
      },
      {
        "duration": 4,
        "start_time": "2022-04-17T10:35:37.755Z"
      },
      {
        "duration": 18,
        "start_time": "2022-04-17T10:35:37.761Z"
      },
      {
        "duration": 36,
        "start_time": "2022-04-17T10:35:37.780Z"
      },
      {
        "duration": 15,
        "start_time": "2022-04-17T10:35:37.818Z"
      },
      {
        "duration": 12,
        "start_time": "2022-04-17T10:35:37.835Z"
      },
      {
        "duration": 32,
        "start_time": "2022-04-17T10:35:37.848Z"
      },
      {
        "duration": 17,
        "start_time": "2022-04-17T10:35:37.882Z"
      },
      {
        "duration": 8,
        "start_time": "2022-04-17T10:35:37.900Z"
      },
      {
        "duration": 9,
        "start_time": "2022-04-17T10:35:37.910Z"
      },
      {
        "duration": 17,
        "start_time": "2022-04-17T10:35:37.921Z"
      },
      {
        "duration": 17,
        "start_time": "2022-04-17T10:35:37.939Z"
      },
      {
        "duration": 190,
        "start_time": "2022-04-17T10:35:37.958Z"
      },
      {
        "duration": 166,
        "start_time": "2022-04-17T10:35:38.154Z"
      },
      {
        "duration": 167,
        "start_time": "2022-04-17T10:35:38.322Z"
      },
      {
        "duration": 167,
        "start_time": "2022-04-17T10:35:38.491Z"
      },
      {
        "duration": 149,
        "start_time": "2022-04-17T10:35:38.659Z"
      },
      {
        "duration": 146,
        "start_time": "2022-04-17T10:35:38.809Z"
      },
      {
        "duration": 151,
        "start_time": "2022-04-17T10:35:38.956Z"
      },
      {
        "duration": 179,
        "start_time": "2022-04-17T10:35:39.108Z"
      },
      {
        "duration": 168,
        "start_time": "2022-04-17T10:35:39.289Z"
      },
      {
        "duration": 5,
        "start_time": "2022-04-17T10:35:39.459Z"
      },
      {
        "duration": 18,
        "start_time": "2022-04-17T10:35:39.465Z"
      },
      {
        "duration": 18,
        "start_time": "2022-04-17T10:35:39.484Z"
      },
      {
        "duration": 5,
        "start_time": "2022-04-17T10:35:39.503Z"
      },
      {
        "duration": 17,
        "start_time": "2022-04-17T10:35:39.510Z"
      },
      {
        "duration": 29,
        "start_time": "2022-04-17T10:35:39.529Z"
      },
      {
        "duration": 5,
        "start_time": "2022-04-17T10:35:39.560Z"
      },
      {
        "duration": 1434,
        "start_time": "2022-04-17T16:39:15.457Z"
      },
      {
        "duration": 545,
        "start_time": "2022-04-17T16:39:16.894Z"
      },
      {
        "duration": 73,
        "start_time": "2022-04-17T16:39:17.442Z"
      },
      {
        "duration": 123,
        "start_time": "2022-04-17T16:39:17.518Z"
      },
      {
        "duration": 9,
        "start_time": "2022-04-17T16:39:17.643Z"
      },
      {
        "duration": 52,
        "start_time": "2022-04-17T16:39:17.654Z"
      },
      {
        "duration": 8,
        "start_time": "2022-04-17T16:39:17.708Z"
      },
      {
        "duration": 28,
        "start_time": "2022-04-17T16:39:17.719Z"
      },
      {
        "duration": 38,
        "start_time": "2022-04-17T16:39:17.749Z"
      },
      {
        "duration": 11,
        "start_time": "2022-04-17T16:39:17.791Z"
      },
      {
        "duration": 13,
        "start_time": "2022-04-17T16:39:17.804Z"
      },
      {
        "duration": 171,
        "start_time": "2022-04-17T16:39:17.819Z"
      },
      {
        "duration": 123,
        "start_time": "2022-04-17T16:39:17.992Z"
      },
      {
        "duration": 76,
        "start_time": "2022-04-17T16:39:18.117Z"
      },
      {
        "duration": 10,
        "start_time": "2022-04-17T16:39:18.195Z"
      },
      {
        "duration": 133,
        "start_time": "2022-04-17T16:39:18.207Z"
      },
      {
        "duration": 86,
        "start_time": "2022-04-17T16:39:18.342Z"
      },
      {
        "duration": 4,
        "start_time": "2022-04-17T16:39:18.431Z"
      },
      {
        "duration": 73,
        "start_time": "2022-04-17T16:39:18.437Z"
      },
      {
        "duration": 52,
        "start_time": "2022-04-17T16:39:18.512Z"
      },
      {
        "duration": 52,
        "start_time": "2022-04-17T16:39:18.566Z"
      },
      {
        "duration": 67,
        "start_time": "2022-04-17T16:39:18.620Z"
      },
      {
        "duration": 44,
        "start_time": "2022-04-17T16:39:18.689Z"
      },
      {
        "duration": 8,
        "start_time": "2022-04-17T16:39:18.735Z"
      },
      {
        "duration": 37,
        "start_time": "2022-04-17T16:39:18.745Z"
      },
      {
        "duration": 178,
        "start_time": "2022-04-17T16:39:18.784Z"
      },
      {
        "duration": 61,
        "start_time": "2022-04-17T16:39:18.965Z"
      },
      {
        "duration": 5,
        "start_time": "2022-04-17T16:39:19.033Z"
      },
      {
        "duration": 7,
        "start_time": "2022-04-17T16:39:19.041Z"
      },
      {
        "duration": 68,
        "start_time": "2022-04-17T16:39:19.051Z"
      },
      {
        "duration": 10,
        "start_time": "2022-04-17T16:39:19.121Z"
      },
      {
        "duration": 15,
        "start_time": "2022-04-17T16:39:19.133Z"
      },
      {
        "duration": 47,
        "start_time": "2022-04-17T16:39:19.151Z"
      },
      {
        "duration": 25,
        "start_time": "2022-04-17T16:39:19.200Z"
      },
      {
        "duration": 9,
        "start_time": "2022-04-17T16:39:19.227Z"
      },
      {
        "duration": 48,
        "start_time": "2022-04-17T16:39:19.238Z"
      },
      {
        "duration": 18,
        "start_time": "2022-04-17T16:39:19.288Z"
      },
      {
        "duration": 19,
        "start_time": "2022-04-17T16:39:19.307Z"
      },
      {
        "duration": 365,
        "start_time": "2022-04-17T16:39:19.328Z"
      },
      {
        "duration": 309,
        "start_time": "2022-04-17T16:39:19.695Z"
      },
      {
        "duration": 305,
        "start_time": "2022-04-17T16:39:20.007Z"
      },
      {
        "duration": 299,
        "start_time": "2022-04-17T16:39:20.314Z"
      },
      {
        "duration": 275,
        "start_time": "2022-04-17T16:39:20.616Z"
      },
      {
        "duration": 260,
        "start_time": "2022-04-17T16:39:20.894Z"
      },
      {
        "duration": 283,
        "start_time": "2022-04-17T16:39:21.156Z"
      },
      {
        "duration": 325,
        "start_time": "2022-04-17T16:39:21.442Z"
      },
      {
        "duration": 311,
        "start_time": "2022-04-17T16:39:21.770Z"
      },
      {
        "duration": 7,
        "start_time": "2022-04-17T16:39:22.084Z"
      },
      {
        "duration": 13,
        "start_time": "2022-04-17T16:39:22.093Z"
      },
      {
        "duration": 26,
        "start_time": "2022-04-17T16:39:22.108Z"
      },
      {
        "duration": 6,
        "start_time": "2022-04-17T16:39:22.136Z"
      },
      {
        "duration": 67,
        "start_time": "2022-04-17T16:39:22.145Z"
      },
      {
        "duration": 6,
        "start_time": "2022-04-17T16:39:22.214Z"
      },
      {
        "duration": 7,
        "start_time": "2022-04-17T16:39:22.222Z"
      },
      {
        "duration": 4689,
        "start_time": "2022-04-17T16:41:18.604Z"
      },
      {
        "duration": 519,
        "start_time": "2022-04-17T16:42:47.231Z"
      }
    ],
    "kernelspec": {
      "display_name": "Python 3 (ipykernel)",
      "language": "python",
      "name": "python3"
    },
    "language_info": {
      "codemirror_mode": {
        "name": "ipython",
        "version": 3
      },
      "file_extension": ".py",
      "mimetype": "text/x-python",
      "name": "python",
      "nbconvert_exporter": "python",
      "pygments_lexer": "ipython3",
      "version": "3.9.5"
    },
    "toc": {
      "base_numbering": 1,
      "nav_menu": {},
      "number_sections": true,
      "sideBar": true,
      "skip_h1_title": true,
      "title_cell": "Table of Contents",
      "title_sidebar": "Contents",
      "toc_cell": false,
      "toc_position": {
        "height": "calc(100% - 180px)",
        "left": "10px",
        "top": "150px",
        "width": "366.391px"
      },
      "toc_section_display": true,
      "toc_window_display": true
    },
    "colab": {
      "name": "stats.ipynb",
      "provenance": [],
      "collapsed_sections": []
    }
  },
  "nbformat": 4,
  "nbformat_minor": 0
}